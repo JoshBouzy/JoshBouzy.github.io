{
 "cells": [
  {
   "cell_type": "markdown",
   "id": "1331faa1",
   "metadata": {},
   "source": [
    "Ou ka kòmande vèsyon enprime ak ebook nan * Think Python 3e * sou\n",
    "[Bookshop.org](https://bookshop.org/a/98697/9781098155438) ak\n",
    "[Amazon](https://www.amazon.com/_/dp/1098155432?smid=ATVPDKIKX0DER&_encoding=UTF8&tag=oreilly20-20&_encoding=UTF8&tag=greenteapre01-20&linkCode=ur2&linkId=e2a529f94920295d27ec8a06e757dc7c&camp=1789&creative=9325)."
   ]
  },
  {
   "cell_type": "code",
   "execution_count": null,
   "id": "1a0a6ff4",
   "metadata": {
    "tags": []
   },
   "outputs": [],
   "source": [
    "from os.path import basename, exists\n",
    "\n",
    "def download(url):\n",
    "    filename = basename(url)\n",
    "    if not exists(filename):\n",
    "        from urllib.request import urlretrieve\n",
    "\n",
    "        local, _ = urlretrieve(url, filename)\n",
    "        print(\"Downloaded \" + str(local))\n",
    "    return filename\n",
    "\n",
    "download('https://github.com/AllenDowney/ThinkPython/raw/v3/thinkpython.py');\n",
    "download('https://github.com/AllenDowney/ThinkPython/raw/v3/diagram.py');\n",
    "\n",
    "import thinkpython"
   ]
  },
  {
   "cell_type": "markdown",
   "id": "d0286422",
   "metadata": {},
   "source": [
    "# Varyab ak Deklarasyon\n",
    "\n",
    "Nan chapit anvan an, nou te itilize operatè pou ekri ekspresyon ki fè kalkil aritmetik.\n",
    "\n",
    "Nan chapit sa a, w ap aprann sou varyab ak deklarasyon, deklarasyon `import`, ak fonksyon `print`. \n",
    "M ap prezante tou plis vokabilè nou itilize pou pale de pwogram, tankou \"agiman\" ak \"modil.\""
   ]
  },
  {
   "cell_type": "markdown",
   "id": "4ac44f0c",
   "metadata": {},
   "source": [
    "## Varyab\n",
    "\n",
    "Yon **varyab** se yon non ki reprezante yon valè. Pou kreye yon varyab, nou ka ekri yon **deklarasyon asiyasyon** konsa:"
   ]
  },
  {
   "cell_type": "code",
   "execution_count": null,
   "id": "59f6db42",
   "metadata": {},
   "outputs": [],
   "source": [
    "n = 17"
   ]
  },
  {
   "cell_type": "markdown",
   "id": "52f187f1",
   "metadata": {},
   "source": [
    "Yon deklarasyon asiyasyon gen twa pati: non varyab la sou bò gòch la, operatè egal, `=`, ak yon ekspresyon sou bò dwat la. \n",
    "Nan egzanp sa a, ekspresyon an se yon nimewo antye. \n",
    "Nan egzanp ki vin apre a, ekspresyon an se yon nimewo k ap flote:"
   ]
  },
  {
   "cell_type": "code",
   "execution_count": null,
   "id": "1301f6af",
   "metadata": {},
   "outputs": [],
   "source": [
    "pi = 3.141592653589793"
   ]
  },
  {
   "cell_type": "markdown",
   "id": "3e27e65c",
   "metadata": {},
   "source": [
    "Epi nan egzanp ki vin apre a, ekspresyon an se yon fisèl:"
   ]
  },
  {
   "cell_type": "code",
   "execution_count": null,
   "id": "f7adb732",
   "metadata": {},
   "outputs": [],
   "source": [
    "mesaj = 'Epi kounya pou yon bagay konplètman diferan'"
   ]
  },
  {
   "cell_type": "markdown",
   "id": "cb5916ea",
   "metadata": {},
   "source": [
    "Lè w kouri yon deklarasyon asiyasyon, pa gen okenn pwodiksyon. Python kreye varyab la epi li bay li yon valè, men deklarasyon asiyasyon an pa gen okenn efè vizib. Sepandan, apre ou fin kreye yon varyab, ou ka itilize li kòm yon ekspresyon. Konsa nou ka montre valè `mesaj` konsa:"
   ]
  },
  {
   "cell_type": "code",
   "execution_count": null,
   "id": "6bcc0a66",
   "metadata": {},
   "outputs": [],
   "source": [
    "mesaj"
   ]
  },
  {
   "cell_type": "markdown",
   "id": "e3fd81de",
   "metadata": {},
   "source": [
    "Ou kapab itilize tou yon varyab kòm yon pati nan yon ekspresyon avèk operatè aritmetik:"
   ]
  },
  {
   "cell_type": "code",
   "execution_count": null,
   "id": "3f11f497",
   "metadata": {},
   "outputs": [],
   "source": [
    "n + 25"
   ]
  },
  {
   "cell_type": "code",
   "execution_count": null,
   "id": "6b2dafea",
   "metadata": {},
   "outputs": [],
   "source": [
    "2 * pi"
   ]
  },
  {
   "cell_type": "markdown",
   "id": "97396e7d",
   "metadata": {},
   "source": [
    "And you can use a variable when you call a function.\n",
    "\n",
    ".\n",
    "\n",
    "Epi ou ka itilize yon varyab lè w ap rele yon fonksyon:"
   ]
  },
  {
   "cell_type": "code",
   "execution_count": null,
   "id": "72c45ac5",
   "metadata": {},
   "outputs": [],
   "source": [
    "round(pi)"
   ]
  },
  {
   "cell_type": "code",
   "execution_count": null,
   "id": "6bf81c52",
   "metadata": {},
   "outputs": [],
   "source": [
    "len(mesaj)"
   ]
  },
  {
   "cell_type": "markdown",
   "id": "397d9da3",
   "metadata": {},
   "source": [
    "## Dyagram Eta\n",
    "\n",
    "Yon fason komen pou reprezante varyab sou papye se pou ekri non an avèk yon flèch ki montre valè li."
   ]
  },
  {
   "cell_type": "code",
   "execution_count": null,
   "id": "2c25e84e",
   "metadata": {
    "tags": []
   },
   "outputs": [],
   "source": [
    "import math\n",
    "\n",
    "from diagram import make_binding, Frame\n",
    "\n",
    "binding = make_binding(\"mesaj\", 'Epi kounya pou yon bagay konplètman diferan')\n",
    "binding2 = make_binding(\"n\", 17)\n",
    "binding3 = make_binding(\"pi\", 3.141592653589793)\n",
    "\n",
    "frame = Frame([binding2, binding3, binding])"
   ]
  },
  {
   "cell_type": "code",
   "execution_count": null,
   "id": "5b27a635",
   "metadata": {
    "tags": []
   },
   "outputs": [],
   "source": [
    "from diagram import diagram, adjust\n",
    "\n",
    "\n",
    "width, height, x, y = [3.62, 1.01, 0.6, 0.76]\n",
    "ax = diagram(width, height)\n",
    "bbox = frame.draw(ax, x, y, dy=-0.25)\n",
    "# adjust(x, y, bbox)"
   ]
  },
  {
   "cell_type": "markdown",
   "id": "6f40da93",
   "metadata": {},
   "source": [
    "Kalite figi sa yo rele yon **dyagram eta** paske yo montre nan ki eta chak varyab ye (panse a li tankou eta panse varyab la). Nou pral itilize dyagram eta atravè tout liv la pou reprezante yon modèl de fason Python estoke varyab ak valè yo."
   ]
  },
  {
   "cell_type": "markdown",
   "id": "ba252c85",
   "metadata": {},
   "source": [
    "## Non Varyab\n",
    "\n",
    "Non varyab yo ka long otan ou vle. Yo ka gen lèt ak chif, men yo pa ka kòmanse ak yon chif. \n",
    "Li legal pou itilize lèt majiskil, men li se yon konvansyon pou itilize sèlman lèt miniskil pou non varyab yo.\n",
    "\n",
    "Sèl ponktiyasyon ki ka parèt nan yon non varyab se karaktè anba liy lan, `_`. Yo souvan itilize li nan non ki gen plizyè mo, tankou `non_ou` oswa `vites_yon_wazo_san_chaj`.\n",
    "\n",
    "Si ou bay yon varyab yon non ilegal, w ap jwenn yon erè sentaks. \n",
    "Non `million!` ilegal paske li gen ponktiyasyon."
   ]
  },
  {
   "cell_type": "code",
   "execution_count": null,
   "id": "ac2620ef",
   "metadata": {
    "tags": []
   },
   "outputs": [],
   "source": [
    "%%expect SyntaxError\n",
    "\n",
    "million! = 1000000"
   ]
  },
  {
   "cell_type": "markdown",
   "id": "a1cefe3e",
   "metadata": {},
   "source": [
    "`76trombones` ilegal paske li kòmanse ak yon chif."
   ]
  },
  {
   "cell_type": "code",
   "execution_count": null,
   "id": "1a8b8382",
   "metadata": {
    "tags": []
   },
   "outputs": [],
   "source": [
    "%%expect SyntaxError\n",
    "\n",
    "76trombones = 'gwo parad'"
   ]
  },
  {
   "cell_type": "markdown",
   "id": "94aa7e60",
   "metadata": {},
   "source": [
    "`class` tou ilegal, men sa ka pa klè poukisa."
   ]
  },
  {
   "cell_type": "code",
   "execution_count": null,
   "id": "b6938851",
   "metadata": {
    "tags": []
   },
   "outputs": [],
   "source": [
    "%%expect SyntaxError\n",
    "\n",
    "class = 'Defans Kont Fwi Fre'"
   ]
  },
  {
   "cell_type": "markdown",
   "id": "784cfb5c",
   "metadata": {},
   "source": [
    "Li vin klè ke `class` se yon **mo kle**, ki se yon mo espesyal ki itilize pou presize estrikti yon pwogram. \n",
    "Mo kle yo pa ka itilize kòm non varyab.\n",
    "\n",
    "Men yon lis konplè mo kle Python yo:"
   ]
  },
  {
   "cell_type": "markdown",
   "id": "127c07e8",
   "metadata": {},
   "source": [
    "```\n",
    "False      await      else       import     pass\n",
    "None       break      except     in         raise\n",
    "True       class      finally    is         return\n",
    "and        continue   for        lambda     try\n",
    "as         def        from       nonlocal   while\n",
    "assert     del        global     not        with\n",
    "async      elif       if         or         yield\n",
    "```"
   ]
  },
  {
   "cell_type": "code",
   "execution_count": null,
   "id": "4a8f4b3e",
   "metadata": {
    "tags": []
   },
   "outputs": [],
   "source": [
    "from keyword import kwlist\n",
    "\n",
    "len(kwlist)"
   ]
  },
  {
   "cell_type": "markdown",
   "id": "6f14d301",
   "metadata": {},
   "source": [
    "Ou pa bezwen memorize lis sa a. Nan pifò anviwònman devlopman yo, mo kle yo montre ak yon koulè diferan; si ou eseye itilize youn kòm non varyab, ou pral konnen."
   ]
  },
  {
   "cell_type": "markdown",
   "id": "c954a3b0",
   "metadata": {},
   "source": [
    "## Deklarasyon import\n",
    "\n",
    "Pou ou ka itilize kèk karakteristik Python, ou dwe **enpòte** yo. \n",
    "Pa egzanp, deklarasyon sa a enpòte modil `math` la."
   ]
  },
  {
   "cell_type": "code",
   "execution_count": null,
   "id": "98c268e9",
   "metadata": {},
   "outputs": [],
   "source": [
    "import math"
   ]
  },
  {
   "cell_type": "markdown",
   "id": "ea4f75ec",
   "metadata": {},
   "source": [
    "Yon **modil** se yon koleksyon varyab ak fonksyon. \n",
    "Modil `math` la bay yon varyab ki rele `pi` ki gen valè konstan matematik ki reprezante $\\pi$. Nou ka montre valè li konsa."
   ]
  },
  {
   "cell_type": "code",
   "execution_count": null,
   "id": "47bc17c9",
   "metadata": {},
   "outputs": [],
   "source": [
    "math.pi"
   ]
  },
  {
   "cell_type": "markdown",
   "id": "c96106e4",
   "metadata": {},
   "source": [
    "Pou itilize yon varyab nan yon modil, ou dwe itilize **operatè pwen** (`.`) ant non modil la ak non varyab la.\n",
    "\n",
    "Modil math la gen fonksyon tou. \n",
    "Pa egzanp, `sqrt` kalkile rasin kare."
   ]
  },
  {
   "cell_type": "code",
   "execution_count": null,
   "id": "fd1cec63",
   "metadata": {},
   "outputs": [],
   "source": [
    "math.sqrt(25)"
   ]
  },
  {
   "cell_type": "markdown",
   "id": "185e94a3",
   "metadata": {},
   "source": [
    "Epi `pow` ogmante yon nimewo nan pouvwa yon lòt nimewo."
   ]
  },
  {
   "cell_type": "code",
   "execution_count": null,
   "id": "87316ddd",
   "metadata": {},
   "outputs": [],
   "source": [
    "math.pow(5, 2)"
   ]
  },
  {
   "cell_type": "markdown",
   "id": "5df25a9a",
   "metadata": {},
   "source": [
    "Nan pwen sa a, nou wè de fason pou ogmante yon nimewo nan yon pouvwa: nou ka itilize fonksyon `math.pow` oswa operatè eksponansyasyon an, `**`. \n",
    "Yo tou de apwopriye, men operatè a pi souvan itilize pase fonksyon an."
   ]
  },
  {
   "cell_type": "markdown",
   "id": "6538f22b",
   "metadata": {},
   "source": [
    "## Ekspresyon ak deklarasyon\n",
    "\n",
    "Jiskaprezan, nou wè kèk kalite ekspresyon.\n",
    "Yon ekspresyon ka yon valè sèl, tankou yon nimewo antye, yon nimewo k ap flote, oswa yon fisèl.\n",
    "Li ka tou yon koleksyon valè ak operatè.\n",
    "Epi li ka gen ladan non varyab ak apèl fonksyon.\n",
    " Men yon ekspresyon ki gen plizyè nan eleman sa yo."
   ]
  },
  {
   "cell_type": "code",
   "execution_count": null,
   "id": "7f0b92df",
   "metadata": {},
   "outputs": [],
   "source": [
    "19 + n + round(math.pi) * 2"
   ]
  },
  {
   "cell_type": "markdown",
   "id": "000dd2ba",
   "metadata": {},
   "source": [
    "Nou te wè tou kèk kalite deklarasyon. \n",
    "Yon **deklarasyon** se yon inite kòd ki gen yon efè, men ki pa gen okenn valè. \n",
    "Pa egzanp, yon deklarasyon asiyasyon kreye yon varyab epi bay li yon valè, men deklarasyon an menm pa gen okenn valè."
   ]
  },
  {
   "cell_type": "code",
   "execution_count": null,
   "id": "b882c340",
   "metadata": {},
   "outputs": [],
   "source": [
    "n = 17"
   ]
  },
  {
   "cell_type": "markdown",
   "id": "cff0414b",
   "metadata": {},
   "source": [
    "Menm jan an tou, yon deklarasyon enpòte gen yon efè -- li enpòte yon modil pou nou ka itilize varyab ak fonksyon ki ladan li - men li pa gen okenn efè vizib.        "
   ]
  },
  {
   "cell_type": "code",
   "execution_count": null,
   "id": "299817d8",
   "metadata": {},
   "outputs": [],
   "source": [
    "import math"
   ]
  },
  {
   "cell_type": "markdown",
   "id": "2aeb1000",
   "metadata": {},
   "source": [
    "Kalkile valè yon ekspresyon rele **evalyasyon**. \n",
    "Egzekite yon deklarasyon rele **egzekisyon**."
   ]
  },
  {
   "cell_type": "markdown",
   "id": "f61601e4",
   "metadata": {},
   "source": [
    "## Fonksyon print la\n",
    "\n",
    "Lè ou evalye yon ekspresyon, rezilta a parèt."
   ]
  },
  {
   "cell_type": "code",
   "execution_count": null,
   "id": "805977c6",
   "metadata": {},
   "outputs": [],
   "source": [
    "n + 1"
   ]
  },
  {
   "cell_type": "markdown",
   "id": "efacf0fa",
   "metadata": {},
   "source": [
    "Men, si ou evalye plis pase yon ekspresyon, sèlman valè dènye a ki ap parèt."
   ]
  },
  {
   "cell_type": "code",
   "execution_count": null,
   "id": "962e08ab",
   "metadata": {},
   "outputs": [],
   "source": [
    "n + 2\n",
    "n + 3"
   ]
  },
  {
   "cell_type": "markdown",
   "id": "cf2b991d",
   "metadata": {},
   "source": [
    "Pou montre plis pase yon valè, ou ka itilize fonksyon `print`."
   ]
  },
  {
   "cell_type": "code",
   "execution_count": null,
   "id": "a797e44d",
   "metadata": {},
   "outputs": [],
   "source": [
    "print(n+2)\n",
    "print(n+3)"
   ]
  },
  {
   "cell_type": "markdown",
   "id": "29af1f89",
   "metadata": {},
   "source": [
    "Li fonksyone tou ak nimewo k ap flote ak fisèl."
   ]
  },
  {
   "cell_type": "code",
   "execution_count": null,
   "id": "73428520",
   "metadata": {},
   "outputs": [],
   "source": [
    "print('Valè pi a se apeprè')\n",
    "print(math.pi)"
   ]
  },
  {
   "cell_type": "markdown",
   "id": "8b4d7f4a",
   "metadata": {},
   "source": [
    "Ou ka itilize tou yon sekans ekspresyon separe pa vigil."
   ]
  },
  {
   "cell_type": "code",
   "execution_count": null,
   "id": "9ad5bddd",
   "metadata": {},
   "outputs": [],
   "source": [
    "print('Valè pi a se apeprè', math.pi)"
   ]
  },
  {
   "cell_type": "markdown",
   "id": "af447ec4",
   "metadata": {},
   "source": [
    "Remake ke fonksyon `print` mete yon espas ant valè yo."
   ]
  },
  {
   "cell_type": "markdown",
   "id": "7c73a2fa",
   "metadata": {},
   "source": [
    "## Agiman\n",
    "\n",
    "Lè ou rele yon fonksyon, ekspresyon an nan parantèz yo rele yon **agiman**. \n",
    "Nòmalman mwen ta eksplike poukisa, men nan ka sa a, siyifikasyon teknik yon tèm prèske pa gen okenn rapò ak siyifikasyon komen mo a, kidonk mwen pap eseye eksplike li.\n",
    "\n",
    "Gen kèk fonksyon nou te wè ki pran sèlman yon agiman, tankou `int`."
   ]
  },
  {
   "cell_type": "code",
   "execution_count": null,
   "id": "060c60cf",
   "metadata": {},
   "outputs": [],
   "source": [
    "int('101')"
   ]
  },
  {
   "cell_type": "markdown",
   "id": "c4ad4f2c",
   "metadata": {},
   "source": [
    "Gen kèk ki pran de agiman, tankou `math.pow`."
   ]
  },
  {
   "cell_type": "code",
   "execution_count": null,
   "id": "2875d9e0",
   "metadata": {},
   "outputs": [],
   "source": [
    "math.pow(5, 2)"
   ]
  },
  {
   "cell_type": "markdown",
   "id": "17293749",
   "metadata": {},
   "source": [
    "Gen kèk ki ka pran agiman siplemantè ki se opsyonèl. Pa egzanp, `int` ka pran yon dezyèm agiman ki endike baz nimewo a."
   ]
  },
  {
   "cell_type": "code",
   "execution_count": null,
   "id": "43b9cf38",
   "metadata": {},
   "outputs": [],
   "source": [
    "int('101', 2)"
   ]
  },
  {
   "cell_type": "markdown",
   "id": "c95589a1",
   "metadata": {},
   "source": [
    "Sekans chif `101` nan baz 2 reprezante nimewo 5 nan baz 10.\n",
    "\n",
    "`round` pran tou yon dezyèm agiman opsyonèl, ki se kantite chif desimal pou awondi."
   ]
  },
  {
   "cell_type": "code",
   "execution_count": null,
   "id": "e8a21d05",
   "metadata": {},
   "outputs": [],
   "source": [
    "round(math.pi, 3)"
   ]
  },
  {
   "cell_type": "markdown",
   "id": "21e4a448",
   "metadata": {},
   "source": [
    "Gen kèk fonksyon ki ka pran nenpòt kantite agiman, tankou `print`."
   ]
  },
  {
   "cell_type": "code",
   "execution_count": null,
   "id": "724128f4",
   "metadata": {},
   "outputs": [],
   "source": [
    "print('Nenpòt', 'kantite', 'agiman')"
   ]
  },
  {
   "cell_type": "markdown",
   "id": "667cff14",
   "metadata": {},
   "source": [
    "Si ou rele yon fonksyon epi ou bay twòp agiman, sa se yon `TypeError`."
   ]
  },
  {
   "cell_type": "code",
   "execution_count": null,
   "id": "69295e52",
   "metadata": {
    "tags": []
   },
   "outputs": [],
   "source": [
    "%%expect TypeError\n",
    "\n",
    "float('123.0', 2)"
   ]
  },
  {
   "cell_type": "markdown",
   "id": "5103368e",
   "metadata": {},
   "source": [
    "Si ou bay twò kèk agiman, sa se tou yon `TypeError`."
   ]
  },
  {
   "cell_type": "code",
   "execution_count": null,
   "id": "edec7064",
   "metadata": {
    "tags": []
   },
   "outputs": [],
   "source": [
    "%%expect TypeError\n",
    "\n",
    "math.pow(2)"
   ]
  },
  {
   "cell_type": "markdown",
   "id": "5333c416",
   "metadata": {},
   "source": [
    "Epi si ou bay yon agiman ak yon tip ke fonksyon an pa ka jere, sa se yon `TypeError` tou."
   ]
  },
  {
   "cell_type": "code",
   "execution_count": null,
   "id": "f86b2896",
   "metadata": {
    "tags": []
   },
   "outputs": [],
   "source": [
    "%%expect TypeError\n",
    "\n",
    "math.sqrt('123')"
   ]
  },
  {
   "cell_type": "markdown",
   "id": "548828af",
   "metadata": {},
   "source": [
    "Kalite chèk sa yo ka annuyant lè ou fèk kòmanse, men li ede w detekte ak korije erè yo."
   ]
  },
  {
   "cell_type": "markdown",
   "id": "be2b6a9b",
   "metadata": {},
   "source": [
    "## Kòmantè\n",
    "\n",
    "Lè pwogram yo vin pi gwo epi pi konplike, yo vin pi difisil pou li. \n",
    "Lang fòmèl yo se dans, epi souvan difisil pou gade yon moso kòd epi konprann sa li ap fè ak poukisa.\n",
    "\n",
    "Pou rezon sa a, li bon pou ajoute nòt nan pwogram ou pou eksplike nan lang natirèl sa pwogram nan ap fè. \n",
    "Nòt sa yo rele **kòmantè**, epi yo kòmanse ak senbòl `#`."
   ]
  },
  {
   "cell_type": "code",
   "execution_count": null,
   "id": "607893a6",
   "metadata": {},
   "outputs": [],
   "source": [
    "# nimewo de segond nan 42:42\n",
    "seconds = 42 * 60 + 42"
   ]
  },
  {
   "cell_type": "markdown",
   "id": "519c83a9",
   "metadata": {},
   "source": [
    "Nan ka sa a, kòmantè a parèt sou yon liy poukont li. Ou ka mete kòmantè tou nan fen yon liy:"
   ]
  },
  {
   "cell_type": "code",
   "execution_count": null,
   "id": "615a11e7",
   "metadata": {},
   "outputs": [],
   "source": [
    "miles = 10 / 1.61     # 10 kilomèt an milye"
   ]
  },
  {
   "cell_type": "markdown",
   "id": "87c8d10c",
   "metadata": {},
   "source": [
    "Tout bagay soti nan `#` rive nan fen liy lan inyore---li pa gen okenn efè sou ekzekisyon pwogram nan.\n",
    "\n",
    "Kòmantè yo pi itil lè yo dokimante karakteristik kòd ki pa evidan.  \n",
    "Li rezonab pou sipoze lektè a ka konprann *sa* kòd la fè; men li pi itil pou eksplike *poukisa*.\n",
    "\n",
    "Kòmantè sa a redondan ak kòd la epi li initil:"
   ]
  },
  {
   "cell_type": "code",
   "execution_count": null,
   "id": "cc7fe2e6",
   "metadata": {},
   "outputs": [],
   "source": [
    "v = 8     # asiyen 8 bay v"
   ]
  },
  {
   "cell_type": "markdown",
   "id": "eb83b14a",
   "metadata": {},
   "source": [
    "Kòmantè sa a genyen enfòmasyon itil ki pa nan kòd la:"
   ]
  },
  {
   "cell_type": "code",
   "execution_count": null,
   "id": "7c93a00d",
   "metadata": {},
   "outputs": [],
   "source": [
    "v = 8     # vitès an mil pa èdtan "
   ]
  },
  {
   "cell_type": "markdown",
   "id": "6cd60d4f",
   "metadata": {},
   "source": [
    "Bon non varyab ka diminye bezwen pou kòmantè, men non ki long ka fè ekspresyon konplike difisil pou li, kidonk gen yon konpwomi."
   ]
  },
  {
   "cell_type": "markdown",
   "id": "7d61e416",
   "metadata": {},
   "source": [
    "# Debogaj\n",
    "\n",
    "Twa kalite erè ka parèt nan yon pwogram: erè sentaks, erè tan-ekzekisyon, ak erè semantik. Li itil pou fè diferans ant yo pou ou ka rezoud yo pi vit.\n",
    "\n",
    "* **Erè sentaks**: \"Sentaks\" refere a estrikti yon pwogram ak règleman sou estrikti sa a. Si gen yon erè sentaks nenpòt kote nan pwogram ou, Python pa kouri pwogram nan. Li montre yon mesaj erè imedyatman.\n",
    "\n",
    "* **Erè tan-ekzekisyon**: Si pa gen okenn erè sentaks nan pwogram ou, li ka kòmanse kouri. Men si yon bagay ale mal, Python montre yon mesaj erè epi sispann. Kalite erè sa a rele yon erè tan-ekzekisyon. Yo rele li tou yon **eksepsyon** paske li endike ke yon bagay ekstraòdinè rive.\n",
    "\n",
    "* **Erè semantik**: Twazyèm kalite erè a se \"semantik\", ki vle di li gen rapò ak siyifikasyon. Si gen yon erè semantik nan pwogram ou, li kouri san yo pa pwodui mesaj erè, men li pa fè sa ou te entansyon fè. Idantifye erè semantik yo ka difisil paske li mande pou ou travay bak nan gade pwodiksyon pwogram nan epi eseye konprann sa li ap fè.\n",
    "\n"
   ]
  },
  {
   "cell_type": "markdown",
   "id": "6cd52721",
   "metadata": {},
   "source": [
    "Kòm nou te wè, yon non varyab ilegal se yon erè sentaks."
   ]
  },
  {
   "cell_type": "code",
   "execution_count": null,
   "id": "86f07f6e",
   "metadata": {
    "tags": []
   },
   "outputs": [],
   "source": [
    "%%expect SyntaxError\n",
    "\n",
    "million! = 1000000"
   ]
  },
  {
   "cell_type": "markdown",
   "id": "b8971d33",
   "metadata": {},
   "source": [
    "Si ou itilize yon operatè ak yon tip ke li pa sipòte, sa se yon erè tan-ekzekisyon."
   ]
  },
  {
   "cell_type": "code",
   "execution_count": null,
   "id": "682395ea",
   "metadata": {
    "tags": []
   },
   "outputs": [],
   "source": [
    "%%expect TypeError\n",
    "\n",
    "'126' / 3"
   ]
  },
  {
   "cell_type": "markdown",
   "id": "e51fa6e2",
   "metadata": {},
   "source": [
    "Finalman, men yon egzanp yon erè semantik. Ann sipoze nou vle kalkile mwayèn 1 ak 3, men nou bliye lòd operasyon an epi nou ekri sa:"
   ]
  },
  {
   "cell_type": "code",
   "execution_count": null,
   "id": "2ff25bda",
   "metadata": {},
   "outputs": [],
   "source": [
    "1 + 3 / 2"
   ]
  },
  {
   "cell_type": "markdown",
   "id": "0828afc0",
   "metadata": {},
   "source": [
    "Lè ekspresyon sa a evalye, li pa pwodui yon mesaj erè, kidonk pa gen okenn erè sentaks oswa erè tan-ekzekisyon. \n",
    "Men rezilta a se pa mwayèn `1` ak `3`, kidonk pwogram nan pa kòrèk. \n",
    "Sa a se yon erè semantik paske pwogram nan kouri men li pa fè sa ki te entansyon."
   ]
  },
  {
   "cell_type": "markdown",
   "id": "07396f3d",
   "metadata": {},
   "source": [
    "## Glosè\n",
    "\n",
    "**varyab:**\n",
    "Yon non ki refere a yon valè.\n",
    "\n",
    "**deklarasyon afeksyon:**\n",
    "Yon deklarasyon ki afekte yon valè nan yon varyab.\n",
    "\n",
    "**dyagram eta:**\n",
    "Yon reprezantasyon grafik de yon seri varyab ak valè yo refere a yo.\n",
    "\n",
    "**mo kle:**\n",
    "Yon mo espesyal ki itilize pou presize estrikti yon pwogram.\n",
    "\n",
    "**deklarasyon import:**\n",
    "Yon deklarasyon ki li yon fichye modil pou nou ka itilize varyab ak fonksyon li genyen yo.\n",
    "\n",
    "**modil:**\n",
    "Yon fichye ki gen kòd Python, ki ka gen definisyon fonksyon ak pafwa lòt deklarasyon.\n",
    "\n",
    "**operatè pwen:**\n",
    "Operatè a, `.` (pwen), ki itilize pou jwenn aksè a yon fonksyon nan yon lòt modil lè ou presize non modil la, ki swiv pa yon pwen ak non fonksyon an.\n",
    "\n",
    "**evalye:**\n",
    "Fè operasyon yo nan yon ekspresyon pou kalkile yon valè.\n",
    "\n",
    "**deklarasyon:**\n",
    "Youn oswa plis liy kòd ki reprezante yon kòmand oswa aksyon.\n",
    "\n",
    "**egzekite:**\n",
    "Kouri yon deklarasyon epi fè sa li di.\n",
    "\n",
    "**agiman:**\n",
    "Yon valè yo bay yon fonksyon lè yo rele fonksyon an.\n",
    "\n",
    "**komantè:**\n",
    "Tèks ki enkli nan yon pwagram pou bay enfòmasyon sou pwogram nan men ki pa gen okenn efè sou ekzekisyon an.\n",
    "\n",
    "**erè ekzekisyon:**\n",
    "Yon erè ki lakòz yon pwogram montre yon mesaj erè epi fèmen.\n",
    "\n",
    "**eksepsyon:**\n",
    "Yon erè ki detekte pandan pwogram nan ap kouri.\n",
    "\n",
    "**erè semantik:**\n",
    "Yon erè ki fè yon pwogram fè yon bagay ki pa kòrèk, men san li pa montre yon mesaj erè."
   ]
  },
  {
   "cell_type": "markdown",
   "id": "58e61469",
   "metadata": {},
   "source": [
    "## Egzèsis"
   ]
  },
  {
   "cell_type": "code",
   "execution_count": null,
   "id": "1dfcfd3e",
   "metadata": {},
   "outputs": [],
   "source": [
    "# Selil sa a di Jupyter pou bay enfòmasyon detaye sou debogaj lè gen yon erè pandan ekzekisyon. \n",
    "# Kouri li anvan ou travay sou egzèsis yo.\n",
    "\n",
    "%xmode Verbose"
   ]
  },
  {
   "cell_type": "markdown",
   "id": "7256a9b2",
   "metadata": {},
   "source": [
    "### Mande yon asistan vityèl\n",
    "\n",
    "Ankò, mwen ankouraje w itilize yon asistan vityèl pou aprann plis sou nenpòt nan sijè nan chapit sa a.\n",
    "\n",
    "Si ou kirye sou nenpòt nan mokle mwen te site, ou ka mande \"Poukisa 'class' se yon mo kle?\" oswa \"Poukisa non varyab pa ka mo rezève?\"\n",
    "\n",
    "Ou ka remake ke `int`, `float`, ak `str` pa mo kle Python. Yo se varyab ki reprezante tip, e yo ka itilize kòm fonksyon. Donk li legal pou gen yon varyab oswa fonksyon ak youn nan non sa yo, men li dekouraje anpil. Mande yon asistan \"Poukisa li pa bon itilize int, float, ak str kòm non varyab?\"\n",
    "\n",
    "Tou mande, \"Ki fonksyon ki bati nan Python?\" Si ou kirye sou nenpòt nan yo, mande plis enfòmasyon.\n",
    "\n",
    "Nan chapit sa a nou te enpòte modil `math` la epi itilize kèk nan varyab ak fonksyon li genyen yo. Mande yon asistan, \"Ki varyab ak fonksyon ki nan modil math?\" epi \"Anplis math, ki modil Python konsidere kòm modil debaz?\""
   ]
  },
  {
   "cell_type": "markdown",
   "id": "f92afde0",
   "metadata": {},
   "source": [
    "### Egzèsis\n",
    "\n",
    "Mwen ap raple konsèy mwen nan chapit anvan an, chak fwa ou aprann yon karakteristik nouvo, ou ta dwe fè erè entansyonèlman pou wè sa ki pase.\n",
    "\n",
    "- Nou te wè ke `n = 17` se legal. E pou `17 = n`?\n",
    "\n",
    "- E kisa pou `x = y = 1`?\n",
    "\n",
    "- Nan kèk langaj, chak deklarasyon fini ak yon pwen-virgil (`;`). Kisa ki pase si ou mete yon pwen-virgil nan fen yon deklarasyon Python?\n",
    "\n",
    "- E si ou mete yon pwen nan fen yon deklarasyon?\n",
    "\n",
    "- Kisa k ap pase si ou mal ekri non yon modil epi eseye enpòte `maath`?"
   ]
  },
  {
   "cell_type": "markdown",
   "id": "9d562609",
   "metadata": {},
   "source": [
    "### Egzèsis\n",
    "Pratike itilize Python entèprèt la kòm yon kalkilatris:\n",
    "\n",
    "**Pati 1.** Volim yon esfer ak yon reyon $r$ se $\\frac{4}{3} \\pi r^3$. \n",
    "Ki volim yon esfer ki gen yon reyon 5? Kòmanse ak yon varyab ki rele `reyom` epi atribye rezilta a yon varyab ki rele `volim`. Montre rezilta a. Ajoute komantè pou endike ke `reyom` se nan santimèt epi `volim` nan santimèt kib."
   ]
  },
  {
   "cell_type": "code",
   "execution_count": null,
   "id": "18de7d96",
   "metadata": {},
   "outputs": [],
   "source": [
    "# Solisyon ale isit la"
   ]
  },
  {
   "cell_type": "markdown",
   "id": "6449b12b",
   "metadata": {},
   "source": [
    "**Pati 2.** Yon règ nan trigonometri di ke pou nenpòt valè $x$, $(\\cos x)^2 + (\\sin x)^2 = 1$. Ann wè si li vrè pou yon valè espesifik nan $x$ tankou 42.\n",
    "\n",
    "Kreye yon varyab ki rele `x` ak valè sa a. \n",
    "Epi itilize `math.cos` ak `math.sin` pou kalkile sinis ak kosin $x$ la, ak sòm kare yo.\n",
    "\n",
    "Rezilta a ta dwe prè de 1. Li pa ka egzakteman 1 paske aritmetik nimewo k ap flote pa egzak --- li jis apwoksimatif."
   ]
  },
  {
   "cell_type": "code",
   "execution_count": null,
   "id": "de812cff",
   "metadata": {},
   "outputs": [],
   "source": [
    "# Solisyon ale isit la"
   ]
  },
  {
   "cell_type": "markdown",
   "id": "4986801f",
   "metadata": {},
   "source": [
    "**Pati 3.** Anplis de `pi`, lòt varyab ki defini nan modil `math` la se `e`, ki reprezante baz logarit natirèl la, ekri nan notasyon matematik kòm $e$. Si ou pa abitye ak valè sa a, mande yon asistan vityèl \"Kisa `math.e` ye?\" Koulye a ann kalkile $e^2$ nan twa fason:\n",
    "\n",
    "* Sèvi ak `math.e` ak operatè eksponansyasyon an (`**`).\n",
    "\n",
    "* Sèvi ak `math.pow` pou ogmante `math.e` nan pouvwa `2`.\n",
    "\n",
    "* Sèvi ak `math.exp`, ki pran kòm yon agiman yon valè, $x$, epi kalkile $e^x$.\n",
    "\n",
    "Ou ka remake ke dènye rezilta a yon ti jan diferan de lòt de yo. \n",
    "Wè si ou ka chèche konnen kiyès ki kòrèk."
   ]
  },
  {
   "cell_type": "code",
   "execution_count": null,
   "id": "b4ada618",
   "metadata": {},
   "outputs": [],
   "source": [
    "# Solisyon ale isit la"
   ]
  },
  {
   "cell_type": "code",
   "execution_count": null,
   "id": "4424940f",
   "metadata": {},
   "outputs": [],
   "source": [
    "# Solisyon ale isit la"
   ]
  },
  {
   "cell_type": "code",
   "execution_count": null,
   "id": "50e8393a",
   "metadata": {},
   "outputs": [],
   "source": [
    "# Solisyon ale isit la"
   ]
  },
  {
   "cell_type": "code",
   "execution_count": null,
   "id": "91e5a869",
   "metadata": {},
   "outputs": [],
   "source": [
    "# Solisyon ale isit la"
   ]
  }
 ],
 "metadata": {
  "celltoolbar": "Tags",
  "kernelspec": {
   "display_name": "venv",
   "language": "python",
   "name": "python3"
  },
  "language_info": {
   "codemirror_mode": {
    "name": "ipython",
    "version": 3
   },
   "file_extension": ".py",
   "mimetype": "text/x-python",
   "name": "python",
   "nbconvert_exporter": "python",
   "pygments_lexer": "ipython3",
   "version": "3.10.4"
  }
 },
 "nbformat": 4,
 "nbformat_minor": 5
}
