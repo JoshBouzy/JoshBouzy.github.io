{
 "cells": [
  {
   "cell_type": "markdown",
   "id": "a577dde2",
   "metadata": {},
   "source": [
    "Ou ka kòmande vèsyon enprime ak ebook pou *Think Python 3e* soti nan\n",
    "[Bookshop.org](https://bookshop.org/a/98697/9781098155438) ak\n",
    "[Amazon](https://www.amazon.com/_/dp/1098155432?smid=ATVPDKIKX0DER&_encoding=UTF8&tag=oreilly20-20&_encoding=UTF8&tag=greenteapre01-20&linkCode=ur2&linkId=e2a529f94920295d27ec8a06e757dc7c&camp=1789&creative=9325)."
   ]
  },
  {
   "cell_type": "code",
   "execution_count": null,
   "id": "1a128379",
   "metadata": {},
   "outputs": [],
   "source": [
    "from os.path import basename, exists\n",
    "\n",
    "def download(url):\n",
    "    filename = basename(url)\n",
    "    if not exists(filename):\n",
    "        from urllib.request import urlretrieve\n",
    "\n",
    "        local, _ = urlretrieve(url, filename)\n",
    "        print(\"Telechaje \" + str(local))\n",
    "    return filename\n",
    "\n",
    "download('https://github.com/AllenDowney/ThinkPython/raw/v3/thinkpython.py');\n",
    "download('https://github.com/AllenDowney/ThinkPython/raw/v3/diagram.py');\n",
    "\n",
    "import thinkpython"
   ]
  },
  {
   "cell_type": "markdown",
   "id": "608d104a",
   "metadata": {},
   "source": [
    "Kredi: Foto yo telechaje soti nan [Lorem Picsum](https://picsum.photos/), yon sèvis ki bay imaj pou ranplasman (placeholder images).\n",
    "Non an se yon referans a \"lorem ipsum\", ki se non pou tèks ranplasman.\n"
   ]
  },
  {
   "cell_type": "code",
   "execution_count": null,
   "id": "0764b897",
   "metadata": {},
   "outputs": [],
   "source": [
    "# Selil sa a telechaje yon fichye archive ki gen fichye nou pral itilize\n",
    "# pou egzanp yo nan chapit sa a.\n",
    "\n",
    "download('https://github.com/AllenDowney/ThinkPython/raw/v3/photos.zip');"
   ]
  },
  {
   "cell_type": "code",
   "execution_count": null,
   "id": "bb9b38ff",
   "metadata": {},
   "outputs": [],
   "source": [
    "# AVISEMAN: Selil sa a retire repètwa photos/ si li egziste deja.\n",
    "# Nenpòt fichye ki te deja nan photos/ ap efase.\n",
    "\n",
    "# !rm -rf photos/"
   ]
  },
  {
   "cell_type": "code",
   "execution_count": null,
   "id": "3652507b",
   "metadata": {},
   "outputs": [],
   "source": [
    "!unzip -o photos.zip"
   ]
  },
  {
   "cell_type": "markdown",
   "id": "10381b55",
   "metadata": {},
   "source": [
    "# Fichye ak Bazdone\n",
    "\n",
    "Pifò pwogram nou te wè jiska kounye a se **efemèr**, nan sans ke yo kouri pou yon ti tan epi pwodui soti, men lè yo fini, done yo disparèt.\n",
    "Chak fwa ou kouri yon pwogram efemèr, li kòmanse ak yon tablo vid.\n",
    "\n",
    "Lòt pwogram se **peristan**: yo kouri pou lontan (oswa tout tan); yo kenbe omwen kèk done an depo alontèm; epi si yo fèmen epi rekòmanse, yo rekòmanse la kote yo te sispann.\n",
    "\n",
    "Yon fason senp pou pwogram kenbe done yo se pa li epi ekri fichye tèks.\n",
    "Yon altènativ ki pi vèsatil se kenbe done yo nan yon bazdone.\n",
    "Bazdone yo se fichye espesyalize ki ka li ak ekri pi efikasman pase fichye tèks, epi yo ofri kapasite anplis.\n",
    "\n",
    "Nan chapit sa a, nou pral ekri pwogram ki li ak ekri fichye tèks ak bazdone, epi kòm egzèsis ou pral ekri yon pwogram ki fouye yon koleksyon foto pou kopi ki menm.\n",
    "Men anvan ou ka travay ak yon fichye, ou dwe jwenn li, donk nou pral kòmanse ak non fichye, chemen (paths), ak repètwa (directories)."
   ]
  },
  {
   "cell_type": "markdown",
   "id": "299285bc",
   "metadata": {},
   "source": [
    "## Non fichye ak chemen\n",
    "\n",
    "Fichye yo òganize an **repètwa**, ki rele tou \"dossiers\".\n",
    "Chak pwogram k ap kouri gen yon **repètwa travay aktyèl** (current working directory), ki se repètwa pa defo pou pifò operasyon.\n",
    "Pa egzanp, lè ou ouvri yon fichye, Python chèche l nan repètwa travay aktyèl la.\n",
    "\n",
    "Modil `os` bay fonksyon pou travay ak fichye ak repètwa (\"os\" vle di \"operating system\").\n",
    "Li bay yon fonksyon ki rele `getcwd` ki pran non repètwa travay aktyèl la."
   ]
  },
  {
   "cell_type": "code",
   "execution_count": null,
   "id": "6d721f1f",
   "metadata": {},
   "outputs": [],
   "source": [
    "# Selil sa a ranplase `os.cwd` ak yon fonksyon ki retounen yon fo chemen\n",
    "\n",
    "import os\n",
    "\n",
    "def getcwd():\n",
    "    return \"/home/dinsdale\"\n",
    "\n",
    "os.getcwd = getcwd"
   ]
  },
  {
   "cell_type": "code",
   "execution_count": null,
   "id": "75b4720a",
   "metadata": {},
   "outputs": [],
   "source": [
    "import os\n",
    "\n",
    "os.getcwd()"
   ]
  },
  {
   "cell_type": "markdown",
   "id": "1def9d08",
   "metadata": {},
   "source": [
    "Rezilta nan egzanp sa a se repètwa lakay (home directory) yon itilizatè ki rele `dinsdale`.\n",
    "Yon chèn tankou `'/home/dinsdale'` ki idantifye yon fichye oswa repètwa rele yon **chemen** (path).\n",
    "\n",
    "Yon non fichye senp tankou `'memo.txt'` konsidere tou kòm yon chemen, men li se yon **chemen relatif** paske li presize non fichye a anrapò ak repètwa aktyèl la.\n",
    "Nan egzanp sa a, repètwa aktyèl la se `/home/dinsdale`, donk `'memo.txt'` ekivalan a chemen konplè `'/home/dinsdale/memo.txt'`.\n",
    "\n",
    "Yon chemen ki kòmanse ak `/` pa depan de repètwa aktyèl la — li rele yon **chemen absoli**.\n",
    "Pou jwenn chemen absoli yon fichye, ou ka itilize `abspath`."
   ]
  },
  {
   "cell_type": "code",
   "execution_count": null,
   "id": "1a2b7416",
   "metadata": {},
   "outputs": [],
   "source": [
    "os.path.abspath('memo.txt')"
   ]
  },
  {
   "cell_type": "markdown",
   "id": "74aecb3d",
   "metadata": {},
   "source": [
    "Modil `os` bay lòt fonksyon pou travay ak non fichye ak chemen.\n",
    "`listdir` retounen yon lis ki gen sa ki gen ladan repètwa a, enkli fichye ak lòt repètwa.\n",
    "Men yon egzanp ki montre sa ki gen ladan yon repètwa ki rele `photos`."
   ]
  },
  {
   "cell_type": "code",
   "execution_count": null,
   "id": "21b68a5c",
   "metadata": {},
   "outputs": [],
   "source": [
    "os.listdir('photos')"
   ]
  },
  {
   "cell_type": "markdown",
   "id": "b1cd9296",
   "metadata": {},
   "source": [
    "Repètwa sa a gen yon fichye tèks ki rele `notes.txt` ak twa repètwa.\n",
    "Repètwa sa yo gen fichye imaj an fòma JPEG."
   ]
  },
  {
   "cell_type": "code",
   "execution_count": null,
   "id": "276a3314",
   "metadata": {},
   "outputs": [],
   "source": [
    "os.listdir('photos/jan-2023')"
   ]
  },
  {
   "cell_type": "markdown",
   "id": "c8832e7c",
   "metadata": {},
   "source": [
    "Pou tcheke si yon fichye oswa repètwa egziste, nou ka itilize `os.path.exists`."
   ]
  },
  {
   "cell_type": "code",
   "execution_count": null,
   "id": "1f62fba6",
   "metadata": {},
   "outputs": [],
   "source": [
    "os.path.exists('photos')"
   ]
  },
  {
   "cell_type": "code",
   "execution_count": null,
   "id": "6d69c20a",
   "metadata": {},
   "outputs": [],
   "source": [
    "os.path.exists('photos/apr-2023')"
   ]
  },
  {
   "cell_type": "markdown",
   "id": "24aa8be6",
   "metadata": {},
   "source": [
    "Pou tcheke si yon chemen refere a yon repètwa oswa fichye, nou ka itilize `isdir`, ki retounen `True` si chemen an refere a yon repètwa."
   ]
  },
  {
   "cell_type": "code",
   "execution_count": null,
   "id": "4ade6e91",
   "metadata": {},
   "outputs": [],
   "source": [
    "os.path.isdir('photos')"
   ]
  },
  {
   "cell_type": "markdown",
   "id": "8ee03891",
   "metadata": {},
   "source": [
    "Ak `isfile` ki retounen `True` si chemen an refere a yon fichye."
   ]
  },
  {
   "cell_type": "code",
   "execution_count": null,
   "id": "3840335a",
   "metadata": {},
   "outputs": [],
   "source": [
    "os.path.isfile('photos/notes.txt')"
   ]
  },
  {
   "cell_type": "markdown",
   "id": "7189502f",
   "metadata": {},
   "source": [
    "Youn defi pou travay ak chemen se ke yo sanble diferan sou diferan sistèm operasyon.\n",
    "Sou macOS ak sistèm UNIX tankou Linux, non repètwa ak fichye nan yon chemen separe pa yon slash, `/`.\n",
    "Windows itilize yon backslash, `\\`.\n",
    "Donk, si ou kouri egzanp sa yo sou Windows, ou pral wè backslash nan chemen yo, epi ou ap bezwen ranplase slash yo ak backslash.\n",
    "\n",
    "Ou, pou ekri kod ki mache sou toude sistèm yo, ou ka itilize `os.path.join`, ki mete repètwa ak non fichye ansanm an chemen, li itilize slash oswa backslash selon sistèm operasyon w ap itilize a."
   ]
  },
  {
   "cell_type": "code",
   "execution_count": null,
   "id": "c474fb72",
   "metadata": {},
   "outputs": [],
   "source": [
    "os.path.join('photos', 'jan-2023', 'photo1.jpg')"
   ]
  },
  {
   "cell_type": "markdown",
   "id": "f3dd5d02",
   "metadata": {},
   "source": [
    "Pita nan chapit la nou pral itilize fonksyon sa yo pou fouye yon seri de repètwa epi jwenn tout fichye imaj yo."
   ]
  },
  {
   "cell_type": "markdown",
   "id": "869c1430",
   "metadata": {},
   "source": [
    "## f-strings\n",
    "\n",
    "Youn fason pou pwogram sto done se pa ekri yo nan yon fichye tèks.\n",
    "Pa egzanp, sipoze ou se yon moun kap obsève chamo (camel) ak ou vle note konbyen chamo ou te wè pandan yon peryòd obsèvasyon.\n",
    "E sipoze ke an youn ane edmi, ou te wè `23` chamo.\n",
    "Done nan liv obsèvasyon chamo ou a ta ka sanble konsa:"
   ]
  },
  {
   "cell_type": "code",
   "execution_count": null,
   "id": "64eda10e",
   "metadata": {},
   "outputs": [],
   "source": [
    "num_years = 1.5\n",
    "num_camels = 23"
   ]
  },
  {
   "cell_type": "markdown",
   "id": "43417c0b",
   "metadata": {},
   "source": [
    "Pou ekri done sa yo nan yon fichye, ou ka itilize metòd `write`, nou te wè nan [Chapit 8](section_writing_files).\n",
    "Agiman `write` la dwe yon chèn, donk si nou vle mete lòt valè nan fichye a, nou dwe konvèti yo an chèn.\n",
    "Fason ki pi fasil se itilize fonksyon built-in `str`.\n",
    "\n",
    "Men kijan sa sanble:"
   ]
  },
  {
   "cell_type": "code",
   "execution_count": null,
   "id": "68d70409",
   "metadata": {},
   "outputs": [],
   "source": [
    "writer = open('camel-spotting-book.txt', 'w')\n",
    "writer.write(str(num_years))\n",
    "writer.write(str(num_camels))\n",
    "writer.close()"
   ]
  },
  {
   "cell_type": "markdown",
   "id": "05f3bd27",
   "metadata": {},
   "source": [
    "Sa mache, men `write` pa ajoute espas oswa retounen a liy (newline) sof si ou mete li ekspresman.\n",
    "Si nou li fichye a, nou wè ke de nimewo yo kole ansanm."
   ]
  },
  {
   "cell_type": "code",
   "execution_count": null,
   "id": "ca6f209f",
   "metadata": {},
   "outputs": [],
   "source": [
    "open('camel-spotting-book.txt').read()"
   ]
  },
  {
   "cell_type": "markdown",
   "id": "569b2581",
   "metadata": {},
   "source": [
    "Omwens, nou ta dwe ajoute espas ant nimewo yo.\n",
    "Epoutan, pandan nap fè sa, ann ajoute kèk tèks esplikatif.\n",
    "\n",
    "Pou ekri yon konbinezon chèn ak lòt valè, nou ka itilize yon **f-string**, ki se yon chèn ki gen lèt `f` anvan mak ouvèti a, epi ki gen youn oswa plizyè ekspresyon Python an parantèz krole.\n",
    "F-string sa a gen youn ekspresyon, ki se non yon varyab."
   ]
  },
  {
   "cell_type": "code",
   "execution_count": null,
   "id": "eba42b34",
   "metadata": {},
   "outputs": [],
   "source": [
    "f'I have spotted {num_camels} camels'"
   ]
  },
  {
   "cell_type": "markdown",
   "id": "874dd32d",
   "metadata": {},
   "source": [
    "Rezilta a se yon chèn kote ekspresyon an evalye epi ranplase pa rezilta a.\n",
    "Ka gen plis pase youn ekspresyon."
   ]
  },
  {
   "cell_type": "code",
   "execution_count": null,
   "id": "f4240b69",
   "metadata": {},
   "outputs": [],
   "source": [
    "f'In {num_years} years I have spotted {num_camels} camels'"
   ]
  },
  {
   "cell_type": "markdown",
   "id": "24b5be1b",
   "metadata": {},
   "source": [
    "E ekspresyon yo ka gen operatè ak apèl fonksyon."
   ]
  },
  {
   "cell_type": "code",
   "execution_count": null,
   "id": "fdeff122",
   "metadata": {},
   "outputs": [],
   "source": [
    "line = f'In {round(num_years * 12)} months I have spotted {num_camels} camels'\n",
    "line"
   ]
  },
  {
   "cell_type": "markdown",
   "id": "c857d019",
   "metadata": {},
   "source": [
    "Kidonk nou te ka ekri done yo nan yon fichye tèks konsa:"
   ]
  },
  {
   "cell_type": "code",
   "execution_count": null,
   "id": "3fd52dad",
   "metadata": {},
   "outputs": [],
   "source": [
    "writer = open('camel-spotting-book.txt', 'w')\n",
    "writer.write(f'Years of observation: {num_years}\\n')\n",
    "writer.write(f'Camels spotted: {num_camels}\\n')\n",
    "writer.close()"
   ]
  },
  {
   "cell_type": "markdown",
   "id": "7ffe8548",
   "metadata": {},
   "source": [
    "De f-string yo fini ak sekans `\\n`, ki ajoute yon karakter retounen a liy.\n",
    "\n",
    "Nou ka rel li fichye a konsa:"
   ]
  },
  {
   "cell_type": "code",
   "execution_count": null,
   "id": "01ee280a",
   "metadata": {},
   "outputs": [],
   "source": [
    "data = open('camel-spotting-book.txt').read()\n",
    "print(data)"
   ]
  },
  {
   "cell_type": "markdown",
   "id": "07333865",
   "metadata": {},
   "source": [
    "Nan yon f-string, ekspresyon an parantèz krole yo konvèti an chèn, donk ou ka mete lis, diksyonè, ak lòt tip."
   ]
  },
  {
   "cell_type": "code",
   "execution_count": null,
   "id": "c6a612c5",
   "metadata": {},
   "outputs": [],
   "source": [
    "t = [1, 2, 3]\n",
    "d = {'one': 1}\n",
    "f'Here is a list {t} and a dictionary {d}'"
   ]
  },
  {
   "cell_type": "markdown",
   "id": "b6de2ad1",
   "metadata": {},
   "source": [
    "Si yon f-string gen yon ekspresyon ki pa valab, rezilta a se yon erè."
   ]
  },
  {
   "cell_type": "code",
   "execution_count": null,
   "id": "982dfe66",
   "metadata": {},
   "outputs": [],
   "source": [
    "%%expect TypeError\n",
    "\n",
    "f'This is not a valid expression {t + 2}'"
   ]
  },
  {
   "cell_type": "markdown",
   "id": "76f79707",
   "metadata": {},
   "source": [
    "## YAML\n",
    "\n",
    "Youn nan rezon pwogram li ak ekri fichye se pou sto **done konfigirasyon**, ki se enfòmasyon ki presize sa pwogram lan dwe fè ak kijan.\n",
    "\n",
    "Pa egzanp, nan yon pwogram ki fouye foto kopi, nou te ka gen yon diksyonè `config` ki gen non repètwa pou chèche, non yon lòt repètwa kote li dwe sto rezilta yo, epi yon lis ekstansyon fichye li dwe itilize pou idantifye fichye imaj.\n",
    "\n",
    "Men kijan sa ka sanble:"
   ]
  },
  {
   "cell_type": "code",
   "execution_count": null,
   "id": "fab45b02",
   "metadata": {},
   "outputs": [],
   "source": [
    "config = {\n",
    "    'photo_dir': 'photos',\n",
    "    'data_dir': 'photo_info',\n",
    "    'extensions': ['jpg', 'jpeg'],\n",
    "}"
   ]
  },
  {
   "cell_type": "markdown",
   "id": "2a9a230e",
   "metadata": {},
   "source": [
    "Pou ekri done sa yo nan yon fichye tèks, nou te ka itilize f-string, jan nou te wè nan seksyon anvan an.\n",
    "Men li pi fasil pou itilize yon modil ki rele `yaml` ki fèt pou sa.\n",
    "\n",
    "Modil `yaml` bay fonksyon pou travay ak fichye YAML, ki se fichye tèks ki fasil pou moun *ak* pwogram li ak ekri.\n",
    "\n",
    "Men yon egzanp ki itilize fonksyon `dump` pou ekri diksyonè `config` la nan yon fichye YAML."
   ]
  },
  {
   "cell_type": "code",
   "execution_count": null,
   "id": "674d3f60",
   "metadata": {},
   "outputs": [],
   "source": [
    "# Selil sa a enstale pake pyyaml, ki bay modil yaml la\n",
    "\n",
    "try:\n",
    "    import yaml\n",
    "except ImportError:\n",
    "    !pip install pyyaml"
   ]
  },
  {
   "cell_type": "code",
   "execution_count": null,
   "id": "56fedc9e",
   "metadata": {},
   "outputs": [],
   "source": [
    "import yaml\n",
    "\n",
    "config_filename = 'config.yaml'\n",
    "writer = open(config_filename, 'w')\n",
    "yaml.dump(config, writer)\n",
    "writer.close()"
   ]
  },
  {
   "cell_type": "markdown",
   "id": "0904b9a2",
   "metadata": {},
   "source": [
    "Si nou rel li kontni fichye a, nou ka wè jan fòma YAML la sanble."
   ]
  },
  {
   "cell_type": "code",
   "execution_count": null,
   "id": "cb7dc1f8",
   "metadata": {},
   "outputs": [],
   "source": [
    "readback = open(config_filename).read()\n",
    "print(readback)"
   ]
  },
  {
   "cell_type": "markdown",
   "id": "99881848",
   "metadata": {},
   "source": [
    "Kounye a, nou ka itilize `safe_load` pou rel fichye YAML la."
   ]
  },
  {
   "cell_type": "code",
   "execution_count": null,
   "id": "11da5c41",
   "metadata": {},
   "outputs": [],
   "source": [
    "reader = open(config_filename)\n",
    "config_readback = yaml.safe_load(reader)\n",
    "config_readback"
   ]
  },
  {
   "cell_type": "markdown",
   "id": "30c130c0",
   "metadata": {},
   "source": [
    "Rezilta a se yon nouvo diksyonè ki gen menm enfòmasyon ak orijinal la, men se pa menm diksyonè a."
   ]
  },
  {
   "cell_type": "code",
   "execution_count": null,
   "id": "8c058f4e",
   "metadata": {},
   "outputs": [],
   "source": [
    "config is config_readback"
   ]
  },
  {
   "cell_type": "markdown",
   "id": "0ada275f",
   "metadata": {},
   "source": [
    "Konvèti yon objè tankou yon diksyonè an chèn rele **serializasyon**.\n",
    "Konvèti chèn lan tounen objè rele **deserializasyon**.\n",
    "Si ou serializasyon epi apre sa ou deserializasyon yon objè, rezilta a ta dwe ekivalan ak orijinal la."
   ]
  },
  {
   "cell_type": "markdown",
   "id": "4e9c45a1",
   "metadata": {},
   "source": [
    "## Shelve\n",
    "\n",
    "Jiskaske kounye a nou te li ak ekri fichye tèks — kounye a ann konsidere bazdone.\n",
    "Yon **bazdone** se yon fichye ki òganize pou sto done de fason eficyan.\n",
    "Gen bazdone ki òganize tankou yon tablo ak liy ak kolòn enfòmasyon.\n",
    "Gen lòt ki òganize tankou yon diksyonè ki relie kle ak valè; yo pafwa rele **key-value stores**.\n",
    "\n",
    "Modil `shelve` bay fonksyon pou kreye ak mete ajou yon key-value store yo rele \"shelf\".\n",
    "Kòm egzanp, nou pral kreye yon shelf pou kenbe legend pou imaj (figi) ki nan repètwa `photos`.\n",
    "Nou pral itilize diksyonè `config` la pou pran non repètwa kote nou dwe mete shelf la."
   ]
  },
  {
   "cell_type": "code",
   "execution_count": null,
   "id": "7b27ba59",
   "metadata": {},
   "outputs": [],
   "source": [
    "config['data_dir']"
   ]
  },
  {
   "cell_type": "markdown",
   "id": "e5ba1984",
   "metadata": {},
   "source": [
    "Nou ka itilize `os.makedirs` pou kreye repètwa sa a, si li pa ekziste deja."
   ]
  },
  {
   "cell_type": "code",
   "execution_count": null,
   "id": "d393596d",
   "metadata": {},
   "outputs": [],
   "source": [
    "os.makedirs(config['data_dir'], exist_ok=True)"
   ]
  },
  {
   "cell_type": "markdown",
   "id": "6e974754",
   "metadata": {},
   "source": [
    "E `os.path.join` pou fè yon chemen ki gen non repètwa a ak non fichye shelf la, `captions`."
   ]
  },
  {
   "cell_type": "code",
   "execution_count": null,
   "id": "a7240e86",
   "metadata": {},
   "outputs": [],
   "source": [
    "db_file = os.path.join(config['data_dir'], 'captions')\n",
    "db_file"
   ]
  },
  {
   "cell_type": "markdown",
   "id": "b36af837",
   "metadata": {},
   "source": [
    "Kounye a nou ka itilize `shelve.open` pou ouvri fichye shelf la.\n",
    "Agiman `c` a endike ke fichye a ta dwe kreye si bezwen."
   ]
  },
  {
   "cell_type": "code",
   "execution_count": null,
   "id": "71063740",
   "metadata": {},
   "outputs": [],
   "source": [
    "import shelve\n",
    "\n",
    "db = shelve.open(db_file, 'c')\n",
    "db"
   ]
  },
  {
   "cell_type": "markdown",
   "id": "3238a087",
   "metadata": {},
   "source": [
    "Rezilta a ofisyèlman se yon objè `DbfilenameShelf`, men nou rele li pi fasil shelf object.\n",
    "\n",
    "Shelf object la konpòte li anpil tankou yon diksyonè.\n",
    "Pa egzanp, nou ka itilize operatè crochets (bracket) pou ajoute yon atik, ki se yon rapò ant yon kle ak yon valè."
   ]
  },
  {
   "cell_type": "code",
   "execution_count": null,
   "id": "2888fc5b",
   "metadata": {},
   "outputs": [],
   "source": [
    "key = 'jan-2023/photo1.jpg' \n",
    "db[key] = 'Cat nose'"
   ]
  },
  {
   "cell_type": "markdown",
   "id": "049ffa10",
   "metadata": {},
   "source": [
    "Nan egzanp sa a, kle a se chemen fichye imaj la epi valè a se yon chèn ki dekri imaj la.\n",
    "\n",
    "Nou itilize operatè crochets pou chèche yon kle epi pran valè ki koresponn lan."
   ]
  },
  {
   "cell_type": "code",
   "execution_count": null,
   "id": "3371aaaa",
   "metadata": {},
   "outputs": [],
   "source": [
    "value = db[key]\n",
    "value"
   ]
  },
  {
   "cell_type": "markdown",
   "id": "1d45dd85",
   "metadata": {},
   "source": [
    "Si ou fè yon lòt asiyasyon pou yon kle ki egziste deja, `shelve` ranplase ansyen valè a."
   ]
  },
  {
   "cell_type": "code",
   "execution_count": null,
   "id": "3d00fd6b",
   "metadata": {},
   "outputs": [],
   "source": [
    "db[key] = 'Close up view of a cat nose'\n",
    "db[key]"
   ]
  },
  {
   "cell_type": "markdown",
   "id": "0ffe6a23",
   "metadata": {},
   "source": [
    "Kèk metòd diksyonè, tankou `keys`, `values`, ak `items`, mache tou ak objè shelf."
   ]
  },
  {
   "cell_type": "code",
   "execution_count": null,
   "id": "e6977725",
   "metadata": {},
   "outputs": [],
   "source": [
    "list(db.keys())"
   ]
  },
  {
   "cell_type": "code",
   "execution_count": null,
   "id": "82d0ea28",
   "metadata": {},
   "outputs": [],
   "source": [
    "list(db.values())"
   ]
  },
  {
   "cell_type": "markdown",
   "id": "8f0cc817",
   "metadata": {},
   "source": [
    "Nou ka itilize operatè `in` pou tcheke si yon kle parèt nan shelf la."
   ]
  },
  {
   "cell_type": "code",
   "execution_count": null,
   "id": "aa1b0590",
   "metadata": {},
   "outputs": [],
   "source": [
    "key in db"
   ]
  },
  {
   "cell_type": "markdown",
   "id": "8215d26d",
   "metadata": {},
   "source": [
    "E nou ka itilize yon bouk `for` pou pase kle yo enn pa enn."
   ]
  },
  {
   "cell_type": "code",
   "execution_count": null,
   "id": "5fb8d2e0",
   "metadata": {},
   "outputs": [],
   "source": [
    "for key in db:\n",
    "    print(key, ':', db[key])"
   ]
  },
  {
   "cell_type": "markdown",
   "id": "83d2a6ac",
   "metadata": {},
   "source": [
    "Menm jan ak lòt fichye, ou ta dwe fèmen bazdone a lè ou fini."
   ]
  },
  {
   "cell_type": "code",
   "execution_count": null,
   "id": "24dc266d",
   "metadata": {},
   "outputs": [],
   "source": [
    "db.close()"
   ]
  },
  {
   "cell_type": "markdown",
   "id": "32b7caec",
   "metadata": {},
   "source": [
    "Kounye a si nou liste kontni repètwa data a, nou wè de fichye."
   ]
  },
  {
   "cell_type": "code",
   "execution_count": null,
   "id": "964ef577",
   "metadata": {},
   "outputs": [],
   "source": [
    "# Lè ou ouvri yon fichye shelve, yon fichye backup kreye ki gen sifiz `.bak`.\n",
    "# Si ou kouri notebook sa a plis pase yon fwa, ou ka wè fichye sa a rete.\n",
    "# Selil sa a retire li pou se rezilta kòrèk la ki parèt nan liv la.\n",
    "\n",
    "!rm -f photo_info/captions.bak"
   ]
  },
  {
   "cell_type": "code",
   "execution_count": null,
   "id": "2b416456",
   "metadata": {
    "lines_to_next_cell": 1
   },
   "outputs": [],
   "source": [
    "os.listdir(config['data_dir'])"
   ]
  },
  {
   "cell_type": "markdown",
   "id": "c2b2ddcc",
   "metadata": {},
   "source": [
    "`captions.dat` gen done nou sot sto yo.\n",
    "`captions.dir` gen enfòmasyon sou òganizasyon bazdone a ki fè li pi efikas pou jwenn done yo.\n",
    "Sifiz `dir` a vle di \"directory\", men li pa gen anyen pou wè ak repètwa nou te travay ak yo ki gen fichye."
   ]
  },
  {
   "cell_type": "markdown",
   "id": "092c7da3",
   "metadata": {},
   "source": [
    "## Stokaj estrikti done\n",
    "\n",
    "Nan egzanp anvan an, kle ak valè yo se chèn.\n",
    "Men nou ka itilize shelf la pou kenbe estrikti done tankou lis ak diksyonè.\n",
    "\n",
    "Kòm egzanp, ann revizite egzanp anagram la soti nan yon egzèsis [Chapit 11](section_exercise_11).\n",
    "Sonje nou te fè yon diksyonè ki map soti nan yon chèn lèt ki klase (sorted) pou lis mo yo ki ka eple ak lèt sa yo.\n",
    "Pa egzanp, kle `'opst'` map ak lis `['opts', 'post', 'pots', 'spot', 'stop', 'tops']`.\n",
    "\n",
    "Nou pral itilize fonksyon sa a pou klase lèt yo nan yon mo."
   ]
  },
  {
   "cell_type": "code",
   "execution_count": null,
   "id": "d475b0f5",
   "metadata": {
    "lines_to_next_cell": 1
   },
   "outputs": [],
   "source": [
    "def sort_word(word):\n",
    "    return ''.join(sorted(word))"
   ]
  },
  {
   "cell_type": "markdown",
   "id": "c22c7c76",
   "metadata": {},
   "source": [
    "Men yon egzanp."
   ]
  },
  {
   "cell_type": "code",
   "execution_count": null,
   "id": "b430ae59",
   "metadata": {},
   "outputs": [],
   "source": [
    "word = 'pots'\n",
    "key = sort_word(word)\n",
    "key"
   ]
  },
  {
   "cell_type": "markdown",
   "id": "d18dcc3a",
   "metadata": {},
   "source": [
    "Kounye a ann ouvri yon shelf ki rele `anagram_map`.\n",
    "Agiman `'n'` vle di nou dwe toujou kreye yon shelf nouvo, vid, menm si te gen youn deja."
   ]
  },
  {
   "cell_type": "code",
   "execution_count": null,
   "id": "5a7985d8",
   "metadata": {},
   "outputs": [],
   "source": [
    "db = shelve.open('anagram_map', 'n')"
   ]
  },
  {
   "cell_type": "markdown",
   "id": "33265695",
   "metadata": {},
   "source": [
    "Kounye a nou ka ajoute yon atik nan shelf la konsa:"
   ]
  },
  {
   "cell_type": "code",
   "execution_count": null,
   "id": "162f9217",
   "metadata": {},
   "outputs": [],
   "source": [
    "db[key] = [word]\n",
    "db[key]"
   ]
  },
  {
   "cell_type": "markdown",
   "id": "6ce3e2a1",
   "metadata": {},
   "source": [
    "Nan atik sa a, kle a se yon chèn epi valè a se yon lis chèn.\n",
    "\n",
    "Kounye a sipoze nou jwenn yon lòt mo ki gen menm lèt, tankou `tops`"
   ]
  },
  {
   "cell_type": "code",
   "execution_count": null,
   "id": "5002a7a4",
   "metadata": {},
   "outputs": [],
   "source": [
    "word = 'tops'\n",
    "key = sort_word(word)\n",
    "key"
   ]
  },
  {
   "cell_type": "markdown",
   "id": "d4567bd9",
   "metadata": {},
   "source": [
    "Kle a se menm jan ak egzanp anvan an, donk nou vle ajoute yon dezyèm mo sou menm lis chèn yo.\n",
    "Men kijan nou ta fè si `db` te yon diksyonè."
   ]
  },
  {
   "cell_type": "code",
   "execution_count": null,
   "id": "f4c53e6b",
   "metadata": {},
   "outputs": [],
   "source": [
    "db[key].append(word)          # INCORÈK"
   ]
  },
  {
   "cell_type": "markdown",
   "id": "5d28f9d3",
   "metadata": {},
   "source": [
    "Men si nou kouri sa epi apre nou chèche kle a nan shelf la, li sanble li pa mete ajou."
   ]
  },
  {
   "cell_type": "code",
   "execution_count": null,
   "id": "a65e1fd2",
   "metadata": {},
   "outputs": [],
   "source": [
    "db[key]"
   ]
  },
  {
   "cell_type": "markdown",
   "id": "b9e338b4",
   "metadata": {},
   "source": [
    "Men pwoblèm lan: lè nou chèche kle a, nou jwenn yon lis chèn, men si nou modifye lis chèn sa a, sa pa afekte shelf la.\n",
    "Si nou vle mete ajou shelf la, nou dwe li ansyen valè a, mete ajou li, epi ekri nouvo valè a tounen nan shelf la."
   ]
  },
  {
   "cell_type": "code",
   "execution_count": null,
   "id": "89a3f062",
   "metadata": {},
   "outputs": [],
   "source": [
    "anagram_list = db[key]\n",
    "anagram_list.append(word)\n",
    "db[key] = anagram_list"
   ]
  },
  {
   "cell_type": "markdown",
   "id": "cd0d8c81",
   "metadata": {},
   "source": [
    "Kounye a valè shelf la mete ajou."
   ]
  },
  {
   "cell_type": "code",
   "execution_count": null,
   "id": "944ed8f2",
   "metadata": {},
   "outputs": [],
   "source": [
    "db[key]"
   ]
  },
  {
   "cell_type": "markdown",
   "id": "30cd4c21",
   "metadata": {},
   "source": [
    "Kòm egzèsis, ou ka fini egzanp sa a lè ou li lis mo yo epi sto tout anagram yo nan yon shelf."
   ]
  },
  {
   "cell_type": "code",
   "execution_count": null,
   "id": "934af9d9",
   "metadata": {},
   "outputs": [],
   "source": [
    "db.close()"
   ]
  },
  {
   "cell_type": "markdown",
   "id": "3d0a5716",
   "metadata": {},
   "source": [
    "## Tcheke fichye ekivalan\n",
    "\n",
    "Kounye a ann retounen sou objektif chapit sa a: fouye kèk fichye pou jwenn si gen diferan fichye ki gen menm done.\n",
    "Youn fason pou tcheke sa se li kontni de fichye yo epi konpare yo.\n",
    "\n",
    "Si fichye yo gen imaj, nou dwe ouvri yo ak mode `'rb'`, kote `'r'` vle di nou vle li kontni an ak `'b'` vle di **binary mode**.\n",
    "An binary mode, kontni yo pa trete kòm tèks — se tankou yon sekans byte.\n",
    "\n",
    "Men yon egzanp ki ouvri epi li yon fichye imaj."
   ]
  },
  {
   "cell_type": "code",
   "execution_count": null,
   "id": "7ceb2245",
   "metadata": {},
   "outputs": [],
   "source": [
    "path1 = 'photos/jan-2023/photo1.jpg'\n",
    "data1 = open(path1, 'rb').read()\n",
    "type(data1)"
   ]
  },
  {
   "cell_type": "markdown",
   "id": "59b0965a",
   "metadata": {},
   "source": [
    "Rezilta `read` se yon objè `bytes` — jan non an di, li gen yon sekans byte.\n",
    "\n",
    "An jeneral, kontni yon fichye imaj pa ka li pa moun.\n",
    "Men si nou li kontni yon dezyèm fichye, nou ka itilize operatè `==` pou konpare."
   ]
  },
  {
   "cell_type": "code",
   "execution_count": null,
   "id": "2d28c5f5",
   "metadata": {
    "lines_to_next_cell": 1
   },
   "outputs": [],
   "source": [
    "path2 = 'photos/jan-2023/photo2.jpg'\n",
    "data2 = open(path2, 'rb').read()\n",
    "data1 == data2"
   ]
  },
  {
   "cell_type": "markdown",
   "id": "c2312236",
   "metadata": {},
   "source": [
    "De fichye sa yo pa ekivalan.\n",
    "\n",
    "Ann anbalaj sa nou genyen jiska kounye a an yon fonksyon."
   ]
  },
  {
   "cell_type": "code",
   "execution_count": null,
   "id": "2bf7f28c",
   "metadata": {
    "lines_to_next_cell": 1
   },
   "outputs": [],
   "source": [
    "def same_contents(path1, path2):\n",
    "    data1 = open(path1, 'rb').read()\n",
    "    data2 = open(path2, 'rb').read()\n",
    "    return data1 == data2"
   ]
  },
  {
   "cell_type": "markdown",
   "id": "71892190",
   "metadata": {},
   "source": [
    "Si nou gen sèlman de fichye, fonksyon sa a bon.\n",
    "Men sipoze nou gen anpil fichye epi nou vle konnen si nenpòt de ladan yo gen menm done.\n",
    "Sa ta pa efikas pou konpare chak pè fichye.\n",
    "\n",
    "Yon altènativ se itilize yon **fonksyon hash**, ki pran kontni yon fichye epi kalkile yon **digest**, ki anjeneral se yon gwo nimewo antye.\n",
    "Si de fichye gen menm done, y ap gen menm digest.\n",
    "Si de fichye diferan, yo *preske toujou* gen digest diferan.\n",
    "\n",
    "Modil `hashlib` bay plizyè fonksyon hash — nou pral itilize yon ki rele `md5`.\n",
    "Ann kòmanse pa itilize `hashlib.md5` pou kreye yon objè `HASH`."
   ]
  },
  {
   "cell_type": "code",
   "execution_count": null,
   "id": "126feaf0",
   "metadata": {},
   "outputs": [],
   "source": [
    "import hashlib\n",
    "\n",
    "md5_hash = hashlib.md5()\n",
    "type(md5_hash)"
   ]
  },
  {
   "cell_type": "markdown",
   "id": "84fbb304",
   "metadata": {},
   "source": [
    "Objè `HASH` la bay yon metòd `update` ki pran kontni fichye a kòm agiman."
   ]
  },
  {
   "cell_type": "code",
   "execution_count": null,
   "id": "5fc22a5b",
   "metadata": {},
   "outputs": [],
   "source": [
    "md5_hash.update(data1)"
   ]
  },
  {
   "cell_type": "markdown",
   "id": "6b32cc5f",
   "metadata": {},
   "source": [
    "Kounye a nou ka itilize `hexdigest` pou jwenn digest la kòm yon chèn chif hexadesimal ki reprezante yon nimewo an baz 16."
   ]
  },
  {
   "cell_type": "code",
   "execution_count": null,
   "id": "b8c03fad",
   "metadata": {
    "lines_to_next_cell": 1
   },
   "outputs": [],
   "source": [
    "digest = md5_hash.hexdigest()\n",
    "digest"
   ]
  },
  {
   "cell_type": "markdown",
   "id": "9a1cf85c",
   "metadata": {},
   "source": [
    "Fonksyon sa a anbalaj etap sa yo."
   ]
  },
  {
   "cell_type": "code",
   "execution_count": null,
   "id": "4a09ebf3",
   "metadata": {
    "lines_to_next_cell": 1
   },
   "outputs": [],
   "source": [
    "def md5_digest(filename):\n",
    "    data = open(filename, 'rb').read()\n",
    "    md5_hash = hashlib.md5()\n",
    "    md5_hash.update(data)\n",
    "    digest = md5_hash.hexdigest()\n",
    "    return digest"
   ]
  },
  {
   "cell_type": "markdown",
   "id": "16bc76f7",
   "metadata": {},
   "source": [
    "Si nou hash kontni yon lòt fichye, nou ka konfime ke nou jwenn yon digest diferan."
   ]
  },
  {
   "cell_type": "code",
   "execution_count": null,
   "id": "72431770",
   "metadata": {
    "lines_to_next_cell": 1
   },
   "outputs": [],
   "source": [
    "filename2 = 'photos/feb-2023/photo2.jpg'\n",
    "md5_digest(filename2)"
   ]
  },
  {
   "cell_type": "markdown",
   "id": "edb2a22c",
   "metadata": {},
   "source": [
    "Kounye a nou preske gen tout sa nou bezwen pou jwenn fichye ekivalan.\n",
    "Dènye etap la se fouye yon repètwa pou jwenn tout fichye imaj yo."
   ]
  },
  {
   "cell_type": "markdown",
   "id": "b7fb93d1",
   "metadata": {},
   "source": [
    "## Mache (walk) repètwa\n",
    "\n",
    "Fonksyon sa a pran kòm agiman repètwa nou vle fouye.\n",
    "Li itilize `listdir` pou bouk sou sa ki gen ladan repètwa a.\n",
    "Lè li jwenn yon fichye, li enprime chemen konplè li.\n",
    "Lè li jwenn yon repètwa, li rele tet li rekirisivman pou fouye sou-repètwa a."
   ]
  },
  {
   "cell_type": "code",
   "execution_count": null,
   "id": "ba4b4d88",
   "metadata": {
    "lines_to_next_cell": 1
   },
   "outputs": [],
   "source": [
    "def walk(dirname):\n",
    "    for name in os.listdir(dirname):\n",
    "        path = os.path.join(dirname, name)\n",
    "\n",
    "        if os.path.isfile(path):\n",
    "            print(path)\n",
    "        elif os.path.isdir(path):\n",
    "            walk(path)"
   ]
  },
  {
   "cell_type": "markdown",
   "id": "cdb931e2",
   "metadata": {},
   "source": [
    "Nou ka itilize l konsa:"
   ]
  },
  {
   "cell_type": "code",
   "execution_count": null,
   "id": "7401d425",
   "metadata": {},
   "outputs": [],
   "source": [
    "walk('photos')"
   ]
  },
  {
   "cell_type": "markdown",
   "id": "f19738db",
   "metadata": {},
   "source": [
    "Lòd rezilta a depann de detay sistèm operasyon an."
   ]
  },
  {
   "cell_type": "markdown",
   "id": "4ab3c101",
   "metadata": {},
   "source": [
    "## Débogaj\n",
    "\n",
    "Lè w ap li ak ekri fichye, ou ka rankontre pwoblèm ak espas.\n",
    "Erè sa yo ka difisil pou débogaj paske karakter espas yo anjeneral envizib.\n",
    "Pa egzanp, men yon chèn ki gen espas, yon tab reprezante pa sekans `\\t`, ak yon retounen a liy reprezante pa sekans `\\n`.\n",
    "Lè nou enprime li, nou pa wè karakter espas yo."
   ]
  },
  {
   "cell_type": "code",
   "execution_count": null,
   "id": "329b1b87",
   "metadata": {},
   "outputs": [],
   "source": [
    "s = '1 2\\t 3\\n 4'\n",
    "print(s)"
   ]
  },
  {
   "cell_type": "markdown",
   "id": "48eaf7ae",
   "metadata": {},
   "source": [
    "Fonksyon built-in `repr` ka ede. Li pran nenpòt objè kòm agiman epi retounen yon representasyon chèn objè a.\n",
    "Pou chèn, li reprezante karakter espas yo ak sekans backslash."
   ]
  },
  {
   "cell_type": "code",
   "execution_count": null,
   "id": "9c04912c",
   "metadata": {},
   "outputs": [],
   "source": [
    "print(repr(s))"
   ]
  },
  {
   "cell_type": "markdown",
   "id": "74bceefa",
   "metadata": {},
   "source": [
    "Sa ka itil pou débogaj.\n",
    "\n",
    "Yon lòt pwoblèm ou ka rankontre se ke diferan sistèm itilize diferan karakter pou endike fen yon liy.\n",
    "Gen kèk sistèm ki itilize yon retounen a liy, reprezante pa `\\n`. Lòt yo itilize yon karakter retounen, reprezante pa `\\r`.\n",
    "Gen ki itilize toude.\n",
    "Si ou deplase fichye ant diferan sistèm, diferans sa yo ka lakòz pwoblèm.\n",
    "\n",
    "Kapitalizasyon non fichye se yon lòt pwoblèm ou ka rankontre si w ap travay ak diferan sistèm operasyon.\n",
    "Sou macOS ak UNIX, non fichye ka gen lèt miniskil ak majiskil, chif, ak pifò senbòl.\n",
    "Men anpil aplikasyon Windows pa pran an kont diferans ant lèt miniskil ak majiskil, epi plizyè senbòl ki pèmèt sou macOS ak UNIX pa pèmèt sou Windows."
   ]
  },
  {
   "cell_type": "markdown",
   "id": "fcecec9b",
   "metadata": {},
   "source": [
    "## Glosè\n",
    "\n",
    "**efemèr:**\n",
    "Yon pwogram efemèr tipikman kouri pou yon ti tan epi, lè li fini, done li yo pèdi.\n",
    "\n",
    "**peristan:**\n",
    "Yon pwogram peristan kouri pou endefiniman epi kenbe omwen kèk done li yo an depo pèmanan.\n",
    "\n",
    "**repètwa (directory):**\n",
    "Yon koleksyon fichye ak lòt repètwa.\n",
    "\n",
    "**repètwa travay aktyèl (current working directory):**\n",
    "Repètwa pa defo pwogram lan itilize sof si ou presize yon lòt repètwa.\n",
    "\n",
    "**chemen (path):**\n",
    " Yon chèn ki presize yon sekans repètwa, souvan mennen a yon fichye.\n",
    "\n",
    "**chemen relatif:**\n",
    "Yon chemen ki kòmanse soti nan repètwa travay aktyèl la, oswa yon lòt repètwa presize.\n",
    "\n",
    "**chemen absoli:**\n",
    "Yon chemen ki pa depan de repètwa aktyèl la.\n",
    "\n",
    "**f-string:**\n",
    "Yon chèn ki gen lèt `f` anvan mak ouvèti a, epi ki gen youn oswa plizyè ekspresyon an parantèz krole.\n",
    "\n",
    "**done konfigirasyon:**\n",
    "Done, souvan stoke nan yon fichye, ki presize sa yon pwogram dwe fè ak kijan.\n",
    "\n",
    "**serializasyon:**\n",
    "Konvèti yon objè an chèn.\n",
    "\n",
    "**deserializasyon:**\n",
    "Konvèti yon chèn an objè.\n",
    "\n",
    "**bazdone:**\n",
    " Yon fichye ki òganize de fason pou fè sèten operasyon pi efikas.\n",
    "\n",
    "**key-value stores:**\n",
    "Yon bazdone ki òganize kontni li yo tankou yon diksyonè ak kle ki koresponn ak valè.\n",
    "\n",
    "**binary mode:**\n",
    "Yon fason pou ouvri yon fichye pou kontni yo interprete kòm sekans byte olye sekans karakter.\n",
    "\n",
    "**fonksyon hash:**\n",
    "Yon fonksyon ki pran yon objè epi kalkile yon nimewo antye, ki pafwa rele digest.\n",
    "\n",
    "**digest:**\n",
    "Rezilta yon fonksyon hash, sitou lè l itilize pou tcheke si de objè menm."
   ]
  },
  {
   "cell_type": "markdown",
   "id": "c142bd49",
   "metadata": {},
   "source": [
    "## Egzèsis"
   ]
  },
  {
   "cell_type": "code",
   "execution_count": null,
   "id": "97af9423",
   "metadata": {},
   "outputs": [],
   "source": [
    "# Liy sa a di Jupyter pou bay enfòmasyon detaye sou erè execisyon\n",
    "# lè erè rive. Kouri li anvan ou travay sou egzèsis yo.\n",
    "\n",
    "%xmode Verbose"
   ]
  },
  {
   "cell_type": "markdown",
   "id": "de7d1e76",
   "metadata": {},
   "source": [
    "### Mande yon asistan vityèl\n",
    "\n",
    "Gen plizyè sijè ki parèt nan chapit sa a ke mwen pa te eksplike an detay.\n",
    "Men kèk kesyon ou ka mande yon asistan vityèl pou jwenn plis enfòmasyon:\n",
    "\n",
    "* \"Ki diferans ki genyen ant pwogram efemèr ak pwogram peristan?\"\n",
    "\n",
    "* \"Ki egzanp pwogram peristan?\"\n",
    "\n",
    "* \"Ki diferans ant chemen relatif ak chemen absoli?\"\n",
    "\n",
    "* \"Poukisa modil `yaml` gen fonksyon ki rele `load` ak `safe_load`?\"\n",
    "\n",
    "* \"Lè m ekri yon shelf Python, ki sa fichye ak sifiz `dat` ak `dir` yo ye?\"\n",
    "\n",
    "* \"Apa key-values stores, ki lòt kalite bazdone ki genyen?\"\n",
    "\n",
    "* \"Lè m li yon fichye, ki diferans ant binary mode ak text mode?\"\n",
    "\n",
    "* \"Ki diferans ki genyen ant yon objè bytes ak yon chèn?\"\n",
    "\n",
    "* \"Ki sa yon fonksyon hash ye?\"\n",
    "\n",
    "* \"Ki sa yon MD5 digest ye?\"\n",
    "\n",
    "Menm jan anvan, si ou pa ka rezoud okenn egzèsis ki anba yo, konsidere mande yon VA pou èd.  \n",
    "Avèk kesyon ou, ou ta ka vle kole fonksyon ki enpòtan yo soti nan chapit sa a."
   ]
  },
  {
   "cell_type": "markdown",
   "id": "14b4ab0e",
   "metadata": {},
   "source": [
    "### Egzèsis\n",
    "\n",
    "Ekri yon fonksyon ki rele `replace_all` ki pran kòm agiman yon model chèn (pattern string), yon chèn ranplasman (replacement string), ak de non fichye.\n",
    "Li ta dwe li premye fichye a epi ekri kontni an nan dezyèm fichye a (kreye li si bezwen).\n",
    "Si model chèn lan parèt nenpòt kote nan kontni an, li ta dwe ranplase li ak chèn ranplasman an."
   ]
  },
  {
   "cell_type": "markdown",
   "id": "267f7edd",
   "metadata": {},
   "source": [
    "Men yon estrikti fonksyon an pou ou kòmanse."
   ]
  },
  {
   "cell_type": "code",
   "execution_count": null,
   "id": "0295eeb8",
   "metadata": {},
   "outputs": [],
   "source": [
    "# Solisyon an antre la"
   ]
  },
  {
   "cell_type": "code",
   "execution_count": null,
   "id": "0788bd48",
   "metadata": {},
   "outputs": [],
   "source": [
    "# Solisyon an antre la"
   ]
  },
  {
   "cell_type": "markdown",
   "id": "d4f7ca96",
   "metadata": {},
   "source": [
    "Pou teste fonksyon ou, li fichye `photos/notes.txt`, ranplase `'photos'` ak `'images'`, epi ekri rezilta a nan fichye `photos/new_notes.txt`."
   ]
  },
  {
   "cell_type": "code",
   "execution_count": null,
   "id": "e6510a5a",
   "metadata": {},
   "outputs": [],
   "source": [
    "source_path = 'photos/notes.txt'\n",
    "open(source_path).read()"
   ]
  },
  {
   "cell_type": "code",
   "execution_count": null,
   "id": "3c40a40e",
   "metadata": {},
   "outputs": [],
   "source": [
    "dest_path = 'photos/new_notes.txt'\n",
    "old = 'photos'\n",
    "new = 'images'\n",
    "replace_all(old, new, source_path, dest_path)"
   ]
  },
  {
   "cell_type": "code",
   "execution_count": null,
   "id": "1a327d9a",
   "metadata": {},
   "outputs": [],
   "source": [
    "open(dest_path).read()"
   ]
  },
  {
   "cell_type": "markdown",
   "id": "778e5ef1",
   "metadata": {},
   "source": [
    "### Egzèsis\n",
    "\n",
    "Nan [yon seksyon anvan](section_storing_data_structure), nou te itilize modil `shelve` pou fè yon key-value store ki map soti nan yon chèn lèt klase (sorted) pou yon lis anagram.\n",
    "Pou fini egzanp lan, ekri yon fonksyon ki rele `add_word` ki pran kòm agiman yon chèn ak yon objè shelf.\n",
    "\n",
    "Li ta dwe klase lèt mo a pou fè yon kle, apre sa tcheke si kle a deja nan shelf la.\n",
    "Si se pa sa, li ta dwe fè yon lis ki gen nouvo mo a epi ajoute l nan shelf la.\n",
    "Si se sa, li ta dwe ajoute nouvo mo a nan valè ki egziste a."
   ]
  },
  {
   "cell_type": "code",
   "execution_count": null,
   "id": "651333aa",
   "metadata": {},
   "outputs": [],
   "source": [
    "# Solisyon an antre la"
   ]
  },
  {
   "cell_type": "markdown",
   "id": "ba54aff6",
   "metadata": {},
   "source": [
    "Ou ka itilize bouk sa a pou teste fonksyon ou."
   ]
  },
  {
   "cell_type": "code",
   "execution_count": null,
   "id": "07d34b38",
   "metadata": {},
   "outputs": [],
   "source": [
    "download('https://raw.githubusercontent.com/AllenDowney/ThinkPython/v3/words.txt');"
   ]
  },
  {
   "cell_type": "code",
   "execution_count": null,
   "id": "3ad512a8",
   "metadata": {},
   "outputs": [],
   "source": [
    "word_list = open('words.txt').read().split()\n",
    "\n",
    "db = shelve.open('anagram_map', 'n')\n",
    "for word in word_list:\n",
    "    add_word(word, db)"
   ]
  },
  {
   "cell_type": "markdown",
   "id": "66daf5db",
   "metadata": {},
   "source": [
    "Si tout bagay ap mache, ou ta dwe kapab chèche yon kle tankou `'opst'` epi jwenn yon lis mo ki ka eple ak lèt sa yo."
   ]
  },
  {
   "cell_type": "code",
   "execution_count": null,
   "id": "0fc2a99d",
   "metadata": {},
   "outputs": [],
   "source": [
    "db['opst']"
   ]
  },
  {
   "cell_type": "code",
   "execution_count": null,
   "id": "7d9cb4b4",
   "metadata": {},
   "outputs": [],
   "source": [
    "for key, value in db.items():\n",
    "    if len(value) > 8:\n",
    "        print(value)"
   ]
  },
  {
   "cell_type": "code",
   "execution_count": null,
   "id": "ecdd7873",
   "metadata": {},
   "outputs": [],
   "source": [
    "db.close()"
   ]
  },
  {
   "cell_type": "markdown",
   "id": "06df078a",
   "metadata": {},
   "source": [
    "### Egzèsis\n",
    "\n",
    "Nan yon gwo koleksyon fichye, ka gen plis pase yon kopi menm fichye a, sto nan diferan repètwa oswa ak diferan non fichye.\n",
    "Objektif egzèsis sa a se fouye pou kopi.\n",
    "Kòm egzanp, nou pral travay ak fichye imaj nan repètwa `photos`.\n",
    "\n",
    "Men kijan li ap mache:\n",
    "\n",
    "* Nou pral itilize fonksyon `walk` soti nan [](section_walking_directories) pou fouye repètwa sa a pou fichye ki fini ak youn nan ekstansyon yo nan `config['extensions']`.\n",
    "\n",
    "* Pou chak fichye, nou pral itilize `md5_digest` soti nan [](section_md5_digest) pou kalkile yon digest kontni an.\n",
    "\n",
    "* Lè sa a, nou pral itilize yon shelf pou fè yon map soti nan chak digest pou yon lis chemen ki gen digest sa a.\n",
    "\n",
    "* Finalman, nou pral fouye shelf la pou wè si gen plizyè fichye ki gen menm digest.\n",
    "\n",
    "* Si nou jwenn, nou pral itilize `same_contents` pou konfime ke fichye yo gen menm done."
   ]
  },
  {
   "cell_type": "markdown",
   "id": "3060205e",
   "metadata": {},
   "source": [
    "M ap sijere kèk fonksyon pou ekri an premye, apre sa nou va mete tout ansanm.\n",
    "\n",
    "1. Pou idantifye fichye imaj, ekri yon fonksyon ki rele `is_image` ki pran kòm agiman yon chemen ak yon lis ekstansyon fichye, epi retounen `True` si chemen an fini ak youn nan ekstansyon yo. Konsèy: itilize `os.path.splitext` — oswa mande yon asistan vityèl pou ekri fonksyon sa a pou ou."
   ]
  },
  {
   "cell_type": "code",
   "execution_count": null,
   "id": "e45ff381",
   "metadata": {},
   "outputs": [],
   "source": [
    "# Solisyon an antre la"
   ]
  },
  {
   "cell_type": "code",
   "execution_count": null,
   "id": "0baee98a",
   "metadata": {},
   "outputs": [],
   "source": [
    "from doctest import run_docstring_examples\n",
    "\n",
    "def run_doctests(func):\n",
    "    run_docstring_examples(func, globals(), name=func.__name__)\n",
    "\n",
    "run_doctests(is_image)"
   ]
  },
  {
   "cell_type": "markdown",
   "id": "620d5afa",
   "metadata": {},
   "source": [
    "2. Ekri yon fonksyon ki rele `add_path` ki pran kòm agiman yon chemen ak yon shelf.\n",
    "Li dwe itilize `md5_digest` pou kalkile digest kontni fichye a.\n",
    "Apre sa, li dwe mete ajou shelf la, swa pa kreye yon nouvo atik ki map soti nan digest la pou yon lis ki gen chemen an, oswa ajoute chemen an nan lis la si li egziste deja."
   ]
  },
  {
   "cell_type": "code",
   "execution_count": null,
   "id": "9a7fadc3",
   "metadata": {},
   "outputs": [],
   "source": [
    "# Solisyon an antre la"
   ]
  },
  {
   "cell_type": "markdown",
   "id": "d29a3a1d",
   "metadata": {},
   "source": [
    "3. Ekri yon vèsyon `walk` ki rele `walk_images` ki pran yon repètwa epi pase sou fichye yo nan repètwa a ak sou-repètwa yo.\n",
    "Pou chak fichye, li dwe itilize `is_image` pou tcheke si se yon fichye imaj ak `add_path` pou ajoute li nan shelf la."
   ]
  },
  {
   "cell_type": "code",
   "execution_count": null,
   "id": "969d37b7",
   "metadata": {},
   "outputs": [],
   "source": [
    "# Solisyon an antre la"
   ]
  },
  {
   "cell_type": "markdown",
   "id": "8d27b63c",
   "metadata": {},
   "source": [
    "Lè tout bagay ap mache, ou ka itilize pwogram sa a pou kreye shelf la, fouye repètwa `photos` la epi ajoute chemen yo nan shelf la, epi apre sa tcheke si gen plizyè fichye ki gen menm digest."
   ]
  },
  {
   "cell_type": "code",
   "execution_count": null,
   "id": "e479d8a0",
   "metadata": {},
   "outputs": [],
   "source": [
    "db = shelve.open('photos/digests', 'n')\n",
    "walk_images('photos')\n",
    "\n",
    "for digest, paths in db.items():\n",
    "    if len(paths) > 1:\n",
    "        print(paths)"
   ]
  },
  {
   "cell_type": "markdown",
   "id": "d32ed15a",
   "metadata": {},
   "source": [
    "Ou ta dwe jwenn youn pè fichye ki gen menm digest.\n",
    "Itilize `same_contents` pou tcheke si yo gen menm done."
   ]
  },
  {
   "cell_type": "code",
   "execution_count": null,
   "id": "10301932",
   "metadata": {},
   "outputs": [],
   "source": [
    "# Solisyon an antre la"
   ]
  },
  {
   "cell_type": "code",
   "execution_count": null,
   "id": "78358064",
   "metadata": {},
   "outputs": [],
   "source": []
  }
 ],
 "metadata": {
  "jupytext": {
   "cell_metadata_filter": "-all",
   "main_language": "python",
   "notebook_metadata_filter": "-all"
  },
  "language_info": {
   "name": "python"
  }
 },
 "nbformat": 4,
 "nbformat_minor": 5
}
