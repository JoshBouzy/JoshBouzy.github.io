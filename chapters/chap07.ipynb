{
 "cells": [
  {
   "cell_type": "markdown",
   "id": "3d184d04",
   "metadata": {},
   "source": [
    "Ou ka kòmande vèsyon enprime ak liv elektwonik *Think Python 3e* soti nan\n",
    "[Bookshop.org](https://bookshop.org/a/98697/9781098155438) ak\n",
    "[Amazon](https://www.amazon.com/_/dp/1098155432?smid=ATVPDKIKX0DER&_encoding=UTF8&tag=oreilly20-20&_encoding=UTF8&tag=greenteapre01-20&linkCode=ur2&linkId=e2a529f94920295d27ec8a06e757dc7c&camp=1789&creative=9325)."
   ]
  },
  {
   "cell_type": "code",
   "execution_count": null,
   "id": "30bd76ac",
   "metadata": {},
   "outputs": [],
   "source": [
    "from os.path import basename, exists\n",
    "\n",
    "def download(url):\n",
    "    filename = basename(url)\n",
    "    if not exists(filename):\n",
    "        from urllib.request import urlretrieve\n",
    "\n",
    "        local, _ = urlretrieve(url, filename)\n",
    "        print(\"Downloaded \" + str(local))\n",
    "    return filename\n",
    "\n",
    "download('https://github.com/AllenDowney/ThinkPython/raw/v3/thinkpython.py');\n",
    "download('https://github.com/AllenDowney/ThinkPython/raw/v3/diagram.py');\n",
    "\n",
    "import thinkpython"
   ]
  },
  {
   "cell_type": "markdown",
   "id": "cc8c5c92",
   "metadata": {},
   "source": [
    "# Iterasyon ak rechèch\n",
    "\n",
    "An 1939, Ernest Vincent Wright te pibliye yon woman 50,000 mo ki rele *Gadsby*, ki pa gen lèt \"e\" ditou.\n",
    "Paske \"e\" se lèt ki pi komen an Angle, ekri menm kèk mo san itilize l difisil.\n",
    "Pou nou ka santi konbyen sa difisil, nan chapit sa a nou pral kalkile fraksyon mo angle ki gen omwen yon \"e\".\n",
    "\n",
    "Pou sa, nou pral itilize enstriksyon `for` pou fè bouk sou lèt nan yon chèn ak mo nan yon fichye, epi n ap mete ajou varyab nan yon bouk pou konte konbyen mo ki gen yon \"e\".\n",
    "Nou pral sèvi ak operatè `in` pou tcheke si yon lèt parèt nan yon mo, epi w ap aprann yon modèl pwogramasyon ki rele \"rechèch lineyè\".\n",
    "\n",
    "Kòm egzèsis, w ap itilize zouti sa yo pou rezoud yon devinèt mo ki rele \"Spelling Bee\"."
   ]
  },
  {
   "cell_type": "markdown",
   "id": "43448861",
   "metadata": {},
   "source": [
    "## Bouk ak chèn\n",
    "\n",
    "Nan Chapit 3 nou te wè yon bouk `for` ki itilize fonksyon `range` pou montre yon sekans nimewo."
   ]
  },
  {
   "cell_type": "code",
   "execution_count": null,
   "id": "59bdb0b3",
   "metadata": {},
   "outputs": [],
   "source": [
    "for i in range(3):\n",
    "    print(i, end=' ')"
   ]
  },
  {
   "cell_type": "markdown",
   "id": "18feb6ef",
   "metadata": {},
   "source": [
    "Vèsyon sa a itilize paramèt mo kle `end` pou fonksyon `print` mete yon espas apre chak nimewo olye de yon nouvo liy.\n",
    "\n",
    "Nou ka tou itilize yon bouk `for` pou montre lèt nan yon chèn."
   ]
  },
  {
   "cell_type": "code",
   "execution_count": null,
   "id": "6f3b6a87",
   "metadata": {},
   "outputs": [],
   "source": [
    "for letter in 'Gadsby':\n",
    "    print(letter, end=' ')"
   ]
  },
  {
   "cell_type": "markdown",
   "id": "f29461ad",
   "metadata": {},
   "source": [
    "Remake ke mwen chanje non varyab la soti nan `i` pou `letter`, sa bay plis enfòmasyon sou valè li a.\n",
    "Varyab ki defini nan yon bouk `for` rele **varyab bouk** la.\n",
    "\n",
    "Kounye a ke nou kapab fè bouk sou lèt yo nan yon mo, nou ka tcheke si li gen lèt \"e\"."
   ]
  },
  {
   "cell_type": "code",
   "execution_count": null,
   "id": "3166b536",
   "metadata": {
    "lines_to_next_cell": 1
   },
   "outputs": [],
   "source": [
    "for letter in \"Gadsby\":\n",
    "    if letter == 'E' or letter == 'e':\n",
    "        print('Mo sa a gen yon \"e\"')"
   ]
  },
  {
   "cell_type": "markdown",
   "id": "9ba331c1",
   "metadata": {},
   "source": [
    "Anvan nou kontinye, ann enkapsile bouk sa a nan yon fonksyon."
   ]
  },
  {
   "cell_type": "code",
   "execution_count": null,
   "id": "85d1526e",
   "metadata": {
    "lines_to_next_cell": 1
   },
   "outputs": [],
   "source": [
    "def has_e():\n",
    "    for letter in \"Gadsby\":\n",
    "        if letter == 'E' or letter == 'e':\n",
    "            print('Mo sa a gen yon \"e\"')"
   ]
  },
  {
   "cell_type": "markdown",
   "id": "741d18a1",
   "metadata": {},
   "source": [
    "E ann fè li tounen yon fonksyon pi ki retounen `True` si mo a gen yon \"e\" epi `False` sinon."
   ]
  },
  {
   "cell_type": "code",
   "execution_count": null,
   "id": "545250b6",
   "metadata": {
    "lines_to_next_cell": 1
   },
   "outputs": [],
   "source": [
    "def has_e():\n",
    "    for letter in \"Gadsby\":\n",
    "        if letter == 'E' or letter == 'e':\n",
    "            return True\n",
    "    return False"
   ]
  },
  {
   "cell_type": "markdown",
   "id": "40071006",
   "metadata": {},
   "source": [
    "Nou ka jeneralize li pou pran mo a kòm paramèt."
   ]
  },
  {
   "cell_type": "code",
   "execution_count": null,
   "id": "8ed07b79",
   "metadata": {
    "lines_to_next_cell": 1
   },
   "outputs": [],
   "source": [
    "def has_e(word):\n",
    "    for letter in word:\n",
    "        if letter == 'E' or letter == 'e':\n",
    "            return True\n",
    "    return False"
   ]
  },
  {
   "cell_type": "markdown",
   "id": "56edc066",
   "metadata": {},
   "source": [
    "Kounye a nou ka teste li konsa:"
   ]
  },
  {
   "cell_type": "code",
   "execution_count": null,
   "id": "33c306ea",
   "metadata": {},
   "outputs": [],
   "source": [
    "has_e('Gadsby')"
   ]
  },
  {
   "cell_type": "code",
   "execution_count": null,
   "id": "80120b6f",
   "metadata": {},
   "outputs": [],
   "source": [
    "has_e('Emma')"
   ]
  },
  {
   "cell_type": "markdown",
   "id": "a40e926e",
   "metadata": {},
   "source": [
    "## Li lis mo yo\n",
    "\n",
    "Pou wè konbyen mo ki gen yon \"e\", nou pral bezwen yon lis mo.\n",
    "Nou pral itilize youn ki gen anviwon 114,000 mo ofisyèl kwazman (mo valide pou kreoze, jwèt mo elatriye)."
   ]
  },
  {
   "cell_type": "markdown",
   "id": "4e7e3857",
   "metadata": {},
   "source": [
    "Selil sa a telechaje lis mo a, ki se yon vèsyon modifye de yon lis kolekte pa Grady Ward e mete available to public domain kòm pati pwojè leksik Moby a (gade <http://wikipedia.org/wiki/Moby_Project>)."
   ]
  },
  {
   "cell_type": "code",
   "execution_count": null,
   "id": "0316c621",
   "metadata": {},
   "outputs": [],
   "source": [
    "download('https://raw.githubusercontent.com/AllenDowney/ThinkPython/v3/words.txt');"
   ]
  },
  {
   "cell_type": "markdown",
   "id": "4be80dc2",
   "metadata": {},
   "source": [
    "Lis mo a se nan yon fichye `words.txt`, ki telechaje an menm tan ak notebook chapit sa a.\n",
    "Pou li l, n ap itilize fonksyon `open` ki pran non fichye a kòm paramèt epi retounen yon **objè fichye** nou ka itilize pou li fichye a."
   ]
  },
  {
   "cell_type": "code",
   "execution_count": null,
   "id": "5ef19507",
   "metadata": {},
   "outputs": [],
   "source": [
    "file_object = open('words.txt')"
   ]
  },
  {
   "cell_type": "markdown",
   "id": "cd432553",
   "metadata": {},
   "source": [
    "Objè fichye a bay yon fonksyon ki rele `readline`, ki li karaktè nan fichye a jiskaske li jwenn yon nouvo liy (newline) epi retounen rezilta a kòm yon chèn:"
   ]
  },
  {
   "cell_type": "code",
   "execution_count": null,
   "id": "41b09822",
   "metadata": {},
   "outputs": [],
   "source": [
    "file_object.readline()"
   ]
  },
  {
   "cell_type": "markdown",
   "id": "14550d18",
   "metadata": {},
   "source": [
    "Remake ke sentaks pou rele `readline` diferan de fonksyon nou te wè jiskaprezan.\n",
    "Se paske li se yon **metòd**, ki se yon fonksyon asosye ak yon objè.\n",
    "Nan ka sa a, `readline` asosye ak objè fichye a, kidonk nou rele li ak non objè a, operatè pwen an, ak non metòd la.\n",
    "\n",
    "Premye mo nan lis la se \"aa\", ki se yon kalite lava.\n",
    "Sekans `\\n` reprezante karakter nouvo liy ki separe mo sa a ak pwochen an.\n",
    "\n",
    "Objè fichye a kenbe kote li ye nan fichye a, kidonk si ou rele\n",
    "`readline` ankò, ou jwenn pwochen mo a:"
   ]
  },
  {
   "cell_type": "code",
   "execution_count": null,
   "id": "e5759f61",
   "metadata": {},
   "outputs": [],
   "source": [
    "line = file_object.readline()\n",
    "line"
   ]
  },
  {
   "cell_type": "markdown",
   "id": "ea25d228",
   "metadata": {},
   "source": [
    "Pou retire nouvo liy la (newline) nan fen mo a, nou ka itilize `strip`, ki se yon metòd asosye ak chèn, kidonk nou rele li konsa:"
   ]
  },
  {
   "cell_type": "code",
   "execution_count": null,
   "id": "f9b95aa4",
   "metadata": {},
   "outputs": [],
   "source": [
    "word = line.strip()\n",
    "word"
   ]
  },
  {
   "cell_type": "markdown",
   "id": "db251680",
   "metadata": {},
   "source": [
    "`strip` retire karakter espas — ki enkli espas, tab, ak nouvo liy — depi kòmansman ak fen chèn lan.\n",
    "\n",
    "Ou ka tou itilize objè fichye a kòm pati yon bouk `for`.\n",
    "Pwogram sa a li `words.txt` epi montre chak mo, youn pa liy:"
   ]
  },
  {
   "cell_type": "code",
   "execution_count": null,
   "id": "6011837d",
   "metadata": {},
   "outputs": [],
   "source": [
    "for line in open('words.txt'):\n",
    "    word = line.strip()\n",
    "    print(word)"
   ]
  },
  {
   "cell_type": "markdown",
   "id": "33137915",
   "metadata": {},
   "source": [
    "Kounye a ke nou ka li lis mo a, pwochen etap la se konte yo.\n",
    "Pou sa, nou pral bezwen kapasite pou mete ajou varyab."
   ]
  },
  {
   "cell_type": "markdown",
   "id": "d6082d32",
   "metadata": {},
   "source": [
    "## Mete ajou varyab\n",
    "\n",
    "Ou ka te dekouvri ke li legal pou fè plis pase yon afektasyon\n",
    "sou menm varyab la.\n",
    "Yon nouvo afektasyon fè yon varyab ki egziste deja refere a yon nouvo valè (epi sispann refere ak ansyen valè a).\n",
    "\n",
    "Pa egzanp, men yon afektasyon inisyal ki kreye yon varyab."
   ]
  },
  {
   "cell_type": "code",
   "execution_count": null,
   "id": "193d4bdb",
   "metadata": {},
   "outputs": [],
   "source": [
    "x = 5\n",
    "x"
   ]
  },
  {
   "cell_type": "markdown",
   "id": "8b0c1e34",
   "metadata": {},
   "source": [
    "E men yon afektasyon ki chanje valè yon varyab."
   ]
  },
  {
   "cell_type": "code",
   "execution_count": null,
   "id": "6b71c2af",
   "metadata": {},
   "outputs": [],
   "source": [
    "x = 7\n",
    "x"
   ]
  },
  {
   "cell_type": "markdown",
   "id": "26418536",
   "metadata": {},
   "source": [
    "Dyagram eta sa a montre sa afektasyon sa yo sanble."
   ]
  },
  {
   "cell_type": "code",
   "execution_count": null,
   "id": "4dd71ea0",
   "metadata": {},
   "outputs": [],
   "source": [
    "from diagram import make_rebind, draw_bindings\n",
    "\n",
    "bindings = make_rebind('x', [5, 7])"
   ]
  },
  {
   "cell_type": "code",
   "execution_count": null,
   "id": "32e883c8",
   "metadata": {},
   "outputs": [],
   "source": [
    "from diagram import diagram, adjust\n",
    "\n",
    "width, height, x, y = [0.54, 0.61, 0.07, 0.45]\n",
    "ax = diagram(width, height)\n",
    "bbox = draw_bindings(bindings, ax, x, y)\n",
    "# adjust(x, y, bbox)"
   ]
  },
  {
   "cell_type": "markdown",
   "id": "09b9e5f2",
   "metadata": {},
   "source": [
    "Flèch pwenye montre ke `x` pa refere ak `5` ankò.\n",
    "Flèch solid la montre ke kounye a li refere ak `7`.\n",
    "\n",
    "Yon kalite afektasyon komen se yon **metajou**, kote nouvo valè\n",
    "varyab la depann de ansyen valè li."
   ]
  },
  {
   "cell_type": "code",
   "execution_count": null,
   "id": "761e91ac",
   "metadata": {},
   "outputs": [],
   "source": [
    "x = 7"
   ]
  },
  {
   "cell_type": "code",
   "execution_count": null,
   "id": "8aa21484",
   "metadata": {},
   "outputs": [],
   "source": [
    "x = x + 1\n",
    "x"
   ]
  },
  {
   "cell_type": "markdown",
   "id": "1590a957",
   "metadata": {},
   "source": [
    "Deklarasyon sa a vle di \"pran valè kounye a de `x`, ajoute 1, epi afekte rezilta a `x`.\"\n",
    "\n",
    "Si ou eseye mete ajou yon varyab ki pa egziste, ou jwenn yon erè, paske Python evalye ekspresyon adwat la anvan li asiyen valè a varyab agòch la."
   ]
  },
  {
   "cell_type": "code",
   "execution_count": null,
   "id": "30fb7bc8",
   "metadata": {},
   "outputs": [],
   "source": [
    "%%expect NameError\n",
    "\n",
    "y = y + 1"
   ]
  },
  {
   "cell_type": "markdown",
   "id": "fcdd522b",
   "metadata": {},
   "source": [
    "Anvan ou ka mete ajou yon varyab, ou dwe **inisyalize** li, anjeneral\n",
    "ak yon afektasyon senp:"
   ]
  },
  {
   "cell_type": "code",
   "execution_count": null,
   "id": "3ce76eb1",
   "metadata": {},
   "outputs": [],
   "source": [
    "y = 0\n",
    "y = y + 1\n",
    "y"
   ]
  },
  {
   "cell_type": "markdown",
   "id": "7b652dc2",
   "metadata": {},
   "source": [
    "Ogmante valè yon varyab rele **inkreman**; diminye valè li rele **dekreman**.\n",
    "Paske operasyon sa yo komen anpil, Python bay **operatè asignasyon ogmante** ki mete ajou varyab la pi kout.\n",
    "Pa egzanp, operatè `+=` inkremante yon varyab pa kantite ki bay la."
   ]
  },
  {
   "cell_type": "code",
   "execution_count": null,
   "id": "5a053c15",
   "metadata": {},
   "outputs": [],
   "source": [
    "y += 2\n",
    "y"
   ]
  },
  {
   "cell_type": "markdown",
   "id": "bcafe176",
   "metadata": {},
   "source": [
    "Gen operatè asignasyon ogmante pou lòt operatè aritmetik yo, ki gen ladan `-=` ak `*=`."
   ]
  },
  {
   "cell_type": "markdown",
   "id": "efa44837",
   "metadata": {},
   "source": [
    "## Boukle ak konte\n",
    "\n",
    "Pwogram sa a konte konbyen mo ki gen nan lis mo a."
   ]
  },
  {
   "cell_type": "code",
   "execution_count": null,
   "id": "b66b63b5",
   "metadata": {},
   "outputs": [],
   "source": [
    "total = 0\n",
    "\n",
    "for line in open('words.txt'):\n",
    "    word = line.strip()\n",
    "    total += 1"
   ]
  },
  {
   "cell_type": "markdown",
   "id": "be4d8fad",
   "metadata": {},
   "source": [
    "Li kòmanse pa inisyalize `total` a `0`.\n",
    "Chak fwa li pase nan bouk la, li inkremante `total` pa `1`.\n",
    "Kidonk lè bouk la fini, `total` refere a kantite total mo yo."
   ]
  },
  {
   "cell_type": "code",
   "execution_count": null,
   "id": "68c36bf6",
   "metadata": {},
   "outputs": [],
   "source": [
    "total"
   ]
  },
  {
   "cell_type": "markdown",
   "id": "da8103b2",
   "metadata": {},
   "source": [
    "Yon varyab konsa, ki itilize pou konte konbyen fwa yon bagay rive, rele **counters**.\n",
    "\n",
    "Nou ka ajoute yon dezyèm counteur nan pwogram lan pou kenbe konbyen mo ki gen yon \"e\"."
   ]
  },
  {
   "cell_type": "code",
   "execution_count": null,
   "id": "8441bb14",
   "metadata": {},
   "outputs": [],
   "source": [
    "total = 0\n",
    "count = 0\n",
    "\n",
    "for line in open('words.txt'):\n",
    "    word = line.strip()\n",
    "    total = total + 1\n",
    "    if has_e(word):\n",
    "        count += 1"
   ]
  },
  {
   "cell_type": "markdown",
   "id": "a92cd60a",
   "metadata": {},
   "source": [
    "Ann wè konbyen mo ki gen yon \"e\"."
   ]
  },
  {
   "cell_type": "code",
   "execution_count": null,
   "id": "f59d99ce",
   "metadata": {},
   "outputs": [],
   "source": [
    "count"
   ]
  },
  {
   "cell_type": "markdown",
   "id": "fce287c4",
   "metadata": {},
   "source": [
    "Kòm pousantaj `total` la, apeprè de tyè mo yo itilize lèt \"e\"."
   ]
  },
  {
   "cell_type": "code",
   "execution_count": null,
   "id": "89100700",
   "metadata": {},
   "outputs": [],
   "source": [
    "count / total * 100"
   ]
  },
  {
   "cell_type": "markdown",
   "id": "61d0ea3c",
   "metadata": {},
   "source": [
    "Konsa ou ka konprann poukisa li difisil ekri yon liv san itilize mo sa yo."
   ]
  },
  {
   "cell_type": "markdown",
   "id": "280add7e",
   "metadata": {},
   "source": [
    "## Operatè in\n",
    "\n",
    "Vèsyon `has_e` nou te ekri nan chapit sa a pi konplike pase sa li bezwen.\n",
    "Python bay yon operatè, `in`, ki tcheke si yon karaktè parèt nan yon chèn."
   ]
  },
  {
   "cell_type": "code",
   "execution_count": null,
   "id": "ac9127d7",
   "metadata": {
    "lines_to_next_cell": 1
   },
   "outputs": [],
   "source": [
    "word = 'Gadsby'\n",
    "'e' in word"
   ]
  },
  {
   "cell_type": "markdown",
   "id": "406406b3",
   "metadata": {},
   "source": [
    "Kidonk nou ka reekri `has_e` konsa."
   ]
  },
  {
   "cell_type": "code",
   "execution_count": null,
   "id": "d63ef2c6",
   "metadata": {
    "lines_to_next_cell": 1
   },
   "outputs": [],
   "source": [
    "def has_e(word):\n",
    "    if 'E' in word or 'e' in word:\n",
    "        return True\n",
    "    else:\n",
    "        return False"
   ]
  },
  {
   "cell_type": "markdown",
   "id": "189e5b79",
   "metadata": {},
   "source": [
    "E paske kondisyon `if` la gen yon valè boulèn, nou ka elimine enstriksyon `if` la epi retounen boulèn lan dirèkteman."
   ]
  },
  {
   "cell_type": "code",
   "execution_count": null,
   "id": "f27f08d4",
   "metadata": {
    "lines_to_next_cell": 1
   },
   "outputs": [],
   "source": [
    "def has_e(word):\n",
    "    return 'E' in word or 'e' in word"
   ]
  },
  {
   "cell_type": "markdown",
   "id": "8b83c4df",
   "metadata": {},
   "source": [
    "Nou ka senplifye fonksyon sa a pi plis toujou, itilize metòd `lower`, ki konvèti lèt nan yon chèn an miniskil.\n",
    "Men yon egzanp."
   ]
  },
  {
   "cell_type": "code",
   "execution_count": null,
   "id": "6a83cc02",
   "metadata": {},
   "outputs": [],
   "source": [
    "word.lower()"
   ]
  },
  {
   "cell_type": "markdown",
   "id": "bdde4868",
   "metadata": {},
   "source": [
    "`lower` kreye yon nouvo chèn — li pa modifye chèn ki egziste a — kidonk valè `word` la pa chanje."
   ]
  },
  {
   "cell_type": "code",
   "execution_count": null,
   "id": "bb781417",
   "metadata": {
    "lines_to_next_cell": 1
   },
   "outputs": [],
   "source": [
    "word"
   ]
  },
  {
   "cell_type": "markdown",
   "id": "5fddaeec",
   "metadata": {},
   "source": [
    "Men ki jan nou ka itilize `lower` nan `has_e`."
   ]
  },
  {
   "cell_type": "code",
   "execution_count": null,
   "id": "9f6194f7",
   "metadata": {
    "lines_to_next_cell": 1
   },
   "outputs": [],
   "source": [
    "def has_e(word):\n",
    "    return 'e' in word.lower()"
   ]
  },
  {
   "cell_type": "code",
   "execution_count": null,
   "id": "4586637b",
   "metadata": {},
   "outputs": [],
   "source": [
    "has_e('Gadsby')"
   ]
  },
  {
   "cell_type": "code",
   "execution_count": null,
   "id": "b2136804",
   "metadata": {
    "lines_to_next_cell": 1
   },
   "outputs": [],
   "source": [
    "has_e('Emma')"
   ]
  },
  {
   "cell_type": "markdown",
   "id": "ba90b514",
   "metadata": {},
   "source": [
    "## Rechèch\n",
    "\n",
    "Baze sou vèsyon `has_e` ki pi senp la, ann ekri yon fonksyon pi jeneral `uses_any` ki pran yon dezyèm paramèt ki se yon chèn lèt.\n",
    "Li retounen `True` si mo a itilize nenpòt lèt sa yo, epi `False` sinon."
   ]
  },
  {
   "cell_type": "code",
   "execution_count": null,
   "id": "b91c606d",
   "metadata": {
    "lines_to_next_cell": 1
   },
   "outputs": [],
   "source": [
    "def uses_any(word, letters):\n",
    "    for letter in word.lower():\n",
    "        if letter in letters.lower():\n",
    "            return True\n",
    "    return False"
   ]
  },
  {
   "cell_type": "markdown",
   "id": "a6327d42",
   "metadata": {},
   "source": [
    "Men yon egzanp kote rezilta a `True`."
   ]
  },
  {
   "cell_type": "code",
   "execution_count": null,
   "id": "fb8ed062",
   "metadata": {},
   "outputs": [],
   "source": [
    "uses_any('banana', 'aeiou')"
   ]
  },
  {
   "cell_type": "markdown",
   "id": "23ba350f",
   "metadata": {},
   "source": [
    "E yon lòt kote li se `False`."
   ]
  },
  {
   "cell_type": "code",
   "execution_count": null,
   "id": "c0147d73",
   "metadata": {},
   "outputs": [],
   "source": [
    "uses_any('apple', 'xyz')"
   ]
  },
  {
   "cell_type": "markdown",
   "id": "a9196078",
   "metadata": {},
   "source": [
    "`uses_only` konvèti `word` ak `letters` an miniskil, kidonk li mache ak nenpòt konbinezon lèt mèt majiskil mèt miniskil."
   ]
  },
  {
   "cell_type": "code",
   "execution_count": null,
   "id": "4a1b7193",
   "metadata": {
    "lines_to_next_cell": 1
   },
   "outputs": [],
   "source": [
    "uses_any('Banana', 'AEIOU')"
   ]
  },
  {
   "cell_type": "markdown",
   "id": "06de5633",
   "metadata": {},
   "source": [
    "Estrikti `uses_any` sanble ak `has_e`.\n",
    "Li fè bouk sou lèt nan `word` epi tcheke youn pa youn.\n",
    "Si li jwenn youn ki parèt nan `letters`, li retounen `True` imedyatman.\n",
    "Si li pase tout bouk la san jwenn anyen, li retounen `False`.\n",
    "\n",
    "Modèl sa a rele **rechèch lineyè**.\n",
    "Nan egzèsis yo anfen chapit sa a, ou pral ekri plis fonksyon ki itilize modèl sa a."
   ]
  },
  {
   "cell_type": "markdown",
   "id": "89239f37",
   "metadata": {},
   "source": [
    "## Doctest\n",
    "\n",
    "Nan [Chapit 4](section_docstring), nou te itilize yon docstring pou dokimante yon fonksyon — sa vle di, pou eksplike sa li fè.\n",
    "Li posib tou pou itilize docstring pou *teste* yon fonksyon.\n",
    "Men yon vèsyon `uses_any` ak yon docstring ki gen tès ladan l."
   ]
  },
  {
   "cell_type": "code",
   "execution_count": null,
   "id": "0fcce119",
   "metadata": {
    "lines_to_next_cell": 1
   },
   "outputs": [],
   "source": [
    "def uses_any(word, letters):\n",
    "    \"\"\"Tcheke si yon mo itilize nenpòt lèt nan yon seri lèt.\n",
    "    \n",
    "    >>> uses_any('banana', 'aeiou')\n",
    "    True\n",
    "    >>> uses_any('apple', 'xyz')\n",
    "    False\n",
    "    \"\"\"\n",
    "    for letter in word.lower():\n",
    "        if letter in letters.lower():\n",
    "            return True\n",
    "    return False"
   ]
  },
  {
   "cell_type": "markdown",
   "id": "2aaa887d",
   "metadata": {},
   "source": [
    "Chak tès kòmanse ak `>>>`, ki itilize kòm bann komann nan kèk anviwònman Python pou endike kote itilizatè a ka tape kòd.\n",
    "Nan yon doctest, bann komann lan swiv pa yon ekspresyon, anjeneral yon apèl fonksyon.\n",
    "Liy ki swiv la endike valè ekspresyon an ta dwe genyen si fonksyon an mache kòrèkteman.\n",
    "\n",
    "Nan premye egzanp lan, `'banana'` itilize `'a'`, kidonk rezilta a ta dwe `True`.\n",
    "Nan dezyèm egzanp lan, `'apple'` pa itilize okenn nan `'xyz'`, kidonk rezilta a ta dwe `False`.\n",
    "\n",
    "Pou kouri tès sa yo, nou dwe enpòte modil `doctest` la epi kouri yon fonksyon ki rele `run_docstring_examples`.\n",
    "Pou fè fonksyon sa a pi fasil pou itilize, mwen ekri fonksyon sa a, ki pran yon fonksyon kòm agiman."
   ]
  },
  {
   "cell_type": "code",
   "execution_count": null,
   "id": "b0dc70ed",
   "metadata": {
    "lines_to_next_cell": 1
   },
   "outputs": [],
   "source": [
    "from doctest import run_docstring_examples\n",
    "\n",
    "def run_doctests(func):\n",
    "    run_docstring_examples(func, globals(), name=func.__name__)"
   ]
  },
  {
   "cell_type": "markdown",
   "id": "5405f347",
   "metadata": {},
   "source": [
    "Nou pa ankò aprann sou `globals` ak `__name__` — ou ka inyore yo.\n",
    "Kounye a nou ka teste `uses_any` konsa."
   ]
  },
  {
   "cell_type": "code",
   "execution_count": null,
   "id": "c4ece8de",
   "metadata": {
    "lines_to_next_cell": 1
   },
   "outputs": [],
   "source": [
    "run_doctests(uses_any)"
   ]
  },
  {
   "cell_type": "markdown",
   "id": "0927e4eb",
   "metadata": {},
   "source": [
    "`run_doctests` jwenn ekspresyon ki nan docstring lan epi evalye yo.\n",
    "Si rezilta a se valè atandi a, tès la **pase**.\n",
    "Sinon li **échoué** (fail).\n",
    "\n",
    "Si tout tès pase, `run_doctests` pa montre anyen — sa vle di pa gen nouvèl se bon nouvèl.\n",
    "Pou wè sa ki pase lè yon tès échoué, men yon vèsyon `uses_any` ki pa kòrèk."
   ]
  },
  {
   "cell_type": "code",
   "execution_count": null,
   "id": "580e77f8",
   "metadata": {
    "lines_to_next_cell": 1
   },
   "outputs": [],
   "source": [
    "def uses_any_incorrect(word, letters):\n",
    "    \"\"\"Tcheke si yon mo itilize nenpòt lèt nan yon seri lèt.\n",
    "    \n",
    "    >>> uses_any_incorrect('banana', 'aeiou')\n",
    "    True\n",
    "    >>> uses_any_incorrect('apple', 'xyz')\n",
    "    False\n",
    "    \"\"\"\n",
    "    for letter in word.lower():\n",
    "        if letter in letters.lower():\n",
    "            return True\n",
    "        else:\n",
    "            return False     # INCORÈK!"
   ]
  },
  {
   "cell_type": "markdown",
   "id": "93742170",
   "metadata": {},
   "source": [
    "Men sa k pase lè nou teste li."
   ]
  },
  {
   "cell_type": "code",
   "execution_count": null,
   "id": "da049ac4",
   "metadata": {},
   "outputs": [],
   "source": [
    "run_doctests(uses_any_incorrect)"
   ]
  },
  {
   "cell_type": "markdown",
   "id": "02543354",
   "metadata": {},
   "source": [
    "Pwodiksyon an gen egzanp ki échoué a, valè fonksyon an ta dwe pwodwi, ak valè fonksyon an aktyèlman pwodwi.\n",
    "\n",
    "Si ou pa si poukisa tès sa a échoué, w ap gen chans debòge li kòm egzèsis."
   ]
  },
  {
   "cell_type": "markdown",
   "id": "5bd9be1c",
   "metadata": {},
   "source": [
    "## Glosè\n",
    "\n",
    "**varyab bouk:**\n",
    "Yon varyab defini nan tèt yon bouk `for`.\n",
    "\n",
    "**objè fichye (file object):**\n",
    "Yon objè ki reprezante yon fichye ouvè epi ki kenbe tras ki pati nan fichye a ki deja li oswa ekri.\n",
    "\n",
    "**metòd (method):**\n",
    " Yon fonksyon ki asosye ak yon objè epi rele ak operatè pwen an.\n",
    "\n",
    "**metajou (update):**\n",
    "Yon enstriksyon afektasyon ki bay yon nouvo valè a yon varyab ki deja egziste, olye li kreye yon nouvo varyab.\n",
    "\n",
    "**inisyalize (initialize):**\n",
    "Kreye yon nouvo varyab epi bay li yon valè.\n",
    "\n",
    "**inkreman (increment):**\n",
    "Ogmante valè yon varyab.\n",
    "\n",
    "**dekreman (decrement):**\n",
    "Diminye valè yon varyab.\n",
    "\n",
    "**counter:**\n",
    " Yon varyab ki itilize pou konte yon bagay, anjeneral inisyalize a zewo epi inkremante apre.\n",
    "\n",
    "**rechèch lineyè (linear search):**\n",
    "Yon modèl kalkil ki fouye atravè yon sekans eleman epi sispann lè li jwenn sa l ap chèche a.\n",
    "\n",
    "**pase (pass):**\n",
    "Si yon tès kouri ak rezilta a se jan sa atann, tès la pase.\n",
    "\n",
    "**échoué (fail):**\n",
    "Si yon tès kouri epi rezilta a pa sa ki atann, tès la échoué."
   ]
  },
  {
   "cell_type": "markdown",
   "id": "f2f6baac",
   "metadata": {},
   "source": [
    "## Egzèsis"
   ]
  },
  {
   "cell_type": "code",
   "execution_count": null,
   "id": "d458449b",
   "metadata": {
    "lines_to_next_cell": 1
   },
   "outputs": [],
   "source": [
    "# Liy sa a di Jupyter pou bay enfòmasyon detaye sou debògaj\n",
    "# lè gen yon erè execisyon. Kouri li anvan ou travay sou egzèsis yo.\n",
    "\n",
    "%xmode Verbose"
   ]
  },
  {
   "cell_type": "markdown",
   "id": "ab5fd22d",
   "metadata": {},
   "source": [
    "### Mande yon asistan vityèl\n",
    "\n",
    "Nan `uses_any`, ou ka remake ke premye enstriksyon `return` lan anndan bouk la epi dezyèm lan deyò."
   ]
  },
  {
   "cell_type": "code",
   "execution_count": null,
   "id": "a1b8508b",
   "metadata": {
    "lines_to_next_cell": 1
   },
   "outputs": [],
   "source": [
    "def uses_any(word, letters):\n",
    "    for letter in word.lower():\n",
    "        if letter in letters.lower():\n",
    "            return True\n",
    "    return False"
   ]
  },
  {
   "cell_type": "markdown",
   "id": "302b7e25",
   "metadata": {},
   "source": [
    "Lè moun ap ekri fonksyon konsa pou premye fwa, erè komen se mete toude `return` anndan bouk la, tankou sa."
   ]
  },
  {
   "cell_type": "code",
   "execution_count": null,
   "id": "f31983f4",
   "metadata": {
    "lines_to_next_cell": 1
   },
   "outputs": [],
   "source": [
    "def uses_any_incorrect(word, letters):\n",
    "    for letter in word.lower():\n",
    "        if letter in letters.lower():\n",
    "            return True\n",
    "        else:\n",
    "            return False     # INCORÈK!"
   ]
  },
  {
   "cell_type": "markdown",
   "id": "bfed1358",
   "metadata": {},
   "source": [
    "Mande yon asistan vityèl ki sa ki mal ak vèsyon sa a."
   ]
  },
  {
   "cell_type": "markdown",
   "id": "109c1306",
   "metadata": {},
   "source": [
    "### Egzèsis\n",
    "\n",
    "Ekri yon fonksyon ki rele `uses_none` ki pran yon mo ak yon chèn lèt entèdi, epi ki retounen `True` si mo a pa itilize okenn lèt entèdi yo.\n",
    "\n",
    "Men yon eskiz fonksyon an ki gen de doctests.\n",
    "Ranpli fonksyon an pou li pase tès sa yo, epi ajoute omwen yon doctest an plis."
   ]
  },
  {
   "cell_type": "code",
   "execution_count": null,
   "id": "d8f5fc54",
   "metadata": {
    "lines_to_next_cell": 1
   },
   "outputs": [],
   "source": [
    "def uses_none(word, forbidden):\n",
    "    \"\"\"Tcheke si yon mo evite lèt entèdi.\n",
    "    \n",
    "    >>> uses_none('banana', 'xyz')\n",
    "    True\n",
    "    >>> uses_none('apple', 'efg')\n",
    "    False\n",
    "    \"\"\"\n",
    "    return None"
   ]
  },
  {
   "cell_type": "code",
   "execution_count": null,
   "id": "b0f68f9d",
   "metadata": {},
   "outputs": [],
   "source": [
    "# Solution goes here"
   ]
  },
  {
   "cell_type": "code",
   "execution_count": null,
   "id": "27cea4ec",
   "metadata": {
    "lines_to_next_cell": 1
   },
   "outputs": [],
   "source": [
    "run_doctests(uses_none)"
   ]
  },
  {
   "cell_type": "markdown",
   "id": "27a938fe",
   "metadata": {},
   "source": [
    "### Egzèsis\n",
    "\n",
    "Ekri yon fonksyon ki rele `uses_only` ki pran yon mo ak yon chèn lèt, epi ki retounen `True` si mo a gen sèlman lèt nan chèn lan.\n",
    "\n",
    "Men yon eskiz fonksyon an ki gen de doctests.\n",
    "Ranpli fonksyon an pou li pase tès sa yo, epi ajoute omwen yon doctest an plis."
   ]
  },
  {
   "cell_type": "code",
   "execution_count": null,
   "id": "cfb51755",
   "metadata": {
    "lines_to_next_cell": 1
   },
   "outputs": [],
   "source": [
    "def uses_only(word, available):\n",
    "    \"\"\"Tcheke si yon mo itilize sèlman lèt ki disponib.\n",
    "    \n",
    "    >>> uses_only('banana', 'ban')\n",
    "    True\n",
    "    >>> uses_only('apple', 'apl')\n",
    "    False\n",
    "    \"\"\"\n",
    "    return None"
   ]
  },
  {
   "cell_type": "code",
   "execution_count": null,
   "id": "3fd589ff",
   "metadata": {},
   "outputs": [],
   "source": [
    "# Solution goes here"
   ]
  },
  {
   "cell_type": "code",
   "execution_count": null,
   "id": "6c45d50b",
   "metadata": {
    "lines_to_next_cell": 1
   },
   "outputs": [],
   "source": [
    "run_doctests(uses_only)"
   ]
  },
  {
   "cell_type": "markdown",
   "id": "7adcffc6",
   "metadata": {},
   "source": [
    "### Egzèsis\n",
    "\n",
    "Ekri yon fonksyon ki rele `uses_all` ki pran yon mo ak yon chèn lèt, epi ki retounen `True` si mo a gen tout lèt nan chèn lan omwen yon fwa.\n",
    "\n",
    "Men yon eskiz fonksyon an ki gen de doctests.\n",
    "Ranpli fonksyon an pou li pase tès sa yo, epi ajoute omwen yon doctest an plis."
   ]
  },
  {
   "cell_type": "code",
   "execution_count": null,
   "id": "c2b960eb",
   "metadata": {
    "lines_to_next_cell": 1
   },
   "outputs": [],
   "source": [
    "def uses_all(word, required):\n",
    "    \"\"\"Tcheke si yon mo itilize tout lèt nesesè yo.\n",
    "    \n",
    "    >>> uses_all('banana', 'ban')\n",
    "    True\n",
    "    >>> uses_all('apple', 'api')\n",
    "    False\n",
    "    \"\"\"\n",
    "    return None"
   ]
  },
  {
   "cell_type": "code",
   "execution_count": null,
   "id": "6ed88ae7",
   "metadata": {},
   "outputs": [],
   "source": [
    "# Solution goes here"
   ]
  },
  {
   "cell_type": "code",
   "execution_count": null,
   "id": "031d1be4",
   "metadata": {
    "lines_to_next_cell": 1
   },
   "outputs": [],
   "source": [
    "run_doctests(uses_all)"
   ]
  },
  {
   "cell_type": "markdown",
   "id": "e1c96fad",
   "metadata": {},
   "source": [
    "### Egzèsis\n",
    "\n",
    "*The New York Times* pibliye chak jou yon devinèt ki rele \"Spelling Bee\" ki mande lektè yo pou òtograf kòm anpil mo ke posib, itilize sèlman sèt lèt, kote youn nan lèt yo oblije.\n",
    "Mo yo dwe gen omwen kat lèt.\n",
    "\n",
    "Pa egzanp, jou mwen t ap ekri sa, lèt yo se `ACDLORT`, ak `R` kòm lèt obligatwa.\n",
    "Donk \"color\" se yon mo akseptab, men \"told\" pa akseptab paske li pa itilize `R`, epi \"rat\" pa akseptab paske li gen sèlman twa lèt.\n",
    "Lèt yo ka repete, donk \"ratatat\" akseptab.\n",
    "\n",
    "Ekri yon fonksyon ki rele `check_word` ki tcheke si yon mo bay akseptab.\n",
    "Li ta dwe pran kòm paramèt mo a pou tcheke, yon chèn sèt lèt disponib, ak yon chèn ki gen lèt obligatwa a.\n",
    "Ou ka itilize fonksyon ou te ekri nan egzèsis anvan yo.\n",
    "\n",
    "Men yon eskiz fonksyon an ki gen doctests.\n",
    "Ranpli fonksyon an epi asire tout tès pase."
   ]
  },
  {
   "cell_type": "code",
   "execution_count": null,
   "id": "4cc43f2c",
   "metadata": {
    "lines_to_next_cell": 1
   },
   "outputs": [],
   "source": [
    "def check_word(word, available, required):\n",
    "    \"\"\"Tcheke si yon mo akseptab.\n",
    "    \n",
    "    >>> check_word('color', 'ACDLORT', 'R')\n",
    "    True\n",
    "    >>> check_word('ratatat', 'ACDLORT', 'R')\n",
    "    True\n",
    "    >>> check_word('rat', 'ACDLORT', 'R')\n",
    "    False\n",
    "    >>> check_word('told', 'ACDLORT', 'R')\n",
    "    False\n",
    "    >>> check_word('bee', 'ACDLORT', 'R')\n",
    "    False\n",
    "    \"\"\"\n",
    "    return False"
   ]
  },
  {
   "cell_type": "code",
   "execution_count": null,
   "id": "40c408f4",
   "metadata": {},
   "outputs": [],
   "source": [
    "# Solution goes here"
   ]
  },
  {
   "cell_type": "code",
   "execution_count": null,
   "id": "d218788e",
   "metadata": {
    "lines_to_next_cell": 1
   },
   "outputs": [],
   "source": [
    "run_doctests(check_word)"
   ]
  },
  {
   "cell_type": "markdown",
   "id": "17db9f76",
   "metadata": {},
   "source": [
    "Selon règ \"Spelling Bee\" yo,\n",
    "\n",
    "* Mo ki gen kat lèt vo 1 pwen chak.\n",
    "\n",
    "* Mo ki pi long bay 1 pwen pou chak lèt.\n",
    "\n",
    "* Chak devinèt gen omwen yon \"pangram\" ki itilize tout lèt yo. Sa yo vo 7 pwen an plis!\n",
    "\n",
    "Ekri yon fonksyon `word_score` ki pran yon mo ak yon chèn lèt disponib epi retounen nòt li.\n",
    "Ou ka asime ke mo a akseptab.\n",
    "\n",
    "Men ankò, men yon eskiz fonksyon an ak doctests."
   ]
  },
  {
   "cell_type": "code",
   "execution_count": null,
   "id": "75874ef9",
   "metadata": {
    "lines_to_next_cell": 1
   },
   "outputs": [],
   "source": [
    "def word_score(word, available):\n",
    "    \"\"\"Kalkile nòt pou yon mo akseptab.\n",
    "    \n",
    "    >>> word_score('card', 'ACDLORT')\n",
    "    1\n",
    "    >>> word_score('color', 'ACDLORT')\n",
    "    5\n",
    "    >>> word_score('cartload', 'ACDLORT')\n",
    "    15\n",
    "    \"\"\"\n",
    "    return 0"
   ]
  },
  {
   "cell_type": "code",
   "execution_count": null,
   "id": "d33ccc72",
   "metadata": {},
   "outputs": [],
   "source": [
    "# Solution goes here"
   ]
  },
  {
   "cell_type": "code",
   "execution_count": null,
   "id": "8041a6b1",
   "metadata": {},
   "outputs": [],
   "source": [
    "run_doctests(word_score)"
   ]
  },
  {
   "cell_type": "markdown",
   "id": "2a28bf6b",
   "metadata": {},
   "source": [
    "Lè tout fonksyon ou yo pase tès yo, itilize bouk sa a pou fouye lis mo a pou mo akseptab epi ajoute nòt yo."
   ]
  },
  {
   "cell_type": "code",
   "execution_count": null,
   "id": "43cda1eb",
   "metadata": {
    "lines_to_next_cell": 1
   },
   "outputs": [],
   "source": [
    "available = 'ACDLORT'\n",
    "required = 'R'\n",
    "total = 0\n",
    "\n",
    "file_object = open('words.txt')\n",
    "for line in file_object:\n",
    "    word = line.strip()    \n",
    "    if check_word(word, available, required):\n",
    "        score = word_score(word, available)\n",
    "        total = total + score\n",
    "        print(word, score)\n",
    "        \n",
    "print(\"Total score\", total)"
   ]
  },
  {
   "cell_type": "markdown",
   "id": "f7b64430",
   "metadata": {},
   "source": [
    "Ale sou paj \"Spelling Bee\" la <https://www.nytimes.com/puzzles/spelling-bee> epi tape lèt disponib pou jou a.\n",
    "Lèt ki an mitan an obligatwa.\n",
    "\n",
    "Mwen jwenn yon seri lèt ki bay mo ak yon total 5820 pwen.\n",
    "Eske ou ka bat sa? Jwenn pi bon seri lèt la ka twò difisil — ou dwe pragmatik."
   ]
  },
  {
   "cell_type": "markdown",
   "id": "6b10a24f",
   "metadata": {},
   "source": [
    "### Egzèsis\n",
    "\n",
    "Ou te ka remake ke fonksyon ou yo te ekri nan egzèsis anvan yo te sanble anpil.\n",
    "An reyalite, yo tèlman sanble ou ka souvan itilize youn pou ekri yon lòt.\n",
    "\n",
    "Pa egzanp, si yon mo pa itilize okenn lèt entèdi, sa vle di li pa itilize okenn.\n",
    "Kidonk nou ka ekri yon vèsyon `uses_none` konsa."
   ]
  },
  {
   "cell_type": "code",
   "execution_count": null,
   "id": "c0b68783",
   "metadata": {
    "lines_to_next_cell": 1
   },
   "outputs": [],
   "source": [
    "def uses_none(word, forbidden):\n",
    "    \"\"\"Tcheke si yon mo evite lèt entèdi.\n",
    "    \n",
    "    >>> uses_none('banana', 'xyz')\n",
    "    True\n",
    "    >>> uses_none('apple', 'efg')\n",
    "    False\n",
    "    >>> uses_none('', 'abc')\n",
    "    True\n",
    "    \"\"\"\n",
    "    return not uses_any(word, forbidden)"
   ]
  },
  {
   "cell_type": "code",
   "execution_count": null,
   "id": "d96cc047",
   "metadata": {},
   "outputs": [],
   "source": [
    "run_doctests(uses_none)"
   ]
  },
  {
   "cell_type": "markdown",
   "id": "76c28254",
   "metadata": {},
   "source": [
    "Gen tou yon similarite ant `uses_only` ak `uses_all` ke ou ka pran avantaj de.\n",
    "Si ou gen yon vèsyon `uses_only` ki mache, eseye ekri yon vèsyon `uses_all` ki rele `uses_only`."
   ]
  },
  {
   "cell_type": "markdown",
   "id": "10c91d0e",
   "metadata": {},
   "source": [
    "### Egzèsis\n",
    "\n",
    "Si ou bloke sou kesyon anvan an, eseye mande yon asistan vityèl, \"Bay yon fonksyon, `uses_only`, ki pran de chèn ak tcheke ke premye a itilize sèlman lèt nan dezyèm lan, itilize li pou ekri `uses_all`, ki pran de chèn epi tcheke si premye a itilize tout lèt ki nan dezyèm lan, li kapab repete lèt yo.\"\n",
    "\n",
    "Itilize `run_doctests` pou tcheke repons la."
   ]
  },
  {
   "cell_type": "code",
   "execution_count": null,
   "id": "56e58367",
   "metadata": {},
   "outputs": [],
   "source": [
    "# Solution goes here"
   ]
  },
  {
   "cell_type": "code",
   "execution_count": null,
   "id": "07c1b8af",
   "metadata": {},
   "outputs": [],
   "source": [
    "run_doctests(uses_all)"
   ]
  },
  {
   "cell_type": "markdown",
   "id": "605bf621",
   "metadata": {},
   "source": [
    "### Egzèsis\n",
    "\n",
    "Kounye a ann wè si nou ka ekri `uses_all` baze sou `uses_any`.\n",
    "\n",
    "Mande yon asistan vityèl, \"Bay yon fonksyon, `uses_any`, ki pran de chèn epi tcheke si premye a itilize nenpòt lèt nan dezyèm lan, èske ou ka itilize li pou ekri `uses_all`, ki pran de chèn epi tcheke si premye a itilize tout lèt nan dezyèm lan, li kapab repete lèt yo.\"\n",
    "\n",
    "Si li di li kapab, asire ou teste rezilta a!"
   ]
  },
  {
   "cell_type": "code",
   "execution_count": null,
   "id": "c179afd4",
   "metadata": {},
   "outputs": [],
   "source": [
    "# Solution goes here"
   ]
  },
  {
   "cell_type": "code",
   "execution_count": null,
   "id": "5473073d",
   "metadata": {},
   "outputs": [],
   "source": [
    "# Solution goes here"
   ]
  },
  {
   "cell_type": "code",
   "execution_count": null,
   "id": "6beda3d7",
   "metadata": {},
   "outputs": [],
   "source": []
  }
 ],
 "metadata": {
  "jupytext": {
   "cell_metadata_filter": "-all",
   "main_language": "python",
   "notebook_metadata_filter": "-all"
  },
  "language_info": {
   "name": "python"
  }
 },
 "nbformat": 4,
 "nbformat_minor": 5
}
