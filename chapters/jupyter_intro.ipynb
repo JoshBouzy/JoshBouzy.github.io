{
 "cells": [
  {
   "cell_type": "markdown",
   "id": "eec3ba42",
   "metadata": {},
   "source": [
    "Ou ka kòmande vèsyon enprime ak ebook *Think Python 3e* soti nan\n",
    "[Bookshop.org](https://bookshop.org/a/98697/9781098155438) ak\n",
    "[Amazon](https://www.amazon.com/_/dp/1098155432?smid=ATVPDKIKX0DER&_encoding=UTF8&tag=oreilly20-20&_encoding=UTF8&tag=greenteapre01-20&linkCode=ur2&linkId=e2a529f94920295d27ec8a06e757dc7c&camp=1789&creative=9325)."
   ]
  },
  {
   "cell_type": "markdown",
   "id": "1fd994b3",
   "metadata": {},
   "source": [
    "# *Think Python* sou Jupyter\n",
    "\n",
    "Sa a se yon introduksyon a notebook Jupyter pou moun k ap li twazyèm edisyon [*Think Python*](https://greenteapress.com/wp/think-python-3rd-edition) pa Allen B. Downey.\n",
    "\n",
    "Yon notebook Jupyter se yon dokiman ki gen tèks, kod, ak rezilta kod la.\n",
    "Ou ka li yon notebook tankou ou li yon liv, men ou ka tou kouri kod la, modifye li, epi devlope nouvo pwogram.\n",
    "\n",
    "Notebook Jupyter kouri anndan yon navigatè web, donk ou ka kouri yo san enstale nouvo lojisyèl.\n",
    "Men yo dwe konekte a yon sèvè Jupyter.\n",
    "\n",
    "Ou ka enstale epi kouri yon sèvè ou menm, men pou kòmanse li pi fasil pou itilize yon sèvis tankou [Colab](https://colab.research.google.com/), ki se sèvis Google.\n",
    "\n",
    "[Nan paj kòmanse pou liv la](https://allendowney.github.io/ThinkPython) ou pral jwenn yon lyen pou chak chapit.\n",
    "Si ou klike sou youn nan lyen sa yo, sa ap louvri yon notebook sou Colab."
   ]
  },
  {
   "cell_type": "markdown",
   "id": "4bbe626d",
   "metadata": {},
   "source": [
    "Si ou ap li notebook sa a sou Colab, ou ta dwe wè yon logo zoranj anwo agoch ki sanble ak lèt `CO`.\n",
    "\n",
    "Si ou pa ap kouri notebook sa a sou Colab, [ou ka klike la a pou louvri li sou Colab](https://colab.research.google.com/github/AllenDowney/ThinkPython/blob/v3/chapters/jupyter_intro.ipynb)."
   ]
  },
  {
   "cell_type": "markdown",
   "id": "11c32c3a",
   "metadata": {},
   "source": [
    "## Ki sa yon notebook ye?\n",
    "\n",
    "Yon notebook Jupyter konpoze de selil, kote chak selil gen swa tèks oswa kod.\n",
    "Selil sa a gen tèks.\n",
    "\n",
    "Selil ki swiv la gen kod."
   ]
  },
  {
   "cell_type": "code",
   "execution_count": null,
   "id": "172d68e1",
   "metadata": {},
   "outputs": [],
   "source": [
    "print('Hello')"
   ]
  },
  {
   "cell_type": "markdown",
   "id": "1171aec1",
   "metadata": {},
   "source": [
    "Klike sou selil anvan an pou seleksyone li.\n",
    "Ou ta dwe wè yon bouton sou bò agoch ak yon triyang anndan yon sèk, ki se ikòn \"Play\".\n",
    "Si ou peze bouton sa a, Jupyter kouri kod la nan selil la epi montre rezilta a.\n",
    "\n",
    "Lè ou kouri kod nan yon notebook pou premye fwa, sa ka pran kèk segond pou demare.\n",
    "E si se yon notebook ou pa ekri, ou ka jwenn yon mesaj avètisman.\n",
    "Si ou kouri yon notebook ki soti nan yon sous ou fè konfyans (espere ke mwen), ou ka peze \"Run Anyway\"."
   ]
  },
  {
   "cell_type": "markdown",
   "id": "165be483",
   "metadata": {},
   "source": [
    "Olye de klike sou bouton \"Play\", ou ka tou kouri kod selil la lè ou kenbe `Shift` ak peze `Enter`.\n",
    "\n",
    "Si ou ap kouri notebook sa a sou Colab, ou ta dwe wè bouton anwo agoch ki di \"+ Code\" ak \"+ Text\". Premye a ajoute yon selil kod epi dezyèm lan ajoute yon selil tèks.\n",
    "Si ou vle eseye yo, seleksyone selil sa a pa klike sou li, apre sa peze bouton \"+ Text\".\n",
    "Yon nouvo selil ta dwe parèt anba selil sa a."
   ]
  },
  {
   "cell_type": "markdown",
   "id": "21f1ea69",
   "metadata": {},
   "source": [
    "Ajoute kèk tèks nan selil la.\n",
    "Ou ka itilize bouton yo pou fòmate li, oswa ou ka itilize [Markdown](https://www.markdownguide.org/basic-syntax/) pou mete fòm.\n",
    "Lè ou fini, kenbe `Shift` epi peze `Enter`, sa ap fòmate tèks ou sot tape a epi apre sa ale nan selil apre a."
   ]
  },
  {
   "cell_type": "markdown",
   "id": "2cf2eb68",
   "metadata": {},
   "source": [
    "Chak fwa Jupyter se an youn nan de mòd:\n",
    "\n",
    "* Nan **mòd komann** (command mode), ou ka fè operasyon ki afekte selil yo, tankou ajoute ak retire selil konplè.\n",
    "\n",
    "* Nan **mòd edisyon** (edit mode), ou ka modifye kontni yon selil.\n",
    "\n",
    "Avèk selil tèks, li evidan ki mòd ou ye.\n",
    "Nan mòd edisyon, selil la separe an vètikal, ak tèks ou ap modifye a sou bò gòch ak tèks fòmate a sou bò dwat.\n",
    "E ou pral wè zouti edisyon tèks anwo a.\n",
    "Nan mòd komann, ou wè sèlman tèks fòmate a.\n",
    "\n",
    "Avèk selil kod, diferans la pi subtil, men si gen yon kurse anndan selil la, ou nan mòd edisyon.\n",
    "\n",
    "Pou soti nan mòd edisyon ale mòd komann, peze `ESC`.\n",
    "Pou soti nan mòd komann ale mòd edisyon, peze `Enter`."
   ]
  },
  {
   "cell_type": "markdown",
   "id": "3067cd4a",
   "metadata": {},
   "source": [
    "Lè ou fini travay sou yon notebook, ou ka fèmen fenèt la, men nenpòt chanjman ou fè ap disparèt.\n",
    "Si ou fè chanjman ou vle kenbe, ouvri meni File anwo agoch.\n",
    "Ou pral wè plizyè fason pou sove notebook la.\n",
    "\n",
    "* Si ou gen yon kont Google, ou ka sove notebook la nan Drive ou.\n",
    "\n",
    "* Si ou gen yon kont GitHub, ou ka sove li sou GitHub.\n",
    "\n",
    "* Ou ka tou sove notebook la sou òdinatè ou lè ou chwazi \"Download\" epi apre sa \"Download .ipynb\". Sifiz `.ipynb` endike li se yon fichye notebook, pa `.py` ki se pou fichye Python kod sèlman."
   ]
  },
  {
   "cell_type": "markdown",
   "id": "a0377a2d",
   "metadata": {},
   "source": [
    "## Kod pou *Think Python*\n",
    "\n",
    "An kòmansman chak notebook, ou pral wè yon selil ak kod konsa:"
   ]
  },
  {
   "cell_type": "code",
   "execution_count": null,
   "id": "f014378b",
   "metadata": {},
   "outputs": [],
   "source": [
    "from os.path import basename, exists\n",
    "\n",
    "def download(url):\n",
    "    filename = basename(url)\n",
    "    if not exists(filename):\n",
    "        from urllib.request import urlretrieve\n",
    "\n",
    "        local, _ = urlretrieve(url, filename)\n",
    "        print(\"Downloaded \" + str(local))\n",
    "    return filename\n",
    "\n",
    "download('https://raw.githubusercontent.com/AllenDowney/ThinkPython/v3/thinkpython.py')\n",
    "\n",
    "import thinkpython"
   ]
  },
  {
   "cell_type": "markdown",
   "id": "1cd9ec8c",
   "metadata": {},
   "source": [
    "Ou pa bezwen konnen kijan kod sa a mache, men lè ou fini ak liv la, pifò sa ap gen sans.\n",
    "Jan ou ka devine, li telechaje yon fichye — spesyalman, li telechaje `thinkpython.py`, ki gen kod Python bay espesifikman pou liv sa a.\n",
    "Dènye liy la \"importe\" kod sa a, sa vle di nou ka itilize kod la anndan notebook la.\n",
    "\n",
    "Nan lòt chapit, ou pral wè kod ki telechaje `diagram.py`, ki itilize pou pwodwi dyagram nan liv la, ak `jupyturtle.py`, ki itilize nan plizyè chapit pou kreye grafik tòti (turtle).\n",
    "\n",
    "Pafwa ou pral wè yon selil ki kòmanse ak `%%expect`."
   ]
  },
  {
   "cell_type": "code",
   "execution_count": null,
   "id": "9d0f3a77",
   "metadata": {},
   "outputs": [],
   "source": [
    "%%expect SyntaxError\n",
    "\n",
    "abs 42"
   ]
  },
  {
   "cell_type": "markdown",
   "id": "5be937e6",
   "metadata": {},
   "source": [
    "`%%expect` pa pati Python — se yon \"magic command\" Jupyter ki endike nou atann selil sa a pwodui yon erè.\n",
    "Lè ou wè kòmand sa a, sa vle di erè a se fè espre, souvan pou averti w sou yon pièj komen."
   ]
  },
  {
   "cell_type": "markdown",
   "id": "997a8a37",
   "metadata": {},
   "source": [
    "Pou plis sou kijan kouri notebook Jupyter sou Colab, [klike la a](https://colab.research.google.com/notebooks/basic_features_overview.ipynb).\n",
    "\n",
    "Oubyen, si ou pare pou kòmanse, [klike la a pou li Chapit 1](https://colab.research.google.com/github/AllenDowney/ThinkPython/blob/v3/chapters/chap01.ipynb)."
   ]
  },
  {
   "cell_type": "markdown",
   "id": "d29d2a7a",
   "metadata": {},
   "source": [
    "*Think Python*, 3èm edisyon.\n",
    "\n",
    "Copyright 2023 [Allen B. Downey](https://allendowney.com)\n",
    "\n",
    "Lisans: [Creative Commons Attribution-NonCommercial-ShareAlike 4.0 International](https://creativecommons.org/licenses/by-nc-sa/4.0/)"
   ]
  }
 ],
 "metadata": {
  "jupytext": {
   "cell_metadata_filter": "-all",
   "main_language": "python",
   "notebook_metadata_filter": "-all"
  },
  "language_info": {
   "name": "python"
  }
 },
 "nbformat": 4,
 "nbformat_minor": 5
}
