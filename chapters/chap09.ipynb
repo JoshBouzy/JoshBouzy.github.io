{
 "cells": [
  {
   "cell_type": "markdown",
   "id": "2e928bf3",
   "metadata": {},
   "source": [
    "Ou ka kòmande vèsyon enprime ak liv elektwonik *Think Python 3e* soti nan\n",
    "[Bookshop.org](https://bookshop.org/a/98697/9781098155438) ak\n",
    "[Amazon](https://www.amazon.com/_/dp/1098155432?smid=ATVPDKIKX0DER&_encoding=UTF8&tag=oreilly20-20&_encoding=UTF8&tag=greenteapre01-20&linkCode=ur2&linkId=e2a529f94920295d27ec8a06e757dc7c&camp=1789&creative=9325)."
   ]
  },
  {
   "cell_type": "code",
   "execution_count": null,
   "id": "8ba7e8fc",
   "metadata": {},
   "outputs": [],
   "source": [
    "from os.path import basename, exists\n",
    "\n",
    "def download(url):\n",
    "    filename = basename(url)\n",
    "    if not exists(filename):\n",
    "        from urllib.request import urlretrieve\n",
    "\n",
    "        local, _ = urlretrieve(url, filename)\n",
    "        print(\"Downloaded \" + str(local))\n",
    "    return filename\n",
    "\n",
    "download('https://github.com/AllenDowney/ThinkPython/raw/v3/thinkpython.py');\n",
    "download('https://github.com/AllenDowney/ThinkPython/raw/v3/diagram.py');\n",
    "\n",
    "import thinkpython"
   ]
  },
  {
   "cell_type": "markdown",
   "id": "87742e69",
   "metadata": {},
   "source": [
    "# Lis\n",
    "\n",
    "Chapit sa a prezante youn nan tip bati-an ki pi itil nan Python, lis.\n",
    "Ou pral tou aprann plis sou objè ak sa ki ka rive lè plizyè varyab refere a menm objè.\n",
    "\n",
    "Nan egzèsis ki anfen chapit la, nou pral fè yon lis mo epi itilize li pou fouye mo espesyal tankou palindwòm ak anagram."
   ]
  },
  {
   "cell_type": "markdown",
   "id": "852f5ab6",
   "metadata": {},
   "source": [
    "## Yon lis se yon sekans\n",
    "\n",
    "Menm jan ak yon chèn, yon **lis** se yon sekans valè. Nan yon chèn, valè yo se karaktè; nan yon lis, yo ka nenpòt tip.\n",
    "Valè ki nan yon lis yo rele **eleman**.\n",
    "\n",
    "Gen plizyè fason pou kreye yon nouvo lis; pi senp la se mete eleman yo anbraye nan crochets (`[` ak `]`).\n",
    "Pa egzanp, men yon lis de antye."
   ]
  },
  {
   "cell_type": "code",
   "execution_count": null,
   "id": "d75c1131",
   "metadata": {},
   "outputs": [],
   "source": [
    "numbers = [42, 123]"
   ]
  },
  {
   "cell_type": "markdown",
   "id": "f4eaf55f",
   "metadata": {},
   "source": [
    "E men yon lis twa chèn."
   ]
  },
  {
   "cell_type": "code",
   "execution_count": null,
   "id": "965e458a",
   "metadata": {},
   "outputs": [],
   "source": [
    "cheeses = ['Cheddar', 'Edam', 'Gouda']"
   ]
  },
  {
   "cell_type": "markdown",
   "id": "cbab9be1",
   "metadata": {},
   "source": [
    "Eleman yon lis pa bezwen menm tip.\n",
    "Lis sa a gen yon chèn, yon floan, yon antye, epi menm yon lòt lis."
   ]
  },
  {
   "cell_type": "code",
   "execution_count": null,
   "id": "b29033d4",
   "metadata": {},
   "outputs": [],
   "source": [
    "t = ['spam', 2.0, 5, [10, 20]]"
   ]
  },
  {
   "cell_type": "markdown",
   "id": "1d8864c5",
   "metadata": {},
   "source": [
    "Yon lis anndan yon lòt lis rele **lis anbraye** (nested).\n",
    "\n",
    "Yon lis ki pa gen eleman rele yon lis vid; ou ka kreye youn ak crochets vid, `[]`."
   ]
  },
  {
   "cell_type": "code",
   "execution_count": null,
   "id": "699f21cb",
   "metadata": {},
   "outputs": [],
   "source": [
    "empty = []"
   ]
  },
  {
   "cell_type": "markdown",
   "id": "99da8eed",
   "metadata": {},
   "source": [
    "Fonksyon `len` retounen longè yon lis."
   ]
  },
  {
   "cell_type": "code",
   "execution_count": null,
   "id": "766cdd63",
   "metadata": {},
   "outputs": [],
   "source": [
    "len(cheeses)"
   ]
  },
  {
   "cell_type": "markdown",
   "id": "b25d23ea",
   "metadata": {},
   "source": [
    "Longè yon lis vid se `0`."
   ]
  },
  {
   "cell_type": "code",
   "execution_count": null,
   "id": "86c58af1",
   "metadata": {},
   "outputs": [],
   "source": [
    "len(empty)"
   ]
  },
  {
   "cell_type": "markdown",
   "id": "5b154e92",
   "metadata": {},
   "source": [
    "Dyagram eta sa a montre `cheeses`, `numbers` ak `empty`."
   ]
  },
  {
   "cell_type": "code",
   "execution_count": null,
   "id": "a99c2a16",
   "metadata": {},
   "outputs": [],
   "source": [
    "from diagram import make_list, Binding, Value\n",
    "\n",
    "list1 = make_list(cheeses, dy=-0.3, offsetx=0.17)\n",
    "binding1 = Binding(Value('cheeses'), list1)\n",
    "\n",
    "list2 = make_list(numbers, dy=-0.3, offsetx=0.17)\n",
    "binding2 = Binding(Value('numbers'), list2)\n",
    "\n",
    "list3 = make_list(empty, dy=-0.3, offsetx=0.1)\n",
    "binding3 = Binding(Value('empty'), list3)"
   ]
  },
  {
   "cell_type": "code",
   "execution_count": null,
   "id": "ed210e53",
   "metadata": {},
   "outputs": [],
   "source": [
    "from diagram import diagram, adjust, Bbox\n",
    "\n",
    "width, height, x, y = [3.66, 1.58, 0.45, 1.2]\n",
    "ax = diagram(width, height)\n",
    "bbox1 = binding1.draw(ax, x, y)\n",
    "bbox2 = binding2.draw(ax, x+2.25, y)\n",
    "bbox3 = binding3.draw(ax, x+2.25, y-1.0)\n",
    "\n",
    "bbox = Bbox.union([bbox1, bbox2, bbox3])\n",
    "#adjust(x, y, bbox)"
   ]
  },
  {
   "cell_type": "markdown",
   "id": "7e1e972c",
   "metadata": {},
   "source": [
    "Lis reprezante pa bwat ak mo \"list\" deyò epi eleman yo numewote anndan."
   ]
  },
  {
   "cell_type": "markdown",
   "id": "c7036f70",
   "metadata": {},
   "source": [
    "## Lis yo chanjab (mutable)\n",
    "\n",
    "Pou li yon eleman lis, nou ka itilize operatè crochet.\n",
    "Indèks premye eleman an se `0`."
   ]
  },
  {
   "cell_type": "code",
   "execution_count": null,
   "id": "25573848",
   "metadata": {},
   "outputs": [],
   "source": [
    "cheeses[0]"
   ]
  },
  {
   "cell_type": "markdown",
   "id": "5aa231a5",
   "metadata": {},
   "source": [
    "Kontrèman ak chèn, lis yo chanjab. Lè operatè crochet parèt sou bò gòch yon afektasyon, li idantifye eleman lis la k ap resevwa afektasyon an."
   ]
  },
  {
   "cell_type": "code",
   "execution_count": null,
   "id": "1aedd5d8",
   "metadata": {},
   "outputs": [],
   "source": [
    "numbers[1] = 17\n",
    "numbers"
   ]
  },
  {
   "cell_type": "markdown",
   "id": "84c21832",
   "metadata": {},
   "source": [
    "Dezyèm eleman `numbers`, ki te `123`, kounye a se `17`.\n",
    "\n",
    "Indèks lis fonksyone menm jan ak indèks chèn:\n",
    "\n",
    "-   Ou ka itilize nenpòt ekspresyon antye kòm indèks.\n",
    "\n",
    "-   Si ou eseye li oswa ekri yon eleman ki pa egziste, ou jwenn\n",
    "    `IndexError`.\n",
    "\n",
    "-   Si yon indèks gen valè negatif, li konte apati fen lis la.\n",
    "\n",
    "Operatè `in` mache sou lis — li tcheke si yon eleman parèt nenpòt kote nan lis la."
   ]
  },
  {
   "cell_type": "code",
   "execution_count": null,
   "id": "bac16128",
   "metadata": {},
   "outputs": [],
   "source": [
    "'Edam' in cheeses"
   ]
  },
  {
   "cell_type": "code",
   "execution_count": null,
   "id": "5c392e6c",
   "metadata": {},
   "outputs": [],
   "source": [
    "'Wensleydale' in cheeses"
   ]
  },
  {
   "cell_type": "markdown",
   "id": "b4da59bb",
   "metadata": {},
   "source": [
    "Menmsi yon lis ka gen yon lòt lis, lis anbraye a toujou konte kòm yon sèl eleman — kidonk nan lis sa a, gen sèlman kat eleman."
   ]
  },
  {
   "cell_type": "code",
   "execution_count": null,
   "id": "a7eb5e00",
   "metadata": {},
   "outputs": [],
   "source": [
    "t = ['spam', 2.0, 5, [10, 20]]\n",
    "len(t)"
   ]
  },
  {
   "cell_type": "markdown",
   "id": "c2a70c9b",
   "metadata": {},
   "source": [
    "E `10` pa konsidere kòm eleman `t` paske li se eleman yon lis anbraye, pa `t` li menm."
   ]
  },
  {
   "cell_type": "code",
   "execution_count": null,
   "id": "fd746d0c",
   "metadata": {},
   "outputs": [],
   "source": [
    "10 in t"
   ]
  },
  {
   "cell_type": "markdown",
   "id": "f54a52b5",
   "metadata": {},
   "source": [
    "## Slices lis\n",
    "\n",
    "Operatè slice mache sou lis menm jan li mache sou chèn.\n",
    "Egzanp sa a chwazi dezyèm ak twazyèm eleman yon lis ki gen kat lèt."
   ]
  },
  {
   "cell_type": "code",
   "execution_count": null,
   "id": "d017468f",
   "metadata": {},
   "outputs": [],
   "source": [
    "letters = ['a', 'b', 'c', 'd']\n",
    "letters[1:3]"
   ]
  },
  {
   "cell_type": "markdown",
   "id": "6f9960b9",
   "metadata": {},
   "source": [
    "Si ou omèt premye indèks la, slice la kòmanse depi kòmansman lis la."
   ]
  },
  {
   "cell_type": "code",
   "execution_count": null,
   "id": "90d97028",
   "metadata": {},
   "outputs": [],
   "source": [
    "letters[:2]"
   ]
  },
  {
   "cell_type": "markdown",
   "id": "d3c6aa4c",
   "metadata": {},
   "source": [
    "Si ou omèt dezyèm indèks la, slice la ale jiska fen lis la."
   ]
  },
  {
   "cell_type": "code",
   "execution_count": null,
   "id": "9711e9ed",
   "metadata": {},
   "outputs": [],
   "source": [
    "letters[2:]"
   ]
  },
  {
   "cell_type": "markdown",
   "id": "bf5c6b59",
   "metadata": {},
   "source": [
    "Si ou omèt toude, slice la se yon kopi tout lis la."
   ]
  },
  {
   "cell_type": "code",
   "execution_count": null,
   "id": "c2ed7941",
   "metadata": {},
   "outputs": [],
   "source": [
    "letters[:]"
   ]
  },
  {
   "cell_type": "markdown",
   "id": "ef159d4d",
   "metadata": {},
   "source": [
    "Yon lòt fason pou kopye yon lis se itilize fonksyon `list`."
   ]
  },
  {
   "cell_type": "code",
   "execution_count": null,
   "id": "41933bcc",
   "metadata": {},
   "outputs": [],
   "source": [
    "list(letters)"
   ]
  },
  {
   "cell_type": "markdown",
   "id": "956e4922",
   "metadata": {},
   "source": [
    "Paske `list` se non yon fonksyon bati-an, ou dwe evite itilize li kòm non varyab."
   ]
  },
  {
   "cell_type": "markdown",
   "id": "e1d2f7f8",
   "metadata": {},
   "source": [
    "## Operasyon lis\n",
    "\n",
    "Operatè `+` konkatenen lis."
   ]
  },
  {
   "cell_type": "code",
   "execution_count": null,
   "id": "3f2add60",
   "metadata": {},
   "outputs": [],
   "source": [
    "t1 = [1, 2]\n",
    "t2 = [3, 4]\n",
    "t1 + t2"
   ]
  },
  {
   "cell_type": "markdown",
   "id": "de5b44ad",
   "metadata": {},
   "source": [
    "Operatè `*` repete yon lis n fwa."
   ]
  },
  {
   "cell_type": "code",
   "execution_count": null,
   "id": "82c44150",
   "metadata": {},
   "outputs": [],
   "source": [
    "['spam'] * 4"
   ]
  },
  {
   "cell_type": "markdown",
   "id": "3df0286c",
   "metadata": {},
   "source": [
    "Pa gen lòt operatè matematik ki mache ak lis, men fonksyon bati-an `sum` adisyone eleman yo."
   ]
  },
  {
   "cell_type": "code",
   "execution_count": null,
   "id": "442281bb",
   "metadata": {},
   "outputs": [],
   "source": [
    "sum(t1)"
   ]
  },
  {
   "cell_type": "markdown",
   "id": "f5f9d6db",
   "metadata": {},
   "source": [
    "E `min` ak `max` jwenn pi piti ak pi gran eleman."
   ]
  },
  {
   "cell_type": "code",
   "execution_count": null,
   "id": "ebd5ba7a",
   "metadata": {},
   "outputs": [],
   "source": [
    "min(t1)"
   ]
  },
  {
   "cell_type": "code",
   "execution_count": null,
   "id": "83a203a2",
   "metadata": {},
   "outputs": [],
   "source": [
    "max(t2)"
   ]
  },
  {
   "cell_type": "markdown",
   "id": "66ed98f6",
   "metadata": {},
   "source": [
    "## Metòd lis\n",
    "\n",
    "Python bay metòd ki opere sou lis. Pa egzanp, `append`\n",
    "ajoute yon nouvo eleman nan fen lis la:"
   ]
  },
  {
   "cell_type": "code",
   "execution_count": null,
   "id": "d2d608f2",
   "metadata": {},
   "outputs": [],
   "source": [
    "letters.append('e')\n",
    "letters"
   ]
  },
  {
   "cell_type": "markdown",
   "id": "7ef45e8a",
   "metadata": {},
   "source": [
    "`extend` pran yon lis kòm agiman epi ajoute tout eleman yo:"
   ]
  },
  {
   "cell_type": "code",
   "execution_count": null,
   "id": "d59a3405",
   "metadata": {},
   "outputs": [],
   "source": [
    "letters.extend(['f', 'g'])\n",
    "letters"
   ]
  },
  {
   "cell_type": "markdown",
   "id": "a73c9f09",
   "metadata": {},
   "source": [
    "Gen de metòd ki retire eleman nan lis.\n",
    "Si ou konnen indèks eleman ou vle a, ou ka itilize `pop`."
   ]
  },
  {
   "cell_type": "code",
   "execution_count": null,
   "id": "49fd4d7a",
   "metadata": {},
   "outputs": [],
   "source": [
    "t = ['a', 'b', 'c']\n",
    "t.pop(1)"
   ]
  },
  {
   "cell_type": "markdown",
   "id": "08f8470a",
   "metadata": {},
   "source": [
    "Valè retounen an se eleman ki te retire a.\n",
    "E nou ka konfime ke lis la modifye."
   ]
  },
  {
   "cell_type": "code",
   "execution_count": null,
   "id": "642df04f",
   "metadata": {},
   "outputs": [],
   "source": [
    "t"
   ]
  },
  {
   "cell_type": "markdown",
   "id": "fbb8bc9a",
   "metadata": {},
   "source": [
    "Si ou konnen eleman ou vle retire a (men pa indèks li), ou ka itilize `remove`:"
   ]
  },
  {
   "cell_type": "code",
   "execution_count": null,
   "id": "9888487b",
   "metadata": {},
   "outputs": [],
   "source": [
    "t = ['a', 'b', 'c']\n",
    "t.remove('b')"
   ]
  },
  {
   "cell_type": "markdown",
   "id": "f1c08dfa",
   "metadata": {},
   "source": [
    "Valè retounen soti nan `remove` se `None`.\n",
    "Men nou ka konfime ke lis la modifye."
   ]
  },
  {
   "cell_type": "code",
   "execution_count": null,
   "id": "5cc220fc",
   "metadata": {},
   "outputs": [],
   "source": [
    "t"
   ]
  },
  {
   "cell_type": "markdown",
   "id": "e75bfe87",
   "metadata": {},
   "source": [
    "Si eleman ou mande a pa nan lis la, sa lakòz yon ValueError."
   ]
  },
  {
   "cell_type": "code",
   "execution_count": null,
   "id": "8a203295",
   "metadata": {},
   "outputs": [],
   "source": [
    "%%expect ValueError\n",
    "\n",
    "t.remove('d')"
   ]
  },
  {
   "cell_type": "markdown",
   "id": "38f8078d",
   "metadata": {},
   "source": [
    "## Lis ak chèn\n",
    "\n",
    "Yon chèn se yon sekans karaktè epi yon lis se yon sekans valè,\n",
    "men yon lis karaktè pa menm bagay ak yon chèn. \n",
    "Pou konvèti soti nan chèn an lis karaktè, ou ka itilize fonksyon `list`."
   ]
  },
  {
   "cell_type": "code",
   "execution_count": null,
   "id": "cffd8adb",
   "metadata": {},
   "outputs": [],
   "source": [
    "s = 'spam'\n",
    "t = list(s)\n",
    "t"
   ]
  },
  {
   "cell_type": "markdown",
   "id": "b936cc1a",
   "metadata": {},
   "source": [
    "Fonksyon `list` kraze yon chèn an lèt endividyèl.\n",
    "Si ou vle kraze yon chèn an mo, ou ka itilize metòd `split`:"
   ]
  },
  {
   "cell_type": "code",
   "execution_count": null,
   "id": "0fa70e95",
   "metadata": {},
   "outputs": [],
   "source": [
    "s = 'pining for the fjords'\n",
    "t = s.split()\n",
    "t"
   ]
  },
  {
   "cell_type": "markdown",
   "id": "fcf50161",
   "metadata": {},
   "source": [
    "Yon agiman opsyonèl rele **delimiteur** presize ki karaktè pou itilize kòm separasyon mo. Egzanp sa a itilize yon tirè kòm delimiteur."
   ]
  },
  {
   "cell_type": "code",
   "execution_count": null,
   "id": "9c91deb9",
   "metadata": {},
   "outputs": [],
   "source": [
    "s = 'ex-parrot'\n",
    "t = s.split('-')\n",
    "t"
   ]
  },
  {
   "cell_type": "markdown",
   "id": "1fdc26dd",
   "metadata": {},
   "source": [
    "Si ou gen yon lis chèn, ou ka kontkatene yo an yon sèl chèn itilize `join`.\n",
    "`join` se yon metòd chèn, kidonk ou dwe envoke li sou delimiteur a epi pase lis la kòm agiman."
   ]
  },
  {
   "cell_type": "code",
   "execution_count": null,
   "id": "fecb1cb7",
   "metadata": {},
   "outputs": [],
   "source": [
    "delimiter = ' '\n",
    "t = ['pining', 'for', 'the', 'fjords']\n",
    "s = delimiter.join(t)\n",
    "s"
   ]
  },
  {
   "cell_type": "markdown",
   "id": "8fa5ccd9",
   "metadata": {},
   "source": [
    "Nan ka sa a, delimiteur a se yon espas, kidonk `join` mete yon espas\n",
    "ant mo yo.\n",
    "Pou mete chèn yo san espas, ou ka itilize chèn vid, `''`, kòm delimiteur."
   ]
  },
  {
   "cell_type": "markdown",
   "id": "dcae10f3",
   "metadata": {},
   "source": [
    "## Bouk sou yon lis\n",
    "\n",
    "Ou ka itilize enstriksyon `for` pou boukle sou eleman yon lis."
   ]
  },
  {
   "cell_type": "code",
   "execution_count": null,
   "id": "566506d9",
   "metadata": {},
   "outputs": [],
   "source": [
    "for cheese in cheeses:\n",
    "    print(cheese)"
   ]
  },
  {
   "cell_type": "markdown",
   "id": "9fe4d4a4",
   "metadata": {},
   "source": [
    "Pa egzanp, apre ou itilize `split` pou fè yon lis mo, nou ka itilize `for` pou boukle sou yo."
   ]
  },
  {
   "cell_type": "code",
   "execution_count": null,
   "id": "b69b6e0f",
   "metadata": {},
   "outputs": [],
   "source": [
    "s = 'pining for the fjords'\n",
    "\n",
    "for word in s.split():\n",
    "    print(word)"
   ]
  },
  {
   "cell_type": "markdown",
   "id": "d8c1e3b4",
   "metadata": {},
   "source": [
    "Yon bouk `for` sou yon lis vid pa janm kouri enstriksyon andante yo."
   ]
  },
  {
   "cell_type": "code",
   "execution_count": null,
   "id": "8d410051",
   "metadata": {},
   "outputs": [],
   "source": [
    "for x in []:\n",
    "    print('This never happens.')"
   ]
  },
  {
   "cell_type": "markdown",
   "id": "d245002a",
   "metadata": {},
   "source": [
    "## Triye lis\n",
    "\n",
    "Python bay yon fonksyon bati-an ki rele `sorted` ki triye eleman yon lis."
   ]
  },
  {
   "cell_type": "code",
   "execution_count": null,
   "id": "83713fcb",
   "metadata": {},
   "outputs": [],
   "source": [
    "scramble = ['c', 'a', 'b']\n",
    "sorted(scramble)"
   ]
  },
  {
   "cell_type": "markdown",
   "id": "457971b6",
   "metadata": {},
   "source": [
    "Lis orijinal la pa chanje."
   ]
  },
  {
   "cell_type": "code",
   "execution_count": null,
   "id": "c5a9c602",
   "metadata": {},
   "outputs": [],
   "source": [
    "scramble"
   ]
  },
  {
   "cell_type": "markdown",
   "id": "6f112311",
   "metadata": {},
   "source": [
    "`sorted` mache ak nenpòt kalite sekans, pa sèlman lis. Konsa nou ka triye lèt nan yon chèn konsa."
   ]
  },
  {
   "cell_type": "code",
   "execution_count": null,
   "id": "62d2f670",
   "metadata": {},
   "outputs": [],
   "source": [
    "sorted('letters')"
   ]
  },
  {
   "cell_type": "markdown",
   "id": "70b39dff",
   "metadata": {},
   "source": [
    "Rezilta a se yon lis.\n",
    "Pou konvèti lis la an chèn, nou ka itilize `join`."
   ]
  },
  {
   "cell_type": "code",
   "execution_count": null,
   "id": "a27e6d22",
   "metadata": {},
   "outputs": [],
   "source": [
    "''.join(sorted('letters'))"
   ]
  },
  {
   "cell_type": "markdown",
   "id": "81a78c4c",
   "metadata": {},
   "source": [
    "Avèk chèn vid kòm delimiteur, eleman lis yo mete ansanm san anyen ant yo."
   ]
  },
  {
   "cell_type": "markdown",
   "id": "abc50a84",
   "metadata": {},
   "source": [
    "## Objè ak valè\n",
    "\n",
    "Si nou kouri enstriksyon sa yo:"
   ]
  },
  {
   "cell_type": "code",
   "execution_count": null,
   "id": "0ee6254d",
   "metadata": {},
   "outputs": [],
   "source": [
    "a = 'banana'\n",
    "b = 'banana'"
   ]
  },
  {
   "cell_type": "markdown",
   "id": "b044e44c",
   "metadata": {},
   "source": [
    "Nou konnen ke `a` ak `b` toude refere a yon chèn, men nou pa konnen si y ap refere a *menm* chèn lan. \n",
    "Gen de eta posib, montre nan dyagram ki anba a."
   ]
  },
  {
   "cell_type": "code",
   "execution_count": null,
   "id": "241320b0",
   "metadata": {},
   "outputs": [],
   "source": [
    "from diagram import Frame, Stack\n",
    "\n",
    "s = 'banana'\n",
    "bindings = [Binding(Value(name), Value(repr(s))) for name in 'ab']\n",
    "frame1 = Frame(bindings, dy=-0.25)\n",
    "\n",
    "binding1 = Binding(Value('a'), Value(repr(s)), dy=-0.11)\n",
    "binding2 = Binding(Value('b'), draw_value=False, dy=0.11)\n",
    "frame2 = Frame([binding1, binding2], dy=-0.25)\n",
    "\n",
    "stack = Stack([frame1, frame2], dx=1.7, dy=0)"
   ]
  },
  {
   "cell_type": "code",
   "execution_count": null,
   "id": "2a30c97d",
   "metadata": {},
   "outputs": [],
   "source": [
    "width, height, x, y = [2.85, 0.76, 0.17, 0.51]\n",
    "ax = diagram(width, height)\n",
    "bbox = stack.draw(ax, x, y)\n",
    "# adjust(x, y, bbox)"
   ]
  },
  {
   "cell_type": "markdown",
   "id": "9807fd2c",
   "metadata": {},
   "source": [
    "Nan dyagram agòch la, `a` ak `b` refere a de objè diferan ki gen\n",
    "menm valè. Nan dyagram adwat la, yo refere a menm objè a.\n",
    "Pou tcheke si de varyab refere a menm objè, ou ka itilize operatè `is`."
   ]
  },
  {
   "cell_type": "code",
   "execution_count": null,
   "id": "d6996a2e",
   "metadata": {},
   "outputs": [],
   "source": [
    "a = 'banana'\n",
    "b = 'banana'\n",
    "a is b"
   ]
  },
  {
   "cell_type": "markdown",
   "id": "ec80543d",
   "metadata": {},
   "source": [
    "Nan egzanp sa a, Python kreye sèlman yon objè chèn, epi tou `a`\n",
    "ak `b` refere a li.\n",
    "Men lè ou kreye de lis, ou jwenn de objè."
   ]
  },
  {
   "cell_type": "code",
   "execution_count": null,
   "id": "f1a5ae32",
   "metadata": {},
   "outputs": [],
   "source": [
    "a = [1, 2, 3]\n",
    "b = [1, 2, 3]\n",
    "a is b"
   ]
  },
  {
   "cell_type": "markdown",
   "id": "74e4722f",
   "metadata": {},
   "source": [
    "Dyagram eta a sanble ak sa a."
   ]
  },
  {
   "cell_type": "code",
   "execution_count": null,
   "id": "68618a58",
   "metadata": {},
   "outputs": [],
   "source": [
    "t = [1, 2, 3]\n",
    "binding1 = Binding(Value('a'), Value(repr(t)))\n",
    "binding2 = Binding(Value('b'), Value(repr(t)))\n",
    "frame = Frame([binding1, binding2], dy=-0.25)"
   ]
  },
  {
   "cell_type": "code",
   "execution_count": null,
   "id": "4922b444",
   "metadata": {},
   "outputs": [],
   "source": [
    "width, height, x, y = [1.16, 0.76, 0.21, 0.51]\n",
    "ax = diagram(width, height)\n",
    "bbox = frame.draw(ax, x, y)\n",
    "# adjust(x, y, bbox)"
   ]
  },
  {
   "cell_type": "markdown",
   "id": "a6ef614a",
   "metadata": {},
   "source": [
    "Nan ka sa a nou ta di de lis yo **ekivalan**, paske yo gen menm eleman, men pa **idantik**, paske yo pa menm objè a. \n",
    "Si de objè idantik, yo tou ekivalan, men si yo ekivalan, yo pa nesesèman idantik."
   ]
  },
  {
   "cell_type": "markdown",
   "id": "2c8b0387",
   "metadata": {},
   "source": [
    "## Aliyaj (Aliasing)\n",
    "\n",
    "Si `a` refere a yon objè epi ou afekte `b = a`, alò toude varyab refere a menm objè."
   ]
  },
  {
   "cell_type": "code",
   "execution_count": null,
   "id": "0d63c241",
   "metadata": {},
   "outputs": [],
   "source": [
    "a = [1, 2, 3]\n",
    "b = a\n",
    "b is a"
   ]
  },
  {
   "cell_type": "markdown",
   "id": "fab694d0",
   "metadata": {},
   "source": [
    "Dyagram eta a sanble ak sa a."
   ]
  },
  {
   "cell_type": "code",
   "execution_count": null,
   "id": "c909afcf",
   "metadata": {},
   "outputs": [],
   "source": [
    "t = [1, 2, 3]\n",
    "binding1 = Binding(Value('a'), Value(repr(t)), dy=-0.11)\n",
    "binding2 = Binding(Value('b'), draw_value=False, dy=0.11)\n",
    "frame = Frame([binding1, binding2], dy=-0.25)"
   ]
  },
  {
   "cell_type": "code",
   "execution_count": null,
   "id": "f2c570bf",
   "metadata": {},
   "outputs": [],
   "source": [
    "width, height, x, y = [1.11, 0.81, 0.17, 0.56]\n",
    "ax = diagram(width, height)\n",
    "bbox = frame.draw(ax, x, y)\n",
    "# adjust(x, y, bbox)"
   ]
  },
  {
   "cell_type": "markdown",
   "id": "cfafcfc3",
   "metadata": {},
   "source": [
    "Asosyasyon yon varyab ak yon objè rele yon **referans**.\n",
    "Nan egzanp sa a, gen de referans pou menm objè.\n",
    "\n",
    "Yon objè ki gen plis pase yon referans gen plis pase yon non, donk nou di objè a **aliye** (aliased).\n",
    "Si objè aliye a chanjab, chanjman fè ak youn non afekte lòt la.\n",
    "Nan egzanp sa a, si nou chanje objè `b` refere a, nou tou ap chanje objè `a` refere a."
   ]
  },
  {
   "cell_type": "code",
   "execution_count": null,
   "id": "4be61e66",
   "metadata": {},
   "outputs": [],
   "source": [
    "b[0] = 5\n",
    "a"
   ]
  },
  {
   "cell_type": "markdown",
   "id": "7d7fb278",
   "metadata": {},
   "source": [
    "Kidonk nou ta di `a` \"wè\" chanjman sa a.\n",
    "Menmsi konpòtman sa a ka itil, li fasil pou fè erè.\n",
    "An jeneral, li pi sekirite pou evite aliye lè ou ap travay ak objè chanjab.\n",
    "\n",
    "Pou objè imutabl tankou chèn, aliye pa twò pwoblèm.\n",
    "Nan egzanp sa a:"
   ]
  },
  {
   "cell_type": "code",
   "execution_count": null,
   "id": "1878d55a",
   "metadata": {
    "lines_to_next_cell": 1
   },
   "outputs": [],
   "source": [
    "a = 'banana'\n",
    "b = 'banana'"
   ]
  },
  {
   "cell_type": "markdown",
   "id": "ba991635",
   "metadata": {},
   "source": [
    "Li prèske pa janm fè diferans si `a` ak `b` refere a menm\n",
    "chèn lan ou non."
   ]
  },
  {
   "cell_type": "markdown",
   "id": "12471d50",
   "metadata": {},
   "source": [
    "## Argiman lis\n",
    "\n",
    "Lè ou pase yon lis bay yon fonksyon, fonksyon an resevwa yon referans pou\n",
    "lis la. Si fonksyon an modifye lis la, apelan an ap wè chanjman an. Pa\n",
    "egzanp, `pop_first` itilize metòd lis `pop` pou retire premye eleman yon lis."
   ]
  },
  {
   "cell_type": "code",
   "execution_count": null,
   "id": "aa036f47",
   "metadata": {
    "lines_to_next_cell": 1
   },
   "outputs": [],
   "source": [
    "def pop_first(lst):\n",
    "    return lst.pop(0)"
   ]
  },
  {
   "cell_type": "markdown",
   "id": "24ca8e3b",
   "metadata": {},
   "source": [
    "Nou ka itilize li konsa."
   ]
  },
  {
   "cell_type": "code",
   "execution_count": null,
   "id": "3c5faa86",
   "metadata": {},
   "outputs": [],
   "source": [
    "letters = ['a', 'b', 'c']\n",
    "pop_first(letters)"
   ]
  },
  {
   "cell_type": "markdown",
   "id": "71e59229",
   "metadata": {},
   "source": [
    "Valè retounen an se premye eleman an, ki te retire nan lis la — jan nou ka wè lè nou montre lis modifye a."
   ]
  },
  {
   "cell_type": "code",
   "execution_count": null,
   "id": "5e920a35",
   "metadata": {},
   "outputs": [],
   "source": [
    "letters"
   ]
  },
  {
   "cell_type": "markdown",
   "id": "1d995266",
   "metadata": {},
   "source": [
    "Nan egzanp sa a, paramèt `lst` ak varyab `letters` se alyas pou menm objè, kidonk dyagram eta a sanble ak sa a:"
   ]
  },
  {
   "cell_type": "code",
   "execution_count": null,
   "id": "142b12e0",
   "metadata": {},
   "outputs": [],
   "source": [
    "lst = make_list('abc', dy=-0.3, offsetx=0.1)\n",
    "binding1 = Binding(Value('letters'), draw_value=False)\n",
    "frame1 = Frame([binding1], name='__main__', loc='left')\n",
    "\n",
    "binding2 = Binding(Value('lst'), draw_value=False, dx=0.61, dy=0.35)\n",
    "frame2 = Frame([binding2], name='pop_first', loc='left', offsetx=0.08)\n",
    "\n",
    "stack = Stack([frame1, frame2], dx=-0.3, dy=-0.5)"
   ]
  },
  {
   "cell_type": "code",
   "execution_count": null,
   "id": "9a394241",
   "metadata": {},
   "outputs": [],
   "source": [
    "width, height, x, y = [2.04, 1.24, 1.06, 0.85]\n",
    "ax = diagram(width, height)\n",
    "bbox1 = stack.draw(ax, x, y)\n",
    "bbox2 = lst.draw(ax, x+0.5, y)\n",
    "bbox = Bbox.union([bbox1, bbox2])\n",
    "adjust(x, y, bbox)"
   ]
  },
  {
   "cell_type": "markdown",
   "id": "ff43a95c",
   "metadata": {},
   "source": [
    "Pase yon referans objè kòm argiman a yon fonksyon kreye yon fòm aliye.\n",
    "Si fonksyon an modifye objè a, chanjman sa yo persiste apre fonksyon an fini."
   ]
  },
  {
   "cell_type": "markdown",
   "id": "fd1a2737",
   "metadata": {},
   "source": [
    "## Fè yon lis mo\n",
    "\n",
    "Nan chapit anvan an, nou te li fichye `words.txt` epi fouye mo ki gen kèk pwopriyete, tankou itilize lèt `e`.\n",
    "Men nou te li tout fichye a anpil fwa, ki pa efikas.\n",
    "Li pi bon pou li fichye a yon sèl fwa epi mete mo yo an lis.\n",
    "Bouk sa a montre ki jan."
   ]
  },
  {
   "cell_type": "code",
   "execution_count": null,
   "id": "dd2483fd",
   "metadata": {},
   "outputs": [],
   "source": [
    "download('https://raw.githubusercontent.com/AllenDowney/ThinkPython/v3/words.txt');"
   ]
  },
  {
   "cell_type": "code",
   "execution_count": null,
   "id": "01428f47",
   "metadata": {},
   "outputs": [],
   "source": [
    "word_list = []\n",
    "\n",
    "for line in open('words.txt'):\n",
    "    word = line.strip()\n",
    "    word_list.append(word)\n",
    "    \n",
    "len(word_list)"
   ]
  },
  {
   "cell_type": "markdown",
   "id": "053197fb",
   "metadata": {},
   "source": [
    "Anvan bouk la, `word_list` inisyalize ak yon lis vid.\n",
    "Chak fwa nou pase nan bouk la, metòd `append` ajoute yon mo nan fen lis la.\n",
    "Lè bouk la fini, gen plis pase 113,000 mo nan lis la.\n",
    "\n",
    "Yon lòt fason pou fè menm bagay la se itilize `read` pou li tout fichye a an yon sèl chèn."
   ]
  },
  {
   "cell_type": "code",
   "execution_count": null,
   "id": "29c2b0b7",
   "metadata": {},
   "outputs": [],
   "source": [
    "string = open('words.txt').read()\n",
    "len(string)"
   ]
  },
  {
   "cell_type": "markdown",
   "id": "2e378b64",
   "metadata": {},
   "source": [
    "Rezilta a se yon sèl chèn ak plis pase yon milyon karaktè.\n",
    "Nou ka itilize metòd `split` pou divize li an yon lis mo."
   ]
  },
  {
   "cell_type": "code",
   "execution_count": null,
   "id": "b8603dfc",
   "metadata": {},
   "outputs": [],
   "source": [
    "word_list = string.split()\n",
    "len(word_list)"
   ]
  },
  {
   "cell_type": "markdown",
   "id": "95540dd1",
   "metadata": {},
   "source": [
    "Kounye a, pou tcheke si yon chèn parèt nan lis la, nou ka itilize operatè `in`.\n",
    "Pa egzanp, `'demotic'` se nan lis la."
   ]
  },
  {
   "cell_type": "code",
   "execution_count": null,
   "id": "ed16125c",
   "metadata": {},
   "outputs": [],
   "source": [
    "'demotic' in word_list"
   ]
  },
  {
   "cell_type": "markdown",
   "id": "07a8dd61",
   "metadata": {},
   "source": [
    "Men `'contrafibularities'` pa la."
   ]
  },
  {
   "cell_type": "code",
   "execution_count": null,
   "id": "821d028f",
   "metadata": {},
   "outputs": [],
   "source": [
    "'contrafibularities' in word_list"
   ]
  },
  {
   "cell_type": "markdown",
   "id": "02ee0fbc",
   "metadata": {},
   "source": [
    "E se pou m di w, mwen \"anaspeptic\" sou sa."
   ]
  },
  {
   "cell_type": "markdown",
   "id": "cd217ecf",
   "metadata": {},
   "source": [
    "## Debògaj\n",
    "\n",
    "Sonje ke pifò metòd lis modifye agiman an epi retounen `None`.\n",
    "Sa se opoze ak metòd chèn yo, ki retounen yon nouvo chèn epi kite orijinal la intact.\n",
    "\n",
    "Si ou abitye ekri kòd chèn konsa:"
   ]
  },
  {
   "cell_type": "code",
   "execution_count": null,
   "id": "a236c479",
   "metadata": {},
   "outputs": [],
   "source": [
    "word = 'plumage!'\n",
    "word = word.strip('!')\n",
    "word"
   ]
  },
  {
   "cell_type": "markdown",
   "id": "da874ce0",
   "metadata": {},
   "source": [
    "Li tante pou ekri kòd lis konsa:"
   ]
  },
  {
   "cell_type": "code",
   "execution_count": null,
   "id": "9743ab0c",
   "metadata": {},
   "outputs": [],
   "source": [
    "t = [1, 2, 3]\n",
    "t = t.remove(3)           # MAL!"
   ]
  },
  {
   "cell_type": "markdown",
   "id": "67f597f9",
   "metadata": {},
   "source": [
    "`remove` modifye lis la epi retounen `None`, kidonk pwochen operasyon ou fè ak `t` ap pwobableman echwe."
   ]
  },
  {
   "cell_type": "code",
   "execution_count": null,
   "id": "032d77b4",
   "metadata": {},
   "outputs": [],
   "source": [
    "%%expect AttributeError\n",
    "\n",
    "t.remove(2)"
   ]
  },
  {
   "cell_type": "markdown",
   "id": "d2d9f898",
   "metadata": {},
   "source": [
    "Mesaj erè sa a mande kèk eksplikasyon.\n",
    "Yon **atribè** (attribute) yon objè se yon varyab oswa metòd ki asosye avè l.\n",
    "Nan ka sa a, valè `t` se `None`, ki se yon objè `NoneType`, ki pa gen atribè ki rele `remove`, donk rezilta a se yon `AttributeError`.\n",
    "\n",
    "Si ou wè yon mesaj erè konsa, ou ta dwe gade bak yon ti kras nan pwogram lan pou wè si ou te rele yon metòd lis incòrektman."
   ]
  },
  {
   "cell_type": "markdown",
   "id": "46a697aa",
   "metadata": {},
   "source": [
    "## Glosè\n",
    "\n",
    "**lis:**\n",
    " Yon objè ki gen yon sekans valè.\n",
    "\n",
    "**eleman:**\n",
    " Youn nan valè ki nan yon lis oswa lòt sekans.\n",
    "\n",
    "**lis anbraye (nested list):**\n",
    "Yon lis ki se eleman yon lòt lis.\n",
    "\n",
    "**delimiteur:**\n",
    " Yon karaktè oswa chèn ki itilize pou endike kote pou separe chèn lan.\n",
    "\n",
    "**ekivalan:**\n",
    " Ki gen menm valè.\n",
    "\n",
    "**idantik:**\n",
    " Ki se menm objè a (ki vle di ekivalan tou).\n",
    "\n",
    "**referans:**\n",
    " Asosyasyon ant yon varyab ak valè li.\n",
    "\n",
    "**aliye (aliased):**\n",
    "Si gen plis pase yon varyab ki refere a yon objè, objè a aliye.\n",
    "\n",
    "**atribè:**\n",
    " Youn nan valè ki gen non ki asosye ak yon objè."
   ]
  },
  {
   "cell_type": "markdown",
   "id": "916487e0",
   "metadata": {},
   "source": [
    "## Egzèsis\n",
    "\n"
   ]
  },
  {
   "cell_type": "code",
   "execution_count": null,
   "id": "61f7610e",
   "metadata": {
    "lines_to_next_cell": 1
   },
   "outputs": [],
   "source": [
    "# Liy sa a di Jupyter pou bay enfòmasyon detaye sou debògaj\n",
    "# lè gen yon erè execisyon rive. Kouri li anvan ou travay sou egzèsis yo.\n",
    "\n",
    "%xmode Verbose"
   ]
  },
  {
   "cell_type": "markdown",
   "id": "87155b33",
   "metadata": {},
   "source": [
    "### Mande yon asistan vityèl\n",
    "\n",
    "Nan chapit sa a, mwen te itilize mo \"contrafibularities\" ak \"anaspeptic\", men se pa mo angle an reyalite.\n",
    "Yo te itilize nan emisyon televizyon britanik *Black Adder*, Sezon 3, Epizòd 2, \"Ink and Incapability\".\n",
    "\n",
    "Sepandan, lè mwen te mande ChatGPT 3.5 (vèsyon 3 Out 2023) kote mo sa yo soti, li te pretann se soti nan Monty Python, epi pita pretann se soti nan pyès Tom Stoppard *Rosencrantz and Guildenstern Are Dead*.\n",
    "\n",
    "Si ou mande kounye a, ou ka jwenn rezilta diferan.\n",
    "Men egzanp sa a se yon rapèl ke asistan vityèl pa toujou egzak, kidonk ou dwe verifye si rezilta yo kòrèk.\n",
    "Lè ou pran eksperyans, ou pral kapab jije ki kesyon asistan vityèl ka reponn byen.\n",
    "Nan egzanp sa a, yon rechèch entènèt konvansyonèl ka idantifye sous mo sa yo rapid.\n",
    "\n",
    "Si ou bloke sou nenpòt egzèsis nan chapit sa a, konsidere mande yon asistan vityèl pou èd.\n",
    "Si ou jwenn yon rezilta ki itilize karakteristik nou pa ankò aprann, ou ka bay AV a yon \"wòl\".\n",
    "\n",
    "Pa egzanp, anvan ou mande kesyon eseye tape \"Wòl: Enstriktè Debaz Nan Pwogramasyon Python\".\n",
    "Apre sa, repons ou jwenn yo ta dwe itilize sèlman karakteristik debaz.\n",
    "Si ou toujou wè karakteristik nou pa aprann, ou ka ajoute \"Ou ka ekri sa a sèlman ak karakteristik debaz Python?\""
   ]
  },
  {
   "cell_type": "markdown",
   "id": "38b9300d",
   "metadata": {},
   "source": [
    "### Egzèsis\n",
    "\n",
    "De mo se anagram si ou ka reyòdone lèt yo soti nan youn pou òtograf lòt la.\n",
    "Pa egzanp, `tops` se anagram `stop`.\n",
    "\n",
    "Youn fason pou tcheke si de mo se anagram se triye lèt yo nan toude mo yo.\n",
    "Si lis lèt triye yo menm, mo yo se anagram.\n",
    "\n",
    "Ekri yon fonksyon `is_anagram` ki pran de chèn epi retounen `True` si yo se anagram."
   ]
  },
  {
   "cell_type": "markdown",
   "id": "baa565aa",
   "metadata": {},
   "source": [
    "Pou ede ou kòmanse, men yon eskiz fonksyon an ak doctests."
   ]
  },
  {
   "cell_type": "code",
   "execution_count": null,
   "id": "b05d169e",
   "metadata": {
    "lines_to_next_cell": 1
   },
   "outputs": [],
   "source": [
    "def is_anagram(word1, word2):\n",
    "    \"\"\"Tcheke si de mo se anagram.\n",
    "    \n",
    "    >>> is_anagram('tops', 'stop')\n",
    "    True\n",
    "    >>> is_anagram('skate', 'takes')\n",
    "    True\n",
    "    >>> is_anagram('tops', 'takes')\n",
    "    False\n",
    "    >>> is_anagram('skate', 'stop')\n",
    "    False\n",
    "    \"\"\"\n",
    "    return None"
   ]
  },
  {
   "cell_type": "code",
   "execution_count": null,
   "id": "7b34af10",
   "metadata": {},
   "outputs": [],
   "source": [
    "# Solisyon pral mete la"
   ]
  },
  {
   "cell_type": "markdown",
   "id": "47b8a80a",
   "metadata": {},
   "source": [
    "Ou ka itilize `doctest` pou teste fonksyon ou."
   ]
  },
  {
   "cell_type": "code",
   "execution_count": null,
   "id": "ba924b45",
   "metadata": {},
   "outputs": [],
   "source": [
    "from doctest import run_docstring_examples\n",
    "\n",
    "def run_doctests(func):\n",
    "    run_docstring_examples(func, globals(), name=func.__name__)\n",
    "\n",
    "run_doctests(is_anagram)"
   ]
  },
  {
   "cell_type": "markdown",
   "id": "1806d983",
   "metadata": {},
   "source": [
    "Itilize fonksyon ou ak lis mo a pou jwenn tout anagram `takes`."
   ]
  },
  {
   "cell_type": "code",
   "execution_count": null,
   "id": "c5bcca28",
   "metadata": {},
   "outputs": [],
   "source": [
    "# Solisyon pral mete la"
   ]
  },
  {
   "cell_type": "markdown",
   "id": "91d85db1",
   "metadata": {},
   "source": [
    "### Egzèsis\n",
    "\n",
    "Python bay yon fonksyon bati-an `reversed` ki pran kòm agiman yon sekans eleman — tankou yon lis oswa chèn — epi retounen yon objè `reversed` ki gen eleman yo an òd invers."
   ]
  },
  {
   "cell_type": "code",
   "execution_count": null,
   "id": "c38ee879",
   "metadata": {},
   "outputs": [],
   "source": [
    "reversed('parrot')"
   ]
  },
  {
   "cell_type": "markdown",
   "id": "d6c98e46",
   "metadata": {},
   "source": [
    "Si ou vle eleman yo an lis, ou ka itilize fonksyon `list`."
   ]
  },
  {
   "cell_type": "code",
   "execution_count": null,
   "id": "734e3554",
   "metadata": {},
   "outputs": [],
   "source": [
    "list(reversed('parrot'))"
   ]
  },
  {
   "cell_type": "markdown",
   "id": "0800c20b",
   "metadata": {},
   "source": [
    "Oubyen si ou vle yo an chèn, ou ka itilize metòd `join`."
   ]
  },
  {
   "cell_type": "code",
   "execution_count": null,
   "id": "874d3b01",
   "metadata": {
    "lines_to_next_cell": 1
   },
   "outputs": [],
   "source": [
    "''.join(reversed('parrot'))"
   ]
  },
  {
   "cell_type": "markdown",
   "id": "c0d019f1",
   "metadata": {},
   "source": [
    "Kidonk nou ka ekri yon fonksyon ki vire mo anvan-an-arriere konsa."
   ]
  },
  {
   "cell_type": "code",
   "execution_count": null,
   "id": "8500aa8d",
   "metadata": {
    "lines_to_next_cell": 1
   },
   "outputs": [],
   "source": [
    "def reverse_word(word):\n",
    "    return ''.join(reversed(word))"
   ]
  },
  {
   "cell_type": "markdown",
   "id": "3b08baa5",
   "metadata": {},
   "source": [
    "Yon palindwòm se yon mo ki òtograf li menm anvan ak anaryè, tankou \"noon\" ak \"rotator\".\n",
    "Ekri yon fonksyon `is_palindrome` ki pran yon chèn kòm agiman epi retounen `True` si se yon palindwòm epi `False` sinon."
   ]
  },
  {
   "cell_type": "markdown",
   "id": "1b580dd9",
   "metadata": {},
   "source": [
    "Men yon eskiz fonksyon an ak doctests ou ka itilize pou tcheke fonksyon ou."
   ]
  },
  {
   "cell_type": "code",
   "execution_count": null,
   "id": "2ad758e6",
   "metadata": {
    "lines_to_next_cell": 1
   },
   "outputs": [],
   "source": [
    "def is_palindrome(word):\n",
    "    \"\"\"Tcheke si yon mo se palindwòm.\n",
    "    \n",
    "    >>> is_palindrome('bob')\n",
    "    True\n",
    "    >>> is_palindrome('alice')\n",
    "    False\n",
    "    >>> is_palindrome('a')\n",
    "    True\n",
    "    >>> is_palindrome('')\n",
    "    True\n",
    "    \"\"\"\n",
    "    return False"
   ]
  },
  {
   "cell_type": "code",
   "execution_count": null,
   "id": "16b8acb1",
   "metadata": {},
   "outputs": [],
   "source": [
    "# Solisyon pral mete la"
   ]
  },
  {
   "cell_type": "code",
   "execution_count": null,
   "id": "5b992b87",
   "metadata": {},
   "outputs": [],
   "source": [
    "run_doctests(is_palindrome)"
   ]
  },
  {
   "cell_type": "markdown",
   "id": "fbfe660e",
   "metadata": {},
   "source": [
    "Ou ka itilize bouk sa a pou jwenn tout palindwòm nan lis mo a ki gen omwen 7 lèt."
   ]
  },
  {
   "cell_type": "code",
   "execution_count": null,
   "id": "6664003e",
   "metadata": {
    "lines_to_next_cell": 1
   },
   "outputs": [],
   "source": [
    "for word in word_list:\n",
    "    if len(word) >= 7 and is_palindrome(word):\n",
    "        print(word)"
   ]
  },
  {
   "cell_type": "markdown",
   "id": "7ab2fe82",
   "metadata": {},
   "source": [
    "### Egzèsis\n",
    "\n",
    "Ekri yon fonksyon `reverse_sentence` ki pran kòm agiman yon chèn ki gen nenpòt kantite mo separe pa espas.\n",
    "Li ta dwe retounen yon nouvo chèn ki gen menm mo yo an òd invers.\n",
    "Pa egzanp, si agiman an se \"Reverse this sentence\", rezilta a ta dwe \"Sentence this reverse\".\n",
    "\n",
    "Sijesyon: Ou ka itilize metòd `capitalize` pou mete premye mo a an majiskil epi konvèti lòt mo yo an miniskil."
   ]
  },
  {
   "cell_type": "markdown",
   "id": "1fa6b7d1",
   "metadata": {},
   "source": [
    "Pou ede ou kòmanse, men yon eskiz fonksyon an ak doctests."
   ]
  },
  {
   "cell_type": "code",
   "execution_count": null,
   "id": "b27d22ee",
   "metadata": {
    "lines_to_next_cell": 1
   },
   "outputs": [],
   "source": [
    "def reverse_sentence(input_string):\n",
    "    '''Vire mo yo an yon chèn epi mete premye a an majiskil.\n",
    "    \n",
    "    >>> reverse_sentence('Reverse this sentence')\n",
    "    'Sentence this reverse'\n",
    "\n",
    "    >>> reverse_sentence('Python')\n",
    "    'Python'\n",
    "\n",
    "    >>> reverse_sentence('')\n",
    "    ''\n",
    "\n",
    "    >>> reverse_sentence('One for all and all for one')\n",
    "    'One for all and all for one'\n",
    "    '''\n",
    "    return None"
   ]
  },
  {
   "cell_type": "code",
   "execution_count": null,
   "id": "10b474f0",
   "metadata": {},
   "outputs": [],
   "source": [
    "# Solisyon pral mete la"
   ]
  },
  {
   "cell_type": "code",
   "execution_count": null,
   "id": "489833c0",
   "metadata": {},
   "outputs": [],
   "source": [
    "run_doctests(reverse_sentence)"
   ]
  },
  {
   "cell_type": "markdown",
   "id": "d105b48d",
   "metadata": {},
   "source": [
    "### Egzèsis\n",
    "\n",
    "Ekri yon fonksyon `total_length` ki pran yon lis chèn epi retounen longè total chèn yo.\n",
    "Longè total mo ki nan `word_list` se $902{,}728$."
   ]
  },
  {
   "cell_type": "code",
   "execution_count": null,
   "id": "242edb86",
   "metadata": {},
   "outputs": [],
   "source": [
    "# Solisyon pral mete la"
   ]
  },
  {
   "cell_type": "code",
   "execution_count": null,
   "id": "d7667feb",
   "metadata": {},
   "outputs": [],
   "source": [
    "# Solisyon pral mete la"
   ]
  },
  {
   "cell_type": "code",
   "execution_count": null,
   "id": "a224a105",
   "metadata": {},
   "outputs": [],
   "source": []
  }
 ],
 "metadata": {
  "jupytext": {
   "cell_metadata_filter": "-all",
   "main_language": "python",
   "notebook_metadata_filter": "-all"
  },
  "language_info": {
   "name": "python"
  }
 },
 "nbformat": 4,
 "nbformat_minor": 5
}
