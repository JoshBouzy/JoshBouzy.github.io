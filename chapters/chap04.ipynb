{
 "cells": [
  {
   "cell_type": "markdown",
   "id": "34e6e8fd",
   "metadata": {},
   "source": [
    "Ou ka kòmande vèsyon enprime ak ebook pou *Think Python 3e* soti nan\n",
    "[Bookshop.org](https://bookshop.org/a/98697/9781098155438) ak\n",
    "[Amazon](https://www.amazon.com/_/dp/1098155432?smid=ATVPDKIKX0DER&_encoding=UTF8&tag=oreilly20-20&_encoding=UTF8&tag=greenteapre01-20&linkCode=ur2&linkId=e2a529f94920295d27ec8a06e757dc7c&camp=1789&creative=9325)."
   ]
  },
  {
   "cell_type": "code",
   "execution_count": null,
   "id": "b5e0fb9f",
   "metadata": {},
   "outputs": [],
   "source": [
    "from os.path import basename, exists\n",
    "\n",
    "def download(url):\n",
    "    filename = basename(url)\n",
    "    if not exists(filename):\n",
    "        from urllib.request import urlretrieve\n",
    "\n",
    "        local, _ = urlretrieve(url, filename)\n",
    "        print(\"Telechaje \" + str(local))\n",
    "    return filename\n",
    "\n",
    "download('https://github.com/AllenDowney/ThinkPython/raw/v3/thinkpython.py');\n",
    "download('https://github.com/AllenDowney/ThinkPython/raw/v3/diagram.py');\n",
    "download('https://github.com/ramalho/jupyturtle/releases/download/2024-03/jupyturtle.py');"
   ]
  },
  {
   "cell_type": "code",
   "execution_count": null,
   "id": "f8c46ab9",
   "metadata": {},
   "outputs": [],
   "source": [
    "import thinkpython\n",
    "\n",
    "%load_ext autoreload\n",
    "%autoreload 2"
   ]
  },
  {
   "cell_type": "markdown",
   "id": "d3d6a9a0",
   "metadata": {},
   "source": [
    "# Fonksyon ak Entèfas\n",
    "\n",
    "Chapit sa a prezante yon modil yo rele `jupyturtle`, ki pèmèt ou kreye desen senp lè w bay enstriksyon a yon tòti imajinè.\n",
    "Nou pral itilize modil sa a pou ekri fonksyon ki desine kare, poligòn, ak sèk — epi pou demontre **konsèp entèfas**, ki se yon fason pou desine fonksyon ki ka travay ansanm."
   ]
  },
  {
   "cell_type": "markdown",
   "id": "99460dff",
   "metadata": {},
   "source": [
    "## Modil jupyturtle\n",
    "\n",
    "Pou itilize modil `jupyturtle`, nou ka enpòte li konsa."
   ]
  },
  {
   "cell_type": "code",
   "execution_count": null,
   "id": "e371c37e",
   "metadata": {},
   "outputs": [],
   "source": [
    "import jupyturtle"
   ]
  },
  {
   "cell_type": "markdown",
   "id": "713d5cf9",
   "metadata": {},
   "source": [
    "Kounye a nou ka itilize fonksyon ki defini nan modil la, tankou `make_turtle` ak `forward`."
   ]
  },
  {
   "cell_type": "code",
   "execution_count": null,
   "id": "0f74d000",
   "metadata": {},
   "outputs": [],
   "source": [
    "jupyturtle.make_turtle()\n",
    "jupyturtle.forward(100)"
   ]
  },
  {
   "cell_type": "markdown",
   "id": "9f08d07d",
   "metadata": {},
   "source": [
    "`make_turtle` kreye yon **canvas** (espas grafik), ki se yon espas sou ekran an kote nou ka desine, ak yon tòti, ki reprezante pa yon kokiy sikilè ak yon tèt an fòm triyang.\n",
    "Sik la montre kote tòti a ye ak triyang lan endike direksyon li ap gade.\n",
    "\n",
    "`forward` fè tòti a avanse yon distans spesifye nan direksyon li ap gade, epi li trase yon ti liy sou wout la.\n",
    "Distans la se yon inite abitrè — gwosè aktyèl la depann de ekran òdinatè ou.\n",
    "\n",
    "Nou pral sèvi ak fonksyon defini nan modil `jupyturtle` plizyè fwa, kidonk li ta bon si nou pa oblije ekri non modil la chak fwa.\n",
    "Sa posib si nou enpòte modil la konsa."
   ]
  },
  {
   "cell_type": "code",
   "execution_count": null,
   "id": "8d9240fb",
   "metadata": {},
   "outputs": [],
   "source": [
    "from jupyturtle import make_turtle, forward"
   ]
  },
  {
   "cell_type": "markdown",
   "id": "7c4acb72",
   "metadata": {},
   "source": [
    "Vèsyon enpòte sa a enpòte `make_turtle` ak `forward` soti nan modil `jupyturtle` pou nou ka rele yo konsa."
   ]
  },
  {
   "cell_type": "code",
   "execution_count": null,
   "id": "abfccbf5",
   "metadata": {},
   "outputs": [],
   "source": [
    "make_turtle()\n",
    "forward(100)"
   ]
  },
  {
   "cell_type": "markdown",
   "id": "1ef3fa8e",
   "metadata": {},
   "source": [
    "`jupyturtle` bay de lòt fonksyon nou pral itilize, yo rele `left` ak `right`.\n",
    "Nou pral enpòte yo konsa."
   ]
  },
  {
   "cell_type": "code",
   "execution_count": null,
   "id": "20964484",
   "metadata": {},
   "outputs": [],
   "source": [
    "from jupyturtle import left, right"
   ]
  },
  {
   "cell_type": "markdown",
   "id": "e9b46851",
   "metadata": {},
   "source": [
    "`left` fè tòti a vire a goch. Li pran yon sèl agiman, ki se ang vire a an degre.\n",
    "Pa egzanp, nou ka fè yon viwonn 90 degre a goch konsa."
   ]
  },
  {
   "cell_type": "code",
   "execution_count": null,
   "id": "99ff8f71",
   "metadata": {},
   "outputs": [],
   "source": [
    "make_turtle()\n",
    "forward(50)\n",
    "left(90)\n",
    "forward(50)"
   ]
  },
  {
   "cell_type": "markdown",
   "id": "e5c81b51",
   "metadata": {},
   "source": [
    "Pwogram sa a fè tòti a deplase bò solèy leve, epi apre sa bò nò, li kite de tras liy dèyè.\n",
    "Anvan ou kontinye, eseye modifye pwogram anvan an pou fè yon kare."
   ]
  },
  {
   "cell_type": "markdown",
   "id": "d31fabd8",
   "metadata": {},
   "source": [
    "## Fè yon kare\n",
    "\n",
    "Men yon fason pou fè yon kare."
   ]
  },
  {
   "cell_type": "code",
   "execution_count": null,
   "id": "63a9c4e5",
   "metadata": {},
   "outputs": [],
   "source": [
    "make_turtle()\n",
    "\n",
    "forward(50)\n",
    "left(90)\n",
    "\n",
    "forward(50)\n",
    "left(90)\n",
    "\n",
    "forward(50)\n",
    "left(90)\n",
    "\n",
    "forward(50)\n",
    "left(90)"
   ]
  },
  {
   "cell_type": "markdown",
   "id": "c106cd06",
   "metadata": {},
   "source": [
    "Paske pwogram sa a repete menm de liy kod yo kat fwa, nou ka fè menm travay la plis kout ak yon bouk `for`."
   ]
  },
  {
   "cell_type": "code",
   "execution_count": null,
   "id": "7f901396",
   "metadata": {
    "lines_to_next_cell": 1
   },
   "outputs": [],
   "source": [
    "make_turtle()\n",
    "for i in range(4):\n",
    "    forward(50)\n",
    "    left(90)"
   ]
  },
  {
   "cell_type": "markdown",
   "id": "ce93a3bc",
   "metadata": {},
   "source": [
    "## Anbalaj ak jeneralizasyon\n",
    "\n",
    "Ann pran kod kare a nou te fè avan an, epi mete l nan yon fonksyon ki rele `square`."
   ]
  },
  {
   "cell_type": "code",
   "execution_count": null,
   "id": "302a73c3",
   "metadata": {
    "lines_to_next_cell": 1
   },
   "outputs": [],
   "source": [
    "def square():\n",
    "    for i in range(4):\n",
    "        forward(50)\n",
    "        left(90)"
   ]
  },
  {
   "cell_type": "markdown",
   "id": "e5744e8b",
   "metadata": {},
   "source": [
    "Kounye a nou ka rele fonksyon an konsa."
   ]
  },
  {
   "cell_type": "code",
   "execution_count": null,
   "id": "60f7b7fe",
   "metadata": {
    "lines_to_next_cell": 1
   },
   "outputs": [],
   "source": [
    "make_turtle()\n",
    "square()"
   ]
  },
  {
   "cell_type": "markdown",
   "id": "a3f8efeb",
   "metadata": {},
   "source": [
    "Mete yon seri enstriksyon nan yon fonksyon rele **anbalaj (encapsulation)**.\n",
    "Youn nan avantaj anbalaj se ke li mete yon non sou kod la, ki sèvi kòm yon kalite dokimantasyon. Yon lòt avantaj se si w gen pou re-itilize kod la, li pi kout pou rele fonksyon an pase pou kopye-kole kod la.\n",
    "\n",
    "Nan vèsyon kounye a, gwosè kare a toujou `50`.\n",
    "Si nou vle desine kare ak diferan gwosè, nou ka pran longè kote yo kòm paramèt."
   ]
  },
  {
   "cell_type": "code",
   "execution_count": null,
   "id": "b64ca9f4",
   "metadata": {
    "lines_to_next_cell": 1
   },
   "outputs": [],
   "source": [
    "def square(length):\n",
    "    for i in range(4):\n",
    "        forward(length)\n",
    "        left(90)"
   ]
  },
  {
   "cell_type": "markdown",
   "id": "ca3a00ad",
   "metadata": {},
   "source": [
    "Kounye a nou ka desine kare ak diferan gwosè."
   ]
  },
  {
   "cell_type": "code",
   "execution_count": null,
   "id": "e33e4efe",
   "metadata": {
    "lines_to_next_cell": 1
   },
   "outputs": [],
   "source": [
    "make_turtle()\n",
    "square(30)\n",
    "square(60)"
   ]
  },
  {
   "cell_type": "markdown",
   "id": "55aff1ae",
   "metadata": {},
   "source": [
    "Ajoute yon paramèt nan yon fonksyon rele **jeneralizasyon**, paske li fè fonksyon an vin pi jeneral: nan vèsyon anvan an, kare a toujou menm gwosè; ak vèsyon sa a, li ka nenpòt gwosè.\n",
    "\n",
    "Si nou ajoute yon lòt paramèt, nou ka fè l menm plis jeneral.\n",
    "Fonksyon sa a desine poligòn regilye ak yon kantite kote nou bay."
   ]
  },
  {
   "cell_type": "code",
   "execution_count": null,
   "id": "f12e56bb",
   "metadata": {
    "lines_to_next_cell": 1
   },
   "outputs": [],
   "source": [
    "def polygon(n, length):\n",
    "    angle = 360 / n\n",
    "    for i in range(n):\n",
    "        forward(length)\n",
    "        left(angle)"
   ]
  },
  {
   "cell_type": "markdown",
   "id": "166d10a6",
   "metadata": {},
   "source": [
    "Nan yon poligòn regilye ki gen `n` kote, ang ki separe kote yo se `360 / n` degre.\n",
    "\n",
    "Egzanp sa a desine yon poligòn ak `7` kote, kote chak kote gen longè `30`."
   ]
  },
  {
   "cell_type": "code",
   "execution_count": null,
   "id": "31bcde4d",
   "metadata": {},
   "outputs": [],
   "source": [
    "make_turtle()\n",
    "polygon(7, 30)"
   ]
  },
  {
   "cell_type": "markdown",
   "id": "d8381e41",
   "metadata": {},
   "source": [
    "Lè yon fonksyon gen plis pase kèk agiman nimewotik, li fasil pou bliye sa yo ye, oswa lòd yo.\n",
    "Li ka bon pou mete non paramèt yo nan lis agiman yo."
   ]
  },
  {
   "cell_type": "code",
   "execution_count": null,
   "id": "94b21e73",
   "metadata": {},
   "outputs": [],
   "source": [
    "make_turtle()\n",
    "polygon(n=7, length=30)"
   ]
  },
  {
   "cell_type": "markdown",
   "id": "a7b718f6",
   "metadata": {},
   "source": [
    "Yo konn rele sa \"named arguments\" paske yo enkli non paramèt yo.\n",
    "Men an Piton, yo pi souvan rele yo **keyword arguments** (pa konfonn ak mo kle Piton tankou `for` ak `def`).\n",
    "\n",
    "Itilizasyon operatè asignasyon `=` la se yon rapèl sou fason agiman ak paramèt yo travay — lè w rele yon fonksyon, agiman yo asiyen a paramèt yo."
   ]
  },
  {
   "cell_type": "markdown",
   "id": "62530de1",
   "metadata": {},
   "source": [
    "## Aproksimasyon yon sèk\n",
    "\n",
    "Kounye a, sipoze nou vle desine yon sèk.\n",
    "Nou ka fè sa, an bigay, pa desine yon poligòn ak anpil kote, konsa chak kote tèlman piti li difisil pou wè.\n",
    "Men yon fonksyon ki itilize `polygon` pou desine yon poligòn ak `30` kote ki sanble ak yon sèk."
   ]
  },
  {
   "cell_type": "code",
   "execution_count": null,
   "id": "af3f340f",
   "metadata": {
    "lines_to_next_cell": 1
   },
   "outputs": [],
   "source": [
    "import math\n",
    "\n",
    "def circle(radius):\n",
    "    circumference = 2 * math.pi * radius\n",
    "    n = 30\n",
    "    length = circumference / n\n",
    "    polygon(n, length)"
   ]
  },
  {
   "cell_type": "markdown",
   "id": "b1e3e304",
   "metadata": {},
   "source": [
    "`circle` pran reyon sèk la kòm paramèt.\n",
    "Li kalkile `circumference`, ki se sikonferans yon sèk ki gen reyon spesifye a.\n",
    "`n` se kantite kote, kidonk `circumference / n` se longè chak kote.\n",
    "\n",
    "Fonksyon sa a ka pran anpil tan pou li kouri.\n",
    "Nou ka fè l kouri pi vit lè nou rele `make_turtle` ak yon keyword argument ki rele `delay` ki fikse tan an, an segonn, tòti a ret anvan chak etap.\n",
    "Valè pa defo a se `0.2` segonn — si nou mete l `0.02` li mache anviwon 10 fwa pi vit."
   ]
  },
  {
   "cell_type": "code",
   "execution_count": null,
   "id": "65e81595",
   "metadata": {
    "lines_to_next_cell": 1
   },
   "outputs": [],
   "source": [
    "make_turtle(delay=0.02)\n",
    "circle(30)"
   ]
  },
  {
   "cell_type": "markdown",
   "id": "f1dacec7",
   "metadata": {},
   "source": [
    "Yon limitasyon ak solisyon sa a se ke `n` se yon konstan, sa vle di pou sèk ki trè gwo, kote yo twò long, epi pou sèk ki piti, nou gaspiye tan pou trase kote ki twò kout.\n",
    "Youn opsyon se jeneralize fonksyon an pa pran `n` kòm paramèt.\n",
    "Men ann kenbe l senp pou kounye a."
   ]
  },
  {
   "cell_type": "markdown",
   "id": "38260c84",
   "metadata": {},
   "source": [
    "## Refaktorizasyon\n",
    "\n",
    "Kounye a ann ekri yon vèsyon pi jeneral pou `circle`, ki rele `arc`, ki pran yon dezyèm paramèt, `angle`, epi li desine yon ark sèk ki kouvri ang sa a.\n",
    "Pa egzanp, si `angle` se `360` degre, li desine yon sèk konplè. Si `angle` se `180` degre, li desine demi-sèk.\n",
    "\n",
    "Pou ekri `circle`, nou te kapab re-itilize `polygon`, paske yon poligòn ak anpil kote se yon bon aproksimasyon sèk.\n",
    "Men nou pa ka itilize `polygon` pou ekri `arc`.\n",
    "\n",
    "Olye de sa, nou pral kreye yon vèsyon pi jeneral pou `polygon`, ki rele `polyline`."
   ]
  },
  {
   "cell_type": "code",
   "execution_count": null,
   "id": "f461514a",
   "metadata": {
    "lines_to_next_cell": 1
   },
   "outputs": [],
   "source": [
    "def polyline(n, length, angle):\n",
    "    for i in range(n):\n",
    "        forward(length)\n",
    "        left(angle)"
   ]
  },
  {
   "cell_type": "markdown",
   "id": "8f7c4be0",
   "metadata": {},
   "source": [
    "`polyline` pran kòm paramèt kantite segment liy pou trase, `n`, longè segment yo, `length`, ak ang ki separye yo, `angle`.\n",
    "\n",
    "Kounye a nou ka rewri `polygon` pou itilize `polyline`."
   ]
  },
  {
   "cell_type": "code",
   "execution_count": null,
   "id": "adde1cea",
   "metadata": {
    "lines_to_next_cell": 1
   },
   "outputs": [],
   "source": [
    "def polygon(n, length):\n",
    "    angle = 360.0 / n\n",
    "    polyline(n, length, angle)"
   ]
  },
  {
   "cell_type": "markdown",
   "id": "aefacf72",
   "metadata": {},
   "source": [
    "Epi nou ka itilize `polyline` pou ekri `arc`."
   ]
  },
  {
   "cell_type": "code",
   "execution_count": null,
   "id": "cabd55ff",
   "metadata": {
    "lines_to_next_cell": 1
   },
   "outputs": [],
   "source": [
    "def arc(radius, angle):\n",
    "    arc_length = 2 * math.pi * radius * angle / 360\n",
    "    n = 30\n",
    "    length = arc_length / n\n",
    "    step_angle = angle / n\n",
    "    polyline(n, length, step_angle)"
   ]
  },
  {
   "cell_type": "markdown",
   "id": "98ca991b",
   "metadata": {},
   "source": [
    "`arc` sanble ak `circle`, eksepte li kalkile `arc_length`, ki se yon fraksyon sikonferans sèk la.\n",
    "\n",
    "Finalman, nou ka reskri `circle` pou itilize `arc`."
   ]
  },
  {
   "cell_type": "code",
   "execution_count": null,
   "id": "aca1c548",
   "metadata": {
    "lines_to_next_cell": 1
   },
   "outputs": [],
   "source": [
    "def circle(radius):\n",
    "    arc(radius, 360)"
   ]
  },
  {
   "cell_type": "markdown",
   "id": "84d49fe9",
   "metadata": {},
   "source": [
    "Pou verifye fonksyon sa yo mache jan nou atann, nou pral itilize yo pou desine yon fòm ki sanble ak yon kalmason.\n",
    "Avèk `delay=0`, tòti a kouri pi vit posib."
   ]
  },
  {
   "cell_type": "code",
   "execution_count": null,
   "id": "a44dcca8",
   "metadata": {},
   "outputs": [],
   "source": [
    "make_turtle(delay=0)\n",
    "polygon(n=20, length=9)\n",
    "arc(radius=70, angle=70)\n",
    "circle(radius=10)"
   ]
  },
  {
   "cell_type": "markdown",
   "id": "bcc8208f",
   "metadata": {},
   "source": [
    "Nan egzanp sa a, nou te kòmanse ak kod ki mache epi nou te reorganize l ak diferan fonksyon.\n",
    "Chanjman konsa, ki amelyore kod la san yo pa chanje konpòtman li, rele **refaktorizasyon**.\n",
    "\n",
    "Si nou te panse devan, nou ta ka ekri `polyline` an premye epi evite refaktorizasyon, men souvan ou pa konnen ase anvan ou komanse pou ou desine tout fonksyon yo.\n",
    "Lè ou komanse kod, ou konprann pwoblèm lan pi byen.\n",
    "Pafwa refaktorizasyon se siy ke ou aprann yon bagay."
   ]
  },
  {
   "cell_type": "markdown",
   "id": "e577b5d7",
   "metadata": {},
   "source": [
    "## Dyagram pil\n",
    "\n",
    "Lè nou rele `circle`, li rele `arc`, ki rele `polyline`.\n",
    "Nou ka itilize yon dyagram pil (stack diagram) pou montre sekwans apèl fonksyon yo ak paramèt pou chak."
   ]
  },
  {
   "cell_type": "code",
   "execution_count": null,
   "id": "40dc0d50",
   "metadata": {},
   "outputs": [],
   "source": [
    "from diagram import make_binding, make_frame, Frame, Stack\n",
    "\n",
    "frame1 = make_frame(dict(radius=30), name='circle', loc='left')\n",
    "\n",
    "frame2 = make_frame(dict(radius=30, angle=360), name='arc', loc='left', dx=1.1)\n",
    "\n",
    "frame3 = make_frame(dict(n=60, length=3.04, angle=5.8), \n",
    "                    name='polyline', loc='left', dx=1.1, offsetx=-0.27)\n",
    "\n",
    "stack = Stack([frame1, frame2, frame3], dy=-0.4)"
   ]
  },
  {
   "cell_type": "code",
   "execution_count": null,
   "id": "89570913",
   "metadata": {},
   "outputs": [],
   "source": [
    "from diagram import diagram, adjust\n",
    "\n",
    "width, height, x, y = [3.58, 1.31, 0.98, 1.06]\n",
    "ax = diagram(width, height)\n",
    "bbox = stack.draw(ax, x, y)\n",
    "#adjust(x, y, bbox)"
   ]
  },
  {
   "cell_type": "markdown",
   "id": "8e5c7b14",
   "metadata": {},
   "source": [
    "Remake ke valè `angle` nan `polyline` diferan de valè `angle` nan `arc`.\n",
    "Paramèt yo lokal, sa vle di ou ka itilize menm non paramèt la nan diferan fonksyon; se yon varyab diferan nan chak fonksyon, epi li ka refere a yon valè diferan."
   ]
  },
  {
   "cell_type": "markdown",
   "id": "264af401",
   "metadata": {},
   "source": [
    "## Yon plan devlopman\n",
    "\n",
    "Yon **plan devlopman** se yon pwosesis pou ekri pwogram.\n",
    "Pwosesis nou te itilize nan chapit sa a se \"anbalaj ak jeneralizasyon\".\n",
    "Etap yo se:\n",
    "\n",
    "1.  Kòmanse pa ekri yon ti pwogram san okenn definisyon fonksyon.\n",
    "\n",
    "2.  Lè pwogram nan mache, idantifye yon pati koeran, anbalaj pati sa a nan yon fonksyon epi ba li yon non.\n",
    "\n",
    "3.  Jeneralize fonksyon an pa ajoute paramèt ki apwopriye.\n",
    "\n",
    "4.  Repete Etap 1 a 3 jiskaske ou gen yon seri fonksyon ki mache.\n",
    "\n",
    "5.  Gade si gen opòtinite pou amelyore pwogram nan pa refaktore. Pa egzanp, si ou gen kod ki sanble nan plizyè kote, konsidere mete li nan yon fonksyon jeneral ki apwopriye.\n",
    "\n",
    "Pwosesis sa a gen kèk dezavantaj — nou pral wè lòt altrenativ pi devan — men li ka itil si ou pa konnen davans ki jan pou divize pwogram nan an fonksyon.\n",
    "Aproch sa a pèmèt ou konsevwa pandan w ap avanse."
   ]
  },
  {
   "cell_type": "markdown",
   "id": "2faf3a0c",
   "metadata": {},
   "source": [
    "Konsepsyon yon fonksyon gen de pati:\n",
    "\n",
    "* **Entèfas la** se fason fonksyon an itilize, ki gen ladan non li, paramèt li pran yo, ak sa fonksyon an dwe fè.\n",
    "\n",
    "* **Implantasyon an** se fason fonksyon an fè sa l sipoze fè a.\n",
    "\n",
    "Pa egzanp, men premye vèsyon `circle` nou te ekri, ki itilize `polygon`."
   ]
  },
  {
   "cell_type": "code",
   "execution_count": null,
   "id": "cef5afd8",
   "metadata": {
    "lines_to_next_cell": 1
   },
   "outputs": [],
   "source": [
    "def circle(radius):\n",
    "    circumference = 2 * math.pi * radius\n",
    "    n = 30\n",
    "    length = circumference / n\n",
    "    polygon(n, length)"
   ]
  },
  {
   "cell_type": "markdown",
   "id": "cb83693d",
   "metadata": {},
   "source": [
    "Men vèsyon refaktorye a ki itilize `arc`."
   ]
  },
  {
   "cell_type": "code",
   "execution_count": null,
   "id": "c0cc3005",
   "metadata": {
    "lines_to_next_cell": 1
   },
   "outputs": [],
   "source": [
    "def circle(radius):\n",
    "    arc(radius,  360)"
   ]
  },
  {
   "cell_type": "markdown",
   "id": "4648337d",
   "metadata": {},
   "source": [
    "De fonksyon sa yo gen menm entèfas — yo pran menm paramèt ak fè menm bagay — men yo gen diferan implantasyon."
   ]
  },
  {
   "cell_type": "markdown",
   "id": "d3787853",
   "metadata": {},
   "source": [
    "## Docstrings\n",
    "\n",
    "Yon **docstring** se yon chèn (string) nan kòmansman yon fonksyon ki eksplike entèfas la (\"doc\" se kout pou \"dokumentasyon\").\n",
    "Men yon egzanp:"
   ]
  },
  {
   "cell_type": "code",
   "execution_count": null,
   "id": "8d6be1ed",
   "metadata": {
    "lines_to_next_cell": 1
   },
   "outputs": [],
   "source": [
    "def polyline(n, length, angle):\n",
    "    \"\"\"Desinen segment liy ak longè ak ang bay.\n",
    "    \n",
    "    n: kantite segment liy (se yon antye)\n",
    "    length: longè segment yo\n",
    "    angle: ang ant segment yo (an degre)\n",
    "    \"\"\"    \n",
    "    for i in range(n):\n",
    "        forward(length)\n",
    "        left(angle)"
   ]
  },
  {
   "cell_type": "markdown",
   "id": "8caee7b9",
   "metadata": {},
   "source": [
    "Dapre konvansyon, docstrings se chèn ki ant tripl-quote, sa vle di **multiline strings** paske tripl quote yo pèmèt chèn lan kouvri plis pase yon liy.\n",
    "\n",
    "Yon docstring ta dwe:\n",
    "\n",
    "* Eksplike brievman sa fonksyon an fè, san antre nan detay sou fason li mache,\n",
    "\n",
    "* Eksplike ki efè chak paramèt gen sou konpòtman fonksyon an, epi\n",
    "\n",
    "* Endike ki tip chak paramèt dwe genyen, si sa pa evidan.\n",
    "\n",
    "Ekri kalite dokumentasyon sa a se yon pati enpòtan nan konsepsyon entèfas.\n",
    "Yon entèfas byen desine ta dwe senp pou eksplike; si ou gen difikilte pou eksplike youn nan fonksyon ou yo, petèt entèfas la ta ka amelyore."
   ]
  },
  {
   "cell_type": "markdown",
   "id": "dc4f2fa0",
   "metadata": {},
   "source": [
    "## Débogaj (Debugging)\n",
    "\n",
    "Yon entèfas se tankou yon kontra ant yon fonksyon ak moun (ou lòt fonksyon) ki rele li.\n",
    "Moun ki rele a dakò pou bay kèk agiman, epi fonksyon an dakò pou fè kèk travay.\n",
    "\n",
    "Pa egzanp, `polyline` mande twa agiman: `n` dwe yon antye; `length` ta dwe yon nimewo pozitif; ak `angle` dwe yon nimewo, ke nou sipoze an degre.\n",
    "\n",
    "Kondisyon sa yo rele **prèkondisyon** paske yo dwe vre anvan fonksyon an komanse kouri.\n",
    "Kontrèman, kondisyon a la fen fonksyon an se **postkondisyon**.\n",
    "Postkondisyon yo enkli efè fonksyon an (tankou desinen segment liy) ak nenpòt lòt efè segondè (tankou deplase tòti a oswa fè lòt chanjman).\n",
    "\n",
    "Prèkondisyon yo se responsabilite moun (oswa fonksyon) ki rele a. Si moun ki rele a pa satisfè prèkondisyon an epi fonksyon an pa mache byen, se fòt moun ki rele a, pa fonksyon an.\n",
    "\n",
    "Si prèkondisyon yo satisfè epi postkondisyon yo pa, se fòt fonksyon an.\n",
    "Si prè- ak postkondisyon ou yo klè, yo ka ede w débogaj."
   ]
  },
  {
   "cell_type": "markdown",
   "id": "12887905",
   "metadata": {},
   "source": [
    "## Glosè\n",
    "\n",
    "**konsèp entèfas (interface design):**\n",
    "Yon pwosesis pou desine entèfas yon fonksyon, ki enkli paramèt li dwe pran.\n",
    "\n",
    "**canvas:**\n",
    "Yon fenèt ki itilize pou montre eleman grafik ki enkli liy, sèk, rektang, ak lòt fòm.\n",
    "\n",
    "**anbalaj (encapsulation):**\n",
    " Pwosesis pou transfòme yon seri enstriksyon an definisyon fonksyon.\n",
    "\n",
    "**jeneralizasyon:**\n",
    " Pwosesis pou ranplase yon bagay ki twò espesifik (tankou yon nimewo) ak yon bagay ki pi jeneral (tankou yon varyab oswa paramèt).\n",
    "\n",
    "**keyword argument:**\n",
    "Yon agiman ki enkli non paramèt la.\n",
    "\n",
    "**refaktorizasyon (refactoring):**\n",
    " Pwosesis pou modifye yon pwogram ki mache pou amelyore entèfas fonksyon yo ak lòt kalite kod la.\n",
    "\n",
    "**plan devlopman (development plan):**\n",
    "Yon pwosesis pou ekri pwogram.\n",
    "\n",
    "**docstring:**\n",
    " Yon chèn ki parèt anwo yon definisyon fonksyon pou dokimante entèfas fonksyon an.\n",
    "\n",
    "**multiline string:**\n",
    "Yon chèn ki fèmen nan tripl quote ki ka kouvri plis pase yon liy nan pwogram nan.\n",
    "\n",
    "**prèkondisyon:**\n",
    " Yon egzijans ki dwe satisfè pa moun ki rele fonksyon an anvan fonksyon an komanse.\n",
    "\n",
    "**postkondisyon:**\n",
    " Yon egzijans ki dwe satisfè pa fonksyon an anvan li fini."
   ]
  },
  {
   "cell_type": "markdown",
   "id": "11d19ac1",
   "metadata": {},
   "source": [
    "### Egzèsis"
   ]
  },
  {
   "cell_type": "code",
   "execution_count": null,
   "id": "c59b3644",
   "metadata": {},
   "outputs": [],
   "source": [
    "# Liy sa a di Jupyter pou bay enfòmasyon detaye sou erè ki rive\n",
    "# pandan kouri, tankou traceback. Kouri l anvan ou travay sou egzèsis yo.\n",
    "\n",
    "%xmode Verbose"
   ]
  },
  {
   "cell_type": "markdown",
   "id": "93fcca3e",
   "metadata": {},
   "source": [
    "Pou egzèsis ki anba yo, gen kèk fonksyon tòti anplis ou ka vle itilize.\n",
    "\n",
    "* `penup` leve plim tòti a pou li pa kite tras lè l ap deplase.\n",
    "\n",
    "* `pendown` mete plim lan tounen anba.\n",
    "\n",
    "Fonksyon sa a itilize `penup` ak `pendown` pou deplase tòti a san kite tras."
   ]
  },
  {
   "cell_type": "code",
   "execution_count": null,
   "id": "7f887f93",
   "metadata": {
    "lines_to_next_cell": 1
   },
   "outputs": [],
   "source": [
    "from jupyturtle import penup, pendown\n",
    "\n",
    "def jump(length):\n",
    "    \"\"\"Deplase pi devan length inite san kite tras.\n",
    "    \n",
    "    Postkondisyon: Kite plim lan anba.\n",
    "    \"\"\"\n",
    "    penup()\n",
    "    forward(length)\n",
    "    pendown()"
   ]
  },
  {
   "cell_type": "markdown",
   "id": "8e9f2847",
   "metadata": {},
   "source": [
    "### Egzèsis\n",
    "\n",
    "Ekri yon fonksyon ki rele `rectangle` ki desine yon rektang ak longè kote ou bay.\n",
    "Pa egzanp, men yon rektang ki `80` inite lajè ak `40` inite wotè."
   ]
  },
  {
   "cell_type": "code",
   "execution_count": null,
   "id": "6e22e9d0",
   "metadata": {},
   "outputs": [],
   "source": [
    "# Solisyon an antre la"
   ]
  },
  {
   "cell_type": "markdown",
   "id": "80efed3d",
   "metadata": {},
   "source": [
    "Ou ka itilize kod sa a pou teste fonksyon ou."
   ]
  },
  {
   "cell_type": "code",
   "execution_count": null,
   "id": "818998fe",
   "metadata": {},
   "outputs": [],
   "source": [
    "make_turtle()\n",
    "rectangle(80, 40)"
   ]
  },
  {
   "cell_type": "markdown",
   "id": "b9ec65c0",
   "metadata": {},
   "source": [
    "## Egzèsis\n",
    "\n",
    "Ekri yon fonksyon ki rele `rhombus` ki desine yon losanj ak yon longè kote bay ak yon ang enteryè bay. Pa egzanp, men yon losanj ak longè kote `50` ak yon ang enteryè `60` degre."
   ]
  },
  {
   "cell_type": "code",
   "execution_count": null,
   "id": "555a8061",
   "metadata": {},
   "outputs": [],
   "source": [
    "# Solisyon an antre la"
   ]
  },
  {
   "cell_type": "markdown",
   "id": "a781a52c",
   "metadata": {},
   "source": [
    "Ou ka itilize kod sa a pou teste fonksyon ou."
   ]
  },
  {
   "cell_type": "code",
   "execution_count": null,
   "id": "4133f753",
   "metadata": {},
   "outputs": [],
   "source": [
    "make_turtle()\n",
    "rhombus(50, 60)"
   ]
  },
  {
   "cell_type": "markdown",
   "id": "af1d1d86",
   "metadata": {},
   "source": [
    "### Egzèsis\n",
    "\n",
    "Kounye a ekri yon fonksyon pi jeneral ki rele `parallelogram` ki desine yon katkante ak kote paralèl. Apre sa, reskri `rectangle` ak `rhombus` pou itilize `parallelogram`."
   ]
  },
  {
   "cell_type": "code",
   "execution_count": null,
   "id": "46aff695",
   "metadata": {},
   "outputs": [],
   "source": [
    "# Solisyon an antre la"
   ]
  },
  {
   "cell_type": "code",
   "execution_count": null,
   "id": "01276e75",
   "metadata": {},
   "outputs": [],
   "source": [
    "# Solisyon an antre la"
   ]
  },
  {
   "cell_type": "code",
   "execution_count": null,
   "id": "790e8cd8",
   "metadata": {},
   "outputs": [],
   "source": [
    "# Solisyon an antre la"
   ]
  },
  {
   "cell_type": "markdown",
   "id": "a32a99b1",
   "metadata": {},
   "source": [
    "Ou ka itilize kod sa a pou teste fonksyon ou."
   ]
  },
  {
   "cell_type": "code",
   "execution_count": null,
   "id": "8b80bb21",
   "metadata": {},
   "outputs": [],
   "source": [
    "make_turtle(width=400)\n",
    "jump(-120)\n",
    "\n",
    "rectangle(80, 40)\n",
    "jump(100)\n",
    "rhombus(50, 60)\n",
    "jump(80)\n",
    "parallelogram(80, 50, 60)"
   ]
  },
  {
   "cell_type": "markdown",
   "id": "4c6aef93",
   "metadata": {},
   "source": [
    "### Egzèsis\n",
    "\n",
    "Ekri yon seri fonksyon ki jeneralize ase pou desine fòm tankou sa a.\n",
    "\n",
    "Konsèy: Ekri yon fonksyon ki rele `triangle` ki desine yon segman triyangilè, epi apre sa yon fonksyon ki rele `draw_pie` ki itilize `triangle`."
   ]
  },
  {
   "cell_type": "code",
   "execution_count": null,
   "id": "e9716209",
   "metadata": {},
   "outputs": [],
   "source": [
    "# Solisyon an antre la"
   ]
  },
  {
   "cell_type": "code",
   "execution_count": null,
   "id": "816b5083",
   "metadata": {},
   "outputs": [],
   "source": [
    "# Solisyon an antre la"
   ]
  },
  {
   "cell_type": "markdown",
   "id": "c7d34b3f",
   "metadata": {},
   "source": [
    "Ou ka itilize kod sa a pou teste fonksyon ou."
   ]
  },
  {
   "cell_type": "code",
   "execution_count": null,
   "id": "1f1494fa",
   "metadata": {},
   "outputs": [],
   "source": [
    "make_turtle(delay=0)\n",
    "jump(-80)\n",
    "\n",
    "size = 40\n",
    "draw_pie(5, size)\n",
    "jump(2*size)\n",
    "draw_pie(6, size)\n",
    "jump(2*size)\n",
    "draw_pie(7, size)"
   ]
  },
  {
   "cell_type": "markdown",
   "id": "8999190c",
   "metadata": {},
   "source": [
    "### Egzèsis\n",
    "\n",
    "Ekri yon seri fonksyon ki ase jeneral pou desine flè tankou sa a.\n",
    "\n",
    "Konsèy: Sèvi ak `arc` pou ekri yon fonksyon ki rele `petal` ki desine yon petal flè."
   ]
  },
  {
   "cell_type": "code",
   "execution_count": null,
   "id": "7370a22a",
   "metadata": {},
   "outputs": [],
   "source": [
    "# Solisyon an antre la"
   ]
  },
  {
   "cell_type": "code",
   "execution_count": null,
   "id": "3f2c95cf",
   "metadata": {},
   "outputs": [],
   "source": [
    "# Solisyon an antre la"
   ]
  },
  {
   "cell_type": "markdown",
   "id": "7330995c",
   "metadata": {},
   "source": [
    "Ou ka itilize kod sa a pou teste fonksyon ou.\n",
    "\n",
    "Paske solisyon an trase anpil ti segment liy, li konn ralanti pandan li kouri.\n",
    "Pou evite sa, ou ka ajoute keyword argument `auto_render=False` pou evite desine apre chak etap, epi apre sa rele fonksyon `render` a la fen pou montre rezilta a.\n",
    "\n",
    "Pandan w ap débogaj, ou ta ka retire `auto_render=False`."
   ]
  },
  {
   "cell_type": "code",
   "execution_count": null,
   "id": "7be0f20b",
   "metadata": {},
   "outputs": [],
   "source": [
    "from jupyturtle import render\n",
    "\n",
    "make_turtle(auto_render=False)\n",
    "\n",
    "jump(-60)\n",
    "n = 7\n",
    "radius = 60\n",
    "angle = 60\n",
    "flower(n, radius, angle)\n",
    "\n",
    "jump(120)\n",
    "n = 9\n",
    "radius = 40\n",
    "angle = 85\n",
    "flower(n, radius, angle)\n",
    "\n",
    "render()"
   ]
  },
  {
   "cell_type": "markdown",
   "id": "940307e3",
   "metadata": {},
   "source": [
    "### Mande yon asistan vityèl\n",
    "\n",
    "Gen plizyè modil tankou `jupyturtle` nan Piton, epi sa nou itilize a te customized pou liv sa a.\n",
    "Donk si ou mande yon asistan vityèl èd, li p ap konnen ki modil pou itilize.\n",
    "Men si ou ba li kèk egzanp pou li travay ak yo, li ka rezoud li.\n",
    "Pa egzanp, eseye prompt sa a epi gade si li ka ekri yon fonksyon ki desine yon espiral:\n",
    "\n",
    "```\n",
    "The following program uses a turtle graphics module to draw a circle:\n",
    "\n",
    "from jupyturtle import make_turtle, forward, left\n",
    "import math\n",
    "\n",
    "def polygon(n, length):\n",
    "    angle = 360 / n\n",
    "    for i in range(n):\n",
    "        forward(length)\n",
    "        left(angle)\n",
    "        \n",
    "def circle(radius):\n",
    "    circumference = 2 * math.pi * radius\n",
    "    n = 30\n",
    "    length = circumference / n\n",
    "    polygon(n, length)\n",
    "    \n",
    "make_turtle(delay=0)\n",
    "circle(30)\n",
    "\n",
    "Write a function that draws a spiral.\n",
    "```\n",
    "\n",
    "Kenbe an tèt ke rezilta a ka itilize karakteristik nou pa ko wè, epi li ka gen erè.\n",
    "Kopi kod la soti nan VA a epi gade si ou ka fè l mache.\n",
    "Si ou pa jwenn sa ou vle, eseye modifye prompt la."
   ]
  },
  {
   "cell_type": "code",
   "execution_count": null,
   "id": "100a01e0",
   "metadata": {},
   "outputs": [],
   "source": [
    "# Solisyon an antre la"
   ]
  },
  {
   "cell_type": "code",
   "execution_count": null,
   "id": "6185757a",
   "metadata": {},
   "outputs": [],
   "source": [
    "# Solisyon an antre la"
   ]
  }
 ],
 "metadata": {
  "jupytext": {
   "cell_metadata_filter": "-all",
   "main_language": "python",
   "notebook_metadata_filter": "-all"
  },
  "kernelspec": {
   "display_name": "Python 3",
   "language": "python",
   "name": "python3"
  },
  "language_info": {
   "codemirror_mode": {
    "name": "ipython",
    "version": 3
   },
   "file_extension": ".py",
   "mimetype": "text/x-python",
   "name": "python",
   "nbconvert_exporter": "python",
   "pygments_lexer": "ipython3",
   "version": "3.10.4"
  }
 },
 "nbformat": 4,
 "nbformat_minor": 5
}
