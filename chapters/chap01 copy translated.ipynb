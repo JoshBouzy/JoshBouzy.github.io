{
 "cells": [
  {
   "cell_type": "markdown",
   "id": "0f5b7e97",
   "metadata": {},
   "source": [
    "## Expressions\n",
    "\n",
    "A collection of operators and numbers is called an **expression**.\n",
    "An expression can contain any number of operators and numbers.\n",
    "For example, here's an expression that contains two operators.\n",
    "\n",
    "**Translated to Kreyol:**\n",
    "## Ekspresyon\n",
    "\n",
    "Yon kòlèksyon nan operatè ak nimewo yo rele yon **ekspreyon**.\n",
    "Yon ekspreyon ka genyen nenpòt kantite operatè ak nimewo.\n",
    "Pou egzanp, men yon ekspreyon ki gen de operatè yo."
   ]
  },
  {
   "cell_type": "code",
   "execution_count": 10,
   "id": "6e68101d",
   "metadata": {},
   "outputs": [],
   "source": [
    "6 + 6 ** 2"
   ]
  },
  {
   "cell_type": "markdown",
   "id": "8e95039c",
   "metadata": {},
   "source": [
    "Notice that exponentiation happens before addition.\n",
    "Python follows the order of operations you might have learned in a math class: exponentiation happens before multiplication and division, which happen before addition and subtraction.\n",
    "\n",
    "In the following example, multiplication happens before addition.\n",
    "\n",
    "**Translated to Kreyol:**\n",
    "Fè atansyon ke lespòsyan an fèt avan lapli.\n",
    "Python swiv lòd operasyon ou ta ka aprann nan yon klas matematik: lespòsyan fèt avan multiplikasyon ak divizyon, ki fèt avan adisyon ak soustraksyon.\n",
    "\n",
    "Nan egzanp ki vin apre a, multiplikasyon fèt avan adisyon."
   ]
  },
  {
   "cell_type": "code",
   "execution_count": 11,
   "id": "ffc25598",
   "metadata": {},
   "outputs": [],
   "source": [
    "12 + 5 * 6"
   ]
  },
  {
   "cell_type": "markdown",
   "id": "914a60d8",
   "metadata": {},
   "source": [
    "If you want the addition to happen first, you can use parentheses.\n",
    "\n",
    "**Translated to Kreyol:**\n",
    "Si ou vle ke lòtij fèt an premye, ou ka itilize paranthis."
   ]
  },
  {
   "cell_type": "code",
   "execution_count": 12,
   "id": "8dd1bd9a",
   "metadata": {},
   "outputs": [],
   "source": [
    "(12 + 5) * 6"
   ]
  },
  {
   "cell_type": "markdown",
   "id": "67ae0ae9",
   "metadata": {},
   "source": [
    "Every expression has a **value**.\n",
    "For example, the expression `6 * 7` has the value `42`.\n",
    "\n",
    "**Translated to Kreyol:**\n",
    "Chak ekspresyon gen yon **valè**.\n",
    "Pou egzanp, ekspresyon an `6 * 7` gen valè `42`."
   ]
  },
  {
   "cell_type": "markdown",
   "id": "caebaa51",
   "metadata": {},
   "source": [
    "## Arithmetic functions\n",
    "\n",
    "In addition to the arithmetic operators, Python provides a few **functions** that work with numbers.\n",
    "For example, the `round` function takes a floating-point number and rounds it off to the nearest whole number.\n",
    "\n",
    "**Translated to Kreyol:**\n",
    "## Fonksyon Aritmètik yo\n",
    "\n",
    "Anplis operè arikmètik yo, Python bay kèk **fonksyon** ki travay avèk chif yo.\n",
    "Pa egzanp, fonksyon `round` la pran yon chif nan fòma flotan ak li arenyaje l 'nan chif antye ki pi prè li."
   ]
  },
  {
   "cell_type": "code",
   "execution_count": 13,
   "id": "1e3d5e01",
   "metadata": {},
   "outputs": [],
   "source": [
    "round(42.4)"
   ]
  },
  {
   "cell_type": "code",
   "execution_count": 14,
   "id": "d1b220b9",
   "metadata": {},
   "outputs": [],
   "source": [
    "round(42.6)"
   ]
  },
  {
   "cell_type": "markdown",
   "id": "f5738b4b",
   "metadata": {},
   "source": [
    "The `abs` function computes the absolute value of a number.\n",
    "For a positive number, the absolute value is the number itself.\n",
    "\n",
    "**Translated to Kreyol:**\n",
    "Fonksyon `abs` la kalkile valè absoli yon nimewo.\n",
    "Pou yon nimewo pozitif, valè absoli a se nimewo a menm."
   ]
  },
  {
   "cell_type": "code",
   "execution_count": 15,
   "id": "ff742476",
   "metadata": {},
   "outputs": [],
   "source": [
    "abs(42)"
   ]
  },
  {
   "cell_type": "markdown",
   "id": "e518494a",
   "metadata": {},
   "source": [
    "For a negative number, the absolute value is positive.\n",
    "\n",
    "**Translated to Kreyol:**\n",
    "Pou yon nimewo negatif, valè absoli se pozitif."
   ]
  },
  {
   "cell_type": "code",
   "execution_count": 16,
   "id": "9247c1a3",
   "metadata": {},
   "outputs": [],
   "source": [
    "abs(-42)"
   ]
  },
  {
   "cell_type": "markdown",
   "id": "6969ce45",
   "metadata": {},
   "source": [
    "When we use a function like this, we say we're **calling** the function.\n",
    "An expression that calls a function is a **function call**.\n",
    "\n",
    "When you call a function, the parentheses are required.\n",
    "If you leave them out, you get an error message.\n",
    "\n",
    "**Translated to Kreyol:**\n",
    "Lè n ap itilize yon fonksyon tankou sa a, nou di ke nou **ap rele** fonksyon an.\n",
    "Yon ekspresyon ki rele yon fonksyon se yon **apèl fonksyon**.\n",
    "\n",
    "Lè ou rele yon fonksyon, paranthesis yo obligatwa.\n",
    "Si ou kite yo deyò, ou pral resevwa yon mesaj erè."
   ]
  },
  {
   "cell_type": "markdown",
   "id": "5a73bfd5",
   "metadata": {
    "tags": []
   },
   "source": [
    "NOTE: The following cell uses `%%expect`, which is a Jupyter \"magic command\" that means we expect the code in this cell to produce an error. For more on this topic, see the\n",
    "[Jupyter notebook introduction](https://colab.research.google.com/github/AllenDowney/ThinkPython/blob/v3/chapters/jupyter_intro.ipynb).\n",
    "\n",
    "**Translated to Kreyol:**\n",
    "NOT: Selil la ki vin komanse a se `%%expect`, ki se yon \"komand majik\" nan Jupyter ki vle di nou t 'ap tann yon erè nan kòd la nan selil sa a. Pou plis enfòmasyon sou sa a, wè\n",
    "[introdiksyon Jupyter notebook](https://colab.research.google.com/github/AllenDowney/ThinkPython/blob/v3/chapters/jupyter_intro.ipynb)."
   ]
  },
  {
   "cell_type": "code",
   "execution_count": 17,
   "id": "4674b7ca",
   "metadata": {
    "tags": []
   },
   "outputs": [],
   "source": [
    "%%expect SyntaxError\n",
    "\n",
    "abs 42"
   ]
  },
  {
   "cell_type": "markdown",
   "id": "7d356f1b",
   "metadata": {},
   "source": [
    "You can ignore the first line of this message; it doesn't contain any information we need to understand right now.\n",
    "The second line is the code that contains the error, with a caret (`^`) beneath it to indicate where the error was discovered.\n",
    "\n",
    "The last line indicates that this is a **syntax error**, which means that there is something wrong with the structure of the expression.\n",
    "In this example, the problem is that a function call requires parentheses.\n",
    "\n",
    "Let's see what happens if you leave out the parentheses *and* the value.\n",
    "\n",
    "**Translated to Kreyol:**\n",
    "W'ap ka enpòwe premye linye nan mesaj sa a; li pa gen anyen nan li ki nesesè pou nou konprann kounye a. Dezyèm linè a se kòd ki gen erè a, ak yon kawa (`^`) anba li pou endike kote erè a te jwenn.\n",
    "\n",
    "Dènye linè a endike ke sa se yon **erè sintaks**, ki vle di gen yon bagay ki pa kòrèk nan fòma ekspresyon an.\n",
    "Nan egzanp sa a, pwoblèm nan se ke yon apèl fonksyon an mande parantheses.\n",
    "\n",
    "Nou pral wè sa ki rive si ou kite paranthesis yo *ak* valè la."
   ]
  },
  {
   "cell_type": "code",
   "execution_count": 18,
   "id": "7d3e8127",
   "metadata": {},
   "outputs": [],
   "source": [
    "abs"
   ]
  },
  {
   "cell_type": "markdown",
   "id": "94478885",
   "metadata": {},
   "source": [
    "A function name all by itself is a legal expression that has a value.\n",
    "When it's displayed, the value indicates that `abs` is a function, and it includes some additional information I'll explain later.\n",
    "\n",
    "**Translated to Kreyol:**\n",
    "Yon non fonksyon tout bon vre se yon ekspresyon legal ki gen yon valè.\n",
    "Lè li afiche, valè a endike ke `abs` se yon fonksyon, e li gen kèk enfòmasyon adisyonèl mwen pral eksplike pita."
   ]
  },
  {
   "cell_type": "markdown",
   "id": "31a85d17",
   "metadata": {},
   "source": [
    "## Strings\n",
    "\n",
    "In addition to numbers, Python can also represent sequences of letters, which are called **strings** because the letters are strung together like beads on a necklace.\n",
    "To write a string, we can put a sequence of letters inside straight quotation marks.\n",
    "\n",
    "**Translated to Kreyol:**\n",
    "## Koud pwen\n",
    "\n",
    "Anplis de chif, Python kapab reprezante tou seri ki gen lèt, yo rele yo **koud pwen** paske lèt yo kouche ansanm tankou grenn kolye. Pou ekri yon koud pwen, nou ka mete yon seri de lèt nan antèt konsekans."
   ]
  },
  {
   "cell_type": "code",
   "execution_count": 19,
   "id": "bd8ae45f",
   "metadata": {},
   "outputs": [],
   "source": [
    "'Hello'"
   ]
  },
  {
   "cell_type": "markdown",
   "id": "d20050d8",
   "metadata": {},
   "source": [
    "It is also legal to use double quotation marks.\n",
    "\n",
    "**Translated to Kreyol:**\n",
    "Isit tou legal pou ou itilize de fo lapwent nan yon fraz."
   ]
  },
  {
   "cell_type": "code",
   "execution_count": 20,
   "id": "01d0055e",
   "metadata": {},
   "outputs": [],
   "source": [
    "\"world\""
   ]
  },
  {
   "cell_type": "markdown",
   "id": "76f5edb7",
   "metadata": {},
   "source": [
    "Double quotes make it easy to write a string that contains an apostrophe, which is the same symbol as a straight quote.\n",
    "\n",
    "**Translated to Kreyol:**\n",
    "Nan Python, yon fason ki fasil pou ekri yon bout de chenn ki gen yon apostwòf se lè w mete yon single quote ant de double quotes. Apostwòf la menm jan ak yon straight quote."
   ]
  },
  {
   "cell_type": "code",
   "execution_count": 21,
   "id": "0295acab",
   "metadata": {},
   "outputs": [],
   "source": [
    "\"it's a small \""
   ]
  },
  {
   "cell_type": "markdown",
   "id": "d62d4b1c",
   "metadata": {},
   "source": [
    "Strings can also contain spaces, punctuation, and digits.\n",
    "\n",
    "**Translated to Kreyol:**\n",
    "Striṉ yo kapab gen espas, ponktiyasyon, ak chif tou."
   ]
  },
  {
   "cell_type": "code",
   "execution_count": 22,
   "id": "cf918917",
   "metadata": {},
   "outputs": [],
   "source": [
    "'Well, '"
   ]
  },
  {
   "cell_type": "markdown",
   "id": "9ad47f7a",
   "metadata": {},
   "source": [
    "The `+` operator works with strings; it joins two strings into a single string, which is called **concatenation**\n",
    "\n",
    "**Translated to Kreyol:**\n",
    "Operatè a nan Python ki rele `+` a fonksyone ak tèks; li asosye de tèks ansanm pou fè yon sèl tèks, sa ki rele **konkatenasyon**."
   ]
  },
  {
   "cell_type": "code",
   "execution_count": 23,
   "id": "aefe6af1",
   "metadata": {},
   "outputs": [],
   "source": [
    "'Well, ' + \"it's a small \" + 'world.'"
   ]
  },
  {
   "cell_type": "markdown",
   "id": "0ad969a3",
   "metadata": {},
   "source": [
    "The `*` operator also works with strings; it makes multiple copies of a string and concatenates them.\n",
    "\n",
    "**Translated to Kreyol:**\n",
    "Operatè `*` tou fonksyone avèk modèl; li fè plizyè kopi nan yon modèl epi konyate yo ansanm."
   ]
  },
  {
   "cell_type": "code",
   "execution_count": 24,
   "id": "42e9e4e2",
   "metadata": {},
   "outputs": [],
   "source": [
    "'Spam, ' * 4"
   ]
  },
  {
   "cell_type": "markdown",
   "id": "dfba16a5",
   "metadata": {},
   "source": [
    "The other arithmetic operators don't work with strings.\n",
    "\n",
    "Python provides a function called `len` that computes the length of a string.`\n",
    "\n",
    "**Translated to Kreyol:**\n",
    "Lòt operatè arytmètik yo pa fonksyone ak tèks.\n",
    "\n",
    "Python bay yon fonksyon ki rele `len` ki kalkile longè tèks la."
   ]
  },
  {
   "cell_type": "code",
   "execution_count": 25,
   "id": "a5e837db",
   "metadata": {},
   "outputs": [],
   "source": [
    "len('Spam')"
   ]
  },
  {
   "cell_type": "markdown",
   "id": "d91e00b3",
   "metadata": {},
   "source": [
    "Notice that `len` counts the letters between the quotes, but not the quotes.\n",
    "\n",
    "When you create a string, be sure to use straight quotes.\n",
    "The back quote, also known as a backtick, causes a syntax error.\n",
    "\n",
    "**Translated to Kreyol:**\n",
    "Sijere ke `len` konte lèt yo ant kòd yo, men li pa konte kòd yo.\n",
    "\n",
    "Lè ou kreye yon tèks, asire w ke ou itilize til ki dwat.\n",
    "Kòd k ap vire anba, tou koni tankou til anba, pwovoke yon erè sintaks."
   ]
  },
  {
   "cell_type": "code",
   "execution_count": 26,
   "id": "e3f65f19",
   "metadata": {
    "tags": []
   },
   "outputs": [],
   "source": [
    "%%expect SyntaxError\n",
    "\n",
    "`Hello`"
   ]
  },
  {
   "cell_type": "markdown",
   "id": "40d893d1",
   "metadata": {},
   "source": [
    "Smart quotes, also known as curly quotes, are also illegal.\n",
    "\n",
    "**Translated to Kreyol:**\n",
    "Gen wè, sitat entèlijan, ki konnen souvan tankou sitat krabik, se tou ilegal."
   ]
  },
  {
   "cell_type": "code",
   "execution_count": 27,
   "id": "a705b980",
   "metadata": {
    "tags": []
   },
   "outputs": [],
   "source": [
    "%%expect SyntaxError\n",
    "\n",
    "‘Hello’"
   ]
  },
  {
   "cell_type": "markdown",
   "id": "5471d4f8",
   "metadata": {},
   "source": [
    "## Values and types\n",
    "\n",
    "So far we've seen three kinds of values:\n",
    "\n",
    "* `2` is an integer,\n",
    "\n",
    "* `42.0` is a floating-point number, and \n",
    "\n",
    "* `'Hello'` is a string.\n",
    "\n",
    "A kind of value is called a **type**.\n",
    "Every value has a type -- or we sometimes say it \"belongs to\" a type.\n",
    "\n",
    "Python provides a function called `type` that tells you the type of any value.\n",
    "The type of an integer is `int`.\n",
    "\n",
    "**Translated to Kreyol:**\n",
    "## Valè ak kalite yo\n",
    "\n",
    "Jiska kounye a, nou wè twa kalite valè diferan:\n",
    "\n",
    "* `2` se yon entje,\n",
    "\n",
    "* `42.0` se yon nòt ki gen desimal (floating-point number), epi\n",
    "\n",
    "* `'Alo'` se yon tèks (string).\n",
    "\n",
    "Yon kalite valè rele yon **kalite** (**type**).\n",
    "Chak valè gen yon kalite - oswa nou ka di li \"apati nan\" yon kalite.\n",
    "\n",
    "Python ofri yon fonksyon ki rele `type` k'ap di w'ki kalite valè ou genyen.\n",
    "Kalite yon entje se `int`."
   ]
  },
  {
   "cell_type": "code",
   "execution_count": 28,
   "id": "3df8e2c5",
   "metadata": {},
   "outputs": [],
   "source": [
    "type(2)"
   ]
  },
  {
   "cell_type": "markdown",
   "id": "b137814c",
   "metadata": {},
   "source": [
    "The type of a floating-point number is `float`.\n",
    "\n",
    "**Translated to Kreyol:**\n",
    "Kalite yon nimewo nan fòm tant osilyèl se `float`."
   ]
  },
  {
   "cell_type": "code",
   "execution_count": 29,
   "id": "c4732c8d",
   "metadata": {},
   "outputs": [],
   "source": [
    "type(42.0)"
   ]
  },
  {
   "cell_type": "markdown",
   "id": "266dea4e",
   "metadata": {},
   "source": [
    "And the type of a string is `str`.\n",
    "\n",
    "**Translated to Kreyol:**\n",
    "Epi se kategori yon string la se `str`."
   ]
  },
  {
   "cell_type": "code",
   "execution_count": 30,
   "id": "8f65ac45",
   "metadata": {},
   "outputs": [],
   "source": [
    "type('Hello, World!')"
   ]
  },
  {
   "cell_type": "markdown",
   "id": "76d216ed",
   "metadata": {},
   "source": [
    "The types `int`, `float`, and `str` can be used as functions.\n",
    "For example, `int` can take a floating-point number and convert it to an integer (always rounding down).\n",
    "\n",
    "**Translated to Kreyol:**\n",
    "Tout kalite `int`, `float`, ak `str` ka itilize tankou fonksyon.\n",
    "Pou egzanp, `int` ka pran yon nimewo nan fòm desimal epi konvèti li an yon entye (toujou aredonnman anba)."
   ]
  },
  {
   "cell_type": "code",
   "execution_count": 31,
   "id": "84b22f2f",
   "metadata": {},
   "outputs": [],
   "source": [
    "int(42.9)"
   ]
  },
  {
   "cell_type": "markdown",
   "id": "dcd8d114",
   "metadata": {},
   "source": [
    "And `float` can convert an integer to a floating-point value.\n",
    "\n",
    "**Translated to Kreyol:**\n",
    "Epi `float` ka konvèti yon chif a yon valè nan pwen flotan."
   ]
  },
  {
   "cell_type": "code",
   "execution_count": 32,
   "id": "9b66ee21",
   "metadata": {},
   "outputs": [],
   "source": [
    "float(42)"
   ]
  },
  {
   "cell_type": "markdown",
   "id": "eda70b61",
   "metadata": {},
   "source": [
    "Now, here's something that can be confusing.\n",
    "What do you get if you put a sequence of digits in quotes?\n",
    "\n",
    "**Translated to Kreyol:**\n",
    "Kounye a, isit la gen yon bagay ki ka konfizan.\n",
    "Kisa ou jwenn si ou mete yon seri chif nan kote soulye?"
   ]
  },
  {
   "cell_type": "code",
   "execution_count": 33,
   "id": "f64e107c",
   "metadata": {},
   "outputs": [],
   "source": [
    "'126'"
   ]
  },
  {
   "cell_type": "markdown",
   "id": "fdded653",
   "metadata": {},
   "source": [
    "It looks like a number, but it is actually a string.\n",
    "\n",
    "**Translated to Kreyol:**\n",
    "Li sanble yon nimewo, men se aksèlman yon chèn."
   ]
  },
  {
   "cell_type": "code",
   "execution_count": 34,
   "id": "609a8153",
   "metadata": {},
   "outputs": [],
   "source": [
    "type('126')"
   ]
  },
  {
   "cell_type": "markdown",
   "id": "2683ac35",
   "metadata": {},
   "source": [
    "If you try to use it like a number, you might get an error.\n",
    "\n",
    "**Translated to Kreyol:**\n",
    "Si ou eseye itilize li tankou yon nimewo, ou ka resevwa yon erè."
   ]
  },
  {
   "cell_type": "code",
   "execution_count": 35,
   "id": "1cf21da4",
   "metadata": {
    "tags": []
   },
   "outputs": [],
   "source": [
    "%%expect TypeError\n",
    "\n",
    "'126' / 3"
   ]
  },
  {
   "cell_type": "markdown",
   "id": "32c11cc4",
   "metadata": {},
   "source": [
    "This example generates a `TypeError`, which means that the values in the expression, which are called **operands**, have the wrong type.\n",
    "The error message indicates that the `/` operator does not support the types of these values, which are `str` and `int`.\n",
    "\n",
    "If you have a string that contains digits, you can use `int` to convert it to an integer.\n",
    "\n",
    "**Translated to Kreyol:**\n",
    "Nan egzanp sa a, gen yon `TypeError`, sa vle di ke valè yo nan ekspresyon an, ki rele **operan**, gen move tip.\n",
    "Mesaj la erè endike ke opeyatè a `/` pa sipòte kalite valè sa yo, ki se `str` ak `int`.\n",
    "\n",
    "Si ou gen yon tèks ki gen chif yo, ou ka itilize `int` pou konveti l nan yon nonm antye."
   ]
  },
  {
   "cell_type": "code",
   "execution_count": 36,
   "id": "d45e6a60",
   "metadata": {},
   "outputs": [],
   "source": [
    "int('126') / 3"
   ]
  },
  {
   "cell_type": "markdown",
   "id": "86935d56",
   "metadata": {},
   "source": [
    "If you have a string that contains digits and a decimal point, you can use `float` to convert it to a floating-point number.\n",
    "\n",
    "**Translated to Kreyol:**\n",
    "Si ou gen yon chèn ki gen chif ak yon pwen desimal, ou ka sèvi avèk `float` pou konvèti l nan yon nimewo nan fason desimal."
   ]
  },
  {
   "cell_type": "code",
   "execution_count": 37,
   "id": "db30b719",
   "metadata": {},
   "outputs": [],
   "source": [
    "float('12.6')"
   ]
  },
  {
   "cell_type": "markdown",
   "id": "03103ef4",
   "metadata": {},
   "source": [
    "When you write a large integer, you might be tempted to use commas\n",
    "between groups of digits, as in `1,000,000`.\n",
    "This is a legal expression in Python, but the result is not an integer.\n",
    "\n",
    "**Translated to Kreyol:**\n",
    "Lè ou ekri yon gwo chif, ou ta kapab santi w vle itilize virgül\n",
    "antre gwoup de chif, tankou nan `1,000,000`.\n",
    "Sa se yon ekspresyon legal nan Python, men rezilta a pa se yon chif."
   ]
  },
  {
   "cell_type": "code",
   "execution_count": 38,
   "id": "d72b6af1",
   "metadata": {},
   "outputs": [],
   "source": [
    "1,000,000"
   ]
  },
  {
   "cell_type": "markdown",
   "id": "3d24af71",
   "metadata": {},
   "source": [
    "Python interprets `1,000,000` as a comma-separated sequence of integers.\n",
    "We'll learn more about this kind of sequence later.\n",
    "\n",
    "You can use underscores to make large numbers easier to read.\n",
    "\n",
    "**Translated to Kreyol:**\n",
    "Python entèpète `1,000,000` kòm yon seri de chif kote yo separe pa virgòl.\n",
    "N'ap aprann plis sou kalite seri sa yo pita.\n",
    "\n",
    "Ou ka itilize tirèt baj pou fè chif gwo pi fasil pou li."
   ]
  },
  {
   "cell_type": "code",
   "execution_count": 39,
   "id": "e19bf7e7",
   "metadata": {},
   "outputs": [],
   "source": [
    "1_000_000"
   ]
  },
  {
   "cell_type": "markdown",
   "id": "1761cbac",
   "metadata": {},
   "source": [
    "## Formal and natural languages\n",
    "\n",
    "**Natural languages** are the languages people speak, like English, Spanish, and French. They were not designed by people; they evolved naturally.\n",
    "\n",
    "**Formal languages** are languages that are designed by people for specific applications. \n",
    "For example, the notation that mathematicians use is a formal language that is particularly good at denoting relationships among numbers and symbols.\n",
    "Similarly, programming languages are formal languages that have been designed to express computations.\n",
    "\n",
    "**Translated to Kreyol:**\n",
    "## Lang natirèl ak lang fòmal\n",
    "\n",
    "**Lang natirèl yo** se lang moun pale tankou Angle, Espayòl, ak Franse. Yo pa te fèt pa moun; yo te devlope natirèlman.\n",
    "\n",
    "**Lang fòmal yo** se lang ki te fèt pa moun pou aplikasyon espesifik. Pou egzanp, notasyon matematisyen yo se yon lang fòmal ki bon pou endike relasyon ant chif ak symbol yo.\n",
    "Byen vit, langaj pwogramasyon yo se lang fòmal ki te fèt pou ekspwime kalkil yo."
   ]
  },
  {
   "cell_type": "markdown",
   "id": "1bf3d2dc",
   "metadata": {},
   "source": [
    "Although formal and natural languages have some features in\n",
    "common there are important differences:\n",
    "\n",
    "* Ambiguity: Natural languages are full of ambiguity, which people deal with by\n",
    "    using contextual clues and other information. Formal languages are\n",
    "    designed to be nearly or completely unambiguous, which means that\n",
    "    any program has exactly one meaning, regardless of context.\n",
    "\n",
    "* Redundancy: In order to make up for ambiguity and reduce misunderstandings,\n",
    "    natural languages use redundancy. As a result, they are\n",
    "    often verbose. Formal languages are less redundant and more concise.\n",
    "\n",
    "* Literalness: Natural languages are full of idiom and metaphor. Formal languages mean exactly what they say.\n",
    "\n",
    "**Translated to Kreyol:**\n",
    "Byenke lang fòmèl ak lang natirèl gen kèk karakteristik an komen gen diferans enpòtan:\n",
    "\n",
    "* Anbwiyite: Lang natirèl plen ak anbwiyite, moun yo fè fas ak li lè yo itilize endis pou kontèks ak lòt enfòmasyon. Lang fòmèl yo\n",
    "    te fèt pou preske oswa konplètman san anbwiyite, sa vle di ke\n",
    "    nenpòt pwogram gen yon sèl siyifikasyon, ki jan kontèks la ye.\n",
    "\n",
    "* Redondans: Pou konpanse pou anbwiyite ak diminye malantandans,\n",
    "    lang natirèl yo itilize redondans. Kòm rezilta, yo souvan\n",
    "    long. Lang fòmèl yo mwens redondan ak pi ekonomik.\n",
    "\n",
    "* Literalite: Lang natirèl plen ak idyòm ak metafò. Lang fòmèl la signifi sa yo di."
   ]
  },
  {
   "cell_type": "markdown",
   "id": "78a1cec8",
   "metadata": {},
   "source": [
    "Because we all grow up speaking natural languages, it is sometimes hard to adjust to formal languages.\n",
    "Formal languages are more dense than natural languages, so it takes longer to read them.\n",
    "Also, the structure is important, so it is not always best to read from top to bottom, left to right.\n",
    "Finally, the details matter. Small errors in spelling and\n",
    "punctuation, which you can get away with in natural languages, can make\n",
    "a big difference in a formal language.\n",
    "\n",
    "**Translated to Kreyol:**\n",
    "Paseke nou tout grandi pale lang natirèl, li parfwa difisil pou n'ajiste ak lang fòmèl yo. Lang fòmèl yo plis konpanse pase lang natirèl yo, donk li pran plis tan pou li yo. Tou, fòm lan se enpòtan, sa vle di ke li pa toujou pi bon pou li soti nan tèt pou desann anba, goch pou dwa. Finalman, detay yo enpòtan. Petro twal nan othograf ak ponktiyasyon, ke ou ka pase nan lang natirèl yo, ka fè yon gwo diferans nan yon lang fòmèl."
   ]
  },
  {
   "cell_type": "markdown",
   "id": "4358fa9a",
   "metadata": {},
   "source": [
    "## Debugging\n",
    "\n",
    "Programmers make mistakes. For whimsical reasons, programming errors are called **bugs** and the process of tracking them down is called **debugging**.\n",
    "\n",
    "Programming, and especially debugging, sometimes brings out strong emotions. If you are struggling with a difficult bug, you might feel angry, sad, or embarrassed.\n",
    "\n",
    "Preparing for these reactions might help you deal with them. One approach is to think of the computer as an employee with certain strengths, like speed and precision, and particular weaknesses, like lack of empathy and inability to grasp the big picture.\n",
    "\n",
    "Your job is to be a good manager: find ways to take advantage of the strengths and mitigate the weaknesses. And find ways to use your emotions to engage with the problem, without letting your reactions interfere with your ability to work effectively.\n",
    "\n",
    "Learning to debug can be frustrating, but it is a valuable skill that is useful for many activities beyond programming. At the end of each chapter there is a section, like this one, with my suggestions for debugging. I hope they help!\n",
    "\n",
    "**Translated to Kreyol:**\n",
    "## Kòrèksyon Erè nan Pwogramasyon\n",
    "\n",
    "Pwogramatè fè erè. Pou rezon kapris, erè nan pwogramasyon yo rele **bèt** ak pwosesis pou chache yo rele **debagaj**.\n",
    "\n",
    "Pwogramasyon, sitou lè w'ap debagaj, twòp fwa fè moun vin santi anpil emosyon. Si w'ap konfwonte yon bèt difisil, w'ap santi tout kalite santiman tankou kòlè, tristès, oswa ak bay pwochennen.\n",
    "\n",
    "Prepare tet ou pou reyaksyon sa yo ka ede w'ap geriye yo. Yon apwòch posib se konsidere òdinatè a tankou yon anplwaye ki gen fòs li tankou vitès ak presizyon, men ki gen defo l', tankou mank anbyans ak enkapasite konprann anpil bagay.\n",
    "\n",
    "Travay ou se pou w'ap yon bon manadjè: jwenn fason pou jwenn bon jan sèvis nan fòs li yo ak diminye defo li yo. Epi, jwenn fason pou sèvi ak emosyon ou yo pou w'ap angaje ak pwoblèm lan, san w'ap kite reyaksyon ou yo chita nan chimen kapasite ou pou travay efikasman.\n",
    "\n",
    "Aprann kijan pou debage ka fristran, men se yon konpetans valab ki itil pou anpil aktivite oswa pwodiksyon anplis ke pwogramasyon. Nan fen chak chapit, gen yon seksyon, tankou sa a, ak konsèy mwen pou debagaj. Mwen espere yo ede ou!"
   ]
  },
  {
   "cell_type": "markdown",
   "id": "33b8ad00",
   "metadata": {},
   "source": [
    "## Glossary\n",
    "\n",
    "**arithmetic operator:**\n",
    "A symbol, like `+` and `*`, that denotes an arithmetic operation like addition or multiplication.\n",
    "\n",
    "**integer:**\n",
    "A type that represents whole numbers.\n",
    "\n",
    "**floating-point:**\n",
    "A type that represents numbers with fractional parts.\n",
    "\n",
    "**integer division:**\n",
    "An operator, `//`, that divides two numbers and rounds down to an integer.\n",
    "\n",
    "**expression:**\n",
    "A combination of variables, values, and operators.\n",
    "\n",
    "**value:**\n",
    "An integer, floating-point number, or string -- or one of other kinds of values we will see later.\n",
    "\n",
    "**function:**\n",
    "A named sequence of statements that performs some useful operation.\n",
    "Functions may or may not take arguments and may or may not produce a result.\n",
    "\n",
    "**function call:**\n",
    "An expression -- or part of an expression -- that runs a function.\n",
    "It consists of the function name followed by an argument list in parentheses.\n",
    "\n",
    "**syntax error:**\n",
    "An error in a program that makes it impossible to parse -- and therefore impossible to run.\n",
    "\n",
    "**string:**\n",
    " A type that represents sequences of characters.\n",
    "\n",
    "**concatenation:**\n",
    "Joining two strings end-to-end.\n",
    "\n",
    "**type:**\n",
    "A category of values.\n",
    "The types we have seen so far are integers (type `int`), floating-point numbers (type ` float`), and strings (type `str`).\n",
    "\n",
    "**operand:**\n",
    "One of the values on which an operator operates.\n",
    "\n",
    "**natural language:**\n",
    "Any of the languages that people speak that evolved naturally.\n",
    "\n",
    "**formal language:**\n",
    "Any of the languages that people have designed for specific purposes, such as representing mathematical ideas or computer programs.\n",
    "All programming languages are formal languages.\n",
    "\n",
    "**bug:**\n",
    "An error in a program.\n",
    "\n",
    "**debugging:**\n",
    "The process of finding and correcting errors.\n",
    "\n",
    "**Translated to Kreyol:**\n",
    "## Glosè\n",
    "\n",
    "**operatè arytmètik:** Yon symbol, tankou `+` ak `*`, ki endike yon operasyon arytmètik tankou adisyon oswa miltiplikasyon.\n",
    "\n",
    "**antye:** Yon kalite ki reprezante chif ki anndan.\n",
    "\n",
    "**point flotan:** Yon kalite ki reprezante chif avèk pati fraksyonèl yo.\n",
    "\n",
    "**divizyon antye:** Yon operatè, `//`, ki divize de chif epi wèl pa awondi ba yon chif antye.\n",
    "\n",
    "**ekspresyon:** Yon konbinezon nan varyab, valè, ak operatè yo.\n",
    "\n",
    "**valè:** Yon antye, yon chif avèk pwen flotan, oswa yon tèks -- oswa yon nan lòt kalite valè nou pral wè pita.\n",
    "\n",
    "**fonksyon:** Yon sèkans nonme nan deklarasyon ki fè yon opérasyon ki itil.\n",
    "Fonksyon yo ka pran argument oswa pa pran yo, epi yo ka bay yon rezilta oswa pa.\n",
    "\n",
    "**apèl fonksyon:** Yon ekspresyon -- oswa yon pati nan yon ekspresyon -- ki ekzekite yon fonksyon.\n",
    "Li konsiste nan non fonksyon an dapre yon list argument nan paranthese.\n",
    "\n",
    "**erè sintaks:** Yon erè nan yon pwogram ki fè l pa kapab analize kòm kesyon de fè l enposib pou li ekzekite.\n",
    "\n",
    "**tèks:** Yon kalite ki reprezante jaden karekter yo.\n",
    "\n",
    "**konkatenasyon:** Ranmase de tèks yo bò kote sou bò.\n",
    "\n",
    "**kalite:** Yon kategori valè.\n",
    "Kalite nou wè yo jiska prezan se antye (kalite `int`), chif avèk pwen flotan (`float`), ak tèks (`str`).\n",
    "\n",
    "**ope"
   ]
  },
  {
   "cell_type": "markdown",
   "id": "ed4ec01b",
   "metadata": {},
   "source": [
    "## Exercises\n",
    "\n",
    "**Translated to Kreyol:**\n",
    "## Egzèsis"
   ]
  },
  {
   "cell_type": "code",
   "execution_count": 40,
   "id": "06d3e72c",
   "metadata": {
    "tags": []
   },
   "outputs": [],
   "source": [
    "# This cell tells Jupyter to provide detailed debugging information\n",
    "# when a runtime error occurs. Run it before working on the exercises.\n",
    "\n",
    "%xmode Verbose"
   ]
  },
  {
   "cell_type": "markdown",
   "id": "23adf208",
   "metadata": {},
   "source": [
    "### Ask a virtual assistant\n",
    "\n",
    "As you work through this book, there are several ways you can use a virtual assistant or chatbot to help you learn.\n",
    "\n",
    "* If you want to learn more about a topic in the chapter, or anything is unclear, you can ask for an explanation.\n",
    "\n",
    "* If you are having a hard time with any of the exercises, you can ask for help.\n",
    "\n",
    "In each chapter, I'll suggest exercises you can do with a virtual assistant, but I encourage you to try things on your own and see what works for you.\n",
    "\n",
    "**Translated to Kreyol:**\n",
    "### Mandele yon asistan virtèl\n",
    "\n",
    "Pandan ou ap travay atravè liv sa a, gen plizyè fason ou ka itilize yon asistan virtèl oswa yon chatbot pou ede ou aprann.\n",
    "\n",
    "* Si ou vle aprann plis sou yon sijè nan chapit la, oswa si gen anyen ki pa klè, ou ka mande pou yon eksplikasyon.\n",
    "\n",
    "* Si ou jwenn difikilte avèk nenpòt nan egzèsis yo, ou ka mande pou èd.\n",
    "\n",
    "Nan chak chapit, mwen pral sijere egzèsis ou ka fè avèk yon asistan virtèl, men mwen ankouraje ou pou eseye bagay yo tèt ou epi wè kisa ki mache pou ou."
   ]
  },
  {
   "cell_type": "markdown",
   "id": "ebf1a451",
   "metadata": {},
   "source": [
    "Here are some topics you could ask a virtual assistant about:\n",
    "\n",
    "* Earlier I mentioned bitwise operators but I didn't explain why the value of `7 ^ 2` is 5. Try asking \"What are the bitwise operators in Python?\" or \"What is the value of `7 XOR 2`?\"\n",
    "\n",
    "* I also mentioned the order of operations. For more details, ask \"What is the order of operations in Python?\"\n",
    "\n",
    "* The `round` function, which we used to round a floating-point number to the nearest whole number, can take a second argument. Try asking \"What are the arguments of the round function?\" or \"How do I round pi off to three decimal places?\"\n",
    "\n",
    "* There's one more arithmetic operator I didn't mention; try asking \"What is the modulus operator in Python?\"\n",
    "\n",
    "**Translated to Kreyol:**\n",
    "Isit la se kèk sijè ou ta ka mande yon asistan virtèl sou:\n",
    "\n",
    "* Anvan, mwen te pale de operatè yo pwent Andwa, men mwen pa esplike poukisa valè `7 ^ 2` se 5. Eseye mande \"Ki sa yo operatè yo pwent Andwa nan Python?\" oswa \"Ki valè a de `7 XOR 2`?\"\n",
    "\n",
    "* Mwen te tou pale sou lòd opérasyon yo. Pou plis detay, mande \"Ki lòd opérasyon yo nan Python?\"\n",
    "\n",
    "* Fonksyon `round`, ke nou te itilize pou ranpli yon nimewo flotan nan yon nimewo antye ki pi pre, ka pran yon dezyèm argument. Eseye mande \"Ki sa yo argument yo nan fonksyon raoun la?\" oswa \"Kijan pou mwen ranpli pi a jiskaske gen twa kib desimal?\"\n",
    "\n",
    "* Gen yon sèl operatè arytmètik mwen pa te mensyone; eseye mande \"Ki sa operatè modil nan Python?\""
   ]
  },
  {
   "cell_type": "markdown",
   "id": "9be3e1c7",
   "metadata": {},
   "source": [
    "Most virtual assistants know about Python, so they answer questions like this pretty reliably.\n",
    "But remember that these tools make mistakes.\n",
    "If you get code from a chatbot, test it!\n",
    "\n",
    "**Translated to Kreyol:**\n",
    "Pifò asistan wiskitè konnen sou Python, konsa yo reponn kesyon tankou sa a byen fidèlman.\n",
    "Men sonje ke zouti sa yo fè gaf. Si ou resevwa yon kòd soti nan yon chatbot, fè yon tès sou li!"
   ]
  },
  {
   "cell_type": "markdown",
   "id": "03c1ef93",
   "metadata": {},
   "source": [
    "### Exercise\n",
    "\n",
    "You might wonder what `round` does if a number ends in `0.5`.\n",
    "The answer is that it sometimes rounds up and sometimes rounds down.\n",
    "Try these examples and see if you can figure out what rule it follows.\n",
    "\n",
    "**Translated to Kreyol:**\n",
    "### Egzèsis\n",
    "\n",
    "Ou ta ka mande tèt ou sa `round` fè lè yon nimewo fini ak `0.5`.\n",
    "Repons la se ke li gen yon moman li fè entèrval e li gen moman li fè desann.\n",
    "Eseye egzanp sa yo epi gade si ou kapab konprann ki règ li swiv."
   ]
  },
  {
   "cell_type": "code",
   "execution_count": 41,
   "id": "5d358f37",
   "metadata": {},
   "outputs": [],
   "source": [
    "round(42.5)"
   ]
  },
  {
   "cell_type": "code",
   "execution_count": 42,
   "id": "12aa59a3",
   "metadata": {},
   "outputs": [],
   "source": [
    "round(43.5)"
   ]
  },
  {
   "cell_type": "markdown",
   "id": "dd2f890e",
   "metadata": {},
   "source": [
    "If you are curious, ask a virtual assistant, \"If a number ends in 0.5, does Python round up or down?\"\n",
    "\n",
    "**Translated to Kreyol:**\n",
    "Si ou enterese, mande yon asistan vityèl la, \"Si yon nimewo fini nan 0.5, est-ce que Python are on ba?\""
   ]
  },
  {
   "cell_type": "markdown",
   "id": "2cd03bcb",
   "metadata": {},
   "source": [
    "### Exercise\n",
    "\n",
    "When you learn about a new feature, you should try it out and make mistakes on purpose.\n",
    "That way, you learn the error messages, and when you see them again, you will know what they mean.\n",
    "It is better to make mistakes now and deliberately than later and accidentally.\n",
    "\n",
    "1.  You can use a minus sign to make a negative number like `-2`. What happens if you put a plus sign before a number? What about `2++2`?\n",
    "\n",
    "2.  What happens if you have two values with no operator between them, like `4 2`?\n",
    "\n",
    "3.  If you call a function like `round(42.5)`, what happens if you leave out one or both parentheses?\n",
    "\n",
    "**Translated to Kreyol:**\n",
    "### Egzèsis\n",
    "\n",
    "Lè ou aprann sou yon karakteristik nouvo, ou ta dwe eseye l 'e fè ak fè erè nan pyès la.\n",
    "Konsa, ou aprann mesaj yo erè a, e lè ou wè yo ankò, ou pral konnen sa yo vle di.\n",
    "Li pi bon fè erè kounye a epi fè sa premedite pito pase fè yo pi ta epi aksidan.\n",
    "\n",
    "1. Ou ka itilize yon sig e negatif tankou `-2`. Kisa ki rive si ou mete yon plis devan yon nimewo? Kisa ki rive ak `2++2`?\n",
    "\n",
    "2. Kisa k'ap rive si ou gen de valè san operatè ant yo, tankou `4 2`?\n",
    "\n",
    "3. Si ou rele yon fonksyon tankou `round(42.5)`, kisa ki rive si ou kite de paranthesis nan menm tan an?"
   ]
  },
  {
   "cell_type": "markdown",
   "id": "1fb0adfe",
   "metadata": {},
   "source": [
    "### Exercise\n",
    "\n",
    "Recall that every expression has a value, every value has a type, and we can use the `type` function to find the type of any value.\n",
    "\n",
    "What is the type of the value of the following expressions? Make your best guess for each one, and then use `type` to find out.\n",
    "\n",
    "* `765`\n",
    "\n",
    "* `2.718`\n",
    "\n",
    "* `'2 pi'`\n",
    "\n",
    "* `abs(-7)`\n",
    "\n",
    "* `abs(-7.0)`\n",
    "\n",
    "* `abs`\n",
    "\n",
    "* `int`\n",
    "\n",
    "* `type`\n",
    "\n",
    "**Translated to Kreyol:**\n",
    "### Egzèsis\n",
    "\n",
    "Sonje ke chak ekspresyon gen yon valè, chak valè gen yon kalite, ak nou ka itilize fonksyon `type` pou jwenn kalite chak valè a.\n",
    "\n",
    "Ki kalite valè sa yo nan ekspresyon sa yo? Fè pi bon devinaj pou chak nan yo, epi apre sa itilize `type` pou jwenn repons la.\n",
    "\n",
    "* `765`\n",
    "\n",
    "* `2.718`\n",
    "\n",
    "* `'2 pi'`\n",
    "\n",
    "* `abs(-7)`\n",
    "\n",
    "* `abs(-7.0)`\n",
    "\n",
    "* `abs`\n",
    "\n",
    "* `int`\n",
    "\n",
    "* `type`"
   ]
  },
  {
   "cell_type": "markdown",
   "id": "23762eec",
   "metadata": {},
   "source": [
    "### Exercise\n",
    "\n",
    "The following questions give you a chance to practice writing arithmetic expressions.\n",
    "\n",
    "1.  How many seconds are there in 42 minutes 42 seconds?\n",
    "\n",
    "2.  How many miles are there in 10 kilometers? Hint: there are 1.61 kilometers in a mile.\n",
    "\n",
    "3.  If you run a 10 kilometer race in 42 minutes 42 seconds, what is your average pace in seconds per mile? \n",
    "    \n",
    "4.  What is your average pace in minutes and seconds per mile?\n",
    "\n",
    "5.  What is your average speed in miles per hour?\n",
    "\n",
    "If you already know about variables, you can use them for this exercise.\n",
    "If you don't, you can do the exercise without them -- and then we'll see them in the next chapter.\n",
    "\n",
    "**Translated to Kreyol:**\n",
    "### Egzèsis\n",
    "\n",
    "Kesyon ki vin an ap bay ou yon chans pouw praktike ekri ekspresyon arytmètik yo.\n",
    "\n",
    "1. Konbyen dezyèm genyen nan 42 minit 42 segond?\n",
    "\n",
    "2. Konbyen milye genyen nan 10 kilomèt? Astis: gen 1.61 kilomèt nan yon milye.\n",
    "\n",
    "3. Si ou kouri yon kous 10 kilomèt an 42 minit 42 segond, ki kote moyèn ou nan segond pa milye?\n",
    "\n",
    "4. Ki kote ou nan minit ak segond chak milye?\n",
    "\n",
    "5. Ki kote ou nan lavitès avèk milye pa lè?\n",
    "\n",
    "Si ou deja konnen sou vayab yo, ou kapab itilize yo pou egzèsis sa a. Si ou pa konnen yo, ou ka fè egzèsis la san yo -- epi pita nap gade yo nan chapit ki vin an."
   ]
  },
  {
   "cell_type": "code",
   "execution_count": 43,
   "id": "8fb50f30",
   "metadata": {},
   "outputs": [],
   "source": [
    "# Solution goes here"
   ]
  },
  {
   "cell_type": "code",
   "execution_count": 44,
   "id": "5eceb4fb",
   "metadata": {},
   "outputs": [],
   "source": [
    "# Solution goes here"
   ]
  },
  {
   "cell_type": "code",
   "execution_count": 45,
   "id": "fee97d8d",
   "metadata": {},
   "outputs": [],
   "source": [
    "# Solution goes here"
   ]
  },
  {
   "cell_type": "code",
   "execution_count": 46,
   "id": "a998258c",
   "metadata": {},
   "outputs": [],
   "source": [
    "# Solution goes here"
   ]
  },
  {
   "cell_type": "code",
   "execution_count": 47,
   "id": "2e0fc7a9",
   "metadata": {},
   "outputs": [],
   "source": [
    "# Solution goes here"
   ]
  },
  {
   "cell_type": "code",
   "execution_count": 48,
   "id": "d25268d8",
   "metadata": {},
   "outputs": [],
   "source": [
    "# Solution goes here"
   ]
  },
  {
   "cell_type": "code",
   "execution_count": 49,
   "id": "523d9b0f",
   "metadata": {},
   "outputs": [],
   "source": [
    "# Solution goes here"
   ]
  },
  {
   "cell_type": "code",
   "execution_count": null,
   "id": "ca083ccf",
   "metadata": {},
   "outputs": [],
   "source": []
  }
 ],
 "metadata": {
  "celltoolbar": "Tags",
  "kernelspec": {
   "display_name": "venv",
   "language": "python",
   "name": "python3"
  },
  "language_info": {
   "codemirror_mode": {
    "name": "ipython",
    "version": 3
   },
   "file_extension": ".py",
   "mimetype": "text/x-python",
   "name": "python",
   "nbconvert_exporter": "python",
   "pygments_lexer": "ipython3",
   "version": "3.10.4"
  }
 },
 "nbformat": 4,
 "nbformat_minor": 5
}
