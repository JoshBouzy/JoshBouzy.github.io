{
 "cells": [
  {
   "cell_type": "markdown",
   "id": "2507bd8d",
   "metadata": {},
   "source": [
    "Ou ka kòmande vèsyon enprime ak vèsyon elektwonik *Think Python 3e* soti nan\n",
    "[Bookshop.org](https://bookshop.org/a/98697/9781098155438) ak\n",
    "[Amazon](https://www.amazon.com/_/dp/1098155432?smid=ATVPDKIKX0DER&_encoding=UTF8&tag=oreilly20-20&_encoding=UTF8&tag=greenteapre01-20&linkCode=ur2&linkId=e2a529f94920295d27ec8a06e757dc7c&camp=1789&creative=9325)."
   ]
  },
  {
   "cell_type": "code",
   "execution_count": null,
   "id": "de5f8897",
   "metadata": {},
   "outputs": [],
   "source": [
    "from os.path import basename, exists\n",
    "\n",
    "def download(url):\n",
    "    filename = basename(url)\n",
    "    if not exists(filename):\n",
    "        from urllib.request import urlretrieve\n",
    "\n",
    "        local, _ = urlretrieve(url, filename)\n",
    "        print(\"Downloaded \" + str(local))\n",
    "    return filename\n",
    "\n",
    "download('https://github.com/AllenDowney/ThinkPython/raw/v3/thinkpython.py');\n",
    "download('https://github.com/AllenDowney/ThinkPython/raw/v3/diagram.py');\n",
    "\n",
    "import thinkpython"
   ]
  },
  {
   "cell_type": "markdown",
   "id": "53c58668",
   "metadata": {},
   "source": [
    "# Valè Retounen\n",
    "\n",
    "Nan chapit anvan yo, nou te itilize fonksyon ki deja ekziste — tankou `abs` ak `round` — epi fonksyon ki nan modil math la — tankou `sqrt` ak `pow`.\n",
    "Lè ou rele youn nan fonksyon sa yo, li retounen yon valè ou ka afekte a yon varyab oswa itilize kòm pati yon ekspresyon.\n",
    "\n",
    "Fonksyon nou te ekri jiskaprezan yo diferan.\n",
    "Gen kèk ki itilize fonksyon `print` pou montre valè, epi gen kèk ki itilize fonksyon tòti pou trase figi.\n",
    "Men yo pa retounen valè nou afekte a varyab oswa itilize nan ekspresyon.\n",
    "\n",
    "Nan chapit sa a, n ap wè ki jan pou ekri fonksyon ki retounen valè."
   ]
  },
  {
   "cell_type": "markdown",
   "id": "af0d1923",
   "metadata": {},
   "source": [
    "## Gen kèk fonksyon ki gen valè retounen\n",
    "\n",
    "Lè ou rele yon fonksyon tankou `math.sqrt`, rezilta a rele yon **valè retounen**.\n",
    "Si apèl fonksyon an parèt nan fen yon selil, Jupyter ap montre valè retounen an imedyatman."
   ]
  },
  {
   "cell_type": "code",
   "execution_count": null,
   "id": "2652161c",
   "metadata": {},
   "outputs": [],
   "source": [
    "import math\n",
    "\n",
    "math.sqrt(42 / math.pi)"
   ]
  },
  {
   "cell_type": "markdown",
   "id": "8a5813a6",
   "metadata": {},
   "source": [
    "Si ou afekte valè retounen an a yon varyab, li pa montre li."
   ]
  },
  {
   "cell_type": "code",
   "execution_count": null,
   "id": "d3590424",
   "metadata": {},
   "outputs": [],
   "source": [
    "radius = math.sqrt(42 / math.pi)"
   ]
  },
  {
   "cell_type": "markdown",
   "id": "8af6acd8",
   "metadata": {},
   "source": [
    "Men ou ka montre li pita."
   ]
  },
  {
   "cell_type": "code",
   "execution_count": null,
   "id": "c99cc42e",
   "metadata": {},
   "outputs": [],
   "source": [
    "radius"
   ]
  },
  {
   "cell_type": "markdown",
   "id": "29ea11ec",
   "metadata": {},
   "source": [
    "Oubyen ou ka itilize valè retounen an kòm pati yon ekspresyon."
   ]
  },
  {
   "cell_type": "code",
   "execution_count": null,
   "id": "3495fa68",
   "metadata": {
    "lines_to_next_cell": 1
   },
   "outputs": [],
   "source": [
    "radius + math.sqrt(42 / math.pi)"
   ]
  },
  {
   "cell_type": "markdown",
   "id": "01e8683a",
   "metadata": {},
   "source": [
    "Men yon egzanp yon fonksyon ki retounen yon valè."
   ]
  },
  {
   "cell_type": "code",
   "execution_count": null,
   "id": "6d602ac0",
   "metadata": {
    "lines_to_next_cell": 1
   },
   "outputs": [],
   "source": [
    "def circle_area(radius):\n",
    "    area = math.pi * radius**2\n",
    "    return area"
   ]
  },
  {
   "cell_type": "markdown",
   "id": "6988925f",
   "metadata": {},
   "source": [
    "`circle_area` pran `radius` kòm paramèt epi kalkile zòn yon sèk ak reyon sa a.\n",
    "\n",
    "Dènye liy lan se yon enstriksyon `return` ki retounen valè `area`.\n",
    "\n",
    "Si nou rele fonksyon an konsa, Jupyter ap montre valè retounen an."
   ]
  },
  {
   "cell_type": "code",
   "execution_count": null,
   "id": "8b7e9530",
   "metadata": {},
   "outputs": [],
   "source": [
    "circle_area(radius)"
   ]
  },
  {
   "cell_type": "markdown",
   "id": "aa370fc7",
   "metadata": {},
   "source": [
    "Nou ka afekte valè retounen an a yon varyab."
   ]
  },
  {
   "cell_type": "code",
   "execution_count": null,
   "id": "e4138f98",
   "metadata": {},
   "outputs": [],
   "source": [
    "a = circle_area(radius)"
   ]
  },
  {
   "cell_type": "markdown",
   "id": "d73f3695",
   "metadata": {},
   "source": [
    "Oubyen itilize l kòm pati yon ekspresyon."
   ]
  },
  {
   "cell_type": "code",
   "execution_count": null,
   "id": "99804587",
   "metadata": {},
   "outputs": [],
   "source": [
    "circle_area(radius) + 2 * circle_area(radius / 2)"
   ]
  },
  {
   "cell_type": "markdown",
   "id": "bf128fc2",
   "metadata": {},
   "source": [
    "Pita nou ka montre valè varyab nou te afekte rezilta a."
   ]
  },
  {
   "cell_type": "code",
   "execution_count": null,
   "id": "d4ae58b5",
   "metadata": {},
   "outputs": [],
   "source": [
    "a"
   ]
  },
  {
   "cell_type": "markdown",
   "id": "9d4dd5da",
   "metadata": {},
   "source": [
    "Men nou pa ka jwenn `area`."
   ]
  },
  {
   "cell_type": "code",
   "execution_count": null,
   "id": "fecd5bce",
   "metadata": {
    "lines_to_next_cell": 1
   },
   "outputs": [],
   "source": [
    "%%expect NameError\n",
    "\n",
    "area"
   ]
  },
  {
   "cell_type": "markdown",
   "id": "5734b43f",
   "metadata": {},
   "source": [
    "`area` se yon varyab lokal nan fonksyon an, kidonk nou pa ka jwenn li deyò fonksyon an."
   ]
  },
  {
   "cell_type": "markdown",
   "id": "dc2139a5",
   "metadata": {},
   "source": [
    "## Gen kèk fonksyon ki retounen None\n",
    "\n",
    "Si yon fonksyon pa gen enstriksyon `return`, li retounen `None`, ki se yon valè espesyal menm jan ak `True` ak `False`.\n",
    "Pa egzanp, men fonksyon `repeat` soti nan Chapit 3 la."
   ]
  },
  {
   "cell_type": "code",
   "execution_count": null,
   "id": "6de33d04",
   "metadata": {
    "lines_to_next_cell": 1
   },
   "outputs": [],
   "source": [
    "def repeat(word, n):\n",
    "    print(word * n)"
   ]
  },
  {
   "cell_type": "markdown",
   "id": "ef0bfcf8",
   "metadata": {},
   "source": [
    "Si nou rele l konsa, li montre premye liy chante \"Finland\" Monty Python lan."
   ]
  },
  {
   "cell_type": "code",
   "execution_count": null,
   "id": "c115a02f",
   "metadata": {},
   "outputs": [],
   "source": [
    "repeat('Finland, ', 3)"
   ]
  },
  {
   "cell_type": "markdown",
   "id": "42b1ce8c",
   "metadata": {},
   "source": [
    "Fonksyon sa a itilize `print` pou montre yon chèn, men li pa itilize `return` pou retounen yon valè.\n",
    "Si nou afekte rezilta a yon varyab, li ap toujou montre chèn lan kanmenm."
   ]
  },
  {
   "cell_type": "code",
   "execution_count": null,
   "id": "5ea77491",
   "metadata": {},
   "outputs": [],
   "source": [
    "result = repeat('Finland, ', 3)"
   ]
  },
  {
   "cell_type": "markdown",
   "id": "c3853081",
   "metadata": {},
   "source": [
    "E si nou montre valè varyab la, nou pa jwenn anyen."
   ]
  },
  {
   "cell_type": "code",
   "execution_count": null,
   "id": "240e4510",
   "metadata": {},
   "outputs": [],
   "source": [
    "result"
   ]
  },
  {
   "cell_type": "markdown",
   "id": "e19f40db",
   "metadata": {},
   "source": [
    "`result` an reyalite gen yon valè, men Jupyter pa montre li.\n",
    "Sepandan, nou ka montre li konsa."
   ]
  },
  {
   "cell_type": "code",
   "execution_count": null,
   "id": "168765bc",
   "metadata": {
    "lines_to_next_cell": 1
   },
   "outputs": [],
   "source": [
    "print(result)"
   ]
  },
  {
   "cell_type": "markdown",
   "id": "d4f2d44a",
   "metadata": {},
   "source": [
    "Valè retounen soti nan `repeat` se `None`.\n",
    "\n",
    "Men kounye a, men yon fonksyon ki sanble ak `repeat` men ki gen yon valè retounen."
   ]
  },
  {
   "cell_type": "code",
   "execution_count": null,
   "id": "c88bf9ba",
   "metadata": {
    "lines_to_next_cell": 1
   },
   "outputs": [],
   "source": [
    "def repeat_string(word, n):\n",
    "    return word * n"
   ]
  },
  {
   "cell_type": "markdown",
   "id": "d6345811",
   "metadata": {},
   "source": [
    "Remake ke nou ka itilize yon ekspresyon nan enstriksyon `return` lan, pa sèlman yon varyab.\n",
    "\n",
    "Avèk vèsyon sa a, nou ka afekte rezilta a yon varyab.\n",
    "Lè fonksyon an kouri, li pa montre anyen."
   ]
  },
  {
   "cell_type": "code",
   "execution_count": null,
   "id": "bd9481f6",
   "metadata": {},
   "outputs": [],
   "source": [
    "line = repeat_string('Spam, ', 4)"
   ]
  },
  {
   "cell_type": "markdown",
   "id": "26dbbd8e",
   "metadata": {},
   "source": [
    "Men pita nou ka montre valè nou te afekte a `line`."
   ]
  },
  {
   "cell_type": "code",
   "execution_count": null,
   "id": "ba8ac996",
   "metadata": {
    "lines_to_next_cell": 1
   },
   "outputs": [],
   "source": [
    "line"
   ]
  },
  {
   "cell_type": "markdown",
   "id": "a5f7088c",
   "metadata": {},
   "source": [
    "Yon fonksyon konsa rele yon **fonksyon pi (pure function)** paske li pa montre anyen, ni li pa fè okenn lòt efè — lòt pase retounen yon valè."
   ]
  },
  {
   "cell_type": "markdown",
   "id": "8fad1e5e",
   "metadata": {},
   "source": [
    "## Valè retounen ak kondisyonèl\n",
    "\n",
    "Si Python pa te bay `abs`, nou te ka ekri li konsa."
   ]
  },
  {
   "cell_type": "code",
   "execution_count": null,
   "id": "bb5593e2",
   "metadata": {
    "lines_to_next_cell": 1
   },
   "outputs": [],
   "source": [
    "def absolute_value(x):\n",
    "    if x < 0:\n",
    "        return -x\n",
    "    else:\n",
    "        return x"
   ]
  },
  {
   "cell_type": "markdown",
   "id": "e544ab52",
   "metadata": {},
   "source": [
    "Si `x` negatif, premye enstriksyon `return` lan retounen `-x` epi fonksyon an fini imedyatman.\n",
    "Sinon, dezyèm enstriksyon `return` lan retounen `x` epi fonksyon an fini.\n",
    "Fonksyon sa a kòrèk.\n",
    "\n",
    "Sepandan, si ou mete enstriksyon `return` yo nan yon kondisyon, ou dwe asire ke chak chimen posib nan pwogram lan rancontre yon enstriksyon `return`.\n",
    "Men yon vèsyon `absolute_value` ki pa kòrèk."
   ]
  },
  {
   "cell_type": "code",
   "execution_count": null,
   "id": "586237ea",
   "metadata": {
    "lines_to_next_cell": 1
   },
   "outputs": [],
   "source": [
    "def absolute_value_wrong(x):\n",
    "    if x < 0:\n",
    "        return -x\n",
    "    if x > 0:\n",
    "        return x"
   ]
  },
  {
   "cell_type": "markdown",
   "id": "e71a9d43",
   "metadata": {},
   "source": [
    "Men sa k pase si nou rele fonksyon sa a ak `0` kòm agiman."
   ]
  },
  {
   "cell_type": "code",
   "execution_count": null,
   "id": "d4e3fa02",
   "metadata": {
    "lines_to_next_cell": 1
   },
   "outputs": [],
   "source": [
    "absolute_value_wrong(0)"
   ]
  },
  {
   "cell_type": "markdown",
   "id": "14a11b73",
   "metadata": {},
   "source": [
    "Nou pa jwenn anyen! Men pwoblèm lan: lè `x` se `0`, okenn kondisyon pa vre, epi fonksyon an fini san li pa rive sou enstriksyon `return`, sa vle di valè retounen an se `None`, kidonk Jupyter pa montre anyen.\n",
    "\n",
    "Kòm yon lòt egzanp, men yon vèsyon `absolute_value` ak yon enstriksyon `return` an plis anfen."
   ]
  },
  {
   "cell_type": "code",
   "execution_count": null,
   "id": "64e31583",
   "metadata": {
    "lines_to_next_cell": 1
   },
   "outputs": [],
   "source": [
    "def absolute_value_extra_return(x):\n",
    "    if x < 0:\n",
    "        return -x\n",
    "    else:\n",
    "        return x\n",
    "    \n",
    "    return 'This is dead code'"
   ]
  },
  {
   "cell_type": "markdown",
   "id": "cc290098",
   "metadata": {},
   "source": [
    "Si `x` negatif, premye enstriksyon `return` lan kouri epi fonksyon an fini.\n",
    "Sinon dezyèm enstriksyon `return` lan kouri epi fonksyon an fini.\n",
    "Nan nenpòt ka, nou pa janm rive sou twazyèm enstriksyon `return` lan — li pap janm kouri.\n",
    "\n",
    "Kòd ki pa janm kouri rele **dead code** (kòd mouri).\n",
    "An jeneral, kòd mouri pa fè okenn mal, men li souvan endike ke ou pa konprann byen, epi li ka konfize moun k ap eseye konprann pwogram lan."
   ]
  },
  {
   "cell_type": "markdown",
   "id": "b77d1426",
   "metadata": {},
   "source": [
    "## Devlopman enkremanèl\n",
    "\n",
    "Pandan ou ap ekri fonksyon ki pi gran, ou ka jwenn ou ap pase plis tan debòge.\n",
    "Pou jere pwogram ki vin pi konplike, ou ka eseye **devlopman enkremanèl**, ki se yon fason pou ajoute epi teste sèlman yon ti kantite kòd a la fwa.\n",
    "\n",
    "Kòm egzanp, imajine ou vle jwenn distans ant de pwen ki repwodui pa kowòdone $(x_1, y_1)$ ak $(x_2, y_2)$.\n",
    "Selon teyorèm Pythagore, distans la se:\n",
    "\n",
    "$$\\mathrm{distance} = \\sqrt{(x_2 - x_1)^2 + (y_2 - y_1)^2}$$ \n",
    "\n",
    "Premye etap la se konsidere ki jan yon fonksyon `distance` ta dwe parèt an Python — sa vle di, ki paramèt li yo ak ki valè li retounen?\n",
    "\n",
    "Pou fonksyon sa a, antre yo se kowòdone pwen yo.\n",
    "Valè retounen an se distans la.\n",
    "Ou ka imedyatman ekri yon esplika fonksyon:"
   ]
  },
  {
   "cell_type": "code",
   "execution_count": null,
   "id": "26076d18",
   "metadata": {
    "lines_to_next_cell": 1
   },
   "outputs": [],
   "source": [
    "def distance(x1, y1, x2, y2):\n",
    "    return 0.0"
   ]
  },
  {
   "cell_type": "markdown",
   "id": "66a24ec6",
   "metadata": {},
   "source": [
    "Vèsyon sa a pa kalkile distans la ankò — li toujou retounen zewo.\n",
    "Men li se yon fonksyon konplè ak yon valè retounen, sa vle di ou ka teste li anvan ou fè li pi konplike.\n",
    "\n",
    "Pou teste nouvo fonksyon an, nou pral rele l ak agiman egzanp:"
   ]
  },
  {
   "cell_type": "code",
   "execution_count": null,
   "id": "3c49ec76",
   "metadata": {
    "lines_to_next_cell": 1
   },
   "outputs": [],
   "source": [
    "distance(1, 2, 4, 6)"
   ]
  },
  {
   "cell_type": "markdown",
   "id": "90154471",
   "metadata": {},
   "source": [
    "Mwen chwazi valè sa yo pou distans orizontal la se `3` ak distans vètikal la se `4`.\n",
    "Konsa, rezilta a se `5`, ki se ipotenuz yon triyang dwat `3-4-5`.\n",
    "Lè w ap teste yon fonksyon, li itil pou konnen repons ki kòrèk la.\n",
    "\n",
    "Kounye a nou konfime ke fonksyon an kouri epi retounen yon valè, nou ka kòmanse ajoute kòd andedan li.\n",
    "Yon bon pwochen etap se jwenn diferans yo `x2 - x1` ak `y2 - y1`.\n",
    "Men yon vèsyon ki sere valè sa yo nan varyab tanporè epi montre yo."
   ]
  },
  {
   "cell_type": "code",
   "execution_count": null,
   "id": "9845555e",
   "metadata": {
    "lines_to_next_cell": 1
   },
   "outputs": [],
   "source": [
    "def distance(x1, y1, x2, y2):\n",
    "    dx = x2 - x1\n",
    "    dy = y2 - y1\n",
    "    print('dx is', dx)\n",
    "    print('dy is', dy)\n",
    "    return 0.0"
   ]
  },
  {
   "cell_type": "markdown",
   "id": "b2090bd9",
   "metadata": {},
   "source": [
    "Si fonksyon an ap mache, li ta dwe montre `dx is 3` ak `dy is 4`.\n",
    "Si se sa, nou konnen fonksyon an jwenn bon agiman yo epi li fè premye kalkil la kòrèkteman.\n",
    "Si se pa sa, gen sèlman kèk liy pou tcheke."
   ]
  },
  {
   "cell_type": "code",
   "execution_count": null,
   "id": "a492777f",
   "metadata": {
    "lines_to_next_cell": 1
   },
   "outputs": [],
   "source": [
    "distance(1, 2, 4, 6)"
   ]
  },
  {
   "cell_type": "markdown",
   "id": "357ef3a0",
   "metadata": {},
   "source": [
    "Bon jiska kounye a. Pwochen etap la, nou kalkile sòm kare `dx` ak `dy`:"
   ]
  },
  {
   "cell_type": "code",
   "execution_count": null,
   "id": "d5fc0a64",
   "metadata": {
    "lines_to_next_cell": 1
   },
   "outputs": [],
   "source": [
    "def distance(x1, y1, x2, y2):\n",
    "    dx = x2 - x1\n",
    "    dy = y2 - y1\n",
    "    dsquared = dx**2 + dy**2\n",
    "    print('dsquared is: ', dsquared)\n",
    "    return 0.0"
   ]
  },
  {
   "cell_type": "markdown",
   "id": "460fce3f",
   "metadata": {},
   "source": [
    "Ankò, nou ka kouri fonksyon an epi verifye rezilta a, ki ta dwe `25`."
   ]
  },
  {
   "cell_type": "code",
   "execution_count": null,
   "id": "ca418c75",
   "metadata": {
    "lines_to_next_cell": 1
   },
   "outputs": [],
   "source": [
    "distance(1, 2, 4, 6)"
   ]
  },
  {
   "cell_type": "markdown",
   "id": "eecdd834",
   "metadata": {},
   "source": [
    "Finalman, nou ka itilize `math.sqrt` pou kalkile distans la:"
   ]
  },
  {
   "cell_type": "code",
   "execution_count": null,
   "id": "58ac7434",
   "metadata": {
    "lines_to_next_cell": 1
   },
   "outputs": [],
   "source": [
    "def distance(x1, y1, x2, y2):\n",
    "    dx = x2 - x1\n",
    "    dy = y2 - y1\n",
    "    dsquared = dx**2 + dy**2\n",
    "    result = math.sqrt(dsquared)\n",
    "    print(\"result is\", result)"
   ]
  },
  {
   "cell_type": "markdown",
   "id": "2952dbf2",
   "metadata": {},
   "source": [
    "Epi teste li."
   ]
  },
  {
   "cell_type": "code",
   "execution_count": null,
   "id": "ab42cb76",
   "metadata": {
    "lines_to_next_cell": 1
   },
   "outputs": [],
   "source": [
    "distance(1, 2, 4, 6)"
   ]
  },
  {
   "cell_type": "markdown",
   "id": "2da2c2b3",
   "metadata": {},
   "source": [
    "Rezilta a kòrèk, men vèsyon sa a fonksyon an montre rezilta a pito li retounen li, kidonk valè retounen an se `None`.\n",
    "\n",
    "Nou ka ranje sa lè nou ranplase fonksyon `print` lan ak yon enstriksyon `return`."
   ]
  },
  {
   "cell_type": "code",
   "execution_count": null,
   "id": "f05cc7a1",
   "metadata": {
    "lines_to_next_cell": 1
   },
   "outputs": [],
   "source": [
    "def distance(x1, y1, x2, y2):\n",
    "    dx = x2 - x1\n",
    "    dy = y2 - y1\n",
    "    dsquared = dx**2 + dy**2\n",
    "    result = math.sqrt(dsquared)\n",
    "    return result"
   ]
  },
  {
   "cell_type": "markdown",
   "id": "bbb9d6ee",
   "metadata": {},
   "source": [
    "Vèsyon `distance` sa a se yon fonksyon pi (pure function).\n",
    "Si nou rele l konsa, se sèlman rezilta a ki montre."
   ]
  },
  {
   "cell_type": "code",
   "execution_count": null,
   "id": "cbde46cc",
   "metadata": {},
   "outputs": [],
   "source": [
    "distance(1, 2, 4, 6)"
   ]
  },
  {
   "cell_type": "markdown",
   "id": "2ed6c196",
   "metadata": {},
   "source": [
    "E si nou afekte rezilta a yon varyab, pa gen anyen ki montre."
   ]
  },
  {
   "cell_type": "code",
   "execution_count": null,
   "id": "dead6561",
   "metadata": {
    "lines_to_next_cell": 1
   },
   "outputs": [],
   "source": [
    "d = distance(1, 2, 4, 6)"
   ]
  },
  {
   "cell_type": "markdown",
   "id": "bc0cc6d8",
   "metadata": {},
   "source": [
    "Enstriksyon `print` nou te ekri yo itil pou debògaj, men lè fonksyon an ap mache, nou ka retire yo.\n",
    "Kòd konsa rele **scaffolding** paske li itil pandan ou ap konstwi pwogram lan men li pa fè pati pwodui final la.\n",
    "\n",
    "Egzanp sa a montre devlopman enkremanèl.\n",
    "Aspè kle pwosesis sa a se:\n",
    "\n",
    "1.  Kòmanse ak yon pwogram ki mache, fè ti chanjman, epi teste apre chak chanjman.\n",
    "\n",
    "2.  Itilize varyab pou kenbe valè entèmedyè pou ou ka montre epi verifye yo.\n",
    "\n",
    "3.  Lè pwogram lan ap mache, retire scaffolding lan.\n",
    "\n",
    "Nan nenpòt moman, si gen yon erè, ou ta dwe gen yon bon ide kote li ye.\n",
    "Devlopman enkremanèl ka sove ou anpil tan debòge."
   ]
  },
  {
   "cell_type": "markdown",
   "id": "2dcde61b",
   "metadata": {},
   "source": [
    "## Fonksyon boulèn\n",
    "\n",
    "Fonksyon ka retounen valè boulèn `True` ak `False`, sa ki souvan pratik pou enkapsile yon tès konplike anndan yon fonksyon.\n",
    "Pa egzanp, `is_divisible` tcheke si `x` divizib pa `y` san rès."
   ]
  },
  {
   "cell_type": "code",
   "execution_count": null,
   "id": "fd5123b9",
   "metadata": {
    "lines_to_next_cell": 1
   },
   "outputs": [],
   "source": [
    "def is_divisible(x, y):\n",
    "    if x % y == 0:\n",
    "        return True\n",
    "    else:\n",
    "        return False"
   ]
  },
  {
   "cell_type": "markdown",
   "id": "14928786",
   "metadata": {},
   "source": [
    "Men ki jan nou itilize li."
   ]
  },
  {
   "cell_type": "code",
   "execution_count": null,
   "id": "049d515a",
   "metadata": {},
   "outputs": [],
   "source": [
    "is_divisible(6, 4)"
   ]
  },
  {
   "cell_type": "code",
   "execution_count": null,
   "id": "4871d642",
   "metadata": {
    "lines_to_next_cell": 1
   },
   "outputs": [],
   "source": [
    "is_divisible(6, 3)"
   ]
  },
  {
   "cell_type": "markdown",
   "id": "2054f439",
   "metadata": {},
   "source": [
    "Andedan fonksyon an, rezilta operatè `==` lan se yon boulèn, kidonk nou ka ekri\n",
    "fonksyon an pi kout pa retounen li dirèkteman."
   ]
  },
  {
   "cell_type": "code",
   "execution_count": null,
   "id": "b5fbc489",
   "metadata": {
    "lines_to_next_cell": 1
   },
   "outputs": [],
   "source": [
    "def is_divisible(x, y):\n",
    "    return x % y == 0"
   ]
  },
  {
   "cell_type": "markdown",
   "id": "03f26f16",
   "metadata": {},
   "source": [
    "Fonksyon boulèn souvan itilize nan enstriksyon kondisyonèl."
   ]
  },
  {
   "cell_type": "code",
   "execution_count": null,
   "id": "deddf458",
   "metadata": {},
   "outputs": [],
   "source": [
    "if is_divisible(6, 2):\n",
    "    print('divisible')"
   ]
  },
  {
   "cell_type": "markdown",
   "id": "249ba5a3",
   "metadata": {},
   "source": [
    "Li ka tante pou ekri yon bagay konsa:"
   ]
  },
  {
   "cell_type": "code",
   "execution_count": null,
   "id": "188e2fe2",
   "metadata": {
    "lines_to_next_cell": 1
   },
   "outputs": [],
   "source": [
    "if is_divisible(6, 2) == True:\n",
    "    print('divisible')"
   ]
  },
  {
   "cell_type": "markdown",
   "id": "fb2bcf9f",
   "metadata": {},
   "source": [
    "Men konparezon an pa nesesè."
   ]
  },
  {
   "cell_type": "markdown",
   "id": "1723d178",
   "metadata": {},
   "source": [
    "## Rekirsyon ak valè retounen\n",
    "\n",
    "Kounye a ke nou ka ekri fonksyon ki gen valè retounen, nou ka ekri fonksyon rekur siv (recursive) ki gen valè retounen, epi avèk kapasite sa a, nou depase yon etap enpòtan — sou-ansanbl Python nou genyen an kounye a **konplè Turing** (Turing complete), sa vle di nou ka fè nenpòt kalkil ki ka dekri pa yon algoritm.\n",
    "\n",
    "Pou demontre rekirsyon ak valè retounen, nou pral evalye kèk fonksyon matematik defini rekur siv.\n",
    "Yon definisyon rekur siv sanble ak yon definisyon sikilè, nan sans definisyon an refere ak bagay la k ap defini a. Yon definisyon vrèman sikilè pa itil:\n",
    "\n",
    "> vorpal: Yon adjektif pou dekri yon bagay ki vorpal.\n",
    "\n",
    "Si ou te wè definisyon sa a nan diksyonè, ou te ka fristre.\n",
    "Men, si ou tcheke definisyon fonksyon faktoryèl la, ki make ak senbòl $!$, ou ka jwenn yon bagay konsa:\n",
    "\n",
    "$$\\begin{aligned}\n",
    "0! &= 1 \\\\\n",
    "n! &= n~(n-1)!\n",
    "\\end{aligned}$$ \n",
    "\n",
    "Definisyon sa a di faktoryèl 0 se 1, epi faktoryèl nenpòt lòt valè `n` se `n` miltipliye pa faktoryèl `n-1`.\n",
    "\n",
    "Si ou ka ekri yon definisyon rekur siv pou yon bagay, ou ka ekri yon pwogram Python pou evalye li.\n",
    "Swiv pwosesis devlopman enkremanèl, nou pral kòmanse ak yon fonksyon ki pran `n` kòm paramèt epi toujou retounen `0`."
   ]
  },
  {
   "cell_type": "code",
   "execution_count": null,
   "id": "e8fcd2fc",
   "metadata": {
    "lines_to_next_cell": 1
   },
   "outputs": [],
   "source": [
    "def factorial(n):\n",
    "    return 0"
   ]
  },
  {
   "cell_type": "markdown",
   "id": "1803cec4",
   "metadata": {},
   "source": [
    "Kounye a nou ajoute premye pati definisyon an — si agiman an se `0`, nou jis bezwen retounen `1`:"
   ]
  },
  {
   "cell_type": "code",
   "execution_count": null,
   "id": "61615f53",
   "metadata": {
    "lines_to_next_cell": 1
   },
   "outputs": [],
   "source": [
    "def factorial(n):\n",
    "    if n == 0:\n",
    "        return 1\n",
    "    else:\n",
    "        return 0"
   ]
  },
  {
   "cell_type": "markdown",
   "id": "56b135dc",
   "metadata": {},
   "source": [
    "Kounye a nou ranpli dezyèm pati a — si `n` pa `0`, nou dwe fè yon apèl rekur siv pou jwenn faktoryèl `n-1` epi miltipliye rezilta a pa `n`:"
   ]
  },
  {
   "cell_type": "code",
   "execution_count": null,
   "id": "52a2aaf2",
   "metadata": {
    "lines_to_next_cell": 1
   },
   "outputs": [],
   "source": [
    "def factorial(n):\n",
    "    if n == 0:\n",
    "        return 1\n",
    "    else:\n",
    "        recurse = factorial(n-1)\n",
    "        return n * recurse"
   ]
  },
  {
   "cell_type": "markdown",
   "id": "97099122",
   "metadata": {},
   "source": [
    "Kou ekzekisyon pwogram sa a sanble ak kou `countdown` nan Chapit 5.\n",
    "Si nou rele `factorial` ak valè `3`:\n",
    "\n",
    "Paske `3` pa `0`, nou pran dezyèm branch la epi kalkile faktoryèl\n",
    "`n-1`...\n",
    "\n",
    "> Paske `2` pa `0`, nou pran dezyèm branch la epi kalkile\n",
    "> faktoryèl `n-1`...\n",
    ">\n",
    "> > Paske `1` pa `0`, nou pran dezyèm branch la epi kalkile\n",
    "> > faktoryèl `n-1`...\n",
    "> >\n",
    "> > > Paske `0` egal `0`, nou pran premye branch la epi retounen `1` san\n",
    "> > > fè plis apèl rekur siv.\n",
    "> >\n",
    "> > Valè retounen `1` miltipliye pa `n` ki se `1`, epi rezilta a retounen.\n",
    ">\n",
    "> Valè retounen `1` miltipliye pa `n` ki se `2`, epi rezilta a retounen.\n",
    "\n",
    "Valè retounen `2` miltipliye pa `n` ki se `3`, epi rezilta a,\n",
    "`6`, vin valè retounen apèl fonksyon ki te kòmanse tout pwosesis la.\n",
    "\n",
    "Dyagram pil la montre sekans apèl fonksyon yo."
   ]
  },
  {
   "cell_type": "code",
   "execution_count": null,
   "id": "3b45c704",
   "metadata": {},
   "outputs": [],
   "source": [
    "from diagram import Frame, Stack, make_binding\n",
    "\n",
    "main = Frame([], name='__main__', loc='left')\n",
    "frames = [main]\n",
    "\n",
    "ns = 3, 2, 1\n",
    "recurses = 2, 1, 1\n",
    "results = 6, 2, 1\n",
    "\n",
    "for n, recurse, result in zip(ns, recurses, results):\n",
    "    binding1 = make_binding('n', n)\n",
    "    binding2 = make_binding('recurse', recurse)\n",
    "    frame = Frame([binding1, binding2], \n",
    "                  name='factorial', value=result,\n",
    "                  loc='left', dx=1.2)\n",
    "    frames.append(frame)\n",
    "    \n",
    "binding1 = make_binding('n', n)\n",
    "frame = Frame([binding1], name='factorial', value=1, \n",
    "              shim=1.2, loc='left', dx=1.4)\n",
    "frames.append(frame)\n",
    "\n",
    "stack = Stack(frames, dy=-0.45)"
   ]
  },
  {
   "cell_type": "code",
   "execution_count": null,
   "id": "14accd1d",
   "metadata": {},
   "outputs": [],
   "source": [
    "from diagram import diagram, adjust\n",
    "\n",
    "width, height, x, y = [2.74, 2.26, 0.73, 2.05]\n",
    "ax = diagram(width, height)\n",
    "bbox = stack.draw(ax, x, y)\n",
    "# adjust(x, y, bbox)"
   ]
  },
  {
   "cell_type": "markdown",
   "id": "dc413d48",
   "metadata": {},
   "source": [
    "Valè retounen yo parèt kòm si y ap remonte pil la.\n",
    "Nan chak fram, valè retounen an se pwodui `n` ak `recurse`.\n",
    "\n",
    "Nan dènye fram lan, varyab lokal `recurse` pa egziste paske branch ki kreye li a pa kouri."
   ]
  },
  {
   "cell_type": "markdown",
   "id": "22f12114",
   "metadata": {},
   "source": [
    "## Sòt (Leap) de fwa\n",
    "\n",
    "Swiv kou ekzekisyon an se yon fason pou li pwogram yo, men li ka byen vit vin akablant. Yon altènativ se sa m rele \"sòt de fwa\" (leap of faith). Lè ou rive sou yon apèl fonksyon, olye ou swiv kou ekzekisyon an, ou *asime* ke fonksyon an mache kòrèkteman epi retounen bon rezilta.\n",
    "\n",
    "An reyalite, ou deja pratike sòt de fwa sa a lè ou itilize fonksyon ki deja ekziste.\n",
    "Lè ou rele `abs` oswa `math.sqrt`, ou pa egzamine kò fonksyon sa yo — ou jis asime ke yo mache.\n",
    "\n",
    "Menm bagay la valab lè ou rele youn nan fonksyon ou yo.\n",
    "Pa egzanp, pliwo nou te ekri yon fonksyon `is_divisible` ki detèmine si yon nimewo divizib pa yon lòt. Lè nou fin konvenk tèt nou ke fonksyon sa a kòrèk, nou ka itilize li san nou pa gade kò fonksyon an ankò.\n",
    "\n",
    "Menm bagay la valab pou pwogram rekur siv.\n",
    "Lè ou rive sou apèl rekur siv la, olye ou swiv kou ekzekisyon an, ou ta dwe sipoze ke apèl rekur siv la mache epi mande tèt ou, \"Sipoze mwen ka kalkile faktoryèl `n-1`, èske mwen ka kalkile faktoryèl `n`?\" Definisyon rekur siv faktoryèl la endike ke ou kapab, pa miltipliye pa `n`.\n",
    "\n",
    "Natirèlman, li dwòl pou asime fonksyon an mache kòrèkteman lè ou poko fini ekri li, men se pou sa li rele yon \"sòt de fwa\"!"
   ]
  },
  {
   "cell_type": "markdown",
   "id": "61436f43",
   "metadata": {},
   "source": [
    "## Fibonacci\n",
    "\n",
    "Apre `factorial`, egzanp ki pi komen pou yon fonksyon rekur siv se `fibonacci`, ki gen definisyon sa a:\n",
    "\n",
    "$$\\begin{aligned}\n",
    "\\mathrm{fibonacci}(0) &= 0 \\\\\n",
    "\\mathrm{fibonacci}(1) &= 1 \\\\\n",
    "\\mathrm{fibonacci}(n) &= \\mathrm{fibonacci}(n-1) + \\mathrm{fibonacci}(n-2)\n",
    "\\end{aligned}$$ \n",
    "\n",
    "Tradui an Python, li sanble ak sa a:"
   ]
  },
  {
   "cell_type": "code",
   "execution_count": null,
   "id": "6854bd83",
   "metadata": {
    "lines_to_next_cell": 1
   },
   "outputs": [],
   "source": [
    "def fibonacci(n):\n",
    "    if n == 0:\n",
    "        return 0\n",
    "    elif  n == 1:\n",
    "        return 1\n",
    "    else:\n",
    "        return fibonacci(n-1) + fibonacci(n-2)"
   ]
  },
  {
   "cell_type": "markdown",
   "id": "2498369d",
   "metadata": {},
   "source": [
    "Si ou eseye swiv kou ekzekisyon an, menmsi pou ti valè `n`, tèt ou ap eksplode.\n",
    "Men selon \"sòt de fwa\" a, si ou sipoze ke de apèl rekur siv yo mache kòrèkteman, ou ka gen konfyans ke dènye enstriksyon `return` lan kòrèk.\n",
    "\n",
    "An pasan, fason sa a pou kalkile nimewo Fibonacci yo trè inefikas.\n",
    "Nan [Chapit 10](section_memos) m ap eksplike poukisa epi sijere yon fason pou amelyore li."
   ]
  },
  {
   "cell_type": "markdown",
   "id": "83d120e2",
   "metadata": {},
   "source": [
    "## Tcheke tip\n",
    "\n",
    "Ki sa ki pase si nou rele `factorial` epi bay li `1.5` kòm agiman?"
   ]
  },
  {
   "cell_type": "code",
   "execution_count": null,
   "id": "da0ea46c",
   "metadata": {},
   "outputs": [],
   "source": [
    "%%expect RecursionError\n",
    "\n",
    "factorial(1.5)"
   ]
  },
  {
   "cell_type": "markdown",
   "id": "6a108493",
   "metadata": {},
   "source": [
    "Li sanble ak yon rekirsyon enfini. Kòman sa ka fèt? Fonksyon an gen yon\n",
    "ka baz — lè `n == 0`.\n",
    "Men si `n` pa yon antye, nou ka *rate* ka baz la epi rekirse pou tout tan.\n",
    "\n",
    "Nan egzanp sa a, valè inisyal `n` se `1.5`.\n",
    "Nan premye apèl rekur siv la, valè `n` se `0.5`.\n",
    "Nan pwochen an, se `-0.5`.\n",
    "Apati la, li vin pi piti (pi negatif), men li pap janm `0`.\n",
    "\n",
    "Pou evite rekirsyon enfini, nou ka itilize fonksyon `isinstance` ki deja la pou tcheke tip agiman an.\n",
    "Men ki jan nou tcheke si yon valè se yon antye."
   ]
  },
  {
   "cell_type": "code",
   "execution_count": null,
   "id": "20deb4e3",
   "metadata": {},
   "outputs": [],
   "source": [
    "isinstance(3, int)"
   ]
  },
  {
   "cell_type": "code",
   "execution_count": null,
   "id": "8427462f",
   "metadata": {
    "lines_to_next_cell": 1
   },
   "outputs": [],
   "source": [
    "isinstance(1.5, int)"
   ]
  },
  {
   "cell_type": "markdown",
   "id": "097cf885",
   "metadata": {},
   "source": [
    "Men yon vèsyon `factorial` ak verifikasyon erè."
   ]
  },
  {
   "cell_type": "code",
   "execution_count": null,
   "id": "7fb6924b",
   "metadata": {
    "lines_to_next_cell": 1
   },
   "outputs": [],
   "source": [
    "def factorial(n):\n",
    "    if not isinstance(n, int):\n",
    "        print('factorial is only defined for integers.')\n",
    "        return None\n",
    "    elif n < 0:\n",
    "        print('factorial is not defined for negative numbers.')\n",
    "        return None\n",
    "    elif n == 0:\n",
    "        return 1\n",
    "    else:\n",
    "        return n * factorial(n-1)"
   ]
  },
  {
   "cell_type": "markdown",
   "id": "0a56e213",
   "metadata": {},
   "source": [
    "Premye li tcheke si `n` se antye.\n",
    "Si non, li montre yon mesaj erè epi retounen `None`.\n",
    "\n"
   ]
  },
  {
   "cell_type": "code",
   "execution_count": null,
   "id": "b2d1b085",
   "metadata": {},
   "outputs": [],
   "source": [
    "factorial('crunchy frog')"
   ]
  },
  {
   "cell_type": "markdown",
   "id": "bd475828",
   "metadata": {},
   "source": [
    "Apre sa li tcheke si `n` negatif.\n",
    "Si se sa, li montre yon mesaj erè epi retounen `None`."
   ]
  },
  {
   "cell_type": "code",
   "execution_count": null,
   "id": "556a4bd2",
   "metadata": {
    "lines_to_next_cell": 1
   },
   "outputs": [],
   "source": [
    "factorial(-2)"
   ]
  },
  {
   "cell_type": "markdown",
   "id": "73559944",
   "metadata": {},
   "source": [
    "Si nou pase dezyèm tès la, nou konnen `n` se yon antye ki pa negatif, kidonk nou ka gen konfyans ke rekirsyon an ap fini.\n",
    "Tcheke paramèt yon fonksyon pou asire ke yo gen tip ak valè kòrèk rele **validasyon antre** (input validation)."
   ]
  },
  {
   "cell_type": "markdown",
   "id": "50f92683",
   "metadata": {},
   "source": [
    "## Debògaj\n",
    "\n",
    "Separe yon gwo pwogram an fonksyon pi piti kreye pwen kontwòl natirèl pou debòge.\n",
    "Si yon fonksyon pa mache, gen twa posiblite pou konsidere:\n",
    "\n",
    "-   Gen kèk bagay ki mal ak agiman fonksyon an resevwa — sa vle di yon pre-kondisyon vyole.\n",
    "\n",
    "-   Gen kèk bagay ki mal andedan fonksyon an — sa vle di yon post-kondisyon vyole.\n",
    "\n",
    "-   Apelan an ap fè kèk bagay ki mal ak valè retounen an.\n",
    "\n",
    "Pou elimine premye posiblite a, ou ka ajoute yon enstriksyon `print` an kòmansman fonksyon an ki montre valè paramèt yo (e petèt tip yo).\n",
    "Oubyen ou ka ekri kòd ki tcheke pre-kondisyon yo ekspresyon.\n",
    "\n",
    "Si paramèt yo parèt bon, ou ka ajoute yon enstriksyon `print` anvan chak enstriksyon `return` epi montre valè retounen an.\n",
    "Si posib, rele fonksyon an ak agiman ki fè li fasil pou tcheke rezilta a.\n",
    "\n",
    "Si fonksyon an sanble ap mache, gade apèl fonksyon an pou asire ke valè retounen an ap itilize kòrèkteman — oswa itilize ditou!\n",
    "\n",
    "Ajoute enstriksyon `print` an kòmansman ak anfen fonksyon an ka ede fè kou ekzekisyon an plis vizib.\n",
    "Pa egzanp, men yon vèsyon `factorial` ak enstriksyon print:"
   ]
  },
  {
   "cell_type": "code",
   "execution_count": null,
   "id": "7531d411",
   "metadata": {
    "lines_to_next_cell": 1
   },
   "outputs": [],
   "source": [
    "def factorial(n):\n",
    "    space = ' ' * (4 * n)\n",
    "    print(space, 'factorial', n)\n",
    "    if n == 0:\n",
    "        print(space, 'returning 1')\n",
    "        return 1\n",
    "    else:\n",
    "        recurse = factorial(n-1)\n",
    "        result = n * recurse\n",
    "        print(space, 'returning', result)\n",
    "        return result"
   ]
  },
  {
   "cell_type": "markdown",
   "id": "3e01fe27",
   "metadata": {},
   "source": [
    "`space` se yon chèn espas ki kontwole andantasyon pwodiksyon an.\n",
    "Men rezilta `factorial(3)` :"
   ]
  },
  {
   "cell_type": "code",
   "execution_count": null,
   "id": "9ad5beac",
   "metadata": {},
   "outputs": [],
   "source": [
    "factorial(3)"
   ]
  },
  {
   "cell_type": "markdown",
   "id": "56ba7388",
   "metadata": {},
   "source": [
    "Si ou konfize sou kou ekzekisyon an, kalite pwodiksyon sa a ka itil.\n",
    "Li pran kèk tan pou devlope bon scaffolding, men yon ti scaffolding ka sove anpil tan debòge."
   ]
  },
  {
   "cell_type": "markdown",
   "id": "87d677a9",
   "metadata": {},
   "source": [
    "## Glosè\n",
    "\n",
    "**valè retounen (return value):**\n",
    "Rezilta yon fonksyon. Si yon apèl fonksyon itilize kòm ekspresyon, valè retounen an se valè ekspresyon an.\n",
    "\n",
    "**fonksyon pi (pure function):**\n",
    "Yon fonksyon ki pa montre anyen ni pa fè okenn lòt efè, lòt pase retounen yon valè.\n",
    "\n",
    "**dead code (kòd mouri):**\n",
    "Pati yon pwogram ki pa ka janm kouri, souvan paske li parèt apre yon enstriksyon `return`.\n",
    "\n",
    "**devlopman enkremanèl (incremental development):**\n",
    "Yon plan devlopman pwogram ki vize evite debòge pa ajoute ak teste sèlman yon ti kantite kòd a la fwa.\n",
    "\n",
    "**scaffolding:**\n",
    "Kòd ki itilize pandan devlopman pwogram men ki pa fè pati vèsyon final la.\n",
    "\n",
    "**Turing complete (konplè Turing):**\n",
    "Yon langaj, oswa sou-ansanbl yon langaj, se konplè Turing si li ka fè nenpòt kalkil ki dekri pa yon algoritm.\n",
    "\n",
    "**validasyon antre (input validation):**\n",
    "Tcheke paramèt yon fonksyon pou asire yo gen bon tip ak valè."
   ]
  },
  {
   "cell_type": "markdown",
   "id": "4b6f1086",
   "metadata": {},
   "source": [
    "## Egzèsis"
   ]
  },
  {
   "cell_type": "code",
   "execution_count": null,
   "id": "88a59281",
   "metadata": {
    "lines_to_next_cell": 1
   },
   "outputs": [],
   "source": [
    "# Liy sa a di Jupyter pou bay enfòmasyon debògaj detaye\n",
    "# lè gen yon erè execisyon. Kouri li anvan ou travay sou egzèsis yo.\n",
    "\n",
    "%xmode Verbose"
   ]
  },
  {
   "cell_type": "markdown",
   "id": "55f18a46",
   "metadata": {},
   "source": [
    "### Mande yon asistan vityèl\n",
    "\n",
    "Nan chapit sa a, nou te wè yon fonksyon ki pa kòrèk ki ka fini san retounen yon valè."
   ]
  },
  {
   "cell_type": "code",
   "execution_count": null,
   "id": "dd22cd44",
   "metadata": {
    "lines_to_next_cell": 1
   },
   "outputs": [],
   "source": [
    "def absolute_value_wrong(x):\n",
    "    if x < 0:\n",
    "        return -x\n",
    "    if x > 0:\n",
    "        return x"
   ]
  },
  {
   "cell_type": "markdown",
   "id": "09ef25a2",
   "metadata": {},
   "source": [
    "E yon vèsyon menm fonksyon an ki gen kòd mouri anfen."
   ]
  },
  {
   "cell_type": "code",
   "execution_count": null,
   "id": "f0df7806",
   "metadata": {
    "lines_to_next_cell": 1
   },
   "outputs": [],
   "source": [
    "def absolute_value_extra_return(x):\n",
    "    if x < 0:\n",
    "        return -x\n",
    "    else:\n",
    "        return x\n",
    "    \n",
    "    return 'This is dead code.'"
   ]
  },
  {
   "cell_type": "markdown",
   "id": "94ae31d6",
   "metadata": {},
   "source": [
    "E nou te wè egzanp sa a, ki kòrèk men pa idiomatik."
   ]
  },
  {
   "cell_type": "code",
   "execution_count": null,
   "id": "016d65e1",
   "metadata": {
    "lines_to_next_cell": 1
   },
   "outputs": [],
   "source": [
    "def is_divisible(x, y):\n",
    "    if x % y == 0:\n",
    "        return True\n",
    "    else:\n",
    "        return False"
   ]
  },
  {
   "cell_type": "markdown",
   "id": "44d540fe",
   "metadata": {},
   "source": [
    "Mande yon asistan vityèl ki sa ki mal ak chak fonksyon sa yo epi gade si li ka detekte erè yo oswa amelyore stil la.\n",
    "\n",
    "Apre sa mande \"Ekri yon fonksyon ki pran kowòdone de pwen epi kalkile distans ant yo.\" Gade si rezilta a sanble ak vèsyon `distance` nou te ekri nan chapit sa a."
   ]
  },
  {
   "cell_type": "markdown",
   "id": "22e0a80f",
   "metadata": {},
   "source": [
    "### Egzèsis\n",
    "\n",
    "Sèvi ak devlopman enkremanèl pou ekri yon fonksyon ki rele `hypot` ki retounen longè ipotenuz yon triyang dwat, bay longè de lòt kote yo kòm agiman.\n",
    "\n",
    "Remak: Gen yon fonksyon nan modil math la ki rele `hypot` ki fè menm bagay la, men ou pa dwe itilize li pou egzèsis sa a!\n",
    "\n",
    "Menmsi ou ka ekri fonksyon an kòrèkteman dèske premye fwa a, kòmanse ak yon fonksyon ki toujou retounen `0` epi pratike fè ti chanjman, teste pandan ou avanse.\n",
    "Lè ou fini, fonksyon an ta dwe sèlman retounen yon valè — li pa dwe montre anyen."
   ]
  },
  {
   "cell_type": "code",
   "execution_count": null,
   "id": "f365c6df",
   "metadata": {},
   "outputs": [],
   "source": [
    "# Solution goes here"
   ]
  },
  {
   "cell_type": "code",
   "execution_count": null,
   "id": "0e55711b",
   "metadata": {},
   "outputs": [],
   "source": [
    "# Solution goes here"
   ]
  },
  {
   "cell_type": "code",
   "execution_count": null,
   "id": "6fd9815f",
   "metadata": {},
   "outputs": [],
   "source": [
    "# Solution goes here"
   ]
  },
  {
   "cell_type": "code",
   "execution_count": null,
   "id": "9bd3b5b6",
   "metadata": {},
   "outputs": [],
   "source": [
    "# Solution goes here"
   ]
  },
  {
   "cell_type": "code",
   "execution_count": null,
   "id": "a9d982e0",
   "metadata": {},
   "outputs": [],
   "source": [
    "# Solution goes here"
   ]
  },
  {
   "cell_type": "code",
   "execution_count": null,
   "id": "b96bea6d",
   "metadata": {},
   "outputs": [],
   "source": [
    "# Solution goes here"
   ]
  },
  {
   "cell_type": "code",
   "execution_count": null,
   "id": "8e5809f0",
   "metadata": {},
   "outputs": [],
   "source": [
    "# Solution goes here"
   ]
  },
  {
   "cell_type": "code",
   "execution_count": null,
   "id": "d84e7d49",
   "metadata": {},
   "outputs": [],
   "source": [
    "# Solution goes here"
   ]
  },
  {
   "cell_type": "code",
   "execution_count": null,
   "id": "d6899ab9",
   "metadata": {},
   "outputs": [],
   "source": [
    "# Solution goes here"
   ]
  },
  {
   "cell_type": "code",
   "execution_count": null,
   "id": "35de7e98",
   "metadata": {},
   "outputs": [],
   "source": [
    "# Solution goes here"
   ]
  },
  {
   "cell_type": "markdown",
   "id": "7558179b",
   "metadata": {},
   "source": [
    "### Egzèsis\n",
    "\n",
    "Ekri yon fonksyon boulèn, `is_between(x, y, z)`, ki retounen `True` si $x < y < z$ oswa si\n",
    "$z < y < x$, epi `False` sinon."
   ]
  },
  {
   "cell_type": "code",
   "execution_count": null,
   "id": "21a66018",
   "metadata": {},
   "outputs": [],
   "source": [
    "# Solution goes here"
   ]
  },
  {
   "cell_type": "markdown",
   "id": "0a72325f",
   "metadata": {},
   "source": [
    "Ou ka itilize egzanp sa yo pou teste fonksyon ou."
   ]
  },
  {
   "cell_type": "code",
   "execution_count": null,
   "id": "48f43f9e",
   "metadata": {},
   "outputs": [],
   "source": [
    "is_between(1, 2, 3)  # ta dwe True"
   ]
  },
  {
   "cell_type": "code",
   "execution_count": null,
   "id": "2ccb3f22",
   "metadata": {},
   "outputs": [],
   "source": [
    "is_between(3, 2, 1)  # ta dwe True"
   ]
  },
  {
   "cell_type": "code",
   "execution_count": null,
   "id": "eeba79ae",
   "metadata": {},
   "outputs": [],
   "source": [
    "is_between(1, 3, 2)  # ta dwe False"
   ]
  },
  {
   "cell_type": "code",
   "execution_count": null,
   "id": "187abf80",
   "metadata": {},
   "outputs": [],
   "source": [
    "is_between(2, 3, 1)  # ta dwe False"
   ]
  },
  {
   "cell_type": "markdown",
   "id": "7087032a",
   "metadata": {},
   "source": [
    "### Egzèsis\n",
    "\n",
    "Fonksyon Ackermann lan, $A(m, n)$, defini konsa:\n",
    "\n",
    "$$\\begin{aligned}\n",
    "A(m, n) = \\begin{cases} \n",
    "              n+1 & \\mbox{si } m = 0 \\\\ \n",
    "        A(m-1, 1) & \\mbox{si } m > 0 \\mbox{ ak } n = 0 \\\\ \n",
    "A(m-1, A(m, n-1)) & \\mbox{si } m > 0 \\mbox{ ak } n > 0.\n",
    "\\end{cases} \n",
    "\\end{aligned}$$ \n",
    "\n",
    "Ekri yon fonksyon `ackermann` ki evalye fonksyon Ackermann lan.\n",
    "Ki sa ki pase si ou rele `ackermann(5, 5)`?"
   ]
  },
  {
   "cell_type": "code",
   "execution_count": null,
   "id": "142b0cd0",
   "metadata": {},
   "outputs": [],
   "source": [
    "# Solution goes here"
   ]
  },
  {
   "cell_type": "markdown",
   "id": "d745ec94",
   "metadata": {},
   "source": [
    "Ou ka itilize egzanp sa yo pou teste fonksyon ou."
   ]
  },
  {
   "cell_type": "code",
   "execution_count": null,
   "id": "4682668a",
   "metadata": {},
   "outputs": [],
   "source": [
    "ackermann(3, 2)  # ta dwe 29"
   ]
  },
  {
   "cell_type": "code",
   "execution_count": null,
   "id": "5ac40098",
   "metadata": {},
   "outputs": [],
   "source": [
    "ackermann(3, 3)  # ta dwe 61"
   ]
  },
  {
   "cell_type": "code",
   "execution_count": null,
   "id": "ed8a3225",
   "metadata": {},
   "outputs": [],
   "source": [
    "ackermann(3, 4)  # ta dwe 125"
   ]
  },
  {
   "cell_type": "markdown",
   "id": "cf6e45e0",
   "metadata": {},
   "source": [
    "Si ou rele fonksyon sa a ak valè pi gran pase 4, ou jwenn yon `RecursionError`."
   ]
  },
  {
   "cell_type": "code",
   "execution_count": null,
   "id": "546f4da9",
   "metadata": {},
   "outputs": [],
   "source": [
    "%%expect RecursionError\n",
    "\n",
    "ackermann(5, 5)"
   ]
  },
  {
   "cell_type": "markdown",
   "id": "7acc2af3",
   "metadata": {},
   "source": [
    "Pou wè poukisa, ajoute yon enstriksyon print an kòmansman fonksyon an pou montre valè paramèt yo, epi apre sa kouri egzanp yo ankò."
   ]
  },
  {
   "cell_type": "markdown",
   "id": "508cf490",
   "metadata": {},
   "source": [
    "### Egzèsis\n",
    "\n",
    "Yon nimewo, $a$, se yon pouvwa $b$ si li divizib pa $b$ epi $a/b$ se\n",
    "yon pouvwa $b$. Ekri yon fonksyon `is_power` ki pran paramèt\n",
    "`a` ak `b` epi retounen `True` si `a` se yon pouvwa `b`. Remak: ou pral\n",
    "bezwen panse a ka baz la."
   ]
  },
  {
   "cell_type": "code",
   "execution_count": null,
   "id": "f9c110d9",
   "metadata": {},
   "outputs": [],
   "source": [
    "# Solution goes here"
   ]
  },
  {
   "cell_type": "markdown",
   "id": "39b10d08",
   "metadata": {},
   "source": [
    "Ou ka itilize egzanp sa yo pou teste fonksyon ou."
   ]
  },
  {
   "cell_type": "code",
   "execution_count": null,
   "id": "4eb21e06",
   "metadata": {},
   "outputs": [],
   "source": [
    "is_power(65536, 2)   # ta dwe True"
   ]
  },
  {
   "cell_type": "code",
   "execution_count": null,
   "id": "189dff1d",
   "metadata": {},
   "outputs": [],
   "source": [
    "is_power(27, 3)  # ta dwe True"
   ]
  },
  {
   "cell_type": "code",
   "execution_count": null,
   "id": "d62f01d3",
   "metadata": {},
   "outputs": [],
   "source": [
    "is_power(24, 2)  # ta dwe False"
   ]
  },
  {
   "cell_type": "code",
   "execution_count": null,
   "id": "45eb631a",
   "metadata": {},
   "outputs": [],
   "source": [
    "is_power(1, 17)   # ta dwe True"
   ]
  },
  {
   "cell_type": "markdown",
   "id": "baafb75c",
   "metadata": {},
   "source": [
    "### Egzèsis\n",
    "\n",
    "Gwo divizè komen (GCD) $a$ ak $b$ se pi gran nimewo\n",
    "ki divizib pa toude san rès.\n",
    "\n",
    "Youn nan fason pou jwenn GCD de nimewo baze sou observasyon ke\n",
    "si $r$ se rès lè $a$ divize pa $b$, kidonk $gcd(a,\n",
    "b) = gcd(b, r)$. Kòm ka baz, nou ka itilize $gcd(a, 0) = a$.\n",
    "\n",
    "Ekri yon fonksyon `gcd` ki pran paramèt `a` ak `b` epi\n",
    "retounen gwo divizè komen yo."
   ]
  },
  {
   "cell_type": "code",
   "execution_count": null,
   "id": "1e6f9f09",
   "metadata": {},
   "outputs": [],
   "source": [
    "# Solution goes here"
   ]
  },
  {
   "cell_type": "markdown",
   "id": "4d3c6e53",
   "metadata": {},
   "source": [
    "Ou ka itilize egzanp sa yo pou teste fonksyon ou."
   ]
  },
  {
   "cell_type": "code",
   "execution_count": null,
   "id": "38e833f8",
   "metadata": {},
   "outputs": [],
   "source": [
    "gcd(12, 8)    # ta dwe 4"
   ]
  },
  {
   "cell_type": "code",
   "execution_count": null,
   "id": "2105118f",
   "metadata": {},
   "outputs": [],
   "source": [
    "gcd(13, 17)   # ta dwe 1"
   ]
  },
  {
   "cell_type": "code",
   "execution_count": null,
   "id": "9ae7da8d",
   "metadata": {
    "lines_to_next_cell": 3
   },
   "outputs": [],
   "source": []
  }
 ],
 "metadata": {
  "jupytext": {
   "cell_metadata_filter": "-all",
   "main_language": "python",
   "notebook_metadata_filter": "-all"
  },
  "language_info": {
   "name": "python"
  }
 },
 "nbformat": 4,
 "nbformat_minor": 5
}
