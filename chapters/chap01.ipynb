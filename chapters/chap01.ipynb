{
 "cells": [
  {
   "cell_type": "markdown",
   "id": "49d8af22",
   "metadata": {},
   "source": [
    "Ou ka kòmande vèsyon enprime ak ebook nan * Think Python 3e * sou\n",
    "[Bookshop.org](https://bookshop.org/a/98697/9781098155438) ak\n",
    "[Amazon](https://www.amazon.com/_/dp/1098155432?smid=ATVPDKIKX0DER&_encoding=UTF8&tag=oreilly20-20&_encoding=UTF8&tag=greenteapre01-20&linkCode=ur2&linkId=e2a529f94920295d27ec8a06e757dc7c&camp=1789&creative=9325)."
   ]
  },
  {
   "cell_type": "markdown",
   "id": "c189dd38",
   "metadata": {},
   "source": [
    "# Byenveni\n",
    "\n",
    "Sa a se kaye Jupyter la pou Chapit 1 nan [Panse Python, 3yèm edisyon](https://greenteapress.com/wp/think-python-3rd-edition), pa Allen B. Downey.\n",
    "\n",
    "Si ou pa abitye avèk Kaye Jipyter,\n",
    "[klike isit la pou yon entwodiksyon kout] (https://colab.research.google.com/github/AllenDowney/ThinkPython/blob/v3/chapters/jupyter_intro.ipynb).\n",
    "\n",
    "Apre sa, si ou pa deja ap kouri kaye sa a sou Colab, [klike isit la pou kouri kaye sa a sou Colab](https://colab.research.google.com/github/AllenDowney/ThinkPython/blob/v3/chapters/chap01.ipynb)."
   ]
  },
  {
   "cell_type": "markdown",
   "id": "56bd1f04",
   "metadata": {},
   "source": [
    "Selil sa a telechaje yon dosye epi kouri kèk kòd ki espesyalman itilize pou liv sa a.\n",
    "Ou pa bezwen konpawondi kòd sa a kounye a, men ou ta dwe kouri li anvan ou fè nenpòt lòt bagay nan kaye sa a.\n",
    "Sonje byen ke ou ka kouri kòd la pa chwazi selil la epi peze bouton jwe a (yon triyang nan yon sèk) oswa kenbe `Shift` ak peze `Enter`."
   ]
  },
  {
   "cell_type": "code",
   "execution_count": 2,
   "id": "05e54eaf",
   "metadata": {},
   "outputs": [],
   "source": [
    "from os.path import basename, exists\n",
    "\n",
    "def download(url):\n",
    "    filename = basename(url)\n",
    "    if not exists(filename):\n",
    "        from urllib.request import urlretrieve\n",
    "\n",
    "        local, _ = urlretrieve(url, filename)\n",
    "        print(\"Downloaded \" + str(local))\n",
    "    return filename\n",
    "\n",
    "download('https://github.com/AllenDowney/ThinkPython/raw/v3/thinkpython.py');\n",
    "\n",
    "import thinkpython"
   ]
  },
  {
   "cell_type": "markdown",
   "id": "53827edb",
   "metadata": {},
   "source": [
    "# Pwogramasyon kòm yon mwayen pou panse\n",
    "\n",
    "Premye objektif liv sa a se pou anseye w kijan pou pwograme nan Python.\n",
    "Men, apawondi pwograme vle di apawondi yon nouvo fason pou panse; dezyèm objektif liv sa a se ede w panse tankou yon syantis òdinatè.\n",
    "Fason panse sa a konbine kèk nan pi bon karakteristik matematik, jeni, ak syans natirèl.\n",
    "Tankou matematisyen, syantis òdinatè yo itilize langaj fòmèl pou reprezante lide -- sitou kalkil.\n",
    "Tankou enjenyè, yo konsevwa bagay, rasanble eleman pou fè sistèm epi evalye konpwomi ant opsyon yo.\n",
    "Tankou syantis, yo obsève konpòtman sistèm konplèks, fòme ipotèz epi teste prediksyon.\n",
    "\n",
    "Nou pral kòmanse ak eleman ki pi fondamantal nan pwogramasyon epi travay chemen nou monte.\n",
    "Nan chapit sa a, n ap wè kijan Python reprezante nimewo, lèt, ak mo.\n",
    "Epi ou pral aprann fè operasyon aritmetik.\n",
    "\n",
    "W ap kòmanse tou aprann vokabilè pwogramasyon an, ki gen ladan tèm tankou operatè, ekspresyon, valè, ak kalite.\n",
    "Vokabilè sa a enpòtan - w ap bezwen li pou konprann rès liv la, pou kominike ak lòt pwogramè, epi pou itilize ak konprann asistan vityèl yo."
   ]
  },
  {
   "cell_type": "markdown",
   "id": "28cf8e63",
   "metadata": {},
   "source": [
    "## Operatè Aritmetik\n",
    "\n",
    "Yon **operatè aritmetik** se yon senbòl ki reprezante yon konpitasyon aritmetik. Pou egzanp, siy plis la, `+`, fè adisyon."
   ]
  },
  {
   "cell_type": "code",
   "execution_count": null,
   "id": "e418177b",
   "metadata": {},
   "outputs": [],
   "source": [
    "30 + 12"
   ]
  },
  {
   "cell_type": "markdown",
   "id": "267a3f80",
   "metadata": {},
   "source": [
    "Siy mwens la, `-`, se operatè a ki fè soustraksyon."
   ]
  },
  {
   "cell_type": "code",
   "execution_count": null,
   "id": "46a85310",
   "metadata": {},
   "outputs": [],
   "source": [
    "43 - 1"
   ]
  },
  {
   "cell_type": "markdown",
   "id": "07986468",
   "metadata": {},
   "source": [
    "Asterisk la, `*`, fè miltiplikasyon."
   ]
  },
  {
   "cell_type": "code",
   "execution_count": null,
   "id": "20825c6f",
   "metadata": {},
   "outputs": [],
   "source": [
    "6 * 7"
   ]
  },
  {
   "cell_type": "markdown",
   "id": "355f4ebb",
   "metadata": {},
   "source": [
    "Ak koupe devan an, `/`, fè divizyon:"
   ]
  },
  {
   "cell_type": "code",
   "execution_count": null,
   "id": "bd5b28be",
   "metadata": {},
   "outputs": [],
   "source": [
    "84 / 2"
   ]
  },
  {
   "cell_type": "markdown",
   "id": "cb684f2a",
   "metadata": {},
   "source": [
    "Remake rezilta divizyon an se `42.0` olye ke `42`. Se paske gen de kalite nimewo nan Python:\n",
    "* **nimewo antye**, ki reprezante nimewo ki pa gen okenn pati fraksyon oswa desimal, epi \n",
    "\n",
    "* **nimewo k ap flote**, ki reprezante nimewo antye ak nimewo ki gen yon pwen desimal.\n",
    "\n",
    "Si w ajoute, soustraksyon oswa miltipliye de nonm antye, rezilta a se yon nonm antye. Men, si ou divize de nonm antye, rezilta a se yon nonm k ap flote. Python bay yon lòt operatè, `//`, ki fè **divizyon nonb antye relatif**. Rezilta divizyon nonb antye se toujou yon nonb antye."
   ]
  },
  {
   "cell_type": "code",
   "execution_count": null,
   "id": "ee85b0b7",
   "metadata": {},
   "outputs": [],
   "source": [
    "84 // 2"
   ]
  },
  {
   "cell_type": "markdown",
   "id": "e2a7441b",
   "metadata": {},
   "source": [
    "Divizyon nonb antye yo rele tou \"divizyon etaj\" paske li toujou awondi desann (nan direksyon \"etaj la\")."
   ]
  },
  {
   "cell_type": "code",
   "execution_count": null,
   "id": "e8c21185",
   "metadata": {},
   "outputs": [],
   "source": [
    "85 // 2"
   ]
  },
  {
   "cell_type": "markdown",
   "id": "c621561f",
   "metadata": {},
   "source": [
    "Finalman, operatè a `**` fè eksponentiasyon; sa vle di, li ogmante yon nimewo nan yon pouvwa:"
   ]
  },
  {
   "cell_type": "code",
   "execution_count": null,
   "id": "e8103342",
   "metadata": {},
   "outputs": [],
   "source": [
    "7 ** 2"
   ]
  },
  {
   "cell_type": "markdown",
   "id": "7079aa3a",
   "metadata": {},
   "source": [
    "Nan kèk lòt lang, yo itilize caret, `^`, pou eksponentiasyon, men nan Python se yon operatè bitwise ki rele XOR. \n",
    "Si ou pa abitye ak operatè bitwise, rezilta a ta ka inatandi:"
   ]
  },
  {
   "cell_type": "code",
   "execution_count": null,
   "id": "dc724270",
   "metadata": {},
   "outputs": [],
   "source": [
    "7 ^ 2"
   ]
  },
  {
   "cell_type": "markdown",
   "id": "9267c2bd",
   "metadata": {},
   "source": [
    "Mwen pa pral kouvri operatè bitwise nan liv sa a, men ou ka li sou yo nan http://wiki.python.org/moin/BitwiseOperators."
   ]
  },
  {
   "cell_type": "markdown",
   "id": "0f5b7e97",
   "metadata": {},
   "source": [
    "## Ekspresyon\n",
    "\n",
    "Yon kòlèksyon nan operatè ak nimewo yo rele yon **ekspreyon**.\n",
    "Yon ekspreyon ka genyen nenpòt kantite operatè ak nimewo.\n",
    "Pou egzanp, men yon ekspreyon ki gen de operatè yo."
   ]
  },
  {
   "cell_type": "code",
   "execution_count": 10,
   "id": "6e68101d",
   "metadata": {},
   "outputs": [],
   "source": [
    "6 + 6 ** 2"
   ]
  },
  {
   "cell_type": "markdown",
   "id": "8e95039c",
   "metadata": {},
   "source": [
    "Fè atansyon ke eksponansyasyon an fèt avan adisyon.\n",
    "Python swiv lòd operasyon ou ta ka aprann nan yon klas matematik: eksponansyasyon fèt avan multiplikasyon ak divizyon, ki fèt avan adisyon ak soustraksyon.\n",
    "\n",
    "Nan egzanp ki vin apre a, multiplikasyon fèt avan adisyon."
   ]
  },
  {
   "cell_type": "code",
   "execution_count": 11,
   "id": "ffc25598",
   "metadata": {},
   "outputs": [],
   "source": [
    "12 + 5 * 6"
   ]
  },
  {
   "cell_type": "markdown",
   "id": "914a60d8",
   "metadata": {},
   "source": [
    "Si ou vle ke adisyon fèt an premye, ou ka itilize paranthis."
   ]
  },
  {
   "cell_type": "code",
   "execution_count": 12,
   "id": "8dd1bd9a",
   "metadata": {},
   "outputs": [],
   "source": [
    "(12 + 5) * 6"
   ]
  },
  {
   "cell_type": "markdown",
   "id": "67ae0ae9",
   "metadata": {},
   "source": [
    "Chak ekspresyon gen yon **valè**.\n",
    "Pou egzanp, ekspresyon an `6 * 7` gen valè `42`."
   ]
  },
  {
   "cell_type": "markdown",
   "id": "caebaa51",
   "metadata": {},
   "source": [
    "## Fonksyon Aritmètik\n",
    "\n",
    "Anplis operatè aritmetik, Python bay kèk **fonksyon** ki travay avèk nimewo yo. Pa egzanp, fonksyon `round` la pran yon nimewo k ap flote epi li wonn li nan nimewo antye ki pi pre li."
   ]
  },
  {
   "cell_type": "code",
   "execution_count": 13,
   "id": "1e3d5e01",
   "metadata": {},
   "outputs": [],
   "source": [
    "round(42.4)"
   ]
  },
  {
   "cell_type": "code",
   "execution_count": 14,
   "id": "d1b220b9",
   "metadata": {},
   "outputs": [],
   "source": [
    "round(42.6)"
   ]
  },
  {
   "cell_type": "markdown",
   "id": "f5738b4b",
   "metadata": {},
   "source": [
    "Fonksyon `abs` la kalkile valè absoli yon nimewo.\n",
    "Pou yon nimewo pozitif, valè absoli a se nimewo a menm."
   ]
  },
  {
   "cell_type": "code",
   "execution_count": 15,
   "id": "ff742476",
   "metadata": {},
   "outputs": [],
   "source": [
    "abs(42)"
   ]
  },
  {
   "cell_type": "markdown",
   "id": "e518494a",
   "metadata": {},
   "source": [
    "Pou yon nimewo negatif, valè absoli se pozitif."
   ]
  },
  {
   "cell_type": "code",
   "execution_count": 16,
   "id": "9247c1a3",
   "metadata": {},
   "outputs": [],
   "source": [
    "abs(-42)"
   ]
  },
  {
   "cell_type": "markdown",
   "id": "6969ce45",
   "metadata": {},
   "source": [
    "Lè n ap itilize yon fonksyon tankou sa a, nou di ke nou **ap rele** fonksyon an.\n",
    "Yon ekspresyon ki rele yon fonksyon se yon **apèl fonksyon**.\n",
    "\n",
    "Lè ou rele yon fonksyon, paranthesis yo obligatwa.\n",
    "Si ou kite yo deyò, ou pral resevwa yon mesaj erè."
   ]
  },
  {
   "cell_type": "markdown",
   "id": "5a73bfd5",
   "metadata": {
    "tags": []
   },
   "source": [
    "NOT: Selil sa a itilize `%%expect`, ki se yon 'lòd majik' Jupyter ki vle di nou espere kòd la nan selil sa a ap pwodwi yon erè. Pou plis sou sijè sa a, wè\n",
    "[introdiksyon Jupyter notebook](https://colab.research.google.com/github/AllenDowney/ThinkPython/blob/v3/chapters/jupyter_intro.ipynb)."
   ]
  },
  {
   "cell_type": "code",
   "execution_count": 17,
   "id": "4674b7ca",
   "metadata": {
    "tags": []
   },
   "outputs": [],
   "source": [
    "%%expect SyntaxError\n",
    "\n",
    "abs 42"
   ]
  },
  {
   "cell_type": "markdown",
   "id": "7d356f1b",
   "metadata": {},
   "source": [
    "Ou ka inyore premye liy mesaj sa a; li pa gen okenn enfòmasyon nou bezwen konprann kounye a. \n",
    "\n",
    "Dezyèm liy la se kòd ki gen erè a, ak yon swiv (`^`) anba li pou endike kote erè a te jwenn.\n",
    "\n",
    "Dènye linè a endike ke sa se yon **erè sintaks**, ki vle di gen yon bagay ki pa kòrèk nan fòma ekspresyon an.\n",
    "Nan egzanp sa a, pwoblèm nan se ke yon apèl fonksyon an mande pou parantèz.\n",
    "\n",
    "Nou pral wè sa ki rive si ou kite parantèz yo *ak* valè a."
   ]
  },
  {
   "cell_type": "code",
   "execution_count": 2,
   "id": "7d3e8127",
   "metadata": {},
   "outputs": [],
   "source": [
    "abs"
   ]
  },
  {
   "cell_type": "markdown",
   "id": "94478885",
   "metadata": {},
   "source": [
    "Yon non fonksyon tout pou kont li se yon ekspresyon legal ki gen yon valè.\n",
    "Lè li montre, valè a endike ke `abs` se yon fonksyon, e li gen kèk enfòmasyon adisyonèl mwen pral eksplike pita."
   ]
  },
  {
   "cell_type": "markdown",
   "id": "31a85d17",
   "metadata": {},
   "source": [
    "## Fisel\n",
    "\n",
    "Anplis de nimewo yo, Python kapab reprezante tou sekans lèt yo, yo rele yo **fisèl** paske lèt yo mare ansanm tankou grenn sou yon kolye. Pou ekri yon fisèl, nou ka mete yon sekans lèt nan mak sitasyon dwat.\n"
   ]
  },
  {
   "cell_type": "code",
   "execution_count": 3,
   "id": "bd8ae45f",
   "metadata": {},
   "outputs": [],
   "source": [
    "'Alo'"
   ]
  },
  {
   "cell_type": "markdown",
   "id": "d20050d8",
   "metadata": {},
   "source": [
    "Li legal tou pou itilize mak sitasyon doub."
   ]
  },
  {
   "cell_type": "code",
   "execution_count": 4,
   "id": "01d0055e",
   "metadata": {},
   "outputs": [],
   "source": [
    "\"mond\""
   ]
  },
  {
   "cell_type": "markdown",
   "id": "76f5edb7",
   "metadata": {},
   "source": [
    "Mak sitasyon doub fè li fasil pou ekri yon fisèl ki gen yon apostwòf, ki se menm senbòl ak yon mak sitasyon dwat."
   ]
  },
  {
   "cell_type": "code",
   "execution_count": 21,
   "id": "0295acab",
   "metadata": {},
   "outputs": [],
   "source": [
    "\"Se yon ti \""
   ]
  },
  {
   "cell_type": "markdown",
   "id": "d62d4b1c",
   "metadata": {},
   "source": [
    "Fisèl yo kapab gen espas, ponktiyasyon, ak chif tou."
   ]
  },
  {
   "cell_type": "code",
   "execution_count": 6,
   "id": "cf918917",
   "metadata": {},
   "outputs": [],
   "source": [
    "'Ebyen, '"
   ]
  },
  {
   "cell_type": "markdown",
   "id": "9ad47f7a",
   "metadata": {},
   "source": [
    "Operatè `+` a travay ak fisèl; li mete ansanm de fisèl pou fè yon sèl fisèl, sa yo rele  **konkatenasyon**."
   ]
  },
  {
   "cell_type": "code",
   "execution_count": 1,
   "id": "aefe6af1",
   "metadata": {},
   "outputs": [],
   "source": [
    "'Ebyen, ' + \"se yon ti \" + 'mond.'"
   ]
  },
  {
   "cell_type": "markdown",
   "id": "0ad969a3",
   "metadata": {},
   "source": [
    "Operatè `*` a travay tou ak fisèl; li fè plizyè kopi yon fisèl epi konkatene yo."
   ]
  },
  {
   "cell_type": "code",
   "execution_count": 2,
   "id": "42e9e4e2",
   "metadata": {},
   "outputs": [],
   "source": [
    "'Spam, ' * 4"
   ]
  },
  {
   "cell_type": "markdown",
   "id": "dfba16a5",
   "metadata": {},
   "source": [
    "Lòt operatè aritmetik yo pa travay ak fisèl. \n",
    "\n",
    "Python bay yon fonksyon ki rele `len` ki kalkile longè fisèl la."
   ]
  },
  {
   "cell_type": "code",
   "execution_count": 3,
   "id": "a5e837db",
   "metadata": {},
   "outputs": [],
   "source": [
    "len('Spam')"
   ]
  },
  {
   "cell_type": "markdown",
   "id": "d91e00b3",
   "metadata": {},
   "source": [
    "Remake ke `len` konte lèt yo ant mak sitasyon yo, men li pa konte mak sitasyon yo.\n",
    "\n",
    "Lè w ap kreye yon fisèl, asire w ke w itilize mak sitasyon dwat. Aksan grav lakòz yon erè sintaks."
   ]
  },
  {
   "cell_type": "code",
   "execution_count": 6,
   "id": "e3f65f19",
   "metadata": {
    "tags": []
   },
   "outputs": [],
   "source": [
    "%%expect SyntaxError\n",
    "\n",
    "`Alo`"
   ]
  },
  {
   "cell_type": "markdown",
   "id": "40d893d1",
   "metadata": {},
   "source": [
    "Mak sitasyon entèlijan, ke yo rele tou mak sitasyon krole, yo ilegal tou."
   ]
  },
  {
   "cell_type": "code",
   "execution_count": 7,
   "id": "a705b980",
   "metadata": {
    "tags": []
   },
   "outputs": [],
   "source": [
    "%%expect SyntaxError\n",
    "\n",
    "‘Alo’"
   ]
  },
  {
   "cell_type": "markdown",
   "id": "5471d4f8",
   "metadata": {},
   "source": [
    "## Valè ak tip yo\n",
    "\n",
    "Jiska kounye a, nou wè twa kalite valè:\n",
    "\n",
    "* `2` se yon nimewo antye,\n",
    "\n",
    "* `42.0` se yon nimewo k ap flote, epi\n",
    "\n",
    "* `'Alo'` se yon fisèl.\n",
    "\n",
    "Yon kalite valè rele yon **tip**.\n",
    "Chak valè gen yon tip - oswa nou ka di li \"fè pati nan\" yon tip.\n",
    "\n",
    "Python ofri yon fonksyon ki rele `type` ki di w ki tip valè ou genyen.\n",
    "Tip yon nimewo antye se `int`.\n"
   ]
  },
  {
   "cell_type": "code",
   "execution_count": 8,
   "id": "3df8e2c5",
   "metadata": {},
   "outputs": [],
   "source": [
    "type(2)"
   ]
  },
  {
   "cell_type": "markdown",
   "id": "b137814c",
   "metadata": {},
   "source": [
    "Tip yon nimewo k ap flote se `float`."
   ]
  },
  {
   "cell_type": "code",
   "execution_count": 9,
   "id": "c4732c8d",
   "metadata": {},
   "outputs": [],
   "source": [
    "type(42.0)"
   ]
  },
  {
   "cell_type": "markdown",
   "id": "266dea4e",
   "metadata": {},
   "source": [
    "Epi tip yon fisèl se `str`."
   ]
  },
  {
   "cell_type": "code",
   "execution_count": 10,
   "id": "8f65ac45",
   "metadata": {},
   "outputs": [],
   "source": [
    "type('Alo, Mond!')"
   ]
  },
  {
   "cell_type": "markdown",
   "id": "76d216ed",
   "metadata": {},
   "source": [
    "Tip yo `int`, `float`, ak `str` ka itilize tankou fonksyon.\n",
    "Pou egzanp, `int` ka pran nimewo k ap flote epi konvèti li an yon nimewo antye (toujou awondi desann)."
   ]
  },
  {
   "cell_type": "code",
   "execution_count": 11,
   "id": "84b22f2f",
   "metadata": {},
   "outputs": [],
   "source": [
    "int(42.9)"
   ]
  },
  {
   "cell_type": "markdown",
   "id": "dcd8d114",
   "metadata": {},
   "source": [
    "Epi `float` ka konvèti yon nimewo antye an yon valè k ap flote."
   ]
  },
  {
   "cell_type": "code",
   "execution_count": 1,
   "id": "9b66ee21",
   "metadata": {},
   "outputs": [],
   "source": [
    "float(42)"
   ]
  },
  {
   "cell_type": "markdown",
   "id": "eda70b61",
   "metadata": {},
   "source": [
    "Kounye a, gen yon bagay ki ka konfizyon.\n",
    "Kisa ou jwenn si ou mete yon seri chif nan mak sitasyon?"
   ]
  },
  {
   "cell_type": "code",
   "execution_count": 2,
   "id": "f64e107c",
   "metadata": {},
   "outputs": [],
   "source": [
    "'126'"
   ]
  },
  {
   "cell_type": "markdown",
   "id": "fdded653",
   "metadata": {},
   "source": [
    "Li sanble yon nimewo, men an reyalite se yon fisèl."
   ]
  },
  {
   "cell_type": "code",
   "execution_count": 3,
   "id": "609a8153",
   "metadata": {},
   "outputs": [],
   "source": [
    "type('126')"
   ]
  },
  {
   "cell_type": "markdown",
   "id": "2683ac35",
   "metadata": {},
   "source": [
    "Si ou eseye itilize li tankou yon nimewo, ou ka resevwa yon erè."
   ]
  },
  {
   "cell_type": "code",
   "execution_count": 3,
   "id": "1cf21da4",
   "metadata": {
    "tags": []
   },
   "outputs": [],
   "source": [
    "%%expect TypeError\n",
    "\n",
    "'126' / 3"
   ]
  },
  {
   "cell_type": "markdown",
   "id": "32c11cc4",
   "metadata": {},
   "source": [
    "Nan egzanp sa a, gen yon `TypeError`, sa vle di ke valè yo nan ekspresyon an, ki rele **operan**, gen yon move tip.\n",
    "\n",
    "Mesaj erè a endike ke operatè `/` a pa sipòte tip valè sa yo, ki se `str` ak `int`.\n",
    "\n",
    "Si ou gen yon fisèl ki gen chif, ou ka itilize `int` pou konvèti li nan yon nimewo antye."
   ]
  },
  {
   "cell_type": "code",
   "execution_count": 4,
   "id": "d45e6a60",
   "metadata": {},
   "outputs": [],
   "source": [
    "int('126') / 3"
   ]
  },
  {
   "cell_type": "markdown",
   "id": "86935d56",
   "metadata": {},
   "source": [
    "Si ou gen yon fisèl ki gen chif ak yon pwen desimal, ou ka sèvi ak `float` pou konvèti li nan yon nimewo k ap flote."
   ]
  },
  {
   "cell_type": "code",
   "execution_count": 5,
   "id": "db30b719",
   "metadata": {},
   "outputs": [],
   "source": [
    "float('12.6')"
   ]
  },
  {
   "cell_type": "markdown",
   "id": "03103ef4",
   "metadata": {},
   "source": [
    "Lè ou ekri yon nimewo gwo, ou ta ka santi w anvi mete vigil ant gwoup de chif, tankou nan `1,000,000`.\n",
    "Sa se yon ekspresyon legal nan Python, men rezilta a pa yon nimewo antye."
   ]
  },
  {
   "cell_type": "code",
   "execution_count": 6,
   "id": "d72b6af1",
   "metadata": {},
   "outputs": [],
   "source": [
    "1,000,000"
   ]
  },
  {
   "cell_type": "markdown",
   "id": "3d24af71",
   "metadata": {},
   "source": [
    "Python entèprete `1,000,000` kòm yon seri nimewo kote yo separe pa vigil. \n",
    "Nou pral aprann plis sou kalite seri sa yo pita.\n",
    "\n",
    "Ou ka itilize tirèt ba pou fè nimewo gwo pi fasil pou li."
   ]
  },
  {
   "cell_type": "code",
   "execution_count": 7,
   "id": "e19bf7e7",
   "metadata": {},
   "outputs": [],
   "source": [
    "1_000_000"
   ]
  },
  {
   "cell_type": "markdown",
   "id": "1761cbac",
   "metadata": {},
   "source": [
    "## Lang natirèl ak lang fòmèl\n",
    "\n",
    "**Lang natirèl yo** se lang moun pale, tankou Kreyol, Panyòl, ak Anglè. Yo pa te fèt pa moun; yo devlope natirèlman.\n",
    "\n",
    "**Lang fòmèl yo** se lang ki fèt pa moun pou aplikasyon espesifik. Pa egzanp, notasyon ke matematisyen yo itilize se yon lang fòmèl ki bon pou endike relasyon ant nimewo ak senbòl yo.\n",
    "Menm jan an, langaj pwogramasyon yo se lang fòmèl ki fèt pou ekspwime kalkil."
   ]
  },
  {
   "cell_type": "markdown",
   "id": "1bf3d2dc",
   "metadata": {},
   "source": [
    "Byenke lang fòmèl ak lang natirèl yo gen kèk karakteristik an komen, gen diferans enpòtan:\n",
    "\n",
    "* **Anbwiyite**: Lang natirèl yo gen anpil anbwiyite, moun yo rezoud li lè yo itilize endis konteks ak lòt enfòmasyon. Lang fòmèl yo fèt pou preske oswa konplètman san anbwiyite, sa vle di ke nenpòt pwogram gen yon sèl siyifikasyon, kèlkeswa konteks la.\n",
    "\n",
    "* **Redondans**: Pou konpanse pou anbwiyite ak diminye malantandi, lang natirèl yo itilize redondans. Kòm rezilta, yo souvan long. Lang fòmèl yo mwens redondan epi pi presi.\n",
    "\n",
    "* **Literalite**: Lang natirèl yo plen ak idyòm ak metafò. Lang fòmèl yo vle di egzakteman sa yo di."
   ]
  },
  {
   "cell_type": "markdown",
   "id": "78a1cec8",
   "metadata": {},
   "source": [
    "Piske nou tout grandi pale lang natirèl, pafwa li difisil pou nou adapte nou ak lang fòmèl yo. Lang fòmèl yo pi dans pase lang natirèl, kidonk li pran plis tan pou li yo. Epitou, estrikti a enpòtan, kidonk li pa toujou pi bon li soti nan tèt anba, oswa de gòch adwat. Finalman, detay yo gen enpòtans. Ti erè nan òtograf ak ponktiyasyon, ke ou ka pase inapèsi nan lang natirèl, ka fè yon gwo diferans nan yon lang fòmèl.\n"
   ]
  },
  {
   "cell_type": "markdown",
   "id": "4358fa9a",
   "metadata": {},
   "source": [
    "## Debogaj\n",
    "\n",
    "Pwogramè fè erè, epi yo rele erè sa yo **pinèz**. Pwosesis pou idantifye ak korije erè sa yo rele **debogaj**.\n",
    "\n",
    "Pwogramasyon, ak espesyalman debogaj, pafwa pwovoke emosyon fò. Si w ap lite ak yon pinèz difisil, ou ka santi w fache, tris, oswa jennen.\n",
    "\n",
    "Prepare pou reyaksyon sa yo ka ede w fè fas ak yo. Yon apwòch se panse a òdinatè a kòm yon anplwaye ki gen fòs, tankou vitès ak presizyon, men ki gen feblès patikilye tankou mank de senpati ak enkapasite pou konpreann yon pwoblèm lajè.\n",
    "\n",
    "Travay ou se pou w yon bon manadjè: jwenn fason pou pran avantaj de fòs yo ak diminye feblès yo. Epi sèvi ak emosyon ou pou angaje ak pwoblèm nan, san w pa kite reyaksyon ou entèfere ak kapasite w pou w travay efektivman.\n",
    "\n",
    "Aprann debogaj ka fwistre, men li se yon konpetans ki gen anpil valè, ki itil nan anpil lòt aktivite apa de pwogramasyon. Nan fen chak chapit, gen yon seksyon ak sijesyon debogaj mwen. Mwen espere yo ede w!\n"
   ]
  },
  {
   "cell_type": "markdown",
   "id": "33b8ad00",
   "metadata": {},
   "source": [
    "## Glosè\n",
    "\n",
    "**operatè aritmetik:**  \n",
    "Yon senbòl, tankou “+” ak “*”, ki endike yon operasyon aritmetik tankou adisyon oswa miltiplikasyon.\n",
    "\n",
    "**nimewo antye:**  \n",
    "Yon kalite ki reprezante nimewo san pati fraksyon oswa desimal.\n",
    "\n",
    "**nimewo k ap flote:**  \n",
    "Yon kalite ki reprezante nimewo ki gen pati fraksyonè.\n",
    "\n",
    "**divizyon antye:**  \n",
    "Yon operatè, “//”, ki divize de nimewo epi awondi desann pou fè yon nimewo antye.\n",
    "\n",
    "**ekspresyon:**  \n",
    "Yon konbinezon varyab, valè, ak operatè.\n",
    "\n",
    "**valè:**  \n",
    "Yon nimewo antye, nimewo k ap flote, oswa fisèl -- oswa yon lòt kalite valè nou pral wè pita.\n",
    "\n",
    "**fonksyon:**  \n",
    "Yon sekans deklarasyon ki gen yon non ki fè yon operasyon itil. Fonksyon yo ka pran oswa ka pa pran agiman, epi yo ka pwodwi oswa ka pa pwodwi yon rezilta.\n",
    "\n",
    "**apèl fonksyon:**  \n",
    "Yon ekspresyon -- oswa yon pati nan yon ekspresyon -- ki kouri yon fonksyon. Li konsiste de non fonksyon ki swiv pa yon lis agiman nan parantèz.\n",
    "\n",
    "**erè sentaks:**  \n",
    "Yon erè nan yon pwogram ki fè li enposib pou parse li -- kidonk li enposib pou kouri li.\n",
    "\n",
    "**fisèl:**  \n",
    "Yon kalite ki reprezante sekans karaktè.\n",
    "\n",
    "**konkatenasyon:**  \n",
    "Rantre de fisèl fen-a-fen.\n",
    "\n",
    "**tip:**  \n",
    "Yon kategori valè. Kalite nou te wè yo se nimewo antye (tip `int`), nimewo k ap flote (tip `float`), ak fisèl (tip `str`).\n",
    "\n",
    "**operan:**  \n",
    "Youn nan valè yo ke yon operatè opere sou li.\n",
    "\n",
    "**lang natirèl:**  \n",
    "Nenpòt lang moun pale ki devlope natirèlman.\n",
    "\n",
    "**lang fòmèl:**  \n",
    "Nenpòt lang ke moun yo fè pou rezon espesifik, tankou reprezante lide matematik oswa pwogram òdinatè. Tout langaj pwogramasyon yo se lang fòmèl.\n",
    "\n",
    "**pinèz:**  \n",
    "Yon erè nan yon pwogram.\n",
    "\n",
    "**debogaj:**  \n",
    "Pwosesis pou jwenn ak korije erè yo."
   ]
  },
  {
   "cell_type": "markdown",
   "id": "ed4ec01b",
   "metadata": {},
   "source": [
    "## Egzèsis"
   ]
  },
  {
   "cell_type": "code",
   "execution_count": 8,
   "id": "06d3e72c",
   "metadata": {
    "tags": []
   },
   "outputs": [],
   "source": [
    "# Selil sa a di Jupyter pou bay enfòmasyon detaye sou debogaj lè gen yon erè pandan ekzekisyon. \n",
    "# Kouri li anvan ou travay sou egzèsis yo.\n",
    "\n",
    "%xmode Verbose"
   ]
  },
  {
   "cell_type": "markdown",
   "id": "23adf208",
   "metadata": {},
   "source": [
    "### Mande yon asistan vityèl\n",
    "\n",
    "Kòm ou travay nan liv sa a, gen plizyè fason ou ka itilize yon asistan vityèl oswa chatbot pou ede ou aprann.\n",
    "\n",
    "* Si w vle aprann plis sou yon sijè nan chapit la, oswa nenpòt bagay ki pa klè, ou ka mande pou yon esplikasyon.\n",
    "\n",
    "* Si w gen difikilte ak nenpòt nan egzèsis yo, ou ka mande pou èd.\n",
    "\n",
    "Nan chak chapit, mwen pral sijere egzèsis ou ka fè ak yon asistan vityèl, men mwen ankouraje ou eseye bagay yo pou kont ou epi wè sa ki mache pou ou."
   ]
  },
  {
   "cell_type": "markdown",
   "id": "ebf1a451",
   "metadata": {},
   "source": [
    "Men kèk sijè ou ka mande yon asistan vityèl sou yo:\n",
    "\n",
    "* Pi bonè mwen te mansyone operatè bitwise, men mwen pa t eksplike poukisa valè `7 ^ 2` se 5. Eseye mande \"Ki operatè bitwise yo nan Python?\" oswa \"Ki valè `7 XOR 2`?\"\n",
    "\n",
    "* Mwen te pale de lòd operasyon yo. Pou plis detay, mande \"Ki lòd operasyon yo nan Python?\"\n",
    "\n",
    "* Fonksyon `round`, ke nou itilize pou awondi yon nimewo k ap flote nan nimewo antye ki pi pre, ka pran yon dezyèm agiman. Eseye mande \"Ki agiman fonksyon `round` la genyen?\" oswa \"Kouman pou mwen awondi pi a nan twa desimal?\"\n",
    "\n",
    "* Gen yon sèl operatè aritmetik mwen pa t mansyone; eseye mande \"Ki sa operatè modilè a nan Python?\""
   ]
  },
  {
   "cell_type": "markdown",
   "id": "9be3e1c7",
   "metadata": {},
   "source": [
    "Pifò asistan vityèl konnen sou Python, kidonk yo reponn kesyon sa yo byen. Men, sonje zouti sa yo fè erè. Si ou jwenn kòd nan yon chatbot, teste li!"
   ]
  },
  {
   "cell_type": "markdown",
   "id": "03c1ef93",
   "metadata": {},
   "source": [
    "### Egzèsis\n",
    "\n",
    "Ou ta ka mande tèt ou ki sa `round` fè lè yon nimewo fini ak `0.5`. Repons lan se ke pafwa li awondi moute epi pafwa li awondi desann. Eseye egzanp sa yo epi gade si ou kapab konprann ki règ li swiv.  "
   ]
  },
  {
   "cell_type": "code",
   "execution_count": 3,
   "id": "5d358f37",
   "metadata": {},
   "outputs": [],
   "source": [
    "round(42.5)"
   ]
  },
  {
   "cell_type": "code",
   "execution_count": 4,
   "id": "12aa59a3",
   "metadata": {},
   "outputs": [],
   "source": [
    "round(43.5)"
   ]
  },
  {
   "cell_type": "markdown",
   "id": "dd2f890e",
   "metadata": {},
   "source": [
    "Si w enterese, mande yon asistan vityèl, \"Si yon nimewo fini nan 0.5, èske Python awondi moute oswa desann?\""
   ]
  },
  {
   "cell_type": "markdown",
   "id": "2cd03bcb",
   "metadata": {},
   "source": [
    "### Egzèsis\n",
    "\n",
    "Lè w ap aprann sou yon karakteristik nouvo, ou ta dwe eseye li epi fè erè sou entansyon.  \n",
    "Konsa, ou aprann mesaj erè yo, epi lè ou wè yo ankò, ou pral konnen sa yo vle di.  \n",
    "Li pi bon fè erè kounye a sou entansyon pase pita pa aksidan.\n",
    "\n",
    "1. Ou ka itilize yon siy mwens pou fè yon nimewo negatif tankou `-2`. Kisa k ap pase si ou mete yon siy plis anvan yon nimewo? E kisa ki pase ak `2++2`?\n",
    "\n",
    "2. Kisa k ap pase si ou gen de valè san okenn operatè ant yo, tankou `4 2`?\n",
    "\n",
    "3. Si ou rele yon fonksyon tankou `round(42.5)`, kisa k ap pase si ou pa mete youn oswa tou de parantèz?"
   ]
  },
  {
   "cell_type": "markdown",
   "id": "1fb0adfe",
   "metadata": {},
   "source": [
    "### Egzèsis\n",
    "\n",
    "Sonje ke chak ekspresyon gen yon valè, chak valè gen yon tip, epi nou ka itilize fonksyon `type` pou chèche konnen tip nenpòt valè.\n",
    "\n",
    "Ki tip valè ekspresyon sa yo genyen? Fè pi bon devinaj ou pou chak youn, epi apre sa itilize `type` pou chèche konnen repons lan.\n",
    "\n",
    "* `765`\n",
    "\n",
    "* `2.718`\n",
    "\n",
    "* `'2 pi'`\n",
    "\n",
    "* `abs(-7)`\n",
    "\n",
    "* `abs(-7.0)`\n",
    "\n",
    "* `abs`\n",
    "\n",
    "* `int`\n",
    "\n",
    "* `type`"
   ]
  },
  {
   "cell_type": "markdown",
   "id": "23762eec",
   "metadata": {},
   "source": [
    "### Egzèsis\n",
    "\n",
    "Kesyon ki vin apre yo ap ba ou yon chans pou pratike ekri ekspresyon aritmetik.\n",
    "\n",
    "1. Konbyen segond ki genyen nan 42 minit 42 segond?\n",
    "\n",
    "2. Konbyen milye ki genyen nan 10 kilomèt? Konsèy: Gen 1.61 kilomèt nan yon milye.\n",
    "\n",
    "3. Si ou kouri yon kous 10 kilomèt nan 42 minit 42 segond, ki mwayèn ou nan segond pa milye?\n",
    "\n",
    "4. Ki kote mwayèn ou nan minit ak segond pa milye?\n",
    "\n",
    "5. Ki vitès mwayèn ou nan milye pa èdtan?\n",
    "\n",
    "Si ou deja konnen sou varyab, ou ka itilize yo pou egzèsis sa a. Si ou pa konnen yo, ou ka fè egzèsis la san yo — epi nou pral aprann sou yo nan pwochen chapit la."
   ]
  },
  {
   "cell_type": "code",
   "execution_count": 43,
   "id": "8fb50f30",
   "metadata": {},
   "outputs": [],
   "source": [
    "# Solisyon ale isit la"
   ]
  },
  {
   "cell_type": "code",
   "execution_count": 44,
   "id": "5eceb4fb",
   "metadata": {},
   "outputs": [],
   "source": [
    "# Solisyon ale isit la"
   ]
  },
  {
   "cell_type": "code",
   "execution_count": null,
   "id": "e8e7fe74",
   "metadata": {},
   "outputs": [],
   "source": [
    "# Solisyon ale isit la"
   ]
  },
  {
   "cell_type": "code",
   "execution_count": null,
   "id": "0c7a93e2",
   "metadata": {},
   "outputs": [],
   "source": [
    "# Solisyon ale isit la"
   ]
  },
  {
   "cell_type": "code",
   "execution_count": null,
   "id": "b824c0cd",
   "metadata": {},
   "outputs": [],
   "source": [
    "# Solisyon ale isit la"
   ]
  },
  {
   "cell_type": "code",
   "execution_count": null,
   "id": "d50eec07",
   "metadata": {},
   "outputs": [],
   "source": [
    "# Solisyon ale isit la"
   ]
  },
  {
   "cell_type": "code",
   "execution_count": null,
   "id": "c7931e5a",
   "metadata": {},
   "outputs": [],
   "source": [
    "# Solisyon ale isit la"
   ]
  }
 ],
 "metadata": {
  "celltoolbar": "Tags",
  "kernelspec": {
   "display_name": "Python 3",
   "language": "python",
   "name": "python3"
  },
  "language_info": {
   "codemirror_mode": {
    "name": "ipython",
    "version": 3
   },
   "file_extension": ".py",
   "mimetype": "text/x-python",
   "name": "python",
   "nbconvert_exporter": "python",
   "pygments_lexer": "ipython3",
   "version": "3.10.4"
  }
 },
 "nbformat": 4,
 "nbformat_minor": 5
}
