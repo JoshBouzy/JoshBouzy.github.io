{
 "cells": [
  {
   "cell_type": "markdown",
   "id": "3259334a",
   "metadata": {},
   "source": [
    "Ou ka kòmande vèsyon enprime ak ebook pou *Think Python 3e* soti nan\n",
    "[Bookshop.org](https://bookshop.org/a/98697/9781098155438) ak\n",
    "[Amazon](https://www.amazon.com/_/dp/1098155432?smid=ATVPDKIKX0DER&_encoding=UTF8&tag=oreilly20-20&_encoding=UTF8&tag=greenteapre01-20&linkCode=ur2&linkId=e2a529f94920295d27ec8a06e757dc7c&camp=1789&creative=9325)."
   ]
  },
  {
   "cell_type": "code",
   "execution_count": null,
   "id": "05aebc11",
   "metadata": {
    "lines_to_next_cell": 1
   },
   "outputs": [],
   "source": [
    "from os.path import basename, exists\n",
    "\n",
    "def download(url):\n",
    "    filename = basename(url)\n",
    "    if not exists(filename):\n",
    "        from urllib.request import urlretrieve\n",
    "\n",
    "        local, _ = urlretrieve(url, filename)\n",
    "        print(\"Telechaje \" + str(local))\n",
    "    return filename\n",
    "\n",
    "download('https://github.com/AllenDowney/ThinkPython/raw/v3/thinkpython.py');\n",
    "download('https://github.com/AllenDowney/ThinkPython/raw/v3/diagram.py');\n",
    "\n",
    "import thinkpython"
   ]
  },
  {
   "cell_type": "markdown",
   "id": "8c617587",
   "metadata": {},
   "source": [
    "# Klas ak Metòd\n",
    "\n",
    "Python se yon **langaj oryante-objè** — sa vle di li bay karakteristik ki sipòte pwogramasyon oryante-objè, ki gen karakteristik sa yo:\n",
    "\n",
    "-   Pifò kalkil yo eksprime an tèm de operasyon sou objè.\n",
    "\n",
    "-   Objè souvan reprezante bagay ki egziste nan mond reyèl, epi metòd souvan koresponn ak fason bagay sa yo interaji nan mond reyèl.\n",
    "\n",
    "-   Pwogram yo gen definisyon klas ak metòd.\n",
    "\n",
    "Pa egzanp, nan chapit anvan an nou te defini yon klas `Time` ki koresponn ak fason moun note lè jounen an, epi nou te defini fonksyon ki koresponn ak kalite bagay moun fè ak lè.\n",
    "Men pa te gen okenn koneksyon eksplisit ant definisyon klas `Time` la ak definisyon fonksyon ki te swiv.\n",
    "Nou ka fè koneksyon an ekspilis lè nou reskri yon fonksyon kòm yon **metòd**, ki defini anndan definisyon yon klas."
   ]
  },
  {
   "cell_type": "markdown",
   "id": "88b71b75",
   "metadata": {},
   "source": [
    "## Defini metòd\n",
    "\n",
    "Nan chapit anvan an nou te defini yon klas `Time` ak yon fonksyon `print_time` ki montre lè jounen an."
   ]
  },
  {
   "cell_type": "code",
   "execution_count": null,
   "id": "319f3123",
   "metadata": {
    "lines_to_next_cell": 1
   },
   "outputs": [],
   "source": [
    "class Time:\n",
    "    \"\"\"Reprezante lè jounen.\"\"\"\n",
    "\n",
    "def print_time(time):\n",
    "    s = f'{time.hour:02d}:{time.minute:02d}:{time.second:02d}'\n",
    "    print(s)"
   ]
  },
  {
   "cell_type": "markdown",
   "id": "70c96ad9",
   "metadata": {},
   "source": [
    "Pou fè `print_time` tounen yon metòd, tout sa nou bezwen fè se deplase definisyon fonksyon an anndan definisyon klas la. Remake chanjman an nan andantasyon.\n",
    "\n",
    "An menm tan, nou pral chanje non paramèt la soti nan `time` pou `self`.\n",
    "Chanjman sa a pa nesesè, men li se yon konvansyon pou premye paramèt yon metòd rele `self`."
   ]
  },
  {
   "cell_type": "code",
   "execution_count": null,
   "id": "337f1e46",
   "metadata": {
    "lines_to_next_cell": 1
   },
   "outputs": [],
   "source": [
    "class Time:\n",
    "    \"\"\"Reprezante lè jounen.\"\"\"    \n",
    "\n",
    "    def print_time(self):\n",
    "        s = f'{self.hour:02d}:{self.minute:02d}:{self.second:02d}'\n",
    "        print(s)"
   ]
  },
  {
   "cell_type": "markdown",
   "id": "be02ed4d",
   "metadata": {},
   "source": [
    "Pou rele metòd sa a, ou dwe pase yon objè `Time` kòm agiman.\n",
    "Men fonksyon nou pral itilize pou fè yon objè `Time`."
   ]
  },
  {
   "cell_type": "code",
   "execution_count": null,
   "id": "006c6adc",
   "metadata": {
    "lines_to_next_cell": 1
   },
   "outputs": [],
   "source": [
    "def make_time(hour, minute, second):\n",
    "    time = Time()\n",
    "    time.hour = hour\n",
    "    time.minute = minute\n",
    "    time.second = second\n",
    "    return time"
   ]
  },
  {
   "cell_type": "markdown",
   "id": "7e31cb01",
   "metadata": {},
   "source": [
    "Men yon instans `Time`."
   ]
  },
  {
   "cell_type": "code",
   "execution_count": null,
   "id": "0a6424b9",
   "metadata": {},
   "outputs": [],
   "source": [
    "start = make_time(9, 40, 0)"
   ]
  },
  {
   "cell_type": "markdown",
   "id": "331a351c",
   "metadata": {},
   "source": [
    "Kounye a gen de fason pou rele `print_time`. Premye (e mwens komen)\n",
    "fason an se itilize sentaks fonksyon:"
   ]
  },
  {
   "cell_type": "code",
   "execution_count": null,
   "id": "ca028398",
   "metadata": {},
   "outputs": [],
   "source": [
    "Time.print_time(start)"
   ]
  },
  {
   "cell_type": "markdown",
   "id": "ae9fdbd1",
   "metadata": {},
   "source": [
    "Nan vèsyon sa a, `Time` se non klas la, `print_time` se non metòd la, epi `start` pase kòm paramèt.\n",
    "Dezyèm (e pi idiomatik) fason an se itilize sentaks metòd:"
   ]
  },
  {
   "cell_type": "code",
   "execution_count": null,
   "id": "3628a21a",
   "metadata": {
    "lines_to_next_cell": 1
   },
   "outputs": [],
   "source": [
    "start.print_time()"
   ]
  },
  {
   "cell_type": "markdown",
   "id": "c819824c",
   "metadata": {},
   "source": [
    "Nan vèsyon sa a, `start` se objè metòd la envoke sou li, ki rele **receiver**, baze sou analogi ke envoke yon metòd se tankou voye yon mesaj bay yon objè.\n",
    "\n",
    "Kèlkeswa sentaks la, konpòtman metòd la menm.\n",
    "Receiver a asiyen a premye paramèt la, donk anndan metòd la, `self` refere ak menm objè ak `start`."
   ]
  },
  {
   "cell_type": "markdown",
   "id": "14694a3e",
   "metadata": {},
   "source": [
    "## Yon lòt metòd\n",
    "\n",
    "Men fonksyon `time_to_int` soti nan chapit anvan an."
   ]
  },
  {
   "cell_type": "code",
   "execution_count": null,
   "id": "7aa47b03",
   "metadata": {
    "lines_to_next_cell": 1
   },
   "outputs": [],
   "source": [
    "def time_to_int(time):\n",
    "    minutes = time.hour * 60 + time.minute\n",
    "    seconds = minutes * 60 + time.second\n",
    "    return seconds"
   ]
  },
  {
   "cell_type": "markdown",
   "id": "a61f88d4",
   "metadata": {},
   "source": [
    "Men yon vèsyon nou reskri kòm metòd."
   ]
  },
  {
   "cell_type": "code",
   "execution_count": null,
   "id": "ae0ebd2e",
   "metadata": {},
   "outputs": [],
   "source": [
    "%%add_method_to Time\n",
    "\n",
    "    def time_to_int(self):\n",
    "        minutes = self.hour * 60 + self.minute\n",
    "        seconds = minutes * 60 + self.second\n",
    "        return seconds"
   ]
  },
  {
   "cell_type": "markdown",
   "id": "17a8f686",
   "metadata": {},
   "source": [
    "Premye liy la itilize kòmand espesyal `add_method_to`, ki ajoute yon metòd nan yon klas ki te defini anvan.\n",
    "Kòmand sa a mache nan Jupyter notebook, men li pa pati Python, donk li pa ap mache nan lòt anviwònman.\n",
    "Normally, tout metòd klas la se anndan definisyon klas la, donk yo defini an menm tan ak klas la.\n",
    "Men pou liv sa a, li itil pou defini yon metòd a la fwa.\n",
    "\n",
    "Menm jan ak egzanp anvan an, definisyon metòd la andente, epi non paramèt la se `self`.\n",
    "Apa de sa, metòd la idantik ak fonksyon an.\n",
    "Men kijan nou envoke l."
   ]
  },
  {
   "cell_type": "code",
   "execution_count": null,
   "id": "e7bc2598",
   "metadata": {
    "lines_to_next_cell": 1
   },
   "outputs": [],
   "source": [
    "start.time_to_int()"
   ]
  },
  {
   "cell_type": "markdown",
   "id": "f0f0fd6a",
   "metadata": {},
   "source": [
    "Li komen pou di nou \"rele\" yon fonksyon epi \"envoke\" yon metòd, men sa vle di menm bagay."
   ]
  },
  {
   "cell_type": "markdown",
   "id": "f0a96383",
   "metadata": {},
   "source": [
    "## Metòd statik\n",
    "\n",
    "Kòm yon lòt egzanp, ann konsidere fonksyon `int_to_time` la.\n",
    "Men vèsyon chapit anvan an."
   ]
  },
  {
   "cell_type": "code",
   "execution_count": null,
   "id": "d7bada17",
   "metadata": {
    "lines_to_next_cell": 1
   },
   "outputs": [],
   "source": [
    "def int_to_time(seconds):\n",
    "    minute, second = divmod(seconds, 60)\n",
    "    hour, minute = divmod(minute, 60)\n",
    "    return make_time(hour, minute, second)"
   ]
  },
  {
   "cell_type": "markdown",
   "id": "4515cd6a",
   "metadata": {},
   "source": [
    "Fonksyon sa a pran `seconds` kòm paramèt epi retounen yon nouvo objè `Time`.\n",
    "Si nou transfòme li an metòd klas `Time` la, nou dwe envoke li sou yon objè `Time`.\n",
    "Men si nou ap eseye kreye yon nouvo objè `Time`, sou ki objè nou sipoze envoke l?\n",
    "\n",
    "Nou ka rezoud pwoblèm \"chicken-and-egg\" sa a ak yon **metòd statik**, ki se yon metòd ki pa bezwen yon instans klas pou envoke.\n",
    "Men kijan nou reskri fonksyon sa a kòm metòd statik."
   ]
  },
  {
   "cell_type": "code",
   "execution_count": null,
   "id": "4429d29e",
   "metadata": {},
   "outputs": [],
   "source": [
    "%%add_method_to Time\n",
    "\n",
    "    def int_to_time(seconds):\n",
    "        minute, second = divmod(seconds, 60)\n",
    "        hour, minute = divmod(minute, 60)\n",
    "        return make_time(hour, minute, second)"
   ]
  },
  {
   "cell_type": "markdown",
   "id": "89ce517b",
   "metadata": {},
   "source": [
    "Paske se yon metòd statik, li pa gen `self` kòm paramèt.\n",
    "Pou envoke li, nou itilize `Time`, ki se objè klas la."
   ]
  },
  {
   "cell_type": "code",
   "execution_count": null,
   "id": "ef8615d5",
   "metadata": {},
   "outputs": [],
   "source": [
    "start = Time.int_to_time(34800)"
   ]
  },
  {
   "cell_type": "markdown",
   "id": "1794b001",
   "metadata": {},
   "source": [
    "Rezilta a se yon nouvo objè ki reprezante 9:40."
   ]
  },
  {
   "cell_type": "code",
   "execution_count": null,
   "id": "67b2565b",
   "metadata": {
    "lines_to_next_cell": 1
   },
   "outputs": [],
   "source": [
    "start.print_time()"
   ]
  },
  {
   "cell_type": "markdown",
   "id": "93fa932b",
   "metadata": {},
   "source": [
    "Kounye a ke nou gen `Time.int_to_time`, nou ka itilize li pou ekri `add_time` kòm metòd.\n",
    "Men fonksyon an soti nan chapit anvan an."
   ]
  },
  {
   "cell_type": "code",
   "execution_count": null,
   "id": "e63c125a",
   "metadata": {
    "lines_to_next_cell": 1
   },
   "outputs": [],
   "source": [
    "def add_time(time, hours, minutes, seconds):\n",
    "    duration = make_time(hours, minutes, seconds)\n",
    "    seconds = time_to_int(time) + time_to_int(duration)\n",
    "    return int_to_time(seconds)"
   ]
  },
  {
   "cell_type": "markdown",
   "id": "116b4e35",
   "metadata": {},
   "source": [
    "Men yon vèsyon reskri kòm metòd."
   ]
  },
  {
   "cell_type": "code",
   "execution_count": null,
   "id": "a5b90f76",
   "metadata": {},
   "outputs": [],
   "source": [
    "%%add_method_to Time\n",
    "\n",
    "    def add_time(self, hours, minutes, seconds):\n",
    "        duration = make_time(hours, minutes, seconds)\n",
    "        seconds = time_to_int(self) + time_to_int(duration)\n",
    "        return Time.int_to_time(seconds)"
   ]
  },
  {
   "cell_type": "markdown",
   "id": "0c7c4329",
   "metadata": {},
   "source": [
    "`add_time` gen `self` kòm paramèt paske li pa yon metòd statik.\n",
    "Se yon metòd òdinè — rele tou **metòd instans**.\n",
    "Pou envoke li, nou bezwen yon instans `Time`."
   ]
  },
  {
   "cell_type": "code",
   "execution_count": null,
   "id": "9f1c97ff",
   "metadata": {
    "lines_to_next_cell": 1
   },
   "outputs": [],
   "source": [
    "end = start.add_time(1, 32, 0)\n",
    "print_time(end)"
   ]
  },
  {
   "cell_type": "markdown",
   "id": "314b7d59",
   "metadata": {},
   "source": [
    "## Konpare objè Time\n",
    "\n",
    "Kòm yon lòt egzanp, ann ekri `is_after` kòm metòd.\n",
    "Men fonksyon `is_after` la, ki se yon solisyon pou yon egzèsis chapit anvan an."
   ]
  },
  {
   "cell_type": "code",
   "execution_count": null,
   "id": "3d7fb442",
   "metadata": {
    "lines_to_next_cell": 1
   },
   "outputs": [],
   "source": [
    "def is_after(t1, t2):\n",
    "    return time_to_int(t1) > time_to_int(t2)"
   ]
  },
  {
   "cell_type": "markdown",
   "id": "7f9d0821",
   "metadata": {},
   "source": [
    "Men li kòm metòd."
   ]
  },
  {
   "cell_type": "code",
   "execution_count": null,
   "id": "1c0ae407",
   "metadata": {},
   "outputs": [],
   "source": [
    "%%add_method_to Time\n",
    "\n",
    "    def is_after(self, other):\n",
    "        return self.time_to_int() > other.time_to_int()"
   ]
  },
  {
   "cell_type": "markdown",
   "id": "3ebf880d",
   "metadata": {},
   "source": [
    "Paske nou ap konpare de objè, epi premye paramèt la se `self`, nou pral rele dezyèm paramèt la `other`.\n",
    "Pou itilize metòd sa a, nou dwe envoke li sou yon objè epi pase lòt la kòm agiman."
   ]
  },
  {
   "cell_type": "code",
   "execution_count": null,
   "id": "60c2488e",
   "metadata": {},
   "outputs": [],
   "source": [
    "end.is_after(start)"
   ]
  },
  {
   "cell_type": "markdown",
   "id": "c00aab02",
   "metadata": {},
   "source": [
    "Youn bel bagay ak sentaks sa a se ke li prèske li tankou yon kesyon:\n",
    "\"`end` is after `start`?\""
   ]
  },
  {
   "cell_type": "markdown",
   "id": "2003d3d4",
   "metadata": {},
   "source": [
    "## Metòd `__str__`\n",
    "\n",
    "Lè ou ekri yon metòd, ou ka chwazi preske nenpòt non ou vle.\n",
    "Sepandan, gen kèk non ki gen sans espesyal.\n",
    "Pa egzanp, si yon objè gen yon metòd ki rele `__str__`, Python itilize metòd sa a pou konvèti objè a an chèn.\n",
    "Pa egzanp, men yon metòd `__str__` pou yon objè time."
   ]
  },
  {
   "cell_type": "code",
   "execution_count": null,
   "id": "7bde550a",
   "metadata": {},
   "outputs": [],
   "source": [
    "%%add_method_to Time\n",
    "\n",
    "    def __str__(self):\n",
    "        s = f'{self.hour:02d}:{self.minute:02d}:{self.second:02d}'\n",
    "        return s"
   ]
  },
  {
   "cell_type": "markdown",
   "id": "76fb6252",
   "metadata": {},
   "source": [
    "Metòd sa a sanble ak `print_time` soti nan chapit anvan an, eksepte li retounen chèn lan olye li enprime li.\n",
    "\n",
    "Ou ka envoke metòd sa a de fason nòmal."
   ]
  },
  {
   "cell_type": "code",
   "execution_count": null,
   "id": "898dd90e",
   "metadata": {},
   "outputs": [],
   "source": [
    "end.__str__()"
   ]
  },
  {
   "cell_type": "markdown",
   "id": "6b32deb0",
   "metadata": {},
   "source": [
    "Men Python ka envoke li pou ou.\n",
    "Si ou itilize fonksyon bati-an `str` pou konvèti yon objè `Time` an chèn, Python itilize metòd `__str__` nan klas `Time` la."
   ]
  },
  {
   "cell_type": "code",
   "execution_count": null,
   "id": "e6f544f3",
   "metadata": {},
   "outputs": [],
   "source": [
    "str(end)"
   ]
  },
  {
   "cell_type": "markdown",
   "id": "e35de492",
   "metadata": {},
   "source": [
    "E li fè menm bagay la si ou enprime yon objè `Time`."
   ]
  },
  {
   "cell_type": "code",
   "execution_count": null,
   "id": "ba1cf270",
   "metadata": {},
   "outputs": [],
   "source": [
    "print(end)"
   ]
  },
  {
   "cell_type": "markdown",
   "id": "259b4962",
   "metadata": {},
   "source": [
    "Metòd tankou `__str__` rele **metòd espesyal**.\n",
    "Ou ka idantifye yo paske non yo kòmanse ak de tirè ba e fini ak de tirè ba."
   ]
  },
  {
   "cell_type": "markdown",
   "id": "bb5ca829",
   "metadata": {},
   "source": [
    "## Metòd __init__\n",
    "\n",
    "Metòd ki pi espesyal metòd espesyal yo se `__init__`, yo rele l konsa paske li inisyalize atribut yon nouvo objè.\n",
    "Yon metòd `__init__` pou klas `Time` la ka sanble konsa:"
   ]
  },
  {
   "cell_type": "code",
   "execution_count": null,
   "id": "b817be5e",
   "metadata": {},
   "outputs": [],
   "source": [
    "%%add_method_to Time\n",
    "\n",
    "    def __init__(self, hour=0, minute=0, second=0):\n",
    "        self.hour = hour\n",
    "        self.minute = minute\n",
    "        self.second = second"
   ]
  },
  {
   "cell_type": "markdown",
   "id": "61811c52",
   "metadata": {},
   "source": [
    "Kounye a lè nou instansye yon objè `Time`, Python envoke `__init__` epi pase li agiman yo.\n",
    "Konsa nou ka kreye yon objè epi inisyalize atribut yo an menm tan."
   ]
  },
  {
   "cell_type": "code",
   "execution_count": null,
   "id": "c6c2262d",
   "metadata": {},
   "outputs": [],
   "source": [
    "time = Time(9, 40, 0)\n",
    "print(time)"
   ]
  },
  {
   "cell_type": "markdown",
   "id": "d43ece8e",
   "metadata": {},
   "source": [
    "Nan egzanp sa a, paramèt yo se opsyonèl, donk si ou rele `Time` san agiman, ou jwenn valè defo yo."
   ]
  },
  {
   "cell_type": "code",
   "execution_count": null,
   "id": "556a1ed8",
   "metadata": {},
   "outputs": [],
   "source": [
    "time = Time()\n",
    "print(time)"
   ]
  },
  {
   "cell_type": "markdown",
   "id": "10978214",
   "metadata": {},
   "source": [
    "Si ou bay youn agiman, li ranplase `hour`:"
   ]
  },
  {
   "cell_type": "code",
   "execution_count": null,
   "id": "e3b9aac7",
   "metadata": {},
   "outputs": [],
   "source": [
    "time = Time(9)\n",
    "print(time)"
   ]
  },
  {
   "cell_type": "markdown",
   "id": "5e3783f2",
   "metadata": {},
   "source": [
    "Si ou bay de agiman, yo ranplase `hour` ak `minute`."
   ]
  },
  {
   "cell_type": "code",
   "execution_count": null,
   "id": "09b7dd1e",
   "metadata": {},
   "outputs": [],
   "source": [
    "time = Time(9, 45)\n",
    "print(time)"
   ]
  },
  {
   "cell_type": "markdown",
   "id": "606dd075",
   "metadata": {},
   "source": [
    "E si ou bay twa agiman, yo ranplase tout twa valè defo yo.\n",
    "\n",
    "Lè m ekri yon nouvo klas, mwen prèske toujou kòmanse pa ekri `__init__`, ki fè li pi fasil pou kreye objè, ak `__str__`, ki itil pou débogaj."
   ]
  },
  {
   "cell_type": "markdown",
   "id": "cacf417a",
   "metadata": {},
   "source": [
    "## Chaje operatè (Operator overloading)\n",
    "\n",
    "Lè ou defini lòt metòd espesyal, ou ka presize konpòtman operatè sou tip defini pa pwogramè.\n",
    "Pa egzanp, si ou defini yon metòd ki rele `__add__` pou klas `Time` la, ou ka itilize operatè `+` sou objè Time.\n",
    "\n",
    "Men yon metòd `__add__`."
   ]
  },
  {
   "cell_type": "code",
   "execution_count": null,
   "id": "d8a51358",
   "metadata": {},
   "outputs": [],
   "source": [
    "%%add_method_to Time\n",
    "\n",
    "    def __add__(self, other):\n",
    "        seconds = self.time_to_int() + other.time_to_int()\n",
    "        return Time.int_to_time(seconds)"
   ]
  },
  {
   "cell_type": "markdown",
   "id": "cf1b803e",
   "metadata": {},
   "source": [
    "Nou ka itilize l konsa."
   ]
  },
  {
   "cell_type": "code",
   "execution_count": null,
   "id": "6a11dbae",
   "metadata": {},
   "outputs": [],
   "source": [
    "duration = Time(1, 32)\n",
    "end = start + duration\n",
    "print(end)"
   ]
  },
  {
   "cell_type": "markdown",
   "id": "90573c9a",
   "metadata": {},
   "source": [
    "Gen anpil bagay k ap pase lè nou kouri twa liy kod sa yo:\n",
    "\n",
    "* Lè nou instansye yon objè `Time`, metòd `__init__` la envoke.\n",
    "\n",
    "* Lè nou itilize operatè `+` ak yon objè `Time`, metòd `__add__` li envoke.\n",
    "\n",
    "* E lè nou enprime yon objè `Time`, metòd `__str__` li envoke.\n",
    "\n",
    "Chanje konpòtman yon operatè pou li mache ak tip defini pa pwogramè rele **operator overloading**.\n",
    "Pou chak operatè, tankou `+`, gen yon metòd espesyal korespondan, tankou `__add__`."
   ]
  },
  {
   "cell_type": "markdown",
   "id": "3648634b",
   "metadata": {},
   "source": [
    "## Débogaj\n",
    "\n",
    "Yon objè `Time` valab si valè `minute` ak `second` se ant `0` ak `60` — enkli `0` men pa `60` — epi si `hour` pozitif.\n",
    "Epitou, `hour` ak `minute` ta dwe valè antye, men nou ka pèmèt `second` gen yon pati fraksyon.\n",
    "Kondisyon konsa rele **invariant** paske yo ta dwe toujou vre.\n",
    "Dit an lòt fason, si yo pa vre, gen yon pwoblèm.\n",
    "\n",
    "Ekri kod pou tcheke invariant ka ede detekte erè epi jwenn kòz yo.\n",
    "Pa egzanp, ou ta ka gen yon metòd `is_valid` ki pran yon objè Time epi retounen `False` si li vyole yon invariant."
   ]
  },
  {
   "cell_type": "code",
   "execution_count": null,
   "id": "efcc266f",
   "metadata": {},
   "outputs": [],
   "source": [
    "%%add_method_to Time\n",
    "\n",
    "    def is_valid(self):\n",
    "        if self.hour < 0 or self.minute < 0 or self.second < 0:\n",
    "            return False\n",
    "        if self.minute >= 60 or self.second >= 60:\n",
    "            return False\n",
    "        if not isinstance(self.hour, int):\n",
    "            return False\n",
    "        if not isinstance(self.minute, int):\n",
    "            return False\n",
    "        return True"
   ]
  },
  {
   "cell_type": "markdown",
   "id": "9f025b98",
   "metadata": {},
   "source": [
    "Apre sa, an kòmansman chak metòd ou ka tcheke agiman yo pou asire yo valab."
   ]
  },
  {
   "cell_type": "code",
   "execution_count": null,
   "id": "311423c9",
   "metadata": {},
   "outputs": [],
   "source": [
    "%%add_method_to Time\n",
    "\n",
    "    def is_after(self, other):\n",
    "        assert self.is_valid(), 'self is not a valid Time'\n",
    "        assert other.is_valid(), 'other is not a valid Time'\n",
    "        return self.time_to_int() > other.time_to_int()"
   ]
  },
  {
   "cell_type": "markdown",
   "id": "fed6964d",
   "metadata": {},
   "source": [
    "Enstriksyon `assert` evalye ekspresyon ki vini apre li.\n",
    "Si rezilta a se `True`, li pa fè anyen; si rezilta a se `False`, li lakòz yon `AssertionError`.\n",
    "Men yon egzanp."
   ]
  },
  {
   "cell_type": "code",
   "execution_count": null,
   "id": "96572ed1",
   "metadata": {},
   "outputs": [],
   "source": [
    "duration = Time(minute=132)\n",
    "print(duration)"
   ]
  },
  {
   "cell_type": "code",
   "execution_count": null,
   "id": "1ddafcda",
   "metadata": {},
   "outputs": [],
   "source": [
    "%%expect AssertionError\n",
    "\n",
    "start.is_after(duration)"
   ]
  },
  {
   "cell_type": "markdown",
   "id": "581c1a14",
   "metadata": {},
   "source": [
    "Enstriksyon `assert` itil paske yo separe kod ki jere kondisyon nòmal ak kod ki tcheke erè."
   ]
  },
  {
   "cell_type": "markdown",
   "id": "2f085bde",
   "metadata": {},
   "source": [
    "## Glosè\n",
    "\n",
    "**langaj oryante-objè:**\n",
    "Yon langaj ki bay karakteristik pou sipòte pwogramasyon oryante-objè, sitou tip defini pa itilizatè.\n",
    "\n",
    "**metòd:**\n",
    "Yon fonksyon ki defini anndan yon definisyon klas epi envoke sou instans klas sa a.\n",
    "\n",
    "**receiver:**\n",
    "Objè metòd la envoke sou li.\n",
    "\n",
    "**metòd statik:**\n",
    "Yon metòd ki ka envoke san objè receiver.\n",
    "\n",
    "**metòd instans:**\n",
    "Yon metòd ki dwe envoke ak yon objè receiver.\n",
    "\n",
    "**metòd espesyal:**\n",
    "Yon metòd ki chanje fason operatè ak kèk fonksyon mache ak yon objè.\n",
    "\n",
    "**operator overloading:**\n",
    "Pwosesis pou itilize metòd espesyal pou chanje fason operatè mache ak tip defini pa itilizatè.\n",
    "\n",
    "**invariant:**\n",
    " Yon kondisyon ki ta dwe toujou vre pandan execisyon yon pwogram."
   ]
  },
  {
   "cell_type": "markdown",
   "id": "43054ed6",
   "metadata": {},
   "source": [
    "## Egzèsis"
   ]
  },
  {
   "cell_type": "code",
   "execution_count": null,
   "id": "82acb0d6",
   "metadata": {
    "lines_to_next_cell": 1
   },
   "outputs": [],
   "source": [
    "# Liy sa a di Jupyter pou bay enfòmasyon detaye sou erè execisyon\n",
    "# lè erè rive. Kouri li anvan ou travay sou egzèsis yo.\n",
    "\n",
    "%xmode Verbose"
   ]
  },
  {
   "cell_type": "markdown",
   "id": "123918f6",
   "metadata": {},
   "source": [
    "### Mande yon asistan vityèl\n",
    "\n",
    "Pou plis enfòmasyon sou metòd statik, mande yon asistan vityèl:\n",
    "\n",
    "* \"Ki diferans ki genyen ant yon metòd instans ak yon metòd statik?\"\n",
    "\n",
    "* \"Poukisa yo rele metòd statik statik?\"\n",
    "\n",
    "Si ou mande yon asistan vityèl pou pwodui yon metòd statik, rezilta a pral pwobableman kòmanse ak `@staticmethod`, ki se yon \"decorator\" ki endike se yon metòd statik.\n",
    "Nou pa kouvri \"decorators\" nan liv sa a, men si ou curye, ou ka mande VA plis enfòmasyon.\n",
    "\n",
    "Nan chapit sa a nou reskri plizyè fonksyon kòm metòd.\n",
    "Asistan vityèl yo jeneralman bon pou kalite transfòmasyon kod sa yo.\n",
    "Pa egzanp, kopye fonksyon sa a anba, epi mande VA, \"Reskri fonksyon sa a kòm metòd klas `Time` la.\""
   ]
  },
  {
   "cell_type": "code",
   "execution_count": null,
   "id": "00f31f8a",
   "metadata": {
    "lines_to_next_cell": 1
   },
   "outputs": [],
   "source": [
    "def subtract_time(t1, t2):\n",
    "    return time_to_int(t1) - time_to_int(t2)"
   ]
  },
  {
   "cell_type": "markdown",
   "id": "67111454",
   "metadata": {},
   "source": [
    "### Egzèsis\n",
    "\n",
    "Nan chapit anvan an, gen yon seri egzèsis ki te mande ou ekri yon klas `Date` epi plizyè fonksyon ki travay ak objè `Date`.\n",
    "Kounye a ann pratike reskri fonksyon sa yo kòm metòd.\n",
    "\n",
    "1. Ekri yon definisyon pou yon klas `Date` ki reprezante yon dat — sa vle di, yon ane, mwa, ak jou.\n",
    "\n",
    "2. Ekri yon metòd `__init__` ki pran `year`, `month`, ak `day` kòm paramèt epi asiyen paramèt yo a atribut. Kreye yon objè ki reprezante 22 jen 1933.\n",
    "\n",
    "3. Ekri yon metòd `__str__` ki itilize yon f-string pou fòmate atribut yo epi retounen rezilta a. Si ou teste li ak `Date` ou te kreye a, rezilta a ta dwe `1933-06-22`.\n",
    "\n",
    "4. Ekri yon metòd ki rele `is_after` ki pran de objè `Date` epi retounen `True` si premye a vini apre dezyèm lan. Kreye yon dezyèm objè ki reprezante 17 septanm 1933, epi tcheke si li vini apre premye objè a.\n",
    "\n",
    "Konsèy: Ou ka twouve li itil pou ekri yon metòd ki rele `to_tuple` ki retounen yon tuple ki gen atribut yo an lòd ane-mwa-jou."
   ]
  },
  {
   "cell_type": "code",
   "execution_count": null,
   "id": "3116dd27",
   "metadata": {},
   "outputs": [],
   "source": [
    "# Solisyon an antre la"
   ]
  },
  {
   "cell_type": "markdown",
   "id": "b41825ae",
   "metadata": {},
   "source": [
    "Ou ka itilize egzanp sa yo pou teste solisyon ou."
   ]
  },
  {
   "cell_type": "code",
   "execution_count": null,
   "id": "3c19fd15",
   "metadata": {},
   "outputs": [],
   "source": [
    "birthday1 = Date(1933, 6, 22)\n",
    "print(birthday1)"
   ]
  },
  {
   "cell_type": "code",
   "execution_count": null,
   "id": "1328185a",
   "metadata": {},
   "outputs": [],
   "source": [
    "birthday2 = Date(1933, 9, 17)\n",
    "print(birthday2)"
   ]
  },
  {
   "cell_type": "code",
   "execution_count": null,
   "id": "fd07d32c",
   "metadata": {},
   "outputs": [],
   "source": [
    "birthday1.is_after(birthday2)  # ta dwe False"
   ]
  },
  {
   "cell_type": "code",
   "execution_count": null,
   "id": "e26c6891",
   "metadata": {},
   "outputs": [],
   "source": [
    "birthday2.is_after(birthday1)  # ta dwe True"
   ]
  },
  {
   "cell_type": "code",
   "execution_count": null,
   "id": "f1e6ac42",
   "metadata": {},
   "outputs": [],
   "source": []
  }
 ],
 "metadata": {
  "jupytext": {
   "cell_metadata_filter": "-all",
   "main_language": "python",
   "notebook_metadata_filter": "-all"
  },
  "language_info": {
   "name": "python"
  }
 },
 "nbformat": 4,
 "nbformat_minor": 5
}
