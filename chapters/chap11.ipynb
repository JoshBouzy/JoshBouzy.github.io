{
 "cells": [
  {
   "cell_type": "markdown",
   "id": "797f1ec3",
   "metadata": {},
   "source": [
    "Ou ka kòmande vèsyon enprime ak liv elektwonik *Think Python 3e* soti nan\n",
    "[Bookshop.org](https://bookshop.org/a/98697/9781098155438) ak\n",
    "[Amazon](https://www.amazon.com/_/dp/1098155432?smid=ATVPDKIKX0DER&_encoding=UTF8&tag=oreilly20-20&_encoding=UTF8&tag=greenteapre01-20&linkCode=ur2&linkId=e2a529f94920295d27ec8a06e757dc7c&camp=1789&creative=9325)."
   ]
  },
  {
   "cell_type": "code",
   "execution_count": null,
   "id": "2733dd8f",
   "metadata": {},
   "outputs": [],
   "source": [
    "from os.path import basename, exists\n",
    "\n",
    "def download(url):\n",
    "    filename = basename(url)\n",
    "    if not exists(filename):\n",
    "        from urllib.request import urlretrieve\n",
    "\n",
    "        local, _ = urlretrieve(url, filename)\n",
    "        print(\"Downloaded \" + str(local))\n",
    "    return filename\n",
    "\n",
    "download('https://github.com/AllenDowney/ThinkPython/raw/v3/thinkpython.py');\n",
    "download('https://github.com/AllenDowney/ThinkPython/raw/v3/diagram.py');\n",
    "\n",
    "import thinkpython"
   ]
  },
  {
   "cell_type": "markdown",
   "id": "3aa8207d",
   "metadata": {},
   "source": [
    "# Tuples (tipl)\n",
    "\n",
    "Chapit sa a prezante yon lòt tip bati-an, tuple, epi li montre ki jan lis, diksyonè, ak tuple travay ansanm.\n",
    "Li prezante tou asignasyon tuple ak yon karakteristik itil pou fonksyon ak lis agiman longè varyab: operatè \"pakete\" ak \"depake\".\n",
    "\n",
    "Nan egzèsis yo, nou pral itilize tuple, ansanm ak lis ak diksyonè, pou rezoud plis devinèt mo epi aplike algoritm efikas.\n",
    "\n",
    "Remak: Gen de fason pou pwononse \"tuple\".\n",
    "Gen moun ki di \"tuh-ple\" (rime ak \"supple\").\n",
    "Men nan kontèks pwogramasyon, pi fò moun di \"too-ple\" (rime ak \"quadruple\")."
   ]
  },
  {
   "cell_type": "markdown",
   "id": "ce135d48",
   "metadata": {},
   "source": [
    "## Tuples sanble ak lis\n",
    "\n",
    "Yon tuple se yon sekans valè. Valè yo ka nenpòt tip, epi yo indekse pa antye, kidonk tuples sanble anpil ak lis.\n",
    "Diferans enpòtan an se ke tuples yo imutabl.\n",
    "\n",
    "Pou kreye yon tuple, ou ka ekri yon lis valè separe pa vigil."
   ]
  },
  {
   "cell_type": "code",
   "execution_count": null,
   "id": "3dde598d",
   "metadata": {},
   "outputs": [],
   "source": [
    "t = 'l', 'u', 'p', 'i', 'n'\n",
    "type(t)"
   ]
  },
  {
   "cell_type": "markdown",
   "id": "56c49b34",
   "metadata": {},
   "source": [
    "Menmsi sa pa nesesè, li komen pou mete tuple yo an parantèz."
   ]
  },
  {
   "cell_type": "code",
   "execution_count": null,
   "id": "622c758f",
   "metadata": {},
   "outputs": [],
   "source": [
    "t = ('l', 'u', 'p', 'i', 'n')\n",
    "type(t)"
   ]
  },
  {
   "cell_type": "markdown",
   "id": "cc15669e",
   "metadata": {},
   "source": [
    "Pou kreye yon tuple ki gen yon sèl eleman, ou dwe mete yon vigil final."
   ]
  },
  {
   "cell_type": "code",
   "execution_count": null,
   "id": "50decb45",
   "metadata": {},
   "outputs": [],
   "source": [
    "t1 = 'p',\n",
    "type(t1)"
   ]
  },
  {
   "cell_type": "markdown",
   "id": "5a59bbf5",
   "metadata": {},
   "source": [
    "Yon sèl valè an parantèz pa se yon tuple."
   ]
  },
  {
   "cell_type": "code",
   "execution_count": null,
   "id": "5f10fbb3",
   "metadata": {},
   "outputs": [],
   "source": [
    "t2 = ('p')\n",
    "type(t2)"
   ]
  },
  {
   "cell_type": "markdown",
   "id": "aa911506",
   "metadata": {},
   "source": [
    "Yon lòt fason pou kreye yon tuple se sèvi ak fonksyon bati-an `tuple`.\n",
    "San agiman, li kreye yon tuple vid."
   ]
  },
  {
   "cell_type": "code",
   "execution_count": null,
   "id": "6485e486",
   "metadata": {},
   "outputs": [],
   "source": [
    "t = tuple()\n",
    "t"
   ]
  },
  {
   "cell_type": "markdown",
   "id": "9e2399e3",
   "metadata": {},
   "source": [
    "Si agiman an se yon sekans (chèn, lis oswa tuple), rezilta a se yon tuple ak eleman sekans la."
   ]
  },
  {
   "cell_type": "code",
   "execution_count": null,
   "id": "571cf499",
   "metadata": {},
   "outputs": [],
   "source": [
    "t = tuple('lupin')\n",
    "t"
   ]
  },
  {
   "cell_type": "markdown",
   "id": "def89055",
   "metadata": {},
   "source": [
    "Paske `tuple` se non yon fonksyon bati-an, ou ta dwe evite itilize li kòm non varyab.\n",
    "\n",
    "Pifò operatè lis yo mache tou ak tuples.\n",
    "Pa egzanp, operatè crochet indexe yon eleman."
   ]
  },
  {
   "cell_type": "code",
   "execution_count": null,
   "id": "f185f27d",
   "metadata": {},
   "outputs": [],
   "source": [
    "t[0]"
   ]
  },
  {
   "cell_type": "markdown",
   "id": "2294005d",
   "metadata": {},
   "source": [
    "Operatè slice chwazi yon seri eleman."
   ]
  },
  {
   "cell_type": "code",
   "execution_count": null,
   "id": "97be793d",
   "metadata": {},
   "outputs": [],
   "source": [
    "t[1:3]"
   ]
  },
  {
   "cell_type": "markdown",
   "id": "944ba714",
   "metadata": {},
   "source": [
    "Operatè `+` konkatenen tuples."
   ]
  },
  {
   "cell_type": "code",
   "execution_count": null,
   "id": "a5aeb228",
   "metadata": {},
   "outputs": [],
   "source": [
    "tuple('lup') + ('i', 'n')"
   ]
  },
  {
   "cell_type": "markdown",
   "id": "ee3daa1d",
   "metadata": {},
   "source": [
    "Operatè `*` repete yon tuple n fwa."
   ]
  },
  {
   "cell_type": "code",
   "execution_count": null,
   "id": "56ae221a",
   "metadata": {},
   "outputs": [],
   "source": [
    "tuple('spam') * 2"
   ]
  },
  {
   "cell_type": "markdown",
   "id": "93bfc236",
   "metadata": {},
   "source": [
    "Fonksyon `sorted` mache ak tuples — men rezilta a se yon lis, pa yon tuple."
   ]
  },
  {
   "cell_type": "code",
   "execution_count": null,
   "id": "55f70e82",
   "metadata": {},
   "outputs": [],
   "source": [
    "sorted(t)"
   ]
  },
  {
   "cell_type": "markdown",
   "id": "a2d09d7f",
   "metadata": {},
   "source": [
    "Fonksyon `reversed` mache tou ak tuples."
   ]
  },
  {
   "cell_type": "code",
   "execution_count": null,
   "id": "8c3d1572",
   "metadata": {},
   "outputs": [],
   "source": [
    "reversed(t)"
   ]
  },
  {
   "cell_type": "markdown",
   "id": "6c35ca83",
   "metadata": {},
   "source": [
    "Rezilta a se yon objè `reversed`, ke nou ka konvèti an lis oswa tuple."
   ]
  },
  {
   "cell_type": "code",
   "execution_count": null,
   "id": "ef2c07ce",
   "metadata": {},
   "outputs": [],
   "source": [
    "tuple(reversed(t))"
   ]
  },
  {
   "cell_type": "markdown",
   "id": "751be640",
   "metadata": {},
   "source": [
    "Baze sou egzanp yo jiskaske kounye a, li ka parèt tuples yo menm ak lis."
   ]
  },
  {
   "cell_type": "markdown",
   "id": "67a22df5",
   "metadata": {},
   "source": [
    "## Men tuples yo imutabl\n",
    "\n",
    "Si ou eseye modifye yon tuple ak operatè crochet, ou jwenn `TypeError`."
   ]
  },
  {
   "cell_type": "code",
   "execution_count": null,
   "id": "0b1ffbc9",
   "metadata": {},
   "outputs": [],
   "source": [
    "%%expect TypeError\n",
    "t[0] = 'L'"
   ]
  },
  {
   "cell_type": "markdown",
   "id": "675e276c",
   "metadata": {},
   "source": [
    "E tuples pa gen metòd ki modifye lis, tankou `append` ak `remove`."
   ]
  },
  {
   "cell_type": "code",
   "execution_count": null,
   "id": "f09dd4cf",
   "metadata": {},
   "outputs": [],
   "source": [
    "%%expect AttributeError\n",
    "t.remove('l')"
   ]
  },
  {
   "cell_type": "markdown",
   "id": "f3231989",
   "metadata": {},
   "source": [
    "Sonje ke yon \"atribè\" se yon varyab oswa metòd ki asosye ak yon objè — mesaj erè sa a vle di tuples pa gen metòd ki rele `remove`.\n",
    "\n",
    "Paske tuples imutabl, yo hashable, sa vle di ou ka itilize yo kòm kle nan yon diksyonè.\n",
    "Pa egzanp, diksyonè sa a gen de tuples kòm kle ki map soti nan nombre antye."
   ]
  },
  {
   "cell_type": "code",
   "execution_count": null,
   "id": "d1aa5fdf",
   "metadata": {},
   "outputs": [],
   "source": [
    "d = {}\n",
    "d[1, 2] = 3\n",
    "d[3, 4] = 7"
   ]
  },
  {
   "cell_type": "markdown",
   "id": "81ff2741",
   "metadata": {},
   "source": [
    "Nou ka fouye yon tuple nan yon diksyonè konsa:"
   ]
  },
  {
   "cell_type": "code",
   "execution_count": null,
   "id": "095fc5d0",
   "metadata": {},
   "outputs": [],
   "source": [
    "d[1, 2]"
   ]
  },
  {
   "cell_type": "markdown",
   "id": "9304a699",
   "metadata": {},
   "source": [
    "Oubyen si nou gen yon varyab ki refere a yon tuple, nou ka itilize li kòm kle."
   ]
  },
  {
   "cell_type": "code",
   "execution_count": null,
   "id": "1518e7d0",
   "metadata": {},
   "outputs": [],
   "source": [
    "t = (3, 4)\n",
    "d[t]"
   ]
  },
  {
   "cell_type": "markdown",
   "id": "edaef4aa",
   "metadata": {},
   "source": [
    "Tuples ka parèt tou kòm valè nan yon diksyonè."
   ]
  },
  {
   "cell_type": "code",
   "execution_count": null,
   "id": "8e8bea64",
   "metadata": {},
   "outputs": [],
   "source": [
    "t = tuple('abc')\n",
    "s = [1, 2, 3]\n",
    "d = {t: s}\n",
    "d"
   ]
  },
  {
   "cell_type": "markdown",
   "id": "2e924f08",
   "metadata": {},
   "source": [
    "## Asignasyon tuple\n",
    "\n",
    "Ou ka mete yon tuple varyab sou bò gòch yon afektasyon, ak yon tuple valè sou bò dwat."
   ]
  },
  {
   "cell_type": "code",
   "execution_count": null,
   "id": "5357ffb7",
   "metadata": {},
   "outputs": [],
   "source": [
    "a, b = 1, 2"
   ]
  },
  {
   "cell_type": "markdown",
   "id": "88c8e76d",
   "metadata": {},
   "source": [
    "Valè yo asiyen a varyab yo soti adwat ale agòch — nan egzanp sa a, `a` resevwa valè `1` ak `b` resevwa valè `2`.\n",
    "Nou ka montre rezilta yo konsa:"
   ]
  },
  {
   "cell_type": "code",
   "execution_count": null,
   "id": "80b1649e",
   "metadata": {},
   "outputs": [],
   "source": [
    "a, b"
   ]
  },
  {
   "cell_type": "markdown",
   "id": "4ff18488",
   "metadata": {},
   "source": [
    "An jeneral, si bò gòch afektasyon an se yon tuple, bò dwat la ka nenpòt kalite sekans — chèn, lis oswa tuple.\n",
    "Pa egzanp, pou separe yon adrès imèl an non itilizatè ak domèn, nou te ka ekri:"
   ]
  },
  {
   "cell_type": "code",
   "execution_count": null,
   "id": "c0b3482c",
   "metadata": {},
   "outputs": [],
   "source": [
    "email = 'monty@python.org'\n",
    "username, domain = email.split('@')"
   ]
  },
  {
   "cell_type": "markdown",
   "id": "e95a76b9",
   "metadata": {},
   "source": [
    "Valè retounen soti nan `split` se yon lis ki gen de eleman — premye eleman an asiyen a `username`, dezyèm lan a `domain`."
   ]
  },
  {
   "cell_type": "code",
   "execution_count": null,
   "id": "04b4b317",
   "metadata": {},
   "outputs": [],
   "source": [
    "username, domain"
   ]
  },
  {
   "cell_type": "markdown",
   "id": "c9ab670a",
   "metadata": {},
   "source": [
    "Kantite varyab sou bò gòch ak kantite valè sou bò dwat dwe menm — sinon ou jwenn `ValueError`."
   ]
  },
  {
   "cell_type": "code",
   "execution_count": null,
   "id": "b9625f5a",
   "metadata": {},
   "outputs": [],
   "source": [
    "%%expect ValueError\n",
    "a, b = 1, 2, 3"
   ]
  },
  {
   "cell_type": "markdown",
   "id": "382ebf8e",
   "metadata": {},
   "source": [
    "Asignasyon tuple itil si ou vle swap valè de varyab.\n",
    "Avèk afektasyon konvansyonèl, ou dwe itilize yon varyab tanporè, konsa:"
   ]
  },
  {
   "cell_type": "code",
   "execution_count": null,
   "id": "49f8c00d",
   "metadata": {},
   "outputs": [],
   "source": [
    "temp = a\n",
    "a = b\n",
    "b = temp"
   ]
  },
  {
   "cell_type": "markdown",
   "id": "bd72983a",
   "metadata": {},
   "source": [
    "Sa mache, men ak asignasyon tuple nou ka fè menm bagay la san varyab tanporè."
   ]
  },
  {
   "cell_type": "code",
   "execution_count": null,
   "id": "188067d2",
   "metadata": {},
   "outputs": [],
   "source": [
    "a, b = b, a"
   ]
  },
  {
   "cell_type": "markdown",
   "id": "7221bf8f",
   "metadata": {},
   "source": [
    "Sa mache paske tout ekspresyon yo sou bò dwat evalye anvan afektasyon an.\n",
    "\n",
    "Nou ka tou itilize asignasyon tuple nan yon enstriksyon `for`.\n",
    "Pa egzanp, pou boukle sou eleman yon diksyonè, nou ka itilize metòd `items`."
   ]
  },
  {
   "cell_type": "code",
   "execution_count": null,
   "id": "4048352e",
   "metadata": {},
   "outputs": [],
   "source": [
    "d = {'one': 1, 'two': 2}\n",
    "\n",
    "for item in d.items():\n",
    "    key, value = item\n",
    "    print(key, '->', value)"
   ]
  },
  {
   "cell_type": "markdown",
   "id": "1cacc332",
   "metadata": {},
   "source": [
    "Chak fwa nou pase nan bouk la, `item` asiyen a yon tuple ki gen yon kle ak valè ki koresponn lan.\n",
    "\n",
    "Nou ka ekri bouk sa a pi kout, konsa:"
   ]
  },
  {
   "cell_type": "code",
   "execution_count": null,
   "id": "fa3a32c0",
   "metadata": {},
   "outputs": [],
   "source": [
    "for key, value in d.items():\n",
    "    print(key, '->', value)"
   ]
  },
  {
   "cell_type": "markdown",
   "id": "90219aea",
   "metadata": {},
   "source": [
    "Chak fwa nou pase nan bouk la, yon kle ak valè ki koresponn lan asiyen dirèkteman a `key` ak `value`."
   ]
  },
  {
   "cell_type": "markdown",
   "id": "d3a9565d",
   "metadata": {},
   "source": [
    "## Tuples kòm valè retounen\n",
    "\n",
    "Strikteman parlant, yon fonksyon ka sèlman retounen yon valè, men si valè a se yon tuple, efè a se menm bagay ak retounen plizyè valè.\n",
    "Pa egzanp, si ou vle divize de antye epi kalkile kwosyant ak rès la, li pa efikas kalkile `x//y` epi apre `x%y`.\n",
    "Li pi bon kalkile yo an menm tan.\n",
    "\n",
    "Fonksyon bati-an `divmod` pran de agiman epi retounen yon tuple\n",
    "de valè, kwosyant ak rès."
   ]
  },
  {
   "cell_type": "code",
   "execution_count": null,
   "id": "c483f542",
   "metadata": {},
   "outputs": [],
   "source": [
    "divmod(7, 3)"
   ]
  },
  {
   "cell_type": "markdown",
   "id": "12c86b10",
   "metadata": {},
   "source": [
    "Nou ka itilize asignasyon tuple pou sere eleman tuple la an de varyab."
   ]
  },
  {
   "cell_type": "code",
   "execution_count": null,
   "id": "9e2b66b2",
   "metadata": {},
   "outputs": [],
   "source": [
    "quotient, remainder = divmod(7, 3)\n",
    "quotient"
   ]
  },
  {
   "cell_type": "code",
   "execution_count": null,
   "id": "1f20eb56",
   "metadata": {
    "lines_to_next_cell": 1
   },
   "outputs": [],
   "source": [
    "remainder"
   ]
  },
  {
   "cell_type": "markdown",
   "id": "2b0262eb",
   "metadata": {},
   "source": [
    "Men yon egzanp yon fonksyon ki retounen yon tuple."
   ]
  },
  {
   "cell_type": "code",
   "execution_count": null,
   "id": "6e75f11b",
   "metadata": {
    "lines_to_next_cell": 1
   },
   "outputs": [],
   "source": [
    "def min_max(t):\n",
    "    return min(t), max(t)"
   ]
  },
  {
   "cell_type": "markdown",
   "id": "3a4e4ab6",
   "metadata": {},
   "source": [
    "`max` ak `min` se fonksyon bati-an ki jwenn pi gran ak pi piti eleman yon sekans.\n",
    "`min_max` kalkile toude epi retounen yon tuple de valè."
   ]
  },
  {
   "cell_type": "code",
   "execution_count": null,
   "id": "68ff3c8b",
   "metadata": {},
   "outputs": [],
   "source": [
    "min_max([2, 4, 1, 3])"
   ]
  },
  {
   "cell_type": "markdown",
   "id": "95cfe65e",
   "metadata": {},
   "source": [
    "Nou ka afekte rezilta a varyab konsa:"
   ]
  },
  {
   "cell_type": "code",
   "execution_count": null,
   "id": "68ca66f2",
   "metadata": {
    "lines_to_next_cell": 1
   },
   "outputs": [],
   "source": [
    "low, high = min_max([2, 4, 1, 3])\n",
    "low, high"
   ]
  },
  {
   "cell_type": "markdown",
   "id": "fee8cff6",
   "metadata": {},
   "source": [
    "## Paketaj agiman\n",
    "\n",
    "Fonksyon ka pran yon kantite agiman varyab.\n",
    "Yon non paramèt ki kòmanse ak operatè `*` la **pake** agiman yo an yon tuple.\n",
    "Pa egzanp, fonksyon sa a pran nenpòt kantite agiman epi kalkile mwayèn aritmetik yo — sa vle di sòm yo divize pa kantite agiman."
   ]
  },
  {
   "cell_type": "code",
   "execution_count": null,
   "id": "58707780",
   "metadata": {
    "lines_to_next_cell": 1
   },
   "outputs": [],
   "source": [
    "def mean(*args):\n",
    "    return sum(args) / len(args)"
   ]
  },
  {
   "cell_type": "markdown",
   "id": "9835d64f",
   "metadata": {},
   "source": [
    "Paramèt la ka gen nenpòt non ou vle, men `args` se konvansyonèl.\n",
    "Nou ka rele fonksyon an konsa:"
   ]
  },
  {
   "cell_type": "code",
   "execution_count": null,
   "id": "7d130e7c",
   "metadata": {},
   "outputs": [],
   "source": [
    "mean(1, 2, 3)"
   ]
  },
  {
   "cell_type": "markdown",
   "id": "ee4562f2",
   "metadata": {},
   "source": [
    "Si ou gen yon sekans valè epi ou vle pase yo bay yon fonksyon kòm plizyè agiman, ou ka itilize operatè `*` pou **depake** tuple la.\n",
    "Pa egzanp, `divmod` pran egzakteman de agiman — si ou pase yon tuple kòm paramèt, ou jwenn yon erè."
   ]
  },
  {
   "cell_type": "code",
   "execution_count": null,
   "id": "0ef3a74c",
   "metadata": {},
   "outputs": [],
   "source": [
    "%%expect TypeError\n",
    "t = (7, 3)\n",
    "divmod(t)"
   ]
  },
  {
   "cell_type": "markdown",
   "id": "1cb2b88a",
   "metadata": {},
   "source": [
    "Menmsi tuple la gen de eleman, li konte kòm yon sèl agiman.\n",
    "Men si ou depake tuple la, li trete kòm de agiman."
   ]
  },
  {
   "cell_type": "code",
   "execution_count": null,
   "id": "87511297",
   "metadata": {
    "lines_to_next_cell": 1
   },
   "outputs": [],
   "source": [
    "divmod(*t)"
   ]
  },
  {
   "cell_type": "markdown",
   "id": "f9a2217f",
   "metadata": {},
   "source": [
    "Paketaj ak depaketaj ka itil si ou vle adapte konpòtman yon fonksyon ki egziste deja.\n",
    "Pa egzanp, fonksyon sa a pran nenpòt kantite agiman, retire pi ba ak pi wo eleman yo, epi kalkile mwayèn rès yo."
   ]
  },
  {
   "cell_type": "code",
   "execution_count": null,
   "id": "ffa26eb4",
   "metadata": {
    "lines_to_next_cell": 1
   },
   "outputs": [],
   "source": [
    "def trimmed_mean(*args):\n",
    "    low, high = min_max(args)\n",
    "    trimmed = list(args)\n",
    "    trimmed.remove(low)\n",
    "    trimmed.remove(high)\n",
    "    return mean(*trimmed)"
   ]
  },
  {
   "cell_type": "markdown",
   "id": "6c08e6d6",
   "metadata": {},
   "source": [
    "Dabwa li itilize `min_max` pou jwenn pi ba ak pi wo eleman yo.\n",
    "Apre sa li konvèti `args` an lis pou li ka itilize metòd `remove`.\n",
    "Finalman li depake lis la pou eleman yo pase bay `mean` kòm agiman separe, olye de yon sèl lis.\n",
    "\n",
    "Men yon egzanp ki montre efè a."
   ]
  },
  {
   "cell_type": "code",
   "execution_count": null,
   "id": "bb9418fb",
   "metadata": {},
   "outputs": [],
   "source": [
    "mean(1, 2, 3, 10)"
   ]
  },
  {
   "cell_type": "code",
   "execution_count": null,
   "id": "80538e58",
   "metadata": {},
   "outputs": [],
   "source": [
    "trimmed_mean(1, 2, 3, 10)"
   ]
  },
  {
   "cell_type": "markdown",
   "id": "7295e63b",
   "metadata": {},
   "source": [
    "Kalite mwayèn \"trimmed\" sa a itilize nan kèk espò ki gen jijman subjectif — tankou plonje ak jimnastik — pou redui efè yon jij ki bay nòt ki pa matche ak lòt yo."
   ]
  },
  {
   "cell_type": "markdown",
   "id": "78469eae",
   "metadata": {},
   "source": [
    "## Zip\n",
    "\n",
    "Tuples itil pou boukle sou eleman de sekans epi fè operasyon sou eleman ki koresponn.\n",
    "Pa egzanp, imajine de ekip jwe yon seri 7 match, epi nou anrejistre nòt yo an de lis, youn pou chak ekip."
   ]
  },
  {
   "cell_type": "code",
   "execution_count": null,
   "id": "182fdc6e",
   "metadata": {},
   "outputs": [],
   "source": [
    "scores1 = [1, 2, 4, 5, 1, 5, 2]\n",
    "scores2 = [5, 5, 2, 2, 5, 2, 3]"
   ]
  },
  {
   "cell_type": "markdown",
   "id": "245cd8eb",
   "metadata": {},
   "source": [
    "Ann wè konbyen match chak ekip te genyen.\n",
    "Nou pral itilize `zip`, ki se yon fonksyon bati-an ki pran de oswa plis sekans epi retounen yon **objè zip**, rele konsa paske li mariye eleman sekans yo tankou dan fermèt-ekspres (zip)."
   ]
  },
  {
   "cell_type": "code",
   "execution_count": null,
   "id": "e8a014c8",
   "metadata": {},
   "outputs": [],
   "source": [
    "zip(scores1, scores2)"
   ]
  },
  {
   "cell_type": "markdown",
   "id": "a19eb799",
   "metadata": {},
   "source": [
    "Nou ka itilize objè zip la pou boukle sou valè seqans yo two a de a de."
   ]
  },
  {
   "cell_type": "code",
   "execution_count": null,
   "id": "24c1ec9d",
   "metadata": {},
   "outputs": [],
   "source": [
    "for pair in zip(scores1, scores2):\n",
    "     print(pair)"
   ]
  },
  {
   "cell_type": "markdown",
   "id": "17682504",
   "metadata": {},
   "source": [
    "Chak fwa nou pase nan bouk la, `pair` asiyen a yon tuple nòt.\n",
    "Konsa nou ka asiyen nòt yo a varyab, epi konte viktwa pou premye ekip la, konsa:"
   ]
  },
  {
   "cell_type": "code",
   "execution_count": null,
   "id": "c94b14ad",
   "metadata": {},
   "outputs": [],
   "source": [
    "wins = 0\n",
    "for team1, team2 in zip(scores1, scores2):\n",
    "    if team1 > team2:\n",
    "        wins += 1\n",
    "        \n",
    "wins"
   ]
  },
  {
   "cell_type": "markdown",
   "id": "adba364a",
   "metadata": {},
   "source": [
    "Malerezman, premye ekip la te genyen sèlman twa match epi li pèdi seri a.\n",
    "\n",
    "Si ou gen de lis epi ou vle yon lis pè, ou ka itilize `zip` ak `list`."
   ]
  },
  {
   "cell_type": "code",
   "execution_count": null,
   "id": "770afe62",
   "metadata": {},
   "outputs": [],
   "source": [
    "t = list(zip(scores1, scores2))\n",
    "t"
   ]
  },
  {
   "cell_type": "markdown",
   "id": "8f019fa9",
   "metadata": {},
   "source": [
    "Rezilta a se yon lis tuples, kidonk nou ka jwenn rezilta dènye match la konsa:"
   ]
  },
  {
   "cell_type": "code",
   "execution_count": null,
   "id": "9a776d4c",
   "metadata": {},
   "outputs": [],
   "source": [
    "t[-1]"
   ]
  },
  {
   "cell_type": "markdown",
   "id": "05f2a6a2",
   "metadata": {},
   "source": [
    "Si ou gen yon lis kle ak yon lis valè, ou ka itilize `zip` ak `dict` pou fè yon diksyonè.\n",
    "Pa egzanp, men ki jan nou ka fè yon diksyonè ki map soti nan chak lèt jiska pozisyon li nan alfabè."
   ]
  },
  {
   "cell_type": "code",
   "execution_count": null,
   "id": "29f0bfe0",
   "metadata": {},
   "outputs": [],
   "source": [
    "letters = 'abcdefghijklmnopqrstuvwxyz'\n",
    "numbers = range(len(letters))\n",
    "letter_map = dict(zip(letters, numbers))"
   ]
  },
  {
   "cell_type": "markdown",
   "id": "c8c63cb3",
   "metadata": {},
   "source": [
    "Kounye a nou ka fouye yon lèt epi jwenn indèks li nan alfabè a."
   ]
  },
  {
   "cell_type": "code",
   "execution_count": null,
   "id": "95d4887a",
   "metadata": {},
   "outputs": [],
   "source": [
    "letter_map['a'], letter_map['z']"
   ]
  },
  {
   "cell_type": "markdown",
   "id": "5bb37fd5",
   "metadata": {},
   "source": [
    "Nan map sa a, endèks `'a'` se `0` ak endèks `'z'` se `25`.\n",
    "\n",
    "Si ou bezwen boukle sou eleman yon sekans ak endèks yo, ou ka itilize fonksyon bati-an `enumerate`."
   ]
  },
  {
   "cell_type": "code",
   "execution_count": null,
   "id": "379ce2d7",
   "metadata": {},
   "outputs": [],
   "source": [
    "enumerate('abc')"
   ]
  },
  {
   "cell_type": "markdown",
   "id": "5485aa27",
   "metadata": {},
   "source": [
    "Rezilta a se yon **objè enumerate** ki boukle sou yon sekans pè, kote chak pè gen yon endèks (kòmanse ak 0) ak yon eleman sekans la."
   ]
  },
  {
   "cell_type": "code",
   "execution_count": null,
   "id": "6f87a8c5",
   "metadata": {},
   "outputs": [],
   "source": [
    "for index, element in enumerate('abc'):\n",
    "    print(index, element)"
   ]
  },
  {
   "cell_type": "markdown",
   "id": "c6362071",
   "metadata": {},
   "source": [
    "## Konparezon ak tri\n",
    "\n",
    "Operatè relasyonèl yo mache ak tuples ak lòt sekans.\n",
    "Pa egzanp, si ou itilize operatè `<` ak tuples, li kòmanse pa konpare premye eleman soti nan chak sekans.\n",
    "Si yo egal, li kontinye ak pwochen pè eleman yo, etsetera, jiskaske li jwenn yon pè ki diferan."
   ]
  },
  {
   "cell_type": "code",
   "execution_count": null,
   "id": "5e3cca6e",
   "metadata": {},
   "outputs": [],
   "source": [
    "(0, 1, 2) < (0, 3, 4)"
   ]
  },
  {
   "cell_type": "markdown",
   "id": "2eed9478",
   "metadata": {},
   "source": [
    "Eleman ki vin aprè pa konsidere — menmsi yo gran anpil."
   ]
  },
  {
   "cell_type": "code",
   "execution_count": null,
   "id": "5b234579",
   "metadata": {
    "lines_to_next_cell": 1
   },
   "outputs": [],
   "source": [
    "(0, 1, 2000000) < (0, 3, 4)"
   ]
  },
  {
   "cell_type": "markdown",
   "id": "8c7ec996",
   "metadata": {},
   "source": [
    "Fason pou konpare tuples sa a itil pou triye yon lis tuples, oswa jwenn min oswa max.\n",
    "Pa egzanp, ann jwenn lèt ki parèt pi souvan nan yon mo.\n",
    "Nan chapit anvan an, nou te ekri `value_counts`, ki pran yon chèn epi retounen yon diksyonè ki map soti chak lèt jiska konbyen fwa li parèt."
   ]
  },
  {
   "cell_type": "code",
   "execution_count": null,
   "id": "03b05d70",
   "metadata": {
    "lines_to_next_cell": 1
   },
   "outputs": [],
   "source": [
    "def value_counts(string):\n",
    "    counter = {}\n",
    "    for letter in string:\n",
    "        if letter not in counter:\n",
    "            counter[letter] = 1\n",
    "        else:\n",
    "            counter[letter] += 1\n",
    "    return counter"
   ]
  },
  {
   "cell_type": "markdown",
   "id": "67a5aa1d",
   "metadata": {},
   "source": [
    "Men rezilta a pou chèn `'banana'`."
   ]
  },
  {
   "cell_type": "code",
   "execution_count": null,
   "id": "7ce8686b",
   "metadata": {},
   "outputs": [],
   "source": [
    "counter = value_counts('banana')\n",
    "counter"
   ]
  },
  {
   "cell_type": "markdown",
   "id": "fa35636a",
   "metadata": {},
   "source": [
    "Ak sèlman twa eleman, nou ka fasilman wè lèt ki pi souvan an se `'a'`, ki parèt twa fwa.\n",
    "Men si te gen plis eleman, li t ap itil pou triye yo otomatikman.\n",
    "\n",
    "Nou ka jwenn eleman yo soti nan `counter` konsa."
   ]
  },
  {
   "cell_type": "code",
   "execution_count": null,
   "id": "f7cdde5a",
   "metadata": {},
   "outputs": [],
   "source": [
    "items = counter.items()\n",
    "items"
   ]
  },
  {
   "cell_type": "markdown",
   "id": "fcb9ef90",
   "metadata": {},
   "source": [
    "Rezilta a se yon objè `dict_items` ki konpòte li tankou yon lis tuples, kidonk nou ka triye li konsa."
   ]
  },
  {
   "cell_type": "code",
   "execution_count": null,
   "id": "baf7c913",
   "metadata": {
    "lines_to_next_cell": 1
   },
   "outputs": [],
   "source": [
    "sorted(items)"
   ]
  },
  {
   "cell_type": "markdown",
   "id": "a8fd75b5",
   "metadata": {},
   "source": [
    "Konpòtman pa defo se itilize premye eleman chak tuple pou triye lis la, epi itilize dezyèm eleman an pou kase egalite.\n",
    "\n",
    "Sepandan, pou jwenn eleman ki gen pi gwo count, nou vle itilize dezyèm eleman an pou triye lis la.\n",
    "Nou ka fè sa lè nou ekri yon fonksyon ki pran yon tuple epi retounen dezyèm eleman an."
   ]
  },
  {
   "cell_type": "code",
   "execution_count": null,
   "id": "cf3dc300",
   "metadata": {
    "lines_to_next_cell": 1
   },
   "outputs": [],
   "source": [
    "def second_element(t):\n",
    "    return t[1]"
   ]
  },
  {
   "cell_type": "markdown",
   "id": "f203f830",
   "metadata": {},
   "source": [
    "Apre sa nou ka pase fonksyon sa a bay `sorted` kòm yon agiman opsyonèl rele `key`, ki endike ke fonksyon sa a dwe itilize pou kalkile **kle tri** pou chak eleman."
   ]
  },
  {
   "cell_type": "code",
   "execution_count": null,
   "id": "6934205b",
   "metadata": {},
   "outputs": [],
   "source": [
    "sorted_items = sorted(items, key=second_element)\n",
    "sorted_items"
   ]
  },
  {
   "cell_type": "markdown",
   "id": "21fe7e5a",
   "metadata": {},
   "source": [
    "Kle tri a detèmine lòd eleman yo nan lis la.\n",
    "Lèt ki gen pi ba count parèt an premye, ak lèt ki gen pi wo count parèt an dènye.\n",
    "Kidonk nou ka jwenn lèt ki pi komen an konsa."
   ]
  },
  {
   "cell_type": "code",
   "execution_count": null,
   "id": "a3340357",
   "metadata": {},
   "outputs": [],
   "source": [
    "sorted_items[-1]"
   ]
  },
  {
   "cell_type": "markdown",
   "id": "baf2885b",
   "metadata": {},
   "source": [
    "Si nou sèlman vle maximum, nou pa bezwen triye lis la.\n",
    "Nou ka itilize `max`, ki tou pran `key` kòm agiman opsyonèl."
   ]
  },
  {
   "cell_type": "code",
   "execution_count": null,
   "id": "9a46e244",
   "metadata": {},
   "outputs": [],
   "source": [
    "max(items, key=second_element)"
   ]
  },
  {
   "cell_type": "markdown",
   "id": "2f40d9b0",
   "metadata": {},
   "source": [
    "Pou jwenn lèt ki gen pi ba count, nou te ka itilize `min` menm jan an."
   ]
  },
  {
   "cell_type": "markdown",
   "id": "f3efae6f",
   "metadata": {},
   "source": [
    "## Envèti yon diksyonè\n",
    "\n",
    "Imajine ou vle envèti yon diksyonè pou ou ka fouye yon valè epi jwenn kle ki koresponn lan.\n",
    "Pa egzanp, si ou gen yon counter mo ki map soti mo jiska konbyen fwa li parèt, ou te ka fè yon diksyonè ki map soti antre pa nomb jiska mo ki parèt kantite fwa sa a.\n",
    "\n",
    "Men gen yon pwoblèm — kle nan yon diksyonè dwe inik, men valè yo pa bezwen.\n",
    "Pa egzanp, nan yon counter mo, ka gen anpil mo ki gen menm count.\n",
    "\n",
    "Kidonk youn fason pou envèti yon diksyonè se kreye yon nouvo diksyonè kote valè yo se lis kle ki soti nan orijinal la.\n",
    "Pa egzanp, ann konte lèt nan `parrot`."
   ]
  },
  {
   "cell_type": "code",
   "execution_count": null,
   "id": "22e9aa4a",
   "metadata": {
    "lines_to_next_cell": 1
   },
   "outputs": [],
   "source": [
    "d =  value_counts('parrot')\n",
    "d"
   ]
  },
  {
   "cell_type": "markdown",
   "id": "46cc8016",
   "metadata": {},
   "source": [
    "Si nou envèti diksyonè sa a, rezilta a dwe `{1: ['p', 'a', 'o', 't'], 2: ['r']}`, ki endike ke lèt ki parèt yon fwa se `'p'`, `'a'`, `'o'`, ak `'t'`, epi lèt ki parèt de fwa se `'r'`.\n",
    "\n",
    "Fonksyon sa a pran yon diksyonè epi retounen envès li kòm yon nouvo diksyonè."
   ]
  },
  {
   "cell_type": "code",
   "execution_count": null,
   "id": "0aebd389",
   "metadata": {
    "lines_to_next_cell": 1
   },
   "outputs": [],
   "source": [
    "def invert_dict(d):\n",
    "    new = {}\n",
    "    for key, value in d.items():\n",
    "        if value not in new:\n",
    "            new[value] = [key]\n",
    "        else:\n",
    "            new[value].append(key)\n",
    "    return new"
   ]
  },
  {
   "cell_type": "markdown",
   "id": "5465c41e",
   "metadata": {},
   "source": [
    "Enstriksyon `for` la boukle sou kle ak valè nan `d`.\n",
    "Si valè a pa deja nan nouvo diksyonè a, li ajoute li epi asosye li ak yon lis ki gen yon sèl eleman.\n",
    "Sinon li ajoute kle a nan lis ki deja la.\n",
    "\n",
    "Nou ka teste li konsa:"
   ]
  },
  {
   "cell_type": "code",
   "execution_count": null,
   "id": "3dafa069",
   "metadata": {},
   "outputs": [],
   "source": [
    "invert_dict(d)"
   ]
  },
  {
   "cell_type": "markdown",
   "id": "82c3eeba",
   "metadata": {},
   "source": [
    "E nou jwenn rezilta nou te atann.\n",
    "\n",
    "Sa a se premye egzanp nou wè kote valè diksyonè a se lis.\n",
    "Nou pral wè plis!"
   ]
  },
  {
   "cell_type": "markdown",
   "id": "f516e30e",
   "metadata": {},
   "source": [
    "## Debògaj\n",
    "\n",
    "Lis, diksyonè ak tuples se **estrikti done**.\n",
    "Nan chapit sa a nou kòmanse wè estrikti done konpoze, tankou lis tuples, oswa diksyonè ki gen tuples kòm kle ak lis kòm valè.\n",
    "Estrikti done konpoze itil, men yo fasil pou lakòz erè lè estrikti done a pa bon tip, dimansyon, oswa estrikti.\n",
    "Pa egzanp, si yon fonksyon atann yon lis antye epi ou ba li yon antye sèlman (pa an lis), li pap mache.\n",
    "\n",
    "Pou ede debòge kalite erè sa yo, mwen te ekri yon modil ki rele `structshape` ki bay yon fonksyon, ki rele tou `structshape`, ki pran nenpòt kalite estrikti done kòm agiman epi retounen yon chèn ki rezime estrikti li.\n",
    "Ou ka telechaje li soti nan\n",
    "<https://raw.githubusercontent.com/AllenDowney/ThinkPython/v3/structshape.py>."
   ]
  },
  {
   "cell_type": "code",
   "execution_count": null,
   "id": "e193008f",
   "metadata": {},
   "outputs": [],
   "source": [
    "download('https://raw.githubusercontent.com/AllenDowney/ThinkPython/v3/structshape.py');"
   ]
  },
  {
   "cell_type": "markdown",
   "id": "3a3940d5",
   "metadata": {},
   "source": [
    "Nou ka enpòte li konsa."
   ]
  },
  {
   "cell_type": "code",
   "execution_count": null,
   "id": "e43f61b8",
   "metadata": {},
   "outputs": [],
   "source": [
    "from structshape import structshape"
   ]
  },
  {
   "cell_type": "markdown",
   "id": "e18f0dcb",
   "metadata": {},
   "source": [
    "Men yon egzanp ak yon lis senp."
   ]
  },
  {
   "cell_type": "code",
   "execution_count": null,
   "id": "ec6af1d0",
   "metadata": {},
   "outputs": [],
   "source": [
    "t = [1, 2, 3]\n",
    "structshape(t)"
   ]
  },
  {
   "cell_type": "markdown",
   "id": "b9a026b7",
   "metadata": {},
   "source": [
    "Men yon lis lis."
   ]
  },
  {
   "cell_type": "code",
   "execution_count": null,
   "id": "20480260",
   "metadata": {},
   "outputs": [],
   "source": [
    "t2 = [[1,2], [3,4], [5,6]]\n",
    "structshape(t2)"
   ]
  },
  {
   "cell_type": "markdown",
   "id": "f312a54f",
   "metadata": {},
   "source": [
    "Si eleman lis la pa menm tip, `structshape` klase yo pa tip."
   ]
  },
  {
   "cell_type": "code",
   "execution_count": null,
   "id": "2c6231e1",
   "metadata": {},
   "outputs": [],
   "source": [
    "t3 = [1, 2, 3, 4.0, '5', '6', [7], [8], 9]\n",
    "structshape(t3)"
   ]
  },
  {
   "cell_type": "markdown",
   "id": "d7813594",
   "metadata": {},
   "source": [
    "Men yon lis tuples."
   ]
  },
  {
   "cell_type": "code",
   "execution_count": null,
   "id": "da888fe1",
   "metadata": {},
   "outputs": [],
   "source": [
    "s = 'abc'\n",
    "lt = list(zip(t, s))\n",
    "structshape(lt)"
   ]
  },
  {
   "cell_type": "markdown",
   "id": "57952453",
   "metadata": {},
   "source": [
    "E men yon diksyonè ak twa eleman ki map soti antye jiska chèn."
   ]
  },
  {
   "cell_type": "code",
   "execution_count": null,
   "id": "8c273d0b",
   "metadata": {},
   "outputs": [],
   "source": [
    "d = dict(lt) \n",
    "structshape(d)"
   ]
  },
  {
   "cell_type": "markdown",
   "id": "7236d282",
   "metadata": {},
   "source": [
    "Si ou gen pwoblèm kenbe tras estrikti done ou yo,\n",
    "`structshape` ka ede."
   ]
  },
  {
   "cell_type": "markdown",
   "id": "829182d6",
   "metadata": {},
   "source": [
    "## Glosè\n",
    "\n",
    "**pack:**\n",
    " Kolekte plizyè agiman an yon tuple.\n",
    "\n",
    "**unpack:**\n",
    " Trete yon tuple (oswa lòt sekans) kòm plizyè agiman.\n",
    "\n",
    "**zip object:**\n",
    " Rezilta apèl fonksyon bati-an `zip`, ka itilize pou boukle sou yon sekans tuples.\n",
    "\n",
    "**enumerate object:**\n",
    " Rezilta apèl fonksyon bati-an `enumerate`, ka itilize pou boukle sou yon sekans tuples.\n",
    "\n",
    "**sort key:**\n",
    " Yon valè, oswa fonksyon ki kalkile yon valè, itilize pou triye eleman yon koleksyon.\n",
    "\n",
    "**data structure (estrikti done):**\n",
    " Yon koleksyon valè, òganize pou fè kèk operasyon efikas."
   ]
  },
  {
   "cell_type": "markdown",
   "id": "464335ad",
   "metadata": {},
   "source": [
    "## Egzèsis"
   ]
  },
  {
   "cell_type": "code",
   "execution_count": null,
   "id": "fa6869f6",
   "metadata": {},
   "outputs": [],
   "source": [
    "# Liy sa a di Jupyter pou bay enfòmasyon detaye sou debògaj\n",
    "# lè gen yon erè execisyon. Kouri li anvan ou travay sou egzèsis yo.\n",
    "\n",
    "%xmode Verbose"
   ]
  },
  {
   "cell_type": "markdown",
   "id": "e77b0cfb",
   "metadata": {},
   "source": [
    "### Mande yon asistan vityèl\n",
    "\n",
    "Egzèsis chapit sa a ka pi difisil pase egzèsis chapit anvan yo, kidonk mwen ankouraje ou itilize èd asistan vityèl.\n",
    "Lè ou poze kesyon ki pi difisil, ou ka jwenn repons ki pa kòrèk dèske premye tantativ, kidonk sa se yon chans pou pratike ekri bon pwompt ak fè swivi ak bon amelyorasyon.\n",
    "\n",
    "Youn estrateji ou ka konsidere se separe gwo pwoblèm yo an moso ki ka rezoud ak fonksyon senp.\n",
    "Mande asistan an pou ekri fonksyon yo ak teste yo.\n",
    "Apre sa, lè yo ap mache, mande pou yon solisyon pwoblèm orijinal la.\n",
    "\n",
    "Pou kèk egzèsis anba yo, mwen fè sijesyon sou ki estrikti done ak algoritm pou itilize.\n",
    "Ou ka jwenn sijesyon sa yo itil lè ou ap travay sou pwoblèm yo, men tou bon pwompt pou pase bay yon asistan vityèl."
   ]
  },
  {
   "cell_type": "markdown",
   "id": "6b6eebad",
   "metadata": {},
   "source": [
    "### Egzèsis\n",
    "\n",
    "Nan chapit sa a mwen te di tuples ka itilize kòm kle nan diksyonè paske yo hashable, epi yo hashable paske yo imutabl.\n",
    "Men sa pa toujou vre.\n",
    "\n",
    "Si yon tuple gen yon valè chanjab, tankou yon lis oswa yon diksyonè, tuple la pa hashable ankò paske li gen eleman ki pa hashable. Pa egzanp, men yon tuple ki gen de lis antye."
   ]
  },
  {
   "cell_type": "code",
   "execution_count": null,
   "id": "c281837e",
   "metadata": {},
   "outputs": [],
   "source": [
    "list0 = [1, 2, 3]\n",
    "list1 = [4, 5]\n",
    "\n",
    "t = (list0, list1)\n",
    "t"
   ]
  },
  {
   "cell_type": "markdown",
   "id": "ca34f209",
   "metadata": {},
   "source": [
    "Ekri yon liy kòd ki ajoute valè `6` nan fen dezyèm lis nan `t`. Si ou montre `t`, rezilta a ta dwe `([1, 2, 3], [4, 5, 6])`."
   ]
  },
  {
   "cell_type": "code",
   "execution_count": null,
   "id": "62f2729e",
   "metadata": {},
   "outputs": [],
   "source": [
    "# Solisyon pral mete la"
   ]
  },
  {
   "cell_type": "markdown",
   "id": "308c3175",
   "metadata": {},
   "source": [
    "Eseye kreye yon diksyonè ki map soti `t` jiska yon chèn, epi konfime ou jwenn `TypeError`."
   ]
  },
  {
   "cell_type": "code",
   "execution_count": null,
   "id": "150743bd",
   "metadata": {},
   "outputs": [],
   "source": [
    "# Solisyon pral mete la"
   ]
  },
  {
   "cell_type": "markdown",
   "id": "987ebae4",
   "metadata": {},
   "source": [
    "Pou plis sou sijè sa a, mande yon asistan vityèl, \"Eske tuples Python toujou hashable?\""
   ]
  },
  {
   "cell_type": "markdown",
   "id": "2729e9cb",
   "metadata": {},
   "source": [
    "### Egzèsis\n",
    "\n",
    "Nan chapit sa a nou te fè yon diksyonè ki map soti chak lèt jiska endèks li nan alfabè."
   ]
  },
  {
   "cell_type": "code",
   "execution_count": null,
   "id": "70e00245",
   "metadata": {},
   "outputs": [],
   "source": [
    "letters = 'abcdefghijklmnopqrstuvwxyz'\n",
    "numbers = range(len(letters))\n",
    "letter_map = dict(zip(letters, numbers))"
   ]
  },
  {
   "cell_type": "markdown",
   "id": "9ff05abc",
   "metadata": {},
   "source": [
    "Pa egzanp, endèks `'a'` se `0`."
   ]
  },
  {
   "cell_type": "code",
   "execution_count": null,
   "id": "89343909",
   "metadata": {},
   "outputs": [],
   "source": [
    "letter_map['a']"
   ]
  },
  {
   "cell_type": "markdown",
   "id": "a82c81ac",
   "metadata": {},
   "source": [
    "Pou ale nan lòt direksyon an, nou ka itilize indexing lis.\n",
    "Pa egzanp, lèt endèks `1` se `'b'`."
   ]
  },
  {
   "cell_type": "code",
   "execution_count": null,
   "id": "45805ab1",
   "metadata": {
    "lines_to_next_cell": 1
   },
   "outputs": [],
   "source": [
    "letters[1]"
   ]
  },
  {
   "cell_type": "markdown",
   "id": "0ff2c6a8",
   "metadata": {},
   "source": [
    "Nou ka itilize `letter_map` ak `letters` pou kodifye ak dekodifye mo ak yon chifreman Caesar.\n",
    "\n",
    "Yon chifreman Caesar se yon fòm enklizyon fèb ki implique deplase chak lèt\n",
    "pa yon kantite fiks pozisyon nan alfabè a, epi retounen depi kòmansman si sa nesesè. Pa egzanp, `'a'` deplase pa 2 se `'c'` ak `'z'` deplase pa 1 se `'a'`.\n",
    "\n",
    "Ekri yon fonksyon ki rele `shift_word` ki pran kòm paramèt yon chèn ak yon antye, epi retounen yon nouvo chèn ki gen lèt yo depi chèn lan deplase pa kantite pozisyon yo bay.\n",
    "\n",
    "Pou teste fonksyon ou, konfime ke \"cheer\" deplase pa 7 se \"jolly\" ak \"melon\" deplase pa 16 se \"cubed\".\n",
    "\n",
    "Sijesyon: Itilize operatè modulus pou retounen soti `'z'` ale `'a'`.\n",
    "Boukle sou lèt mo a, deplase chak lèt, epi ajoute rezilta a nan yon lis lèt.\n",
    "Apre sa itilize `join` pou kontkatene lèt yo an yon chèn."
   ]
  },
  {
   "cell_type": "markdown",
   "id": "8c97055e",
   "metadata": {},
   "source": [
    "Ou ka itilize eskiz fonksyon sa a pou kòmanse."
   ]
  },
  {
   "cell_type": "code",
   "execution_count": null,
   "id": "d46a7529",
   "metadata": {
    "lines_to_next_cell": 1
   },
   "outputs": [],
   "source": [
    "def shift_word(word, n):\n",
    "    \"\"\"Deplase lèt 'word' pa n pozisyon.\n",
    "    \n",
    "    >>> shift_word('cheer', 7)\n",
    "    'jolly'\n",
    "    >>> shift_word('melon', 16)\n",
    "    'cubed'\n",
    "    \"\"\"\n",
    "    return None"
   ]
  },
  {
   "cell_type": "code",
   "execution_count": null,
   "id": "b154444b",
   "metadata": {},
   "outputs": [],
   "source": [
    "# Solisyon pral mete la"
   ]
  },
  {
   "cell_type": "code",
   "execution_count": null,
   "id": "9e17e60a",
   "metadata": {},
   "outputs": [],
   "source": [
    "shift_word('cheer', 7)"
   ]
  },
  {
   "cell_type": "code",
   "execution_count": null,
   "id": "fe7f099f",
   "metadata": {},
   "outputs": [],
   "source": [
    "shift_word('melon', 16)"
   ]
  },
  {
   "cell_type": "markdown",
   "id": "0a0042c3",
   "metadata": {},
   "source": [
    "Ou ka itilize `doctest` pou teste fonksyon ou."
   ]
  },
  {
   "cell_type": "code",
   "execution_count": null,
   "id": "ee7fa9aa",
   "metadata": {
    "lines_to_next_cell": 1
   },
   "outputs": [],
   "source": [
    "from doctest import run_docstring_examples\n",
    "\n",
    "def run_doctests(func):\n",
    "    run_docstring_examples(func, globals(), name=func.__name__)\n",
    "\n",
    "run_doctests(shift_word)"
   ]
  },
  {
   "cell_type": "markdown",
   "id": "b7f40799",
   "metadata": {},
   "source": [
    "### Egzèsis\n",
    "\n",
    "Ekri yon fonksyon ki rele `most_frequent_letters` ki pran yon chèn epi enprime lèt yo an lòd desandan dapre frekans.\n",
    "\n",
    "Pou jwenn eleman yo an lòd desandan, ou ka itilize `reversed` ansanm ak `sorted` oswa ou ka pase `reverse=True` kòm paramèt mo kle bay `sorted`."
   ]
  },
  {
   "cell_type": "markdown",
   "id": "dc48c329",
   "metadata": {},
   "source": [
    "Ou ka itilize eskiz fonksyon sa a pou kòmanse."
   ]
  },
  {
   "cell_type": "code",
   "execution_count": null,
   "id": "324a2653",
   "metadata": {
    "lines_to_next_cell": 1
   },
   "outputs": [],
   "source": [
    "def most_frequent_letters(string):\n",
    "    return None"
   ]
  },
  {
   "cell_type": "code",
   "execution_count": null,
   "id": "2cbedd32",
   "metadata": {},
   "outputs": [],
   "source": [
    "# Solisyon pral mete la"
   ]
  },
  {
   "cell_type": "markdown",
   "id": "cadbbcdc",
   "metadata": {},
   "source": [
    "E egzanp sa a pou teste fonksyon ou."
   ]
  },
  {
   "cell_type": "code",
   "execution_count": null,
   "id": "2a64b4cb",
   "metadata": {},
   "outputs": [],
   "source": [
    "most_frequent_letters('brontosaurus')"
   ]
  },
  {
   "cell_type": "markdown",
   "id": "bb2095e7",
   "metadata": {},
   "source": [
    "Lè fonksyon ou ap mache, ou ka itilize kòd sa a pou enprime lèt ki pi komen nan *Dracula*, ke nou ka telechaje soti nan Project Gutenberg."
   ]
  },
  {
   "cell_type": "code",
   "execution_count": null,
   "id": "406322bb",
   "metadata": {},
   "outputs": [],
   "source": [
    "download('https://www.gutenberg.org/cache/epub/345/pg345.txt');"
   ]
  },
  {
   "cell_type": "code",
   "execution_count": null,
   "id": "ecc012ef",
   "metadata": {},
   "outputs": [],
   "source": [
    "string = open('pg345.txt').read()\n",
    "most_frequent_letters(string)"
   ]
  },
  {
   "cell_type": "markdown",
   "id": "54e9024b",
   "metadata": {},
   "source": [
    "Dapre Zim \"Codes and Secret Writing\", sekans lèt an lòd desandan freq an Angle kòmanse ak \"ETAONRISH\".\n",
    "Kòman sekans sa a konpare ak rezilta soti *Dracula*?"
   ]
  },
  {
   "cell_type": "markdown",
   "id": "7a923df5",
   "metadata": {},
   "source": [
    "### Egzèsis\n",
    "\n",
    "Nan yon egzèsis anvan, nou te teste si de chèn se anagram pa triye lèt yo nan toude mo yo epi tcheke si lèt triye yo menm.\n",
    "Kounye a ann fè pwoblèm nan pi difisil.\n",
    "\n",
    "Nou pral ekri yon pwogram ki pran yon lis mo epi enprime tout ansanbl mo ki se anagram.\n",
    "Men yon egzanp rezilta a te ka sanble:\n",
    "\n",
    "    ['deltas', 'desalt', 'lasted', 'salted', 'slated', 'staled']\n",
    "    ['retainers', 'ternaries']\n",
    "    ['generating', 'greatening']\n",
    "    ['resmelts', 'smelters', 'termless']\n",
    "\n",
    "Sijesyon: Pou chak mo nan lis mo a, triye lèt yo epi reyini yo an yon chèn.\n",
    "Fè yon diksyonè ki map soti chèn triye sa a jiska lis mo ki se anagram li yo."
   ]
  },
  {
   "cell_type": "markdown",
   "id": "c5b6641e",
   "metadata": {},
   "source": [
    "Selil sa yo telechaje `words.txt` ak li mo yo an lis."
   ]
  },
  {
   "cell_type": "code",
   "execution_count": null,
   "id": "f3ef9bf7",
   "metadata": {},
   "outputs": [],
   "source": [
    "download('https://raw.githubusercontent.com/AllenDowney/ThinkPython/v3/words.txt');"
   ]
  },
  {
   "cell_type": "code",
   "execution_count": null,
   "id": "808d3d88",
   "metadata": {
    "lines_to_next_cell": 1
   },
   "outputs": [],
   "source": [
    "word_list = open('words.txt').read().split()"
   ]
  },
  {
   "cell_type": "markdown",
   "id": "20202009",
   "metadata": {},
   "source": [
    "Men fonksyon `sort_word` nou te itilize anvan."
   ]
  },
  {
   "cell_type": "code",
   "execution_count": null,
   "id": "d6fb95e2",
   "metadata": {
    "lines_to_next_cell": 1
   },
   "outputs": [],
   "source": [
    "def sort_word(word):\n",
    "    return ''.join(sorted(word))"
   ]
  },
  {
   "cell_type": "code",
   "execution_count": null,
   "id": "52c31d13",
   "metadata": {},
   "outputs": [],
   "source": [
    "# Solisyon pral mete la"
   ]
  },
  {
   "cell_type": "markdown",
   "id": "171272c9",
   "metadata": {},
   "source": [
    "Pou jwenn lis anagram ki pi long la, ou ka itilize fonksyon sa a, ki pran yon pè kle-valè kote kle a se yon chèn ak valè a se yon lis mo.\n",
    "Li retounen longè lis la."
   ]
  },
  {
   "cell_type": "code",
   "execution_count": null,
   "id": "985360dd",
   "metadata": {
    "lines_to_next_cell": 1
   },
   "outputs": [],
   "source": [
    "def value_length(pair):\n",
    "    key, value = pair\n",
    "    return len(value)"
   ]
  },
  {
   "cell_type": "markdown",
   "id": "6776ab11",
   "metadata": {},
   "source": [
    "Nou ka itilize fonksyon sa a kòm kle tri pou jwenn lis anagram ki pi long yo."
   ]
  },
  {
   "cell_type": "code",
   "execution_count": null,
   "id": "e05d4b6e",
   "metadata": {},
   "outputs": [],
   "source": [
    "anagram_items = sorted(anagram_dict.items(), key=value_length)\n",
    "for key, value in anagram_items[-10:]:\n",
    "    print(value)"
   ]
  },
  {
   "cell_type": "markdown",
   "id": "967f29c2",
   "metadata": {},
   "source": [
    "Si ou vle konnen mo ki pi long ki gen anagram, ou ka itilize bouk sa a pou enprime kèk ladan yo."
   ]
  },
  {
   "cell_type": "code",
   "execution_count": null,
   "id": "e0e87629",
   "metadata": {
    "lines_to_next_cell": 1
   },
   "outputs": [],
   "source": [
    "longest = 7\n",
    "\n",
    "for key, value in anagram_items:\n",
    "    if len(value) > 1:\n",
    "        word_len = len(value[0])\n",
    "        if word_len > longest:\n",
    "            longest = word_len\n",
    "            print(value)"
   ]
  },
  {
   "cell_type": "markdown",
   "id": "91f084c4",
   "metadata": {},
   "source": [
    "### Egzèsis\n",
    "\n",
    "Ekri yon fonksyon `word_distance` ki pran de mo ki gen menm longè epi retounen konbyen kote de mo yo diferan.\n",
    "\n",
    "Sijesyon: Itilize `zip` pou boukle sou lèt korespondan mo yo."
   ]
  },
  {
   "cell_type": "markdown",
   "id": "d13c7237",
   "metadata": {},
   "source": [
    "Men eskiz fonksyon an ak doctests pou tcheke fonksyon ou."
   ]
  },
  {
   "cell_type": "code",
   "execution_count": null,
   "id": "eca102b5",
   "metadata": {
    "lines_to_next_cell": 1
   },
   "outputs": [],
   "source": [
    "def word_distance(word1, word2):\n",
    "    \"\"\"Kalkile konbyen kote de mo diferan.\n",
    "\n",
    "    >>> word_distance(\"hello\", \"hxllo\")\n",
    "    1\n",
    "    >>> word_distance(\"ample\", \"apply\")\n",
    "    2\n",
    "    >>> word_distance(\"kitten\", \"mutton\")\n",
    "    3\n",
    "    \"\"\"\n",
    "    return None"
   ]
  },
  {
   "cell_type": "code",
   "execution_count": null,
   "id": "8b18030b",
   "metadata": {},
   "outputs": [],
   "source": [
    "# Solisyon pral mete la"
   ]
  },
  {
   "cell_type": "code",
   "execution_count": null,
   "id": "e1712fa2",
   "metadata": {},
   "outputs": [],
   "source": [
    "from doctest import run_docstring_examples\n",
    "\n",
    "def run_doctests(func):\n",
    "    run_docstring_examples(func, globals(), name=func.__name__)\n",
    "    \n",
    "run_doctests(word_distance)"
   ]
  },
  {
   "cell_type": "markdown",
   "id": "57296a9d",
   "metadata": {},
   "source": [
    "### Egzèsis\n",
    "\n",
    "\"Metathesis\" se transpò lèt nan yon mo.\n",
    "De mo fòme yon \"metathesis pair\" si ou ka transfòme youn an lòt lè ou swap de lèt, tankou `converse` ak `conserve`.\n",
    "Ekri yon pwogram ki jwenn tout metathesis pairs yo nan lis mo a.\n",
    "\n",
    "Sijesyon: Mo nan yon metathesis pair dwe anagram youn lòt.\n",
    "\n",
    "Kredito: Egzèsis sa a enspire pa yon egzanp sou <http://puzzlers.org>."
   ]
  },
  {
   "cell_type": "code",
   "execution_count": null,
   "id": "e6ea5b3f",
   "metadata": {},
   "outputs": [],
   "source": [
    "# Solisyon pral mete la"
   ]
  },
  {
   "cell_type": "markdown",
   "id": "0345d44c",
   "metadata": {},
   "source": [
    "### Egzèsis\n",
    "\n",
    "Sa a se yon egzèsis \"bonus\" ki pa nan liv la.\n",
    "Li pi difisil pase lòt egzèsis chapit sa a, kidonk ou ka vle mande asistan vityèl pou èd, oswa retounen sou li apre ou fin li kèk lòt chapit.\n",
    "\n",
    "Men yon lòt \"Car Talk Puzzler\"\n",
    "(<http://www.cartalk.com/content/puzzlers>):\n",
    "\n",
    "> Ki pi long mo angle, ki rete yon mo angle valab,\n",
    "> lè ou retire lèt li yo youn pa youn?\n",
    ">\n",
    "> Kounye a, lèt yo ka retire depi nenpòt bout, oswa mitan, men ou\n",
    "> pa ka reòganize lèt yo. Chak fwa ou wete yon lèt, ou\n",
    "> fini ak yon lòt mo angle. Si ou fè sa, finalman\n",
    "> ou pral rive ak yon sèl lèt epi sa tou ap\n",
    "> yon mo angle — yon mo ki jwenn nan diksyonè a. Mwen vle konnen\n",
    "> ki pi long mo a ak konbyen lèt li gen?\n",
    ">\n",
    "> M ap ba ou yon egzànp modès: Sprite. Ok? Ou kòmanse\n",
    "> ak \"sprite\", ou retire yon lèt, youn anndan mo a, retire r la,\n",
    "> nou retounen ak mo \"spite\", apre nou retire e a anfen, nou retounen ak \"spit\",\n",
    "> nou retire s la, nou retounen ak \"pit\", \"it\", ak \"i\".\n",
    "\n",
    "Ekri yon pwogram pou jwenn tout mo ki ka redui konsa, epi\n",
    "jwenn pi long lan.\n",
    "\n",
    "Egzèsis sa a pi difisil pase pifò, kidonk men kèk\n",
    "sijesyon:\n",
    "\n",
    "1.  Ou ka vle ekri yon fonksyon ki pran yon mo epi kalkile\n",
    "    yon lis tout mo ou ka fòme lè ou retire yon lèt.\n",
    "    Sa yo se \"pitit\" mo yo.\n",
    "\n",
    "2.  Rekirsyònman, yon mo reduisible si nenpòt pitit li yo reduisible.\n",
    "    Kòm ka baz, ou ka konsidere chèn vid la reduisible.\n",
    "\n",
    "3.  Lis mo nou gen la a pa gen mo yon sèl lèt.\n",
    "    Kidonk ou ka bezwen ajoute \"I\" ak \"a\".\n",
    "\n",
    "4.  Pou amelyore pèfòmans pwogram ou, ou ka vle\n",
    "    memorize mo ki deja konnen kòm reduisible."
   ]
  },
  {
   "cell_type": "code",
   "execution_count": null,
   "id": "3b590b6a",
   "metadata": {},
   "outputs": [],
   "source": [
    "# Solisyon pral mete la"
   ]
  },
  {
   "cell_type": "code",
   "execution_count": null,
   "id": "148313cd",
   "metadata": {},
   "outputs": [],
   "source": [
    "# Solisyon pral mete la"
   ]
  },
  {
   "cell_type": "code",
   "execution_count": null,
   "id": "c8dcfca0",
   "metadata": {},
   "outputs": [],
   "source": [
    "# Solisyon pral mete la"
   ]
  },
  {
   "cell_type": "code",
   "execution_count": null,
   "id": "e82f9967",
   "metadata": {},
   "outputs": [],
   "source": [
    "# Solisyon pral mete la"
   ]
  },
  {
   "cell_type": "code",
   "execution_count": null,
   "id": "6b6c152a",
   "metadata": {},
   "outputs": [],
   "source": [
    "# Solisyon pral mete la"
   ]
  },
  {
   "cell_type": "code",
   "execution_count": null,
   "id": "cbe7b4ea",
   "metadata": {},
   "outputs": [],
   "source": []
  }
 ],
 "metadata": {
  "jupytext": {
   "cell_metadata_filter": "-all",
   "main_language": "python",
   "notebook_metadata_filter": "-all"
  },
  "language_info": {
   "name": "python"
  }
 },
 "nbformat": 4,
 "nbformat_minor": 5
}
