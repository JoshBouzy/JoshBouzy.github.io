{
 "cells": [
  {
   "cell_type": "markdown",
   "id": "db843776",
   "metadata": {},
   "source": [
    "Ou ka kòmande vèsyon enprime ak liv elektwonik *Think Python 3e* soti nan\n",
    "[Bookshop.org](https://bookshop.org/a/98697/9781098155438) ak\n",
    "[Amazon](https://www.amazon.com/_/dp/1098155432?smid=ATVPDKIKX0DER&_encoding=UTF8&tag=oreilly20-20&_encoding=UTF8&tag=greenteapre01-20&linkCode=ur2&linkId=e2a529f94920295d27ec8a06e757dc7c&camp=1789&creative=9325)."
   ]
  },
  {
   "cell_type": "code",
   "execution_count": null,
   "id": "c9e36467",
   "metadata": {},
   "outputs": [],
   "source": [
    "from os.path import basename, exists\n",
    "\n",
    "def download(url):\n",
    "    filename = basename(url)\n",
    "    if not exists(filename):\n",
    "        from urllib.request import urlretrieve\n",
    "\n",
    "        local, _ = urlretrieve(url, filename)\n",
    "        print(\"Downloaded \" + str(local))\n",
    "    return filename\n",
    "\n",
    "download('https://github.com/AllenDowney/ThinkPython/raw/v3/thinkpython.py');\n",
    "download('https://github.com/AllenDowney/ThinkPython/raw/v3/diagram.py');\n",
    "\n",
    "import thinkpython"
   ]
  },
  {
   "cell_type": "markdown",
   "id": "1e164fe4",
   "metadata": {},
   "source": [
    "# Diksyonè\n",
    "\n",
    "Chapit sa a prezante yon tip bati-an ki rele diksyonè.\n",
    "Se youn nan pi bon karakteristik Python — epi baz anpil algoritm efikas ak elegant.\n",
    "\n",
    "Nou pral itilize diksyonè pou kalkile konbyen mo inik ki gen nan yon liv epi konbyen fwa chak mo parèt.\n",
    "E nan egzèsis yo, nou pral itilize diksyonè pou rezoud devinèt mo."
   ]
  },
  {
   "cell_type": "markdown",
   "id": "bb8edbba",
   "metadata": {},
   "source": [
    "## Yon diksyonè se yon map (koreo)\n",
    "\n",
    "Yon **diksyonè** sanble ak yon lis, men pi jeneral.\n",
    "Nan yon lis, indèks yo dwe antye; nan yon diksyonè yo ka (prèske) nenpòt tip.\n",
    "Pa egzanp, imajine nou fè yon lis mo-chif, konsa."
   ]
  },
  {
   "cell_type": "code",
   "execution_count": null,
   "id": "2c45cc83",
   "metadata": {},
   "outputs": [],
   "source": [
    "lst = ['zero', 'one', 'two']"
   ]
  },
  {
   "cell_type": "markdown",
   "id": "a7d07b77",
   "metadata": {},
   "source": [
    "Nou ka itilize yon antye kòm indèks pou jwenn mo ki koresponn lan."
   ]
  },
  {
   "cell_type": "code",
   "execution_count": null,
   "id": "a2852c95",
   "metadata": {},
   "outputs": [],
   "source": [
    "lst[1]"
   ]
  },
  {
   "cell_type": "markdown",
   "id": "f00bc1d1",
   "metadata": {},
   "source": [
    "Men imajine nou vle ale nan lòt direksyon an, epi chèche yon mo pou jwenn chif ki koresponn lan.\n",
    "Nou pa ka fè sa ak yon lis, men nou ka ak yon diksyonè.\n",
    "Nou pral kòmanse pa kreye yon diksyonè vid epi afekte li a `numbers`."
   ]
  },
  {
   "cell_type": "code",
   "execution_count": null,
   "id": "1cc9aff1",
   "metadata": {},
   "outputs": [],
   "source": [
    "numbers = {}\n",
    "numbers"
   ]
  },
  {
   "cell_type": "markdown",
   "id": "a76ffb1b",
   "metadata": {},
   "source": [
    "Akolad vid `{}` reprezante yon diksyonè vid.\n",
    "Pou ajoute eleman nan diksyonè a, nou pral itilize crochets."
   ]
  },
  {
   "cell_type": "code",
   "execution_count": null,
   "id": "96ad4dda",
   "metadata": {},
   "outputs": [],
   "source": [
    "numbers['zero'] = 0"
   ]
  },
  {
   "cell_type": "markdown",
   "id": "bd636eac",
   "metadata": {},
   "source": [
    "Afektasyon sa a ajoute yon **eleman** nan diksyonè a, ki reprezante asosyasyon yon **kle** ak yon **valè**.\n",
    "Nan egzanp sa a, kle a se chèn `'zero'` ak valè a se antye `0`.\n",
    "Si nou montre diksyonè a, nou wè li gen yon eleman, ki gen yon kle ak yon valè separe pa yon kolon `:`."
   ]
  },
  {
   "cell_type": "code",
   "execution_count": null,
   "id": "e268ada2",
   "metadata": {},
   "outputs": [],
   "source": [
    "numbers"
   ]
  },
  {
   "cell_type": "markdown",
   "id": "e9145851",
   "metadata": {},
   "source": [
    "Nou ka ajoute plis eleman konsa."
   ]
  },
  {
   "cell_type": "code",
   "execution_count": null,
   "id": "4879e04f",
   "metadata": {},
   "outputs": [],
   "source": [
    "numbers['one'] = 1\n",
    "numbers['two'] = 2\n",
    "numbers"
   ]
  },
  {
   "cell_type": "markdown",
   "id": "66efa468",
   "metadata": {},
   "source": [
    "Kounye a diksyonè a gen twa eleman.\n",
    "\n",
    "Pou chèche yon kle epi jwenn valè ki koresponn lan, nou itilize operatè crochet."
   ]
  },
  {
   "cell_type": "code",
   "execution_count": null,
   "id": "1d9c3faa",
   "metadata": {},
   "outputs": [],
   "source": [
    "numbers['two']"
   ]
  },
  {
   "cell_type": "markdown",
   "id": "b5c17ccd",
   "metadata": {},
   "source": [
    "Si kle a pa nan diksyonè a, nou jwenn `KeyError`."
   ]
  },
  {
   "cell_type": "code",
   "execution_count": null,
   "id": "eced44c0",
   "metadata": {},
   "outputs": [],
   "source": [
    "%%expect KeyError\n",
    "numbers['three']"
   ]
  },
  {
   "cell_type": "markdown",
   "id": "907e62eb",
   "metadata": {},
   "source": [
    "Fonksyon `len` mache sou diksyonè; li retounen konbyen eleman ki gen."
   ]
  },
  {
   "cell_type": "code",
   "execution_count": null,
   "id": "37ad328d",
   "metadata": {},
   "outputs": [],
   "source": [
    "len(numbers)"
   ]
  },
  {
   "cell_type": "markdown",
   "id": "9366f7f5",
   "metadata": {},
   "source": [
    "An tèm matematik, yon diksyonè reprezante yon **map** soti nan kle jiska valè, kidonk ou ka di chak kle \"korije\" (map) a yon valè.\n",
    "Nan egzanp sa a, chak mo-chif korije a antye ki koresponn lan.\n",
    "\n",
    "Dyagram eta ki anba a montre `numbers`."
   ]
  },
  {
   "cell_type": "code",
   "execution_count": null,
   "id": "abc2c44b",
   "metadata": {},
   "outputs": [],
   "source": [
    "from diagram import make_dict, Binding, Value\n",
    "\n",
    "d1 = make_dict(numbers, dy=-0.3, offsetx=0.37)\n",
    "binding1 = Binding(Value('numbers'), d1)"
   ]
  },
  {
   "cell_type": "code",
   "execution_count": null,
   "id": "a6e630dc",
   "metadata": {},
   "outputs": [],
   "source": [
    "from diagram import diagram, adjust, Bbox\n",
    "\n",
    "width, height, x, y = [1.83, 1.24, 0.49, 0.85]\n",
    "ax = diagram(width, height)\n",
    "bbox = binding1.draw(ax, x, y)\n",
    "#adjust(x, y, bbox)"
   ]
  },
  {
   "cell_type": "markdown",
   "id": "6255a137",
   "metadata": {},
   "source": [
    "Yon diksyonè reprezante pa yon bwat ak mo \"dict\" deyò epi eleman yo anndan.\n",
    "Chak eleman reprezante pa yon kle ak yon flèch ki pwenyen sou valè a.\n",
    "Giyòm yo endike ke kle yo se chèn, pa non varyab."
   ]
  },
  {
   "cell_type": "markdown",
   "id": "9893c7e1",
   "metadata": {},
   "source": [
    "## Kreye diksyonè\n",
    "\n",
    "Nan seksyon anvan an nou te kreye yon diksyonè vid epi ajoute eleman youn pa youn ak operatè crochet.\n",
    "Olye sa, nou te ka kreye diksyonè a tout bon an menm tan konsa."
   ]
  },
  {
   "cell_type": "code",
   "execution_count": null,
   "id": "c214e456",
   "metadata": {},
   "outputs": [],
   "source": [
    "numbers = {'zero': 0, 'one': 1, 'two': 2}"
   ]
  },
  {
   "cell_type": "markdown",
   "id": "03e82ba1",
   "metadata": {},
   "source": [
    "Chak eleman konpoze de yon kle ak yon valè separe pa yon kolon.\n",
    "Eleman yo separe pa vigil epi anbraye nan akolad.\n",
    "\n",
    "Yon lòt fason pou kreye yon diksyonè se itilize fonksyon `dict`.\n",
    "Nou ka fè yon diksyonè vid konsa."
   ]
  },
  {
   "cell_type": "code",
   "execution_count": null,
   "id": "f6d71298",
   "metadata": {},
   "outputs": [],
   "source": [
    "empty = dict()\n",
    "empty"
   ]
  },
  {
   "cell_type": "markdown",
   "id": "58b5bd1b",
   "metadata": {},
   "source": [
    "E nou ka fè yon kopi diksyonè konsa."
   ]
  },
  {
   "cell_type": "code",
   "execution_count": null,
   "id": "adbfb1f5",
   "metadata": {},
   "outputs": [],
   "source": [
    "numbers_copy = dict(numbers)\n",
    "numbers_copy"
   ]
  },
  {
   "cell_type": "markdown",
   "id": "55dc3d48",
   "metadata": {},
   "source": [
    "Li souvan itil fè yon kopi anvan nou fè operasyon ki modifye diksyonè yo."
   ]
  },
  {
   "cell_type": "markdown",
   "id": "e82c5208",
   "metadata": {},
   "source": [
    "## Operatè in\n",
    "\n",
    "Operatè `in` mache sou diksyonè tou; li di ou si yon bagay parèt kòm *kle* nan diksyonè a."
   ]
  },
  {
   "cell_type": "code",
   "execution_count": null,
   "id": "8890c1c7",
   "metadata": {},
   "outputs": [],
   "source": [
    "'one' in numbers"
   ]
  },
  {
   "cell_type": "markdown",
   "id": "996a3fd4",
   "metadata": {},
   "source": [
    "Operatè `in` pa tcheke si yon bagay parèt kòm valè."
   ]
  },
  {
   "cell_type": "code",
   "execution_count": null,
   "id": "f8dc79f6",
   "metadata": {},
   "outputs": [],
   "source": [
    "1 in numbers"
   ]
  },
  {
   "cell_type": "markdown",
   "id": "badda813",
   "metadata": {},
   "source": [
    "Pou wè si yon bagay parèt kòm valè nan yon diksyonè, ou ka itilize metòd `values`, ki retounen yon sekans valè, epi apre sa itilize operatè `in`."
   ]
  },
  {
   "cell_type": "code",
   "execution_count": null,
   "id": "f1896f87",
   "metadata": {},
   "outputs": [],
   "source": [
    "1 in numbers.values()"
   ]
  },
  {
   "cell_type": "markdown",
   "id": "302abc38",
   "metadata": {},
   "source": [
    "Eleman yo anndan yon diksyonè Python anstoke nan yon **tablo hash**, ki se yon fason pou òganize done ak yon pwopriyete remakab: operatè `in` pran apeprè menm tan an pa gen pwoblèm konbyen eleman diksyonè a gen.\n",
    "Sa fè li posib ekri algoritm ekstraòdinèman efikas."
   ]
  },
  {
   "cell_type": "code",
   "execution_count": null,
   "id": "e680a6c7",
   "metadata": {},
   "outputs": [],
   "source": [
    "download('https://raw.githubusercontent.com/AllenDowney/ThinkPython/v3/words.txt');"
   ]
  },
  {
   "cell_type": "markdown",
   "id": "a8f75ead",
   "metadata": {},
   "source": [
    "Pou demontre, nou pral konpare de algoritm pou jwenn pè mo kote youn se anver (reverse) lòt la — tankou `stressed` ak `desserts`.\n",
    "Nou pral kòmanse pa li lis mo a."
   ]
  },
  {
   "cell_type": "code",
   "execution_count": null,
   "id": "68d35362",
   "metadata": {
    "lines_to_next_cell": 1
   },
   "outputs": [],
   "source": [
    "word_list = open('words.txt').read().split()\n",
    "len(word_list)"
   ]
  },
  {
   "cell_type": "markdown",
   "id": "268fae37",
   "metadata": {},
   "source": [
    "Men `reverse_word` soti nan chapit anvan an."
   ]
  },
  {
   "cell_type": "code",
   "execution_count": null,
   "id": "07bc0a40",
   "metadata": {
    "lines_to_next_cell": 1
   },
   "outputs": [],
   "source": [
    "def reverse_word(word):\n",
    "    return ''.join(reversed(word))"
   ]
  },
  {
   "cell_type": "markdown",
   "id": "6aa99c72",
   "metadata": {},
   "source": [
    "Fonksyon sa a fe bouk sou mo nan lis la.\n",
    "Pou chak mo, li vire lèt yo epi apre sa tcheke si mo vire a nan lis la."
   ]
  },
  {
   "cell_type": "code",
   "execution_count": null,
   "id": "24e58059",
   "metadata": {
    "lines_to_next_cell": 1
   },
   "outputs": [],
   "source": [
    "def too_slow():\n",
    "    count = 0\n",
    "    for word in word_list:\n",
    "        if reverse_word(word) in word_list:\n",
    "            count += 1\n",
    "    return count"
   ]
  },
  {
   "cell_type": "markdown",
   "id": "edb0b556",
   "metadata": {},
   "source": [
    "Fonksyon sa a pran plis pase yon minit pou kouri.\n",
    "Pwoblèm lan se operatè `in` ap tcheke mo yo nan lis la youn pa youn, kòmanse depi kòmansman.\n",
    "Si li pa jwenn sa l ap chèche — sa ki rive pi fò fwa — li dwe fouye jiska fen."
   ]
  },
  {
   "cell_type": "code",
   "execution_count": null,
   "id": "64bf9d31",
   "metadata": {},
   "outputs": [],
   "source": [
    "# %time too_slow()"
   ]
  },
  {
   "cell_type": "markdown",
   "id": "6f4e9cdb",
   "metadata": {},
   "source": [
    "E operatè `in` la anndan bouk la, kidonk li kouri yon fwa pou chak mo.\n",
    "Paske gen plis pase 100,000 mo nan lis la, epi pou chak yonn nou tcheke plis pase 100,000 mo, kantite konparezon total la se kantite mo a kare — apeprè — ki se prèske 13 milya."
   ]
  },
  {
   "cell_type": "code",
   "execution_count": null,
   "id": "282ed608",
   "metadata": {},
   "outputs": [],
   "source": [
    "len(word_list)**2"
   ]
  },
  {
   "cell_type": "markdown",
   "id": "b4e43ba2",
   "metadata": {},
   "source": [
    "Nou ka fè fonksyon sa a pi rapid ak yon diksyonè.\n",
    "Bouk sa a kreye yon diksyonè ki gen mo yo kòm kle."
   ]
  },
  {
   "cell_type": "code",
   "execution_count": null,
   "id": "dc30a90c",
   "metadata": {
    "lines_to_next_cell": 1
   },
   "outputs": [],
   "source": [
    "word_dict = {}\n",
    "for word in word_list:\n",
    "    word_dict[word] = 1"
   ]
  },
  {
   "cell_type": "markdown",
   "id": "acd5fd41",
   "metadata": {},
   "source": [
    "Valè `1` yo pa vrèman enpòtan, paske nou pap janm gade yo — nou pral sèlman itilize diksyonè sa a pou tcheke si yon kle egziste.\n",
    "\n",
    "Men kounye a yon vèsyon fonksyon anvan an ki ranplase `word_list` pa `word_dict`."
   ]
  },
  {
   "cell_type": "code",
   "execution_count": null,
   "id": "2ecb4b59",
   "metadata": {
    "lines_to_next_cell": 1
   },
   "outputs": [],
   "source": [
    "def much_faster():\n",
    "    count = 0\n",
    "    for word in word_dict:\n",
    "        if reverse_word(word) in word_dict:\n",
    "            count += 1\n",
    "    return count"
   ]
  },
  {
   "cell_type": "markdown",
   "id": "e048f868",
   "metadata": {},
   "source": [
    "Fonksyon sa a pran mwens pase yon santyèm de segonn, kidonk li apeprè 10,000 fwa pi rapid pase vèsyon anvan an."
   ]
  },
  {
   "cell_type": "code",
   "execution_count": null,
   "id": "b7c43366",
   "metadata": {},
   "outputs": [],
   "source": [
    "%time much_faster()"
   ]
  },
  {
   "cell_type": "markdown",
   "id": "94c4cca1",
   "metadata": {},
   "source": [
    "An jeneral, tan li pran pou jwenn yon eleman nan yon lis pwopòsyònèl ak longè lis la.\n",
    "Tan li pran pou jwenn yon kle nan yon diksyonè prèske fiks — malgre konbyen eleman li gen."
   ]
  },
  {
   "cell_type": "code",
   "execution_count": null,
   "id": "7d79e986",
   "metadata": {},
   "outputs": [],
   "source": [
    "d = {'a': 1, 'b': 2}\n",
    "d['a'] = 3\n",
    "d"
   ]
  },
  {
   "cell_type": "markdown",
   "id": "d3b37288",
   "metadata": {},
   "source": [
    "## Yon koleksyon count (counters)\n",
    "\n",
    "Imajine ou gen yon chèn epi ou vle konte konbyen fwa chak lèt parèt.\n",
    "Yon diksyonè se yon bon zouti pou sa.\n",
    "Nou pral kòmanse ak yon diksyonè vid."
   ]
  },
  {
   "cell_type": "code",
   "execution_count": null,
   "id": "3e16edf6",
   "metadata": {},
   "outputs": [],
   "source": [
    "counter = {}"
   ]
  },
  {
   "cell_type": "markdown",
   "id": "43d9a802",
   "metadata": {},
   "source": [
    "Pandan nou fe bouk sou lèt yo nan chèn lan, imajine nou wè lèt `'a'` pou premye fwa.\n",
    "Nou ka ajoute li nan diksyonè a konsa."
   ]
  },
  {
   "cell_type": "code",
   "execution_count": null,
   "id": "b2f77e90",
   "metadata": {},
   "outputs": [],
   "source": [
    "counter['a'] = 1"
   ]
  },
  {
   "cell_type": "markdown",
   "id": "54819a96",
   "metadata": {},
   "source": [
    "Valè `1` la endike nou te wè lèt la yon fwa.\n",
    "Pita, si nou wè menm lèt ankò, nou ka inkremante count lan konsa."
   ]
  },
  {
   "cell_type": "code",
   "execution_count": null,
   "id": "651fca91",
   "metadata": {},
   "outputs": [],
   "source": [
    "counter['a'] += 1"
   ]
  },
  {
   "cell_type": "markdown",
   "id": "d66fd971",
   "metadata": {},
   "source": [
    "Kounye a valè asosye ak `'a'` se `2`, paske nou te wè lèt la de fwa."
   ]
  },
  {
   "cell_type": "code",
   "execution_count": null,
   "id": "b0a0b0e4",
   "metadata": {
    "lines_to_next_cell": 1
   },
   "outputs": [],
   "source": [
    "counter"
   ]
  },
  {
   "cell_type": "markdown",
   "id": "e063b826",
   "metadata": {},
   "source": [
    "Fonksyon sa a itilize karakteristik sa yo pou konte konbyen fwa chak lèt parèt nan yon chèn."
   ]
  },
  {
   "cell_type": "code",
   "execution_count": null,
   "id": "eaa9cef3",
   "metadata": {
    "lines_to_next_cell": 1
   },
   "outputs": [],
   "source": [
    "def value_counts(string):\n",
    "    counter = {}\n",
    "    for letter in string:\n",
    "        if letter not in counter:\n",
    "            counter[letter] = 1\n",
    "        else:\n",
    "            counter[letter] += 1\n",
    "    return counter"
   ]
  },
  {
   "cell_type": "markdown",
   "id": "749d3ec2",
   "metadata": {},
   "source": [
    "Chak fwa nou pase nan bouk la, si `letter` pa nan diksyonè a, nou kreye yon nouvo eleman ak kle `letter` ak valè `1`.\n",
    "Si `letter` deja nan diksyonè a, nou inkremante valè ki asosye a `letter`.\n",
    "\n",
    "Men yon egzanp."
   ]
  },
  {
   "cell_type": "code",
   "execution_count": null,
   "id": "3d799e5a",
   "metadata": {},
   "outputs": [],
   "source": [
    "counter = value_counts('brontosaurus')\n",
    "counter"
   ]
  },
  {
   "cell_type": "markdown",
   "id": "3bfd8a9b",
   "metadata": {},
   "source": [
    "Eleman ki `counter` yo montre ke lèt `'b'` parèt yon fwa, `'r'` parèt de fwa, etsetera."
   ]
  },
  {
   "cell_type": "markdown",
   "id": "8f1bba47",
   "metadata": {},
   "source": [
    "## Boukle ak diksyonè\n",
    "\n",
    "Si ou itilize yon diksyonè nan yon enstriksyon `for`, li travèse kle yo.\n",
    "Pou demontre, ann fè yon diksyonè ki konte lèt `banana`."
   ]
  },
  {
   "cell_type": "code",
   "execution_count": null,
   "id": "9328812c",
   "metadata": {},
   "outputs": [],
   "source": [
    "counter = value_counts('banana')\n",
    "counter"
   ]
  },
  {
   "cell_type": "markdown",
   "id": "49763bcc",
   "metadata": {},
   "source": [
    "Bouk sa a enprime kle yo, ki se lèt yo."
   ]
  },
  {
   "cell_type": "code",
   "execution_count": null,
   "id": "6f6e447f",
   "metadata": {},
   "outputs": [],
   "source": [
    "for key in counter:\n",
    "    print(key)"
   ]
  },
  {
   "cell_type": "markdown",
   "id": "8fba6cc9",
   "metadata": {},
   "source": [
    "Pou enprime valè yo, nou ka itilize metòd `values`."
   ]
  },
  {
   "cell_type": "code",
   "execution_count": null,
   "id": "ddb60c99",
   "metadata": {},
   "outputs": [],
   "source": [
    "for value in counter.values():\n",
    "    print(value)"
   ]
  },
  {
   "cell_type": "markdown",
   "id": "5e26e7b5",
   "metadata": {},
   "source": [
    "Pou enprime kle ak valè, nou ka boukle sou kle yo epi fouye valè ki koresponn lan."
   ]
  },
  {
   "cell_type": "code",
   "execution_count": null,
   "id": "0d646792",
   "metadata": {},
   "outputs": [],
   "source": [
    "for key in counter:\n",
    "    value = counter[key]\n",
    "    print(key, value)"
   ]
  },
  {
   "cell_type": "markdown",
   "id": "66931756",
   "metadata": {},
   "source": [
    "Nan chapit pwochen an, nou pral wè yon fason pi kout pou fè menm bagay la."
   ]
  },
  {
   "cell_type": "markdown",
   "id": "afedec91",
   "metadata": {},
   "source": [
    "## Lis ak diksyonè\n",
    "\n",
    "Ou ka mete yon lis anndan yon diksyonè kòm valè.\n",
    "Pa egzanp, men yon diksyonè ki korije soti nan chif `4` jiska yon lis kat lèt."
   ]
  },
  {
   "cell_type": "code",
   "execution_count": null,
   "id": "9ec341bf",
   "metadata": {},
   "outputs": [],
   "source": [
    "d = {4: ['r', 'o', 'u', 's']}\n",
    "d"
   ]
  },
  {
   "cell_type": "markdown",
   "id": "3be72bd3",
   "metadata": {},
   "source": [
    "Men ou pa ka mete yon lis kòm kle.\n",
    "Men sa k pase si nou eseye."
   ]
  },
  {
   "cell_type": "code",
   "execution_count": null,
   "id": "146d51af",
   "metadata": {
    "lines_to_next_cell": 1
   },
   "outputs": [],
   "source": [
    "%%expect TypeError\n",
    "letters = list('abcd')\n",
    "d[letters] = 4"
   ]
  },
  {
   "cell_type": "markdown",
   "id": "8a5a91d9",
   "metadata": {},
   "source": [
    "Mwen te mansyone pi bonè ke diksyonè yo itilize tablo hash, sa vle di kle yo dwe **hashable**.\n",
    "\n",
    "Yon **hash** se yon fonksyon ki pran yon valè (de nenpòt kalite) epi retounen yon antye.\n",
    "Diksyonè yo itilize antye sa yo, rele hash valè, pou stoke ak fouye kle yo.\n",
    "\n",
    "Sistèm sa a mache sèlman si kle a imutabl, konsa hash valè li a toujou menm.\n",
    "Men si kle a chanjab, hash valè a ta ka chanje, epi diksyonè a pa t ap mache.\n",
    "Se poutèt sa kle yo dwe hashable, epi tip chanjab tankou lis pa hashable.\n",
    "\n",
    "Paske diksyonè chanjab tou, yo pa ka itilize kòm kle.\n",
    "Men yo *ka* itilize kòm valè."
   ]
  },
  {
   "cell_type": "markdown",
   "id": "36cca102",
   "metadata": {},
   "source": [
    "## Akimile yon lis\n",
    "\n",
    "Pou anpil travay pwogramasyon, li itil pou boukle sou yon lis oswa diksyonè pandan n ap konstwi yon lòt.\n",
    "Pa egzanp, nou pral boukle sou mo nan `word_dict` epi fè yon lis palindwòm — sa vle di mo ki òtograf yo menm anvan ak anaryè, tankou \"noon\" ak \"rotator\".\n",
    "\n",
    "Nan chapit anvan an, youn nan egzèsis yo te mande ou ekri yon fonksyon ki tcheke si yon mo se palindwòm.\n",
    "Men yon solisyon ki itilize `reverse_word`."
   ]
  },
  {
   "cell_type": "code",
   "execution_count": null,
   "id": "098daf7d",
   "metadata": {
    "lines_to_next_cell": 1
   },
   "outputs": [],
   "source": [
    "def is_palindrome(word):\n",
    "    \"\"\"Tcheke si yon mo se palindwòm.\"\"\"\n",
    "    return reverse_word(word) == word"
   ]
  },
  {
   "cell_type": "markdown",
   "id": "9e5b34f7",
   "metadata": {},
   "source": [
    "Si nou boukle sou mo yo nan `word_dict`, nou ka konte konbyen palindwòm ki gen konsa."
   ]
  },
  {
   "cell_type": "code",
   "execution_count": null,
   "id": "948fa895",
   "metadata": {},
   "outputs": [],
   "source": [
    "count = 0\n",
    "\n",
    "for word in word_dict:\n",
    "    if is_palindrome(word):\n",
    "        count +=1\n",
    "        \n",
    "count"
   ]
  },
  {
   "cell_type": "markdown",
   "id": "3beb8b8d",
   "metadata": {},
   "source": [
    "Kounye a, model sa a famitye.\n",
    "\n",
    "* Anvan bouk la, `count` inisyalize a `0`.\n",
    "\n",
    "* Anndan bouk la, si `word` se palindwòm, nou inkremante `count`.\n",
    "\n",
    "* Lè bouk la fini, `count` gen kantite total palindwòm yo.\n",
    "\n",
    "Nou ka itilize menm modèl la pou fè yon lis palindwòm."
   ]
  },
  {
   "cell_type": "code",
   "execution_count": null,
   "id": "fcb71268",
   "metadata": {},
   "outputs": [],
   "source": [
    "palindromes = []\n",
    "\n",
    "for word in word_dict:\n",
    "    if is_palindrome(word):\n",
    "        palindromes.append(word)\n",
    "\n",
    "palindromes[:10]"
   ]
  },
  {
   "cell_type": "markdown",
   "id": "556823c9",
   "metadata": {},
   "source": [
    "Men ki jan sa mache:\n",
    "\n",
    "* Anvan bouk la, `palindromes` inisyalize ak yon lis vid.\n",
    "\n",
    "* Anndan bouk la, si `word` se palindwòm, nou ajoute li nan fen `palindromes`.\n",
    "\n",
    "* Lè bouk la fini, `palindromes` se yon lis palindwòm.\n",
    "\n",
    "Nan bouk sa a, `palindromes` itilize kòm yon **akimilatè**, ki se yon varyab ki ranmase oswa akimile done pandan kalkil la.\n",
    "\n",
    "Kounye a imajine nou vle chwazi sèlman palindwòm ki gen 7 lèt oswa plis.\n",
    "Nou ka boukle sou `palindromes` epi fè yon nouvo lis ki gen sèlman long palindwòm."
   ]
  },
  {
   "cell_type": "code",
   "execution_count": null,
   "id": "99802707",
   "metadata": {
    "lines_to_next_cell": 1
   },
   "outputs": [],
   "source": [
    "long_palindromes = []\n",
    "\n",
    "for word in palindromes:\n",
    "    if len(word) >= 7:\n",
    "        long_palindromes.append(word)\n",
    "        \n",
    "long_palindromes"
   ]
  },
  {
   "cell_type": "markdown",
   "id": "c255500a",
   "metadata": {},
   "source": [
    "Boukle sou yon lis konsa, chwazi kèk eleman epi sote lòt yo, rele **filtraj** (filtering)."
   ]
  },
  {
   "cell_type": "markdown",
   "id": "1e67be25",
   "metadata": {},
   "source": [
    "## Memos\n",
    "\n",
    "Si ou te kouri fonksyon `fibonacci` soti nan [Chapit 6](section_fibonacci), petèt ou te remake ke pi gwo agiman ou bay, pi lontan fonksyon an pran pou kouri."
   ]
  },
  {
   "cell_type": "code",
   "execution_count": null,
   "id": "0e31779c",
   "metadata": {
    "lines_to_next_cell": 1
   },
   "outputs": [],
   "source": [
    "def fibonacci(n):\n",
    "    if n == 0:\n",
    "        return 0\n",
    "    \n",
    "    if n == 1:\n",
    "        return 1\n",
    "\n",
    "    return fibonacci(n-1) + fibonacci(n-2)"
   ]
  },
  {
   "cell_type": "markdown",
   "id": "5277e787",
   "metadata": {},
   "source": [
    "Anplis, tan ekzekisyon an ogmante rapidman.\n",
    "Pou konprann poukisa, konsidere dyagram sa a, ki montre **gràf apèl** pou\n",
    "`fibonacci` ak `n=4`:\n",
    "\n",
    "(Dyagram omèt, men li montre kou apèl rekur sif.)"
   ]
  },
  {
   "cell_type": "code",
   "execution_count": null,
   "id": "21a95dd6",
   "metadata": {},
   "outputs": [],
   "source": [
    "# (Not showing code for the call graph since it's just a figure)"
   ]
  },
  {
   "cell_type": "markdown",
   "id": "f651cc5c",
   "metadata": {},
   "source": [
    "Yon gràf apèl montre yon seri fonksyon frames, ak liy ki konekte chak frame ak frame fonksyon li apèl yo.\n",
    "Anwo gràf la, `fibonacci` ak `n=4` rele `fibonacci` ak `n=3` ak `n=2`.\n",
    "Apre sa, `fibonacci` ak `n=3` rele `fibonacci` ak `n=2` ak `n=1`. Etsetera.\n",
    "\n",
    "Konte konbyen fwa `fibonacci(0)` ak `fibonacci(1)` apèl.\n",
    "Sa a se yon solisyon inefikas pou pwoblèm lan, epi li vin pi mal kòm agiman an vin pi gwo.\n",
    "\n",
    "Youn solisyon se kenbe tras valè nou deja kalkile, mete yo nan yon diksyonè.\n",
    "Yon valè kalkile anvan ki estoke pou itilize pita rele yon **memo**.\n",
    "Men yon vèsyon `fibonacci` ak memo:"
   ]
  },
  {
   "cell_type": "code",
   "execution_count": null,
   "id": "124575d0",
   "metadata": {
    "lines_to_next_cell": 1
   },
   "outputs": [],
   "source": [
    "known = {0:0, 1:1}\n",
    "\n",
    "def fibonacci_memo(n):\n",
    "    if n in known:\n",
    "        return known[n]\n",
    "\n",
    "    res = fibonacci_memo(n-1) + fibonacci_memo(n-2)\n",
    "    known[n] = res\n",
    "    return res"
   ]
  },
  {
   "cell_type": "markdown",
   "id": "5a313240",
   "metadata": {},
   "source": [
    "`known` se yon diksyonè ki kenbe tras nimewo Fibonacci nou deja konnen\n",
    "Li kòmanse ak de eleman: `0` korije a `0` ak `1` korije a `1`.\n",
    "\n",
    "Chak fwa `fibonacci_memo` rele, li tcheke `known`.\n",
    "Si rezilta a deja la, li ka retounen imedyatman.\n",
    "Sinon li dwe kalkile nouvo valè a, ajoute li nan diksyonè a, epi retounen li.\n",
    "\n",
    "Konpare de fonksyon yo, `fibonacci(40)` pran anviwon 30 segonn pou kouri.\n",
    "`fibonacci_memo(40)` pran anviwon 30 mikrosgond, kidonk li yon milyon fwa pi rapid.\n",
    "Nan notebook pou chapit sa a, ou pral wè kote mezi sa yo soti."
   ]
  },
  {
   "cell_type": "markdown",
   "id": "9f9ae876",
   "metadata": {},
   "source": [
    "Pou mezire konbyen tan yon fonksyon pran, nou ka itilize `%time` ki se youn nan \"komann maji\" bati-an Jupyter yo.\n",
    "Komann sa yo pa fè pati lang Python, kidonk yo ka pa mache nan lòt anviwònman devlopman."
   ]
  },
  {
   "cell_type": "code",
   "execution_count": null,
   "id": "a0804c8e",
   "metadata": {},
   "outputs": [],
   "source": [
    "# %time fibonacci(40)"
   ]
  },
  {
   "cell_type": "code",
   "execution_count": null,
   "id": "89eb70b8",
   "metadata": {},
   "outputs": [],
   "source": [
    "%time fibonacci_memo(40)"
   ]
  },
  {
   "cell_type": "markdown",
   "id": "ba396546",
   "metadata": {},
   "source": [
    "## Debògaj\n",
    "\n",
    "Pandan ou ap travay ak pil done, li ka difisil pou debòge afiche ak tcheke rezilta a la men. Men kèk sijesyon pou debòge gwo done:\n",
    "\n",
    "1) Redui antre a: Si posib, diminye grandè seri done a. Pa egzanp, si\n",
    "   pwogram lan li yon fichye tèks, kòmanse ak sèlman 10 premye liy yo, oswa\n",
    "   ak egzanp ki pi piti ou ka jwenn. Ou ka swa modifye fichye yo\n",
    "   dirèkteman, oswa (pi bon) modifye pwogram lan pou li sèlman\n",
    "   premye `n` liy.\n",
    "\n",
    "   Si gen yon erè, ou ka diminye `n` jiskaske ou jwenn valè minimòm kote erè a rive.\n",
    "   Lè ou jwenn ak korije erè, ou ka ogmante `n` progrè siveyans."
   ]
  },
  {
   "cell_type": "markdown",
   "id": "ad87bd6f",
   "metadata": {},
   "source": [
    "2. Tcheke rezime ak tip: Olye enprime epi tcheke tout seri done a,\n",
    "   konsidere enprime rezime done yo — pa egzanp, konbyen eleman ki nan\n",
    "   diksyonè a oswa sòm total yon lis nimewo.\n",
    "\n",
    "   Yon kòz komen erè execisyon se yon valè ki pa bon tip. Pou debòge kalite erè sa a, souvan sifi enprime tip valè a."
   ]
  },
  {
   "cell_type": "markdown",
   "id": "2df30627",
   "metadata": {},
   "source": [
    "3. Ekri self-check: Pafwa ou ka ekri kòd pou tcheke erè otomatikman. Pa\n",
    "   egzanp, si ou ap kalkile mwayèn yon lis nimewo, ou\n",
    "   te ka tcheke ke rezilta a pa pi gran pase pi gran eleman\n",
    "   nan lis la oswa pi piti pase pi piti eleman an. Sa rele yon \"sanity\n",
    "   check\" paske li detekte rezilta ki \"enbesil\".\n",
    "\n",
    "   Yon lòt kalite tchek konpare rezilta de kalkil diferan pou wè si yo konsistan. Sa rele \"consistency check\"."
   ]
  },
  {
   "cell_type": "markdown",
   "id": "53d07d7e",
   "metadata": {},
   "source": [
    "4. Fòmate pwodiksyon an: Fòmate pwodiksyon debògaj la ka ede w pi fasil detekte erè. Nou te wè yon egzanp nan [Chapit 6](section_debugging_factorial). Yon lòt zouti ou ka jwenn itil se modil `pprint`, ki bay yon fonksyon `pprint` ki montre tip bati-an yo nan yon fòma plis lizib pou moun (`pprint` vle di \"pretty print\").\n",
    "\n",
    "   Ankò, tan ou pase konstwi eskafora (scaffolding) ka redui tan ou pase debòge."
   ]
  },
  {
   "cell_type": "markdown",
   "id": "6bd84bce",
   "metadata": {},
   "source": [
    "## Glosè\n",
    "\n",
    "**diksyonè:**\n",
    " Yon objè ki gen pè kle-valè, rele eleman tou.\n",
    "\n",
    "**eleman:**\n",
    " Nan yon diksyonè, yon lòt non pou yon pè kle-valè.\n",
    "\n",
    "**kle:**\n",
    " Yon objè ki parèt nan yon diksyonè kòm premye pati pè kle-valè a.\n",
    "\n",
    "**valè:**\n",
    " Yon objè ki parèt nan yon diksyonè kòm dezyèm pati pè kle-valè a. Sa pi espesifik pase anvan nou te itilize mo \"valè\".\n",
    "\n",
    "**mapping (koreo):**\n",
    "  Yon relasyon kote chak eleman yon ansanbl koresponn a yon eleman yon lòt ansanbl.\n",
    "\n",
    "**tablo hash (hash table):**\n",
    "Youn koleksyon pè kle-valè òganize pou nou ka fouye yon kle epi jwenn valè li rapid.\n",
    "\n",
    "**hashable:**\n",
    " Tip imutabl tankou antye, floan ak chèn hashable.\n",
    " Tip chanjab tankou lis ak diksyonè pa hashable.\n",
    "\n",
    "**hash function:**\n",
    "Yon fonksyon ki pran yon objè epi kalkile yon antye ki itilize pou lokalize yon kle nan yon tablo hash.\n",
    "\n",
    "**akimilatè:**\n",
    " Yon varyab ki itilize nan yon bouk pou ajoute oswa akimile yon rezilta.\n",
    "\n",
    "**filtraj:**\n",
    "Boukle sou yon sekans epi chwazi oswa sote eleman.\n",
    "\n",
    "**gràf apèl (call graph):**\n",
    "Yon dyagram ki montre chak frame kreye pandan execisyon yon pwogram, ak yon flèch soti nan chak apelan rive chak apèle.\n",
    "\n",
    "**memo:**\n",
    " Yon valè kalkile ki estoke pou evite kalkil inutil anplis."
   ]
  },
  {
   "cell_type": "markdown",
   "id": "9b80c9d8",
   "metadata": {},
   "source": [
    "## Egzèsis"
   ]
  },
  {
   "cell_type": "code",
   "execution_count": null,
   "id": "9006a532",
   "metadata": {},
   "outputs": [],
   "source": [
    "# Liy sa a di Jupyter pou bay enfòmasyon detaye sou debògaj\n",
    "# lè gen yon erè execisyon rive. Kouri li anvan ou travay sou egzèsis yo.\n",
    "\n",
    "%xmode Verbose"
   ]
  },
  {
   "cell_type": "markdown",
   "id": "7ba314f6",
   "metadata": {},
   "source": [
    "### Mande yon asistan\n",
    "\n",
    "Nan chapit sa a, mwen te di kle nan diksyonè dwe hashable epi mwen te bay yon ti eksplikasyon. Si ou vle plis detay, mande yon asistan vityèl, \"Poukisa kle nan diksyonè Python dwe hashable?\"\n",
    "\n",
    "Nan [yon seksyon anvan](section_dictionary_in_operator), nou te estoke yon lis mo kòm kle nan yon diksyonè pou nou te ka itilize yon vèsyon efikas operatè `in`.\n",
    "Nou te ka fè menm bagay la ak yon `set`, ki se yon lòt tip bati-an.\n",
    "Mande yon asistan vityèl, \"Ki jan pou mwen fè yon `set` Python soti nan yon lis chèn epi tcheke si yon chèn se eleman set la?\""
   ]
  },
  {
   "cell_type": "markdown",
   "id": "dd4ede24",
   "metadata": {},
   "source": [
    "### Egzèsis\n",
    "\n",
    "Diksyonè gen yon metòd `get` ki pran yon kle ak yon valè defo.\n",
    "Si kle a parèt nan diksyonè a, `get` retounen valè ki koresponn lan; sinon li retounen valè defo a.\n",
    "Pa egzanp, men yon diksyonè ki korije soti nan lèt nan yon chèn jiska konbyen fwa yo parèt."
   ]
  },
  {
   "cell_type": "code",
   "execution_count": null,
   "id": "66f6ffbc",
   "metadata": {},
   "outputs": [],
   "source": [
    "counter = value_counts('brontosaurus')"
   ]
  },
  {
   "cell_type": "markdown",
   "id": "2b14fa21",
   "metadata": {},
   "source": [
    "Si nou chèche yon lèt ki parèt nan mo a, `get` retounen konbyen fwa l parèt."
   ]
  },
  {
   "cell_type": "code",
   "execution_count": null,
   "id": "9717be63",
   "metadata": {},
   "outputs": [],
   "source": [
    "counter.get('b', 0)"
   ]
  },
  {
   "cell_type": "markdown",
   "id": "112c320c",
   "metadata": {},
   "source": [
    "Si nou chèche yon lèt ki pa parèt, nou jwenn valè defo a, `0`."
   ]
  },
  {
   "cell_type": "code",
   "execution_count": null,
   "id": "bd2688bf",
   "metadata": {
    "lines_to_next_cell": 1
   },
   "outputs": [],
   "source": [
    "counter.get('c', 0)"
   ]
  },
  {
   "cell_type": "markdown",
   "id": "06a7186a",
   "metadata": {},
   "source": [
    "Itilize `get` pou ekri yon vèsyon pi kout `value_counts`.\n",
    "Ou ta dwe ka elimine enstriksyon `if` la."
   ]
  },
  {
   "cell_type": "markdown",
   "id": "e2bcb956",
   "metadata": {},
   "source": [
    "### Egzèsis\n",
    "\n",
    "Ki mo ki pi long ou ka panse kote chak lèt parèt sèlman yon fwa?\n",
    "Ann wè si nou ka jwenn youn pi long pase `unpredictably`.\n",
    "\n",
    "Ekri yon fonksyon `has_duplicates` ki pran yon sekans — tankou yon lis oswa chèn — kòm paramèt epi retounen `True` si gen nenpòt eleman ki parèt plis pase yon fwa."
   ]
  },
  {
   "cell_type": "markdown",
   "id": "ee9d3b1d",
   "metadata": {},
   "source": [
    "Men yon eskiz fonksyon an ak doctests."
   ]
  },
  {
   "cell_type": "code",
   "execution_count": null,
   "id": "0b9ad5be",
   "metadata": {
    "lines_to_next_cell": 1
   },
   "outputs": [],
   "source": [
    "def has_duplicates(t):\n",
    "    \"\"\"Tcheke si nenpòt eleman nan yon sekans parèt plis pase yon fwa.\n",
    "    \n",
    "    >>> has_duplicates('banana')\n",
    "    True\n",
    "    >>> has_duplicates('ambidextrously')\n",
    "    False\n",
    "    >>> has_duplicates([1, 2, 2])\n",
    "    True\n",
    "    >>> has_duplicates([1, 2, 3])\n",
    "    False\n",
    "    \"\"\"\n",
    "    return None"
   ]
  },
  {
   "cell_type": "code",
   "execution_count": null,
   "id": "eed3712f",
   "metadata": {},
   "outputs": [],
   "source": [
    "# Solisyon pral mete la"
   ]
  },
  {
   "cell_type": "markdown",
   "id": "d5e34e8b",
   "metadata": {},
   "source": [
    "Ou ka itilize `doctest` pou teste fonksyon ou."
   ]
  },
  {
   "cell_type": "code",
   "execution_count": null,
   "id": "76881a50",
   "metadata": {},
   "outputs": [],
   "source": [
    "from doctest import run_docstring_examples\n",
    "\n",
    "def run_doctests(func):\n",
    "    run_docstring_examples(func, globals(), name=func.__name__)\n",
    "\n",
    "run_doctests(has_duplicates)"
   ]
  },
  {
   "cell_type": "markdown",
   "id": "32b4a3cb",
   "metadata": {},
   "source": [
    "Ou ka itilize bouk sa a pou jwenn mo ki pi long ki pa gen lèt repete."
   ]
  },
  {
   "cell_type": "code",
   "execution_count": null,
   "id": "d2cb96fd",
   "metadata": {
    "lines_to_next_cell": 1
   },
   "outputs": [],
   "source": [
    "no_repeats = []\n",
    "\n",
    "for word in word_list:\n",
    "    if len(word) > 12 and not has_duplicates(word):\n",
    "        no_repeats.append(word)\n",
    "        \n",
    "no_repeats"
   ]
  },
  {
   "cell_type": "markdown",
   "id": "d114472a",
   "metadata": {},
   "source": [
    "### Egzèsis\n",
    "\n",
    "Ekri fonksyon `find_repeats` ki pran yon diksyonè ki map soti nan chak kle jiska yon counter, tankou rezilta soti `value_counts`.\n",
    "Li ta dwe boukle sou diksyonè a epi retounen yon lis kle ki gen count pi gran pase `1`.\n",
    "Ou ka itilize eskiz sa a pou kòmanse."
   ]
  },
  {
   "cell_type": "code",
   "execution_count": null,
   "id": "6d0bd2da",
   "metadata": {
    "lines_to_next_cell": 1
   },
   "outputs": [],
   "source": [
    "def find_repeats(counter):\n",
    "    \"\"\"Fè yon lis kle ki gen valè pi gran pase 1.\n",
    "    \n",
    "    counter: diksyonè ki map soti nan kle jiska counts\n",
    "    \n",
    "    returns: lis kle\n",
    "    \"\"\"\n",
    "    return []"
   ]
  },
  {
   "cell_type": "code",
   "execution_count": null,
   "id": "83523f1b",
   "metadata": {},
   "outputs": [],
   "source": [
    "# Solisyon pral mete la"
   ]
  },
  {
   "cell_type": "markdown",
   "id": "0177d11d",
   "metadata": {},
   "source": [
    "Ou ka itilize egzanp sa yo pou teste kòd ou.\n",
    "Premye a, nou pral fè yon diksyonè ki map soti nan lèt jiska count."
   ]
  },
  {
   "cell_type": "code",
   "execution_count": null,
   "id": "6c9d7653",
   "metadata": {},
   "outputs": [],
   "source": [
    "counter1 = value_counts('banana')\n",
    "counter1"
   ]
  },
  {
   "cell_type": "markdown",
   "id": "7cefa3b6",
   "metadata": {},
   "source": [
    "Rezilta `find_repeats` ta dwe `['a', 'n']`."
   ]
  },
  {
   "cell_type": "code",
   "execution_count": null,
   "id": "e5ebb7a6",
   "metadata": {},
   "outputs": [],
   "source": [
    "repeats = find_repeats(counter1)\n",
    "repeats"
   ]
  },
  {
   "cell_type": "markdown",
   "id": "d61b3971",
   "metadata": {},
   "source": [
    "Men yon lòt egzanp ki kòmanse ak yon lis nimewo.\n",
    "Rezilta a ta dwe `[1, 2]`."
   ]
  },
  {
   "cell_type": "code",
   "execution_count": null,
   "id": "ff1f730f",
   "metadata": {},
   "outputs": [],
   "source": [
    "counter1 = value_counts([1, 2, 3, 2, 1])\n",
    "repeats = find_repeats(counter1)\n",
    "repeats"
   ]
  },
  {
   "cell_type": "markdown",
   "id": "c206d277",
   "metadata": {},
   "source": [
    "### Egzèsis\n",
    "\n",
    "Imajine ou kouri `value_counts` ak de mo diferan epi sove rezilta yo nan de diksyonè."
   ]
  },
  {
   "cell_type": "code",
   "execution_count": null,
   "id": "efe5cbcf",
   "metadata": {},
   "outputs": [],
   "source": [
    "counter1 = value_counts('brontosaurus')\n",
    "counter2 = value_counts('apatosaurus')"
   ]
  },
  {
   "cell_type": "markdown",
   "id": "d3752ac6",
   "metadata": {},
   "source": [
    "Chak diksyonè map soti nan yon seri lèt jiska konbyen fwa yo parèt.\n",
    "Ekri yon fonksyon `add_counters` ki pran de diksyonè konsa epi retounen yon nouvo diksyonè ki gen tout lèt yo ak kantite total fwa yo parèt nan youn ou lòt mo.\n",
    "\n",
    "Gen anpil fason pou rezoud pwoblèm sa a.\n",
    "Lè ou gen yon solisyon ki mache, konsidere mande yon asistan vityèl pou diferan solisyon."
   ]
  },
  {
   "cell_type": "code",
   "execution_count": null,
   "id": "1ea5e7c9",
   "metadata": {},
   "outputs": [],
   "source": [
    "# Solisyon pral mete la"
   ]
  },
  {
   "cell_type": "code",
   "execution_count": null,
   "id": "46121816",
   "metadata": {},
   "outputs": [],
   "source": [
    "# Solisyon pral mete la"
   ]
  },
  {
   "cell_type": "markdown",
   "id": "3ffb0860",
   "metadata": {},
   "source": [
    "### Egzèsis\n",
    "\n",
    "Yon mo \"interlocking\" si nou ka separe li an de mo, pran lèt altène.\n",
    "Pa egzanp, \"schooled\" se yon mo interlocking paske nou ka separe li an \"shoe\" ak \"cold\".\n",
    "\n",
    "Pou chwazi lèt altène ki soti nan yon chèn, ou ka itilize operatè slice ak twa konpozan ki endike kote pou kòmanse, kote pou sispann, ak \"step size\" ki se konbyen etap ant lèt yo.\n",
    "\n",
    "Nan slice sa a, premye konpozan an se `0`, kidonk nou kòmanse ak premye lèt la.\n",
    "Dezyèm konpozan an se `None`, sa vle di nou pral jiska fen chèn lan.\n",
    "Twazyèm konpozan an se `2`, kidonk gen de etap ant lèt nou chwazi."
   ]
  },
  {
   "cell_type": "code",
   "execution_count": null,
   "id": "a1d91344",
   "metadata": {},
   "outputs": [],
   "source": [
    "word = 'schooled'\n",
    "first = word[0:None:2]\n",
    "first"
   ]
  },
  {
   "cell_type": "markdown",
   "id": "ab0f5bd1",
   "metadata": {},
   "source": [
    "Olye bay `None` kòm dezyèm konpozan, nou ka jwenn menm efè a lè nou pa mete li ditou.\n",
    "Pa egzanp, slice sa a chwazi lèt altène, kòmanse ak dezyèm lèt la."
   ]
  },
  {
   "cell_type": "code",
   "execution_count": null,
   "id": "ca20e427",
   "metadata": {},
   "outputs": [],
   "source": [
    "second = word[1::2]\n",
    "second"
   ]
  },
  {
   "cell_type": "markdown",
   "id": "a0a56fde",
   "metadata": {},
   "source": [
    "Ekri yon fonksyon `is_interlocking` ki pran yon mo kòm agiman epi retounen `True` si li kapab separe an de mo interlocking."
   ]
  },
  {
   "cell_type": "code",
   "execution_count": null,
   "id": "ec87f587",
   "metadata": {},
   "outputs": [],
   "source": [
    "# Solisyon pral mete la"
   ]
  },
  {
   "cell_type": "markdown",
   "id": "4a30b405",
   "metadata": {},
   "source": [
    "Ou ka itilize bouk sa a pou jwenn mo interlocking nan lis mo a."
   ]
  },
  {
   "cell_type": "code",
   "execution_count": null,
   "id": "700ca205",
   "metadata": {},
   "outputs": [],
   "source": [
    "# Solisyon pral mete la"
   ]
  },
  {
   "cell_type": "code",
   "execution_count": null,
   "id": "55d686e5",
   "metadata": {},
   "outputs": [],
   "source": []
  }
 ],
 "metadata": {
  "jupytext": {
   "cell_metadata_filter": "-all",
   "main_language": "python",
   "notebook_metadata_filter": "-all"
  },
  "language_info": {
   "name": "python"
  }
 },
 "nbformat": 4,
 "nbformat_minor": 5
}
