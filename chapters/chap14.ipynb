{
 "cells": [
  {
   "cell_type": "markdown",
   "id": "66fe6f6c",
   "metadata": {},
   "source": [
    "Ou ka kòmande vèsyon enprime ak ebook pou *Think Python 3e* soti nan\n",
    "[Bookshop.org](https://bookshop.org/a/98697/9781098155438) ak\n",
    "[Amazon](https://www.amazon.com/_/dp/1098155432?smid=ATVPDKIKX0DER&_encoding=UTF8&tag=oreilly20-20&_encoding=UTF8&tag=greenteapre01-20&linkCode=ur2&linkId=e2a529f94920295d27ec8a06e757dc7c&camp=1789&creative=9325)."
   ]
  },
  {
   "cell_type": "code",
   "execution_count": null,
   "id": "8c58e95f",
   "metadata": {
    "lines_to_next_cell": 1
   },
   "outputs": [],
   "source": [
    "from os.path import basename, exists\n",
    "\n",
    "def download(url):\n",
    "    filename = basename(url)\n",
    "    if not exists(filename):\n",
    "        from urllib.request import urlretrieve\n",
    "\n",
    "        local, _ = urlretrieve(url, filename)\n",
    "        print(\"Telechaje \" + str(local))\n",
    "    return filename\n",
    "\n",
    "download('https://github.com/AllenDowney/ThinkPython/raw/v3/thinkpython.py');\n",
    "download('https://github.com/AllenDowney/ThinkPython/raw/v3/diagram.py');\n",
    "\n",
    "import thinkpython"
   ]
  },
  {
   "cell_type": "markdown",
   "id": "d5405901",
   "metadata": {},
   "source": [
    "# Klas ak Fonksyon\n",
    "\n",
    "Kounye a ou konnen kijan pou itilize fonksyon pou òganize kod ak kijan pou itilize tip bati-an pou òganize done.\n",
    "Pwochen etap la se **pwogramasyon oryante-objè**, ki itilize tip ke pwogramè defini pou òganize toude kod ak done.\n",
    "\n",
    "Pwogramasyon oryante-objè se yon gwo sijè, donk nou pral avanse piti piti.\n",
    "Nan chapit sa a, nou pral kòmanse ak kod ki pa idiomatik — sa vle di, se pa kalite kod pwogramè ki gen eksperyans ap ekri — men li bon pou kòmanse.\n",
    "Nan pwochen de chapit yo, nou pral itilize karakteristik anplis pou ekri kod ki pi idiomatik."
   ]
  },
  {
   "cell_type": "markdown",
   "id": "43a075e3",
   "metadata": {},
   "source": [
    "## Tip defini pa pwogramè\n",
    "\n",
    "Nou te itilize anpil tip bati-an Python — kounye a nou pral defini yon nouvo tip.\n",
    "Kòm premye egzanp, nou pral kreye yon tip ki rele `Time` ki reprezante yon lè jounen.\n",
    "Yon tip defini pa pwogramè rele tou yon **klas**.\n",
    "Definisyon yon klas sanble konsa:"
   ]
  },
  {
   "cell_type": "code",
   "execution_count": null,
   "id": "c6669b74",
   "metadata": {
    "lines_to_next_cell": 1
   },
   "outputs": [],
   "source": [
    "class Time:\n",
    "    \"\"\"Reprezante yon lè jounen.\"\"\""
   ]
  },
  {
   "cell_type": "markdown",
   "id": "35ec0c10",
   "metadata": {},
   "source": [
    "Antèt la endike ke nouvo klas la rele `Time`.\n",
    "Kò a se yon docstring ki eksplike pouki klas la.\n",
    "Defini yon klas kreye yon **objè klas**.\n",
    "\n",
    "Objè klas la se tankou yon faktori pou kreye objè.\n",
    "Pou kreye yon objè `Time`, ou rele `Time` tankou si se te yon fonksyon."
   ]
  },
  {
   "cell_type": "code",
   "execution_count": null,
   "id": "a0084e7e",
   "metadata": {},
   "outputs": [],
   "source": [
    "lunch = Time()"
   ]
  },
  {
   "cell_type": "markdown",
   "id": "20b45956",
   "metadata": {},
   "source": [
    "Rezilta a se yon nouvo objè ki gen tip `__main__.Time`, kote `__main__` se non modil kote `Time` defini."
   ]
  },
  {
   "cell_type": "code",
   "execution_count": null,
   "id": "f6b3e9cf",
   "metadata": {},
   "outputs": [],
   "source": [
    "type(lunch)"
   ]
  },
  {
   "cell_type": "markdown",
   "id": "1d1c1ad7",
   "metadata": {},
   "source": [
    "Lè ou enprime yon objè, Python di ou ki tip li ye ak kote li estoke an memwa (prefiks `0x` la vle di nimewo ki swiv la an hexadesimal)."
   ]
  },
  {
   "cell_type": "code",
   "execution_count": null,
   "id": "7bd7f6f5",
   "metadata": {},
   "outputs": [],
   "source": [
    "print(lunch)"
   ]
  },
  {
   "cell_type": "markdown",
   "id": "6e1109ef",
   "metadata": {},
   "source": [
    "Kreye yon nouvo objè rele **instansyasyon**, epi objè a se yon **instans** klas la."
   ]
  },
  {
   "cell_type": "markdown",
   "id": "5504502d",
   "metadata": {},
   "source": [
    "## Atribut\n",
    "\n",
    "Yon objè ka gen varyab, yo rele **atribut** (prononse \"AT-trib-ute\").\n",
    "Nou ka kreye atribut ak notasyon pwen."
   ]
  },
  {
   "cell_type": "code",
   "execution_count": null,
   "id": "1e0ae4f2",
   "metadata": {},
   "outputs": [],
   "source": [
    "lunch.hour = 11\n",
    "lunch.minute = 59\n",
    "lunch.second = 1"
   ]
  },
  {
   "cell_type": "markdown",
   "id": "2177431c",
   "metadata": {},
   "source": [
    "Egzanp sa a kreye atribut `hour`, `minute`, ak `second`, ki gen èdtan, minit, ak segonn pou lè `11:59:01`, ki se lè pou manje midi pou mwen.\n",
    "\n",
    "Dyagram ki anba a montre eta `lunch` ak atribut li yo apre asiyasyon sa yo."
   ]
  },
  {
   "cell_type": "code",
   "execution_count": null,
   "id": "2ec333ed",
   "metadata": {},
   "outputs": [],
   "source": [
    "from diagram import make_frame, make_binding\n",
    "\n",
    "d1 = dict(hour=11, minute=59, second=1)\n",
    "frame = make_frame(d1, name='Time', dy=-0.3, offsetx=0.48)\n",
    "binding = make_binding('lunch', frame)"
   ]
  },
  {
   "cell_type": "code",
   "execution_count": null,
   "id": "1e8aa736",
   "metadata": {},
   "outputs": [],
   "source": [
    "from diagram import diagram, adjust\n",
    "\n",
    "width, height, x, y = [1.77, 1.24, 0.25, 0.86]\n",
    "ax = diagram(width, height)\n",
    "bbox = binding.draw(ax, x, y)\n",
    "#adjust(x, y, bbox)"
   ]
  },
  {
   "cell_type": "markdown",
   "id": "6bed9e55",
   "metadata": {},
   "source": [
    "Varyab `lunch` refere a yon objè `Time`, ki gen twa atribut.\n",
    "Chak atribut refere a yon antye.\n",
    "Yon dyagram eta konsa — ki montre yon objè ak atribut li — rele yon **dyagram objè**.\n",
    "\n",
    "Ou ka li valè yon atribut ak operatè pwen an."
   ]
  },
  {
   "cell_type": "code",
   "execution_count": null,
   "id": "c159e932",
   "metadata": {},
   "outputs": [],
   "source": [
    "lunch.hour"
   ]
  },
  {
   "cell_type": "markdown",
   "id": "2d2dcdff",
   "metadata": {},
   "source": [
    "Ou ka itilize yon atribut kòm pati nan nenpòt ekspresyon."
   ]
  },
  {
   "cell_type": "code",
   "execution_count": null,
   "id": "85a523be",
   "metadata": {},
   "outputs": [],
   "source": [
    "total_minutes = lunch.hour * 60 + lunch.minute\n",
    "total_minutes"
   ]
  },
  {
   "cell_type": "markdown",
   "id": "f05f23c6",
   "metadata": {},
   "source": [
    "E ou ka itilize operatè pwen an an ekspresyon anndan yon f-string."
   ]
  },
  {
   "cell_type": "code",
   "execution_count": null,
   "id": "2d1f0645",
   "metadata": {},
   "outputs": [],
   "source": [
    "f'{lunch.hour}:{lunch.minute}:{lunch.second}'"
   ]
  },
  {
   "cell_type": "markdown",
   "id": "f7cc6b9f",
   "metadata": {},
   "source": [
    "Men remake ke egzanp anvan an pa an fòma estanda.\n",
    "Pou ranje sa, nou dwe enprime atribut `minute` ak `second` ak zewo devan si bezwen.\n",
    "Nou ka fè sa lè nou prolonje ekspresyon anndan parantèz krole yo ak yon **spesifikatè fòma**.\n",
    "Nan egzanp sa a, spesifikatè fòma yo endike ke `minute` ak `second` ta dwe montre ak omwen de chif ak ajoute zewo devan si bezwen."
   ]
  },
  {
   "cell_type": "code",
   "execution_count": null,
   "id": "7332f71b",
   "metadata": {
    "lines_to_next_cell": 1
   },
   "outputs": [],
   "source": [
    "f'{lunch.hour}:{lunch.minute:02d}:{lunch.second:02d}'"
   ]
  },
  {
   "cell_type": "markdown",
   "id": "f6256b08",
   "metadata": {},
   "source": [
    "Nou pral itilize f-string sa a pou ekri yon fonksyon ki montre valè yon objè `Time`.\n",
    "Ou ka pase yon objè kòm agiman jan w vle.\n",
    "Pa egzanp, fonksyon sa a pran yon objè `Time` kòm agiman."
   ]
  },
  {
   "cell_type": "code",
   "execution_count": null,
   "id": "175076e8",
   "metadata": {
    "lines_to_next_cell": 1
   },
   "outputs": [],
   "source": [
    "def print_time(time):\n",
    "    s = f'{time.hour:02d}:{time.minute:02d}:{time.second:02d}'\n",
    "    print(s)"
   ]
  },
  {
   "cell_type": "markdown",
   "id": "57b1eea4",
   "metadata": {},
   "source": [
    "Lè nou rele li, nou ka pase `lunch` kòm agiman."
   ]
  },
  {
   "cell_type": "code",
   "execution_count": null,
   "id": "b0e4a9f6",
   "metadata": {
    "lines_to_next_cell": 1
   },
   "outputs": [],
   "source": [
    "print_time(lunch)"
   ]
  },
  {
   "cell_type": "markdown",
   "id": "741f7bad",
   "metadata": {},
   "source": [
    "## Objè kòm valè retou\n",
    "\n",
    "Fonksyon ka retounen objè.\n",
    "Pa egzanp, `make_time` pran paramèt `hour`, `minute`, ak `second`, sto yo kòm atribut nan yon objè `Time`, epi retounen nouvo objè a."
   ]
  },
  {
   "cell_type": "code",
   "execution_count": null,
   "id": "e24dd1cc",
   "metadata": {
    "lines_to_next_cell": 1
   },
   "outputs": [],
   "source": [
    "def make_time(hour, minute, second):\n",
    "    time = Time()\n",
    "    time.hour = hour\n",
    "    time.minute = minute\n",
    "    time.second = second\n",
    "    return time"
   ]
  },
  {
   "cell_type": "markdown",
   "id": "fb3351ba",
   "metadata": {},
   "source": [
    "Sa ka sanble etranj ke paramèt yo gen menm non ak atribut yo, men se yon fason komen pou ekri fonksyon konsa.\n",
    "Men kijan nou itilize `make_time` pou kreye yon objè `Time`."
   ]
  },
  {
   "cell_type": "code",
   "execution_count": null,
   "id": "22d2afdf",
   "metadata": {},
   "outputs": [],
   "source": [
    "time = make_time(11, 59, 1)\n",
    "print_time(time)"
   ]
  },
  {
   "cell_type": "markdown",
   "id": "f8114c3b",
   "metadata": {},
   "source": [
    "## Objè yo se mutabl\n",
    "\n",
    "Sipoze ou pral gade yon fim, tankou *Monty Python and the Holy Grail*, ki kòmanse a `9:20 PM` epi dire `92` minit, ki se yon èdtan `32` minit.\n",
    "Ki lè fim lan ap fini?\n",
    "\n",
    "Premye a tout, nou kreye yon objè `Time` ki reprezante lè kòmanse a."
   ]
  },
  {
   "cell_type": "code",
   "execution_count": null,
   "id": "35735d8a",
   "metadata": {},
   "outputs": [],
   "source": [
    "start = make_time(9, 20, 0)\n",
    "print_time(start)"
   ]
  },
  {
   "cell_type": "markdown",
   "id": "417e96b4",
   "metadata": {},
   "source": [
    "Pou jwenn lè fini an, nou ka modifye atribut objè `Time` la, ajoute dire fim lan."
   ]
  },
  {
   "cell_type": "code",
   "execution_count": null,
   "id": "0f7876c5",
   "metadata": {
    "lines_to_next_cell": 1
   },
   "outputs": [],
   "source": [
    "start.hour += 1\n",
    "start.minute += 32\n",
    "print_time(start)"
   ]
  },
  {
   "cell_type": "markdown",
   "id": "c4cef618",
   "metadata": {},
   "source": [
    "Fim lan ap fini a 10:52 PM.\n",
    "\n",
    "Ann anbalaj kalkil sa a an yon fonksyon epi jeneralize li pou pran dire fim lan an twa paramèt: `hours`, `minutes`, ak `seconds`."
   ]
  },
  {
   "cell_type": "code",
   "execution_count": null,
   "id": "db574553",
   "metadata": {
    "lines_to_next_cell": 1
   },
   "outputs": [],
   "source": [
    "def increment_time(time, hours, minutes, seconds):\n",
    "    time.hour += hours\n",
    "    time.minute += minutes\n",
    "    time.second += seconds"
   ]
  },
  {
   "cell_type": "markdown",
   "id": "a15824cd",
   "metadata": {},
   "source": [
    "Men yon egzanp ki montre efè a."
   ]
  },
  {
   "cell_type": "code",
   "execution_count": null,
   "id": "5efecb29",
   "metadata": {},
   "outputs": [],
   "source": [
    "start = make_time(9, 20, 0)\n",
    "increment_time(start, 1, 32, 0)\n",
    "print_time(start)"
   ]
  },
  {
   "cell_type": "markdown",
   "id": "666a28b6",
   "metadata": {},
   "source": [
    "Dyagram pil la ki anba a montre eta pwogram nan anvan `increment_time` modifye objè a."
   ]
  },
  {
   "cell_type": "code",
   "execution_count": null,
   "id": "23c4415e",
   "metadata": {},
   "outputs": [],
   "source": [
    "from diagram import Frame, Binding, Value, Stack\n",
    "\n",
    "d1 = dict(hour=9, minute=20, second=0)\n",
    "obj1 = make_frame(d1, name='Time', dy=-0.25, offsetx=0.78)\n",
    "\n",
    "binding1 = make_binding('start', frame, draw_value=False, dx=0.7)\n",
    "frame1 = Frame([binding1], name='__main__', loc='left', offsetx=-0.2)\n",
    "\n",
    "binding2 = Binding(Value('time'), draw_value=False, dx=0.7, dy=0.35)\n",
    "binding3 = make_binding('hours', 1)\n",
    "binding4 = make_binding('minutes',32)\n",
    "binding5 = make_binding('seconds', 0)\n",
    "frame2 = Frame([binding2, binding3, binding4, binding5], name='increment_time', \n",
    "               loc='left', dy=-0.25, offsetx=0.08)\n",
    "\n",
    "stack = Stack([frame1, frame2], dx=-0.3, dy=-0.5)"
   ]
  },
  {
   "cell_type": "code",
   "execution_count": null,
   "id": "4e8906d1",
   "metadata": {},
   "outputs": [],
   "source": [
    "from diagram import Bbox\n",
    "\n",
    "width, height, x, y = [3.4, 1.89, 1.75, 1.5]\n",
    "ax = diagram(width, height)\n",
    "bbox1 = stack.draw(ax, x, y)\n",
    "bbox2 = obj1.draw(ax, x+0.23, y)\n",
    "bbox = Bbox.union([bbox1, bbox2])\n",
    "#adjust(x, y, bbox)"
   ]
  },
  {
   "cell_type": "markdown",
   "id": "d16356eb",
   "metadata": {},
   "source": [
    "Anndan fonksyon an, `time` se yon alyas pou `start`, donk lè `time` chanje, `start` chanje tou.\n",
    "\n",
    "Fonksyon sa a mache, men apre li kouri, nou rete ak yon varyab `start` ki refere a yon objè ki reprezante lè fini an, epi nou pa gen ankò objè ki reprezante lè kòmanse a.\n",
    "Li ta pi bon si `start` te rete chanje, epi nou fè yon nouvo objè pou reprezante lè fini an.\n",
    "Nou ka fè sa lè nou kopye `start` epi modifye kopi a."
   ]
  },
  {
   "cell_type": "markdown",
   "id": "df0594fb",
   "metadata": {},
   "source": [
    "## Kopi\n",
    "\n",
    "Modil `copy` bay yon fonksyon `copy` ki ka kopi nenpòt objè.\n",
    "Nou ka enpòte l konsa."
   ]
  },
  {
   "cell_type": "code",
   "execution_count": null,
   "id": "d9fad6fd",
   "metadata": {},
   "outputs": [],
   "source": [
    "from copy import copy"
   ]
  },
  {
   "cell_type": "markdown",
   "id": "dcdacbac",
   "metadata": {},
   "source": [
    "Pou wè kijan li mache, ann kòmanse ak yon nouvo objè `Time` ki reprezante lè kòmanse fim lan."
   ]
  },
  {
   "cell_type": "code",
   "execution_count": null,
   "id": "120a9b47",
   "metadata": {},
   "outputs": [],
   "source": [
    "start = make_time(9, 20, 0)"
   ]
  },
  {
   "cell_type": "markdown",
   "id": "a62dd402",
   "metadata": {},
   "source": [
    "E fè yon kopi."
   ]
  },
  {
   "cell_type": "code",
   "execution_count": null,
   "id": "b1989b8a",
   "metadata": {},
   "outputs": [],
   "source": [
    "end = copy(start)"
   ]
  },
  {
   "cell_type": "markdown",
   "id": "1f140a81",
   "metadata": {},
   "source": [
    "Kounye a `start` ak `end` gen menm done."
   ]
  },
  {
   "cell_type": "code",
   "execution_count": null,
   "id": "6db563ed",
   "metadata": {},
   "outputs": [],
   "source": [
    "print_time(start)\n",
    "print_time(end)"
   ]
  },
  {
   "cell_type": "markdown",
   "id": "9a704d09",
   "metadata": {},
   "source": [
    "Men operatè `is` la konfime ke se pa menm objè a."
   ]
  },
  {
   "cell_type": "code",
   "execution_count": null,
   "id": "1316410a",
   "metadata": {},
   "outputs": [],
   "source": [
    "start is end"
   ]
  },
  {
   "cell_type": "markdown",
   "id": "1030b064",
   "metadata": {},
   "source": [
    "Ann wè kisa operatè `==` la fè."
   ]
  },
  {
   "cell_type": "code",
   "execution_count": null,
   "id": "98708d74",
   "metadata": {
    "lines_to_next_cell": 1
   },
   "outputs": [],
   "source": [
    "start == end"
   ]
  },
  {
   "cell_type": "markdown",
   "id": "cf03b542",
   "metadata": {},
   "source": [
    "Ou ta ka atann `==` bay `True` paske objè yo gen menm done.\n",
    "Men pou klas defini pa pwogramè, konpòtman pa defo operatè `==` la menm ak `is` — li tcheke idantite, pa ekivalans."
   ]
  },
  {
   "cell_type": "markdown",
   "id": "79fb3615",
   "metadata": {},
   "source": [
    "## Fonksyon pi\n",
    "\n",
    "Nou ka itilize `copy` pou ekri fonksyon pi ki pa modifye paramèt yo.\n",
    "Pa egzanp, men yon fonksyon ki pran yon objè `Time` ak yon dire an èdtan, minit, ak segonn.\n",
    "Li fè yon kopi objè orijinal la, itilize `increment_time` pou modifye kopi a, epi retounen li."
   ]
  },
  {
   "cell_type": "code",
   "execution_count": null,
   "id": "81a368a6",
   "metadata": {
    "lines_to_next_cell": 1
   },
   "outputs": [],
   "source": [
    "def add_time(time, hours, minutes, seconds):\n",
    "    total = copy(time)\n",
    "    increment_time(total, hours, minutes, seconds)\n",
    "    return total"
   ]
  },
  {
   "cell_type": "markdown",
   "id": "1e2a0d63",
   "metadata": {},
   "source": [
    "Men kijan nou itilize li."
   ]
  },
  {
   "cell_type": "code",
   "execution_count": null,
   "id": "b23c8ade",
   "metadata": {},
   "outputs": [],
   "source": [
    "end = add_time(start, 1, 32, 0)\n",
    "print_time(end)"
   ]
  },
  {
   "cell_type": "markdown",
   "id": "c96717b8",
   "metadata": {},
   "source": [
    "Valè retounen an se yon nouvo objè ki reprezante lè fini fim lan.\n",
    "E nou ka konfime ke `start` pa chanje."
   ]
  },
  {
   "cell_type": "code",
   "execution_count": null,
   "id": "a537372e",
   "metadata": {},
   "outputs": [],
   "source": [
    "print_time(start)"
   ]
  },
  {
   "cell_type": "markdown",
   "id": "9efd132b",
   "metadata": {},
   "source": [
    "`add_time` se yon **fonksyon pi** paske li pa modifye okenn objè li resevwa kòm agiman epi sèl efè li se retounen yon valè.\n",
    "\n",
    "Nenpòt sa ou ka fè ak fonksyon enpi ou ka fè ak fonksyon pi.\n",
    "Anfèt, gen kèk langaj pwogramasyon ki pèmèt sèlman fonksyon pi.\n",
    "Pwogram ki itilize fonksyon pi ka gen mwens erè, men fonksyon enpi pafwa plis pratik epi ka pi efikas.\n",
    "\n",
    "An jeneral, mwen konseye ou ekri fonksyon pi lè sa rezonab epi rezoud fonksyon enpi sèlman si gen yon avantaj konvenkan.\n",
    "Aproch sa a ka rele yon **stil pwogramasyon fonksyonèl**."
   ]
  },
  {
   "cell_type": "markdown",
   "id": "99a71a52",
   "metadata": {},
   "source": [
    "## Pwototip epi mete rapyo (Prototype and patch)\n",
    "\n",
    "Nan egzanp anvan an, `increment_time` ak `add_time` sanble mache, men si nou eseye yon lòt egzanp, nou pral wè ke yo pa fini korek.\n",
    "\n",
    "Sipoze ou rive sinema a epi dekouvri ke fim nan kòmanse a `9:40`, pa `9:20`.\n",
    "Men sa k rive lè nou kalkile lè fini an ak mizajou sa a:"
   ]
  },
  {
   "cell_type": "code",
   "execution_count": null,
   "id": "52a0d01f",
   "metadata": {
    "lines_to_next_cell": 1
   },
   "outputs": [],
   "source": [
    "start = make_time(9, 40, 0)\n",
    "end = add_time(start, 1, 32, 0)\n",
    "print_time(end)"
   ]
  },
  {
   "cell_type": "markdown",
   "id": "2fcc3e55",
   "metadata": {},
   "source": [
    "Rezilta a pa yon lè valab.\n",
    "Pwoblèm lan se ke `increment_time` pa jere ka kote kantite segonn oswa minit depase `60`.\n",
    "\n",
    "Men yon vèsyon amelyore ki tcheke si `second` pi gran ou egal a `60` — si se sa, li ajoute 1 sou `minute` — apre sa li tcheke si `minute` pi gran ou egal a `60` — si se sa, li ajoute 1 sou `hour`."
   ]
  },
  {
   "cell_type": "code",
   "execution_count": null,
   "id": "7815b002",
   "metadata": {
    "lines_to_next_cell": 1
   },
   "outputs": [],
   "source": [
    "def increment_time(time, hours, minutes, seconds):\n",
    "    time.hour += hours\n",
    "    time.minute += minutes\n",
    "    time.second += seconds\n",
    "\n",
    "    if time.second >= 60:\n",
    "        time.second -= 60\n",
    "        time.minute += 1\n",
    "\n",
    "    if time.minute >= 60:\n",
    "        time.minute -= 60\n",
    "        time.hour += 1"
   ]
  },
  {
   "cell_type": "markdown",
   "id": "1e61e26a",
   "metadata": {},
   "source": [
    "Ranje `increment_time` ranje tou `add_time` ki itilize li.\n",
    "Kounye a egzanp anvan an mache kòrèkteman."
   ]
  },
  {
   "cell_type": "code",
   "execution_count": null,
   "id": "d72f2cc4",
   "metadata": {},
   "outputs": [],
   "source": [
    "end = add_time(start, 1, 32, 0)\n",
    "print_time(end)"
   ]
  },
  {
   "cell_type": "markdown",
   "id": "0b3b1464",
   "metadata": {},
   "source": [
    "Men fonksyon sa a poko kòrèk, paske agiman yo ka pi gwo pase `60`.\n",
    "Pa egzanp, sipoze nou bay durasyon fim lan kòm `92` minit, olye `1` èdtan ak `32` minit.\n",
    "Nou te ka rele `add_time` konsa:"
   ]
  },
  {
   "cell_type": "code",
   "execution_count": null,
   "id": "44f8a339",
   "metadata": {},
   "outputs": [],
   "source": [
    "end = add_time(start, 0, 92, 0)\n",
    "print_time(end)"
   ]
  },
  {
   "cell_type": "markdown",
   "id": "2212b18e",
   "metadata": {},
   "source": [
    "Rezilta a pa yon lè valab.\n",
    "Donk ann eseye yon lòt aproch, itilize fonksyon `divmod`.\n",
    "Nou pral fè yon kopi `start` epi modifye li lè nou ajoute `minute`."
   ]
  },
  {
   "cell_type": "code",
   "execution_count": null,
   "id": "6295f3bb",
   "metadata": {},
   "outputs": [],
   "source": [
    "end = copy(start)\n",
    "end.minute = start.minute + 92\n",
    "end.minute"
   ]
  },
  {
   "cell_type": "markdown",
   "id": "d3c2eced",
   "metadata": {},
   "source": [
    "Kounye a `minute` se `132`, ki se `2` èdtan ak `12` minit.\n",
    "Nou ka itilize `divmod` pou divize pa `60` epi retounen kantite èdtan konplè ak kantite minit ki rete."
   ]
  },
  {
   "cell_type": "code",
   "execution_count": null,
   "id": "56bdeb85",
   "metadata": {},
   "outputs": [],
   "source": [
    "carry, end.minute = divmod(end.minute, 60)\n",
    "carry, end.minute"
   ]
  },
  {
   "cell_type": "markdown",
   "id": "6f8e4c52",
   "metadata": {},
   "source": [
    "Kounye a `minute` kòrèk, epi nou ka ajoute èdtan yo sou `hour`."
   ]
  },
  {
   "cell_type": "code",
   "execution_count": null,
   "id": "ef09ee65",
   "metadata": {
    "lines_to_next_cell": 1
   },
   "outputs": [],
   "source": [
    "end.hour += carry\n",
    "print_time(end)"
   ]
  },
  {
   "cell_type": "markdown",
   "id": "ca552b4a",
   "metadata": {},
   "source": [
    "Rezilta a se yon lè valab.\n",
    "Nou ka fè menm bagay la ak `hour` ak `second`, epi anbalaj tout pwosesis la an yon fonksyon."
   ]
  },
  {
   "cell_type": "code",
   "execution_count": null,
   "id": "fd0b9ff2",
   "metadata": {
    "lines_to_next_cell": 1
   },
   "outputs": [],
   "source": [
    "def increment_time(time, hours, minutes, seconds):\n",
    "    time.hour += hours\n",
    "    time.minute += minutes\n",
    "    time.second += seconds\n",
    "    \n",
    "    carry, time.second = divmod(time.second, 60)\n",
    "    carry, time.minute = divmod(time.minute + carry, 60)\n",
    "    carry, time.hour = divmod(time.hour + carry, 60)"
   ]
  },
  {
   "cell_type": "markdown",
   "id": "e923cf78",
   "metadata": {},
   "source": [
    "Avèk vèsyon sa a `increment_time`, `add_time` mache kòrèk, menm si agiman yo depase `60`."
   ]
  },
  {
   "cell_type": "code",
   "execution_count": null,
   "id": "b2963194",
   "metadata": {
    "lines_to_next_cell": 1
   },
   "outputs": [],
   "source": [
    "end = add_time(start, 0, 90, 120)\n",
    "print_time(end)"
   ]
  },
  {
   "cell_type": "markdown",
   "id": "0722be5f",
   "metadata": {},
   "source": [
    "Seksyon sa a montre yon plan devlopman pwogram mwen rele **pwototip epi mete rapyo**.\n",
    "Nou te kòmanse ak yon pwototip senp ki te mache kòrèk pou premye egzanp la.\n",
    "Apre sa nou teste l ak egzanp ki pi difisil — lè nou jwenn yon erè, nou modifye pwogram nan pou ranje li, tankou mete yon rapyo (patch) sou yon kawotchou.\n",
    "\n",
    "Aproch sa a ka efikas, sitou si ou poko gen yon konpreyansyon fon anbagay sou pwoblèm lan.\n",
    "Men koreksyon incrementèl ka pwodwi kod ki pa nesesèman konplike — paske li jere anpil ka espesyal — epi ki pa fyab — paske li difisil pou konnen si ou te jwenn tout erè yo."
   ]
  },
  {
   "cell_type": "markdown",
   "id": "5dd003cd",
   "metadata": {},
   "source": [
    "## Devlopman ak konsepsyon an premye (Design-first development)\n",
    "\n",
    "Yon plan altènatif se **devlopman ak konsepsyon an premye**, ki enplike plis planifikasyon anvan pwototip.\n",
    "Nan yon pwosesis konsepsyon an premye, pafwa yon idée jeni sou pwoblèm nan fè pwogramasyon an pi fasil.\n",
    "\n",
    "Nan ka sa a, idée a se nou ka panse a yon objè `Time` kòm yon nimewo twa-chif an baz 60 — ki rele seksagesimal.\n",
    "Atribut `second` se \"kolòn inite\", atribut `minute` se \"kolòn swasant\", \n",
    "epi atribut `hour` se \"kolòn trantsisank\".\n",
    "Lè nou te ekri `increment_time`, nou te fè adisyon an baz 60, se sak fè nou te oblije rapòte (carry) soti nan yon kolòn goch à lòtbò.\n",
    "\n",
    "Observasyon sa a sugjere yon lòt aproch pou tout pwoblèm lan — nou ka konvèti objè `Time` an antye epi pran avantaj ke Python konnen kijan pou fè aritmetik antye.\n",
    "\n",
    "Men yon fonksyon ki konvèti yon `Time` an antye."
   ]
  },
  {
   "cell_type": "code",
   "execution_count": null,
   "id": "b1cbb670",
   "metadata": {
    "lines_to_next_cell": 1
   },
   "outputs": [],
   "source": [
    "def time_to_int(time):\n",
    "    minutes = time.hour * 60 + time.minute\n",
    "    seconds = minutes * 60 + time.second\n",
    "    return seconds"
   ]
  },
  {
   "cell_type": "markdown",
   "id": "10c070c7",
   "metadata": {},
   "source": [
    "Rezilta a se kantite segonn depi kòmansman jounen an.\n",
    "Pa egzanp, `01:01:01` se `1` èdtan, `1` minit ak `1` segonn depi kòmansman jounen an, ki se sòm `3600` segonn, `60` segonn, ak `1` segonn."
   ]
  },
  {
   "cell_type": "code",
   "execution_count": null,
   "id": "b45f8cc0",
   "metadata": {
    "lines_to_next_cell": 1
   },
   "outputs": [],
   "source": [
    "time = make_time(1, 1, 1)\n",
    "print_time(time)\n",
    "time_to_int(time)"
   ]
  },
  {
   "cell_type": "markdown",
   "id": "bca65e59",
   "metadata": {},
   "source": [
    "Men yon fonksyon ki fè kontrepati a — konvèti yon antye an objè `Time` — itilize fonksyon `divmod`."
   ]
  },
  {
   "cell_type": "code",
   "execution_count": null,
   "id": "63d86326",
   "metadata": {
    "lines_to_next_cell": 1
   },
   "outputs": [],
   "source": [
    "def int_to_time(seconds):\n",
    "    minute, second = divmod(seconds, 60)\n",
    "    hour, minute = divmod(minute, 60)\n",
    "    return make_time(hour, minute, second)"
   ]
  },
  {
   "cell_type": "markdown",
   "id": "db470edc",
   "metadata": {},
   "source": [
    "Nou ka teste l lè nou konvèti egzanp anvan an tounen an `Time`."
   ]
  },
  {
   "cell_type": "code",
   "execution_count": null,
   "id": "2dae3396",
   "metadata": {
    "lines_to_next_cell": 1
   },
   "outputs": [],
   "source": [
    "time = int_to_time(3661)\n",
    "print_time(time)"
   ]
  },
  {
   "cell_type": "markdown",
   "id": "7262822b",
   "metadata": {},
   "source": [
    "Avèk fonksyon sa yo, nou ka ekri yon vèsyon `add_time` ki pi kout."
   ]
  },
  {
   "cell_type": "code",
   "execution_count": null,
   "id": "c6148e35",
   "metadata": {
    "lines_to_next_cell": 1
   },
   "outputs": [],
   "source": [
    "def add_time(time, hours, minutes, seconds):\n",
    "    duration = make_time(hours, minutes, seconds)\n",
    "    seconds = time_to_int(time) + time_to_int(duration)\n",
    "    return int_to_time(seconds)"
   ]
  },
  {
   "cell_type": "markdown",
   "id": "3404ac17",
   "metadata": {},
   "source": [
    "Premye liy la konvèti agiman yo an objè `Time` ki rele `duration`.\n",
    "Dezyèm liy la konvèti `time` ak `duration` an segonn epi ajoute yo.\n",
    "Twazyèm liy la konvèti sòm lan an objè `Time` epi retounen li.\n",
    "\n",
    "Men kijan li mache."
   ]
  },
  {
   "cell_type": "code",
   "execution_count": null,
   "id": "77c5687f",
   "metadata": {},
   "outputs": [],
   "source": [
    "start = make_time(9, 40, 0)\n",
    "end = add_time(start, 1, 32, 0)\n",
    "print_time(end)"
   ]
  },
  {
   "cell_type": "markdown",
   "id": "8d8cd8d1",
   "metadata": {},
   "source": [
    "Dènye analiz, konvèti soti baz 60 an baz 10 epi tounen an baz 60 ka sanble pi difisil pase jis jere lè.\n",
    "Konvèsyon baz se pi abstrè; nou gen plis entuisyon pou jere lè dirèkteman.\n",
    "\n",
    "Men si nou gen idée pou trete lè kòm nimewo baz 60 — epi nou envesti efò pou ekri fonksyon konvèsyon `time_to_int` ak `int_to_time` — nou jwenn yon pwogram ki pi kout, pi fasil pou li ak débogaj, epi pi fyab.\n",
    "\n",
    "Li tou pi fasil pou ajoute karakteristik pita.\n",
    "Pa egzanp, imajine soustrae de objè `Time` pou jwenn durasyon ant yo.\n",
    "Aproch naif la se fè soustraksyon ak prete (borrowing).\n",
    "Itilize fonksyon konvèsyon yo pi fasil epi pi chans pou li kòrèk.\n",
    "\n",
    "Ironezman, pafwa fè yon pwoblèm vin pi difisil — oswa pi jeneral — fè li vin pi fasil, paske gen mwens ka espesyal ak mwens opòtinite pou erè."
   ]
  },
  {
   "cell_type": "markdown",
   "id": "6f7b9b96",
   "metadata": {},
   "source": [
    "## Débogaj\n",
    "\n",
    "Python bay plizyè fonksyon bati-an ki itil pou teste ak débogaj pwogram ki travay ak objè.\n",
    "Pa egzanp, si ou pa sèten ki tip yon objè ye, ou ka mande."
   ]
  },
  {
   "cell_type": "code",
   "execution_count": null,
   "id": "42996eb4",
   "metadata": {},
   "outputs": [],
   "source": [
    "type(start)"
   ]
  },
  {
   "cell_type": "markdown",
   "id": "947f8f98",
   "metadata": {},
   "source": [
    "Ou ka itilize `isinstance` pou tcheke si yon objè se yon instans yon klas an patikilye."
   ]
  },
  {
   "cell_type": "code",
   "execution_count": null,
   "id": "35c3ec72",
   "metadata": {},
   "outputs": [],
   "source": [
    "isinstance(end, Time)"
   ]
  },
  {
   "cell_type": "markdown",
   "id": "9cc08a85",
   "metadata": {},
   "source": [
    "Si ou pa sèten si yon objè gen yon atribut an patikilye, ou ka itilize fonksyon bati-an `hasattr`."
   ]
  },
  {
   "cell_type": "code",
   "execution_count": null,
   "id": "b179d12a",
   "metadata": {},
   "outputs": [],
   "source": [
    "hasattr(start, 'hour')"
   ]
  },
  {
   "cell_type": "markdown",
   "id": "a965e0ad",
   "metadata": {},
   "source": [
    "Pou jwenn tout atribut yo ak valè yo an yon diksyonè, ou ka itilize `vars`."
   ]
  },
  {
   "cell_type": "code",
   "execution_count": null,
   "id": "ada39390",
   "metadata": {},
   "outputs": [],
   "source": [
    "vars(start)"
   ]
  },
  {
   "cell_type": "markdown",
   "id": "9b8f95f0",
   "metadata": {},
   "source": [
    "Modil `structshape`, nou te wè nan [Chapit 11](section_debugging_11), mache tou ak tip defini pa pwogramè."
   ]
  },
  {
   "cell_type": "code",
   "execution_count": null,
   "id": "982cc0b2",
   "metadata": {},
   "outputs": [],
   "source": [
    "download('https://raw.githubusercontent.com/AllenDowney/ThinkPython/v3/structshape.py');"
   ]
  },
  {
   "cell_type": "code",
   "execution_count": null,
   "id": "9ea90b3e",
   "metadata": {},
   "outputs": [],
   "source": [
    "from structshape import structshape\n",
    "\n",
    "t = start, end\n",
    "structshape(t)"
   ]
  },
  {
   "cell_type": "markdown",
   "id": "d72d497c",
   "metadata": {},
   "source": [
    "## Glosè\n",
    "\n",
    "**pwogramasyon oryante-objè:**\n",
    "Yon stil pwogramasyon ki itilize objè pou òganize kod ak done.\n",
    "\n",
    "**klas:**\n",
    " Yon tip defini pa pwogramè. Yon definisyon klas kreye yon nouvo objè klas.\n",
    "\n",
    "**objè klas:**\n",
    "Yon objè ki reprezante yon klas — se rezilta yon definisyon klas.\n",
    "\n",
    "**instansyasyon:**\n",
    "Pwosesis pou kreye yon objè ki fè pati yon klas.\n",
    "\n",
    "**instans:**\n",
    " Yon objè ki fè pati yon klas.\n",
    "\n",
    "**atribut:**\n",
    " Yon varyab ki asosye ak yon objè, rele tou varyab instans.\n",
    "\n",
    "**dyagram objè:**\n",
    "Yon reprezantasyon grafikal yon objè, atribut li yo, ak valè yo.\n",
    "\n",
    "**spesifikatè fòma:**\n",
    "Nan yon f-string, yon spesifikatè fòma detèmine kijan pou konvèti yon valè an chèn.\n",
    "\n",
    "**fonksyon pi:**\n",
    "Yon fonksyon ki pa modifye paramèt li yo ni pa gen okenn lòt efè pase retounen yon valè.\n",
    "\n",
    "**stil pwogramasyon fonksyonèl:**\n",
    "Yon fason pou pwogram ki itilize fonksyon pi le sa posib.\n",
    "\n",
    "**pwototip epi mete rapyo (prototype and patch):**\n",
    "Yon fason pou devlope pwogram lè ou kòmanse ak yon bouyon epi piti piti ajoute karakteristik ak ranje erè.\n",
    "\n",
    "**devlopman ak konsepsyon an premye (design-first development):**\n",
    "Yon fason pou devlope pwogram ki enplike plis planifikasyon pase pwototip epi mete rapyo."
   ]
  },
  {
   "cell_type": "markdown",
   "id": "3a06468b",
   "metadata": {},
   "source": [
    "## Egzèsis"
   ]
  },
  {
   "cell_type": "code",
   "execution_count": null,
   "id": "bfad172a",
   "metadata": {
    "lines_to_next_cell": 1
   },
   "outputs": [],
   "source": [
    "# Liy sa a di Jupyter pou bay enfòmasyon detaye sou erè execisyon\n",
    "# lè erè rive. Kouri li anvan ou travay sou egzèsis yo.\n",
    "\n",
    "%xmode Verbose"
   ]
  },
  {
   "cell_type": "markdown",
   "id": "36d5277f",
   "metadata": {},
   "source": [
    "### Mande yon asistan vityèl\n",
    "\n",
    "Gen anpil nouvo vokabilè nan chapit sa a.\n",
    "Yon konvèsasyon ak yon asistan vityèl ka ede w ranfòse konpreyansyon ou.\n",
    "Ou ka mande:\n",
    "\n",
    "* \"Ki diferans ki genyen ant yon klas ak yon tip?\"\n",
    "\n",
    "* \"Ki diferans ki genyen ant yon objè ak yon instans?\"\n",
    "\n",
    "* \"Ki diferans ki genyen ant yon varyab ak yon atribut?\"\n",
    "\n",
    "* \"Ki avantaj ak dezavantaj fonksyon pi gen konpare ak fonksyon enpi?\"\n",
    "\n",
    "Paske nou fèk kòmanse ak pwogramasyon oryante-objè, kod nan chapit sa a pa idiomatik — se pa kalite kod pwogramè ki gen eksperyans ap ekri.\n",
    "Si ou mande yon asistan vityèl èd pou egzèsis yo, ou pral pwobableman wè karakteristik nou poko kouvri.\n",
    "An patikilye, ou ka wè yon metòd ki rele `__init__` itilize pou inisyalize atribut instans yo.\n",
    "\n",
    "Si karakteristik sa yo fè sans pou ou, ale sèvi avè yo.\n",
    "Men si se pa sa, pran pasyans — nou ap rive la pita.\n",
    "Pandan sa a, gade si ou ka rezoud egzèsis yo sèlman ak karakteristik nou te kouvri.\n",
    "\n",
    "Epitou, nan chapit sa a nou te wè yon egzanp spesifikatè fòma.\n",
    "Pou plis enfòmasyon, mande \"Ki spesifikatè fòma yo ka itilize nan yon f-string Python?\""
   ]
  },
  {
   "cell_type": "markdown",
   "id": "420e432b",
   "metadata": {},
   "source": [
    "## Egzèsis\n"
   ]
  },
  {
   "cell_type": "markdown",
   "id": "233522bc",
   "metadata": {},
   "source": [
    "### Egzèsis\n",
    "\n",
    "Ekri yon fonksyon ki rele `subtract_time` ki pran de objè `Time` epi retounen entèval ki antre yo an segonn — suponan se de lè pandan menm jounen an."
   ]
  },
  {
   "cell_type": "markdown",
   "id": "02bd46ad",
   "metadata": {},
   "source": [
    "Men estrikti fonksyon an pou ou kòmanse."
   ]
  },
  {
   "cell_type": "code",
   "execution_count": null,
   "id": "39e7ada4",
   "metadata": {
    "lines_to_next_cell": 1
   },
   "outputs": [],
   "source": [
    "def subtract_time(t1, t2):\n",
    "    \"\"\"Kalkile diferans ant de lè an segonn.\n",
    "    \n",
    "    >>> subtract_time(make_time(3, 2, 1), make_time(3, 2, 0))\n",
    "    1\n",
    "    >>> subtract_time(make_time(3, 2, 1), make_time(3, 0, 0))\n",
    "    121\n",
    "    >>> subtract_time(make_time(11, 12, 0), make_time(9, 40, 0))\n",
    "    5520\n",
    "    \"\"\"\n",
    "    return None"
   ]
  },
  {
   "cell_type": "code",
   "execution_count": null,
   "id": "d28ffddf",
   "metadata": {},
   "outputs": [],
   "source": [
    "# Solisyon an antre la"
   ]
  },
  {
   "cell_type": "markdown",
   "id": "d8495b3f",
   "metadata": {},
   "source": [
    "Ou ka itilize `doctest` pou teste fonksyon ou."
   ]
  },
  {
   "cell_type": "code",
   "execution_count": null,
   "id": "5ef4f494",
   "metadata": {
    "lines_to_next_cell": 1
   },
   "outputs": [],
   "source": [
    "from doctest import run_docstring_examples\n",
    "\n",
    "def run_doctests(func):\n",
    "    run_docstring_examples(func, globals(), name=func.__name__)\n",
    "\n",
    "run_doctests(subtract_time)"
   ]
  },
  {
   "cell_type": "markdown",
   "id": "aede7c6b",
   "metadata": {},
   "source": [
    "### Egzèsis\n",
    "\n",
    "Ekri yon fonksyon ki rele `is_after` ki pran de objè `Time` epi retounen `True` si premye a pi ta nan jounen an pase dezyèm lan, epi `False` otreman."
   ]
  },
  {
   "cell_type": "markdown",
   "id": "d871eea1",
   "metadata": {},
   "source": [
    "Men estrikti fonksyon an pou ou kòmanse."
   ]
  },
  {
   "cell_type": "code",
   "execution_count": null,
   "id": "909d7b0c",
   "metadata": {
    "lines_to_next_cell": 1
   },
   "outputs": [],
   "source": [
    "def is_after(t1, t2):\n",
    "    \"\"\"Tcheke si `t1` ap vini apre `t2`.\n",
    "    \n",
    "    >>> is_after(make_time(3, 2, 1), make_time(3, 2, 0))\n",
    "    True\n",
    "    >>> is_after(make_time(3, 2, 1), make_time(3, 2, 1))\n",
    "    False\n",
    "    >>> is_after(make_time(11, 12, 0), make_time(9, 40, 0))\n",
    "    True\n",
    "    \"\"\"\n",
    "    return None"
   ]
  },
  {
   "cell_type": "code",
   "execution_count": null,
   "id": "942dd758",
   "metadata": {},
   "outputs": [],
   "source": [
    "# Solisyon an antre la"
   ]
  },
  {
   "cell_type": "markdown",
   "id": "7ffb2e83",
   "metadata": {},
   "source": [
    "Ou ka itilize `doctest` pou teste fonksyon ou."
   ]
  },
  {
   "cell_type": "code",
   "execution_count": null,
   "id": "70ca06d4",
   "metadata": {
    "lines_to_next_cell": 1
   },
   "outputs": [],
   "source": [
    "run_doctests(is_after)"
   ]
  },
  {
   "cell_type": "markdown",
   "id": "c0b6a78d",
   "metadata": {},
   "source": [
    "### Egzèsis\n",
    "\n",
    "Men yon definisyon pou yon klas `Date` ki reprezante yon dat — sa vle di, yon ane, mwa, ak jou."
   ]
  },
  {
   "cell_type": "code",
   "execution_count": null,
   "id": "4e91761d",
   "metadata": {
    "lines_to_next_cell": 1
   },
   "outputs": [],
   "source": [
    "class Date:\n",
    "    \"\"\"Reprezante yon ane, mwa, ak jou\"\"\""
   ]
  },
  {
   "cell_type": "markdown",
   "id": "b0113002",
   "metadata": {},
   "source": [
    "1. Ekri yon fonksyon ki rele `make_date` ki pran `year`, `month`, ak `day` kòm paramèt, fè yon objè `Date`, asiyen paramèt yo a atribut, epi retounen nouvo objè a. Kreye yon objè ki reprezante 22 jen 1933.\n",
    "\n",
    "2. Ekri yon fonksyon ki rele `print_date` ki pran yon objè `Date`, itilize yon f-string pou fòmate atribut yo, epi enprime rezilta a. Si ou teste l ak `Date` ou te kreye, rezilta a ta dwe `1933-06-22`.\n",
    "\n",
    "3. Ekri yon fonksyon ki rele `is_after` ki pran de objè `Date` kòm paramèt epi retounen `True` si premye a vini apre dezyèm lan. Kreye yon dezyèm objè ki reprezante 17 septanm 1933, epi tcheke si li vini apre premye objè a.\n",
    "\n",
    "Konsèy: Ou ka twouve li itil pou ekri yon fonksyon ki rele `date_to_tuple` ki pran yon objè `Date` epi retounen yon tuple ki gen atribut li yo an lòd ane, mwa, jou."
   ]
  },
  {
   "cell_type": "markdown",
   "id": "600e6d17",
   "metadata": {},
   "source": [
    "Ou ka itilize estrikti fonksyon sa a pou kòmanse."
   ]
  },
  {
   "cell_type": "code",
   "execution_count": null,
   "id": "5996544b",
   "metadata": {
    "lines_to_next_cell": 1
   },
   "outputs": [],
   "source": [
    "def make_date(year, month, day):\n",
    "    return None"
   ]
  },
  {
   "cell_type": "code",
   "execution_count": null,
   "id": "cdec49f6",
   "metadata": {},
   "outputs": [],
   "source": [
    "# Solisyon an antre la"
   ]
  },
  {
   "cell_type": "markdown",
   "id": "572d6faa",
   "metadata": {},
   "source": [
    "Ou ka itilize egzanp sa yo pou teste `make_date`."
   ]
  },
  {
   "cell_type": "code",
   "execution_count": null,
   "id": "51238134",
   "metadata": {},
   "outputs": [],
   "source": [
    "birthday1 = make_date(1933, 6, 22)"
   ]
  },
  {
   "cell_type": "code",
   "execution_count": null,
   "id": "f18e7f55",
   "metadata": {
    "lines_to_next_cell": 1
   },
   "outputs": [],
   "source": [
    "birthday2 = make_date(1933, 9, 17)"
   ]
  },
  {
   "cell_type": "markdown",
   "id": "c03211a8",
   "metadata": {},
   "source": [
    "Ou ka itilize estrikti fonksyon sa a pou kòmanse."
   ]
  },
  {
   "cell_type": "code",
   "execution_count": null,
   "id": "7c83bea8",
   "metadata": {
    "lines_to_next_cell": 1
   },
   "outputs": [],
   "source": [
    "def print_date(date):\n",
    "    print('')"
   ]
  },
  {
   "cell_type": "code",
   "execution_count": null,
   "id": "eceb554f",
   "metadata": {},
   "outputs": [],
   "source": [
    "# Solisyon an antre la"
   ]
  },
  {
   "cell_type": "markdown",
   "id": "187ba3f2",
   "metadata": {},
   "source": [
    "Ou ka itilize egzanp sa a pou teste `print_date`."
   ]
  },
  {
   "cell_type": "code",
   "execution_count": null,
   "id": "36df8810",
   "metadata": {
    "lines_to_next_cell": 1
   },
   "outputs": [],
   "source": [
    "print_date(birthday1)"
   ]
  },
  {
   "cell_type": "markdown",
   "id": "ffccc0c5",
   "metadata": {},
   "source": [
    "Ou ka itilize estrikti fonksyon sa a pou kòmanse."
   ]
  },
  {
   "cell_type": "code",
   "execution_count": null,
   "id": "ec191249",
   "metadata": {
    "lines_to_next_cell": 1
   },
   "outputs": [],
   "source": [
    "def is_after(date1, date2):\n",
    "    return None"
   ]
  },
  {
   "cell_type": "code",
   "execution_count": null,
   "id": "5a351c1f",
   "metadata": {},
   "outputs": [],
   "source": [
    "# Solisyon an antre la"
   ]
  },
  {
   "cell_type": "code",
   "execution_count": null,
   "id": "d29ddf45",
   "metadata": {},
   "outputs": [],
   "source": [
    "# Solisyon an antre la"
   ]
  },
  {
   "cell_type": "markdown",
   "id": "b980dbe9",
   "metadata": {},
   "source": [
    "Ou ka itilize egzanp sa yo pou teste `is_after`."
   ]
  },
  {
   "cell_type": "code",
   "execution_count": null,
   "id": "29f8da6e",
   "metadata": {},
   "outputs": [],
   "source": [
    "is_after(birthday1, birthday2)  # ta dwe False"
   ]
  },
  {
   "cell_type": "code",
   "execution_count": null,
   "id": "ed6fce47",
   "metadata": {},
   "outputs": [],
   "source": [
    "is_after(birthday2, birthday1)  # ta dwe True"
   ]
  },
  {
   "cell_type": "code",
   "execution_count": null,
   "id": "bd46e912",
   "metadata": {},
   "outputs": [],
   "source": []
  }
 ],
 "metadata": {
  "jupytext": {
   "cell_metadata_filter": "-all",
   "main_language": "python",
   "notebook_metadata_filter": "-all"
  },
  "language_info": {
   "name": "python"
  }
 },
 "nbformat": 4,
 "nbformat_minor": 5
}
