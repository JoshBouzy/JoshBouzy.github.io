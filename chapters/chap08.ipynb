{
 "cells": [
  {
   "cell_type": "markdown",
   "id": "d45c5460",
   "metadata": {},
   "source": [
    "Ou ka kòmande vèsyon enprime ak liv elektwonik *Think Python 3e* soti nan\n",
    "[Bookshop.org](https://bookshop.org/a/98697/9781098155438) ak\n",
    "[Amazon](https://www.amazon.com/_/dp/1098155432?smid=ATVPDKIKX0DER&_encoding=UTF8&tag=oreilly20-20&_encoding=UTF8&tag=greenteapre01-20&linkCode=ur2&linkId=e2a529f94920295d27ec8a06e757dc7c&camp=1789&creative=9325)."
   ]
  },
  {
   "cell_type": "code",
   "execution_count": null,
   "id": "f388b1ee",
   "metadata": {},
   "outputs": [],
   "source": [
    "from os.path import basename, exists\n",
    "\n",
    "def download(url):\n",
    "    filename = basename(url)\n",
    "    if not exists(filename):\n",
    "        from urllib.request import urlretrieve\n",
    "\n",
    "        local, _ = urlretrieve(url, filename)\n",
    "        print(\"Downloaded \" + str(local))\n",
    "    return filename\n",
    "\n",
    "download('https://github.com/AllenDowney/ThinkPython/raw/v3/thinkpython.py');\n",
    "download('https://github.com/AllenDowney/ThinkPython/raw/v3/diagram.py');\n",
    "\n",
    "import thinkpython"
   ]
  },
  {
   "cell_type": "markdown",
   "id": "4670f9a2",
   "metadata": {},
   "source": [
    "# Chèn (Strings) ak ekspresyon regilye\n",
    "\n",
    "Chèn yo pa menm jan ak antye, floan, ak boulèn. Yon chèn se yon **sekans**, sa vle di li gen plizyè valè an òd.\n",
    "Nan chapit sa a nou pral wè ki jan pou jwenn aksè ak valè ki fòme yon chèn, epi nou pral itilize fonksyon pou trete chèn.\n",
    "\n",
    "Nou pral tou itilize ekspresyon regilye, ki se yon zouti pwisan pou jwenn modèl anndan yon chèn epi fè operasyon tankou rechèch ak ranplasman.\n",
    "\n",
    "Kòm egzèsis, w ap gen chans itilize zouti sa yo sou yon jwèt mo ki rele Wordle."
   ]
  },
  {
   "cell_type": "markdown",
   "id": "8197d12c",
   "metadata": {},
   "source": [
    "## Yon chèn se yon sekans\n",
    "\n",
    "Yon chèn se yon sekans karaktè. Yon **karaktè** ka lèt (nan preske nenpòt alfabè), chif, siy ponktiyasyon, oswa espas blanch.\n",
    "\n",
    "Ou ka chwazi yon karaktè anndan yon chèn ak operatè crochets `[ ]`.\n",
    "Egzanp deklarasyon sa a chwazi karaktè nimewo 1 nan `fruit` epi\n",
    "afekte li a `letter`:"
   ]
  },
  {
   "cell_type": "code",
   "execution_count": null,
   "id": "2180b2a6",
   "metadata": {},
   "outputs": [],
   "source": [
    "fruit = 'banana'\n",
    "letter = fruit[1]"
   ]
  },
  {
   "cell_type": "markdown",
   "id": "c599fbd2",
   "metadata": {},
   "source": [
    "Ekspresyon anndan crochets yo se yon **indèks**, rele konsa paske li *endike* ki karaktè anndan sekans la pou chwazi.\n",
    "Men rezilta a ka pa sa ou te atann."
   ]
  },
  {
   "cell_type": "code",
   "execution_count": null,
   "id": "9eabfac1",
   "metadata": {},
   "outputs": [],
   "source": [
    "letter"
   ]
  },
  {
   "cell_type": "markdown",
   "id": "b42668bb",
   "metadata": {},
   "source": [
    "Lèt ki gen indèks `1` se enben dezyèm lèt chèn lan.\n",
    "Yon indèks se yon deplasman depi kòmansman chèn lan, kidonk deplasman premye lèt la se `0`."
   ]
  },
  {
   "cell_type": "code",
   "execution_count": null,
   "id": "4f94522c",
   "metadata": {},
   "outputs": [],
   "source": [
    "fruit[0]"
   ]
  },
  {
   "cell_type": "markdown",
   "id": "fd6b845e",
   "metadata": {},
   "source": [
    "Ou ka konsidere `'b'` kòm lèt 0yèm (zèv) `banana` — pwononse \"zérowitièm\".\n",
    "\n",
    "Indèks la anndan crochets yo ka yon varyab."
   ]
  },
  {
   "cell_type": "code",
   "execution_count": null,
   "id": "796126dd",
   "metadata": {},
   "outputs": [],
   "source": [
    "i = 1\n",
    "fruit[i]"
   ]
  },
  {
   "cell_type": "markdown",
   "id": "366f5bd6",
   "metadata": {},
   "source": [
    "Oubyen yon ekspresyon ki gen varyab ak operatè."
   ]
  },
  {
   "cell_type": "code",
   "execution_count": null,
   "id": "5b8296f7",
   "metadata": {},
   "outputs": [],
   "source": [
    "fruit[i+1]"
   ]
  },
  {
   "cell_type": "markdown",
   "id": "ab63c456",
   "metadata": {},
   "source": [
    "Men valè indèks la dwe yon antye — sinon ou jwenn yon `TypeError`."
   ]
  },
  {
   "cell_type": "code",
   "execution_count": null,
   "id": "5f3e9445",
   "metadata": {},
   "outputs": [],
   "source": [
    "%%expect TypeError\n",
    "\n",
    "fruit[1.5]"
   ]
  },
  {
   "cell_type": "markdown",
   "id": "84b7c95a",
   "metadata": {},
   "source": [
    "Kòm nou te wè nan Chapit 1, nou ka itilize fonksyon bati-an `len` pou jwenn longè yon chèn."
   ]
  },
  {
   "cell_type": "code",
   "execution_count": null,
   "id": "c2c897bc",
   "metadata": {},
   "outputs": [],
   "source": [
    "n = len(fruit)\n",
    "n"
   ]
  },
  {
   "cell_type": "markdown",
   "id": "b7dd44d1",
   "metadata": {},
   "source": [
    "Pou jwenn dènye lèt yon chèn, ou ta ka tente ekri sa a:"
   ]
  },
  {
   "cell_type": "code",
   "execution_count": null,
   "id": "ba694b61",
   "metadata": {},
   "outputs": [],
   "source": [
    "%%expect IndexError\n",
    "\n",
    "fruit[n]"
   ]
  },
  {
   "cell_type": "markdown",
   "id": "ac1f6e36",
   "metadata": {},
   "source": [
    "Men sa lakòz yon `IndexError` paske pa gen lèt nan `'banana'` ak indèks 6. Paske nou te kòmanse konte a `0`, sis lèt yo numewote `0` rive `5`. Pou jwenn dènye karaktè a, ou dwe retire `1` sou `n`:"
   ]
  },
  {
   "cell_type": "code",
   "execution_count": null,
   "id": "3efee157",
   "metadata": {},
   "outputs": [],
   "source": [
    "fruit[n-1]"
   ]
  },
  {
   "cell_type": "markdown",
   "id": "98b77c2d",
   "metadata": {},
   "source": [
    "Men gen yon fason pi fasil.\n",
    "Pou jwenn dènye lèt yon chèn, ou ka itilize yon indèks negatif, ki konte apati fen an."
   ]
  },
  {
   "cell_type": "code",
   "execution_count": null,
   "id": "b916bda6",
   "metadata": {},
   "outputs": [],
   "source": [
    "fruit[-1]"
   ]
  },
  {
   "cell_type": "markdown",
   "id": "fcaa6d0c",
   "metadata": {},
   "source": [
    "Indèks `-1` chwazi dènye lèt la, `-2` chwazi dènye-1 (avan dènye) lèt la, etsetera."
   ]
  },
  {
   "cell_type": "markdown",
   "id": "d5a12e0a",
   "metadata": {},
   "source": [
    "## Morso chèn (String slices)\n",
    "\n",
    "Yon segman chèn rele yon **slice**.\n",
    "Chwazi yon slice sanble ak chwazi yon karaktè."
   ]
  },
  {
   "cell_type": "code",
   "execution_count": null,
   "id": "c8f880a6",
   "metadata": {},
   "outputs": [],
   "source": [
    "fruit = 'banana'\n",
    "fruit[0:3]"
   ]
  },
  {
   "cell_type": "markdown",
   "id": "228c7e22",
   "metadata": {},
   "source": [
    "Operatè `[n:m]` retounen pati chèn lan soti nan karaktè `n` jiska karaktè `m`, enkli premye a men pa dezyèm lan.\n",
    "Konpòtman sa a ka sanble kont-entitif, men ou ka imajine indèks yo pwenyen *ant* karaktè yo, jan figur la montre.\n",
    "\n",
    "Pa egzanp, slice `[3:6]` chwazi lèt `ana`, sa vle di `6` legal kòm pati yon slice, men pa legal kòm yon indèks."
   ]
  },
  {
   "cell_type": "code",
   "execution_count": null,
   "id": "b79a3507",
   "metadata": {},
   "outputs": [],
   "source": [
    "from diagram import make_binding, Element, Value\n",
    "\n",
    "binding = make_binding(\"fruit\", ' b a n a n a ')\n",
    "elements = [Element(Value(i), None) for i in range(7)]"
   ]
  },
  {
   "cell_type": "code",
   "execution_count": null,
   "id": "b2d85258",
   "metadata": {},
   "outputs": [],
   "source": [
    "import matplotlib.pyplot as plt\n",
    "from diagram import diagram, adjust\n",
    "from matplotlib.transforms import Bbox\n",
    "\n",
    "width, height, x, y = [1.35, 0.54, 0.23, 0.39]\n",
    "\n",
    "ax = diagram(width, height)\n",
    "bbox = binding.draw(ax, x, y)\n",
    "bboxes = [bbox]\n",
    "\n",
    "def draw_elts(x, y, elements):\n",
    "    for elt in elements:\n",
    "        bbox = elt.draw(ax, x, y, draw_value=False)\n",
    "        bboxes.append(bbox)\n",
    "\n",
    "        x1 = (bbox.xmin + bbox.xmax) / 2\n",
    "        y1 = bbox.ymax + 0.02\n",
    "        y2 = y1 + 0.14\n",
    "        handle = plt.plot([x1, x1], [y1, y2], ':', lw=0.5, color='gray')\n",
    "        x += 0.105\n",
    "    \n",
    "draw_elts(x + 0.48, y - 0.25, elements)\n",
    "bbox = Bbox.union(bboxes)"
   ]
  },
  {
   "cell_type": "markdown",
   "id": "651afefd",
   "metadata": {},
   "source": [
    "Si ou omèt premye indèks la, slice la kòmanse depi kòmansman chèn lan."
   ]
  },
  {
   "cell_type": "code",
   "execution_count": null,
   "id": "013f5613",
   "metadata": {},
   "outputs": [],
   "source": [
    "fruit[:3]"
   ]
  },
  {
   "cell_type": "markdown",
   "id": "101e1318",
   "metadata": {},
   "source": [
    "Si ou omèt dezyèm indèks la, slice la ale jiska fen chèn lan:"
   ]
  },
  {
   "cell_type": "code",
   "execution_count": null,
   "id": "5d8e3541",
   "metadata": {},
   "outputs": [],
   "source": [
    "fruit[3:]"
   ]
  },
  {
   "cell_type": "markdown",
   "id": "aa03e961",
   "metadata": {},
   "source": [
    "Si premye indèks la pi gran oswa egal a dezyèm lan, rezilta a se yon **chèn vid**, reprezante pa de karakter giyòm:"
   ]
  },
  {
   "cell_type": "code",
   "execution_count": null,
   "id": "382f3569",
   "metadata": {},
   "outputs": [],
   "source": [
    "fruit[3:3]"
   ]
  },
  {
   "cell_type": "markdown",
   "id": "e6fa0649",
   "metadata": {},
   "source": [
    "Yon chèn vid pa gen okenn karaktè epi longè li se 0.\n",
    "\n",
    "Kontinye egzanp sa a, kisa ou panse `fruit[:]` vle di? Eseye li epi\n",
    "wè."
   ]
  },
  {
   "cell_type": "code",
   "execution_count": null,
   "id": "24ad9eed",
   "metadata": {},
   "outputs": [],
   "source": [
    "fruit[:]"
   ]
  },
  {
   "cell_type": "markdown",
   "id": "409bde47",
   "metadata": {},
   "source": [
    "## Chèn yo pa chanjab (immutable)\n",
    "\n",
    "Li tante pou itilize operatè `[]` sou bò gòch yon\n",
    "afektasyon, avèk entansyon chanje yon karaktè nan yon chèn, tankou sa a:"
   ]
  },
  {
   "cell_type": "code",
   "execution_count": null,
   "id": "0b713839",
   "metadata": {},
   "outputs": [],
   "source": [
    "%%expect TypeError\n",
    "\n",
    "greeting = 'Hello, world!'\n",
    "greeting[0] = 'J'"
   ]
  },
  {
   "cell_type": "markdown",
   "id": "757bcf55",
   "metadata": {},
   "source": [
    "Rezilta a se yon `TypeError`.\n",
    "Nan mesaj erè a, \"objè\" a se chèn lan epi \"item\" lan se karaktè\n",
    "nou te eseye afekte.\n",
    "Pou kounye a, yon **objè** se menm bagay ak yon valè, men nou pral rafine definisyon sa a pita.\n",
    "\n",
    "Rezon erè a se paske chèn yo **immutable**, sa vle di ou pa ka chanje yon chèn ki ekziste deja.\n",
    "Pi bon bagay ou ka fè se kreye yon nouvo chèn ki se yon varyasyon chèn orijinal la."
   ]
  },
  {
   "cell_type": "code",
   "execution_count": null,
   "id": "4330efab",
   "metadata": {},
   "outputs": [],
   "source": [
    "new_greeting = 'J' + greeting[1:]\n",
    "new_greeting"
   ]
  },
  {
   "cell_type": "markdown",
   "id": "6ef0d87f",
   "metadata": {},
   "source": [
    "Egzanp sa a kontkatene yon nouvo premye lèt sou yon slice `greeting`.\n",
    "Sa pa gen okenn efè sou chèn orijinal la."
   ]
  },
  {
   "cell_type": "code",
   "execution_count": null,
   "id": "b09996e3",
   "metadata": {},
   "outputs": [],
   "source": [
    "greeting"
   ]
  },
  {
   "cell_type": "markdown",
   "id": "629dd597",
   "metadata": {},
   "source": [
    "## Konparezon chèn\n",
    "\n",
    "Operatè relasyonèl yo mache sou chèn. Pou wè si de chèn\n",
    "egal, nou ka itilize operatè `==`."
   ]
  },
  {
   "cell_type": "code",
   "execution_count": null,
   "id": "60fe6cd0",
   "metadata": {
    "lines_to_next_cell": 1
   },
   "outputs": [],
   "source": [
    "word = 'banana'\n",
    "\n",
    "if word == 'banana':\n",
    "    print('All right, banana.')"
   ]
  },
  {
   "cell_type": "markdown",
   "id": "66287707",
   "metadata": {},
   "source": [
    "Lòt operasyon relasyonèl itil pou mete mo yo nan lòd alfabetik:"
   ]
  },
  {
   "cell_type": "code",
   "execution_count": null,
   "id": "268ad627",
   "metadata": {
    "lines_to_next_cell": 1
   },
   "outputs": [],
   "source": [
    "def compare_word(word):\n",
    "    if word < 'banana':\n",
    "        print(word, 'comes before banana.')\n",
    "    elif word > 'banana':\n",
    "        print(word, 'comes after banana.')\n",
    "    else:\n",
    "        print('All right, banana.')"
   ]
  },
  {
   "cell_type": "code",
   "execution_count": null,
   "id": "0a63215c",
   "metadata": {},
   "outputs": [],
   "source": [
    "compare_word('apple')"
   ]
  },
  {
   "cell_type": "markdown",
   "id": "e9bc8817",
   "metadata": {},
   "source": [
    "Python pa trete lèt majiskil ak miniskil menmt jan\n",
    "moun fè. Tout lèt majiskil yo vini anvan tout lèt miniskil\n",
    "yo, kidonk:"
   ]
  },
  {
   "cell_type": "code",
   "execution_count": null,
   "id": "46b4cac8",
   "metadata": {},
   "outputs": [],
   "source": [
    "compare_word('Pineapple')"
   ]
  },
  {
   "cell_type": "markdown",
   "id": "4ef3bfb6",
   "metadata": {},
   "source": [
    "Pou rezoud pwoblèm sa a, nou ka konvèti chèn yo an yon fòma estanda, tankou tout an miniskil, anvan nou fè konparezon an.\n",
    "Sonje sa si ou dwe defann tèt ou kont yon moun ki gen yon Pineapple."
   ]
  },
  {
   "cell_type": "markdown",
   "id": "6fc7257a",
   "metadata": {},
   "source": [
    "## Metòd chèn\n",
    "\n",
    "Chèn bay metòd ki fè plizyè operasyon itil.\n",
    "Yon metòd sanble ak yon fonksyon — li pran agiman epi retounen yon valè — men sentaks la diferan.\n",
    "Pa egzanp, metòd `upper` pran yon chèn epi retounen yon nouvo chèn ak tout lèt an majiskil.\n",
    "\n",
    "Olye de sentaks fonksyon `upper(word)`, li itilize sentaks metòd `word.upper()`."
   ]
  },
  {
   "cell_type": "code",
   "execution_count": null,
   "id": "1393e5d0",
   "metadata": {},
   "outputs": [],
   "source": [
    "word = 'banana'\n",
    "new_word = word.upper()\n",
    "new_word"
   ]
  },
  {
   "cell_type": "markdown",
   "id": "25abac5f",
   "metadata": {},
   "source": [
    "Itilizasyon operatè pwen sa a presize non metòd la, `upper`, ak non chèn lan pou aplike metòd la, `word`.\n",
    "Parantèz vid yo endike ke metòd sa a pa pran agiman.\n",
    "\n",
    "Yon apèl metòd rele yon **envokasyon**; nan ka sa a, nou ta di nou ap envoke `upper` sou `word`."
   ]
  },
  {
   "cell_type": "markdown",
   "id": "be27b95d",
   "metadata": {},
   "source": [
    "## Ekri fichye\n",
    "\n",
    "Operatè chèn ak metòd itil pou li epi ekri fichye tèks.\n",
    "Kòm egzanp, nou pral travay ak tèks *Dracula*, yon roman Bram Stoker ki disponib soti nan Project Gutenberg (<https://www.gutenberg.org/ebooks/345>)."
   ]
  },
  {
   "cell_type": "code",
   "execution_count": null,
   "id": "f40d6a7f",
   "metadata": {},
   "outputs": [],
   "source": [
    "import os\n",
    "\n",
    "if not os.path.exists('pg345.txt'):\n",
    "    !wget https://www.gutenberg.org/cache/epub/345/pg345.txt"
   ]
  },
  {
   "cell_type": "markdown",
   "id": "78a00abd",
   "metadata": {},
   "source": [
    "Mwen telechaje liv la nan yon fichye tèks ki rele `pg345.txt`, ke nou ka ouvri pou li konsa:"
   ]
  },
  {
   "cell_type": "code",
   "execution_count": null,
   "id": "d644ac59",
   "metadata": {
    "lines_to_next_cell": 1
   },
   "outputs": [],
   "source": [
    "reader = open('pg345.txt')"
   ]
  },
  {
   "cell_type": "markdown",
   "id": "e7d9ed70",
   "metadata": {},
   "source": [
    "Anplis tèks liv la, fichye sa a gen yon seksyon an kòmansman ak enfòmasyon sou liv la ak yon seksyon anfen ak enfòmasyon sou lisans lan.\n",
    "Anvan nou trete tèks la, nou ka retire materyèl sa a anplis lè nou jwenn liy espesyal yo an kòmansman ak anfen ki kòmanse ak `'***'`.\n",
    "\n",
    "Fonksyon sa a pran yon liy epi tcheke si se youn nan liy espesyal yo.\n",
    "Li itilize metòd `startswith` ki tcheke si yon chèn kòmanse ak yon sekans karaktè bay."
   ]
  },
  {
   "cell_type": "code",
   "execution_count": null,
   "id": "c005899c",
   "metadata": {
    "lines_to_next_cell": 1
   },
   "outputs": [],
   "source": [
    "def is_special_line(line):\n",
    "    return line.startswith('*** ')"
   ]
  },
  {
   "cell_type": "markdown",
   "id": "8cdf594a",
   "metadata": {},
   "source": [
    "Nou ka itilize fonksyon sa a pou boukle sou liy yo nan fichye a epi montre sèlman liy espesyal yo."
   ]
  },
  {
   "cell_type": "code",
   "execution_count": null,
   "id": "32707264",
   "metadata": {},
   "outputs": [],
   "source": [
    "for line in reader:\n",
    "    if is_special_line(line):\n",
    "        print(line.strip())"
   ]
  },
  {
   "cell_type": "markdown",
   "id": "867c2422",
   "metadata": {},
   "source": [
    "Kounye a ann kreye yon nouvo fichye, `pg345_cleaned.txt`, ki gen sèlman tèks liv la.\n",
    "Pou nou boukle ankò sou liv la, nou dwe reouvri li pou li.\n",
    "E pou ekri yon nouvo fichye, nou ka ouvri li pou ekri."
   ]
  },
  {
   "cell_type": "code",
   "execution_count": null,
   "id": "a63116cf",
   "metadata": {},
   "outputs": [],
   "source": [
    "reader = open('pg345.txt')\n",
    "writer = open('pg345_cleaned.txt', 'w')"
   ]
  },
  {
   "cell_type": "markdown",
   "id": "9949a2a7",
   "metadata": {},
   "source": [
    "`open` pran yon paramèt opsyonèl ki endike \"mòd\" — nan egzanp sa a, `'w'` endike nou ouvri fichye a pou ekri.\n",
    "Si fichye a pa egziste, li pral kreye; si li ekziste deja, kontni li yo pral ranplase.\n",
    "\n",
    "Kòm premye etap, nou pral boukle sou fichye a jiskaske nou jwenn premye liy espesyal la."
   ]
  },
  {
   "cell_type": "code",
   "execution_count": null,
   "id": "8bbcb4b8",
   "metadata": {},
   "outputs": [],
   "source": [
    "for line in reader:\n",
    "    if is_special_line(line):\n",
    "        break"
   ]
  },
  {
   "cell_type": "markdown",
   "id": "82d00116",
   "metadata": {},
   "source": [
    "Enstriksyon `break` la \"kasé\" bouk la — sa vle di li fè bouk la fini imedyatman, anvan nou rive fen fichye a.\n",
    "\n",
    "Lè bouk la fini, `line` gen liy espesyal ki te fè kondisyon an vre."
   ]
  },
  {
   "cell_type": "code",
   "execution_count": null,
   "id": "9e67d16f",
   "metadata": {},
   "outputs": [],
   "source": [
    "line"
   ]
  },
  {
   "cell_type": "markdown",
   "id": "9bb4cf90",
   "metadata": {},
   "source": [
    "Paske `reader` kenbe kote l ye nan fichye a, nou ka itilize yon dezyèm bouk pou kontinye kote nou te rete.\n",
    "\n",
    "Bouk sa a li rès fichye a, liy pa liy.\n",
    "Lè li jwenn liy espesyal ki endike fen tèks la, li kase bouk la.\n",
    "Sinon, li ekri liy la nan fichye sortan an."
   ]
  },
  {
   "cell_type": "code",
   "execution_count": null,
   "id": "9268694b",
   "metadata": {},
   "outputs": [],
   "source": [
    "for line in reader:\n",
    "    if is_special_line(line):\n",
    "        break\n",
    "    writer.write(line)"
   ]
  },
  {
   "cell_type": "markdown",
   "id": "81033d30",
   "metadata": {},
   "source": [
    "Lè bouk sa a fini, `line` gen dezyèm liy espesyal la."
   ]
  },
  {
   "cell_type": "code",
   "execution_count": null,
   "id": "3d816c4d",
   "metadata": {},
   "outputs": [],
   "source": [
    "line"
   ]
  },
  {
   "cell_type": "markdown",
   "id": "dcc3d35b",
   "metadata": {},
   "source": [
    "Kounye a `reader` ak `writer` toujou ouvè, sa vle di nou te kapab kontinye li liy nan `reader` oswa ekri liy nan `writer`.\n",
    "Pou endike nou fini, nou ka fèmen toude fichye yo ak metòd `close`."
   ]
  },
  {
   "cell_type": "code",
   "execution_count": null,
   "id": "f35c9f98",
   "metadata": {},
   "outputs": [],
   "source": [
    "reader.close()\n",
    "writer.close()"
   ]
  },
  {
   "cell_type": "markdown",
   "id": "d3c42a22",
   "metadata": {},
   "source": [
    "Pou verifye si pwosesis sa a te reyisi, nou ka li premye kèk liy nan nouvo fichye nou sot kreye a."
   ]
  },
  {
   "cell_type": "code",
   "execution_count": null,
   "id": "5aed4fb5",
   "metadata": {},
   "outputs": [],
   "source": [
    "for line in open('pg345_cleaned.txt'):\n",
    "    line = line.strip()\n",
    "    if len(line) > 0:\n",
    "        print(line)\n",
    "    if line.endswith('Stoker'):\n",
    "        break"
   ]
  },
  {
   "cell_type": "markdown",
   "id": "2e178df4",
   "metadata": {},
   "source": [
    "Metòd `endswith` tcheke si yon chèn fini ak yon sekans karaktè bay."
   ]
  },
  {
   "cell_type": "markdown",
   "id": "dab2d25a",
   "metadata": {},
   "source": [
    "## Jwenn ak ranplase (Find and replace)\n",
    "\n",
    "Nan tradiksyon islandè *Dracula* an 1901, non youn nan pèsonaj yo te chanje soti nan \"Jonathan\" pou \"Thomas\".\n",
    "Pou fè chanjman sa a nan vèsyon angle a, nou ka boukle sou liv la, itilize metòd `replace` pou ranplase yon non pa yon lòt, epi ekri rezilta a nan yon nouvo fichye.\n",
    "\n",
    "Nou pral kòmanse pa konte konbyen liy ki gen \"Jonathan\" an vèsyon netwaye fichye a."
   ]
  },
  {
   "cell_type": "code",
   "execution_count": null,
   "id": "cf19ca4b",
   "metadata": {},
   "outputs": [],
   "source": [
    "total = 0\n",
    "for line in open('pg345_cleaned.txt'):\n",
    "    total += 1\n",
    "    \n",
    "total"
   ]
  },
  {
   "cell_type": "markdown",
   "id": "9bff8102",
   "metadata": {},
   "source": [
    "Pou wè si yon liy gen \"Jonathan\", nou ka itilize operatè `in` ki tcheke si sekans karaktè sa a parèt nenpòt kote nan liy lan."
   ]
  },
  {
   "cell_type": "code",
   "execution_count": null,
   "id": "ea03cbde",
   "metadata": {},
   "outputs": [],
   "source": [
    "total = 0\n",
    "for line in open('pg345_cleaned.txt'):\n",
    "    if 'Jonathan' in line:\n",
    "        total += 1\n",
    "\n",
    "total"
   ]
  },
  {
   "cell_type": "markdown",
   "id": "c4741e41",
   "metadata": {},
   "source": [
    "Gen 199 liy ki gen non an, men sa pa konplètman konte total fwa li parèt, paske li ka parèt plis pase yon fwa nan yon liy.\n",
    "Pou jwenn total la, nou ka itilize metòd `count` ki retounen konbyen fwa yon sekans parèt nan yon chèn."
   ]
  },
  {
   "cell_type": "code",
   "execution_count": null,
   "id": "3d2600b6",
   "metadata": {},
   "outputs": [],
   "source": [
    "total = 0\n",
    "for line in open('pg345_cleaned.txt'):\n",
    "    total += line.count('Jonathan')\n",
    "\n",
    "total"
   ]
  },
  {
   "cell_type": "markdown",
   "id": "2c09c05e",
   "metadata": {},
   "source": [
    "Kounye a nou ka ranplase `'Jonathan'` pa `'Thomas'` konsa:"
   ]
  },
  {
   "cell_type": "code",
   "execution_count": null,
   "id": "50acb8cb",
   "metadata": {},
   "outputs": [],
   "source": [
    "writer = open('pg345_replaced.txt', 'w')\n",
    "\n",
    "for line in open('pg345_cleaned.txt'):\n",
    "    line = line.replace('Jonathan', 'Thomas')\n",
    "    writer.write(line)"
   ]
  },
  {
   "cell_type": "markdown",
   "id": "599d7ae0",
   "metadata": {},
   "source": [
    "Rezilta a se yon nouvo fichye `pg345_replaced.txt` ki gen yon vèsyon *Dracula* kote Jonathan Harker rele Thomas."
   ]
  },
  {
   "cell_type": "code",
   "execution_count": null,
   "id": "f0b17039",
   "metadata": {},
   "outputs": [],
   "source": [
    "total = 0\n",
    "for line in open('pg345_replaced.txt'):\n",
    "    total += line.count('Thomas')\n",
    "\n",
    "total"
   ]
  },
  {
   "cell_type": "markdown",
   "id": "42db2880",
   "metadata": {},
   "source": [
    "## Ekspresyon regilye (Regular expressions)\n",
    "\n",
    "Si nou konnen egzakteman ki sekans karaktè nou ap chèche, nou ka itilize operatè `in` pou jwenn li ak metòd `replace` pou ranplase li.\n",
    "Men gen yon lòt zouti, ki rele **ekspresyon regilye** (regular expression), ki ka fè operasyon sa yo — epi anpil plis.\n",
    "\n",
    "Pou demontre, mwen pral kòmanse ak yon egzanp senp epi nou pral avanse.\n",
    "Imajine, ankò, nou vle jwenn tout liy ki gen yon mo an patikilye.\n",
    "Pou chanje, ann chèche referans pou pèsonaj tit la, Count Dracula.\n",
    "Men yon liy ki mansyone li."
   ]
  },
  {
   "cell_type": "code",
   "execution_count": null,
   "id": "89b1b83e",
   "metadata": {},
   "outputs": [],
   "source": [
    "text = \"I am Dracula; and I bid you welcome, Mr. Harker, to my house.\""
   ]
  },
  {
   "cell_type": "markdown",
   "id": "26c240df",
   "metadata": {},
   "source": [
    "E men **modèl** (pattern) nou pral itilize pou rechèch la."
   ]
  },
  {
   "cell_type": "code",
   "execution_count": null,
   "id": "6e3dbe09",
   "metadata": {},
   "outputs": [],
   "source": [
    "pattern = 'Dracula'"
   ]
  },
  {
   "cell_type": "markdown",
   "id": "75eb9387",
   "metadata": {},
   "source": [
    "Yon modil `re` bay fonksyon pou ekspresyon regilye.\n",
    "Nou ka enpòte li konsa epi itilize fonksyon `search` pou tcheke si modèl la parèt nan tèks la."
   ]
  },
  {
   "cell_type": "code",
   "execution_count": null,
   "id": "c6c30aec",
   "metadata": {},
   "outputs": [],
   "source": [
    "import re\n",
    "\n",
    "result = re.search(pattern, text)\n",
    "result"
   ]
  },
  {
   "cell_type": "markdown",
   "id": "5e16791a",
   "metadata": {},
   "source": [
    "Si modèl la parèt nan tèks la, `search` retounen yon objè `Match` ki gen rezilta rechèch la.\n",
    "Pami lòt enfòmasyon, li gen yon varyab `string` ki gen tèks nou te fouye a."
   ]
  },
  {
   "cell_type": "code",
   "execution_count": null,
   "id": "902fd0d5",
   "metadata": {},
   "outputs": [],
   "source": [
    "result.string"
   ]
  },
  {
   "cell_type": "markdown",
   "id": "630104bf",
   "metadata": {},
   "source": [
    "Li gen tou yon metòd `group` ki retounen pati tèks ki te mache ak modèl la."
   ]
  },
  {
   "cell_type": "code",
   "execution_count": null,
   "id": "f787aee1",
   "metadata": {},
   "outputs": [],
   "source": [
    "result.group()"
   ]
  },
  {
   "cell_type": "markdown",
   "id": "66961b6b",
   "metadata": {},
   "source": [
    "E li gen yon metòd `span` ki retounen indèks anndan tèks la kote modèl la kòmanse ak fini."
   ]
  },
  {
   "cell_type": "code",
   "execution_count": null,
   "id": "e8602e77",
   "metadata": {},
   "outputs": [],
   "source": [
    "result.span()"
   ]
  },
  {
   "cell_type": "markdown",
   "id": "7ff9c88d",
   "metadata": {},
   "source": [
    "Si modèl la pa parèt nan tèks la, valè retounen `search` la se `None`."
   ]
  },
  {
   "cell_type": "code",
   "execution_count": null,
   "id": "bed8e037",
   "metadata": {},
   "outputs": [],
   "source": [
    "result = re.search('Count', text)\n",
    "print(result)"
   ]
  },
  {
   "cell_type": "markdown",
   "id": "ad10bc95",
   "metadata": {},
   "source": [
    "Konsa nou ka tcheke si rechèch la reyisi pa tcheke si rezilta a se `None`."
   ]
  },
  {
   "cell_type": "code",
   "execution_count": null,
   "id": "52d6b9a3",
   "metadata": {
    "lines_to_next_cell": 1
   },
   "outputs": [],
   "source": [
    "result == None"
   ]
  },
  {
   "cell_type": "markdown",
   "id": "1ba80278",
   "metadata": {},
   "source": [
    "Mete tout sa ansanm, men yon fonksyon ki boukle sou liy yo nan liv la jiskaske li jwenn youn ki mache ak modèl la bay, epi li retounen objè `Match` la."
   ]
  },
  {
   "cell_type": "code",
   "execution_count": null,
   "id": "3f92b7a6",
   "metadata": {
    "lines_to_next_cell": 1
   },
   "outputs": [],
   "source": [
    "def find_first(pattern):\n",
    "    for line in open('pg345_cleaned.txt'):\n",
    "        result = re.search(pattern, line)\n",
    "        if result != None:\n",
    "            return result"
   ]
  },
  {
   "cell_type": "markdown",
   "id": "dda100bd",
   "metadata": {},
   "source": [
    "Nou ka itilize li pou jwenn premye mansyon yon pèsonaj."
   ]
  },
  {
   "cell_type": "code",
   "execution_count": null,
   "id": "06d41ed9",
   "metadata": {},
   "outputs": [],
   "source": [
    "result = find_first('Harker')\n",
    "result.string"
   ]
  },
  {
   "cell_type": "markdown",
   "id": "c6c7140d",
   "metadata": {},
   "source": [
    "Pou egzanp sa a, nou pa te bezwen ekspresyon regilye — nou te ka fè menm bagay la pi fasil ak operatè `in`.\n",
    "Men ekspresyon regilye ka fè bagay ke operatè `in` pa ka fè.\n",
    "\n",
    "Pa egzanp, si modèl la gen karakter ba vètikal, `'|'`, li ka mache swa sekans a goch oswa sekans a dwat.\n",
    "Imajine nou vle jwenn premye mansyon Mina Murray, men nou pa sèten si li refere pa prenon oswa non.\n",
    "Nou ka itilize modèl sa a ki mache ak youn oswa lòt non."
   ]
  },
  {
   "cell_type": "code",
   "execution_count": null,
   "id": "e0bb9828",
   "metadata": {
    "lines_to_next_cell": 1
   },
   "outputs": [],
   "source": [
    "pattern = r'Mina|Murray'\n",
    "result = find_first(pattern)\n",
    "result.string"
   ]
  },
  {
   "cell_type": "markdown",
   "id": "41c5d8b6",
   "metadata": {},
   "source": [
    "Nou ka itilize modèl konsa pou wè konbyen fwa Mina mansyone pa youn oswa lòt non.\n",
    "Men yon fonksyon ki boukle sou liv la epi konte konbyen liy ki mache ak modèl la bay."
   ]
  },
  {
   "cell_type": "code",
   "execution_count": null,
   "id": "4955a36d",
   "metadata": {
    "lines_to_next_cell": 1
   },
   "outputs": [],
   "source": [
    "def count_matches(pattern):\n",
    "    count = 0\n",
    "    for line in open('pg345_cleaned.txt'):\n",
    "        result = re.search(pattern, line)\n",
    "        if result != None:\n",
    "            count += 1\n",
    "    return count"
   ]
  },
  {
   "cell_type": "markdown",
   "id": "99f7c9d8",
   "metadata": {},
   "source": [
    "Ann wè konbyen fwa Mina mansyone."
   ]
  },
  {
   "cell_type": "code",
   "execution_count": null,
   "id": "dc8a8227",
   "metadata": {},
   "outputs": [],
   "source": [
    "count_matches('Mina|Murray')"
   ]
  },
  {
   "cell_type": "markdown",
   "id": "e4f4a5aa",
   "metadata": {},
   "source": [
    "Karaktè espesyal `'^'` mache ak kòmansman chèn lan, konsa nou ka jwenn liy ki kòmanse ak modèl bay."
   ]
  },
  {
   "cell_type": "code",
   "execution_count": null,
   "id": "234e638f",
   "metadata": {},
   "outputs": [],
   "source": [
    "result = find_first('^Dracula')\n",
    "result.string"
   ]
  },
  {
   "cell_type": "markdown",
   "id": "f88287ea",
   "metadata": {},
   "source": [
    "E karaktè espesyal `'$'` mache ak fen chèn lan, konsa nou ka jwenn liy ki fini ak modèl bay (ignòre nouvo liy anfen)."
   ]
  },
  {
   "cell_type": "code",
   "execution_count": null,
   "id": "ebc6e49a",
   "metadata": {},
   "outputs": [],
   "source": [
    "result = find_first('Harker$')\n",
    "result.string"
   ]
  },
  {
   "cell_type": "markdown",
   "id": "efc41338",
   "metadata": {},
   "source": [
    "## Ranplasman chèn\n",
    "\n",
    "Bram Stoker te fèt an Iland, epi lè *Dracula* te pibliye an 1897, li t ap viv an Angletè.\n",
    "Kidonk nou ka atann li sèvi ak òtograf britanik pou mo tankou \"centre\" ak \"colour\".\n",
    "Pou verifye, nou ka itilize modèl sa a ki mache ak \"centre\" oswa òtograf ameriken \"center\"."
   ]
  },
  {
   "cell_type": "code",
   "execution_count": null,
   "id": "c3131ae3",
   "metadata": {},
   "outputs": [],
   "source": [
    "pattern = 'cent(er|re)'"
   ]
  },
  {
   "cell_type": "markdown",
   "id": "42aa8876",
   "metadata": {},
   "source": [
    "Nan modèl sa a, parantèz yo englobe pati modèl ba vètikal la aplikab sou li.\n",
    "Kidonk modèl sa a mache ak sekans ki kòmanse ak `'cent'` epi fini ak swa `'er'` oswa `'re'`."
   ]
  },
  {
   "cell_type": "code",
   "execution_count": null,
   "id": "899f44a2",
   "metadata": {},
   "outputs": [],
   "source": [
    "result = find_first(pattern)\n",
    "result.string"
   ]
  },
  {
   "cell_type": "markdown",
   "id": "203a2dd8",
   "metadata": {},
   "source": [
    "Jan nou te panse, li te itilize òtograf britanik.\n",
    "\n",
    "Nou ka tou verifye si li te itilize òtograf britanik pou \"colour\".\n",
    "Modèl sa a itilize karaktè espesyal `'?'` ki vle di karaktè anvan an opsyonèl."
   ]
  },
  {
   "cell_type": "code",
   "execution_count": null,
   "id": "50733723",
   "metadata": {},
   "outputs": [],
   "source": [
    "pattern = 'colou?r'"
   ]
  },
  {
   "cell_type": "markdown",
   "id": "e766a67a",
   "metadata": {},
   "source": [
    "Modèl sa a mache ak \"colour\" ak `'u'` a oswa \"color\" san li."
   ]
  },
  {
   "cell_type": "code",
   "execution_count": null,
   "id": "e1fbb88c",
   "metadata": {},
   "outputs": [],
   "source": [
    "result = find_first(pattern)\n",
    "line = result.string\n",
    "line"
   ]
  },
  {
   "cell_type": "markdown",
   "id": "953ee14d",
   "metadata": {},
   "source": [
    "Anko, jan nou te panse, li itilize òtograf britanik.\n",
    "\n",
    "Kounye a imajine nou vle pwodwi yon edisyon liv la ak òtograf ameriken.\n",
    "Nou ka itilize fonksyon `sub` nan modil `re` ki fè **substitisyon chèn**."
   ]
  },
  {
   "cell_type": "code",
   "execution_count": null,
   "id": "9b84212b",
   "metadata": {
    "lines_to_next_cell": 1
   },
   "outputs": [],
   "source": [
    "re.sub(pattern, 'color', line)"
   ]
  },
  {
   "cell_type": "markdown",
   "id": "55ddb6a8",
   "metadata": {},
   "source": [
    "Premye agiman an se modèl nou vle jwenn ak ranplase, dezyèm lan se sa nou vle ranplase l avèk, epi twazyèm lan se chèn nou vle fouye.\n",
    "Nan rezilta a, ou ka wè \"colour\" ranplase pa \"color\"."
   ]
  },
  {
   "cell_type": "code",
   "execution_count": null,
   "id": "e7c81c03",
   "metadata": {
    "lines_to_next_cell": 1
   },
   "outputs": [],
   "source": [
    "# Mwen te itilize fonksyon sa a pou fouye liy pou egzanp\n",
    "def all_matches(pattern):\n",
    "    for line in open('pg345_cleaned.txt'):\n",
    "        result = re.search(pattern, line)\n",
    "        if result:\n",
    "            print(line.strip())"
   ]
  },
  {
   "cell_type": "code",
   "execution_count": null,
   "id": "782aa04a",
   "metadata": {},
   "outputs": [],
   "source": [
    "names = r'(?<!\\.\\s)[A-Z][a-zA-Z]+'\n",
    "\n",
    "all_matches(names)"
   ]
  },
  {
   "cell_type": "markdown",
   "id": "20e03e29",
   "metadata": {},
   "source": [
    "## Debògaj\n",
    "\n",
    "Lè w ap li ak ekri fichye, debògaj ka difisil.\n",
    "Si ou ap travay nan yon notebook Jupyter, ou ka itilize **komann shell** pou ede w.\n",
    "Pa egzanp, pou montre premye kèk liy yon fichye, ou ka itilize komann `!head` konsa:"
   ]
  },
  {
   "cell_type": "code",
   "execution_count": null,
   "id": "f1e1573c",
   "metadata": {},
   "outputs": [],
   "source": [
    "!head pg345_cleaned.txt"
   ]
  },
  {
   "cell_type": "markdown",
   "id": "0f79fd75",
   "metadata": {},
   "source": [
    "Pwen eksklamasyon inisyal, `!`, endike se yon komann shell, ki pa fè pati Python.\n",
    "Pou montre dènye kèk liy yo, ou ka itilize `!tail`."
   ]
  },
  {
   "cell_type": "code",
   "execution_count": null,
   "id": "fd7426f4",
   "metadata": {},
   "outputs": [],
   "source": [
    "!tail pg345_cleaned.txt"
   ]
  },
  {
   "cell_type": "markdown",
   "id": "ab2c3d54",
   "metadata": {},
   "source": [
    "Lè w ap travay ak gwo fichye, debògaj ka difisil paske ka gen twòp rezilta pou verifye a la men.\n",
    "Yon bon estrateji debògaj se kòmanse ak sèlman yon pati fichye a, fè pwogram lan mache, epi apre sa kouri li sou tout fichye a.\n",
    "\n",
    "Pou fè yon ti fichye ki gen pati yon fichye pi gwo, nou ka itilize `!head` ankò ak operatè redireksyon `>`, ki endike rezilta yo ta dwe ekri nan yon fichye olye de montre."
   ]
  },
  {
   "cell_type": "code",
   "execution_count": null,
   "id": "c0149fa7",
   "metadata": {},
   "outputs": [],
   "source": [
    "!head pg345_cleaned.txt > pg345_cleaned_10_lines.txt"
   ]
  },
  {
   "cell_type": "markdown",
   "id": "b21f6ea5",
   "metadata": {},
   "source": [
    "Pa defo, `!head` li premye 10 liy yo, men li pran yon agiman opsyonèl ki endike kantite liy pou li."
   ]
  },
  {
   "cell_type": "code",
   "execution_count": null,
   "id": "f0c19deb",
   "metadata": {},
   "outputs": [],
   "source": [
    "!head -100 pg345_cleaned.txt > pg345_cleaned_100_lines.txt"
   ]
  },
  {
   "cell_type": "markdown",
   "id": "88f83fc5",
   "metadata": {},
   "source": [
    "Komann shell sa a li premye 100 liy yo soti nan `pg345_cleaned.txt` epi ekri yo nan yon fichye ki rele `pg345_cleaned_100_lines.txt`.\n",
    "\n",
    "Remak: Komann shell `!head` ak `!tail` pa disponib sou tout sistèm opere.\n",
    "Si yo pa mache pou ou, nou ka ekri fonksyon Python ki sanble.\n",
    "Gade premye egzèsis la anfen chapit la pou sijesyon."
   ]
  },
  {
   "cell_type": "markdown",
   "id": "9096cbd4",
   "metadata": {},
   "source": [
    "## Glosè\n",
    "\n",
    "**sekans:**\n",
    " Yon koleksyon valè ki òdone kote chak valè idantifye pa yon indèks antye.\n",
    "\n",
    "**karaktè:**\n",
    "Yon eleman chèn, ki enkli lèt, chif, ak senbòl.\n",
    "\n",
    "**indèks:**\n",
    " Yon valè antye ki itilize pou chwazi yon eleman nan yon sekans, tankou yon karaktè nan yon chèn. Nan Python, indèks yo kòmanse apati `0`.\n",
    "\n",
    "**slice:**\n",
    " Yon pati chèn endike pa yon seri indèks.\n",
    "\n",
    "**chèn vid:**\n",
    "Yon chèn ki pa gen karaktè epi ki gen longè `0`.\n",
    "\n",
    "**objè:**\n",
    " Yon bagay yon varyab ka refere a. Yon objè gen yon tip ak yon valè.\n",
    "\n",
    "**immutable:**\n",
    "Si eleman yon objè pa ka chanje, objè a immutable.\n",
    "\n",
    "**envokasyon:**\n",
    " Yon ekspresyon — oswa pati yon ekspresyon — ki rele yon metòd.\n",
    "\n",
    "**ekspresyon regilye (regular expression):**\n",
    "Yon sekans karaktè ki defini yon modèl rechèch.\n",
    "\n",
    "**modèl (pattern):**\n",
    "Yon règ ki presize kondisyon yon chèn dwe satisfè pou konsidere li kòm yon match.\n",
    "\n",
    "**substitisyon chèn (string substitution):**\n",
    "Ranplasman yon chèn, oswa pati yon chèn, ak yon lòt chèn.\n",
    "\n",
    "**komann shell:**\n",
    "Yon deklarasyon nan yon lang shell, ki se yon langaj pou kominike ak sistèm opere.\n",
    "\n",
    "**raw string:**\n",
    "Yon chèn Python ki gen lèt `r` anvan giyòm lan, ki endike ke bakslash ki parèt nan chèn lan pa dwe konsidere kòm pati yon sekans espesyal."
   ]
  },
  {
   "cell_type": "markdown",
   "id": "e0cfffed",
   "metadata": {},
   "source": [
    "## Egzèsis"
   ]
  },
  {
   "cell_type": "code",
   "execution_count": null,
   "id": "b2494ea5",
   "metadata": {},
   "outputs": [],
   "source": [
    "# Liy sa a di Jupyter pou bay enfòmasyon detaye sou debògaj\n",
    "# lè yon erè execisyon rive. Kouri li anvan ou travay sou egzèsis yo.\n",
    "\n",
    "%xmode Verbose"
   ]
  },
  {
   "cell_type": "code",
   "execution_count": null,
   "id": "7cd2907a",
   "metadata": {},
   "outputs": [],
   "source": [
    "download('https://raw.githubusercontent.com/AllenDowney/ThinkPython/v3/words.txt');"
   ]
  },
  {
   "cell_type": "markdown",
   "id": "6a57deff",
   "metadata": {},
   "source": [
    "### Mande yon asistan vityèl\n",
    "\n",
    "Nan chapit sa a, nou jis grate sifas sa ekspresyon regilye ka fè.\n",
    "Pou gen yon ide de sa ki posib, mande yon asistan vityèl, \"Ki karakter espesyal ki pi komen yo itilize nan ekspresyon regilye Python?\"\n",
    "\n",
    "Ou ka tou mande pou yon modèl ki matche ak kalite chèn espesifik.\n",
    "Pa egzanp, eseye mande:\n",
    "\n",
    "* Ekri yon ekspresyon regilye Python ki matche ak yon nimewo telefòn 10 chif ak tirè.\n",
    "\n",
    "* Ekri yon ekspresyon regilye Python ki matche ak yon adrès lari ak yon nimewo ak non lari a, suiv pa `ST` oswa `AVE`.\n",
    "\n",
    "* Ekri yon ekspresyon regilye Python ki matche ak yon non konplè ak nenpòt tit komen tankou `Mr` oswa `Mrs`, suiv pa nenpòt kantite non k ap kòmanse ak lèt majiskil, petèt ak tirè ant kèk non.\n",
    "\n",
    "E si ou vle wè yon bagay pi konplike, eseye mande yon ekspresyon regilye ki matche ak nenpòt URL legal.\n",
    "\n",
    "Souvan ekspresyon regilye gen lèt `r` anvan giyòm lan, ki endike se yon **raw string**.\n",
    "Pou plis enfòmasyon, mande yon asistan vityèl, \"Ki sa yon raw string ye an Python?\""
   ]
  },
  {
   "cell_type": "code",
   "execution_count": null,
   "id": "c64f1d36",
   "metadata": {
    "lines_to_next_cell": 1
   },
   "outputs": [],
   "source": [
    "from doctest import run_docstring_examples\n",
    "\n",
    "def run_doctests(func):\n",
    "    run_docstring_examples(func, globals(), name=func.__name__)"
   ]
  },
  {
   "cell_type": "markdown",
   "id": "cae05835",
   "metadata": {},
   "source": [
    "### Egzèsis\n",
    "\n",
    "Eseye ekri yon fonksyon ki fè menm bagay ak komann shell `!head`.\n",
    "Li ta dwe pran kòm agiman non fichye pou li, kantite liy pou li, ak non fichye pou ekri liy yo.\n",
    "Si twazyèm paramèt la se `None`, li ta dwe montre liy yo olye ekri yo nan yon fichye.\n",
    "\n",
    "Konsidere mande yon asistan vityèl pou ede, men si ou fè sa, di li pa sèvi ak `with` statement oswa `try` statement."
   ]
  },
  {
   "cell_type": "code",
   "execution_count": null,
   "id": "cde0f110",
   "metadata": {},
   "outputs": [],
   "source": [
    "# Solution goes here"
   ]
  },
  {
   "cell_type": "markdown",
   "id": "8bf36e72",
   "metadata": {},
   "source": [
    "Ou ka itilize egzanp sa yo pou teste fonksyon ou."
   ]
  },
  {
   "cell_type": "code",
   "execution_count": null,
   "id": "f70c8ba5",
   "metadata": {},
   "outputs": [],
   "source": [
    "head('pg345_cleaned.txt', 10)"
   ]
  },
  {
   "cell_type": "code",
   "execution_count": null,
   "id": "082beeb0",
   "metadata": {},
   "outputs": [],
   "source": [
    "head('pg345_cleaned.txt', 100, 'pg345_cleaned_100_lines.txt')"
   ]
  },
  {
   "cell_type": "code",
   "execution_count": null,
   "id": "b6139260",
   "metadata": {
    "lines_to_next_cell": 1
   },
   "outputs": [],
   "source": [
    "!tail pg345_cleaned_100_lines.txt"
   ]
  },
  {
   "cell_type": "markdown",
   "id": "e08022fa",
   "metadata": {},
   "source": [
    "### Egzèsis\n",
    "\n",
    "\"Wordle\" se yon jwèt mo sou entènèt kote objektif la se devine yon mo 5 lèt an mwens pase sis tantativ.\n",
    "Chak tantativ dwe rekonèt kòm mo, pa gen non pwòp.\n",
    "Apre chak tantativ, ou jwenn enfòmasyon sou ki lèt ou devine parèt nan mo objektif la, ak ki sa ki an bon pozisyon.\n",
    "\n",
    "Pa egzanp, sipoze mo objektif la se `MOWER` epi ou devine `TRIED`. \n",
    "Ou ta aprann ke `E` a se nan mo a epi an bon pozisyon, `R` se nan mo a men pa an bon pozisyon, epi `T`, `I`, ak `D` pa nan mo a.\n",
    "\n",
    "Kòm yon lòt egzanp, sipoze ou te devine mo `SPADE` ak `CLERK`, epi ou aprann ke `E` se nan mo a, men pa nan okenn pozisyon sa yo, epi okenn lòt lèt pa parèt nan mo a.\n",
    "\n",
    "Pami mo yo nan lis mo a, konbyen ki ka mo objektif la?\n",
    "Ekri yon fonksyon `check_word` ki pran yon mo 5 lèt epi tcheke si li kapab mo objektif la, donnen tantativ sa yo."
   ]
  },
  {
   "cell_type": "code",
   "execution_count": null,
   "id": "8bc9fdeb",
   "metadata": {},
   "outputs": [],
   "source": [
    "# Solution goes here"
   ]
  },
  {
   "cell_type": "markdown",
   "id": "8df33d8a",
   "metadata": {},
   "source": [
    "Ou ka itilize nenpòt fonksyon soti nan chapit anvan an, tankou `uses_any`."
   ]
  },
  {
   "cell_type": "code",
   "execution_count": null,
   "id": "a17a7501",
   "metadata": {
    "lines_to_next_cell": 1
   },
   "outputs": [],
   "source": [
    "def uses_any(word, letters):\n",
    "    for letter in word.lower():\n",
    "        if letter in letters.lower():\n",
    "            return True\n",
    "    return False"
   ]
  },
  {
   "cell_type": "markdown",
   "id": "a96cee29",
   "metadata": {},
   "source": [
    "Ou ka itilize bouk sa a pou teste fonksyon ou."
   ]
  },
  {
   "cell_type": "code",
   "execution_count": null,
   "id": "22de17bc",
   "metadata": {},
   "outputs": [],
   "source": [
    "for line in open('words.txt'):\n",
    "    word = line.strip()\n",
    "    if len(word) == 5 and check_word(word):\n",
    "        print(word)"
   ]
  },
  {
   "cell_type": "markdown",
   "id": "9886d616",
   "metadata": {},
   "source": [
    "### Egzèsis\n",
    "\n",
    "Kontinye egzèsis anvan an, sipoze ou devine mo `TOTEM` epi ou aprann ke `E` **toujou** pa an bon pozisyon, men `M` se.\n",
    "Konbyen mo ki rete?"
   ]
  },
  {
   "cell_type": "code",
   "execution_count": null,
   "id": "2c6050e2",
   "metadata": {},
   "outputs": [],
   "source": [
    "# Solution goes here"
   ]
  },
  {
   "cell_type": "code",
   "execution_count": null,
   "id": "92ab405a",
   "metadata": {},
   "outputs": [],
   "source": [
    "# Solution goes here"
   ]
  },
  {
   "cell_type": "markdown",
   "id": "5a834397",
   "metadata": {},
   "source": [
    "### Egzèsis\n",
    "\n",
    "*The Count of Monte Cristo* se yon roman pa Alexandre Dumas ki konsidere kòm yon klasik.\n",
    "Men, nan entwodiksyon tradiksyon angle liv la, ekriven Umberto Eco konfese li jwenn liv la \"youn nan pi mal ekri romàn tout tan\".\n",
    "\n",
    "Li di an patikilye, liv la \"shanblan\" nan repetisyon menm adjektif yo, epi li mansyone espesyalman konbyen fwa \"personaj yo swa tremble oswa vin pi blanch\".\n",
    "\n",
    "Pou wè si obsevasyon li a valab, ann konte konbyen fwa mo `pale` parèt an nenpòt fòm, enkli `pale`, `pales`, `paled`, `paleness`, epi mo ki gen rapò `pallor`.\n",
    "Sèvi ak yon sèl ekspresyon regilye ki mache ak tout mo sa yo ak pa lòt.\n",
    "\n",
    "Selil ki anba a telechaje liv la soti nan Project Gutenberg <https://www.gutenberg.org/ebooks/1184>."
   ]
  },
  {
   "cell_type": "code",
   "execution_count": null,
   "id": "63fcf26f",
   "metadata": {
    "lines_to_next_cell": 1
   },
   "outputs": [],
   "source": [
    "import os\n",
    "\n",
    "if not os.path.exists('pg1184.txt'):\n",
    "    !wget https://www.gutenberg.org/cache/epub/1184/pg1184.txt"
   ]
  },
  {
   "cell_type": "markdown",
   "id": "a6a3449b",
   "metadata": {},
   "source": [
    "Selil ki anba a kouri yon fonksyon ki li fichye a soti nan Project Gutenberg epi ekri yon fichye ki gen sèlman tèks liv la, san enfòmasyon anplis sou liv la."
   ]
  },
  {
   "cell_type": "code",
   "execution_count": null,
   "id": "2e2ed675",
   "metadata": {},
   "outputs": [],
   "source": [
    "def clean_file(input_file, output_file):\n",
    "    reader = open(input_file)\n",
    "    writer = open(output_file, 'w')\n",
    "\n",
    "    for line in reader:\n",
    "        if is_special_line(line):\n",
    "            break\n",
    "\n",
    "    for line in reader:\n",
    "        if is_special_line(line):\n",
    "            break\n",
    "        writer.write(line)\n",
    "        \n",
    "    reader.close()\n",
    "    writer.close()\n",
    "\n",
    "clean_file('pg1184.txt', 'pg1184_cleaned.txt')"
   ]
  },
  {
   "cell_type": "code",
   "execution_count": null,
   "id": "6b5b96cc",
   "metadata": {},
   "outputs": [],
   "source": [
    "# Solution goes here"
   ]
  },
  {
   "cell_type": "code",
   "execution_count": null,
   "id": "874c03d8",
   "metadata": {},
   "outputs": [],
   "source": [
    "# Solution goes here"
   ]
  },
  {
   "cell_type": "markdown",
   "id": "be6ed2fc",
   "metadata": {},
   "source": [
    "Selon konte mwen, mo sa yo parèt sou `223` liy liv la, kidonk Mr. Eco ka gen rezon."
   ]
  },
  {
   "cell_type": "code",
   "execution_count": null,
   "id": "ea490dac",
   "metadata": {
    "lines_to_next_cell": 3
   },
   "outputs": [],
   "source": []
  }
 ],
 "metadata": {
  "jupytext": {
   "cell_metadata_filter": "-all",
   "main_language": "python",
   "notebook_metadata_filter": "-all"
  },
  "language_info": {
   "name": "python"
  }
 },
 "nbformat": 4,
 "nbformat_minor": 5
}
