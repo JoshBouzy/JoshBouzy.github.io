{
 "cells": [
  {
   "cell_type": "markdown",
   "id": "7fcea2aa",
   "metadata": {},
   "source": [
    "Ou ka kòmande vèsyon enprime ak ebook pou *Think Python 3e* soti nan\n",
    "[Bookshop.org](https://bookshop.org/a/98697/9781098155438) ak\n",
    "[Amazon](https://www.amazon.com/_/dp/1098155432?smid=ATVPDKIKX0DER&_encoding=UTF8&tag=oreilly20-20&_encoding=UTF8&tag=greenteapre01-20&linkCode=ur2&linkId=e2a529f94920295d27ec8a06e757dc7c&camp=1789&creative=9325)."
   ]
  },
  {
   "cell_type": "markdown",
   "id": "94a1e6b0",
   "metadata": {},
   "source": [
    "# Prefas\n",
    "\n"
   ]
  },
  {
   "cell_type": "markdown",
   "id": "f1bb5b18",
   "metadata": {},
   "source": [
    "## Pou kiyès liv sa a ye?\n",
    "\n",
    "Si ou vle aprann pwogramasyon, ou rive kote pou sa.\n",
    "Python se youn nan pi bon langaj pwogramasyon pou debutan — epi li se tou youn nan konpetans ki pi mande.\n",
    "\n",
    "Ou vini tou nan bon moman, paske aprann pwogram kounye a pwobableman pi fasil pase avan.\n",
    "Avèk asistan vityèl tankou ChatGPT, ou pa oblije aprann pou kont ou.\n",
    "Pandan tout liv sa a, m ap sijere fason ou ka itilize zouti sa yo pou akselere aprantisaj ou.\n",
    "\n",
    "Liv sa a se prije pou moun ki pa janm pwogram anvan ak moun ki gen kèk eksperyans nan yon lòt langaj pwogramasyon.\n",
    "Si ou gen anpil eksperyans ak Python, ou ka twouve premye kèk chapit yo twò dousman.\n",
    "\n",
    "Youn nan difikilte aprann pwogramasyon se ke ou dwe aprann *de* lang: youn se langaj pwogramasyon li menm; lòt la se vokabilè nou itilize pou pale de pwogram.\n",
    "Si ou aprann sèlman langaj pwogramasyon an, ou ka gen pwoblèm lè ou bezwen entèprete yon mesaj erè, li dokimantasyon, pale ak yon lòt moun, oswa itilize asistan vityèl.\n",
    "Si ou te fè kèk pwogramasyon, men ou pa te aprann dezyèm lang sa a, mwen espere ou jwenn liv sa a itil."
   ]
  },
  {
   "cell_type": "markdown",
   "id": "5ede4224",
   "metadata": {},
   "source": [
    "## Objektif Liv la\n",
    "\n",
    "Lè m t ap ekri liv sa a, mwen te pran swen ak vokabilè a.\n",
    "Mwen defini chak tèm lè li parèt pou premye fwa.\n",
    "E gen yon glosè a la fen chak chapit ki raple tèm ki te prezante yo.\n",
    "\n",
    "Mwen eseye tou pou m kout.\n",
    "Mwens efò mantal li pran pou li liv la, plis kapasite ou ap genyen pou pwogramasyon.\n",
    "\n",
    "Men ou pa ka aprann pwogram sèlman pa li yon liv — ou dwe pratike.\n",
    "Se pou sa liv sa a gen egzèsis a la fen chak chapit pou ou pratike sa ou aprann.\n",
    "\n",
    "Si ou li ak atansyon epi travay egzèsis yo regilyèman, ou pral fè pwogrè.\n",
    "Men m ap averti ou kounye a — aprann pwogramasyon pa fasil, e menm pou pwogramè ki gen eksperyans li ka fristran.\n",
    "Pandan n ap avanse, m ap sijere estrateji pou ede ou ekri pwogram kòrèk ak korije pwogram ki pa kòrèk."
   ]
  },
  {
   "cell_type": "markdown",
   "id": "e48bc7ed",
   "metadata": {},
   "source": [
    "## Navigasyon Liv la\n",
    "\n",
    "Chak chapit nan liv sa a bati sou sa yo anvan, donk ou dwe li yo an lòd epi pran tan pou travay sou egzèsis yo anvan ou kontinye.\n",
    "\n",
    "Premye sis chapit yo prezante eleman baz tankou aritmetik, kondisyonèl, ak bouk.\n",
    "Yo prezante tou konsèp ki pi enpòtan an pwogramasyon, fonksyon, ak yon fason pwisan pou itilize yo, rekirsyon.\n",
    "\n",
    "Chapit 7 ak 8 prezante chèn (string) — ki ka reprezante lèt, mo, ak fraz — ak algoritm pou travay ak yo.\n",
    "\n",
    "Chapit 9 jiska 12 prezante estrikti done fondamantal Python — lis, diksyonè, ak tyupl — ki se zouti pwisan pou ekri pwogram efikas.\n",
    "Chapit 12 prezante algoritm pou analize tèks ak jenere tèks o aza.\n",
    "Algoritm konsa se baz modèl langaj gwo (LLM), donk chapit sa a ap ba ou yon lide kijan zouti tankou ChatGPT travay.\n",
    "\n",
    "Chapit 13 pale sou fason pou sto done an depo alontèm — fichye ak bazdone.\n",
    "Kòm egzèsis, ou ka ekri yon pwogram ki fouye yon sistèm fichye pou jwenn fichye kopi.\n",
    "\n",
    "Chapit 14 jiska 17 prezante pwogramasyon oryante-objè (OOP), ki se yon fason pou òganize pwogram ak done yo travay avèk.\n",
    "Anpil bibliyotèk Python ekri an stil oryante-objè, donk chapit sa yo ap ede ou konprann konsepsyon yo — epi defini pwòp objè ou.\n",
    "\n",
    "Objektif liv sa a se pa kouvri tout langaj Python.\n",
    "Olye de sa, mwen konsantre sou yon sèt langaj ki bay pi gwo kapasite ak mwens konsèp.\n",
    "Malgre sa, Python gen anpil karakteristik ou ka itilize pou rezoud pwoblèm komen efikasman.\n",
    "Chapit 18 prezante kèk karakteristik sa yo.\n",
    "\n",
    "Finalman, Chapit 19 prezante pansman final mwen ak sijesyon pou kontinye vwayaj pwogramasyon ou."
   ]
  },
  {
   "cell_type": "markdown",
   "id": "2470d9ba",
   "metadata": {},
   "source": [
    "## Kisa ki nouvo nan twazyèm edisyon an?\n",
    "\n",
    "Gwo chanjman yo nan edisyon sa a te pouswiv pa de nouvo teknoloji — notebook Jupyter ak asistan vityèl.\n",
    "\n",
    "Chak chapit liv sa a se yon notebook Jupyter, ki se yon dokiman ki gen toude tèks òdinè ak kod.\n",
    "Pou mwen, sa fè li pi fasil pou ekri kod la, teste li, epi kenbe l konsistan ak tèks la.\n",
    "Pou ou, sa vle di ou ka kouri kod la, modifye li, epi travay egzèsis yo, tout nan yon sèl kote.\n",
    "Enstriksyon pou travay ak notebook yo an premye chapit.\n",
    "\n",
    "Lòt gwo chanjman an se ke mwen te ajoute konsèy pou travay ak asistan vityèl tankou ChatGPT epi itilize yo pou akselere aprantisaj ou.\n",
    "Lè edisyon anvan liv sa a te pibliye an 2016, predesesè zouti sa yo te pi piti itil e pifò moun pa t konnen yo.\n",
    "Kounye a yo se yon zouti estanda pou enjenyè lojisyèl, epi mwen panse yo pral yon zouti transformasyon pou aprann pwogramasyon — ak aprann anpil lòt bagay tou.\n",
    "\n",
    "Lòt chanjman nan liv la te motive pa regrè mwen sou edisyon anvan.\n",
    "\n",
    "Premye regrè a se ke mwen pa t mete aksan sou tès lojisyèl.\n",
    "Sa te deja egyan erè an 2016, men ak avènement asistan vityèl yo, tès otomatik vin menm plis enpòtan.\n",
    "Donk edisyon sa a prezante zouti tès ki pi lajman itilize nan Python, `doctest` ak `unittest`, epi gen plizyè egzèsis kote ou ka pratike travay ak yo.\n",
    "\n",
    "Lòt regrè mwen se ke egzèsis nan dezyèm edisyon an te inegal — gen ki te pi enteresan pase lòt, epi gen ki te twò difisil.\n",
    "Pase a notebook Jupyter te ede m devlope ak teste yon sekans egzèsis ki pi enteresan ak efikas.\n",
    "\n",
    "Nan revizyon sa a, sekans sijè yo preske menm, men mwen te reyoryante kèk chapit epi konprese de chapit kout an youn.\n",
    "Epitou, mwen te elaji kouvèti chèn (string) pou enkli ekspresyon regilye.\n",
    "\n",
    "Gen kèk chapit ki itilize grafik tòti (turtle).\n",
    "Nan edisyon anvan yo, mwen te itilize modil `turtle` Python, men malerezman li pa mache anndan notebook Jupyter.\n",
    "Donk mwen ranplase li ak yon nouvo modil tòti ki ta dwe pi fasil pou itilize.\n",
    "\n",
    "Finalman, mwen te reskri yon gwo pati tèks la, klè kote sa te nesesè ak koupe kote mwen pa t osi kout ke mwen te kapab.\n",
    "\n",
    "Mwen trè fyè de nouvo edisyon sa a — mwen espere ou renmen li!"
   ]
  },
  {
   "cell_type": "markdown",
   "id": "a6209f53",
   "metadata": {},
   "source": [
    "## Kòmanse\n",
    "\n",
    "Pou pifò langaj pwogramasyon, enkli Python, gen plizyè zouti ou ka itilize pou ekri ak kouri pwogram.\n",
    "Zouti sa yo rele anviwònman devlopman entegre (IDE).\n",
    "An jeneral, gen de kalite IDE:\n",
    "\n",
    "* Gen ki mache ak fichye ki gen kod, donk yo bay zouti pou edite ak kouri fichye sa yo.\n",
    "\n",
    "* Gen lòt ki mache prensipalman ak notebook, ki se dokiman ki gen tèks ak kod.\n",
    "\n",
    "Pou débutan, mwen rekòmande kòmanse ak yon anviwònman devlopman notebook tankou Jupyter.\n",
    "\n",
    "Notebook pou liv sa a disponib sou yon repozitwa sou entènèt: <https://allendowney.github.io/ThinkPython>.\n",
    "\n",
    "Gen de fason pou itilize yo:\n",
    "\n",
    "* Ou ka telechaje notebook yo epi kouri yo sou òdinatè ou. Nan ka sa a, ou dwe enstale Python ak Jupyter, ki pa difisil, men si ou vle aprann Python, sa ka fristran pase anpil tan enstale lojisyèl.\n",
    "\n",
    "* Yon altènativ se kouri notebook yo sou Colab, ki se yon anviwònman Jupyter ki kouri nan yon navigatè web, donk ou pa oblije enstale anyen. Colab se opere pa Google, epi li gratis pou itilize.\n",
    "\n",
    "Si ou fèk kòmanse, mwen fò rekòmande ou kòmanse ak Colab."
   ]
  },
  {
   "cell_type": "markdown",
   "id": "c92eb7a4",
   "metadata": {},
   "source": [
    "## Resous pou enseyan\n",
    "\n",
    "Si ou ap anseye ak liv sa a, men kèk resous ki ka itil ou.\n",
    "\n",
    "* Ou ka jwenn notebook ak solisyon egzèsis yo soti nan <https://allendowney.github.io/ThinkPython>, ansanm ak lyen pou resous anplis anba la.\n",
    "\n",
    "* Quiz pou chak chapit, ak yon quiz final pou tout liv la, disponib sou [COMING SOON]\n",
    "\n",
    "* *Teaching and Learning with Jupyter* se yon liv sou entènèt ak sijesyon pou itilize Jupyter efektivman an klas. Ou ka li liv la sou <https://jupyter4edu.github.io/jupyter-edu-book>\n",
    "\n",
    "* Youn nan pi bon fason pou itilize notebook se live coding, kote enseyan an ekri kod epi elèv yo suiv an notebook pa yo.\n",
    "Pou aprann sou live coding — ak lòt bon konsèy pou anseye pwogramasyon — mwen rekòmande fòmasyon anstriktè ke The Carpentries bay, sou <https://carpentries.github.io/instructor-training>"
   ]
  },
  {
   "cell_type": "markdown",
   "id": "84918ec8",
   "metadata": {},
   "source": [
    "## Remèsiman\n",
    "\n",
    "Mèsi anpil a Jeff Elkner, ki te tradui liv Java mwen an an Python,\n",
    "ki te fè pwojè sa a kòmanse epi prezante m ak sa ki vin pwouve li se langaj mwen pi renmen.\n",
    "Mèsi tou a Chris Meyers, ki te kontribye plizyè seksyon nan *How to Think Like a Computer Scientist*.\n",
    "\n",
    "Mèsi a Free Software Foundation pou devlope GNU Free Documentation License, ki te pèmèt kolaborasyon mwen ak Jeff ak Chris, epi mèsi a Creative Commons pou lisans m ap itilize kounye a.\n",
    "\n",
    "Mèsi a devlopè ak administratè langaj Python ak bibliyotèk mwen te itilize, enkli modil grafik Tòti; zouti mwen te itilize pou devlope liv la, enkli Jupyter ak JupyterBook; ak sèvis mwen te itilize, enkli ChatGPT, Copilot, Colab ak GitHub.\n",
    "\n",
    "Mèsi a editè Lulu yo ki te travay sou *How to Think Like a Computer Scientist* ak editè O'Reilly Media yo ki te travay sou *Think Python*.\n",
    "\n",
    "Mèsi espesyal a revizè teknik yo pou dezyèm edisyon an, Melissa Lewis ak Luciano Ramalho, ak pou twazyèm edisyon an, Sam Lau ak Luciano Ramalho (ankò!).\n",
    "Mwen tou rekonesan Luciano pou devlope modil tòti grafik `jupyturtle` mwen itilize nan plizyè chapit.\n",
    "\n",
    "Mèsi a tout etidyan ki te travay ak vèsyon anvan liv sa a ak tout kolaboratè ki te voye koreksyon ak sijesyon.\n",
    "Plis pase 100 lektè ki gen je fen ak panse kritik te voye sijesyon ak koreksyon pandan plizyè ane ki pase. Kontribisyon yo ak antouzyasm pou pwojè sa a te ede anpil.\n",
    "\n",
    "Si ou gen yon sijesyon oswa koreksyon, tanpri voye email bay `feedback@thinkpython.com`.\n",
    "Si ou mete omwen yon pati fraz kote erè a ye, sa fasilite rechèch la pou mwen.\n",
    "Nimewo paj ak seksyon bon tou, men pa osi fasil pou travay ak.\n",
    "Mèsi!"
   ]
  }
 ],
 "metadata": {
  "jupytext": {
   "cell_metadata_filter": "-all",
   "main_language": "python",
   "notebook_metadata_filter": "-all"
  },
  "language_info": {
   "name": "python"
  }
 },
 "nbformat": 4,
 "nbformat_minor": 5
}
