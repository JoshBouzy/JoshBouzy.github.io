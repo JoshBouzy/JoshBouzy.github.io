{
 "cells": [
  {
   "cell_type": "markdown",
   "id": "97b55f5f",
   "metadata": {},
   "source": [
    "Ou ka kòmande vèsyon enprime ak ebook pou *Think Python 3e* soti nan\n",
    "[Bookshop.org](https://bookshop.org/a/98697/9781098155438) ak\n",
    "[Amazon](https://www.amazon.com/_/dp/1098155432?smid=ATVPDKIKX0DER&_encoding=UTF8&tag=oreilly20-20&_encoding=UTF8&tag=greenteapre01-20&linkCode=ur2&linkId=e2a529f94920295d27ec8a06e757dc7c&camp=1789&creative=9325)."
   ]
  },
  {
   "cell_type": "code",
   "execution_count": null,
   "id": "24f88cc2",
   "metadata": {
    "lines_to_next_cell": 1
   },
   "outputs": [],
   "source": [
    "from os.path import basename, exists\n",
    "\n",
    "def download(url):\n",
    "    filename = basename(url)\n",
    "    if not exists(filename):\n",
    "        from urllib.request import urlretrieve\n",
    "\n",
    "        local, _ = urlretrieve(url, filename)\n",
    "        print(\"Telechaje \" + str(local))\n",
    "    return filename\n",
    "\n",
    "download('https://github.com/AllenDowney/ThinkPython/raw/v3/thinkpython.py');\n",
    "download('https://github.com/AllenDowney/ThinkPython/raw/v3/diagram.py');\n",
    "\n",
    "import thinkpython"
   ]
  },
  {
   "cell_type": "markdown",
   "id": "3f24f7c2",
   "metadata": {},
   "source": [
    "# Eritaj\n",
    "\n",
    "Karakteristik langaj ki pi souvan asosye ak pwogramasyon oryante-objè se **eritaj**.\n",
    "Eritaj se kapasite pou defini yon nouvo klas ki se yon vèsyon modifye yon klas ki egziste deja.\n",
    "Nan chapit sa a mwen demontre eritaj ak klas ki reprezante kat jwe, pakèt kat, ak men poken.\n",
    "Si ou pa jwe poken, pa enkyete ou — m ap di ou sa ou bezwen konnen."
   ]
  },
  {
   "cell_type": "markdown",
   "id": "33b780e3",
   "metadata": {},
   "source": [
    "## Reprezante kat\n",
    "\n",
    "Gen 52 kat jwe nan yon pakèt estanda — chak ladan yo fè pati youn nan kat koulè (suits) ak youn nan trèz ran.\n",
    "Koulè yo se Pik (Spades), Kè (Hearts), Karo (Diamonds) ak Tref (Clubs).\n",
    "Ran yo se As (Ace), 2, 3, 4, 5, 6, 7, 8, 9, 10, Valet (Jack), Dame (Queen), ak Wa (King).\n",
    "Dapre jwèt ou ap jwe a, As ka pi wo pase Wa oswa pi ba pase 2.\n",
    "\n",
    "Si nou vle defini yon nouvo objè pou reprezante yon kat jwe, li evidan ki atribut li dwe genyen: `rank` ak `suit`.\n",
    "Li mwens evidan ki tip atribut yo dwe genyen.\n",
    "Youn posiblite se itilize chèn tankou `'Spade'` pou suit ak `'Queen'` pou rank.\n",
    "Pwoblèm ak implementasyon sa a se ke li pa fasil pou konpare kat pou wè ki ran oswa suit ki pi wo.\n",
    "\n",
    "Yon altènativ se itilize antye pou **encode** ran ak suit yo.\n",
    "Nan kontèks sa a, \"encode\" vle di nou pral defini yon mapping ant nimewo ak suit, oswa ant nimewo ak ran.\n",
    "Encode sa a pa yon sekrè (sa ta \"encryption\")."
   ]
  },
  {
   "cell_type": "markdown",
   "id": "c8f38fa1",
   "metadata": {},
   "source": [
    "Pa egzanp, tablo sa a montre suit yo ak kòd antye korespondan:\n",
    "\n",
    "| Suit    | Kòd |\n",
    "| ---     | --- |\n",
    "| Pik     | 3   |\n",
    "| Kè      | 2   |\n",
    "| Karo    | 1   |\n",
    "| Tref    | 0   |\n",
    "\n",
    "Avèk encode sa a, nou ka konpare suit yo pa konpare kòd yo."
   ]
  },
  {
   "cell_type": "markdown",
   "id": "43c2c7e7",
   "metadata": {},
   "source": [
    "Pou encode rank yo, nou pral itilize nimewo antye `2` pou reprezante ran `2`, `3` pou reprezante `3`, elatriye jiska `10`.\n",
    "Tablo ki anba a montre kòd pou kat figi yo (Jack, Queen, King):\n",
    "\n",
    "| Ran   | Kòd |\n",
    "| ---   | --- |\n",
    "| Valet | 11  |\n",
    "| Dame  | 12  |\n",
    "| Wa    | 13  |\n",
    "\n",
    "E nou ka itilize swa `1` oswa `14` pou reprezante As, selon si nou vle li konsidere pi ba oswa pi wo pase lòt ran yo.\n",
    "\n",
    "Pou reprezante encode sa yo, nou pral itilize de lis chèn, youn ak non suit yo ak lòt la ak non rank yo.\n",
    "\n",
    "Men yon definisyon pou yon klas ki reprezante yon kat jwe, ak lis chèn sa yo kòm **klas variable**, ki se varyab defini anndan definisyon klas la, men pa anndan yon metòd."
   ]
  },
  {
   "cell_type": "code",
   "execution_count": null,
   "id": "a28159b2",
   "metadata": {
    "lines_to_next_cell": 1
   },
   "outputs": [],
   "source": [
    "class Card:\n",
    "    \"\"\"Reprezante yon kat jwe estanda.\"\"\"\n",
    "\n",
    "    suit_names = ['Clubs', 'Diamonds', 'Hearts', 'Spades']\n",
    "    rank_names = [None, 'Ace', '2', '3', '4', '5', '6', '7', \n",
    "                  '8', '9', '10', 'Jack', 'Queen', 'King', 'Ace']"
   ]
  },
  {
   "cell_type": "markdown",
   "id": "226f2bdf",
   "metadata": {},
   "source": [
    "Premye eleman `rank_names` se `None` paske pa gen kat ak ran zewo.\n",
    "Lè nou mete `None` kòm espas rezève, nou jwenn yon lis kote endèks `2` koresponn ak chèn `'2'`, elatriye.\n",
    "\n",
    "Klas varyab asosye ak klas la, pa ak instans klas la, kidonk nou ka jwenn aksè a yo konsa:"
   ]
  },
  {
   "cell_type": "code",
   "execution_count": null,
   "id": "c8d40e0e",
   "metadata": {},
   "outputs": [],
   "source": [
    "Card.suit_names"
   ]
  },
  {
   "cell_type": "markdown",
   "id": "1b60929e",
   "metadata": {},
   "source": [
    "Nou ka itilize `suit_names` pou chèche suit ak jwenn chèn korespondan an:"
   ]
  },
  {
   "cell_type": "code",
   "execution_count": null,
   "id": "0d5a6662",
   "metadata": {},
   "outputs": [],
   "source": [
    "Card.suit_names[0]"
   ]
  },
  {
   "cell_type": "markdown",
   "id": "973bf69d",
   "metadata": {},
   "source": [
    "Ak `rank_names` pou chèche ran:"
   ]
  },
  {
   "cell_type": "code",
   "execution_count": null,
   "id": "78d18669",
   "metadata": {},
   "outputs": [],
   "source": [
    "Card.rank_names[11]"
   ]
  },
  {
   "cell_type": "markdown",
   "id": "fc20808d",
   "metadata": {},
   "source": [
    "## Atribut kat\n",
    "\n",
    "Men yon metòd `__init__` pou klas `Card` la — li pran `suit` ak `rank` kòm paramèt epi asiyen yo a atribut ak menm non."
   ]
  },
  {
   "cell_type": "code",
   "execution_count": null,
   "id": "84bd4087",
   "metadata": {},
   "outputs": [],
   "source": [
    "%%add_method_to Card\n",
    "\n",
    "    def __init__(self, suit, rank):\n",
    "        self.suit = suit\n",
    "        self.rank = rank"
   ]
  },
  {
   "cell_type": "markdown",
   "id": "200a5d04",
   "metadata": {},
   "source": [
    "Kounye a nou ka kreye yon objè `Card` konsa:"
   ]
  },
  {
   "cell_type": "code",
   "execution_count": null,
   "id": "72a9a061",
   "metadata": {},
   "outputs": [],
   "source": [
    "queen = Card(1, 12)"
   ]
  },
  {
   "cell_type": "markdown",
   "id": "6ffc90e0",
   "metadata": {},
   "source": [
    "Nou ka itilize nouvo instans la pou jwenn atribut yo:"
   ]
  },
  {
   "cell_type": "code",
   "execution_count": null,
   "id": "f26d903e",
   "metadata": {},
   "outputs": [],
   "source": [
    "queen.suit, queen.rank"
   ]
  },
  {
   "cell_type": "markdown",
   "id": "50332d02",
   "metadata": {},
   "source": [
    "Li legal tou pou itilize instans lan pou jwenn aksè a klas varyab yo:"
   ]
  },
  {
   "cell_type": "code",
   "execution_count": null,
   "id": "2ded0e7e",
   "metadata": {},
   "outputs": [],
   "source": [
    "queen.suit_names"
   ]
  },
  {
   "cell_type": "markdown",
   "id": "601753f2",
   "metadata": {},
   "source": [
    "Men si ou itilize klas la, li pi klè ke se klas varyab, pa atribut."
   ]
  },
  {
   "cell_type": "markdown",
   "id": "f0dd9d1b",
   "metadata": {},
   "source": [
    "## Enprime kat\n",
    "\n",
    "Men yon metòd `__str__` pou objè `Card`:"
   ]
  },
  {
   "cell_type": "code",
   "execution_count": null,
   "id": "2db92efd",
   "metadata": {},
   "outputs": [],
   "source": [
    "%%add_method_to Card\n",
    "\n",
    "    def __str__(self):\n",
    "        rank_name = Card.rank_names[self.rank]\n",
    "        suit_name = Card.suit_names[self.suit]\n",
    "        return f'{rank_name} of {suit_name}' "
   ]
  },
  {
   "cell_type": "markdown",
   "id": "d06a190c",
   "metadata": {},
   "source": [
    "Lè nou enprime yon `Card`, Python rele metòd `__str__` pou jwenn yon reprezantasyon lizib pou moun."
   ]
  },
  {
   "cell_type": "code",
   "execution_count": null,
   "id": "d2354a5a",
   "metadata": {},
   "outputs": [],
   "source": [
    "print(queen)"
   ]
  },
  {
   "cell_type": "markdown",
   "id": "b89e8c65",
   "metadata": {},
   "source": [
    "Dyagram ki anba a se dyagram objè klas `Card` la ak instans `Card` la.\n",
    "`Card` se yon objè klas, kidonk tip li se `type`.\n",
    "`queen` se yon instans `Card`, kidonk tip li se `Card`.\n",
    "Pou ekonomize espas, mwen pa montre kontni `suit_names` ak `rank_names`."
   ]
  },
  {
   "cell_type": "markdown",
   "id": "aa84dc37",
   "metadata": {},
   "source": [
    "Chak instans `Card` gen pwòp atribut `suit` ak `rank` li, men gen yon sel objè klas `Card`, ak yon sel kopi varyab klas `suit_names` ak `rank_names`."
   ]
  },
  {
   "cell_type": "markdown",
   "id": "5f0d25ad",
   "metadata": {},
   "source": [
    "## Konpare kat\n",
    "\n",
    "Sipoze nou kreye yon dezyèm objè `Card` ki gen menm suit ak ran."
   ]
  },
  {
   "cell_type": "code",
   "execution_count": null,
   "id": "ff54d7f3",
   "metadata": {},
   "outputs": [],
   "source": [
    "queen2 = Card(1, 12)\n",
    "print(queen2)"
   ]
  },
  {
   "cell_type": "markdown",
   "id": "374fc750",
   "metadata": {},
   "source": [
    "Si nou itilize operatè `==` pou konpare yo, li tcheke si `queen` ak `queen2` refere a menm objè."
   ]
  },
  {
   "cell_type": "code",
   "execution_count": null,
   "id": "7c790f24",
   "metadata": {},
   "outputs": [],
   "source": [
    "queen == queen2"
   ]
  },
  {
   "cell_type": "markdown",
   "id": "ad80bd4e",
   "metadata": {},
   "source": [
    "Yo pa menm objè, donk li retounen `False`.\n",
    "Nou ka chanje konpòtman sa a lè nou defini metòd espesyal `__eq__`."
   ]
  },
  {
   "cell_type": "code",
   "execution_count": null,
   "id": "73235875",
   "metadata": {},
   "outputs": [],
   "source": [
    "%%add_method_to Card\n",
    "\n",
    "    def __eq__(self, other):\n",
    "        return self.suit == other.suit and self.rank == other.rank"
   ]
  },
  {
   "cell_type": "markdown",
   "id": "afbe0066",
   "metadata": {},
   "source": [
    "`__eq__` pran de objè `Card` kòm paramèt epi retounen `True` si yo gen menm suit ak ran, menm si se pa menm objè.\n",
    "An lòt mo, li tcheke si yo ekivalan, menm si yo pa idantik.\n",
    "\n",
    "Lè nou itilize operatè `==` ak objè `Card`, Python rele metòd `__eq__`."
   ]
  },
  {
   "cell_type": "code",
   "execution_count": null,
   "id": "2a73ce5b",
   "metadata": {},
   "outputs": [],
   "source": [
    "queen == queen2"
   ]
  },
  {
   "cell_type": "markdown",
   "id": "24f07cc5",
   "metadata": {},
   "source": [
    "Kòm dezyèm tès, ann kreye yon kat ki gen menm suit men ran diferan."
   ]
  },
  {
   "cell_type": "code",
   "execution_count": null,
   "id": "f23b3513",
   "metadata": {},
   "outputs": [],
   "source": [
    "six = Card(1, 6)\n",
    "print(six)"
   ]
  },
  {
   "cell_type": "markdown",
   "id": "de5b3b0f",
   "metadata": {},
   "source": [
    "Nou ka konfime ke `queen` ak `six` pa ekivalan."
   ]
  },
  {
   "cell_type": "code",
   "execution_count": null,
   "id": "3519a68c",
   "metadata": {},
   "outputs": [],
   "source": [
    "queen == six"
   ]
  },
  {
   "cell_type": "markdown",
   "id": "a8f3e1c2",
   "metadata": {},
   "source": [
    "Si nou itilize operatè `!=`, Python envoke metòd espesyal `__ne__` si li egziste.\n",
    "Sinon, li envoke `__eq__` epi invèti rezilta a — donk si `__eq__` retounen `True`, rezilta operatè `!=` se `False`."
   ]
  },
  {
   "cell_type": "code",
   "execution_count": null,
   "id": "35a044f0",
   "metadata": {},
   "outputs": [],
   "source": [
    "queen != queen2"
   ]
  },
  {
   "cell_type": "code",
   "execution_count": null,
   "id": "b457a2a9",
   "metadata": {},
   "outputs": [],
   "source": [
    "queen != six"
   ]
  },
  {
   "cell_type": "markdown",
   "id": "a231c9b9",
   "metadata": {},
   "source": [
    "Kounye a sipoze nou vle konpare de kat pou wè kilès ki pi gwo.\n",
    "Si nou itilize youn nan operatè relasyonèl yo, nou jwenn yon `TypeError`."
   ]
  },
  {
   "cell_type": "code",
   "execution_count": null,
   "id": "e8947ac8",
   "metadata": {},
   "outputs": [],
   "source": [
    "%%expect TypeError\n",
    "\n",
    "queen < queen2"
   ]
  },
  {
   "cell_type": "markdown",
   "id": "13778986",
   "metadata": {},
   "source": [
    "Pou chanje konpòtman operatè `<`, nou ka defini yon metòd espesyal `__lt__` (lt pou \"less than\").\n",
    "Pou egzanp sa a, ann asime suit pi enpòtan pase ran — donk tout Pik pi fò pase tout Kè, ki pi fò pase tout Karo, elatriye.\n",
    "Si de kat gen menm suit, sa ki gen ran pi wo a genyen.\n",
    "\n",
    "Pou aplike lojik sa a, nou pral itilize metòd sa a, ki retounen yon tuple ki gen suit ak ran kat la, nan lòd sa a."
   ]
  },
  {
   "cell_type": "code",
   "execution_count": null,
   "id": "2ad95ab5",
   "metadata": {},
   "outputs": [],
   "source": [
    "%%add_method_to Card\n",
    "\n",
    "    def to_tuple(self):\n",
    "        return (self.suit, self.rank)"
   ]
  },
  {
   "cell_type": "markdown",
   "id": "2593d08f",
   "metadata": {},
   "source": [
    "Nou ka itilize metòd sa a pou ekri `__lt__`."
   ]
  },
  {
   "cell_type": "code",
   "execution_count": null,
   "id": "1bb72e30",
   "metadata": {},
   "outputs": [],
   "source": [
    "%%add_method_to Card\n",
    "\n",
    "    def __lt__(self, other):\n",
    "        return self.to_tuple() < other.to_tuple()"
   ]
  },
  {
   "cell_type": "markdown",
   "id": "8977624d",
   "metadata": {},
   "source": [
    "Konparezon tuple konpare premye eleman chak tuple, ki reprezante suit yo.\n",
    "Si yo menm, li konpare dezyèm eleman yo, ki reprezante ran yo.\n",
    "\n",
    "Kounye a si nou itilize operatè `<`, li envoke metòd `__lt__`."
   ]
  },
  {
   "cell_type": "code",
   "execution_count": null,
   "id": "9731ebca",
   "metadata": {},
   "outputs": [],
   "source": [
    "six < queen"
   ]
  },
  {
   "cell_type": "markdown",
   "id": "2bdab3fb",
   "metadata": {},
   "source": [
    "Si nou itilize operatè `>`, li envoke metòd espesyal `__gt__` si li egziste.\n",
    "Sinon li envoke `__lt__` ak agiman yo a lòdbò."
   ]
  },
  {
   "cell_type": "code",
   "execution_count": null,
   "id": "b2a7b719",
   "metadata": {},
   "outputs": [],
   "source": [
    "queen < queen2"
   ]
  },
  {
   "cell_type": "code",
   "execution_count": null,
   "id": "28bac672",
   "metadata": {},
   "outputs": [],
   "source": [
    "queen > queen2"
   ]
  },
  {
   "cell_type": "markdown",
   "id": "514b0c49",
   "metadata": {},
   "source": [
    "Finalman, si nou itilize operatè `<=`, li envoke metòd espesyal `__le__`."
   ]
  },
  {
   "cell_type": "code",
   "execution_count": null,
   "id": "a4b7d9ad",
   "metadata": {},
   "outputs": [],
   "source": [
    "%%add_method_to Card\n",
    "\n",
    "    def __le__(self, other):\n",
    "        return self.to_tuple() <= other.to_tuple()"
   ]
  },
  {
   "cell_type": "markdown",
   "id": "40a3e7f4",
   "metadata": {},
   "source": [
    "Konsa nou ka tcheke si yon kat pi piti oswa egal ak yon lòt."
   ]
  },
  {
   "cell_type": "code",
   "execution_count": null,
   "id": "e20222bb",
   "metadata": {},
   "outputs": [],
   "source": [
    "queen <= queen2"
   ]
  },
  {
   "cell_type": "code",
   "execution_count": null,
   "id": "67dc661a",
   "metadata": {},
   "outputs": [],
   "source": [
    "queen <= six"
   ]
  },
  {
   "cell_type": "markdown",
   "id": "965a0b54",
   "metadata": {},
   "source": [
    "Si nou itilize operatè `>=`, li itilize `__ge__` si li egziste.\n",
    "Sinon, li envoke `__le__` ak agiman yo a lòdbò."
   ]
  },
  {
   "cell_type": "code",
   "execution_count": null,
   "id": "35675a26",
   "metadata": {
    "lines_to_next_cell": 1
   },
   "outputs": [],
   "source": [
    "queen >= six"
   ]
  },
  {
   "cell_type": "markdown",
   "id": "ba06af0a",
   "metadata": {},
   "source": [
    "Jan nou te defini yo, metòd sa yo konplè, sa vle di nou ka konpare nenpòt de objè `Card`, epi konsistan, sa vle di rezilta ki soti nan diferan operatè pa kontredi youn lòt.\n",
    "Avèk de pwopriyete sa yo, nou ka di objè `Card` yo **totalman òdone**.\n",
    "E sa vle di, jan nou pral wè talè, ke nou ka triye yo."
   ]
  },
  {
   "cell_type": "markdown",
   "id": "51f26fb5",
   "metadata": {},
   "source": [
    "## Pakèt\n",
    "\n",
    "Kounye a ke nou gen objè ki reprezante kat, ann defini objè ki reprezante pakèt.\n",
    "Definisyon klas sa a pou `Deck` gen\n",
    "yon metòd `__init__` ki pran yon lis objè `Card` kòm paramèt epi asiyen li a yon atribut ki rele `cards`."
   ]
  },
  {
   "cell_type": "code",
   "execution_count": null,
   "id": "8f9fa9f9",
   "metadata": {
    "lines_to_next_cell": 1
   },
   "outputs": [],
   "source": [
    "class Deck:\n",
    "\n",
    "    def __init__(self, cards):\n",
    "        self.cards = cards"
   ]
  },
  {
   "cell_type": "markdown",
   "id": "b1a018ee",
   "metadata": {},
   "source": [
    "Pou kreye yon lis ki gen 52 kat nan yon pakèt estanda, nou pral itilize metòd statik sa a:"
   ]
  },
  {
   "cell_type": "code",
   "execution_count": null,
   "id": "d3b4ef50",
   "metadata": {},
   "outputs": [],
   "source": [
    "%%add_method_to Deck\n",
    "\n",
    "    def make_cards():\n",
    "        cards = []\n",
    "        for suit in range(4):\n",
    "            for rank in range(2, 15):\n",
    "                card = Card(suit, rank)\n",
    "                cards.append(card)\n",
    "        return cards"
   ]
  },
  {
   "cell_type": "markdown",
   "id": "b805d7f0",
   "metadata": {},
   "source": [
    "Nan `make_cards`, bouk eksteryè a enumerate suit yo soti 0 jiska 3.\n",
    "Bouk enteryè a enumerate ran yo soti 2 jiska 14 — kote 14 reprezante As ki pi wo pase Wa.\n",
    "Chak iterasyon kreye yon nouvo `Card` ak suit ak ran aktyèl la, epi ajoute li nan `cards`.\n",
    "\n",
    "Men kijan nou fè yon lis kat ak yon objè `Deck` ki gen yo."
   ]
  },
  {
   "cell_type": "code",
   "execution_count": null,
   "id": "804fb8ee",
   "metadata": {},
   "outputs": [],
   "source": [
    "cards = Deck.make_cards()\n",
    "deck = Deck(cards)\n",
    "len(deck.cards)"
   ]
  },
  {
   "cell_type": "markdown",
   "id": "4b6a6e79",
   "metadata": {},
   "source": [
    "Li gen 52 kat, jan nou te vle."
   ]
  },
  {
   "cell_type": "markdown",
   "id": "152d2283",
   "metadata": {},
   "source": [
    "## Enprime pakèt\n",
    "\n",
    "Men yon metòd `__str__` pou `Deck`."
   ]
  },
  {
   "cell_type": "code",
   "execution_count": null,
   "id": "b78c79d1",
   "metadata": {},
   "outputs": [],
   "source": [
    "%%add_method_to Deck\n",
    "\n",
    "    def __str__(self):\n",
    "        res = []\n",
    "        for card in self.cards:\n",
    "            res.append(str(card))\n",
    "        return '\\n'.join(res)"
   ]
  },
  {
   "cell_type": "markdown",
   "id": "2f2d48c0",
   "metadata": {},
   "source": [
    "Metòd sa a montre yon fason efikas pou akimile yon gwo chèn — bati yon lis chèn epi apre sa itilize metòd chèn `join`.\n",
    "\n",
    "Nou pral teste metòd sa a ak yon pakèt ki gen sèlman de kat."
   ]
  },
  {
   "cell_type": "code",
   "execution_count": null,
   "id": "8571f14a",
   "metadata": {},
   "outputs": [],
   "source": [
    "small_deck = Deck([queen, six])"
   ]
  },
  {
   "cell_type": "markdown",
   "id": "7a97d277",
   "metadata": {},
   "source": [
    "Si nou rele `str`, li envoke `__str__`."
   ]
  },
  {
   "cell_type": "code",
   "execution_count": null,
   "id": "8816a1dd",
   "metadata": {},
   "outputs": [],
   "source": [
    "str(small_deck)"
   ]
  },
  {
   "cell_type": "markdown",
   "id": "922fda64",
   "metadata": {},
   "source": [
    "Lè Jupyter montre yon chèn, li montre fòm \"reprezantasyon\" chèn lan, ki reprezante yon retounen a liy ak sekans `\\n`.\n",
    "\n",
    "Sepandan, si nou enprime rezilta a, Jupyter montre fòm \"printab\" la, ki enprime retounen a liy kòm espas."
   ]
  },
  {
   "cell_type": "code",
   "execution_count": null,
   "id": "ecd04866",
   "metadata": {},
   "outputs": [],
   "source": [
    "print(small_deck)"
   ]
  },
  {
   "cell_type": "markdown",
   "id": "55eee30a",
   "metadata": {},
   "source": [
    "Konsa kat yo parèt sou liy separe."
   ]
  },
  {
   "cell_type": "markdown",
   "id": "264b0f6a",
   "metadata": {},
   "source": [
    "## Ajoute, retire, brase, ak triye\n",
    "\n",
    "Pou distribye kat, nou ta vle yon metòd ki retire yon kat sot pakèt la\n",
    "epi retounen li. Metòd lis `pop` bay yon fason pratik pou fè sa."
   ]
  },
  {
   "cell_type": "code",
   "execution_count": null,
   "id": "dff57e11",
   "metadata": {},
   "outputs": [],
   "source": [
    "%%add_method_to Deck\n",
    "\n",
    "    def take_card(self):\n",
    "        return self.cards.pop()"
   ]
  },
  {
   "cell_type": "markdown",
   "id": "520a89e3",
   "metadata": {},
   "source": [
    "Men kijan nou itilize li:"
   ]
  },
  {
   "cell_type": "code",
   "execution_count": null,
   "id": "6c700fc4",
   "metadata": {},
   "outputs": [],
   "source": [
    "card = deck.take_card()\n",
    "print(card)"
   ]
  },
  {
   "cell_type": "markdown",
   "id": "9c909491",
   "metadata": {},
   "source": [
    "Nou ka konfime ke 51 kat rete nan pakèt la."
   ]
  },
  {
   "cell_type": "code",
   "execution_count": null,
   "id": "718902b4",
   "metadata": {},
   "outputs": [],
   "source": [
    "len(deck.cards)"
   ]
  },
  {
   "cell_type": "markdown",
   "id": "6df5bfb6",
   "metadata": {},
   "source": [
    "Pou ajoute yon kat, nou ka itilize metòd lis `append`."
   ]
  },
  {
   "cell_type": "code",
   "execution_count": null,
   "id": "a6d6811e",
   "metadata": {},
   "outputs": [],
   "source": [
    "%%add_method_to Deck\n",
    "\n",
    "    def put_card(self, card):\n",
    "        self.cards.append(card)"
   ]
  },
  {
   "cell_type": "markdown",
   "id": "d3899dbc",
   "metadata": {},
   "source": [
    "Pa egzanp, nou ka mete kat nou sot retire a tounen."
   ]
  },
  {
   "cell_type": "code",
   "execution_count": null,
   "id": "ce9cc73a",
   "metadata": {},
   "outputs": [],
   "source": [
    "deck.put_card(card)\n",
    "len(deck.cards)"
   ]
  },
  {
   "cell_type": "markdown",
   "id": "381fc9c1",
   "metadata": {},
   "source": [
    "Pou brase pakèt la, nou ka itilize fonksyon `shuffle` ki soti nan modil `random`:"
   ]
  },
  {
   "cell_type": "code",
   "execution_count": null,
   "id": "8644b29d",
   "metadata": {},
   "outputs": [],
   "source": [
    "import random"
   ]
  },
  {
   "cell_type": "code",
   "execution_count": null,
   "id": "36edc85f",
   "metadata": {},
   "outputs": [],
   "source": [
    "# Selil sa a inisyalize générateur nomb aleatwa a pou nou\n",
    "# toujou jwenn menm rezilta yo.\n",
    "\n",
    "random.seed(3)"
   ]
  },
  {
   "cell_type": "code",
   "execution_count": null,
   "id": "e9d0caac",
   "metadata": {},
   "outputs": [],
   "source": [
    "%%add_method_to Deck\n",
    "            \n",
    "    def shuffle(self):\n",
    "        random.shuffle(self.cards)"
   ]
  },
  {
   "cell_type": "markdown",
   "id": "467e4adf",
   "metadata": {},
   "source": [
    "Si nou brase pakèt la epi enprime kèk kat an premye, nou ka wè ke yo pa nan okenn lòd evidan."
   ]
  },
  {
   "cell_type": "code",
   "execution_count": null,
   "id": "5661a1c1",
   "metadata": {},
   "outputs": [],
   "source": [
    "deck.shuffle()\n",
    "for card in deck.cards[:4]:\n",
    "    print(card)"
   ]
  },
  {
   "cell_type": "markdown",
   "id": "3dddde79",
   "metadata": {},
   "source": [
    "Pou triye kat yo, nou ka itilize metòd lis `sort` ki triye eleman yo sou plas — sa vle di li modifye lis la olye kreye yon nouvo lis."
   ]
  },
  {
   "cell_type": "code",
   "execution_count": null,
   "id": "8e0364c0",
   "metadata": {},
   "outputs": [],
   "source": [
    "%%add_method_to Deck\n",
    "            \n",
    "    def sort(self):\n",
    "        self.cards.sort()"
   ]
  },
  {
   "cell_type": "markdown",
   "id": "de3663e6",
   "metadata": {},
   "source": [
    "Lè nou envoke `sort`, li itilize metòd `__lt__` pou konpare kat yo."
   ]
  },
  {
   "cell_type": "code",
   "execution_count": null,
   "id": "ebed4cf4",
   "metadata": {},
   "outputs": [],
   "source": [
    "deck.sort()"
   ]
  },
  {
   "cell_type": "markdown",
   "id": "6986cdef",
   "metadata": {},
   "source": [
    "Si nou enprime kèk kat an premye, nou ka konfime ke yo an lòd k ap ogmante."
   ]
  },
  {
   "cell_type": "code",
   "execution_count": null,
   "id": "29e640d0",
   "metadata": {
    "lines_to_next_cell": 1
   },
   "outputs": [],
   "source": [
    "for card in deck.cards[:4]:\n",
    "    print(card)"
   ]
  },
  {
   "cell_type": "markdown",
   "id": "13ce8cc8",
   "metadata": {},
   "source": [
    "Nan egzanp sa a, `Deck.sort` pa fè anyen anplis pase envoke `list.sort`.\n",
    "Pase responsabilite konsa rele **delegation**."
   ]
  },
  {
   "cell_type": "markdown",
   "id": "70f93e39",
   "metadata": {},
   "source": [
    "## Paran ak pitit\n",
    "\n",
    "Eritaj se kapasite pou defini yon nouvo klas ki se vèsyon modifye yon klas ki egziste deja.\n",
    "Kòm egzanp, ann di nou vle yon klas pou reprezante yon \"men\", sa vle di kat ke yon jwe kenbe.\n",
    "\n",
    "* Yon men sanble ak yon pakèt — toudeyo se koleksyon kat, epi toude bezwen operasyon tankou ajoute ak retire kat.\n",
    "\n",
    "* Yon men diferan ak yon pakèt — gen operasyon nou vle pou men ki pa fè sans pou pakèt.\n",
    "Pa egzanp, nan poken nou te ka konpare de men pou wè kilès ki genyen.\n",
    "Nan bridge, nou te ka kalkile yon skor pou men an pou fè yon òf.\n",
    "\n",
    "Relasyon sa a ant klas — kote youn se vèsyon spesyalize yon lòt — favore eritaj.\n",
    "\n",
    "Pou defini yon nouvo klas ki baze sou yon klas ki egziste, nou mete non klas ki egziste a nan parantèz."
   ]
  },
  {
   "cell_type": "code",
   "execution_count": null,
   "id": "c1783b02",
   "metadata": {
    "lines_to_next_cell": 1
   },
   "outputs": [],
   "source": [
    "class Hand(Deck):\n",
    "    \"\"\"Reprezante men (hand) kat jwe.\"\"\""
   ]
  },
  {
   "cell_type": "markdown",
   "id": "8bf9dbca",
   "metadata": {},
   "source": [
    "Definisyon sa a endike ke `Hand` erit de `Deck`, sa vle di objè `Hand` ka gen aksè a metòd defini an `Deck`, tankou `take_card` ak `put_card`.\n",
    "\n",
    "`Hand` tou erit `__init__` soti nan `Deck`, men si nou defini `__init__` nan klas `Hand` la, li ap pase sou sa ki nan klas `Deck` la."
   ]
  },
  {
   "cell_type": "code",
   "execution_count": null,
   "id": "c2a503d5",
   "metadata": {},
   "outputs": [],
   "source": [
    "%%add_method_to Hand\n",
    "\n",
    "    def __init__(self, label=''):\n",
    "        self.label = label\n",
    "        self.cards = []"
   ]
  },
  {
   "cell_type": "markdown",
   "id": "7109f8a5",
   "metadata": {},
   "source": [
    "Vèsyon `__init__` sa a pran yon chèn opsyonèl kòm paramèt, epi toujou kòmanse ak yon lis kat vid.\n",
    "Lè nou kreye yon `Hand`, Python envoke metòd sa a, pa sa ki an `Deck` — nou ka konfime sa lè nou verifye ke rezilta a gen atribut `label`."
   ]
  },
  {
   "cell_type": "code",
   "execution_count": null,
   "id": "a8e7e398",
   "metadata": {},
   "outputs": [],
   "source": [
    "hand = Hand('player 1')\n",
    "hand.label"
   ]
  },
  {
   "cell_type": "markdown",
   "id": "bd5bf97f",
   "metadata": {},
   "source": [
    "Pou distribye yon kat, nou ka itilize `take_card` pou retire yon kat soti nan `Deck`, epi `put_card` pou ajoute kat la nan `Hand`."
   ]
  },
  {
   "cell_type": "code",
   "execution_count": null,
   "id": "fd2c8e17",
   "metadata": {},
   "outputs": [],
   "source": [
    "deck = Deck(cards)\n",
    "card = deck.take_card()\n",
    "hand.put_card(card)\n",
    "print(hand)"
   ]
  },
  {
   "cell_type": "markdown",
   "id": "4035a5e0",
   "metadata": {},
   "source": [
    "Ann anbalaj kod sa a an metòd `Deck` ki rele `move_cards`."
   ]
  },
  {
   "cell_type": "code",
   "execution_count": null,
   "id": "6ed2be14",
   "metadata": {
    "lines_to_next_cell": 1
   },
   "outputs": [],
   "source": [
    "%%add_method_to Deck\n",
    "\n",
    "    def move_cards(self, other, num):\n",
    "        for i in range(num):\n",
    "            card = self.take_card()\n",
    "            other.put_card(card)"
   ]
  },
  {
   "cell_type": "markdown",
   "id": "69f0dbbf",
   "metadata": {},
   "source": [
    "Metòd sa a se polimòfik — sa vle di, li mache ak plis pase yon tip: `self` ak `other` ka swa yon `Hand` oswa yon `Deck`.\n",
    "Donk nou ka itilize metòd sa a pou distribye yon kat soti nan `Deck` a `Hand`, soti nan `Hand` a yon lòt `Hand`, oswa soti nan `Hand` tounen nan `Deck`.\n",
    "\n",
    "Lè yon nouvo klas erit de youn ki egziste deja, sa ki egziste deja a rele **parent** ak nouvo klas la rele **child**. An jeneral:\n",
    "\n",
    "* Instans klas pitit la dwe gen tout atribut klas paran an, men li ka gen atribut anplis.\n",
    "\n",
    "* Klas pitit la dwe gen tout metòd klas paran an, men li ka gen metòd anplis.\n",
    "\n",
    "* Si klas pitit la pase sou (override) yon metòd klas paran an, nouvo metòd la ta dwe pran menm paramèt ak retounen yon rezilta konpatib.\n",
    "\n",
    "Seri règ sa yo rele \"Liskov substitution principle\" pou onore informatisyen Barbara Liskov.\n",
    "\n",
    "Si ou swiv règ sa yo, nenpòt fonksyon oswa metòd ki fèt pou travay ak yon instans klas paran an, tankou `Deck`, ap mache tou ak instans klas pitit la, tankou `Hand`.\n",
    "Si ou pa swiv règ sa yo, kod ou ap tonbe tankou yon kay kart (eskize)."
   ]
  },
  {
   "cell_type": "markdown",
   "id": "d50413b9",
   "metadata": {},
   "source": [
    "## Spesyalizasyon\n",
    "\n",
    "Ann fè yon klas ki rele `BridgeHand` ki reprezante yon men nan bridge — yon jwèt kat trè popilè.\n",
    "Nou pral erit de `Hand` epi ajoute yon nouvo metòd ki rele `high_card_point_count` ki evalye men an ak yon metòd \"high card point\" ki ajoute pwen pou kat ki wo.\n",
    "\n",
    "Men yon definisyon klas ki gen kòm varyab klas yon diksyonè ki map soti nan non kat yo ak valè pwen yo."
   ]
  },
  {
   "cell_type": "code",
   "execution_count": null,
   "id": "029a460e",
   "metadata": {
    "lines_to_next_cell": 1
   },
   "outputs": [],
   "source": [
    "class BridgeHand(Hand):\n",
    "    \"\"\"Reprezante yon men bridge.\"\"\"\n",
    "\n",
    "    hcp_dict = {\n",
    "        'Ace': 4,\n",
    "        'King': 3,\n",
    "        'Queen': 2,\n",
    "        'Jack': 1,\n",
    "    }"
   ]
  },
  {
   "cell_type": "markdown",
   "id": "65788b84",
   "metadata": {},
   "source": [
    "Bay ran kat la, tankou `12`, nou ka itilize `Card.rank_names` pou jwenn chèn rank lan, epi apre sa itilize `hcp_dict` pou jwenn skor li."
   ]
  },
  {
   "cell_type": "code",
   "execution_count": null,
   "id": "fdd7a275",
   "metadata": {},
   "outputs": [],
   "source": [
    "rank = 12\n",
    "rank_name = Card.rank_names[rank]\n",
    "score = BridgeHand.hcp_dict.get(rank_name, 0)\n",
    "rank_name, score"
   ]
  },
  {
   "cell_type": "markdown",
   "id": "b583a9bb",
   "metadata": {},
   "source": [
    "Metòd ki anba a boukle sou kat yo nan yon `BridgeHand` epi ajoute skor yo."
   ]
  },
  {
   "cell_type": "code",
   "execution_count": null,
   "id": "a854cf81",
   "metadata": {},
   "outputs": [],
   "source": [
    "%%add_method_to BridgeHand\n",
    "\n",
    "    def high_card_point_count(self):\n",
    "        count = 0\n",
    "        for card in self.cards:\n",
    "            rank_name = Card.rank_names[card.rank]\n",
    "            count += BridgeHand.hcp_dict.get(rank_name, 0)\n",
    "        return count"
   ]
  },
  {
   "cell_type": "code",
   "execution_count": null,
   "id": "5d9144ce",
   "metadata": {},
   "outputs": [],
   "source": [
    "# Selil sa a fè yon fre Deck ak\n",
    "# inisyalize générateur nomb aleatwa a\n",
    "\n",
    "cards = Deck.make_cards()\n",
    "deck = Deck(cards)\n",
    "random.seed(3)"
   ]
  },
  {
   "cell_type": "markdown",
   "id": "9a667a4b",
   "metadata": {},
   "source": [
    "Pou teste li, nou pral distribye yon men ak senk kat — men bridge anjeneral gen trèz, men li pi fasil pou teste kod ak ti egzanp."
   ]
  },
  {
   "cell_type": "code",
   "execution_count": null,
   "id": "51dea4dc",
   "metadata": {},
   "outputs": [],
   "source": [
    "hand = BridgeHand('player 2')\n",
    "\n",
    "deck.shuffle()\n",
    "deck.move_cards(hand, 5)\n",
    "print(hand)"
   ]
  },
  {
   "cell_type": "markdown",
   "id": "31e7dbd5",
   "metadata": {},
   "source": [
    "Men total skor pou Wa ak Dame."
   ]
  },
  {
   "cell_type": "code",
   "execution_count": null,
   "id": "9df67181",
   "metadata": {
    "lines_to_next_cell": 1
   },
   "outputs": [],
   "source": [
    "hand.high_card_point_count()"
   ]
  },
  {
   "cell_type": "markdown",
   "id": "d6df338c",
   "metadata": {},
   "source": [
    "`BridgeHand` erit varyab ak metòd `Hand` yo epi ajoute yon varyab klas ak yon metòd ki spesifik pou bridge.\n",
    "Fason sa a pou itilize eritaj rele **spesyalizasyon** paske li defini yon nouvo klas ki spesyalize pou yon itilizasyon patikilye, tankou jwe bridge."
   ]
  },
  {
   "cell_type": "markdown",
   "id": "2fb17fd4",
   "metadata": {},
   "source": [
    "## Débogaj\n",
    "\n",
    "Eritaj se yon karakteristik itil.\n",
    "Gen kèk pwogram ki t ap repete san eritaj kapab ekri pi kout ak li.\n",
    "Epitou, eritaj ka fasilite reutilizasyon kod, paske ou ka personnaliser konpòtman klas paran an san ou pa bezwen modifye li.\n",
    "Nan kèk ka, estrikti eritaj la reflete estrikti natirèl pwoblèm lan, sa ki fè konsepsyon an pi fasil pou konprann.\n",
    "\n",
    "Men eritaj ka fè pwogram difisil pou li.\n",
    "Lè yon metòd envoke, pafwa ou pa konnen kote pou jwenn definisyon li — kod enpòtan an ka gaye sou plizyè modil.\n",
    "\n",
    "Chak fwa ou pa sèten sou kou execisyon pwogram ou, solisyon ki pi senp la se ajoute enstriksyon print an kòmansman metòd ki enpòtan yo.\n",
    "Si `Deck.shuffle` enprime yon mesaj ki di `Running Deck.shuffle`, lè pwogram lan kouri li trase kou execisyon.\n",
    "\n",
    "Kòm altènativ, ou ka itilize fonksyon ki anba a, ki pran yon objè ak non yon metòd (kòm chèn) epi retounen klas ki bay definisyon metòd la."
   ]
  },
  {
   "cell_type": "code",
   "execution_count": null,
   "id": "72579ca9",
   "metadata": {
    "lines_to_next_cell": 1
   },
   "outputs": [],
   "source": [
    "def find_defining_class(obj, method_name):\n",
    "    \"\"\"Jwenn klas ki defini metòd bay la.\"\"\"\n",
    "    for typ in type(obj).mro():\n",
    "        if method_name in vars(typ):\n",
    "            return typ\n",
    "    return f'Method {method_name} not found.'"
   ]
  },
  {
   "cell_type": "markdown",
   "id": "85b55789",
   "metadata": {},
   "source": [
    "`find_defining_class` itilize metòd `mro` pou jwenn lis objè klas (tip) yo ki pral chèche metòd yo.\n",
    "\"MRO\" vle di \"method resolution order\", ki se sekans klas Python chèche pou \"rezoud\" non metòd la — sa vle di, jwenn objè fonksyon non an refere a.\n",
    "\n",
    "Kòm egzanp, ann instansye yon `BridgeHand` epi apre sa jwenn klas ki defini metòd `shuffle`."
   ]
  },
  {
   "cell_type": "code",
   "execution_count": null,
   "id": "cb3b7c32",
   "metadata": {},
   "outputs": [],
   "source": [
    "hand = BridgeHand('player 3')\n",
    "find_defining_class(hand, 'shuffle')"
   ]
  },
  {
   "cell_type": "markdown",
   "id": "a0f2a8ca",
   "metadata": {},
   "source": [
    "Metòd `shuffle` pou objè `BridgeHand` lan se sa ki an `Deck`."
   ]
  },
  {
   "cell_type": "markdown",
   "id": "77ae9c18",
   "metadata": {},
   "source": [
    "## Glosè\n",
    "\n",
    "**eritaj (inheritance):**\n",
    " Kapasite pou defini yon nouvo klas ki se yon vèsyon modifye yon klas ki te defini anvan.\n",
    "\n",
    "**encode:**\n",
    " Reprezante yon seri valè ak yon lòt seri valè lè nou konstwi yon mapping ant yo.\n",
    "\n",
    "**varyab klas (class variable):**\n",
    "Yon varyab defini anndan yon definisyon klas, men pa anndan okenn metòd.\n",
    "\n",
    "**totalman òdone (totally ordered):**\n",
    "Yon seri objè totalman òdone si nou ka konpare nenpòt de eleman epi rezilta yo konsistan.\n",
    "\n",
    "**delegation:**\n",
    "Lè yon metòd pase responsabilite bay yon lòt metòd pou fè majorite oswa tout travay la.\n",
    "\n",
    "**parent class:**\n",
    "Yon klas ki erit de li.\n",
    "\n",
    "**child class:**\n",
    "Yon klas ki erit soti nan yon lòt klas.\n",
    "\n",
    "**spesyalizasyon:**\n",
    "Youn fason pou itilize eritaj pou kreye yon nouvo klas ki se yon vèsyon spesyalize yon klas ki egziste."
   ]
  },
  {
   "cell_type": "markdown",
   "id": "830a52e2",
   "metadata": {},
   "source": [
    "## Egzèsis"
   ]
  },
  {
   "cell_type": "code",
   "execution_count": null,
   "id": "fe13e4ff",
   "metadata": {
    "lines_to_next_cell": 1
   },
   "outputs": [],
   "source": [
    "# Liy sa a di Jupyter pou bay enfòmasyon detaye sou erè execisyon\n",
    "# lè erè rive. Kouri li anvan ou travay sou egzèsis yo.\n",
    "\n",
    "%xmode Verbose"
   ]
  },
  {
   "cell_type": "markdown",
   "id": "7ada2a3f",
   "metadata": {},
   "source": [
    "### Mande yon asistan vityèl\n",
    "\n",
    "Lè sa mache byen, pwogramasyon oryante-objè ka fè pwogram yo pi lizib, testab, ak reutilizab.\n",
    "Men li ka tou fè pwogram yo konplike ak difisil pou menteni.\n",
    "Kòm rezilta, OOP se yon sijè kontwovèsyal — gen moun ki renmen l, gen moun ki pa renmen l.\n",
    "\n",
    "Pou aprann plis sou sijè a, mande yon asistan vityèl:\n",
    "\n",
    "* Ki avantaj ak dezavantaj pwogramasyon oryante-objè genyen?\n",
    "\n",
    "* Kisa sa vle di lè moun di \"favor kompozisyon pase eritaj\"?\n",
    "\n",
    "* Kisa prensip Liskov substitution a ye?\n",
    "\n",
    "* Eske Python se yon langaj oryante-objè?\n",
    "\n",
    "* Ki kondisyon pou yon seri totalman òdone?\n",
    "\n",
    "Epi janmoun, konsidere itilize yon asistan vityèl pou ede ak egzèsis ki anba yo."
   ]
  },
  {
   "cell_type": "markdown",
   "id": "e6dfc239",
   "metadata": {},
   "source": [
    "### Egzèsis\n",
    "\n",
    "Nan bridge kontra, yon \"trick\" se yon manch jwe kote chak youn nan kat jwè yo jwe yon kat.\n",
    "Pou reprezante kat sa yo, nou pral defini yon klas ki erit de `Deck`."
   ]
  },
  {
   "cell_type": "code",
   "execution_count": null,
   "id": "08de3116",
   "metadata": {
    "lines_to_next_cell": 1
   },
   "outputs": [],
   "source": [
    "class Trick(Deck):\n",
    "    \"\"\"Reprezante yon trick nan bridge.\"\"\""
   ]
  },
  {
   "cell_type": "markdown",
   "id": "c8732a6d",
   "metadata": {},
   "source": [
    "Kòm egzanp, konsidere trick sa a, kote premye jwè a koumanse ak 3 Karo (Diamonds), sa vle di Karo se suit ki \"led\".\n",
    "Dezyèm ak twazyèm jwè a \"follow suit\", sa vle di yo jwe yon kat ak suit led la.\n",
    "Katriyèm jwè a jwe yon suit diferan, sa vle di li pa ka genyen trick la.\n",
    "Donk gayan trick sa a se twazyèm jwè a, paske li te jwe kat ki pi wo nan suit led la."
   ]
  },
  {
   "cell_type": "code",
   "execution_count": null,
   "id": "f768582c",
   "metadata": {},
   "outputs": [],
   "source": [
    "cards = [Card(1, 3),\n",
    "         Card(1, 10),\n",
    "         Card(1, 12),\n",
    "         Card(2, 13)]\n",
    "trick = Trick(cards)\n",
    "print(trick)"
   ]
  },
  {
   "cell_type": "markdown",
   "id": "d8064919",
   "metadata": {},
   "source": [
    "Ekri yon metòd `Trick` ki rele `find_winner` ki boukle sou kat yo nan `Trick` la epi retounen endèks kat ki genyen.\n",
    "Nan egzanp anvan an, endèks kat ki genyen an se `2`."
   ]
  },
  {
   "cell_type": "markdown",
   "id": "3e97c27d",
   "metadata": {},
   "source": [
    "Ou ka itilize estrikti fonksyon sa a pou kòmanse."
   ]
  },
  {
   "cell_type": "code",
   "execution_count": null,
   "id": "f682e566",
   "metadata": {},
   "outputs": [],
   "source": [
    "%%add_method_to Trick\n",
    "\n",
    "    def find_winner(self):\n",
    "        return 0"
   ]
  },
  {
   "cell_type": "code",
   "execution_count": null,
   "id": "0d7245b4",
   "metadata": {},
   "outputs": [],
   "source": [
    "# Solisyon an antre la"
   ]
  },
  {
   "cell_type": "markdown",
   "id": "795079ac",
   "metadata": {},
   "source": [
    "Si ou teste metòd ou ak egzanp anvan an, endèks kat ki genyen an ta dwe `2`."
   ]
  },
  {
   "cell_type": "code",
   "execution_count": null,
   "id": "f5cfb2ed",
   "metadata": {
    "lines_to_next_cell": 1
   },
   "outputs": [],
   "source": [
    "trick.find_winner()"
   ]
  },
  {
   "cell_type": "markdown",
   "id": "25f544cc",
   "metadata": {},
   "source": [
    "### Egzèsis\n",
    "\n",
    "Nan chapit anvan yo, nou te bay plizyè egzèsis ki mande ou ekri fonksyon ki klasifye men poken.\n",
    "Si ou pa abitye ak poken, m ap eksplike sa ou bezwen konnen.\n",
    "Nou pral itilize klas sa a pou reprezante men poken."
   ]
  },
  {
   "cell_type": "code",
   "execution_count": null,
   "id": "d2cadf7a",
   "metadata": {
    "lines_to_next_cell": 1
   },
   "outputs": [],
   "source": [
    "class PokerHand(Hand):\n",
    "    \"\"\"Reprezante men poken.\"\"\"\n",
    "\n",
    "    def get_suit_counts(self):\n",
    "        counter = {}\n",
    "        for card in self.cards:\n",
    "            key = card.suit\n",
    "            counter[key] = counter.get(key, 0) + 1\n",
    "        return counter\n",
    "    \n",
    "    def get_rank_counts(self):\n",
    "        counter = {}\n",
    "        for card in self.cards:\n",
    "            key = card.rank\n",
    "            counter[key] = counter.get(key, 0) + 1\n",
    "        return counter    "
   ]
  },
  {
   "cell_type": "markdown",
   "id": "7154bda3",
   "metadata": {},
   "source": [
    "`PokerHand` bay de metòd ki pral ede w nan egzèsis yo.\n",
    "\n",
    "* `get_suit_counts` boukle sou kat yo nan `PokerHand`, konte konbyen kat ki gen chak suit, epi retounen yon diksyonè ki map soti suit code a ak konbyen fwa li parèt.\n",
    "\n",
    "* `get_rank_counts` fè menm bagay la ak ran kat yo, retounen yon diksyonè ki map soti rank code a ak konbyen fwa li parèt.\n",
    "\n",
    "Tout egzèsis ki swiv yo ka fèt sèlman ak karakteristik Python nou te aprann jiska kounye a, men kèk ladan yo pi difisil pase egzèsis anvan yo.\n",
    "Mwen ankouraje ou mande yon AI pou èd.\n",
    "\n",
    "Pou pwoblèm konsa, souvan li mache byen pou mande konseye jeneral sou estrateji ak algoritm.\n",
    "Apre sa ou ka swa ekri kod la ou menm oswa mande pou kod.\n",
    "Si ou mande pou kod, ou ta ka vle bay definisyon klas ki enpòtan yo kòm pati prompt la.\n",
    "\n",
    "Kòm premye egzèsis, nou pral ekri yon metòd ki rele `has_flush` ki tcheke si men an gen yon \"flush\" — sa vle di si li gen omwen senk kat ak menm suit.\n",
    "\n",
    "Nan pifò varyete poken, men an gen swa senk oswa sèt kat, men gen kèk varyasyon ekzotik kote men an gen lòt kantite kat.\n",
    "Men kèlkeswa konbyen kat ki gen, se sèlman senk ki konte pou pi bon men an."
   ]
  },
  {
   "cell_type": "markdown",
   "id": "1912a059",
   "metadata": {},
   "source": [
    "Ou ka itilize estrikti fonksyon sa a pou kòmanse."
   ]
  },
  {
   "cell_type": "code",
   "execution_count": null,
   "id": "31c840df",
   "metadata": {},
   "outputs": [],
   "source": [
    "%%add_method_to PokerHand\n",
    "\n",
    "    def has_flush(self):\n",
    "        \"\"\"Tcheke si men an gen yon flush.\"\"\"\n",
    "        return False"
   ]
  },
  {
   "cell_type": "code",
   "execution_count": null,
   "id": "a30d82a5",
   "metadata": {},
   "outputs": [],
   "source": [
    "# Solisyon an antre la"
   ]
  },
  {
   "cell_type": "markdown",
   "id": "173ed159",
   "metadata": {},
   "source": [
    "Pou teste metòd sa a, nou pral konstwi yon men ak senk kat ki tout se Clubs, donk li gen yon flush."
   ]
  },
  {
   "cell_type": "code",
   "execution_count": null,
   "id": "1e130832",
   "metadata": {},
   "outputs": [],
   "source": [
    "good_hand = PokerHand('good_hand')\n",
    "\n",
    "suit = 0\n",
    "for rank in range(10, 15):\n",
    "    card = Card(suit, rank)\n",
    "    good_hand.put_card(card)\n",
    "    \n",
    "print(good_hand)"
   ]
  },
  {
   "cell_type": "markdown",
   "id": "2c29ad0e",
   "metadata": {},
   "source": [
    "Si nou rele `get_suit_counts`, nou ka konfime ke suit code `0` parèt `5` fwa."
   ]
  },
  {
   "cell_type": "code",
   "execution_count": null,
   "id": "478f4cd0",
   "metadata": {},
   "outputs": [],
   "source": [
    "good_hand.get_suit_counts()"
   ]
  },
  {
   "cell_type": "markdown",
   "id": "1cff5952",
   "metadata": {},
   "source": [
    "Donk `has_flush` ta dwe retounen `True`."
   ]
  },
  {
   "cell_type": "code",
   "execution_count": null,
   "id": "b4ac7f03",
   "metadata": {},
   "outputs": [],
   "source": [
    "good_hand.has_flush()"
   ]
  },
  {
   "cell_type": "markdown",
   "id": "117c62a4",
   "metadata": {},
   "source": [
    "Kòm dezyèm tès, nou pral konstwi yon men ak twa Clubs ak de suit diferan."
   ]
  },
  {
   "cell_type": "code",
   "execution_count": null,
   "id": "d4d9778f",
   "metadata": {},
   "outputs": [],
   "source": [
    "cards = [Card(0, 2),\n",
    "         Card(0, 3),\n",
    "         Card(2, 4),\n",
    "         Card(3, 5),\n",
    "         Card(0, 7),\n",
    "        ]\n",
    "\n",
    "bad_hand = PokerHand('bad hand')\n",
    "for card in cards:\n",
    "    bad_hand.put_card(card)\n",
    "    \n",
    "print(bad_hand)"
   ]
  },
  {
   "cell_type": "markdown",
   "id": "f1f2f2a2",
   "metadata": {},
   "source": [
    "Donk `has_flush` ta dwe retounen `False`."
   ]
  },
  {
   "cell_type": "code",
   "execution_count": null,
   "id": "ee92a8e5",
   "metadata": {},
   "outputs": [],
   "source": [
    "bad_hand.has_flush()"
   ]
  },
  {
   "cell_type": "markdown",
   "id": "f4b62492",
   "metadata": {},
   "source": [
    "### Egzèsis\n",
    "\n",
    "Ekri yon metòd ki rele `has_straight` ki tcheke si men an gen yon straight, sa vle di senk kat ak ran konsekitif.\n",
    "Pa egzanp, si men an gen ran `5`, `6`, `7`, `8`, `9`, li gen yon straight.\n",
    "\n",
    "Yon As ka vini anvan yon `2` oswa apre yon Wa, donk `Ace`, `2`, `3`, `4`, `5` se yon straight ak `10`, `Jack`, `Queen`, `King`, `Ace` tou.\n",
    "Men yon straight pa ka \"wrap around\", donk `King`, `Ace`, `2`, `3`, `4` pa yon straight."
   ]
  },
  {
   "cell_type": "markdown",
   "id": "9e5f93e1",
   "metadata": {},
   "source": [
    "Ou ka itilize estrikti fonksyon sa a pou kòmanse.\n",
    "Li gen kèk liy kod ki konte konbyen As (reprezante ak kòd `1` oswa `14`) epi sto total la sou toude pozisyon `counter`."
   ]
  },
  {
   "cell_type": "code",
   "execution_count": null,
   "id": "edb52d7a",
   "metadata": {},
   "outputs": [],
   "source": [
    "%%add_method_to PokerHand\n",
    "\n",
    "    def has_straight(self, n=5):\n",
    "        \"\"\"Tcheke si men an gen yon straight ak omwen `n` kat.\"\"\"\n",
    "        counter = self.get_rank_counts()\n",
    "        aces = counter.get(1, 0) + counter.get(14, 0)\n",
    "        counter[1] = aces\n",
    "        counter[14] = aces\n",
    "        \n",
    "        return False"
   ]
  },
  {
   "cell_type": "code",
   "execution_count": null,
   "id": "035bd40c",
   "metadata": {},
   "outputs": [],
   "source": [
    "# Solisyon an antre la"
   ]
  },
  {
   "cell_type": "markdown",
   "id": "e582d42c",
   "metadata": {},
   "source": [
    "`good_hand`, nou te kreye pou egzèsis anvan an, gen yon straight.\n",
    "Si nou itilize `get_rank_counts`, nou ka konfime ke li gen omwen yon kat pou chak ran konsekitif yo senk fwa."
   ]
  },
  {
   "cell_type": "code",
   "execution_count": null,
   "id": "20307f10",
   "metadata": {},
   "outputs": [],
   "source": [
    "good_hand.get_rank_counts()"
   ]
  },
  {
   "cell_type": "markdown",
   "id": "b1806e78",
   "metadata": {},
   "source": [
    "Donk `has_straight` ta dwe retounen `True`."
   ]
  },
  {
   "cell_type": "code",
   "execution_count": null,
   "id": "ecd14ad0",
   "metadata": {},
   "outputs": [],
   "source": [
    "good_hand.has_straight()"
   ]
  },
  {
   "cell_type": "markdown",
   "id": "320fa6ce",
   "metadata": {},
   "source": [
    "`bad_hand` pa gen straight, donk `has_straight` ta dwe retounen `False`."
   ]
  },
  {
   "cell_type": "code",
   "execution_count": null,
   "id": "046c705a",
   "metadata": {},
   "outputs": [],
   "source": [
    "bad_hand.has_straight()"
   ]
  },
  {
   "cell_type": "markdown",
   "id": "fd512164",
   "metadata": {},
   "source": [
    "### Egzèsis\n",
    "\n",
    "Men an gen yon straight flush si li gen yon seri senk kat ki se tou straight ak flush — sa vle di senk kat menm suit ak ran konsekitif.\n",
    "Ekri yon metòd `PokerHand` ki tcheke si men an gen yon straight flush."
   ]
  },
  {
   "cell_type": "markdown",
   "id": "7a133657",
   "metadata": {},
   "source": [
    "Ou ka itilize estrikti fonksyon sa a pou kòmanse."
   ]
  },
  {
   "cell_type": "code",
   "execution_count": null,
   "id": "802464e5",
   "metadata": {},
   "outputs": [],
   "source": [
    "%%add_method_to PokerHand\n",
    "\n",
    "    def has_straightflush(self):\n",
    "        \"\"\"Tcheke si men an gen yon straight flush.\"\"\"\n",
    "        return False"
   ]
  },
  {
   "cell_type": "code",
   "execution_count": null,
   "id": "40b52456",
   "metadata": {},
   "outputs": [],
   "source": [
    "# Solisyon an antre la"
   ]
  },
  {
   "cell_type": "code",
   "execution_count": null,
   "id": "39be393f",
   "metadata": {},
   "outputs": [],
   "source": [
    "# Solisyon an antre la"
   ]
  },
  {
   "cell_type": "markdown",
   "id": "63c82a72",
   "metadata": {},
   "source": [
    "Itilize egzanp sa yo pou teste metòd ou."
   ]
  },
  {
   "cell_type": "code",
   "execution_count": null,
   "id": "65e51a7e",
   "metadata": {},
   "outputs": [],
   "source": [
    "good_hand.has_straightflush()     # ta dwe True"
   ]
  },
  {
   "cell_type": "code",
   "execution_count": null,
   "id": "70982fa1",
   "metadata": {},
   "outputs": [],
   "source": [
    "bad_hand.has_straightflush()     # ta dwe False"
   ]
  },
  {
   "cell_type": "markdown",
   "id": "b8801ebb",
   "metadata": {},
   "source": [
    "Note ke li pa sifi pou tcheke si men an gen yon straight ak yon flush.\n",
    "Pou wè pouki, konsidere men sa a:"
   ]
  },
  {
   "cell_type": "code",
   "execution_count": null,
   "id": "2c45e7ee",
   "metadata": {},
   "outputs": [],
   "source": [
    "from copy import deepcopy\n",
    "\n",
    "straight_and_flush = deepcopy(bad_hand)\n",
    "straight_and_flush.put_card(Card(0, 6))\n",
    "straight_and_flush.put_card(Card(0, 9))\n",
    "print(straight_and_flush)"
   ]
  },
  {
   "cell_type": "markdown",
   "id": "37778841",
   "metadata": {},
   "source": [
    "Men sa a gen yon straight ak yon flush, men se pa menm senk kat yo."
   ]
  },
  {
   "cell_type": "code",
   "execution_count": null,
   "id": "ce532673",
   "metadata": {},
   "outputs": [],
   "source": [
    " straight_and_flush.has_straight(), straight_and_flush.has_flush()"
   ]
  },
  {
   "cell_type": "markdown",
   "id": "6bfb7832",
   "metadata": {},
   "source": [
    "Donk li pa gen straight flush."
   ]
  },
  {
   "cell_type": "code",
   "execution_count": null,
   "id": "8442f2d9",
   "metadata": {},
   "outputs": [],
   "source": [
    "straight_and_flush.has_straightflush()    # ta dwe False"
   ]
  },
  {
   "cell_type": "markdown",
   "id": "06eef341",
   "metadata": {},
   "source": [
    "### Egzèsis\n",
    "\n",
    "Yon men gen yon \"pair\" si li gen de oswa plis kat ak menm ran.\n",
    "Ekri yon metòd `PokerHand` ki tcheke si men an gen yon pair."
   ]
  },
  {
   "cell_type": "markdown",
   "id": "247496d4",
   "metadata": {},
   "source": [
    "Ou ka itilize estrikti fonksyon sa a pou kòmanse."
   ]
  },
  {
   "cell_type": "code",
   "execution_count": null,
   "id": "f98e7edb",
   "metadata": {},
   "outputs": [],
   "source": [
    "%%add_method_to PokerHand\n",
    "\n",
    "    def check_sets(self, *need_list):\n",
    "        return True"
   ]
  },
  {
   "cell_type": "code",
   "execution_count": null,
   "id": "fe74e8f9",
   "metadata": {},
   "outputs": [],
   "source": [
    "# Solisyon an antre la"
   ]
  },
  {
   "cell_type": "code",
   "execution_count": null,
   "id": "0feef782",
   "metadata": {},
   "outputs": [],
   "source": [
    "# Solisyon an antre la"
   ]
  },
  {
   "cell_type": "markdown",
   "id": "743a3cc3",
   "metadata": {},
   "source": [
    "Pou teste metòd ou, men yon men ki gen yon pair."
   ]
  },
  {
   "cell_type": "code",
   "execution_count": null,
   "id": "39e8b5a8",
   "metadata": {},
   "outputs": [],
   "source": [
    "pair = deepcopy(bad_hand)\n",
    "pair.put_card(Card(1, 2))\n",
    "print(pair)"
   ]
  },
  {
   "cell_type": "code",
   "execution_count": null,
   "id": "bfa28682",
   "metadata": {},
   "outputs": [],
   "source": [
    "pair.has_pair()    # ta dwe True"
   ]
  },
  {
   "cell_type": "code",
   "execution_count": null,
   "id": "7d588203",
   "metadata": {},
   "outputs": [],
   "source": [
    "bad_hand.has_pair()    # ta dwe False"
   ]
  },
  {
   "cell_type": "code",
   "execution_count": null,
   "id": "7cd984d3",
   "metadata": {},
   "outputs": [],
   "source": [
    "good_hand.has_pair()   # ta dwe False"
   ]
  },
  {
   "cell_type": "markdown",
   "id": "ef253db3",
   "metadata": {},
   "source": [
    "### Egzèsis\n",
    "\n",
    "Yon men gen \"full house\" si li gen twa kat menm ran ak de kat menm ran (diferan).\n",
    "Ekri yon metòd `PokerHand` ki tcheke si men an gen full house."
   ]
  },
  {
   "cell_type": "markdown",
   "id": "90d5cc32",
   "metadata": {},
   "source": [
    "Ou ka itilize estrikti fonksyon sa a pou kòmanse."
   ]
  },
  {
   "cell_type": "code",
   "execution_count": null,
   "id": "9f92fccc",
   "metadata": {},
   "outputs": [],
   "source": [
    "%%add_method_to PokerHand\n",
    "\n",
    "    def has_full_house(self):\n",
    "        return False"
   ]
  },
  {
   "cell_type": "code",
   "execution_count": null,
   "id": "9e5ecd31",
   "metadata": {},
   "outputs": [],
   "source": [
    "# Solisyon an antre la"
   ]
  },
  {
   "cell_type": "markdown",
   "id": "3e3cc5af",
   "metadata": {},
   "source": [
    "Ou ka itilize men sa a pou teste metòd ou."
   ]
  },
  {
   "cell_type": "code",
   "execution_count": null,
   "id": "e77fc757",
   "metadata": {},
   "outputs": [],
   "source": [
    "boat = deepcopy(pair)\n",
    "boat.put_card(Card(2, 2))\n",
    "boat.put_card(Card(2, 3))\n",
    "print(boat)"
   ]
  },
  {
   "cell_type": "code",
   "execution_count": null,
   "id": "31e8d7c4",
   "metadata": {},
   "outputs": [],
   "source": [
    "boat.has_full_house()     # ta dwe True"
   ]
  },
  {
   "cell_type": "code",
   "execution_count": null,
   "id": "758530c5",
   "metadata": {},
   "outputs": [],
   "source": [
    "pair.has_full_house()     # ta dwe False"
   ]
  },
  {
   "cell_type": "code",
   "execution_count": null,
   "id": "3a23fdb3",
   "metadata": {
    "lines_to_next_cell": 1
   },
   "outputs": [],
   "source": [
    "good_hand.has_full_house()     # ta dwe False"
   ]
  },
  {
   "cell_type": "markdown",
   "id": "cfbe6ebc",
   "metadata": {},
   "source": [
    "### Egzèsis\n",
    "\n",
    "Egzèsis sa a se yon istwa sou yon erè komen ki ka difisil pou débogaj.\n",
    "Konsidere definisyon klas sa a:"
   ]
  },
  {
   "cell_type": "code",
   "execution_count": null,
   "id": "47c8bed8",
   "metadata": {
    "lines_to_next_cell": 1
   },
   "outputs": [],
   "source": [
    "class Kangaroo:\n",
    "    \"\"\"Yon Kangaroo se yon marsupial.\"\"\"\n",
    "    \n",
    "    def __init__(self, name, contents=[]):\n",
    "        \"\"\"Inisyalize sa ki gen nan pòch la.\n",
    "        \n",
    "        name: chèn\n",
    "        contents: sa ki anndan pòch la.\n",
    "        \"\"\"\n",
    "        self.name = name\n",
    "        self.contents = contents\n",
    "\n",
    "    def __str__(self):\n",
    "        \"\"\"Retounen yon reprezantasyon chèn pou Kangaroo sa a.\"\"\"\n",
    "        t = [ self.name + ' has pouch contents:' ]\n",
    "        for obj in self.contents:\n",
    "            s = '    ' + object.__str__(obj)\n",
    "            t.append(s)\n",
    "        return '\\n'.join(t)\n",
    "\n",
    "    def put_in_pouch(self, item):\n",
    "        \"\"\"Ajoute yon nouvo objè nan kontni pòch la.\n",
    "        \n",
    "        item: objè pou ajoute\n",
    "        \"\"\"\n",
    "        self.contents.append(item)"
   ]
  },
  {
   "cell_type": "markdown",
   "id": "64bdd1d5",
   "metadata": {},
   "source": [
    "`__init__` pran de paramèt: `name` obligatwa, men `contents` opsyonèl — si ou pa bay li, valè pa defo a se yon lis vid.\n",
    "\n",
    "`__str__` retounen yon chèn ki reprezante objè a, ki gen non an ak sa ki nan pòch la.\n",
    "\n",
    "`put_in_pouch` pran nenpòt objè epi ajoute li sou `contents`.\n",
    "\n",
    "Kounye a ann wè kijan klas sa a mache.\n",
    "Nou pral kreye de objè `Kangaroo` ak non `'Kanga'` ak `'Roo'`."
   ]
  },
  {
   "cell_type": "code",
   "execution_count": null,
   "id": "d966c7af",
   "metadata": {},
   "outputs": [],
   "source": [
    "kanga = Kangaroo('Kanga')\n",
    "roo = Kangaroo('Roo')"
   ]
  },
  {
   "cell_type": "markdown",
   "id": "283f7f98",
   "metadata": {},
   "source": [
    "Nan pòch Kanga, nou pral mete de chèn ak Roo."
   ]
  },
  {
   "cell_type": "code",
   "execution_count": null,
   "id": "b75ac73d",
   "metadata": {},
   "outputs": [],
   "source": [
    "kanga.put_in_pouch('wallet')\n",
    "kanga.put_in_pouch('car keys')\n",
    "kanga.put_in_pouch(roo)"
   ]
  },
  {
   "cell_type": "markdown",
   "id": "c89ad7b1",
   "metadata": {},
   "source": [
    "Si nou enprime `kanga`, li sanble tout bagay anfòm."
   ]
  },
  {
   "cell_type": "code",
   "execution_count": null,
   "id": "158a58c1",
   "metadata": {},
   "outputs": [],
   "source": [
    "print(kanga)"
   ]
  },
  {
   "cell_type": "markdown",
   "id": "331a9645",
   "metadata": {},
   "source": [
    "Men sa k rive si nou enprime `roo`?"
   ]
  },
  {
   "cell_type": "code",
   "execution_count": null,
   "id": "ecd0930b",
   "metadata": {},
   "outputs": [],
   "source": [
    "print(roo)"
   ]
  },
  {
   "cell_type": "markdown",
   "id": "fed02242",
   "metadata": {},
   "source": [
    "Pòch Roo a gen menm kontni ak Kanga a, enkli yon referans a `roo`!\n",
    "\n",
    "Gade si ou ka dekouvri sa ki mal.\n",
    "Apre sa mande yon asistan vityèl, \"Kisa ki mal ak pwogram sa a?\" epi kole definisyon `Kangaroo` la."
   ]
  },
  {
   "cell_type": "code",
   "execution_count": null,
   "id": "f458f754",
   "metadata": {},
   "outputs": [],
   "source": []
  }
 ],
 "metadata": {
  "jupytext": {
   "cell_metadata_filter": "-all",
   "main_language": "python",
   "notebook_metadata_filter": "-all"
  },
  "language_info": {
   "name": "python"
  }
 },
 "nbformat": 4,
 "nbformat_minor": 5
}
