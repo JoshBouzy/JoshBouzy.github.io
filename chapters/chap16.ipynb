{
 "cells": [
  {
   "cell_type": "markdown",
   "id": "12236852",
   "metadata": {},
   "source": [
    "Ou ka kòmande vèsyon enprime ak ebook pou *Think Python 3e* soti nan\n",
    "[Bookshop.org](https://bookshop.org/a/98697/9781098155438) ak\n",
    "[Amazon](https://www.amazon.com/_/dp/1098155432?smid=ATVPDKIKX0DER&_encoding=UTF8&tag=oreilly20-20&_encoding=UTF8&tag=greenteapre01-20&linkCode=ur2&linkId=e2a529f94920295d27ec8a06e757dc7c&camp=1789&creative=9325)."
   ]
  },
  {
   "cell_type": "code",
   "execution_count": null,
   "id": "6d7a543e",
   "metadata": {
    "lines_to_next_cell": 1
   },
   "outputs": [],
   "source": [
    "from os.path import basename, exists\n",
    "\n",
    "def download(url):\n",
    "    filename = basename(url)\n",
    "    if not exists(filename):\n",
    "        from urllib.request import urlretrieve\n",
    "\n",
    "        local, _ = urlretrieve(url, filename)\n",
    "        print(\"Telechaje \" + str(local))\n",
    "    return filename\n",
    "\n",
    "download('https://github.com/AllenDowney/ThinkPython/raw/v3/thinkpython.py');\n",
    "download('https://github.com/AllenDowney/ThinkPython/raw/v3/diagram.py');\n",
    "download('https://github.com/ramalho/jupyturtle/releases/download/2024-03/jupyturtle.py');\n",
    "\n",
    "import thinkpython"
   ]
  },
  {
   "cell_type": "markdown",
   "id": "870b714d",
   "metadata": {},
   "source": [
    "# Klas ak Objè\n",
    "\n",
    "Jiska kounye a nou te defini klas epi kreye objè ki reprezante lè jounen an ak jou nan ane a.\n",
    "Nou te defini metòd ki kreye, modifye, ak fè kalkil ak objè sa yo.\n",
    "\n",
    "Nan chapit sa a, nou pral kontinye toune nou sou pwogramasyon oryante-objè (OOP) lè nou defini klas ki reprezante objè jeyometrik, ki gen ladan pwen, liy, rektang, ak sèk.\n",
    "Nou pral ekri metòd ki kreye ak modifye objè sa yo, epi nou pral itilize modil `jupyturtle` la pou desine yo.\n",
    "\n",
    "M ap itilize klas sa yo pou demontre sijè OOP ki enkli idantite ak ekivalans objè, kopi somè (shallow) ak kopi fon (deep), ak polimòfis."
   ]
  },
  {
   "cell_type": "markdown",
   "id": "eafe63c6",
   "metadata": {},
   "source": [
    "## Kreye yon Point\n",
    "\n",
    "Nan grafik òdinatè, yon kote sou ekran an souvan reprezante pa yon pè kowòdone nan yon plan `x`-`y`.\n",
    "Dapre konvansyon, pwen `(0, 0)` anjeneral reprezante kwen anwo-gòch ekran an, epi `(x, y)` reprezante pwen ki `x` inite adwat ak `y` inite desann soti nan orijin lan.\n",
    "Konpare ak sistèm kowòdone kartézyen ou ka te wè nan klas matematik, aks `y` la se anverè.\n",
    "\n",
    "Gen plizyè fason nou ka reprezante yon pwen an Python:\n",
    "\n",
    "-   Nou ka sto kowòdone yo separeman an de varyab, `x` ak `y`.\n",
    "\n",
    "-   Nou ka sto kowòdone yo kòm eleman an yon lis oswa tuple.\n",
    "\n",
    "-   Nou ka kreye yon nouvo tip pou reprezante pwen kòm objè.\n",
    "\n",
    "Nan pwogramasyon oryante-objè, fason ki pi idiomatik se kreye yon nouvo tip.\n",
    "Pou fè sa, nou pral kòmanse ak yon definisyon klas pou `Point`."
   ]
  },
  {
   "cell_type": "code",
   "execution_count": null,
   "id": "966dc778",
   "metadata": {
    "lines_to_next_cell": 1
   },
   "outputs": [],
   "source": [
    "class Point:\n",
    "    \"\"\"Reprezante yon pwen nan espas 2-D.\"\"\"\n",
    "    \n",
    "    def __init__(self, x, y):\n",
    "        self.x = x\n",
    "        self.y = y\n",
    "        \n",
    "    def __str__(self):\n",
    "        return f'Point({self.x}, {self.y})'"
   ]
  },
  {
   "cell_type": "markdown",
   "id": "63291fb2",
   "metadata": {},
   "source": [
    "Metòd `__init__` pran kowòdone yo kòm paramèt epi asiyen yo a atribut `x` ak `y`.\n",
    "Metòd `__str__` retounen yon chèn ki reprezante `Point` lan.\n",
    "\n",
    "Kounye a nou ka instansye epi afiche yon objè `Point` konsa."
   ]
  },
  {
   "cell_type": "code",
   "execution_count": null,
   "id": "3fa66772",
   "metadata": {},
   "outputs": [],
   "source": [
    "start = Point(0, 0)\n",
    "print(start)"
   ]
  },
  {
   "cell_type": "markdown",
   "id": "7dc863da",
   "metadata": {},
   "source": [
    "Dyagram ki anba a montre eta nouvo objè a."
   ]
  },
  {
   "cell_type": "markdown",
   "id": "74113aa0",
   "metadata": {},
   "source": [
    "Anjeneral, tip defini pa pwogramè yo mutab, donk nou ka ekri yon metòd tankou `translate` ki pran de nimewo, `dx` ak `dy`, epi ajoute yo sou atribut `x` ak `y`."
   ]
  },
  {
   "cell_type": "code",
   "execution_count": null,
   "id": "572c83b7",
   "metadata": {},
   "outputs": [],
   "source": [
    "%%add_method_to Point\n",
    "\n",
    "    def translate(self, dx, dy):\n",
    "        self.x += dx\n",
    "        self.y += dy"
   ]
  },
  {
   "cell_type": "markdown",
   "id": "ad448484",
   "metadata": {},
   "source": [
    "Fonksyon sa a tradwi `Point` lan soti nan yon kote nan plan an pou ale yon lòt kote.\n",
    "Si nou pa vle modifye yon `Point` ki egziste deja, nou ka itilize `copy` pou kopye objè orijinal la epi apre sa modifye kopi a."
   ]
  },
  {
   "cell_type": "code",
   "execution_count": null,
   "id": "d6d9fcd2",
   "metadata": {},
   "outputs": [],
   "source": [
    "from copy import copy\n",
    "\n",
    "end1 = copy(start)\n",
    "end1.translate(300, 0)\n",
    "print(end1)"
   ]
  },
  {
   "cell_type": "markdown",
   "id": "c81ac1b7",
   "metadata": {},
   "source": [
    "Nou ka anbalaj etap sa yo an yon lòt metòd ki rele `translated`."
   ]
  },
  {
   "cell_type": "code",
   "execution_count": null,
   "id": "9a48d26a",
   "metadata": {},
   "outputs": [],
   "source": [
    "%%add_method_to Point\n",
    "\n",
    "    def translated(self, dx=0, dy=0):\n",
    "        point = copy(self)\n",
    "        point.translate(dx, dy)\n",
    "        return point"
   ]
  },
  {
   "cell_type": "markdown",
   "id": "cbc2dd9c",
   "metadata": {},
   "source": [
    "Menm jan fonksyon bati-an `sort` modifye yon lis, epi fonksyon `sorted` kreye yon nouvo lis, kounye a nou gen yon metòd `translate` ki modifye yon `Point` ak yon metòd `translated` ki kreye yon nouvo.\n",
    "\n",
    "Men yon egzanp:"
   ]
  },
  {
   "cell_type": "code",
   "execution_count": null,
   "id": "a6a51acb",
   "metadata": {
    "lines_to_next_cell": 1
   },
   "outputs": [],
   "source": [
    "end2 = start.translated(0, 150)\n",
    "print(end2)"
   ]
  },
  {
   "cell_type": "markdown",
   "id": "4f8c94ce",
   "metadata": {},
   "source": [
    "Nan seksyon kap vini an, nou pral itilize pwen sa yo pou defini ak desine yon liy."
   ]
  },
  {
   "cell_type": "markdown",
   "id": "d42f6b0e",
   "metadata": {},
   "source": [
    "## Kreye yon Line\n",
    "\n",
    "Kounye a ann defini yon klas ki reprezante segment liy ki antre de pwen.\n",
    "Kòm dabitid, nou pral kòmanse ak metòd `__init__` ak `__str__`."
   ]
  },
  {
   "cell_type": "code",
   "execution_count": null,
   "id": "a2221bd7",
   "metadata": {
    "lines_to_next_cell": 1
   },
   "outputs": [],
   "source": [
    "class Line:\n",
    "    def __init__(self, p1, p2):\n",
    "        self.p1 = p1\n",
    "        self.p2 = p2\n",
    "        \n",
    "    def __str__(self):\n",
    "        return f'Line({self.p1}, {self.p2})'"
   ]
  },
  {
   "cell_type": "markdown",
   "id": "7449b206",
   "metadata": {},
   "source": [
    "Ak de metòd sa yo, nou ka instansye epi afiche yon objè `Line` nou pral itilize pou reprezante aks `x` la."
   ]
  },
  {
   "cell_type": "code",
   "execution_count": null,
   "id": "b4563577",
   "metadata": {},
   "outputs": [],
   "source": [
    "line1 = Line(start, end1)\n",
    "print(line1)"
   ]
  },
  {
   "cell_type": "markdown",
   "id": "0718e74c",
   "metadata": {},
   "source": [
    "Lè nou rele `print` epi pase `line` kòm paramèt, `print` envoke `__str__` sou `line`.\n",
    "Metòd `__str__` la itilize yon f-string pou kreye yon chèn ki reprezante `line` lan.\n",
    "\n",
    "F-string lan gen de ekspresyon an parantèz krole, `self.p1` ak `self.p2`.\n",
    "Lè ekspresyon sa yo evalye, rezilta yo se objè `Point`.\n",
    "Lè sa a, lè y ap konvèti yo an chèn, metòd `__str__` ki soti nan klas `Point` la envoke.\n",
    "\n",
    "Se sak fè, lè nou afiche yon `Line`, rezilta a gen chèn ki reprezante objè `Point` yo.\n",
    "\n",
    "Dyagram objè ki anba a montre eta objè `Line` sa a."
   ]
  },
  {
   "cell_type": "markdown",
   "id": "9feb51ee",
   "metadata": {},
   "source": [
    "Reprezantasyon chèn ak dyagram objè itil pou débogaj, men objektif egzanp sa a se pwodui grafik, pa tèks!\n",
    "Donk nou pral itilize modil `jupyturtle` la pou trase liy sou ekran.\n",
    "\n",
    "Jan nou te fè nan [Chapit 4](section_turtle_module), nou pral itilize `make_turtle` pou kreye yon objè `Turtle` ak yon ti canvas kote li ka desine.\n",
    "Pou trase liy, nou pral itilize de nouvo fonksyon soti nan modil `jupyturtle`:\n",
    "\n",
    "* `jumpto`, ki pran de kowòdone epi deplase `Turtle` lan kote a san trase liy.\n",
    "\n",
    "* `moveto`, ki deplase `Turtle` lan soti kote li ye a rive kote bay la, epi trase yon segment liy ant de kote sa yo.\n",
    "\n",
    "Men kijan nou enpòte yo."
   ]
  },
  {
   "cell_type": "code",
   "execution_count": null,
   "id": "b0ba0664",
   "metadata": {},
   "outputs": [],
   "source": [
    "from jupyturtle import make_turtle, jumpto, moveto"
   ]
  },
  {
   "cell_type": "markdown",
   "id": "5e3db143",
   "metadata": {},
   "source": [
    "Men yon metòd ki desine yon `Line`."
   ]
  },
  {
   "cell_type": "code",
   "execution_count": null,
   "id": "fd9c0a87",
   "metadata": {},
   "outputs": [],
   "source": [
    "%%add_method_to Line\n",
    "\n",
    "    def draw(self):\n",
    "        jumpto(self.p1.x, self.p1.y)\n",
    "        moveto(self.p2.x, self.p2.y)"
   ]
  },
  {
   "cell_type": "markdown",
   "id": "9708d390",
   "metadata": {},
   "source": [
    "Pou montre kijan li itilize, m ap kreye yon dezyèm liy ki reprezante aks `y` la."
   ]
  },
  {
   "cell_type": "code",
   "execution_count": null,
   "id": "4a168d45",
   "metadata": {},
   "outputs": [],
   "source": [
    "line2 = Line(start, end2)\n",
    "print(line2)"
   ]
  },
  {
   "cell_type": "markdown",
   "id": "48854634",
   "metadata": {},
   "source": [
    "Epi apre sa, desine aks yo."
   ]
  },
  {
   "cell_type": "code",
   "execution_count": null,
   "id": "566ff785",
   "metadata": {},
   "outputs": [],
   "source": [
    "make_turtle()\n",
    "line1.draw()\n",
    "line2.draw()"
   ]
  },
  {
   "cell_type": "markdown",
   "id": "3b9ad352",
   "metadata": {},
   "source": [
    "Pandan n ap defini ak desine plis objè, nou pral itilize liy sa yo ankò.\n",
    "Men anvan, ann pale sou ekivalans ak idantite objè."
   ]
  },
  {
   "cell_type": "markdown",
   "id": "14d21d55",
   "metadata": {},
   "source": [
    "## Ekivalans ak idantite\n",
    "\n",
    "Sipoze nou kreye de pwen ki gen menm kowòdone."
   ]
  },
  {
   "cell_type": "code",
   "execution_count": null,
   "id": "6d797139",
   "metadata": {},
   "outputs": [],
   "source": [
    "p1 = Point(200, 100)\n",
    "p2 = Point(200, 100)"
   ]
  },
  {
   "cell_type": "markdown",
   "id": "583f9a5f",
   "metadata": {},
   "source": [
    "Si nou itilize operatè `==` pou konpare yo, nou jwenn konpòtman pa defo pou tip defini pa pwogramè — rezilta a se `True` sèlman si se menm objè a, ki pa sa."
   ]
  },
  {
   "cell_type": "code",
   "execution_count": null,
   "id": "df382fec",
   "metadata": {},
   "outputs": [],
   "source": [
    "p1 == p2"
   ]
  },
  {
   "cell_type": "markdown",
   "id": "5ad8193c",
   "metadata": {},
   "source": [
    "Si nou vle chanje konpòtman sa a, nou ka bay yon metòd espesyal ki rele `__eq__` ki defini sa sa vle di pou de objè `Point` yo egal."
   ]
  },
  {
   "cell_type": "code",
   "execution_count": null,
   "id": "8df4274c",
   "metadata": {
    "lines_to_next_cell": 1
   },
   "outputs": [],
   "source": [
    "%%add_method_to Point\n",
    "\n",
    "def __eq__(self, other):\n",
    "    return (self.x == other.x) and (self.y == other.y)"
   ]
  },
  {
   "cell_type": "markdown",
   "id": "338cf858",
   "metadata": {},
   "source": [
    "Definisyon sa a konsidere de `Point` egal si atribut yo egal.\n",
    "Kounye a lè nou itilize operatè `==`, li envoke metòd `__eq__`, ki endike ke `p1` ak `p2` konsidere egal."
   ]
  },
  {
   "cell_type": "code",
   "execution_count": null,
   "id": "5ca3d66e",
   "metadata": {},
   "outputs": [],
   "source": [
    "p1 == p2"
   ]
  },
  {
   "cell_type": "markdown",
   "id": "888dce75",
   "metadata": {},
   "source": [
    "Men operatè `is` la toujou endike ke se de objè diferan."
   ]
  },
  {
   "cell_type": "code",
   "execution_count": null,
   "id": "c0d6d06c",
   "metadata": {
    "lines_to_next_cell": 1
   },
   "outputs": [],
   "source": [
    "p1 is p2"
   ]
  },
  {
   "cell_type": "markdown",
   "id": "08e189d8",
   "metadata": {},
   "source": [
    "Li pa posib pou pase sou operatè `is` la — li toujou tcheke si objè yo idantik.\n",
    "Men pou tip defini pa pwogramè, ou ka pase sou operatè `==` la pou li tcheke si objè yo ekivalan.\n",
    "E ou ka defini sa ekivalan vle di."
   ]
  },
  {
   "cell_type": "markdown",
   "id": "2c978223",
   "metadata": {},
   "source": [
    "## Kreye yon Rectangle\n",
    "\n",
    "Kounye a ann defini yon klas ki reprezante epi desine rektang.\n",
    "Pou kenbe bagay yo senp, nou pral asime ke rektang yo verikal oswa orizontal, pa an ang.\n",
    "Ki atribut ou panse nou dwe itilize pou presize kote ak gwosè yon rektang?\n",
    "\n",
    "Gen omwen de posibilite:\n",
    "\n",
    "-   Ou te ka presize lajè ak wotè rektang la epi kote youn kònè li.\n",
    "\n",
    "-   Ou te ka presize de kònè opoze.\n",
    "\n",
    "Kounye a li difisil pou di si youn pi bon pase lòt, donk ann aplike premye opsyon an.\n",
    "Men definisyon klas la."
   ]
  },
  {
   "cell_type": "code",
   "execution_count": null,
   "id": "a94abe70",
   "metadata": {
    "lines_to_next_cell": 1
   },
   "outputs": [],
   "source": [
    "class Rectangle:\n",
    "    \"\"\"Reprezante yon rektang.\n",
    "    \n",
    "    atribut: width, height, corner.\n",
    "    \"\"\"\n",
    "    def __init__(self, width, height, corner):\n",
    "        self.width = width\n",
    "        self.height = height\n",
    "        self.corner = corner\n",
    "        \n",
    "    def __str__(self):\n",
    "        return f'Rectangle({self.width}, {self.height}, {self.corner})'"
   ]
  },
  {
   "cell_type": "markdown",
   "id": "9c51b869",
   "metadata": {},
   "source": [
    "Kòm dabitid, metòd `__init__` la asiyen paramèt yo a atribut, epi `__str__` retounen yon chèn ki reprezante objè a.\n",
    "Kounye a nou ka instansye yon objè `Rectangle`, itilize yon `Point` kòm kote kònè anwo-gòch la."
   ]
  },
  {
   "cell_type": "code",
   "execution_count": null,
   "id": "fe250f44",
   "metadata": {},
   "outputs": [],
   "source": [
    "corner = Point(30, 20)\n",
    "box1 = Rectangle(100, 50, corner)\n",
    "print(box1)"
   ]
  },
  {
   "cell_type": "markdown",
   "id": "f2f42c57",
   "metadata": {},
   "source": [
    "Dyagram ki anba a montre eta objè sa a."
   ]
  },
  {
   "cell_type": "markdown",
   "id": "d3ef6a9b",
   "metadata": {},
   "source": [
    "Pou desine yon rektang, nou pral itilize metòd sa a pou fè kat objè `Point` ki reprezante kònè yo."
   ]
  },
  {
   "cell_type": "code",
   "execution_count": null,
   "id": "618a9d3a",
   "metadata": {},
   "outputs": [],
   "source": [
    "%%add_method_to Rectangle\n",
    "\n",
    "    def make_points(self):\n",
    "        p1 = self.corner\n",
    "        p2 = p1.translated(self.width, 0)\n",
    "        p3 = p2.translated(0, self.height)\n",
    "        p4 = p3.translated(-self.width, 0)\n",
    "        return p1, p2, p3, p4"
   ]
  },
  {
   "cell_type": "markdown",
   "id": "d35b45c0",
   "metadata": {},
   "source": [
    "Apre sa, nou pral fè kat objè `Line` pou reprezante kote yo."
   ]
  },
  {
   "cell_type": "code",
   "execution_count": null,
   "id": "594ba317",
   "metadata": {},
   "outputs": [],
   "source": [
    "%%add_method_to Rectangle\n",
    "\n",
    "    def make_lines(self):\n",
    "        p1, p2, p3, p4 = self.make_points()\n",
    "        return Line(p1, p2), Line(p2, p3), Line(p3, p4), Line(p4, p1)"
   ]
  },
  {
   "cell_type": "markdown",
   "id": "f6728acb",
   "metadata": {},
   "source": [
    "Apre sa, nou pral desine kote yo."
   ]
  },
  {
   "cell_type": "code",
   "execution_count": null,
   "id": "421a2aae",
   "metadata": {},
   "outputs": [],
   "source": [
    "%%add_method_to Rectangle\n",
    "\n",
    "    def draw(self):\n",
    "        lines = self.make_lines()\n",
    "        for line in lines:\n",
    "            line.draw()"
   ]
  },
  {
   "cell_type": "markdown",
   "id": "69caeafd",
   "metadata": {},
   "source": [
    "Men yon egzanp."
   ]
  },
  {
   "cell_type": "code",
   "execution_count": null,
   "id": "8aa38f9b",
   "metadata": {},
   "outputs": [],
   "source": [
    "make_turtle()\n",
    "line1.draw()\n",
    "line2.draw()\n",
    "box1.draw()"
   ]
  },
  {
   "cell_type": "markdown",
   "id": "8aac78cd",
   "metadata": {},
   "source": [
    "Figi a gen de liy pou reprezante aks yo."
   ]
  },
  {
   "cell_type": "markdown",
   "id": "5b5e9157",
   "metadata": {},
   "source": [
    "## Chanje rektang yo\n",
    "\n",
    "Kounye a ann konsidere de metòd ki modifye rektang, `grow` ak `translate`.\n",
    "Nou pral wè ke `grow` mache jan nou atann, men `translate` gen yon ti erè subtil.\n",
    "Gade si ou ka dekouvri li anvan m eksplike.\n",
    "\n",
    "`grow` pran de nimewo, `dwidth` ak `dheight`, epi ajoute yo sou `width` ak `height` rektang la."
   ]
  },
  {
   "cell_type": "code",
   "execution_count": null,
   "id": "8146de4b",
   "metadata": {},
   "outputs": [],
   "source": [
    "%%add_method_to Rectangle\n",
    "\n",
    "    def grow(self, dwidth, dheight):\n",
    "        self.width += dwidth\n",
    "        self.height += dheight"
   ]
  },
  {
   "cell_type": "markdown",
   "id": "a6c03924",
   "metadata": {},
   "source": [
    "Men yon egzanp ki montre efè a lè n ap fè yon kopi `box1` epi envoke `grow` sou kopi a."
   ]
  },
  {
   "cell_type": "code",
   "execution_count": null,
   "id": "80fac67d",
   "metadata": {},
   "outputs": [],
   "source": [
    "box2 = copy(box1)\n",
    "box2.grow(60, 40)\n",
    "print(box2)"
   ]
  },
  {
   "cell_type": "markdown",
   "id": "9c04f1f5",
   "metadata": {},
   "source": [
    "Si nou desine `box1` ak `box2`, nou ka konfime ke `grow` mache jan nou atann."
   ]
  },
  {
   "cell_type": "code",
   "execution_count": null,
   "id": "4e8a6723",
   "metadata": {},
   "outputs": [],
   "source": [
    "make_turtle()\n",
    "line1.draw()\n",
    "line2.draw()\n",
    "box1.draw()\n",
    "box2.draw()"
   ]
  },
  {
   "cell_type": "markdown",
   "id": "db3c75e6",
   "metadata": {},
   "source": [
    "Kounye a ann wè sa ki rive ak `translate`.\n",
    "Li pran de nimewo, `dx` ak `dy`, epi deplase rektang la distans sa yo an direksyon `x` ak `y`."
   ]
  },
  {
   "cell_type": "code",
   "execution_count": null,
   "id": "9cfbac1b",
   "metadata": {},
   "outputs": [],
   "source": [
    "%%add_method_to Rectangle\n",
    "\n",
    "    def translate(self, dx, dy):\n",
    "        self.corner.translate(dx, dy)"
   ]
  },
  {
   "cell_type": "markdown",
   "id": "0d29fda0",
   "metadata": {},
   "source": [
    "Pou demontre efè a, nou pral deplase `box2` adwat epi desann."
   ]
  },
  {
   "cell_type": "code",
   "execution_count": null,
   "id": "c68ddcfa",
   "metadata": {},
   "outputs": [],
   "source": [
    "box2.translate(30, 20)\n",
    "print(box2)"
   ]
  },
  {
   "cell_type": "markdown",
   "id": "46cc9ca0",
   "metadata": {},
   "source": [
    "Kounye a ann wè sa ki rive si nou redesine `box1` ak `box2`."
   ]
  },
  {
   "cell_type": "code",
   "execution_count": null,
   "id": "d006d9c2",
   "metadata": {},
   "outputs": [],
   "source": [
    "make_turtle()\n",
    "line1.draw()\n",
    "line2.draw()\n",
    "box1.draw()\n",
    "box2.draw()"
   ]
  },
  {
   "cell_type": "markdown",
   "id": "bcd017d8",
   "metadata": {},
   "source": [
    "Li sanble tou de rektang yo deplase, ki pa sa nou te vle!\n",
    "Seksyon kap vini an esplike sa ki pa mache."
   ]
  },
  {
   "cell_type": "markdown",
   "id": "4bff5da3",
   "metadata": {},
   "source": [
    "## Deep copy\n",
    "\n",
    "Lè nou itilize `copy` pou kopi `box1`, li kopye objè `Rectangle` la men li pa kopye objè `Point` li genyen.\n",
    "Donk `box1` ak `box2` se objè diferan, jan nou te vle."
   ]
  },
  {
   "cell_type": "code",
   "execution_count": null,
   "id": "12d4c027",
   "metadata": {},
   "outputs": [],
   "source": [
    "box1 is box2"
   ]
  },
  {
   "cell_type": "markdown",
   "id": "c7c19311",
   "metadata": {},
   "source": [
    "Men atribut `corner` yo referans menm objè a."
   ]
  },
  {
   "cell_type": "code",
   "execution_count": null,
   "id": "c3a5e13a",
   "metadata": {},
   "outputs": [],
   "source": [
    "box1.corner is box2.corner"
   ]
  },
  {
   "cell_type": "markdown",
   "id": "8915afbb",
   "metadata": {},
   "source": [
    "Dyagram ki anba a montre eta objè sa yo."
   ]
  },
  {
   "cell_type": "markdown",
   "id": "f2502958",
   "metadata": {},
   "source": [
    "Sa `copy` fè a rele **shallow copy** paske li kopye objè a men pa objè li genyen andedan.\n",
    "Kòm rezilta, chanje `width` oswa `height` youn `Rectangle` pa afekte lòt la, men chanje atribut `Point` la ki patage ap afekte toulede! \n",
    "Konpòtman sa a konfizyon epi bay erè fasil.\n",
    "\n",
    "Erezman, modil `copy` bay yon lòt fonksyon, `deepcopy`, ki kopye pa sèlman objè a men tou objè li refere a, epi objè sa yo refere a, elatriye.\n",
    "Operasyon sa a rele **deep copy**.\n",
    "\n",
    "Pou demontre, ann kòmanse ak yon nouvo `Rectangle` ki gen yon nouvo `Point`."
   ]
  },
  {
   "cell_type": "code",
   "execution_count": null,
   "id": "14275b7a",
   "metadata": {},
   "outputs": [],
   "source": [
    "corner = Point(20, 20)\n",
    "box3 = Rectangle(100, 50, corner)\n",
    "print(box3)"
   ]
  },
  {
   "cell_type": "markdown",
   "id": "4dd5bb5b",
   "metadata": {},
   "source": [
    "Epi nou pral fè yon deep copy."
   ]
  },
  {
   "cell_type": "code",
   "execution_count": null,
   "id": "e1d920ab",
   "metadata": {},
   "outputs": [],
   "source": [
    "from copy import deepcopy\n",
    "\n",
    "box4 = deepcopy(box3)"
   ]
  },
  {
   "cell_type": "markdown",
   "id": "dd2a1043",
   "metadata": {},
   "source": [
    "Nou ka konfime ke de objè `Rectangle` yo refere a de objè `Point` diferan."
   ]
  },
  {
   "cell_type": "code",
   "execution_count": null,
   "id": "63c6c06e",
   "metadata": {},
   "outputs": [],
   "source": [
    "box3.corner is box4.corner"
   ]
  },
  {
   "cell_type": "markdown",
   "id": "8e7ee3e2",
   "metadata": {},
   "source": [
    "Paske `box3` ak `box4` se objè konplètman separe, nou ka modifye youn san afekte lòt.\n",
    "Pou demontre, nou pral deplase `box3` epi grandi `box4`."
   ]
  },
  {
   "cell_type": "code",
   "execution_count": null,
   "id": "0723c5e7",
   "metadata": {},
   "outputs": [],
   "source": [
    "box3.translate(50, 30)\n",
    "box4.grow(100, 60)"
   ]
  },
  {
   "cell_type": "markdown",
   "id": "5c037b1e",
   "metadata": {},
   "source": [
    "Nou ka konfime efè a se jan nou atann."
   ]
  },
  {
   "cell_type": "code",
   "execution_count": null,
   "id": "fde92be8",
   "metadata": {},
   "outputs": [],
   "source": [
    "make_turtle()\n",
    "line1.draw()\n",
    "line2.draw()\n",
    "box3.draw()\n",
    "box4.draw()"
   ]
  },
  {
   "cell_type": "markdown",
   "id": "cf13bcbc",
   "metadata": {},
   "source": [
    "## Polimòfis\n",
    "\n",
    "Nan egzanp anvan an, nou te envoke metòd `draw` sou de objè `Line` ak de objè `Rectangle`.\n",
    "Nou ka fè menm bagay la pi kout lè nou fè yon lis objè."
   ]
  },
  {
   "cell_type": "code",
   "execution_count": null,
   "id": "25438d08",
   "metadata": {},
   "outputs": [],
   "source": [
    "shapes = [line1, line2, box3, box4]"
   ]
  },
  {
   "cell_type": "markdown",
   "id": "1e883760",
   "metadata": {},
   "source": [
    "Eleman lis sa a se tip diferan, men tout bay yon metòd `draw`, donk nou ka boukle sou lis la epi envoke `draw` sou chak elman."
   ]
  },
  {
   "cell_type": "code",
   "execution_count": null,
   "id": "dfda7462",
   "metadata": {},
   "outputs": [],
   "source": [
    "make_turtle()\n",
    "\n",
    "for shape in shapes:\n",
    "    shape.draw()"
   ]
  },
  {
   "cell_type": "markdown",
   "id": "ca564cd3",
   "metadata": {},
   "source": [
    "Premye ak dezyèm fwa bouk la pase, `shape` refere a yon objè `Line`, donk lè `draw` envoke, metòd ki kouri a se sa ki defini nan klas `Line` la.\n",
    "\n",
    "Twazyèm ak katriyèm fwa bouk la pase, `shape` refere a yon objè `Rectangle`, donk lè `draw` envoke, metòd ki kouri a se sa ki defini nan klas `Rectangle` la.\n",
    "\n",
    "Dèfason sa a, chak objè konnen kijan pou l desine tèt li.\n",
    "Karakteristik sa a rele **polimòfis**.\n",
    "Mo a soti nan rasin grèk ki vle di \"anpil fòm\".\n",
    "Nan pwogramasyon oryante-objè, polimòfis se kapasite pou diferan tip bay menm metòd, sa ki fè li posib pou fè anpil kalkil — tankou desinen fòm — lè nou envoke menm metòd sou diferan tip objè.\n",
    "\n",
    "Kòm egzèsis an final chapit sa a, ou pral defini yon nouvo klas ki reprezante yon sèk epi bay yon metòd `draw`.\n",
    "Apre sa ou ka itilize polimòfis pou desine liy, rektang, ak sèk."
   ]
  },
  {
   "cell_type": "markdown",
   "id": "16b3651c",
   "metadata": {},
   "source": [
    "## Débogaj\n",
    "\n",
    "Nan chapit sa a, nou rankontre yon erè subtìl ki rive paske nou te kreye yon `Point` ke de objè `Rectangle` te pataje, epi apre sa nou te modifye `Point` lan.\n",
    "An jeneral, gen de fason pou evite pwoblèm konsa: ou ka evite pataje objè oswa ou ka evite modifye yo.\n",
    "\n",
    "Pou evite pataje objè, ou ka itilize deep copy, jan nou te fè nan chapit sa a.\n",
    "\n",
    "Pou evite modifye objè, konsidere ranplase fonksyon enpi tankou `translate` pa fonksyon pi tankou `translated`.\n",
    "Pa egzanp, men yon vèsyon `translated` ki kreye yon nouvo `Point` epi pa janm modifye atribut li yo."
   ]
  },
  {
   "cell_type": "code",
   "execution_count": null,
   "id": "445ffaf6",
   "metadata": {},
   "outputs": [],
   "source": [
    "    def translated(self, dx=0, dy=0):\n",
    "        x = self.x + dx\n",
    "        y = self.y + dy\n",
    "        return Point(x, y)"
   ]
  },
  {
   "cell_type": "markdown",
   "id": "0149700b",
   "metadata": {},
   "source": [
    "Python bay karakteristik ki fè li pi fasil pou evite modifye objè.\n",
    "Yo depase kad liv sa a, men si ou curye, mande yon asistan vityèl, \"Kijan pou m fè yon objè Python imutab?\"\n",
    "\n",
    "Kreye yon nouvo objè pran plis tan pase modifye youn ki egziste deja, men diferans lan raman enpòtan.\n",
    "Pwogram ki evite pataje objè ak fonksyon enpi souvan pi fasil pou devlope, teste, ak débogaj — epi pi bon kalite débogaj la se sa ou pa oblije fè."
   ]
  },
  {
   "cell_type": "markdown",
   "id": "27d30669",
   "metadata": {},
   "source": [
    "## Glosè\n",
    "\n",
    "**shallow copy (kopi somè):**\n",
    "Yon operasyon kopi ki pa kopye objè ki anndan.\n",
    "\n",
    "**deep copy (kopi fon):**\n",
    "Yon operasyon kopi ki kopye tou objè ki anndan.\n",
    "\n",
    "**polimòfis (polymorphism):**\n",
    "Kapasite yon metòd oswa operatè pou mache ak plizyè tip objè."
   ]
  },
  {
   "cell_type": "markdown",
   "id": "68aed353",
   "metadata": {},
   "source": [
    "## Egzèsis"
   ]
  },
  {
   "cell_type": "code",
   "execution_count": null,
   "id": "10ae5c10",
   "metadata": {},
   "outputs": [],
   "source": [
    "# Liy sa a di Jupyter pou bay enfòmasyon detaye sou erè execisyon\n",
    "# lè erè rive. Kouri li anvan ou travay sou egzèsis yo.\n",
    "\n",
    "%xmode Verbose"
   ]
  },
  {
   "cell_type": "markdown",
   "id": "bc125b5b",
   "metadata": {},
   "source": [
    "### Mande yon asistan vityèl\n",
    "\n",
    "Pou tout egzèsis ki anba yo, konsidere mande yon asistan vityèl pou èd.\n",
    "Si ou fè sa, ou pral vle mete kòm pati prompt la definisyon klas `Point`, `Line`, ak `Rectangle` — sinon VA a pral devine sou atribut ak fonksyon yo, epi kod li pwodui a pa pral mache.\n",
    "\n",
    "### Egzèsis\n",
    "\n",
    "Ekri yon metòd `__eq__` pou klas `Line` ki retounen `True` si objè `Line` yo refere a objè `Point` ki ekivalan, kèlkeswa lòd la."
   ]
  },
  {
   "cell_type": "markdown",
   "id": "6d0c4fb9",
   "metadata": {},
   "source": [
    "Ou ka itilize estrikti fonksyon sa a pou kòmanse."
   ]
  },
  {
   "cell_type": "code",
   "execution_count": null,
   "id": "b076251b",
   "metadata": {
    "lines_to_next_cell": 1
   },
   "outputs": [],
   "source": [
    "%%add_method_to Line\n",
    "\n",
    "def __eq__(self, other):\n",
    "    return None"
   ]
  },
  {
   "cell_type": "markdown",
   "id": "af2f71d3",
   "metadata": {},
   "source": [
    "Ou ka itilize egzanp sa yo pou teste kod ou."
   ]
  },
  {
   "cell_type": "code",
   "execution_count": null,
   "id": "1b605720",
   "metadata": {},
   "outputs": [],
   "source": [
    "start1 = Point(0, 0)\n",
    "start2 = Point(0, 0)\n",
    "end = Point(200, 100)"
   ]
  },
  {
   "cell_type": "markdown",
   "id": "fc2d2ea9",
   "metadata": {},
   "source": [
    "Egzanp sa a ta dwe `True` paske objè `Line` yo refere a objè `Point` ki ekivalan, nan menm lòd."
   ]
  },
  {
   "cell_type": "code",
   "execution_count": null,
   "id": "a8b777f8",
   "metadata": {},
   "outputs": [],
   "source": [
    "line_a = Line(start1, end)\n",
    "line_b = Line(start2, end)\n",
    "line_a == line_b    # ta dwe True"
   ]
  },
  {
   "cell_type": "markdown",
   "id": "67270911",
   "metadata": {},
   "source": [
    "Egzanp sa a ta dwe `True` paske objè `Line` yo refere a objè `Point` ki ekivalan, an lòd inverce."
   ]
  },
  {
   "cell_type": "code",
   "execution_count": null,
   "id": "1c08cc98",
   "metadata": {},
   "outputs": [],
   "source": [
    "line_c = Line(end, start1)\n",
    "line_a == line_c     # ta dwe True"
   ]
  },
  {
   "cell_type": "markdown",
   "id": "ab68baad",
   "metadata": {},
   "source": [
    "Ekivalans ta dwe toujou transitif — sa vle di, si `line_a` ak `line_b` ekivalan, epi `line_a` ak `line_c` ekivalan, donk `line_b` ak `line_c` ta dwe tou ekivalan."
   ]
  },
  {
   "cell_type": "code",
   "execution_count": null,
   "id": "dd018a65",
   "metadata": {},
   "outputs": [],
   "source": [
    "line_b == line_c     # ta dwe True"
   ]
  },
  {
   "cell_type": "markdown",
   "id": "7621462b",
   "metadata": {},
   "source": [
    "Egzanp sa a ta dwe `False` paske objè `Line` yo refere a objè `Point` ki pa ekivalan."
   ]
  },
  {
   "cell_type": "code",
   "execution_count": null,
   "id": "f5df0e4b",
   "metadata": {},
   "outputs": [],
   "source": [
    "line_d = Line(start1, start2)\n",
    "line_a == line_d    # ta dwe False"
   ]
  },
  {
   "cell_type": "markdown",
   "id": "d773e439",
   "metadata": {},
   "source": [
    "### Egzèsis\n",
    "\n",
    "Ekri yon metòd `Line` ki rele `midpoint` ki kalkile mwayen segment liy lan epi retounen rezilta a kòm yon objè `Point`."
   ]
  },
  {
   "cell_type": "markdown",
   "id": "ea03ff1c",
   "metadata": {},
   "source": [
    "Ou ka itilize estrikti fonksyon sa a pou kòmanse."
   ]
  },
  {
   "cell_type": "code",
   "execution_count": null,
   "id": "4b2ff922",
   "metadata": {},
   "outputs": [],
   "source": [
    "%%add_method_to Line\n",
    "\n",
    "    def midpoint(self):\n",
    "        return Point(0, 0)"
   ]
  },
  {
   "cell_type": "markdown",
   "id": "bc11393c",
   "metadata": {},
   "source": [
    "Ou ka itilize egzanp sa yo pou teste kod ou epi desine rezilta a."
   ]
  },
  {
   "cell_type": "code",
   "execution_count": null,
   "id": "fc1683e6",
   "metadata": {},
   "outputs": [],
   "source": [
    "start = Point(0, 0)\n",
    "end1 = Point(300, 0)\n",
    "end2 = Point(0, 150)\n",
    "line1 = Line(start, end1)\n",
    "line2 = Line(start, end2)"
   ]
  },
  {
   "cell_type": "code",
   "execution_count": null,
   "id": "022e9d4c",
   "metadata": {},
   "outputs": [],
   "source": [
    "mid1 = line1.midpoint()\n",
    "print(mid1)"
   ]
  },
  {
   "cell_type": "code",
   "execution_count": null,
   "id": "f8ccf367",
   "metadata": {},
   "outputs": [],
   "source": [
    "mid2 = line2.midpoint()\n",
    "print(mid2)"
   ]
  },
  {
   "cell_type": "code",
   "execution_count": null,
   "id": "06325fa8",
   "metadata": {},
   "outputs": [],
   "source": [
    "line3 = Line(mid1, mid2)"
   ]
  },
  {
   "cell_type": "code",
   "execution_count": null,
   "id": "390b1df7",
   "metadata": {},
   "outputs": [],
   "source": [
    "make_turtle()\n",
    "\n",
    "for shape in [line1, line2, line3]:\n",
    "    shape.draw()"
   ]
  },
  {
   "cell_type": "markdown",
   "id": "5646de79",
   "metadata": {},
   "source": [
    "### Egzèsis\n",
    "\n",
    "Ekri yon metòd `Rectangle` ki rele `midpoint` ki jwenn pwen ki antre rektang lan epi retounen rezilta a kòm yon objè `Point`."
   ]
  },
  {
   "cell_type": "markdown",
   "id": "22bcb187",
   "metadata": {},
   "source": [
    "Ou ka itilize estrikti fonksyon sa a pou kòmanse."
   ]
  },
  {
   "cell_type": "code",
   "execution_count": null,
   "id": "5a8132ca",
   "metadata": {},
   "outputs": [],
   "source": [
    "%%add_method_to Rectangle\n",
    "\n",
    "    def midpoint(self):\n",
    "        return Point(0, 0)"
   ]
  },
  {
   "cell_type": "markdown",
   "id": "5c9682c8",
   "metadata": {},
   "source": [
    "Ou ka itilize egzanp sa a pou teste kod ou."
   ]
  },
  {
   "cell_type": "code",
   "execution_count": null,
   "id": "d7eaf61a",
   "metadata": {},
   "outputs": [],
   "source": [
    "corner = Point(30, 20)\n",
    "rectangle = Rectangle(100, 80, corner)"
   ]
  },
  {
   "cell_type": "code",
   "execution_count": null,
   "id": "9d325a7a",
   "metadata": {},
   "outputs": [],
   "source": [
    "mid = rectangle.midpoint()\n",
    "print(mid)"
   ]
  },
  {
   "cell_type": "code",
   "execution_count": null,
   "id": "e515de5c",
   "metadata": {},
   "outputs": [],
   "source": [
    "diagonal = Line(corner, mid)"
   ]
  },
  {
   "cell_type": "code",
   "execution_count": null,
   "id": "b7c060c9",
   "metadata": {},
   "outputs": [],
   "source": [
    "make_turtle()\n",
    "\n",
    "for shape in [line1, line2, rectangle, diagonal]:\n",
    "    shape.draw()"
   ]
  },
  {
   "cell_type": "markdown",
   "id": "7bbbd1a1",
   "metadata": {},
   "source": [
    "### Egzèsis\n",
    "\n",
    "Ekri yon metòd `Rectangle` ki rele `make_cross` ki:\n",
    "\n",
    "1. Itilize `make_lines` pou jwenn yon lis objè `Line` ki reprezante kat kote rektang lan.\n",
    "\n",
    "2. Kalkile midpoint kat liy yo.\n",
    "\n",
    "3. Fè epi retounen yon lis de objè `Line` ki reprezante liy ki konekte midpoint opoze, fòme yon kwa atravè mitan rektang lan."
   ]
  },
  {
   "cell_type": "markdown",
   "id": "308a9a5e",
   "metadata": {},
   "source": [
    "Ou ka itilize estrikti sa a pou kòmanse."
   ]
  },
  {
   "cell_type": "code",
   "execution_count": null,
   "id": "c460775e",
   "metadata": {},
   "outputs": [],
   "source": [
    "%%add_method_to Rectangle\n",
    "\n",
    "    def make_diagonals(self):\n",
    "        return []"
   ]
  },
  {
   "cell_type": "code",
   "execution_count": null,
   "id": "33d7f836",
   "metadata": {},
   "outputs": [],
   "source": [
    "%%add_method_to Rectangle\n",
    "\n",
    "    def make_cross(self):\n",
    "        midpoints = []\n",
    "\n",
    "        for line in self.make_lines():\n",
    "            midpoints.append(line.midpoint())\n",
    "\n",
    "        p1, p2, p3, p4 = midpoints\n",
    "        return Line(p1, p3), Line(p2, p4)"
   ]
  },
  {
   "cell_type": "markdown",
   "id": "97bac5a2",
   "metadata": {},
   "source": [
    "Ou ka itilize egzanp sa a pou teste kod ou."
   ]
  },
  {
   "cell_type": "code",
   "execution_count": null,
   "id": "4360b41b",
   "metadata": {},
   "outputs": [],
   "source": [
    "corner = Point(30, 20)\n",
    "rectangle = Rectangle(100, 80, corner)"
   ]
  },
  {
   "cell_type": "code",
   "execution_count": null,
   "id": "db925e0e",
   "metadata": {},
   "outputs": [],
   "source": [
    "lines = rectangle.make_cross()"
   ]
  },
  {
   "cell_type": "code",
   "execution_count": null,
   "id": "9a40845a",
   "metadata": {},
   "outputs": [],
   "source": [
    "make_turtle()\n",
    "\n",
    "rectangle.draw()\n",
    "for line in lines:\n",
    "    line.draw()"
   ]
  },
  {
   "cell_type": "markdown",
   "id": "c80de5d5",
   "metadata": {},
   "source": [
    "### Egzèsis\n",
    "\n",
    "Ekri yon definisyon pou yon klas ki rele `Circle` ak atribut `center` ak `radius`, kote `center` se yon objè Point epi `radius` se yon nimewo.\n",
    "Mete metòd espesyal `__init__` ak `__str__`, ak yon metòd ki rele `draw` ki itilize fonksyon `jupyturtle` pou desine sèk la."
   ]
  },
  {
   "cell_type": "markdown",
   "id": "f59caf76",
   "metadata": {},
   "source": [
    "Ou ka itilize fonksyon sa a, ki se yon vèsyon fonksyon `circle` nou te ekri nan Chapit 4."
   ]
  },
  {
   "cell_type": "code",
   "execution_count": null,
   "id": "503636ec",
   "metadata": {
    "lines_to_next_cell": 1
   },
   "outputs": [],
   "source": [
    "from jupyturtle import make_turtle, forward, left, right\n",
    "import math\n",
    "    \n",
    "def draw_circle(radius):\n",
    "    circumference = 2 * math.pi * radius\n",
    "    n = 30\n",
    "    length = circumference / n\n",
    "    angle = 360 / n\n",
    "    left(angle / 2)\n",
    "    for i in range(n):\n",
    "        forward(length)\n",
    "        left(angle)"
   ]
  },
  {
   "cell_type": "code",
   "execution_count": null,
   "id": "09465d02",
   "metadata": {},
   "outputs": [],
   "source": [
    "# Solisyon an antre la"
   ]
  },
  {
   "cell_type": "markdown",
   "id": "9186493a",
   "metadata": {},
   "source": [
    "Ou ka itilize egzanp sa a pou teste kod ou.\n",
    "Nou pral kòmanse ak yon `Rectangle` kare ki gen width ak height `100`."
   ]
  },
  {
   "cell_type": "code",
   "execution_count": null,
   "id": "c1fd9388",
   "metadata": {},
   "outputs": [],
   "source": [
    "corner = Point(20, 20)\n",
    "rectangle = Rectangle(100, 100, corner)"
   ]
  },
  {
   "cell_type": "markdown",
   "id": "f264b1ea",
   "metadata": {},
   "source": [
    "Kod sa a ta dwe kreye yon `Circle` ki antre andedan kare a."
   ]
  },
  {
   "cell_type": "code",
   "execution_count": null,
   "id": "f77584fb",
   "metadata": {},
   "outputs": [],
   "source": [
    "center = rectangle.midpoint()\n",
    "radius = rectangle.height / 2\n",
    "\n",
    "circle = Circle(center, radius)\n",
    "print(circle)"
   ]
  },
  {
   "cell_type": "markdown",
   "id": "b17a63e8",
   "metadata": {},
   "source": [
    "Si tout bagay mache kòrèkteman, kod sa a ta dwe desine sèk la andedan kare a (touche sou kat kote yo)."
   ]
  },
  {
   "cell_type": "code",
   "execution_count": null,
   "id": "8728506c",
   "metadata": {},
   "outputs": [],
   "source": [
    "make_turtle(delay=0.01)\n",
    "\n",
    "rectangle.draw()\n",
    "circle.draw()"
   ]
  },
  {
   "cell_type": "code",
   "execution_count": null,
   "id": "5c79601e",
   "metadata": {},
   "outputs": [],
   "source": []
  }
 ],
 "metadata": {
  "jupytext": {
   "cell_metadata_filter": "-all",
   "main_language": "python",
   "notebook_metadata_filter": "-all"
  },
  "language_info": {
   "name": "python"
  }
 },
 "nbformat": 4,
 "nbformat_minor": 5
}
