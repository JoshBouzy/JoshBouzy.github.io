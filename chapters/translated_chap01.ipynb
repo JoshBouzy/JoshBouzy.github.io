{
 "cells": [
  {
   "cell_type": "markdown",
   "id": "1331faa1",
   "metadata": {},
   "source": [
    "Ou ka kòmande vèsyon enprime ak ebook nan * Think Python 3e * sou\n",
    "[Bookshop.org](https://bookshop.org/a/98697/9781098155438) ak\n",
    "[Amazon](https://www.amazon.com/_/dp/1098155432?smid=ATVPDKIKX0DER&_encoding=UTF8&tag=oreilly20-20&_encoding=UTF8&tag=greenteapre01-20&linkCode=ur2&linkId=e2a529f94920295d27ec8a06e757dc7c&camp=1789&creative=9325)."
   ]
  },
  {
   "cell_type": "markdown",
   "id": "64cf6137",
   "metadata": {},
   "source": [
    "\n",
    "\n",
    "**Translated to Kreyol:**\n"
   ]
  },
  {
   "cell_type": "markdown",
   "id": "a14edb7e",
   "metadata": {
    "tags": []
   },
   "source": [
    "# Byenveni\n",
    "\n",
    "Sa a se kaye Jupyter la pou Chapit 1 nan [*Panse Python, 3yèm edisyon](https://greenteapress.com/wp/think-python-3rd-edition), pa Allen B. Downey.\n",
    "\n",
    "Si ou pa abitye avèk Kaye Jipyter,\n",
    "[klike isit la pou yon entwodiksyon kout] (https://colab.research.google.com/github/AllenDowney/ThinkPython/blob/v3/chapters/jupyter_intro.ipynb).\n",
    "\n",
    "Apre sa, si ou pa deja ap kouri kaye sa a sou Colab, [klike isit la pou kouri kaye sa a sou Colab](https://colab.research.google.com/github/AllenDowney/ThinkPython/blob/v3/chapters/chap01.ipynb)."
   ]
  },
  {
   "cell_type": "markdown",
   "id": "3b4a1f57",
   "metadata": {
    "tags": []
   },
   "source": [
    "The following cell downloads a file and runs some code that is used specifically for this book.\n",
    "You don't have to understand this code yet, but you should run it before you do anything else in this notebook.\n",
    "Remember that you can run the code by selecting the cell and pressing the play button (a triangle in a circle) or hold down `Shift` and press `Enter`.\n",
    "\n",
    "**Translated to Kreyol:**\n",
    "Selil sa a telechaje yon dosye epi kouri kèk kòd ki espesyalman itilize pou liv sa a.\n",
    "Ou pa bezwen konprann kòd sa a kounye a, men ou ta dwe kouri li anvan ou fè nenpòt lòt bagay nan kaye sa a.\n",
    "Sonje byen ke ou ka kouri kòd la pa chwazi selil la epi peze bouton jwe a (yon triyang nan yon sèk) oswa kenbe 'Chanjman' ak peze 'Antre'."
   ]
  },
  {
   "cell_type": "code",
   "execution_count": 1,
   "id": "213f9d96",
   "metadata": {
    "tags": []
   },
   "outputs": [],
   "source": [
    "from os.path import basename, exists\n",
    "\n",
    "def download(url):\n",
    "    filename = basename(url)\n",
    "    if not exists(filename):\n",
    "        from urllib.request import urlretrieve\n",
    "\n",
    "        local, _ = urlretrieve(url, filename)\n",
    "        print(\"Downloaded \" + str(local))\n",
    "    return filename\n",
    "\n",
    "download('https://github.com/AllenDowney/ThinkPython/raw/v3/thinkpython.py');\n",
    "\n",
    "import thinkpython"
   ]
  },
  {
   "cell_type": "markdown",
   "id": "333a6fc9",
   "metadata": {
    "tags": []
   },
   "source": [
    "# Programming as a way of thinking\n",
    "\n",
    "The first goal of this book is to teach you how to program in Python.\n",
    "But learning to program means learning a new way to think, so the second goal of this book is to help you think like a computer scientist.\n",
    "This way of thinking combines some of the best features of mathematics, engineering, and natural science.\n",
    "Like mathematicians, computer scientists use formal languages to denote ideas -- specifically computations.\n",
    "Like engineers, they design things, assembling components into systems and evaluating trade-offs among alternatives.\n",
    "Like scientists, they observe the behavior of complex systems, form hypotheses, and test predictions.\n",
    "\n",
    "We will start with the most basic elements of programming and work our way up.\n",
    "In this chapter, we'll see how Python represents numbers, letters, and words.\n",
    "And you'll learn to perform arithmetic operations.\n",
    "\n",
    "You will also start to learn the vocabulary of programming, including terms like operator, expression, value, and type.\n",
    "This vocabulary is important -- you will need it to understand the rest of the book, to communicate with other programmers, and to use and understand virtual assistants.\n",
    "\n",
    "**Translated to Kreyol:**\n",
    "# Pwogramasyon kòm yon mwayen pou panse\n",
    "\n",
    "Premye objektif liv sa a se pou anseye w kijan pou pwograme nan Python.\n",
    "Men, aprann pwograme vle di aprann yon nouvo fason pou panse; dezyèm objektif liv sa a se ede w panse tankou yon syantis òdinatè.\n",
    "Fason panse sa a konbine kèk nan pi bon karakteristik matematik, jeni, ak syans natirèl.\n",
    "Tankou matematisyen, syantis òdinatè yo itilize langaj fòmèl pou reprezante lide -- sitou kalkil.\n",
    "Tankou enjenyè, yo konsevwa bagay, rasanble eleman pou fè sistèm epi evalye konpwomi ant opsyon yo.\n",
    "Tankou syantis, yo obsève konpòtman sistèm konplèks, fòme ipotèz epi teste prediksyon.\n",
    "\n",
    "Nou pral kòmanse ak eleman ki pi fondamantal nan pwogramasyon epi travay chemen nou monte.\n",
    "Nan chapit sa a, n ap wè kijan Python reprezante nimewo, lèt, ak mo.\n",
    "Epi ou pral aprann fè operasyon aritmetik.\n",
    "\n",
    "W ap kòmanse tou aprann vokabilè pwogramasyon an, ki gen ladan tèm tankou operatè, ekspresyon, valè, ak kalite.\n",
    "Vokabilè sa a enpòtan - w ap bezwen li pou konprann rès liv la, pou kominike ak lòt pwogramè, epi pou itilize ak konprann asistan vityèl yo."
   ]
  },
  {
   "cell_type": "markdown",
   "id": "a371aea3",
   "metadata": {},
   "source": [
    "## Operatè Aritmetik\n",
    "\n",
    "Yon **operatè aritmetik** se yon senbòl ki reprezante yon konpitasyon aritmetik. Pou egzanp, siy plis la, `+`, fè adisyon.\n",
    "\n",
    "**Translated to Kreyol:**\n",
    "## Operatè Aritmetik\n",
    "\n",
    "Yon **operatè aritmetik** se yon senbòl ki reprezante yon konpitasyon aritmetik. Pou egzanp, siy plis la, `+`, fè adisyon."
   ]
  },
  {
   "cell_type": "code",
   "execution_count": 2,
   "id": "2568ec84",
   "metadata": {},
   "outputs": [],
   "source": [
    "30 + 12"
   ]
  },
  {
   "cell_type": "markdown",
   "id": "fc0e7ce8",
   "metadata": {},
   "source": [
    "Siy mwens la, `-`, se operatè a ki fè soustraksyon.\n",
    "\n",
    "**Translated to Kreyol:**\n",
    "Siy mwens la, `-`, se operatè a ki fè soustraksyon."
   ]
  },
  {
   "cell_type": "code",
   "execution_count": 3,
   "id": "c4e75456",
   "metadata": {},
   "outputs": [],
   "source": [
    "43 - 1"
   ]
  },
  {
   "cell_type": "markdown",
   "id": "63e4e780",
   "metadata": {},
   "source": [
    "Asterisk la, `*`, fè miltiplikasyon.\n",
    "\n",
    "**Translated to Kreyol:**\n",
    "Asterisk la, `*`, fè miltiplikasyon."
   ]
  },
  {
   "cell_type": "code",
   "execution_count": 4,
   "id": "022a7b16",
   "metadata": {},
   "outputs": [],
   "source": [
    "6 * 7"
   ]
  },
  {
   "cell_type": "markdown",
   "id": "a6192d13",
   "metadata": {},
   "source": [
    "Ak koupe devan an, `/`, fè divizyon:\n",
    "\n",
    "**Translated to Kreyol:**\n",
    "Ak koupe devan an, `/`, fè divizyon:"
   ]
  },
  {
   "cell_type": "code",
   "execution_count": 5,
   "id": "05ae1098",
   "metadata": {},
   "outputs": [],
   "source": [
    "84 / 2"
   ]
  },
  {
   "cell_type": "markdown",
   "id": "641ad233",
   "metadata": {},
   "source": [
    "Remake rezilta divizyon an se `42.0` olye ke `42`. Se paske gen de kalite nimewo nan Python:\n",
    "* **nonm antye**, ki reprezante nonm antye yo, epi \n",
    "\n",
    "* **nimewo k ap flote**, ki reprezante nimewo ki gen yon pwen desimal.\n",
    "\n",
    "Si w ajoute, soustraksyon oswa miltipliye de nonm antye, rezilta a se yon nonm antye. Men, si ou divize de nonm antye, rezilta a se yon nonm k ap flote. Python bay yon lòt operatè, `//`, ki fè **divizyon nonb antye relatif**. Rezilta divizyon nonb antye se toujou yon nonb antye.\n",
    "\n",
    "**Translated to Kreyol:**\n",
    "Remake rezilta divizyon an se `42.0` olye ke `42`. Se paske gen de kalite nimewo nan Python:\n",
    "* **nonm antye**, ki reprezante nonm antye yo, epi \n",
    "\n",
    "* **nimewo k ap flote**, ki reprezante nimewo ki gen yon pwen desimal.\n",
    "\n",
    "Si w ajoute, soustraksyon oswa miltipliye de nonm antye, rezilta a se yon nonm antye. Men, si ou divize de nonm antye, rezilta a se yon nonm k ap flote. Python bay yon lòt operatè, `//`, ki fè **divizyon nonb antye relatif**. Rezilta divizyon nonb antye se toujou yon nonb antye."
   ]
  },
  {
   "cell_type": "code",
   "execution_count": 6,
   "id": "4df5bcaa",
   "metadata": {},
   "outputs": [],
   "source": [
    "84 // 2"
   ]
  },
  {
   "cell_type": "markdown",
   "id": "b2a620ab",
   "metadata": {},
   "source": [
    "Divizyon nonb antye yo rele tou \"divizyon etaj\" paske li toujou awondi desann (nan direksyon \"etaj la\").\n",
    "\n",
    "**Translated to Kreyol:**\n",
    "Divizyon nonb antye yo rele tou \"divizyon etaj\" paske li toujou awondi desann (nan direksyon \"etaj la\")."
   ]
  },
  {
   "cell_type": "code",
   "execution_count": 7,
   "id": "ef08d549",
   "metadata": {},
   "outputs": [],
   "source": [
    "85 // 2"
   ]
  },
  {
   "cell_type": "markdown",
   "id": "41e2886a",
   "metadata": {},
   "source": [
    "Finalman, operatè a `**` fè eksponentiasyon; sa vle di, li ogmante yon nimewo nan yon pouvwa:\n",
    "\n",
    "**Translated to Kreyol:**\n",
    "Finalman, operatè a `**` fè eksponentiasyon; sa vle di, li ogmante yon nimewo nan yon pouvwa:"
   ]
  },
  {
   "cell_type": "code",
   "execution_count": 8,
   "id": "df933e80",
   "metadata": {},
   "outputs": [],
   "source": [
    "7 ** 2"
   ]
  },
  {
   "cell_type": "markdown",
   "id": "b2502fb6",
   "metadata": {},
   "source": [
    "Nan kèk lòt lang, yo itilize caret, `^`, pou eksponentiasyon, men nan Python se yon operatè bitwise ki rele XOR. \n",
    "Si ou pa abitye ak operatè bitwise, rezilta a ta ka inatandi:\n",
    "\n",
    "**Translated to Kreyol:**\n",
    "Nan kèk lòt lang, yo itilize caret, `^`, pou eksponentiasyon, men nan Python se yon operatè bitwise ki rele XOR. \n",
    "Si ou pa abitye ak operatè bitwise, rezilta a ta ka inatandi:"
   ]
  },
  {
   "cell_type": "code",
   "execution_count": 9,
   "id": "306b6b88",
   "metadata": {},
   "outputs": [],
   "source": [
    "7 ^ 2"
   ]
  },
  {
   "cell_type": "markdown",
   "id": "30078370",
   "metadata": {},
   "source": [
    "Mwen pa pral kouvri operatè bitwise nan liv sa a, men ou ka li sou yo nan http://wiki.python.org/moin/BitwiseOperators.\n",
    "\n",
    "**Translated to Kreyol:**\n",
    "Mwen pa pral kouvri operatè bitwise nan liv sa a, men ou ka li sou yo nan http://wiki.python.org/moin/BitwiseOperators."
   ]
  },
  {
   "cell_type": "markdown",
   "id": "0f5b7e97",
   "metadata": {},
   "source": [
    "## Expressions\n",
    "\n",
    "A collection of operators and numbers is called an **expression**.\n",
    "An expression can contain any number of operators and numbers.\n",
    "For example, here's an expression that contains two operators.\n",
    "\n",
    "**Translated to Kreyol:**\n",
    "## Ekspresyon\n",
    "\n",
    "Yon koleksyon operatè ak nimewo yo rele yon * **.\n",
    "Yon ekspresyon ka gen nenpòt ki kantite operatè ak nimewo.\n",
    "Pou egzanp, isit la nan yon ekspresyon ki gen de operatè."
   ]
  },
  {
   "cell_type": "code",
   "execution_count": 10,
   "id": "6e68101d",
   "metadata": {},
   "outputs": [],
   "source": [
    "6 + 6 ** 2"
   ]
  },
  {
   "cell_type": "markdown",
   "id": "8e95039c",
   "metadata": {},
   "source": [
    "Notice that exponentiation happens before addition.\n",
    "Python follows the order of operations you might have learned in a math class: exponentiation happens before multiplication and division, which happen before addition and subtraction.\n",
    "\n",
    "In the following example, multiplication happens before addition.\n",
    "\n",
    "**Translated to Kreyol:**\n",
    "Remake ke eksponansyasyon rive anvan adisyon.\n",
    "Python swiv lòd operasyon ou ta ka aprann nan yon klas matematik: eksponansyasyon rive anvan miltiplikasyon ak divizyon, ki rive anvan adisyon ak soustraksyon.\n",
    "\n",
    "Nan egzanp sa a, miltiplikasyon rive anvan adisyon."
   ]
  },
  {
   "cell_type": "code",
   "execution_count": 11,
   "id": "ffc25598",
   "metadata": {},
   "outputs": [],
   "source": [
    "12 + 5 * 6"
   ]
  },
  {
   "cell_type": "markdown",
   "id": "914a60d8",
   "metadata": {},
   "source": [
    "If you want the addition to happen first, you can use parentheses.\n",
    "\n",
    "**Translated to Kreyol:**\n",
    "Si ou vle adisyon a rive an premye, ou ka itilize parantèz yo."
   ]
  },
  {
   "cell_type": "code",
   "execution_count": 12,
   "id": "8dd1bd9a",
   "metadata": {},
   "outputs": [],
   "source": [
    "(12 + 5) * 6"
   ]
  },
  {
   "cell_type": "markdown",
   "id": "67ae0ae9",
   "metadata": {},
   "source": [
    "Every expression has a **value**.\n",
    "For example, the expression `6 * 7` has the value `42`.\n",
    "\n",
    "**Translated to Kreyol:**\n",
    "Chak ekspresyon gen yon ****\n",
    "Pou egzanp, ekspresyon an '6 * 7' gen valè a '42'."
   ]
  },
  {
   "cell_type": "markdown",
   "id": "caebaa51",
   "metadata": {},
   "source": [
    "## Arithmetic functions\n",
    "\n",
    "In addition to the arithmetic operators, Python provides a few **functions** that work with numbers.\n",
    "For example, the `round` function takes a floating-point number and rounds it off to the nearest whole number.\n",
    "\n",
    "**Translated to Kreyol:**\n",
    "## Arithmetic fonksyon\n",
    "\n",
    "Anplis de operatè yo aritmetik, Python bay kèk ***fonksyon *** ki travay ak nimewo.\n",
    "Pou egzanp, fonksyon an 'wonn' pran yon nimewo k ap flote-pwen ak wonn li koupe nan nimewo antye relatif ki pi pre a."
   ]
  },
  {
   "cell_type": "code",
   "execution_count": 13,
   "id": "1e3d5e01",
   "metadata": {},
   "outputs": [],
   "source": [
    "round(42.4)"
   ]
  },
  {
   "cell_type": "code",
   "execution_count": 14,
   "id": "d1b220b9",
   "metadata": {},
   "outputs": [],
   "source": [
    "round(42.6)"
   ]
  },
  {
   "cell_type": "markdown",
   "id": "f5738b4b",
   "metadata": {},
   "source": [
    "The `abs` function computes the absolute value of a number.\n",
    "For a positive number, the absolute value is the number itself.\n",
    "\n",
    "**Translated to Kreyol:**\n",
    "Fonksyon 'absoli a konpile valè absoli nan yon nimewo.\n",
    "Pou yon nimewo pozitif, valè absoli a se nimewo a tèt li."
   ]
  },
  {
   "cell_type": "code",
   "execution_count": 15,
   "id": "ff742476",
   "metadata": {},
   "outputs": [],
   "source": [
    "abs(42)"
   ]
  },
  {
   "cell_type": "markdown",
   "id": "e518494a",
   "metadata": {},
   "source": [
    "For a negative number, the absolute value is positive.\n",
    "\n",
    "**Translated to Kreyol:**\n",
    "Pou yon nimewo negatif, valè absoli a pozitif."
   ]
  },
  {
   "cell_type": "code",
   "execution_count": 16,
   "id": "9247c1a3",
   "metadata": {},
   "outputs": [],
   "source": [
    "abs(-42)"
   ]
  },
  {
   "cell_type": "markdown",
   "id": "6969ce45",
   "metadata": {},
   "source": [
    "When we use a function like this, we say we're **calling** the function.\n",
    "An expression that calls a function is a **function call**.\n",
    "\n",
    "When you call a function, the parentheses are required.\n",
    "If you leave them out, you get an error message.\n",
    "\n",
    "**Translated to Kreyol:**\n",
    "Lè nou itilize yon fonksyon tankou sa a, nou di nou ap ** fonksyon an.\n",
    "Yon ekspresyon ki rele yon fonksyon se yon **fonksyon rele **.\n",
    "\n",
    "Lè ou rele yon fonksyon, parantèz yo obligatwa.\n",
    "Si ou kite yo soti, ou jwenn yon mesaj erè."
   ]
  },
  {
   "cell_type": "markdown",
   "id": "5a73bfd5",
   "metadata": {
    "tags": []
   },
   "source": [
    "NOTE: The following cell uses `%%expect`, which is a Jupyter \"magic command\" that means we expect the code in this cell to produce an error. For more on this topic, see the\n",
    "[Jupyter notebook introduction](https://colab.research.google.com/github/AllenDowney/ThinkPython/blob/v3/chapters/jupyter_intro.ipynb).\n",
    "\n",
    "**Translated to Kreyol:**\n",
    "NÒT: Selil sa a itilize '%espere', ki se yon Jipyter \"lòd majik\" ki vle di nou espere kòd la nan selil sa a yo pwodwi yon erè. Pou plis sou sijè sa a, gade\n",
    "[Kaye entwodiksyon] (https://colab.research.google.com/github/AllenDowney/ThinkPython/blob/v3/chapters/jupyter_intro.ipynb)."
   ]
  },
  {
   "cell_type": "code",
   "execution_count": 17,
   "id": "4674b7ca",
   "metadata": {
    "tags": []
   },
   "outputs": [],
   "source": [
    "%%expect SyntaxError\n",
    "\n",
    "abs 42"
   ]
  },
  {
   "cell_type": "markdown",
   "id": "7d356f1b",
   "metadata": {},
   "source": [
    "You can ignore the first line of this message; it doesn't contain any information we need to understand right now.\n",
    "The second line is the code that contains the error, with a caret (`^`) beneath it to indicate where the error was discovered.\n",
    "\n",
    "The last line indicates that this is a **syntax error**, which means that there is something wrong with the structure of the expression.\n",
    "In this example, the problem is that a function call requires parentheses.\n",
    "\n",
    "Let's see what happens if you leave out the parentheses *and* the value.\n",
    "\n",
    "**Translated to Kreyol:**\n",
    "Ou ka inyore premye liy mesaj sa a; li pa gen okenn enfòmasyon nou bezwen konprann kounye a.\n",
    "Liy nan dezyèm se kòd la ki gen erè a, ak yon swen ('^') anba li endike ki kote erè a te dekouvri.\n",
    "\n",
    "Liy ki sot pase a endike ke sa a se yon * * sentaks erè **, ki vle di ke gen yon bagay mal ak estrikti a nan ekspresyon an.\n",
    "Nan egzanp sa a, pwoblèm nan se ke yon apèl fonksyon mande pou parantèz yo.\n",
    "\n",
    "Ann wè sa k ap pase si ou kite parantèz yo * ak * valè a."
   ]
  },
  {
   "cell_type": "code",
   "execution_count": 18,
   "id": "7d3e8127",
   "metadata": {},
   "outputs": [],
   "source": [
    "abs"
   ]
  },
  {
   "cell_type": "markdown",
   "id": "94478885",
   "metadata": {},
   "source": [
    "A function name all by itself is a legal expression that has a value.\n",
    "When it's displayed, the value indicates that `abs` is a function, and it includes some additional information I'll explain later.\n",
    "\n",
    "**Translated to Kreyol:**\n",
    "Yon non fonksyon tout pou kont li se yon ekspresyon legal ki gen yon valè.\n",
    "Lè li parèt, valè a endike ke 'abs' se yon fonksyon, epi li gen ladan kèk enfòmasyon adisyonèl mwen pral eksplike pita."
   ]
  },
  {
   "cell_type": "markdown",
   "id": "31a85d17",
   "metadata": {},
   "source": [
    "## Strings\n",
    "\n",
    "In addition to numbers, Python can also represent sequences of letters, which are called **strings** because the letters are strung together like beads on a necklace.\n",
    "To write a string, we can put a sequence of letters inside straight quotation marks.\n",
    "\n",
    "**Translated to Kreyol:**\n",
    "## Strings\n",
    "\n",
    "Anplis de nimewo, Python kapab tou reprezante sekans nan lèt, ki yo rele **strings ** paske lèt yo ap lite ansanm tankou pèl sou yon kolye.\n",
    "Pou ekri yon kòd, nou ka mete yon sekans de lèt andedan mak sitasyon dwat."
   ]
  },
  {
   "cell_type": "code",
   "execution_count": 19,
   "id": "bd8ae45f",
   "metadata": {},
   "outputs": [],
   "source": [
    "'Hello'"
   ]
  },
  {
   "cell_type": "markdown",
   "id": "d20050d8",
   "metadata": {},
   "source": [
    "It is also legal to use double quotation marks.\n",
    "\n",
    "**Translated to Kreyol:**\n",
    "Li legal tou pou itilize mak sitasyon doub."
   ]
  },
  {
   "cell_type": "code",
   "execution_count": 20,
   "id": "01d0055e",
   "metadata": {},
   "outputs": [],
   "source": [
    "\"world\""
   ]
  },
  {
   "cell_type": "markdown",
   "id": "76f5edb7",
   "metadata": {},
   "source": [
    "Double quotes make it easy to write a string that contains an apostrophe, which is the same symbol as a straight quote.\n",
    "\n",
    "**Translated to Kreyol:**\n",
    "Doub quotes fè li fasil pou ekri yon fisèl ki gen yon apòt, ki se menm senbòl la kòm yon quote dwat."
   ]
  },
  {
   "cell_type": "code",
   "execution_count": 21,
   "id": "0295acab",
   "metadata": {},
   "outputs": [],
   "source": [
    "\"it's a small \""
   ]
  },
  {
   "cell_type": "markdown",
   "id": "d62d4b1c",
   "metadata": {},
   "source": [
    "Strings can also contain spaces, punctuation, and digits.\n",
    "\n",
    "**Translated to Kreyol:**\n",
    "Strings kapab tou gen espas, ponktiyasyon, ak chif."
   ]
  },
  {
   "cell_type": "code",
   "execution_count": 22,
   "id": "cf918917",
   "metadata": {},
   "outputs": [],
   "source": [
    "'Well, '"
   ]
  },
  {
   "cell_type": "markdown",
   "id": "9ad47f7a",
   "metadata": {},
   "source": [
    "The `+` operator works with strings; it joins two strings into a single string, which is called **concatenation**\n",
    "\n",
    "**Translated to Kreyol:**\n",
    "Operatè a '+' ap travay ak strings; li rantre nan de fisèl nan yon kòd sèl, ki rele ***concatenation **"
   ]
  },
  {
   "cell_type": "code",
   "execution_count": 23,
   "id": "aefe6af1",
   "metadata": {},
   "outputs": [],
   "source": [
    "'Well, ' + \"it's a small \" + 'world.'"
   ]
  },
  {
   "cell_type": "markdown",
   "id": "0ad969a3",
   "metadata": {},
   "source": [
    "The `*` operator also works with strings; it makes multiple copies of a string and concatenates them.\n",
    "\n",
    "**Translated to Kreyol:**\n",
    "Operatè a '*' travay tou ak strings; li fè plizyè kopi yon kòd ak konsantre yo."
   ]
  },
  {
   "cell_type": "code",
   "execution_count": 24,
   "id": "42e9e4e2",
   "metadata": {},
   "outputs": [],
   "source": [
    "'Spam, ' * 4"
   ]
  },
  {
   "cell_type": "markdown",
   "id": "dfba16a5",
   "metadata": {},
   "source": [
    "The other arithmetic operators don't work with strings.\n",
    "\n",
    "Python provides a function called `len` that computes the length of a string.\n",
    "\n",
    "**Translated to Kreyol:**\n",
    "Lòt operatè aritmetik yo pa travay avèk strings.\n",
    "\n",
    "Python bay yon fonksyon yo rele 'lantiy' ki kalkile longè yon kòd.'"
   ]
  },
  {
   "cell_type": "code",
   "execution_count": 25,
   "id": "a5e837db",
   "metadata": {},
   "outputs": [],
   "source": [
    "len('Spam')"
   ]
  },
  {
   "cell_type": "markdown",
   "id": "d91e00b3",
   "metadata": {},
   "source": [
    "Notice that `len` counts the letters between the quotes, but not the quotes.\n",
    "\n",
    "When you create a string, be sure to use straight quotes.\n",
    "The back quote, also known as a backtick, causes a syntax error.\n",
    "\n",
    "**Translated to Kreyol:**\n",
    "Remake ke 'lantiy' konte lèt yo ant quotes yo, men se pa quotes yo.\n",
    "\n",
    "Lè ou kreye yon fisèl, asire w ke ou sèvi ak quotes dwat.\n",
    "Quote a dèyè, ke yo rele tou yon do, lakòz yon erè sentaks."
   ]
  },
  {
   "cell_type": "code",
   "execution_count": 26,
   "id": "e3f65f19",
   "metadata": {
    "tags": []
   },
   "outputs": [],
   "source": [
    "%%expect SyntaxError\n",
    "\n",
    "`Hello`"
   ]
  },
  {
   "cell_type": "markdown",
   "id": "40d893d1",
   "metadata": {},
   "source": [
    "Smart quotes, also known as curly quotes, are also illegal.\n",
    "\n",
    "**Translated to Kreyol:**\n",
    "Quotes entelijan, ke yo rele tou quotes Curly, yo tou ilegal."
   ]
  },
  {
   "cell_type": "code",
   "execution_count": 27,
   "id": "a705b980",
   "metadata": {
    "tags": []
   },
   "outputs": [],
   "source": [
    "%%expect SyntaxError\n",
    "\n",
    "‘Hello’"
   ]
  },
  {
   "cell_type": "markdown",
   "id": "5471d4f8",
   "metadata": {},
   "source": [
    "## Values and types\n",
    "\n",
    "So far we've seen three kinds of values:\n",
    "\n",
    "* `2` is an integer,\n",
    "\n",
    "* `42.0` is a floating-point number, and \n",
    "\n",
    "* `'Hello'` is a string.\n",
    "\n",
    "A kind of value is called a **type**.\n",
    "Every value has a type -- or we sometimes say it \"belongs to\" a type.\n",
    "\n",
    "Python provides a function called `type` that tells you the type of any value.\n",
    "The type of an integer is `int`.\n",
    "\n",
    "**Translated to Kreyol:**\n",
    "## Valè ak kalite\n",
    "\n",
    "Se konsa, lwen nou te wè twa kalite valè:\n",
    "\n",
    "* '2' se yon nonb, rele ' 2' se yon nonm.\n",
    "\n",
    "* '42.0' se yon nimewo k ap flote-pwen, ak \n",
    "\n",
    "*Bonjou\" se yon kòd.\n",
    "\n",
    "Yon kalite valè yo rele yon * kalite ***.\n",
    "Chak valè gen yon kalite - oswa nou pafwa di li \"fè pati\" yon kalite.\n",
    "\n",
    "Python bay yon fonksyon ki rele 'kalite' ki di ou ki kalite nenpòt valè.\n",
    "Kalite yon nonb antye se 'int'."
   ]
  },
  {
   "cell_type": "code",
   "execution_count": 28,
   "id": "3df8e2c5",
   "metadata": {},
   "outputs": [],
   "source": [
    "type(2)"
   ]
  },
  {
   "cell_type": "markdown",
   "id": "b137814c",
   "metadata": {},
   "source": [
    "The type of a floating-point number is `float`.\n",
    "\n",
    "**Translated to Kreyol:**\n",
    "Kalite yon nimewo k ap flote-pwen se 'flote'."
   ]
  },
  {
   "cell_type": "code",
   "execution_count": 29,
   "id": "c4732c8d",
   "metadata": {},
   "outputs": [],
   "source": [
    "type(42.0)"
   ]
  },
  {
   "cell_type": "markdown",
   "id": "266dea4e",
   "metadata": {},
   "source": [
    "And the type of a string is `str`.\n",
    "\n",
    "**Translated to Kreyol:**\n",
    "Ak ki kalite yon fisèl se 'str'."
   ]
  },
  {
   "cell_type": "code",
   "execution_count": 30,
   "id": "8f65ac45",
   "metadata": {},
   "outputs": [],
   "source": [
    "type('Hello, World!')"
   ]
  },
  {
   "cell_type": "markdown",
   "id": "76d216ed",
   "metadata": {},
   "source": [
    "The types `int`, `float`, and `str` can be used as functions.\n",
    "For example, `int` can take a floating-point number and convert it to an integer (always rounding down).\n",
    "\n",
    "**Translated to Kreyol:**\n",
    "Kalite 'int', 'flote', ak 'str' ka itilize kòm fonksyon.\n",
    "Pou egzanp, 'int' ka pran yon nimewo k ap flote-pwen ak konvèti li nan yon nonb (toujou wonn desann)."
   ]
  },
  {
   "cell_type": "code",
   "execution_count": 31,
   "id": "84b22f2f",
   "metadata": {},
   "outputs": [],
   "source": [
    "int(42.9)"
   ]
  },
  {
   "cell_type": "markdown",
   "id": "dcd8d114",
   "metadata": {},
   "source": [
    "And `float` can convert an integer to a floating-point value.\n",
    "\n",
    "**Translated to Kreyol:**\n",
    "Ak 'flote' ka konvèti yon nonb nan yon valè k ap flote-pwen."
   ]
  },
  {
   "cell_type": "code",
   "execution_count": 32,
   "id": "9b66ee21",
   "metadata": {},
   "outputs": [],
   "source": [
    "float(42)"
   ]
  },
  {
   "cell_type": "markdown",
   "id": "eda70b61",
   "metadata": {},
   "source": [
    "Now, here's something that can be confusing.\n",
    "What do you get if you put a sequence of digits in quotes?\n",
    "\n",
    "**Translated to Kreyol:**\n",
    "Koulye a, isit la nan yon bagay ki ka konfizyon.\n",
    "Kisa ou jwenn si ou mete yon sekans de chif nan quotes?"
   ]
  },
  {
   "cell_type": "code",
   "execution_count": 33,
   "id": "f64e107c",
   "metadata": {},
   "outputs": [],
   "source": [
    "'126'"
   ]
  },
  {
   "cell_type": "markdown",
   "id": "fdded653",
   "metadata": {},
   "source": [
    "It looks like a number, but it is actually a string.\n",
    "\n",
    "**Translated to Kreyol:**\n",
    "Li sanble tankou yon nimewo, men li se aktyèlman yon fisèl."
   ]
  },
  {
   "cell_type": "code",
   "execution_count": 34,
   "id": "609a8153",
   "metadata": {},
   "outputs": [],
   "source": [
    "type('126')"
   ]
  },
  {
   "cell_type": "markdown",
   "id": "2683ac35",
   "metadata": {},
   "source": [
    "If you try to use it like a number, you might get an error.\n",
    "\n",
    "**Translated to Kreyol:**\n",
    "Si ou eseye sèvi ak li tankou yon nimewo, ou ta ka jwenn yon erè."
   ]
  },
  {
   "cell_type": "code",
   "execution_count": 35,
   "id": "1cf21da4",
   "metadata": {
    "tags": []
   },
   "outputs": [],
   "source": [
    "%%expect TypeError\n",
    "\n",
    "'126' / 3"
   ]
  },
  {
   "cell_type": "markdown",
   "id": "32c11cc4",
   "metadata": {},
   "source": [
    "This example generates a `TypeError`, which means that the values in the expression, which are called **operands**, have the wrong type.\n",
    "The error message indicates that the `/` operator does not support the types of these values, which are `str` and `int`.\n",
    "\n",
    "If you have a string that contains digits, you can use `int` to convert it to an integer.\n",
    "\n",
    "**Translated to Kreyol:**\n",
    "Egzanp sa a jenere yon 'TypeError', ki vle di ke valè yo nan ekspresyon an, ki yo rele **operands **, gen kalite a mal.\n",
    "Mesaj la erè endike ke '/' operatè a pa sipòte kalite valè sa yo, ki se 'str' ak 'int'.\n",
    "\n",
    "Si ou gen yon fisèl ki gen chif, ou ka itilize 'int' konvèti li nan yon nonb antye."
   ]
  },
  {
   "cell_type": "code",
   "execution_count": 36,
   "id": "d45e6a60",
   "metadata": {},
   "outputs": [],
   "source": [
    "int('126') / 3"
   ]
  },
  {
   "cell_type": "markdown",
   "id": "86935d56",
   "metadata": {},
   "source": [
    "If you have a string that contains digits and a decimal point, you can use `float` to convert it to a floating-point number.\n",
    "\n",
    "**Translated to Kreyol:**\n",
    "Si ou gen yon fisèl ki gen chif ak yon pwen desimal, ou ka itilize 'flote' konvèti li nan yon nimewo k ap flote-pwen."
   ]
  },
  {
   "cell_type": "code",
   "execution_count": 37,
   "id": "db30b719",
   "metadata": {},
   "outputs": [],
   "source": [
    "float('12.6')"
   ]
  },
  {
   "cell_type": "markdown",
   "id": "03103ef4",
   "metadata": {},
   "source": [
    "When you write a large integer, you might be tempted to use commas\n",
    "between groups of digits, as in `1,000,000`.\n",
    "This is a legal expression in Python, but the result is not an integer.\n",
    "\n",
    "**Translated to Kreyol:**\n",
    "Lè ou ekri yon gwo nonb antye, ou ka tante pou itilize koma\n",
    "ant gwoup chif yo, tankou nan '1,000,000'.\n",
    "Sa a se yon ekspresyon legal nan Python, men rezilta a se pa yon nonb antye."
   ]
  },
  {
   "cell_type": "code",
   "execution_count": 38,
   "id": "d72b6af1",
   "metadata": {},
   "outputs": [],
   "source": [
    "1,000,000"
   ]
  },
  {
   "cell_type": "markdown",
   "id": "3d24af71",
   "metadata": {},
   "source": [
    "Python interprets `1,000,000` as a comma-separated sequence of integers.\n",
    "We'll learn more about this kind of sequence later.\n",
    "\n",
    "You can use underscores to make large numbers easier to read.\n",
    "\n",
    "**Translated to Kreyol:**\n",
    "Python entèprete '1,000,000' kòm yon sekans koma-separe nan nonm antye.\n",
    "Nou pral aprann plis sou sa a kalite sekans pita.\n",
    "\n",
    "Ou ka itilize souliye pou fè gwo kantite pi fasil pou li."
   ]
  },
  {
   "cell_type": "code",
   "execution_count": 39,
   "id": "e19bf7e7",
   "metadata": {},
   "outputs": [],
   "source": [
    "1_000_000"
   ]
  },
  {
   "cell_type": "markdown",
   "id": "1761cbac",
   "metadata": {},
   "source": [
    "## Formal and natural languages\n",
    "\n",
    "**Natural languages** are the languages people speak, like English, Spanish, and French. They were not designed by people; they evolved naturally.\n",
    "\n",
    "**Formal languages** are languages that are designed by people for specific applications. \n",
    "For example, the notation that mathematicians use is a formal language that is particularly good at denoting relationships among numbers and symbols.\n",
    "Similarly, programming languages are formal languages that have been designed to express computations.\n",
    "\n",
    "**Translated to Kreyol:**\n",
    "## Fòmèl ak lang natirèl\n",
    "\n",
    "**Lang natirèl ** se lang moun pale, tankou angle, panyòl, ak franse. Yo pa t' fèt ak moun; yo te evolye natirèlman.\n",
    "\n",
    "**Lang Fòmèl** se lang moun ki fèt pa moun pou aplikasyon pou espesifik. \n",
    "Pa egzanp, notasyon ke matematisyen itilize se yon langaj fòmèl ki se patikilyèman bon nan endike relasyon nan mitan nimewo ak senbòl.\n",
    "Menm jan an tou, lang pwogramasyon yo se lang fòmèl ki fèt pou eksprime kalkil yo."
   ]
  },
  {
   "cell_type": "markdown",
   "id": "1bf3d2dc",
   "metadata": {},
   "source": [
    "Although formal and natural languages have some features in\n",
    "common there are important differences:\n",
    "\n",
    "* Ambiguity: Natural languages are full of ambiguity, which people deal with by\n",
    "    using contextual clues and other information. Formal languages are\n",
    "    designed to be nearly or completely unambiguous, which means that\n",
    "    any program has exactly one meaning, regardless of context.\n",
    "\n",
    "* Redundancy: In order to make up for ambiguity and reduce misunderstandings,\n",
    "    natural languages use redundancy. As a result, they are\n",
    "    often verbose. Formal languages are less redundant and more concise.\n",
    "\n",
    "* Literalness: Natural languages are full of idiom and metaphor. Formal languages mean exactly what they say.\n",
    "\n",
    "**Translated to Kreyol:**\n",
    "Malgre ke langaj fòmèl ak natirèl gen kèk karakteristik nan\n",
    "komen gen diferans enpòtan:\n",
    "\n",
    "* Anbiskad: Lang natirèl yo chaje ak anbisyon, ki moun ki fè fas ak\n",
    "    lè l sèvi avèk ide kontèks ak lòt enfòmasyon. Langaj fòmèl yo se\n",
    "    ki fèt yo dwe prèske oswa konplètman enkoni, ki vle di sa\n",
    "    nenpòt pwogram gen egzakteman yon siyifikasyon, kèlkeswa kontèks.\n",
    "\n",
    "* Redondans: Yon lòt bagay pou w ka fè anbiskou e pou nou redui enkonpreyansyon,\n",
    "    lang natirèl yo itilize redondans. Kòm rezilta, yo se\n",
    "    souvan vèb. Langaj fòmèl yo mwens redondants ak plis kout.\n",
    "\n",
    "* Literalite: Lang natirèl yo chaje ak idyòm ak metafò. Langaj fòmèl vle di egzakteman sa yo di."
   ]
  },
  {
   "cell_type": "markdown",
   "id": "78a1cec8",
   "metadata": {},
   "source": [
    "Because we all grow up speaking natural languages, it is sometimes hard to adjust to formal languages.\n",
    "Formal languages are more dense than natural languages, so it takes longer to read them.\n",
    "Also, the structure is important, so it is not always best to read from top to bottom, left to right.\n",
    "Finally, the details matter. Small errors in spelling and\n",
    "punctuation, which you can get away with in natural languages, can make\n",
    "a big difference in a formal language.\n",
    "\n",
    "**Translated to Kreyol:**\n",
    "Piske nou tout grandi pale lang natirèl, pafwa nou difisil pou nou adapte nou ak langaj fòmèl yo.\n",
    "Langaj fòmèl yo pi dans pase lang natirèl, kidonk li pran plis tan pou li yo.\n",
    "Epitou, estrikti a enpòtan, kidonk li pa toujou pi bon li soti nan tèt anba, kite adwat.\n",
    "Finalman, detay yo gen pwoblèm. Ti erè nan òtograf ak\n",
    "ponktiyasyon, ki ou ka jwenn lwen ak nan lang natirèl, ka fè\n",
    "yon gwo diferans nan yon langaj fòmèl."
   ]
  },
  {
   "cell_type": "markdown",
   "id": "4358fa9a",
   "metadata": {},
   "source": [
    "## Debugging\n",
    "\n",
    "Programmers make mistakes. For whimsical reasons, programming errors are called **bugs** and the process of tracking them down is called **debugging**.\n",
    "\n",
    "Programming, and especially debugging, sometimes brings out strong emotions. If you are struggling with a difficult bug, you might feel angry, sad, or embarrassed.\n",
    "\n",
    "Preparing for these reactions might help you deal with them. One approach is to think of the computer as an employee with certain strengths, like speed and precision, and particular weaknesses, like lack of empathy and inability to grasp the big picture.\n",
    "\n",
    "Your job is to be a good manager: find ways to take advantage of the strengths and mitigate the weaknesses. And find ways to use your emotions to engage with the problem, without letting your reactions interfere with your ability to work effectively.\n",
    "\n",
    "Learning to debug can be frustrating, but it is a valuable skill that is useful for many activities beyond programming. At the end of each chapter there is a section, like this one, with my suggestions for debugging. I hope they help!\n",
    "\n",
    "**Translated to Kreyol:**\n",
    "## Debugging\n",
    "\n",
    "Pwogramè yo fè erè. Pou rezon kach, erè pwogramasyon yo rele *** ak pwosesis la nan swiv yo desann yo rele **debogging **.\n",
    "\n",
    "Pwogramasyon, ak espesyalman debogaj, pafwa pote soti nan emosyon fò. Si w ap lite ak yon ensèk difisil, ou ka santi w fache, tris, tris oswa w santi w jennen.\n",
    "\n",
    "Lè w prepare reyaksyon sa yo, sa ka ede w fè fas ak yo. Yon apwòch se panse a òdinatè a kòm yon anplwaye ki gen sèten fòs, tankou vitès ak presizyon, ak feblès patikilye, tankou mank de senpati ak enkapasite yo atrab foto a gwo.\n",
    "\n",
    "Travay ou se yo dwe yon bon manadjè: jwenn fason yo pran avantaj de fòs yo ak bese feblès yo. Epi jwenn fason yo sèvi ak emosyon ou angaje ak pwoblèm nan, san yo pa kite reyaksyon ou entèfere ak kapasite ou nan travay efektivman.\n",
    "\n",
    "Aprann debug ka fwistre, men li se yon konpetans ki gen anpil valè ki itil pou anpil aktivite pi lwen pase pwogramasyon. Nan fen chak chapit gen yon seksyon, tankou yon sèl sa a, ak sijesyon mwen pou debogaj. Mwen espere ke yo ede!"
   ]
  },
  {
   "cell_type": "markdown",
   "id": "33b8ad00",
   "metadata": {},
   "source": [
    "## Glossary\n",
    "\n",
    "**arithmetic operator:**\n",
    "A symbol, like `+` and `*`, that denotes an arithmetic operation like addition or multiplication.\n",
    "\n",
    "**integer:**\n",
    "A type that represents whole numbers.\n",
    "\n",
    "**floating-point:**\n",
    "A type that represents numbers with fractional parts.\n",
    "\n",
    "**integer division:**\n",
    "An operator, `//`, that divides two numbers and rounds down to an integer.\n",
    "\n",
    "**expression:**\n",
    "A combination of variables, values, and operators.\n",
    "\n",
    "**value:**\n",
    "An integer, floating-point number, or string -- or one of other kinds of values we will see later.\n",
    "\n",
    "**function:**\n",
    "A named sequence of statements that performs some useful operation.\n",
    "Functions may or may not take arguments and may or may not produce a result.\n",
    "\n",
    "**function call:**\n",
    "An expression -- or part of an expression -- that runs a function.\n",
    "It consists of the function name followed by an argument list in parentheses.\n",
    "\n",
    "**syntax error:**\n",
    "An error in a program that makes it impossible to parse -- and therefore impossible to run.\n",
    "\n",
    "**string:**\n",
    " A type that represents sequences of characters.\n",
    "\n",
    "**concatenation:**\n",
    "Joining two strings end-to-end.\n",
    "\n",
    "**type:**\n",
    "A category of values.\n",
    "The types we have seen so far are integers (type `int`), floating-point numbers (type ` float`), and strings (type `str`).\n",
    "\n",
    "**operand:**\n",
    "One of the values on which an operator operates.\n",
    "\n",
    "**natural language:**\n",
    "Any of the languages that people speak that evolved naturally.\n",
    "\n",
    "**formal language:**\n",
    "Any of the languages that people have designed for specific purposes, such as representing mathematical ideas or computer programs.\n",
    "All programming languages are formal languages.\n",
    "\n",
    "**bug:**\n",
    "An error in a program.\n",
    "\n",
    "**debugging:**\n",
    "The process of finding and correcting errors.\n",
    "\n",
    "**Translated to Kreyol:**\n",
    "## Glossary\n",
    "\n",
    "**arithmetic operatè:**\n",
    "Yon senbòl, tankou '+' ak '*', ki endike yon operasyon aritmetik tankou adisyon oswa miltiplikasyon.\n",
    "\n",
    "**integer:**\n",
    "Yon kalite ki reprezante nimewo antye relatif.\n",
    "\n",
    "***Nimewo a pwen flotan:**\n",
    "Yon kalite ki reprezante nimewo ki gen pati fraksyonè.\n",
    "\n",
    "**integer divizyon:**\n",
    "Yon operatè, '/', ki divize de nimewo ak jij desann nan yon nonb antye.\n",
    "\n",
    "**Espresyon:**\n",
    "Yon konbinezon varyab, valè, ak operatè.\n",
    "\n",
    "**Valè:**\n",
    "Yon nonb antye, nimewo k ap flote, oswa fisèl - oswa youn nan lòt kalite valè nou pral wè pita.\n",
    "\n",
    "**Fonksyon:**\n",
    "Yon sekans non deklarasyon ki fè kèk operasyon itil.\n",
    "Fonksyon yo ka oswa yo pa ka pran agiman epi yo ka oswa yo ka pa pwodwi yon rezilta.\n",
    "\n",
    "***fonksyon rele:**\n",
    "Yon ekspresyon - oswa yon pati nan yon ekspresyon - ki kouri yon fonksyon.\n",
    "Li konsiste de non fonksyon ki te swiv pa yon lis diskisyon nan parantèz yo.\n",
    "\n",
    "**syntax error:**\n",
    "Yon erè nan yon pwogram ki fè li enposib parse - ak Se poutèt sa enposib kouri.\n",
    "\n",
    "****\n",
    " Yon kalite ki reprezante sekans karaktè.\n",
    "\n",
    "**concatenation:**\n",
    "Rantre nan de fisèl fen-a-fen.\n",
    "\n",
    "**Tip:**\n",
    "Yon kategori nan valè.\n",
    "Kalite nou te wè byen lwen tèlman yo se nonm antye (kalite 'int'), nimewo k ap flote --pwen (kalite ' flote'), ak strings (kalite 'str').\n",
    "\n",
    "**operand:**\n",
    "Youn nan valè yo sou ki yon operatè opere.\n",
    "\n",
    "****lang natirèl:**\n",
    "Nenpòt nan lang moun pale ki evolye natirèlman.\n",
    "\n",
    "***langaj fòmèl:**\n",
    "Nenpòt nan lang moun yo fèt pou rezon byen presi, tankou reprezante lide matematik oswa pwogram òdinatè.\n",
    "Tout lang pwogramasyon se langaj fòmèl.\n",
    "\n",
    "**bug:**\n",
    "Yon erè nan yon pwogram.\n",
    "\n",
    "**debugging:**\n",
    "Pwosesis la nan jwenn ak korije erè."
   ]
  },
  {
   "cell_type": "markdown",
   "id": "ed4ec01b",
   "metadata": {},
   "source": [
    "## Exercises\n",
    "\n",
    "**Translated to Kreyol:**\n",
    "## Egzèsis"
   ]
  },
  {
   "cell_type": "code",
   "execution_count": 40,
   "id": "06d3e72c",
   "metadata": {
    "tags": []
   },
   "outputs": [],
   "source": [
    "# This cell tells Jupyter to provide detailed debugging information\n",
    "# when a runtime error occurs. Run it before working on the exercises.\n",
    "\n",
    "%xmode Verbose"
   ]
  },
  {
   "cell_type": "markdown",
   "id": "23adf208",
   "metadata": {},
   "source": [
    "### Ask a virtual assistant\n",
    "\n",
    "As you work through this book, there are several ways you can use a virtual assistant or chatbot to help you learn.\n",
    "\n",
    "* If you want to learn more about a topic in the chapter, or anything is unclear, you can ask for an explanation.\n",
    "\n",
    "* If you are having a hard time with any of the exercises, you can ask for help.\n",
    "\n",
    "In each chapter, I'll suggest exercises you can do with a virtual assistant, but I encourage you to try things on your own and see what works for you.\n",
    "\n",
    "**Translated to Kreyol:**\n",
    "### Ask yon asistan vityèl\n",
    "\n",
    "Kòm ou travay nan liv sa a, gen plizyè fason ou ka itilize yon asistan vityèl oswa chatbot ede ou aprann.\n",
    "\n",
    "* Si w vle aprann plis bagay sou yon sijè nan chapit la, oubyen nenpòt bagay ki pa klè, ou ka mande w yon esplikasyon.\n",
    "\n",
    "Si w gen yon moman difisil ak nenpòt nan egzèsis yo, ou ka mande w èd.\n",
    "\n",
    "Nan chak chapit, mwen pral sijere egzèsis ou ka fè ak yon asistan vityèl, men mwen ankouraje ou eseye bagay sa yo sou pwòp ou yo ak wè sa ki ap travay pou ou."
   ]
  },
  {
   "cell_type": "markdown",
   "id": "ebf1a451",
   "metadata": {},
   "source": [
    "Here are some topics you could ask a virtual assistant about:\n",
    "\n",
    "* Earlier I mentioned bitwise operators but I didn't explain why the value of `7 ^ 2` is 5. Try asking \"What are the bitwise operators in Python?\" or \"What is the value of `7 XOR 2`?\"\n",
    "\n",
    "* I also mentioned the order of operations. For more details, ask \"What is the order of operations in Python?\"\n",
    "\n",
    "* The `round` function, which we used to round a floating-point number to the nearest whole number, can take a second argument. Try asking \"What are the arguments of the round function?\" or \"How do I round pi off to three decimal places?\"\n",
    "\n",
    "* There's one more arithmetic operator I didn't mention; try asking \"What is the modulus operator in Python?\"\n",
    "\n",
    "**Translated to Kreyol:**\n",
    "Men kèk sijè ou ta ka mande yon asistan vityèl sou:\n",
    "\n",
    "* Pi bonè mwen mansyone operatè bitwise men mwen pa t 'eksplike poukisa valè a nan '7 ^ 2' se 5. Eseye mande \"Ki sa ki operatè yo ti jan nan Python?\" oswa \"Ki valè a nan '7 XOR 2'?\"\n",
    "\n",
    "Anplis de sa, mwen te pale de lòd operasyon yo. Pou plis detay, mande \"Ki lòd la nan operasyon nan Python?\"\n",
    "\n",
    "* Fonksyon 'wonn' la, ki nou itilize yo wonn yon nimewo k ap flote nan nimewo ki pi pre a, ka pran yon dezyèm agiman. Eseye mande \"Ki agiman yo nan fonksyon an wonn?\" oswa \"Kouman pou mwen wonn nan twa kote desimal?\"\n",
    "\n",
    "* Gen yon sèl operatè plis aritmetik mwen pa t 'mansyone; eseye mande \"Ki sa ki operatè a modilè nan Python?\""
   ]
  },
  {
   "cell_type": "markdown",
   "id": "9be3e1c7",
   "metadata": {},
   "source": [
    "Most virtual assistants know about Python, so they answer questions like this pretty reliably.\n",
    "But remember that these tools make mistakes.\n",
    "If you get code from a chatbot, test it!\n",
    "\n",
    "**Translated to Kreyol:**\n",
    "Pifò asistan vityèl konnen sou Python, se konsa yo reponn kesyon tankou sa a trè seryezman.\n",
    "Men, sonje ke zouti sa yo fè erè.\n",
    "Si ou jwenn kòd nan yon chatbot, tès li!"
   ]
  },
  {
   "cell_type": "markdown",
   "id": "03c1ef93",
   "metadata": {},
   "source": [
    "### Exercise\n",
    "\n",
    "You might wonder what `round` does if a number ends in `0.5`.\n",
    "The answer is that it sometimes rounds up and sometimes rounds down.\n",
    "Try these examples and see if you can figure out what rule it follows.\n",
    "\n",
    "**Translated to Kreyol:**\n",
    "### Exercise\n",
    "\n",
    "Ou ta ka mande ki sa 'wonn' fè si yon nimewo fini nan '0.5'.\n",
    "Repons lan se ke li pafwa jij moute epi pafwa jij desann.\n",
    "Eseye egzanp sa yo epi wè si ou ka konnen ki règ li swiv."
   ]
  },
  {
   "cell_type": "code",
   "execution_count": 41,
   "id": "5d358f37",
   "metadata": {},
   "outputs": [],
   "source": [
    "round(42.5)"
   ]
  },
  {
   "cell_type": "code",
   "execution_count": 42,
   "id": "12aa59a3",
   "metadata": {},
   "outputs": [],
   "source": [
    "round(43.5)"
   ]
  },
  {
   "cell_type": "markdown",
   "id": "dd2f890e",
   "metadata": {},
   "source": [
    "If you are curious, ask a virtual assistant, \"If a number ends in 0.5, does Python round up or down?\"\n",
    "\n",
    "**Translated to Kreyol:**\n",
    "Si ou kirye, mande yon asistan vityèl, \"Si yon nimewo fini nan 0.5, èske Python wonn oswa desann?\""
   ]
  },
  {
   "cell_type": "markdown",
   "id": "2cd03bcb",
   "metadata": {},
   "source": [
    "### Exercise\n",
    "\n",
    "When you learn about a new feature, you should try it out and make mistakes on purpose.\n",
    "That way, you learn the error messages, and when you see them again, you will know what they mean.\n",
    "It is better to make mistakes now and deliberately than later and accidentally.\n",
    "\n",
    "1.  You can use a minus sign to make a negative number like `-2`. What happens if you put a plus sign before a number? What about `2++2`?\n",
    "\n",
    "2.  What happens if you have two values with no operator between them, like `4 2`?\n",
    "\n",
    "3.  If you call a function like `round(42.5)`, what happens if you leave out one or both parentheses?\n",
    "\n",
    "**Translated to Kreyol:**\n",
    "### Exercise\n",
    "\n",
    "Lè ou aprann sou yon nouvo karakteristik, ou ta dwe eseye li soti epi fè erè sou objektif.\n",
    "Nan fason sa a, ou aprann mesaj yo erè, ak lè ou wè yo ankò, ou pral konnen ki sa yo vle di.\n",
    "Li pi bon fè erè kounye a epi fè espre pase pita ak aksri.\n",
    "\n",
    "1. Ou ka itilize yon siy moins pou fè yon nimewo negatif tankou '-2'. Kisa k ap pase si ou mete yon siy plis anvan yon nimewo? Ki sa ki sou '2 ++2'?\n",
    "\n",
    "2. Kisa k ap pase si ou gen de valè ki pa gen okenn operatè ant yo, tankou '4 2'?\n",
    "\n",
    "3. Si ou rele yon fonksyon tankou 'wonn(42.5), kisa k ap pase si ou kite soti youn oswa tou de parantèz?"
   ]
  },
  {
   "cell_type": "markdown",
   "id": "1fb0adfe",
   "metadata": {},
   "source": [
    "### Exercise\n",
    "\n",
    "Recall that every expression has a value, every value has a type, and we can use the `type` function to find the type of any value.\n",
    "\n",
    "What is the type of the value of the following expressions? Make your best guess for each one, and then use `type` to find out.\n",
    "\n",
    "* `765`\n",
    "\n",
    "* `2.718`\n",
    "\n",
    "* `'2 pi'`\n",
    "\n",
    "* `abs(-7)`\n",
    "\n",
    "* `abs(-7.0)`\n",
    "\n",
    "* `abs`\n",
    "\n",
    "* `int`\n",
    "\n",
    "* `type`\n",
    "\n",
    "**Translated to Kreyol:**\n",
    "### Exercise\n",
    "\n",
    "Sonje ke chak ekspresyon gen yon valè, chak valè gen yon kalite, epi nou ka itilize fonksyon an 'kalite' jwenn ki kalite valè.\n",
    "\n",
    "Ki kalite valè ekspresyon sa yo? Fè pi bon devine ou pou chak youn, ak Lè sa a, sèvi ak 'kalite' yo chèche konnen.\n",
    "\n",
    "* '765'\n",
    "\n",
    "* '2.718'\n",
    "\n",
    "* 2 pi\"\n",
    "\n",
    "* 'abs(-7)'\n",
    "\n",
    "* 'abs(-7.0)'\n",
    "\n",
    "* 'abs'\n",
    "\n",
    "* 'int'\n",
    "\n",
    "* 'kalite'"
   ]
  },
  {
   "cell_type": "markdown",
   "id": "23762eec",
   "metadata": {},
   "source": [
    "### Exercise\n",
    "\n",
    "The following questions give you a chance to practice writing arithmetic expressions.\n",
    "\n",
    "1.  How many seconds are there in 42 minutes 42 seconds?\n",
    "\n",
    "2.  How many miles are there in 10 kilometers? Hint: there are 1.61 kilometers in a mile.\n",
    "\n",
    "3.  If you run a 10 kilometer race in 42 minutes 42 seconds, what is your average pace in seconds per mile? \n",
    "    \n",
    "4.  What is your average pace in minutes and seconds per mile?\n",
    "\n",
    "5.  What is your average speed in miles per hour?\n",
    "\n",
    "If you already know about variables, you can use them for this exercise.\n",
    "If you don't, you can do the exercise without them -- and then we'll see them in the next chapter.\n",
    "\n",
    "**Translated to Kreyol:**\n",
    "### Exercise\n",
    "\n",
    "Kesyon sa yo ba ou yon chans pou pratike ekspresyon aritmetik.\n",
    "\n",
    "1. Konbyen segonn ki genyen nan 42 minit 42 segonn?\n",
    "\n",
    "2. Konbyen kilomèt ki genyen nan 10 kilomèt? Hint: gen 1.61 kilomèt nan yon kilomèt.\n",
    "\n",
    "3. Si ou kouri yon ras 10 kilomèt nan 42 minit 42 segonn, ki vitès mwayèn ou nan segonn pa kilomèt? \n",
    "    \n",
    "4. Ki vitès mwayèn ou nan minit ak segonn pa kilomèt?\n",
    "\n",
    "5. Ki vitès mwayèn ou nan kilomèt pa èdtan?\n",
    "\n",
    "Si ou deja konnen sou varyab, ou ka itilize yo pou egzèsis sa a.\n",
    "Si ou pa fè sa, ou ka fè egzèsis la san yo pa yo - Et Lè sa a, nou pral wè yo nan pwochen chapit la."
   ]
  },
  {
   "cell_type": "code",
   "execution_count": 43,
   "id": "8fb50f30",
   "metadata": {},
   "outputs": [],
   "source": [
    "# Solution goes here"
   ]
  },
  {
   "cell_type": "code",
   "execution_count": 44,
   "id": "5eceb4fb",
   "metadata": {},
   "outputs": [],
   "source": [
    "# Solution goes here"
   ]
  },
  {
   "cell_type": "code",
   "execution_count": 45,
   "id": "fee97d8d",
   "metadata": {},
   "outputs": [],
   "source": [
    "# Solution goes here"
   ]
  },
  {
   "cell_type": "code",
   "execution_count": 46,
   "id": "a998258c",
   "metadata": {},
   "outputs": [],
   "source": [
    "# Solution goes here"
   ]
  },
  {
   "cell_type": "code",
   "execution_count": 47,
   "id": "2e0fc7a9",
   "metadata": {},
   "outputs": [],
   "source": [
    "# Solution goes here"
   ]
  },
  {
   "cell_type": "code",
   "execution_count": 48,
   "id": "d25268d8",
   "metadata": {},
   "outputs": [],
   "source": [
    "# Solution goes here"
   ]
  },
  {
   "cell_type": "code",
   "execution_count": 49,
   "id": "523d9b0f",
   "metadata": {},
   "outputs": [],
   "source": [
    "# Solution goes here"
   ]
  },
  {
   "cell_type": "code",
   "execution_count": null,
   "id": "ca083ccf",
   "metadata": {},
   "outputs": [],
   "source": []
  }
 ],
 "metadata": {
  "celltoolbar": "Tags",
  "kernelspec": {
   "display_name": "Python 3 (ipykernel)",
   "language": "python",
   "name": "python3"
  },
  "language_info": {
   "codemirror_mode": {
    "name": "ipython",
    "version": 3
   },
   "file_extension": ".py",
   "mimetype": "text/x-python",
   "name": "python",
   "nbconvert_exporter": "python",
   "pygments_lexer": "ipython3",
   "version": "3.10.11"
  }
 },
 "nbformat": 4,
 "nbformat_minor": 5
}
