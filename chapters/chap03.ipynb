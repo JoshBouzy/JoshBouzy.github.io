{
 "cells": [
  {
   "cell_type": "markdown",
   "id": "bbaf0c77",
   "metadata": {},
   "source": [
    "Ou ka kòmande vèsyon enprime ak vèsyon ebook *Think Python 3e* soti\n",
    "[Bookshop.org](https://bookshop.org/a/98697/9781098155438) ak\n",
    "[Amazon](https://www.amazon.com/_/dp/1098155432?smid=ATVPDKIKX0DER&_encoding=UTF8&tag=oreilly20-20&_encoding=UTF8&tag=greenteapre01-20&linkCode=ur2&linkId=e2a529f94920295d27ec8a06e757dc7c&camp=1789&creative=9325)."
   ]
  },
  {
   "cell_type": "code",
   "execution_count": 1,
   "id": "6eac8758",
   "metadata": {
    "lines_to_next_cell": 1
   },
   "outputs": [
    {
     "name": "stdout",
     "output_type": "stream",
     "text": [
      "Telechaje diagram.py\n"
     ]
    }
   ],
   "source": [
    "from os.path import basename, exists\n",
    "\n",
    "def download(url):\n",
    "    filename = basename(url)\n",
    "    if not exists(filename):\n",
    "        from urllib.request import urlretrieve\n",
    "\n",
    "        local, _ = urlretrieve(url, filename)\n",
    "        print(\"Telechaje \" + str(local))\n",
    "    return filename\n",
    "\n",
    "download('https://github.com/AllenDowney/ThinkPython/raw/v3/thinkpython.py');\n",
    "download('https://github.com/AllenDowney/ThinkPython/raw/v3/diagram.py');\n",
    "\n",
    "import thinkpython"
   ]
  },
  {
   "cell_type": "markdown",
   "id": "dbc5fcd8",
   "metadata": {},
   "source": [
    "# Fonksyon\n",
    "\n",
    "Nan chapit anvan yo nou te itilize plizyè fonksyon Python bay, tankou `int` ak `float`, epi kèk fonksyon modil `math` bay, tankou `sqrt` ak `pow`.\n",
    "Nan chapit sa a, ou pral aprann kijan pou kreye pwòp fonksyon pa ou epi egzekite yo.\n",
    "Epi n ap wè kijan yon fonksyon ka rele yon lòt.\n",
    "Kòm egzanp, n ap montre lirik ki soti nan mizik Monty Python.\n",
    "Egzanp sa yo, malgre yo komik, montre yon karakteristik enpòtan -- kapasite pou ekri pwòp fonksyon pa ou se baz pwogramasyon.\n",
    "\n",
    "Chapit sa a tou ap prezante yon nouvo deklarasyon, `for` loop la, ki itilize pou repete yon kalkil plizyè fwa."
   ]
  },
  {
   "cell_type": "markdown",
   "id": "33e81f27",
   "metadata": {},
   "source": [
    "## Defini nouvo fonksyon\n",
    "\n",
    "Yon **definisyon fonksyon** espesifye non yon nouvo fonksyon ak sekans enstriksyon ki egzekite lè fonksyon an rele. Men yon egzanp:"
   ]
  },
  {
   "cell_type": "code",
   "execution_count": 2,
   "id": "5ddf08f3",
   "metadata": {
    "lines_to_next_cell": 1
   },
   "outputs": [],
   "source": [
    "def print_lyrics():\n",
    "    print(\"Mwen se yon lumberjack, epi mwen byen.\")\n",
    "    print(\"Mwen dòmi tout lannwit epi mwen travay tout jounen.\")"
   ]
  },
  {
   "cell_type": "markdown",
   "id": "ab30a27d",
   "metadata": {},
   "source": [
    "`def` se yon mo kle ki endike ke sa a se yon definisyon fonksyon.\n",
    "Non fonksyon an se `print_lyrics`.\n",
    "Nenpòt bagay ki se yon non varyab legal se tou yon non fonksyon legal.\n",
    "\n",
    "Parantèz vid yo apre non fonksyon an endike ke fonksyon sa a pa pran okenn agiman.\n",
    "\n",
    "Premye liy definisyon fonksyon an rele **header** -- tout rès yo rele **body**.\n",
    "Header la dwe fini ak yon kolon, epi body a dwe endente. Pa konvansyon, endantasyon an se kat espas.\n",
    "Body fonksyon sa a gen de enstriksyon print; an jeneral, body yon fonksyon ka gen nenpòt kantite enstriksyon.\n",
    "\n",
    "Defini yon fonksyon kreye yon **objè fonksyon**, ke nou ka montre konsa."
   ]
  },
  {
   "cell_type": "code",
   "execution_count": 3,
   "id": "1cfd314b",
   "metadata": {},
   "outputs": [
    {
     "data": {
      "text/plain": [
       "<function __main__.print_lyrics()>"
      ]
     },
     "execution_count": 3,
     "metadata": {},
     "output_type": "execute_result"
    }
   ],
   "source": [
    "print_lyrics"
   ]
  },
  {
   "cell_type": "markdown",
   "id": "23054544",
   "metadata": {},
   "source": [
    "Rezilta a montre ke `print_lyrics` se yon fonksyon ki pa pran agiman.\n",
    "`__main__` se non modil ki gen `print_lyrics`.\n",
    "\n",
    "Kounye a ke nou te defini yon fonksyon, nou ka rele li menm jan nou rele fonksyon ki deja bati."
   ]
  },
  {
   "cell_type": "code",
   "execution_count": 4,
   "id": "3f3d4640",
   "metadata": {
    "lines_to_next_cell": 1
   },
   "outputs": [
    {
     "name": "stdout",
     "output_type": "stream",
     "text": [
      "Mwen se yon lumberjack, epi mwen byen.\n",
      "Mwen dòmi tout lannwit epi mwen travay tout jounen.\n"
     ]
    }
   ],
   "source": [
    "print_lyrics()"
   ]
  },
  {
   "cell_type": "markdown",
   "id": "de137203",
   "metadata": {},
   "source": [
    "Lè fonksyon an egzekite, li egzekite enstriksyon nan body a, ki montre de premye liy \"The Lumberjack Song\" la."
   ]
  },
  {
   "cell_type": "markdown",
   "id": "a349516f",
   "metadata": {},
   "source": [
    "## Paramèt\n",
    "\n",
    "Gen kèk fonksyon nou te wè ki bezwen agiman; pa egzanp, lè ou rele `abs` ou bay yon chif kòm agiman.\n",
    "Gen kèk fonksyon ki pran plis pase yon agiman; pa egzanp, `math.pow` pran de, baz la ak eksponan an.\n",
    "\n",
    "Men yon definisyon pou yon fonksyon ki pran yon agiman."
   ]
  },
  {
   "cell_type": "code",
   "execution_count": 5,
   "id": "4bb2f472",
   "metadata": {
    "lines_to_next_cell": 1
   },
   "outputs": [],
   "source": [
    "def print_twice(string):\n",
    "    print(string)\n",
    "    print(string)"
   ]
  },
  {
   "cell_type": "markdown",
   "id": "fd6433da",
   "metadata": {},
   "source": [
    "Non varyab ki nan parantèz la se yon **paramèt**.\n",
    "Lè fonksyon an rele, valè agiman an asiyen ak paramèt la.\n",
    "Pa egzanp, nou ka rele `print_twice` konsa:"
   ]
  },
  {
   "cell_type": "code",
   "execution_count": 6,
   "id": "b669683d",
   "metadata": {},
   "outputs": [
    {
     "name": "stdout",
     "output_type": "stream",
     "text": [
      "Dennis Moore, \n",
      "Dennis Moore, \n"
     ]
    }
   ],
   "source": [
    "print_twice('Dennis Moore, ')"
   ]
  },
  {
   "cell_type": "markdown",
   "id": "e66ada5d",
   "metadata": {},
   "source": [
    "Egzekite fonksyon sa a gen menm efè ak asiyen agiman an ak paramèt la epi egzekite body fonksyon an, konsa:"
   ]
  },
  {
   "cell_type": "code",
   "execution_count": 7,
   "id": "0c868749",
   "metadata": {},
   "outputs": [
    {
     "name": "stdout",
     "output_type": "stream",
     "text": [
      "Dennis Moore, \n",
      "Dennis Moore, \n"
     ]
    }
   ],
   "source": [
    "string = 'Dennis Moore, '\n",
    "print(string)\n",
    "print(string)"
   ]
  },
  {
   "cell_type": "markdown",
   "id": "a4891a33",
   "metadata": {},
   "source": [
    "Ou ka tou itilize yon varyab kòm agiman."
   ]
  },
  {
   "cell_type": "code",
   "execution_count": 8,
   "id": "9eabdb73",
   "metadata": {
    "lines_to_next_cell": 1
   },
   "outputs": [
    {
     "name": "stdout",
     "output_type": "stream",
     "text": [
      "Dennis Moore, \n",
      "Dennis Moore, \n"
     ]
    }
   ],
   "source": [
    "line = 'Dennis Moore, '\n",
    "print_twice(line)"
   ]
  },
  {
   "cell_type": "markdown",
   "id": "c65fd7e6",
   "metadata": {},
   "source": [
    "Nan egzanp sa a, valè `line` asiyen ak paramèt `string` la."
   ]
  },
  {
   "cell_type": "markdown",
   "id": "09751dc7",
   "metadata": {},
   "source": [
    "## Rele fonksyon\n",
    "\n",
    "Lè ou deja defini yon fonksyon, ou ka itilize li andedan yon lòt fonksyon.\n",
    "Kòm demonstrasyon, n ap ekri fonksyon ki montre lirik \"The Spam Song\" (<https://www.songfacts.com/lyrics/monty-python/the-spam-song>).\n",
    "\n",
    "> Spam, Spam, Spam, Spam,  \n",
    "> Spam, Spam, Spam, Spam,  \n",
    "> Spam, Spam,  \n",
    "> (Lovely Spam, Wonderful Spam!) (Term \"Lovely\" ak \"Wonderful\" pa gen ekivalan egzat, nou ka di \"Bèl Spam, Mervey Spam!\")  \n",
    "> Spam, Spam,\n",
    "\n",
    "N ap kòmanse ak fonksyon sa a, ki pran de paramèt."
   ]
  },
  {
   "cell_type": "code",
   "execution_count": 9,
   "id": "89f4980e",
   "metadata": {
    "lines_to_next_cell": 1
   },
   "outputs": [],
   "source": [
    "def repeat(word, n):\n",
    "    print(word * n)"
   ]
  },
  {
   "cell_type": "markdown",
   "id": "61751b1b",
   "metadata": {},
   "source": [
    "Nou ka itilize fonksyon sa a pou montre premye liy chante a, konsa:"
   ]
  },
  {
   "cell_type": "code",
   "execution_count": 10,
   "id": "d8f6554d",
   "metadata": {
    "lines_to_next_cell": 1
   },
   "outputs": [
    {
     "name": "stdout",
     "output_type": "stream",
     "text": [
      "Spam, Spam, Spam, Spam, \n"
     ]
    }
   ],
   "source": [
    "spam = 'Spam, '\n",
    "repeat(spam, 4)"
   ]
  },
  {
   "cell_type": "markdown",
   "id": "8e4a588e",
   "metadata": {},
   "source": [
    "Pou montre de premye liy yo, nou ka defini yon nouvo fonksyon ki itilize `repeat`."
   ]
  },
  {
   "cell_type": "code",
   "execution_count": 11,
   "id": "51cf894e",
   "metadata": {
    "lines_to_next_cell": 1
   },
   "outputs": [],
   "source": [
    "def first_two_lines():\n",
    "    repeat(spam, 4)\n",
    "    repeat(spam, 4)"
   ]
  },
  {
   "cell_type": "markdown",
   "id": "a4f773e8",
   "metadata": {},
   "source": [
    "Epi rele li konsa:"
   ]
  },
  {
   "cell_type": "code",
   "execution_count": 12,
   "id": "a8503c87",
   "metadata": {
    "lines_to_next_cell": 1
   },
   "outputs": [
    {
     "name": "stdout",
     "output_type": "stream",
     "text": [
      "Spam, Spam, Spam, Spam, \n",
      "Spam, Spam, Spam, Spam, \n"
     ]
    }
   ],
   "source": [
    "first_two_lines()"
   ]
  },
  {
   "cell_type": "markdown",
   "id": "dc8949cf",
   "metadata": {},
   "source": [
    "Pou montre twa dènye liy yo, nou ka defini yon lòt fonksyon, ki tou itilize `repeat`."
   ]
  },
  {
   "cell_type": "code",
   "execution_count": 13,
   "id": "4a8df99b",
   "metadata": {
    "lines_to_next_cell": 1
   },
   "outputs": [],
   "source": [
    "def last_three_lines():\n",
    "    repeat(spam, 2)\n",
    "    print('(Bèl Spam, Mervey Spam!)')\n",
    "    repeat(spam, 2)"
   ]
  },
  {
   "cell_type": "code",
   "execution_count": 14,
   "id": "d176e767",
   "metadata": {
    "lines_to_next_cell": 1
   },
   "outputs": [
    {
     "name": "stdout",
     "output_type": "stream",
     "text": [
      "Spam, Spam, \n",
      "(Bèl Spam, Mervey Spam!)\n",
      "Spam, Spam, \n"
     ]
    }
   ],
   "source": [
    "last_three_lines()"
   ]
  },
  {
   "cell_type": "markdown",
   "id": "6aaead12",
   "metadata": {},
   "source": [
    "Finalman, nou ka reyini tout bagay ak yon fonksyon ki montre tout vès la."
   ]
  },
  {
   "cell_type": "code",
   "execution_count": 15,
   "id": "66dd538f",
   "metadata": {
    "lines_to_next_cell": 1
   },
   "outputs": [],
   "source": [
    "def print_verse():\n",
    "    first_two_lines()\n",
    "    last_three_lines()"
   ]
  },
  {
   "cell_type": "code",
   "execution_count": 16,
   "id": "3d42d118",
   "metadata": {},
   "outputs": [
    {
     "name": "stdout",
     "output_type": "stream",
     "text": [
      "Spam, Spam, Spam, Spam, \n",
      "Spam, Spam, Spam, Spam, \n",
      "Spam, Spam, \n",
      "(Bèl Spam, Mervey Spam!)\n",
      "Spam, Spam, \n"
     ]
    }
   ],
   "source": [
    "print_verse()"
   ]
  },
  {
   "cell_type": "markdown",
   "id": "de163df3",
   "metadata": {},
   "source": [
    "Lè nou egzekite `print_verse`, li rele `first_two_lines`, ki rele `repeat`, ki rele `print`.\n",
    "Sa se anpil fonksyon.\n",
    "\n",
    "Natirèlman, nou te ka fè menm bagay la ak mwens fonksyon, men objektif egzanp sa a se pou montre kijan fonksyon ka travay ansanm."
   ]
  },
  {
   "cell_type": "markdown",
   "id": "e284f7c0",
   "metadata": {},
   "source": [
    "## Repètisyon\n",
    "\n",
    "Si nou vle montre plis pase yon vès, nou ka itilize yon deklarasyon `for`.\n",
    "Men yon egzanp senp."
   ]
  },
  {
   "cell_type": "code",
   "execution_count": 17,
   "id": "8a0f8a4f",
   "metadata": {},
   "outputs": [
    {
     "name": "stdout",
     "output_type": "stream",
     "text": [
      "0\n",
      "1\n"
     ]
    }
   ],
   "source": [
    "for i in range(2):\n",
    "    print(i)"
   ]
  },
  {
   "cell_type": "markdown",
   "id": "63d33fb6",
   "metadata": {},
   "source": [
    "Premye liy la se yon header ki fini ak yon kolon.\n",
    "Dezyèm liy la se body, ki dwe endente.\n",
    "\n",
    "Header la kòmanse ak mo kle `for`, yon nouvo varyab yo rele `i`, epi yon lòt mo kle, `in`.\n",
    "Li itilize fonksyon `range` pou kreye yon sekans de valè, `0` ak `1`.\n",
    "Nan Python, lè nou kòmanse konte, nou anjeneral kòmanse soti `0`.\n",
    "\n",
    "Lè deklarasyon `for` la egzekite, li asiyen premye valè `range` la ak `i` epi li egzekite fonksyon `print` la ki nan body a, ki montre `0`.\n",
    "\n",
    "Lè li fini body a, li retounen tounen sou header la, se pou sa nou rele deklarasyon sa a yon **loop**.\n",
    "Dezyèm fwa a nan loop la, li asiyen pwochen valè `range` la ak `i`, epi li montre li.\n",
    "Apre sa, paske se dènye valè `range` la, loop la fini.\n",
    "\n",
    "Men kijan nou ka itilize yon loop `for` pou montre de vès mizik la."
   ]
  },
  {
   "cell_type": "code",
   "execution_count": 18,
   "id": "b801a30f",
   "metadata": {
    "lines_to_next_cell": 1
   },
   "outputs": [
    {
     "name": "stdout",
     "output_type": "stream",
     "text": [
      "Vès 0\n",
      "Spam, Spam, Spam, Spam, \n",
      "Spam, Spam, Spam, Spam, \n",
      "Spam, Spam, \n",
      "(Bèl Spam, Mervey Spam!)\n",
      "Spam, Spam, \n",
      "\n",
      "Vès 1\n",
      "Spam, Spam, Spam, Spam, \n",
      "Spam, Spam, Spam, Spam, \n",
      "Spam, Spam, \n",
      "(Bèl Spam, Mervey Spam!)\n",
      "Spam, Spam, \n",
      "\n"
     ]
    }
   ],
   "source": [
    "for i in range(2):\n",
    "    print(\"Vès\", i)\n",
    "    print_verse()\n",
    "    print()"
   ]
  },
  {
   "cell_type": "markdown",
   "id": "8f4d2bd7",
   "metadata": {},
   "source": [
    "Ou ka mete yon loop `for` anndan yon fonksyon.\n",
    "Pa egzanp, `print_n_verses` pran yon paramèt `n` ki dwe yon nonb antye, epi li montre kantite vès ou bay la."
   ]
  },
  {
   "cell_type": "code",
   "execution_count": 19,
   "id": "b5e80ff5",
   "metadata": {
    "lines_to_next_cell": 1
   },
   "outputs": [],
   "source": [
    "def print_n_verses(n):\n",
    "    for i in range(n):\n",
    "        print_verse()\n",
    "        print()"
   ]
  },
  {
   "cell_type": "markdown",
   "id": "719ff678",
   "metadata": {},
   "source": [
    "Nan egzanp sa a, nou pa itilize `i` anndan body loop la, men nou dwe genyen yon non varyab nan header la kanmenm."
   ]
  },
  {
   "cell_type": "markdown",
   "id": "22db5c79",
   "metadata": {},
   "source": [
    "## Varyab ak paramèt yo lokál\n",
    "\n",
    "Lè ou kreye yon varyab anndan yon fonksyon, li se **lokál**, sa vle di li sèlman egziste anndan fonksyon an.\n",
    "Pa egzanp, fonksyon sa a pran de agiman, li kontantene yo, epi li montre rezilta a de fwa."
   ]
  },
  {
   "cell_type": "code",
   "execution_count": 20,
   "id": "1c802e89",
   "metadata": {
    "lines_to_next_cell": 1
   },
   "outputs": [],
   "source": [
    "def cat_twice(part1, part2):\n",
    "    cat = part1 + part2\n",
    "    print_twice(cat)"
   ]
  },
  {
   "cell_type": "markdown",
   "id": "b13453c6",
   "metadata": {},
   "source": [
    "Men yon egzanp ki itilize li:"
   ]
  },
  {
   "cell_type": "code",
   "execution_count": 21,
   "id": "de1f160d",
   "metadata": {},
   "outputs": [
    {
     "name": "stdout",
     "output_type": "stream",
     "text": [
      "Toujou gade bò pozitif lavi a.\n",
      "Toujou gade bò pozitif lavi a.\n"
     ]
    }
   ],
   "source": [
    "line1 = 'Toujou gade '\n",
    "line2 = 'bò pozitif lavi a.'\n",
    "cat_twice(line1, line2)"
   ]
  },
  {
   "cell_type": "markdown",
   "id": "276aec05",
   "metadata": {},
   "source": [
    "Lè `cat_twice` egzekite, li kreye yon varyab lokál `cat`, ki detwi lè fonksyon an fini.\n",
    "Si nou eseye montre li, nou jwenn yon `NameError`:"
   ]
  },
  {
   "cell_type": "code",
   "execution_count": 22,
   "id": "09c9b454",
   "metadata": {},
   "outputs": [
    {
     "ename": "NameError",
     "evalue": "name 'cat' is not defined",
     "output_type": "error",
     "traceback": [
      "\u001b[1;31mNameError\u001b[0m\u001b[1;31m:\u001b[0m name 'cat' is not defined\n"
     ]
    }
   ],
   "source": [
    "%%expect NameError\n",
    "\n",
    "print(cat)"
   ]
  },
  {
   "cell_type": "markdown",
   "id": "27c33cd9",
   "metadata": {},
   "source": [
    "Deyò fonksyon an, `cat` pa defini.\n",
    "\n",
    "Paramèt yo tou se lokál.\n",
    "Pa egzanp, deyò `cat_twice`, pa gen okenn bagay ki rele `part1` oswa `part2`."
   ]
  },
  {
   "cell_type": "markdown",
   "id": "ff189e3e",
   "metadata": {},
   "source": [
    "## Dyagram pil (stack diagrams)\n",
    "\n",
    "Pou kenbe tras ki varyab ki disponib kote, pafwa li itil pou trase yon **dyagram pil**.\n",
    "Menm jan ak dyagram eta yo, dyagram pil yo montre valè chak varyab, men yo tou montre ki fonksyon chak varyab fè pati.\n",
    "\n",
    "Chak fonksyon reprezante pa yon **kare (frame)**.\n",
    "Yon kare se yon bwat ki gen non fonksyon an deyò epi paramèt ak varyab lokál fonksyon an andedan.\n",
    "\n",
    "Men dyagram pil pou egzanp anvan an."
   ]
  },
  {
   "cell_type": "code",
   "execution_count": 25,
   "id": "24c63530",
   "metadata": {},
   "outputs": [
    {
     "ename": "ModuleNotFoundError",
     "evalue": "No module named 'matplotlib'",
     "output_type": "error",
     "traceback": [
      "\u001b[1;31mModuleNotFoundError\u001b[0m\u001b[1;31m:\u001b[0m No module named 'matplotlib'\n"
     ]
    }
   ],
   "source": [
    "from diagram import make_frame, Stack\n",
    "\n",
    "d1 = dict(line1=line1, line2=line2)\n",
    "frame1 = make_frame(d1, name='__main__', dy=-0.3, loc='left')\n",
    "\n",
    "d2 = dict(part1=line1, part2=line2, cat=line1+line2)\n",
    "frame2 = make_frame(d2, name='cat_twice', dy=-0.3, \n",
    "                    offsetx=0.03, loc='left')\n",
    "\n",
    "d3 = dict(s = line1+line2)\n",
    "frame3 = make_frame(d3, name='print_twice', \n",
    "                    offsetx=-0.28, offsety=-0.3, loc='left')\n",
    "\n",
    "d4 = {\"?\": line1+line2}\n",
    "frame4 = make_frame(d4, name='print', \n",
    "                    offsetx=-0.28, offsety=0, loc='left')\n",
    "\n",
    "stack = Stack([frame1, frame2, frame3, frame4], dy=-0.8)"
   ]
  },
  {
   "cell_type": "code",
   "execution_count": null,
   "id": "e7e43b46",
   "metadata": {},
   "outputs": [],
   "source": [
    "from diagram import diagram, adjust\n",
    "\n",
    "\n",
    "width, height, x, y = [3.8, 2.91, 1.15, 2.66]\n",
    "ax = diagram(width, height)\n",
    "bbox = stack.draw(ax, x, y)\n",
    "#adjust(x, y, bbox)"
   ]
  },
  {
   "cell_type": "markdown",
   "id": "63ddcead",
   "metadata": {},
   "source": [
    "Kare yo ranje nan yon pil ki endike ki fonksyon ki te rele ki lòt, elatriye. Si w li soti anba, `print` te rele pa `print_twice`, ki te rele pa `cat_twice`, ki te rele pa `__main__` -- ki se yon non espesyal pou kare ki anwo de tout.\n",
    "Lè ou kreye yon varyab deyò nenpòt fonksyon, li fè pati `__main__`.\n",
    "\n",
    "Nan kare pou `print`, mak kesyon an endike nou pa konnen non paramèt la.\n",
    "Si ou curye, mande yon asistan vityèl, \"Ki paramèt fonksyon print Python lan?\""
   ]
  },
  {
   "cell_type": "markdown",
   "id": "26e55c6e",
   "metadata": {},
   "source": [
    "## Tracebacks\n",
    "\n",
    "Lè gen yon erè k ap egzekite anndan yon fonksyon, Python montre non fonksyon ki t ap kouri a, non fonksyon ki te rele li a, elatriye, monte sou pil la.\n",
    "Pou wè yon egzanp, m ap defini yon vèsyon `print_twice` ki gen yon erè -- li eseye montre `cat`, ki se yon varyab lokál nan yon lòt fonksyon."
   ]
  },
  {
   "cell_type": "code",
   "execution_count": null,
   "id": "dc2c56df",
   "metadata": {
    "lines_to_next_cell": 1
   },
   "outputs": [],
   "source": [
    "def print_twice(string):\n",
    "    print(cat)            # NameError\n",
    "    print(cat)"
   ]
  },
  {
   "cell_type": "markdown",
   "id": "5af289ae",
   "metadata": {},
   "source": [
    "Men sa k ap pase lè nou kouri `cat_twice`."
   ]
  },
  {
   "cell_type": "code",
   "execution_count": null,
   "id": "5c6ae799",
   "metadata": {},
   "outputs": [],
   "source": [
    "# Liy sa a di Jupyter pou bay enfòmasyon detaye sou debogaj\n",
    "# lè gen yon erè d execisyon, tankou yon traceback.\n",
    "\n",
    "%xmode Verbose"
   ]
  },
  {
   "cell_type": "code",
   "execution_count": null,
   "id": "a6c45c8e",
   "metadata": {},
   "outputs": [],
   "source": [
    "%%expect NameError\n",
    "\n",
    "cat_twice(line1, line2)"
   ]
  },
  {
   "cell_type": "markdown",
   "id": "ef78b7c7",
   "metadata": {},
   "source": [
    "Mesaj erè a gen yon **traceback**, ki montre fonksyon ki t ap kouri lè erè a rive, fonksyon ki te rele li, elatriye.\n",
    "Nan egzanp sa a, li montre ke `cat_twice` te rele `print_twice`, epi erè a te rive anndan `print_twice`.\n",
    "\n",
    "Lòd fonksyon yo nan traceback la se menm lòd kare yo nan dyagram pil la.\n",
    "Fonksyon ki t ap kouri a se anba."
   ]
  },
  {
   "cell_type": "markdown",
   "id": "e18f45aa",
   "metadata": {},
   "source": [
    "## Poukisa fonksyon?\n",
    "\n",
    "Li ka pa klè poukisa li vo divize yon pwogram an fonksyon.\n",
    "Gen plizyè rezon:\n",
    "\n",
    "-   Kreye yon nouvo fonksyon ba ou yon opòtinite pou bay non yon gwoup enstriksyon,\n",
    "    sa ki fè pwogram ou pi fasil pou li ak deboge.\n",
    "\n",
    "-   Fonksyon ka fè pwogram ou pi kout pa elimine kòd repetitif.\n",
    "    Pita, si ou fè yon chanjman, ou sèlman bezwen fè li yon sèl kote.\n",
    "\n",
    "-   Divize yon pwogram long an fonksyon pèmèt ou deboge chak pati separeman,\n",
    "    epi apre sa reyini yo an yon tout ki mache.\n",
    "\n",
    "-   Fonksyon byen konsevwa souvan itil pou anpil pwogram.\n",
    "    Lè ou fin ekri ak deboge youn, ou ka reutilize li."
   ]
  },
  {
   "cell_type": "markdown",
   "id": "79414ff0",
   "metadata": {},
   "source": [
    "## Debogaj\n",
    "\n",
    "Debogaj ka fristran, men li tou kapab enteresan epi amusant.\n",
    "E li se youn nan kapasite ki pi enpòtan pou ou aprann.\n",
    "\n",
    "Nan kèk fason, debogaj se tankou travay detektif.\n",
    "Ou gen endis, epi ou dwe dedwi evènman ki mennen rezilta ou wè yo.\n",
    "\n",
    "Debogaj tou tankou syans eksperimantal.\n",
    "Lè ou gen yon lide sou sa ki pa mache, ou modifye pwogram ou epi eseye ankò.\n",
    "Si ipotèz ou te kòrèk, ou ka predi rezilta modifikasyon an, epi ou fè yon pa pi pre yon pwogram ki mache.\n",
    "Si ipotèz ou te mal, ou dwe vini ak yon nouvo.\n",
    "\n",
    "Pou kèk moun, pwogramasyon ak debogaj se menm bagay; sa vle di, pwogramasyon se pwosesis la pou debogaj pwogram lan ti pa ti pa jiskaske li fè sa ou vle.\n",
    "Ide a se ke ou ta dwe kòmanse ak yon pwogram ki mache epi fè ti modifikasyon, deboge yo pandan w ap vanse.\n",
    "\n",
    "Si ou jwenn ou pase anpil tan ap deboge, sa souvan se yon siy ke ou ap ekri twòp kòd anvan ou kòmanse teste.\n",
    "Si ou pran ti etap pi piti, ou ka jwenn ke ou ka avanse pi vit."
   ]
  },
  {
   "cell_type": "markdown",
   "id": "2335c6bd",
   "metadata": {},
   "source": [
    "## Glosè\n",
    "\n",
    "**definisyon fonksyon:**  \n",
    " Yon deklarasyon ki kreye yon fonksyon.\n",
    "\n",
    "**header:**  \n",
    " Premye liy yon definisyon fonksyon.\n",
    "\n",
    "**body:**  \n",
    " Sekans enstriksyon andedan yon definisyon fonksyon.\n",
    "\n",
    "**objè fonksyon:**  \n",
    " Yon valè ki kreye pa yon definisyon fonksyon.\n",
    " Non fonksyon an se yon varyab ki fè referans ak objè fonksyon an.\n",
    "\n",
    "**paramèt:**  \n",
    " Yon non ki itilize anndan yon fonksyon pou refere ak valè ki pase kòm agiman.\n",
    "\n",
    "**loop:**  \n",
    " Yon deklarasyon ki egzekite youn oswa plis enstriksyon, souvan plizyè fwa.\n",
    "\n",
    "**varyab lokál:**  \n",
    " Yon varyab defini anndan yon fonksyon, ki ka sèlman itilize anndan fonksyon an.\n",
    "\n",
    "**dyagram pil (stack diagram):**  \n",
    " Yon reprezantasyon grafikal yon pil fonksyon, varyab yo, ak valè yo refere a.\n",
    "\n",
    "**kare (frame):**  \n",
    " Yon bwat nan yon dyagram pil ki reprezante yon apèl fonksyon.\n",
    " Li gen varyab lokál ak paramèt fonksyon an.\n",
    "\n",
    "**traceback:**  \n",
    " Yon lis fonksyon ki t ap egzekite, ki enprime lè gen yon eksepsyon."
   ]
  },
  {
   "cell_type": "markdown",
   "id": "5165bdc2",
   "metadata": {},
   "source": [
    "## Eksèsis"
   ]
  },
  {
   "cell_type": "code",
   "execution_count": null,
   "id": "a2a83eea",
   "metadata": {},
   "outputs": [],
   "source": [
    "# Liy sa a di Jupyter pou bay enfòmasyon detaye sou debogaj\n",
    "# lè gen yon erè d execisyon. Kouri li anvan w ap travay sou egzèsis yo.\n",
    "\n",
    "%xmode Verbose"
   ]
  },
  {
   "cell_type": "markdown",
   "id": "e1650228",
   "metadata": {},
   "source": [
    "### Mande yon asistan vityèl\n",
    "\n",
    "Enstriksyon nan yon fonksyon oswa nan yon loop `for` endante ak kat espas, pa konvansyon.\n",
    "Men pa tout moun ki dakò ak konvansyon sa a.\n",
    "Si ou curye sou listwa gwo deba sa a, mande yon asistan vityèl \"di mwen sou espas ak tab nan Python\".\n",
    "\n",
    "Asistan vityèl yo byen kapab ekri ti fonksyon.\n",
    "\n",
    "1. Mande asistan favori ou \"Ekri yon fonksyon yo rele repeat ki pran yon chèn (string) ak yon antye epi ki montre chèn lan kantite fwa a.\"\n",
    "\n",
    "2. Si rezilta a itilize yon loop `for`, ou te ka mande, \"Ou ka fè li san loop for la?\"\n",
    "\n",
    "3. Chwazi nenpòt lòt fonksyon nan chapit sa a epi mande yon asistan vityèl pou ekri li. Defi a se dekri fonksyon an ase presiz pou jwenn sa ou vle. Itilize vokabilè ou aprann yo jiska kounye a.\n",
    "\n",
    "Asistan vityèl yo tou bon pou deboge fonksyon.\n",
    "\n",
    "1. Mande yon asistan kisa ki mal ak vèsyon `print_twice` sa a:\n",
    "\n",
    "    ```\n",
    "    def print_twice(string):\n",
    "        print(cat)\n",
    "        print(cat)\n",
    "    ```\n",
    "    \n",
    "E si ou bloke sou nenpòt egzèsis ki anba yo, konsidere mande yon asistan vityèl pou èd."
   ]
  },
  {
   "cell_type": "markdown",
   "id": "e1ba04b1",
   "metadata": {},
   "source": [
    "### Egzèsis\n",
    "\n",
    "Ekri yon fonksyon yo rele `print_right` ki pran yon chèn yo rele `text` kòm paramèt epi ki montre chèn lan ak ase espas devan li pou dènye lèt la parèt nan 40yèm kolòn afichaj la."
   ]
  },
  {
   "cell_type": "code",
   "execution_count": null,
   "id": "91011a14",
   "metadata": {},
   "outputs": [],
   "source": [
    "# Solisyon mete la"
   ]
  },
  {
   "cell_type": "markdown",
   "id": "7b5d3db7",
   "metadata": {},
   "source": [
    "Sijesyon: Itilize fonksyon `len`, operatè konkatenasyon chèn (`+`) ak operatè repètisyon chèn (`*`).\n",
    "\n",
    "Men yon egzanp ki montre kijan li ta dwe mache."
   ]
  },
  {
   "cell_type": "code",
   "execution_count": null,
   "id": "b332ca70",
   "metadata": {},
   "outputs": [],
   "source": [
    "print_right(\"Monty\")\n",
    "print_right(\"Python's\")\n",
    "print_right(\"Flying Circus\")"
   ]
  },
  {
   "cell_type": "markdown",
   "id": "d3af9c83",
   "metadata": {},
   "source": [
    "### Egzèsis\n",
    "\n",
    "Ekri yon fonksyon yo rele `triangle` ki pran yon chèn ak yon antye, epi ki trase yon piramid ak wotè ou bay la, fèt ak kopi chèn lan. Men yon egzanp piramid ak `5` nivo, ki itilize chèn `'L'`."
   ]
  },
  {
   "cell_type": "code",
   "execution_count": null,
   "id": "06c2fdac",
   "metadata": {},
   "outputs": [],
   "source": [
    "# Solisyon mete la"
   ]
  },
  {
   "cell_type": "code",
   "execution_count": null,
   "id": "cb4b8454",
   "metadata": {},
   "outputs": [],
   "source": [
    "triangle('L', 5)"
   ]
  },
  {
   "cell_type": "markdown",
   "id": "60bd39cb",
   "metadata": {},
   "source": [
    "### Egzèsis\n",
    "\n",
    "Ekri yon fonksyon yo rele `rectangle` ki pran yon chèn ak de antye, epi ki trase yon rektang ak lajè ak wotè ou bay la, fèt ak kopi chèn lan. Men yon egzanp rektang ak lajè `5` ak wotè `4`, ki fèt ak chèn `'H'`."
   ]
  },
  {
   "cell_type": "code",
   "execution_count": null,
   "id": "c96a9c86",
   "metadata": {},
   "outputs": [],
   "source": [
    "# Solisyon mete la"
   ]
  },
  {
   "cell_type": "code",
   "execution_count": null,
   "id": "48c63458",
   "metadata": {},
   "outputs": [],
   "source": [
    "rectangle('H', 5, 4)"
   ]
  },
  {
   "cell_type": "markdown",
   "id": "f091d7f8",
   "metadata": {},
   "source": [
    "### Egzèsis\n",
    "\n",
    "Chante \"99 Boutey Byè\" la kòmanse ak vès sa a:\n",
    "\n",
    "> 99 boutey byè sou miray la  \n",
    "> 99 boutey byè  \n",
    "> Pran youn, pase li alantou  \n",
    "> 98 boutey byè sou miray la  \n",
    "\n",
    "Apre sa, dezyèm vès la menm, eksepte li kòmanse ak 98 boutey epi fini ak 97. Chante a kontinye jiskaske li rive 0 boutey byè.\n",
    "\n",
    "Ekri yon fonksyon yo rele `bottle_verse` ki pran yon nonb kòm paramèt epi ki montre vès la ki kòmanse ak kantite boutey ou bay la.\n",
    "\n",
    "Sijesyon: Konsidere kòmanse ak yon fonksyon ki ka enprime premye, dezyèm, oswa dènye liy vès la, epi apre sa itilize li pou ekri `bottle_verse`."
   ]
  },
  {
   "cell_type": "code",
   "execution_count": null,
   "id": "5e5db571",
   "metadata": {},
   "outputs": [],
   "source": [
    "# Solisyon mete la"
   ]
  },
  {
   "cell_type": "code",
   "execution_count": null,
   "id": "20d627e1",
   "metadata": {},
   "outputs": [],
   "source": [
    "# Solisyon mete la"
   ]
  },
  {
   "cell_type": "markdown",
   "id": "b2f11d5a",
   "metadata": {},
   "source": [
    "Itilize apèl fonksyon sa a pou montre premye vès la."
   ]
  },
  {
   "cell_type": "code",
   "execution_count": null,
   "id": "21e939b7",
   "metadata": {},
   "outputs": [],
   "source": [
    "bottle_verse(99)"
   ]
  },
  {
   "cell_type": "markdown",
   "id": "9b133f45",
   "metadata": {},
   "source": [
    "Si ou vle enprime tout chante a, ou ka itilize loop `for` sa a, ki konte desann soti `99` rive `1`.\n",
    "Ou pa oblije konplètman konprann egzanp sa a---n ap aprann plis sou loop `for` ak fonksyon `range` pita."
   ]
  },
  {
   "cell_type": "code",
   "execution_count": null,
   "id": "883d7447",
   "metadata": {},
   "outputs": [],
   "source": [
    "for n in range(99, 0, -1):\n",
    "    bottle_verse(n)\n",
    "    print()"
   ]
  }
 ],
 "metadata": {
  "jupytext": {
   "cell_metadata_filter": "-all",
   "main_language": "python",
   "notebook_metadata_filter": "-all"
  },
  "kernelspec": {
   "display_name": "Python 3",
   "language": "python",
   "name": "python3"
  },
  "language_info": {
   "codemirror_mode": {
    "name": "ipython",
    "version": 3
   },
   "file_extension": ".py",
   "mimetype": "text/x-python",
   "name": "python",
   "nbconvert_exporter": "python",
   "pygments_lexer": "ipython3",
   "version": "3.10.4"
  }
 },
 "nbformat": 4,
 "nbformat_minor": 5
}
