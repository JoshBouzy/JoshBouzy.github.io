{
 "cells": [
  {
   "cell_type": "markdown",
   "id": "57f78142",
   "metadata": {},
   "source": [
    "Ou ka kòmande vèsyon enprime ak vèsyon elektwonik *Think Python 3e* soti nan\n",
    "[Bookshop.org](https://bookshop.org/a/98697/9781098155438) ak\n",
    "[Amazon](https://www.amazon.com/_/dp/1098155432?smid=ATVPDKIKX0DER&_encoding=UTF8&tag=oreilly20-20&_encoding=UTF8&tag=greenteapre01-20&linkCode=ur2&linkId=e2a529f94920295d27ec8a06e757dc7c&camp=1789&creative=9325)."
   ]
  },
  {
   "cell_type": "code",
   "execution_count": null,
   "id": "22421348",
   "metadata": {},
   "outputs": [],
   "source": [
    "from os.path import basename, exists\n",
    "\n",
    "def download(url):\n",
    "    filename = basename(url)\n",
    "    if not exists(filename):\n",
    "        from urllib.request import urlretrieve\n",
    "\n",
    "        local, _ = urlretrieve(url, filename)\n",
    "        print(\"Downloaded \" + str(local))\n",
    "    return filename\n",
    "\n",
    "download('https://github.com/AllenDowney/ThinkPython/raw/v3/thinkpython.py');\n",
    "download('https://github.com/AllenDowney/ThinkPython/raw/v3/diagram.py');\n",
    "\n",
    "import thinkpython"
   ]
  },
  {
   "cell_type": "markdown",
   "id": "a8f24e8a",
   "metadata": {},
   "source": [
    "# Analiz Tèks ak Generasyon\n",
    "\n",
    "Apre sa, nou te kouvri estrikti done debaz Python yo — lis, diksyonè, ak tuples — epi kèk algoritm ki itilize yo.\n",
    "Nan chapit sa a, nou pral itilize yo pou eksplore analiz tèks ak generasyon Markov:\n",
    "\n",
    "* Analiz tèks se yon fason pou dekri relasyon estatistik ant mo nan yon dokiman, tankou pwobabilite ke yon mo swiv yon lòt, epi\n",
    "\n",
    "* Generasyon Markov se yon fason pou pwodwi nouvo tèks ak mo ak fraz ki sanble ak tèks orijinal la.\n",
    "\n",
    "Algoritm sa yo sanble ak kèk pati yon Modèl Langaj Gwo (LLM), ki se eleman kle yon chatbòt.\n",
    "\n",
    "Nou pral kòmanse pa konte konbyen fwa chak mo parèt nan yon liv.\n",
    "Apre sa nou pral gade pè mo, epi fè yon lis mo ki ka swiv chak mo.\n",
    "Nou pral fè yon vèsyon senp yon générateur Markov, epi kòm egzèsis, ou pral gen chans fè yon vèsyon pi jeneral."
   ]
  },
  {
   "cell_type": "markdown",
   "id": "e09aa871",
   "metadata": {},
   "source": [
    "## Mo inik\n",
    "\n",
    "Kòm premye etap pou analiz tèks, ann li yon liv — *The Strange Case Of Dr. Jekyll And Mr. Hyde* pa Robert Louis Stevenson — epi konte konbyen mo inik ki gen.\n",
    "Enstriksyon pou telechaje liv la a se nan notebook chapit sa a."
   ]
  },
  {
   "cell_type": "markdown",
   "id": "e6c0f005",
   "metadata": {},
   "source": [
    "Selil ki anba a telechaje liv la soti nan Project Gutenberg."
   ]
  },
  {
   "cell_type": "code",
   "execution_count": null,
   "id": "2af8c424",
   "metadata": {
    "lines_to_next_cell": 1
   },
   "outputs": [],
   "source": [
    "download('https://www.gutenberg.org/cache/epub/43/pg43.txt');"
   ]
  },
  {
   "cell_type": "markdown",
   "id": "6023f114",
   "metadata": {},
   "source": [
    "Vèsyon Project Gutenberg lan gen enfòmasyon sou liv la an kòmansman ak enfòmasyon sou lisans lan anfen.\n",
    "Nou pral itilize `clean_file` soti nan Chapit 8 pou retire materyèl sa a epi ekri yon fichye \"clean\" ki gen sèlman tèks liv la."
   ]
  },
  {
   "cell_type": "code",
   "execution_count": null,
   "id": "3fa38ce0",
   "metadata": {},
   "outputs": [],
   "source": [
    "def is_special_line(line):\n",
    "    return line.strip().startswith('*** ')\n",
    "\n",
    "def clean_file(input_file, output_file):\n",
    "    reader = open(input_file, encoding='utf-8')\n",
    "    writer = open(output_file, 'w')\n",
    "\n",
    "    for line in reader:\n",
    "        if is_special_line(line):\n",
    "            break\n",
    "\n",
    "    for line in reader:\n",
    "        if is_special_line(line):\n",
    "            break\n",
    "        writer.write(line)\n",
    "        \n",
    "    reader.close()\n",
    "    writer.close()\n",
    "\n",
    "filename = 'dr_jekyll.txt'\n",
    "clean_file('pg43.txt', filename)"
   ]
  },
  {
   "cell_type": "markdown",
   "id": "61755033",
   "metadata": {},
   "source": [
    "Nou pral itilize yon bouk `for` pou li liy yo desde fichye a ak `split` pou separe liy yo an mo.\n",
    "Apre sa, pou kenbe tras mo inik yo, nou pral sere chak mo kòm kle nan yon diksyonè."
   ]
  },
  {
   "cell_type": "code",
   "execution_count": null,
   "id": "555d5ad5",
   "metadata": {},
   "outputs": [],
   "source": [
    "unique_words = {}\n",
    "for line in open(filename):\n",
    "    seq = line.split()\n",
    "    for word in seq:\n",
    "        unique_words[word] = 1\n",
    "\n",
    "len(unique_words)"
   ]
  },
  {
   "cell_type": "markdown",
   "id": "8a651bf2",
   "metadata": {},
   "source": [
    "Longè diksyonè a se kantite mo inik — anviwon `6000` selon fason nou konte.\n",
    "Men si nou enspekte yo, nou pral wè ke kèk pa mo valab.\n",
    "\n",
    "Pa egzanp, ann gade mo ki pi long nan `unique_words`.\n",
    "Nou ka itilize `sorted` pou triye mo yo, pase fonksyon `len` kòm agiman mo kle (keyword argument) pou mo yo triye pa longè."
   ]
  },
  {
   "cell_type": "code",
   "execution_count": null,
   "id": "bf08fc99",
   "metadata": {
    "lines_to_next_cell": 1
   },
   "outputs": [],
   "source": [
    "sorted(unique_words, key=len)[-5:]"
   ]
  },
  {
   "cell_type": "markdown",
   "id": "5e4102ff",
   "metadata": {},
   "source": [
    "Indèks `[-5:]` chwazi 5 dènye eleman lis triye a, ki se mo ki pi long yo.\n",
    "\n",
    "Lis la gen mo lejitiman long, tankou \"circumscription\", ak kèk mo ak tirè, tankou \"chocolate-coloured\".\n",
    "Men kèk mo ki pi long la se de mo separe pa yon tirè.\n",
    "E gen lòt mo ki gen ponktiyasyon tankou pwen, pwen esklamasyon, ak mak sitasyon.\n",
    "\n",
    "Donk, anvan nou kontinye, ann jere tirè ak lòt ponktiyasyon."
   ]
  },
  {
   "cell_type": "markdown",
   "id": "fd630fa6",
   "metadata": {},
   "source": [
    "## Ponktiyasyon\n",
    "\n",
    "Pou idantifye mo nan tèks la, nou dwe jere de pwoblèm:\n",
    "\n",
    "* Lè gen yon tirè nan yon liy, nou ta dwe ranplase l ak yon espas — apre sa, lè nou itilize `split`, mo yo va separe.\n",
    "\n",
    "* Apre nou separe mo yo, nou ka itilize `strip` pou retire ponktiyasyon.\n",
    "\n",
    "Pou rezoud premye pwoblèm lan, nou ka itilize fonksyon sa a, ki pran yon chèn, ranplase tirè pa espas, separe chèn lan, epi retounen lis rezilta a."
   ]
  },
  {
   "cell_type": "code",
   "execution_count": null,
   "id": "d71aa7e2",
   "metadata": {
    "lines_to_next_cell": 1
   },
   "outputs": [],
   "source": [
    "def split_line(line):\n",
    "    return line.replace('—', ' ').split()"
   ]
  },
  {
   "cell_type": "markdown",
   "id": "c58d3e7e",
   "metadata": {},
   "source": [
    "Remake `split_line` sèlman ranplase tirè, pa tirè debaz (hyphen).\n",
    "Men yon egzanp."
   ]
  },
  {
   "cell_type": "code",
   "execution_count": null,
   "id": "475582f5",
   "metadata": {},
   "outputs": [],
   "source": [
    "split_line('coolness—frightened')"
   ]
  },
  {
   "cell_type": "markdown",
   "id": "c4710164",
   "metadata": {},
   "source": [
    "Kounye a, pou retire ponktiyasyon depi kòmansman ak fen chak mo, nou ka itilize `strip`, men nou bezwen yon lis karaktè ki konsidere kòm ponktiyasyon.\n",
    "\n",
    "Karaktè nan chèn Python yo an Unicode, ki se yon estanda entènasyonal pou repwezante lèt (preske) chak alfabè, nimewo, senbòl, siy ponktiyasyon, elatriye.\n",
    "Modil `unicodedata` bay yon fonksyon `category` nou ka itilize pou konnen ki karaktè ki ponktiyasyon.\n",
    "Lè nou bay li yon lèt, li retounen yon chèn ak enfòmasyon sou sa lèt la ye."
   ]
  },
  {
   "cell_type": "code",
   "execution_count": null,
   "id": "4f111359",
   "metadata": {},
   "outputs": [],
   "source": [
    "import unicodedata\n",
    "unicodedata.category('A')"
   ]
  },
  {
   "cell_type": "markdown",
   "id": "7ccfb53f",
   "metadata": {},
   "source": [
    "Chèn kategori `'A'` se `'Lu'` — `'L'` vle di li se yon lèt ak `'u'` vle di li se majiskil.\n",
    "\n",
    "Chèn kategori `'.'` se `'Po'` — `'P'` vle di li se ponktiyasyon ak `'o'` vle di sous-kategori \"other\"."
   ]
  },
  {
   "cell_type": "code",
   "execution_count": null,
   "id": "c973b3c3",
   "metadata": {},
   "outputs": [],
   "source": [
    "unicodedata.category('.')"
   ]
  },
  {
   "cell_type": "markdown",
   "id": "566e2c26",
   "metadata": {},
   "source": [
    "Nou ka jwenn ponktiyasyon ki gen nan liv la pa tcheke karaktè ki gen kategori ki kòmanse ak `'P'`.\n",
    "Bouk sa a sere mak ponktiyasyon inik yo nan yon diksyonè."
   ]
  },
  {
   "cell_type": "code",
   "execution_count": null,
   "id": "10e5743b",
   "metadata": {},
   "outputs": [],
   "source": [
    "punc_marks = {}\n",
    "for line in open(filename):\n",
    "    for char in line:\n",
    "        category = unicodedata.category(char)\n",
    "        if category.startswith('P'):\n",
    "            punc_marks[char] = 1"
   ]
  },
  {
   "cell_type": "markdown",
   "id": "6413a4f4",
   "metadata": {},
   "source": [
    "Pou fè yon lis ponktiyasyon, nou ka reyini kle diksyonè a an yon chèn."
   ]
  },
  {
   "cell_type": "code",
   "execution_count": null,
   "id": "fd6dad7b",
   "metadata": {
    "lines_to_next_cell": 1
   },
   "outputs": [],
   "source": [
    "punctuation = ''.join(punc_marks)\n",
    "print(punctuation)"
   ]
  },
  {
   "cell_type": "markdown",
   "id": "9b988134",
   "metadata": {},
   "source": [
    "Kounye a nou konnen ki karaktè nan liv la ki ponktiyasyon, nou ka ekri yon fonksyon ki pran yon mo, retire ponktiyasyon soti nan kòmansman ak fen, epi konvèti li an miniskil."
   ]
  },
  {
   "cell_type": "code",
   "execution_count": null,
   "id": "19bd6a3f",
   "metadata": {
    "lines_to_next_cell": 1
   },
   "outputs": [],
   "source": [
    "def clean_word(word):\n",
    "    return word.strip(punctuation).lower()"
   ]
  },
  {
   "cell_type": "markdown",
   "id": "895ec206",
   "metadata": {},
   "source": [
    "Men yon egzanp."
   ]
  },
  {
   "cell_type": "code",
   "execution_count": null,
   "id": "10e2e614",
   "metadata": {},
   "outputs": [],
   "source": [
    "clean_word('“Behold!”')"
   ]
  },
  {
   "cell_type": "markdown",
   "id": "50c9a8fa",
   "metadata": {},
   "source": [
    "Paske `strip` retire karaktè soti nan kòmansman ak fen, li pa touche mo ki gen tirè anndan, li kite yo menm jan an."
   ]
  },
  {
   "cell_type": "code",
   "execution_count": null,
   "id": "70343ab7",
   "metadata": {},
   "outputs": [],
   "source": [
    "clean_word('pocket-handkerchief')"
   ]
  },
  {
   "cell_type": "markdown",
   "id": "3d639609",
   "metadata": {},
   "source": [
    "Kounye a men yon bouk ki itilize `split_line` ak `clean_word` pou idantifye mo inik nan liv la."
   ]
  },
  {
   "cell_type": "code",
   "execution_count": null,
   "id": "e756b52e",
   "metadata": {},
   "outputs": [],
   "source": [
    "unique_words2 = {}\n",
    "for line in open(filename):\n",
    "    for word in split_line(line):\n",
    "        word = clean_word(word)\n",
    "        unique_words2[word] = 1\n",
    "\n",
    "len(unique_words2)"
   ]
  },
  {
   "cell_type": "markdown",
   "id": "59da905a",
   "metadata": {},
   "source": [
    "Ak definisyon sa a ki pi strik de sa ki yon mo ye, gen anviwon 4000 mo inik.\n",
    "E nou ka konfime ke lis mo ki pi long la pi pwòp."
   ]
  },
  {
   "cell_type": "code",
   "execution_count": null,
   "id": "31375f36",
   "metadata": {},
   "outputs": [],
   "source": [
    "sorted(unique_words2, key=len)[-5:]"
   ]
  },
  {
   "cell_type": "markdown",
   "id": "2fe53ab2",
   "metadata": {},
   "source": [
    "Kounye a ann wè konbyen fwa chak mo itilize."
   ]
  },
  {
   "cell_type": "markdown",
   "id": "e1b8b417",
   "metadata": {},
   "source": [
    "## Frekans mo\n",
    "\n",
    "Bouk sa a kalkile frekans chak mo inik."
   ]
  },
  {
   "cell_type": "code",
   "execution_count": null,
   "id": "2c17d2f3",
   "metadata": {
    "lines_to_next_cell": 1
   },
   "outputs": [],
   "source": [
    "word_counter = {}\n",
    "for line in open(filename):\n",
    "    for word in split_line(line):\n",
    "        word = clean_word(word)\n",
    "        if word not in word_counter:\n",
    "            word_counter[word] = 1\n",
    "        else:\n",
    "            word_counter[word] += 1"
   ]
  },
  {
   "cell_type": "markdown",
   "id": "dd98c264",
   "metadata": {},
   "source": [
    "Premye fwa nou wè yon mo, nou inisyalize frekans li a `1`. Si nou wè menm mo ankò, nou inkremante frekans la.\n",
    "\n",
    "Pou wè ki mo parèt pi souvan, nou ka itilize `items` pou jwenn pè kle-valè soti nan `word_counter`, epi triye yo pa dezyèm eleman pè a, ki se frekans la.\n",
    "Nou pral defini yon fonksyon ki chwazi dezyèm eleman an."
   ]
  },
  {
   "cell_type": "code",
   "execution_count": null,
   "id": "956de9f8",
   "metadata": {
    "lines_to_next_cell": 1
   },
   "outputs": [],
   "source": [
    "def second_element(t):\n",
    "    return t[1]"
   ]
  },
  {
   "cell_type": "markdown",
   "id": "a79a22ac",
   "metadata": {},
   "source": [
    "Kounye a nou ka itilize `sorted` ak de paramèt mo kle:\n",
    "\n",
    "* `key=second_element` vle di eleman yo ap triye selon frekans mo yo.\n",
    "\n",
    "* `reverse=True` vle di eleman yo ap triye an lòd desandan, ak mo ki pi souvan parèt an premye."
   ]
  },
  {
   "cell_type": "code",
   "execution_count": null,
   "id": "456e9caf",
   "metadata": {},
   "outputs": [],
   "source": [
    "items = sorted(word_counter.items(), key=second_element, reverse=True)"
   ]
  },
  {
   "cell_type": "markdown",
   "id": "585f2e63",
   "metadata": {},
   "source": [
    "Men senk mo ki pi souvan parèt."
   ]
  },
  {
   "cell_type": "code",
   "execution_count": null,
   "id": "24152398",
   "metadata": {},
   "outputs": [],
   "source": [
    "for word, freq in items[:5]:\n",
    "    print(freq, word, sep='\\t')"
   ]
  },
  {
   "cell_type": "markdown",
   "id": "8c2f65df",
   "metadata": {},
   "source": [
    "Nan seksyon pwochen, nou pral enkapsile bouk sa a an yon fonksyon.\n",
    "E nou pral itilize li pou demontre yon nouvo karakteristik — paramèt opsyonèl."
   ]
  },
  {
   "cell_type": "markdown",
   "id": "71fc17f5",
   "metadata": {},
   "source": [
    "## Paramèt opsyonèl\n",
    "\n",
    "Nou te itilize fonksyon bati-an ki pran paramèt opsyonèl.\n",
    "Pa egzanp, `round` pran yon paramèt opsyonèl `ndigits` ki endike konbyen chif desimal pou kenbe."
   ]
  },
  {
   "cell_type": "code",
   "execution_count": null,
   "id": "9f2ff524",
   "metadata": {
    "lines_to_next_cell": 1
   },
   "outputs": [],
   "source": [
    "round(3.141592653589793, ndigits=3)"
   ]
  },
  {
   "cell_type": "markdown",
   "id": "55e0793e",
   "metadata": {},
   "source": [
    "Men se pa sèlman fonksyon bati-an — nou ka ekri fonksyon ak paramèt opsyonèl tou.\n",
    "Pa egzanp, fonksyon sa a pran de paramèt, `word_counter` ak `num`."
   ]
  },
  {
   "cell_type": "code",
   "execution_count": null,
   "id": "032f0d38",
   "metadata": {
    "lines_to_next_cell": 1
   },
   "outputs": [],
   "source": [
    "def print_most_common(word_counter, num=5):\n",
    "    items = sorted(word_counter.items(), key=second_element, reverse=True)\n",
    "\n",
    "    for word, freq in items[:num]:\n",
    "        print(freq, word, sep='\\t')"
   ]
  },
  {
   "cell_type": "markdown",
   "id": "cd7c6cb8",
   "metadata": {},
   "source": [
    "Dezyèm paramèt la sanble ak yon afektasyon, men se pa afektasyon — se yon paramèt opsyonèl.\n",
    "\n",
    "Si ou rele fonksyon sa a ak yon agiman, `num` resevwa **valè defo** a, ki se `5`."
   ]
  },
  {
   "cell_type": "code",
   "execution_count": null,
   "id": "a3ecbb3e",
   "metadata": {},
   "outputs": [],
   "source": [
    "print_most_common(word_counter)"
   ]
  },
  {
   "cell_type": "markdown",
   "id": "4e3ebaa8",
   "metadata": {},
   "source": [
    "Si ou rele fonksyon an ak de agiman, dezyèm agiman an asiyen a `num` olye de valè defo a."
   ]
  },
  {
   "cell_type": "code",
   "execution_count": null,
   "id": "94f573ad",
   "metadata": {},
   "outputs": [],
   "source": [
    "print_most_common(word_counter, 3)"
   ]
  },
  {
   "cell_type": "markdown",
   "id": "23c704a5",
   "metadata": {},
   "source": [
    "Nan ka sa a, nou ta di agiman opsyonèl la **override** valè defo a.\n",
    "\n",
    "Si yon fonksyon gen paramèt obligatwa ak opsyonèl, tout paramèt obligatwa yo dwe vini anvan, apre sa paramèt opsyonèl yo."
   ]
  },
  {
   "cell_type": "code",
   "execution_count": null,
   "id": "3c6a50b8",
   "metadata": {
    "lines_to_next_cell": 1
   },
   "outputs": [],
   "source": [
    "%%expect SyntaxError\n",
    "\n",
    "def bad_function(n=5, word_counter):\n",
    "    return None"
   ]
  },
  {
   "cell_type": "markdown",
   "id": "ac57a913",
   "metadata": {},
   "source": [
    "## Soustraksyon diksyonè\n",
    "\n",
    "Imajine nou vle tcheke òtograf liv la — sa vle di, jwenn lis mo ki ka mal ekri.\n",
    "Youn fason pou fè sa se jwenn mo nan liv la ki pa parèt nan yon lis mo valab.\n",
    "Nan chapit anvan yo, nou te itilize yon lis mo ki konsidere valab pou jwèt mo tankou Scrabble.\n",
    "Kounye a nou pral itilize lis sa a pou tcheke òtograf Robert Louis Stevenson.\n",
    "\n",
    "Nou ka konsidere pwoblèm sa a kòm soustraksyon ansanbl — sa vle di, nou vle jwenn tout mo soti nan yon ansanbl (mo yo nan liv la) ki pa nan lòt la (mo yo nan lis la)."
   ]
  },
  {
   "cell_type": "markdown",
   "id": "b54619be",
   "metadata": {},
   "source": [
    "Selil sa a telechaje lis mo yo."
   ]
  },
  {
   "cell_type": "code",
   "execution_count": null,
   "id": "3b88d037",
   "metadata": {},
   "outputs": [],
   "source": [
    "download('https://raw.githubusercontent.com/AllenDowney/ThinkPython/v3/words.txt');"
   ]
  },
  {
   "cell_type": "markdown",
   "id": "7ebd9c42",
   "metadata": {},
   "source": [
    "Menm jan anvan, nou ka li kontni `words.txt` ak separe li an yon lis chèn."
   ]
  },
  {
   "cell_type": "code",
   "execution_count": null,
   "id": "931d0000",
   "metadata": {},
   "outputs": [],
   "source": [
    "word_list = open('words.txt').read().split()"
   ]
  },
  {
   "cell_type": "markdown",
   "id": "b6c7de70",
   "metadata": {},
   "source": [
    "Apre sa, nou pral sere mo yo kòm kle nan yon diksyonè pou nou ka itilize operatè `in` pou tcheke vit si yon mo valab."
   ]
  },
  {
   "cell_type": "code",
   "execution_count": null,
   "id": "bb83989c",
   "metadata": {
    "lines_to_next_cell": 1
   },
   "outputs": [],
   "source": [
    "valid_words = {}\n",
    "for word in word_list:\n",
    "    valid_words[word] = 1"
   ]
  },
  {
   "cell_type": "markdown",
   "id": "e3eb86fa",
   "metadata": {},
   "source": [
    "Kounye a, pou idantifye mo ki parèt nan liv la men pa nan lis mo a, nou pral itilize `subtract`, ki pran de diksyonè kòm paramèt epi retounen yon nouvo diksyonè ki gen tout kle soti nan premye a ki pa nan dezyèm lan."
   ]
  },
  {
   "cell_type": "code",
   "execution_count": null,
   "id": "e022cbcb",
   "metadata": {
    "lines_to_next_cell": 1
   },
   "outputs": [],
   "source": [
    "def subtract(d1, d2):\n",
    "    res = {}\n",
    "    for key in d1:\n",
    "        if key not in d2:\n",
    "            res[key] = d1[key]\n",
    "    return res"
   ]
  },
  {
   "cell_type": "code",
   "execution_count": null,
   "id": "4c05dc94",
   "metadata": {},
   "outputs": [],
   "source": [
    "diff = subtract(word_counter, valid_words)"
   ]
  },
  {
   "cell_type": "markdown",
   "id": "a9f9fe09",
   "metadata": {},
   "source": [
    "Pou jwenn kèk mo ki ka mal ekri, nou ka enprime mo ki pi komen nan `diff`."
   ]
  },
  {
   "cell_type": "code",
   "execution_count": null,
   "id": "3bfb869d",
   "metadata": {},
   "outputs": [],
   "source": [
    "print_most_common(diff)"
   ]
  },
  {
   "cell_type": "markdown",
   "id": "1066a619",
   "metadata": {},
   "source": [
    "Mo ki pi komen \"mal ekri\" yo se pi fò non prop ak kèk mo yon sèl lèt (Mr. Utterson se zanmi ak avoka Dr. Jekyll).\n",
    "\n",
    "Si nou chwazi mo ki parèt sèlman yon fwa, yo pi gen chans mo ki vrèman mal ekri.\n",
    "Nou ka fè sa lè nou boukle sou eleman yo epi fè yon lis mo ki gen frekans `1`."
   ]
  },
  {
   "cell_type": "code",
   "execution_count": null,
   "id": "a84132e2",
   "metadata": {},
   "outputs": [],
   "source": [
    "singletons = []\n",
    "for word, freq in diff.items():\n",
    "    if freq == 1:\n",
    "        singletons.append(word)"
   ]
  },
  {
   "cell_type": "markdown",
   "id": "5f4d4710",
   "metadata": {},
   "source": [
    "Men kèk dènye eleman nan lis la."
   ]
  },
  {
   "cell_type": "code",
   "execution_count": null,
   "id": "c4dd254a",
   "metadata": {},
   "outputs": [],
   "source": [
    "singletons[-5:]"
   ]
  },
  {
   "cell_type": "markdown",
   "id": "12a18d80",
   "metadata": {},
   "source": [
    "Pifò ladan yo se mo valab ki pa nan lis mo a.\n",
    "Men `'reindue'` parèt kòm yon fòt `reinduce`, kidonk nou jwenn omwen yon erè lejitim."
   ]
  },
  {
   "cell_type": "markdown",
   "id": "ad100a6e",
   "metadata": {},
   "source": [
    "## Nimewo o aza\n",
    "\n",
    "Kòm yon etap pou generasyon tèks Markov, kounye a nou pral chwazi yon sekans mo o aza soti nan `word_counter`.\n",
    "Men anvan ann pale de o aza.\n",
    "\n",
    "Bay menm antre yo, pifò pwogram konpitè yo **detèministik**, sa vle di yo pwodui menm rezilta chak fwa.\n",
    "Detèminis anjeneral bon bagay, paske nou atann menm kalkil bay menm rezilta.\n",
    "Pou kèk aplikasyon, sepandan, nou vle pwogram lan enprezib.\n",
    "Jwèt se youn egzanp, men gen plis.\n",
    "\n",
    "Fè yon pwogram vrèman nondetèministik difisil, men gen fason pou imite li.\n",
    "Youn se itilize algoritm ki pwodui nimewo **pseudorandom**.\n",
    "Nimewo pseudorandom pa vrèman o aza paske yo pwodui pa yon kalkil detèministik, men jis pa gade nimewo yo, li difisil pou fè diferans ak o aza.\n",
    "\n",
    "Modil `random` bay fonksyon ki pwodui nimewo pseudorandom — ki nou pral rele \"o aza\" pou fasilite.\n",
    "Nou ka enpòte li konsa."
   ]
  },
  {
   "cell_type": "code",
   "execution_count": null,
   "id": "2cd3b112",
   "metadata": {},
   "outputs": [],
   "source": [
    "import random"
   ]
  },
  {
   "cell_type": "code",
   "execution_count": null,
   "id": "7f11491c",
   "metadata": {},
   "outputs": [],
   "source": [
    "# selil sa a inisyalize générateur nimewo o aza a pou li \n",
    "# pwodui menm sekans chak fwa notebook lan kouri.\n",
    "\n",
    "random.seed(4)"
   ]
  },
  {
   "cell_type": "markdown",
   "id": "0e666fc3",
   "metadata": {},
   "source": [
    "Modil `random` bay yon fonksyon `choice` ki chwazi yon eleman soti nan yon lis o aza, ak menm pwobabilite pou chak eleman chwazi."
   ]
  },
  {
   "cell_type": "code",
   "execution_count": null,
   "id": "6959e461",
   "metadata": {},
   "outputs": [],
   "source": [
    "t = [1, 2, 3]\n",
    "random.choice(t)"
   ]
  },
  {
   "cell_type": "markdown",
   "id": "67caed08",
   "metadata": {},
   "source": [
    "Si ou rele fonksyon an ankò, ou ka jwenn menm eleman an ankò, oswa yon lòt eleman."
   ]
  },
  {
   "cell_type": "code",
   "execution_count": null,
   "id": "f9a8af06",
   "metadata": {},
   "outputs": [],
   "source": [
    "random.choice(t)"
   ]
  },
  {
   "cell_type": "markdown",
   "id": "7d047a9a",
   "metadata": {},
   "source": [
    "Alafen, nou atann jwenn chak eleman apeprè menm kantite fwa.\n",
    "\n",
    "Si ou itilize `choice` ak yon diksyonè, ou jwenn `KeyError`."
   ]
  },
  {
   "cell_type": "code",
   "execution_count": null,
   "id": "9d27edfe",
   "metadata": {},
   "outputs": [],
   "source": [
    "%%expect KeyError\n",
    "\n",
    "random.choice(word_counter)"
   ]
  },
  {
   "cell_type": "markdown",
   "id": "ab19470f",
   "metadata": {},
   "source": [
    "Pou chwazi yon kle o aza, ou dwe mete kle yo nan yon lis epi apre sa rele `choice`."
   ]
  },
  {
   "cell_type": "code",
   "execution_count": null,
   "id": "31968daf",
   "metadata": {},
   "outputs": [],
   "source": [
    "words = list(word_counter)\n",
    "random.choice(words)"
   ]
  },
  {
   "cell_type": "markdown",
   "id": "0753a362",
   "metadata": {},
   "source": [
    "Si nou pwodui yon sekans mo o aza, li pa fè anpil sans."
   ]
  },
  {
   "cell_type": "code",
   "execution_count": null,
   "id": "29642fd1",
   "metadata": {},
   "outputs": [],
   "source": [
    "for i in range(6):\n",
    "    word = random.choice(words)\n",
    "    print(word, end=' ')"
   ]
  },
  {
   "cell_type": "markdown",
   "id": "b4299713",
   "metadata": {},
   "source": [
    "Pati pwoblèm lan se ke nou pa pran an kont ke gen mo ki pi komen pase lòt.\n",
    "Rezilta yo ap pi bon si nou chwazi mo ak \"weights\" diferan, konsa kèk mo chwazi pi souvan pase lòt.\n",
    "\n",
    "Si nou itilize valè `word_counter` kòm pwa, chak mo chwazi ak yon pwobabilite ki depann de frekans li."
   ]
  },
  {
   "cell_type": "code",
   "execution_count": null,
   "id": "48b3b19a",
   "metadata": {},
   "outputs": [],
   "source": [
    "weights = word_counter.values()"
   ]
  },
  {
   "cell_type": "markdown",
   "id": "53e1b940",
   "metadata": {},
   "source": [
    "Modil `random` bay yon lòt fonksyon `choices` ki pran pwa kòm paramèt opsyonèl."
   ]
  },
  {
   "cell_type": "code",
   "execution_count": null,
   "id": "2f675d55",
   "metadata": {},
   "outputs": [],
   "source": [
    "random.choices(words, weights=weights)"
   ]
  },
  {
   "cell_type": "markdown",
   "id": "15bf325d",
   "metadata": {},
   "source": [
    "E li pran yon lòt paramèt opsyonèl, `k`, ki presize konbyen mo pou chwazi."
   ]
  },
  {
   "cell_type": "code",
   "execution_count": null,
   "id": "22f911c7",
   "metadata": {},
   "outputs": [],
   "source": [
    "random_words = random.choices(words, weights=weights, k=6)\n",
    "random_words"
   ]
  },
  {
   "cell_type": "markdown",
   "id": "1a3bc8b5",
   "metadata": {},
   "source": [
    "Rezilta a se yon lis chèn nou ka reyini an yon bagay ki sanble plis ak yon fraz."
   ]
  },
  {
   "cell_type": "code",
   "execution_count": null,
   "id": "8151ff25",
   "metadata": {},
   "outputs": [],
   "source": [
    "' '.join(random_words)"
   ]
  },
  {
   "cell_type": "markdown",
   "id": "c3888ceb",
   "metadata": {},
   "source": [
    "Si ou chwazi mo soti nan liv la o aza, ou jwenn yon sans de vokabilè a, men yon seri mo o aza raman fè sans paske pa gen relasyon ant mo k ap vini youn apre lòt.\n",
    "Pa egzanp, nan yon fraz reyèl ou atann yon atikil tankou \"the\" suiv pa yon adjectif oswa non, pa vre pa vèb oswa adverbe.\n",
    "Donk pwochen etap la se gade relasyon ant mo ki vin youn apre lòt."
   ]
  },
  {
   "cell_type": "markdown",
   "id": "d420ec4a",
   "metadata": {},
   "source": [
    "## Bigram\n",
    "\n",
    "Olye nou gade yon mo a la fwa, kounye a nou pral gade sekans de mo, rele **bigram**.\n",
    "Yon sekans twa mo rele **trigram**, epi yon sekans ki gen yon kantite mo pa presize rele **n-gram**.\n",
    "\n",
    "Ann ekri yon pwogram ki jwenn tout bigram nan liv la ak konbyen fwa chak parèt.\n",
    "Pou sere rezilta yo, nou pral itilize yon diksyonè kote\n",
    "\n",
    "* Kle yo se tuples chèn ki reprezante bigram yo, ak \n",
    "\n",
    "* Valè yo se antye ki reprezante frekans.\n",
    "\n",
    "Ann rele li `bigram_counter`."
   ]
  },
  {
   "cell_type": "code",
   "execution_count": null,
   "id": "dca187ab",
   "metadata": {
    "lines_to_next_cell": 1
   },
   "outputs": [],
   "source": [
    "bigram_counter = {}"
   ]
  },
  {
   "cell_type": "markdown",
   "id": "d0da4a2f",
   "metadata": {},
   "source": [
    "Fonksyon sa a pran yon lis de chèn kòm paramèt.\n",
    "L ap fè yon tuple de de chèn sa yo, ki ka itilize kòm kle nan diksyonè.\n",
    "Apre sa, l ap ajoute kle a nan `bigram_counter` si li pa egziste, oswa inkremante frekans si li egziste."
   ]
  },
  {
   "cell_type": "code",
   "execution_count": null,
   "id": "26b76534",
   "metadata": {
    "lines_to_next_cell": 1
   },
   "outputs": [],
   "source": [
    "def count_bigram(bigram):\n",
    "    key = tuple(bigram)\n",
    "    if key not in bigram_counter:\n",
    "        bigram_counter[key] = 1\n",
    "    else:\n",
    "        bigram_counter[key] += 1"
   ]
  },
  {
   "cell_type": "markdown",
   "id": "9a555c40",
   "metadata": {},
   "source": [
    "Pandan nou pase nan liv la, nou dwe kenbe tras chak pè mo ki vin youn apre lòt.\n",
    "Kidonk, si nou wè sekans \"man is not truly one\", nou ta ajoute bigram \"man is\", \"is not\", \"not truly\", etsetera.\n",
    "\n",
    "Pou kenbe tras bigram sa yo, nou pral itilize yon lis `window`, paske li sanble ak yon fenèt k ap glise sou paj liv la, ki montre sèlman de mo a la fwa.\n",
    "Okòmansman, `window` vid."
   ]
  },
  {
   "cell_type": "code",
   "execution_count": null,
   "id": "d9e5efb9",
   "metadata": {
    "lines_to_next_cell": 1
   },
   "outputs": [],
   "source": [
    "window = []"
   ]
  },
  {
   "cell_type": "markdown",
   "id": "4569f45f",
   "metadata": {},
   "source": [
    "Nou pral itilize fonksyon sa a pou trete mo yo youn pa youn."
   ]
  },
  {
   "cell_type": "code",
   "execution_count": null,
   "id": "3dbcf747",
   "metadata": {
    "lines_to_next_cell": 1
   },
   "outputs": [],
   "source": [
    "def process_word(word):\n",
    "    window.append(word)\n",
    "    \n",
    "    if len(window) == 2:\n",
    "        count_bigram(window)\n",
    "        window.pop(0)"
   ]
  },
  {
   "cell_type": "markdown",
   "id": "6da29618",
   "metadata": {},
   "source": [
    "Premye fwa fonksyon sa a rele, li ajoute mo a bay `window`.\n",
    "Paske gen sèlman yon mo nan fenèt la, pa gen bigram ankò, fonksyon an fini.\n",
    "\n",
    "Dezyèm fwa li rele — epi chak fwa apre sa — li ajoute yon dezyèm mo nan `window`.\n",
    "Paske kounye a gen de mo, li rele `count_bigram` pou kenbe tras konbyen fwa chak bigram parèt.\n",
    "Apre sa li itilize `pop` pou retire premye mo a depi fenèt la.\n",
    "\n",
    "Pwogram ki anba a boukle sou mo nan liv la epi trete yo youn pa youn."
   ]
  },
  {
   "cell_type": "code",
   "execution_count": null,
   "id": "b98b1e12",
   "metadata": {},
   "outputs": [],
   "source": [
    "for line in open(filename):\n",
    "    for word in split_line(line):\n",
    "        word = clean_word(word)\n",
    "        process_word(word)"
   ]
  },
  {
   "cell_type": "markdown",
   "id": "1a5e5acd",
   "metadata": {},
   "source": [
    "Rezilta a se yon diksyonè ki map soti chak bigram jiska konbyen fwa li parèt.\n",
    "Nou ka itilize `print_most_common` pou wè bigram ki pi komen yo."
   ]
  },
  {
   "cell_type": "code",
   "execution_count": null,
   "id": "fa73ccdb",
   "metadata": {},
   "outputs": [],
   "source": [
    "print_most_common(bigram_counter)"
   ]
  },
  {
   "cell_type": "markdown",
   "id": "f20a53cf",
   "metadata": {},
   "source": [
    "Gade rezilta yo, nou ka jwenn sans de ki pè mo ki pi gen chans parèt ansanm.\n",
    "Nou ka tou itilize rezilta sa yo pou pwodui tèks o aza, konsa."
   ]
  },
  {
   "cell_type": "code",
   "execution_count": null,
   "id": "d576b2b4",
   "metadata": {},
   "outputs": [],
   "source": [
    "random.seed(0)\n",
    "bigrams = list(bigram_counter)\n",
    "weights = bigram_counter.values()\n",
    "random_bigrams = random.choices(bigrams, weights=weights, k=6)"
   ]
  },
  {
   "cell_type": "markdown",
   "id": "7f90dacf",
   "metadata": {},
   "source": [
    "`bigrams` se yon lis bigram ki parèt nan liv la.\n",
    "`weights` se lis frekans yo, donk `random_bigrams` se yon echantiyon kote pwobabilite chwazi yon bigram pwopòsyònèl ak frekans li. \n",
    "\n",
    "Men rezilta yo."
   ]
  },
  {
   "cell_type": "code",
   "execution_count": null,
   "id": "efb7839d",
   "metadata": {},
   "outputs": [],
   "source": [
    "for pair in random_bigrams:\n",
    "    print(' '.join(pair), end=' ')"
   ]
  },
  {
   "cell_type": "markdown",
   "id": "d7659533",
   "metadata": {},
   "source": [
    "Fason sa a pou pwodui tèks pi bon pase chwazi mo o aza, men li toujou pa fè anpil sans."
   ]
  },
  {
   "cell_type": "markdown",
   "id": "06890de0",
   "metadata": {},
   "source": [
    "## Analiz Markov\n",
    "\n",
    "Nou ka fè pi byen ak analiz tèks Markov, ki kalkile pou chak mo nan tèks la, lis mo ki ka swiv li.\n",
    "Kòm egzanp, nou pral analize lirik sa yo soti nan chan Monty Python \"Eric, the Half a Bee\":\n",
    "\n",
    "```\n",
    "Half a bee, philosophically,\n",
    "Must, ipso facto, half not be.\n",
    "But half the bee has got to be\n",
    "Vis a vis, its entity. D'you see?\n",
    "```\n",
    "\n",
    "Pou sere rezilta yo, nou pral itilize yon diksyonè ki map soti chak mo jiska lis mo ki swiv li."
   ]
  },
  {
   "cell_type": "code",
   "execution_count": null,
   "id": "2f2a867f",
   "metadata": {},
   "outputs": [],
   "source": [
    "successor_map = {}"
   ]
  },
  {
   "cell_type": "markdown",
   "id": "96599c1c",
   "metadata": {},
   "source": [
    "Kòm egzanp, ann kòmanse ak de premye mo yo nan chan an."
   ]
  },
  {
   "cell_type": "code",
   "execution_count": null,
   "id": "1e986b2a",
   "metadata": {},
   "outputs": [],
   "source": [
    "first = 'half'\n",
    "second = 'a'"
   ]
  },
  {
   "cell_type": "markdown",
   "id": "dae4d1f3",
   "metadata": {},
   "source": [
    "Si premye mo a pa nan `successor_map`, nou dwe ajoute yon nouvo eleman ki map soti premye mo a jiska yon lis ki gen dezyèm mo a."
   ]
  },
  {
   "cell_type": "code",
   "execution_count": null,
   "id": "a4568400",
   "metadata": {},
   "outputs": [],
   "source": [
    "successor_map[first] = [second]\n",
    "successor_map"
   ]
  },
  {
   "cell_type": "markdown",
   "id": "fbdf8bd6",
   "metadata": {},
   "source": [
    "Si premye mo a deja nan diksyonè a, nou ka fouye li pou jwenn lis siksesè nou te wè jusquaprezan, epi ajoute nouvo a."
   ]
  },
  {
   "cell_type": "code",
   "execution_count": null,
   "id": "d380a8d4",
   "metadata": {
    "lines_to_next_cell": 1
   },
   "outputs": [],
   "source": [
    "first = 'half'\n",
    "second = 'not'\n",
    "\n",
    "successor_map[first].append(second)\n",
    "successor_map"
   ]
  },
  {
   "cell_type": "markdown",
   "id": "07848b55",
   "metadata": {},
   "source": [
    "Fonksyon sa a encapsile etap sa yo."
   ]
  },
  {
   "cell_type": "code",
   "execution_count": null,
   "id": "15767811",
   "metadata": {
    "lines_to_next_cell": 1
   },
   "outputs": [],
   "source": [
    "def add_bigram(bigram):\n",
    "    first, second = bigram\n",
    "    \n",
    "    if first not in successor_map:\n",
    "        successor_map[first] = [second]\n",
    "    else:\n",
    "        successor_map[first].append(second)"
   ]
  },
  {
   "cell_type": "markdown",
   "id": "313f3cdc",
   "metadata": {},
   "source": [
    "Si menm bigram parèt plis pase yon fwa, dezyèm mo a ajoute plis pase yon fwa nan lis la.\n",
    "Konsa, `successor_map` kenbe tras konbyen fwa chak siksesè parèt.\n",
    "\n",
    "Kòm nou te fè seksyon anvan, nou pral itilize yon lis `window` pou stoke pè mo konsekitif.\n",
    "E nou pral itilize fonksyon sa a pou trete mo yo youn pa youn."
   ]
  },
  {
   "cell_type": "code",
   "execution_count": null,
   "id": "b940a5ec",
   "metadata": {
    "lines_to_next_cell": 1
   },
   "outputs": [],
   "source": [
    "def process_word_bigram(word):\n",
    "    window.append(word)\n",
    "    \n",
    "    if len(window) == 2:\n",
    "        add_bigram(window)\n",
    "        window.pop(0)"
   ]
  },
  {
   "cell_type": "markdown",
   "id": "830cbd51",
   "metadata": {},
   "source": [
    "Men ki jan nou itilize li pou trete mo yo nan chan an."
   ]
  },
  {
   "cell_type": "code",
   "execution_count": null,
   "id": "e8aa5ef0",
   "metadata": {},
   "outputs": [],
   "source": [
    "successor_map = {}\n",
    "window = []\n",
    "\n",
    "song = \"\"\"\n",
    "Half a bee, philosophically,\n",
    "Must, ipso facto, half not be.\n",
    "But half the bee has got to be\n",
    "Vis a vis, its entity. D'you see?\n",
    "\"\"\"\n",
    "\n",
    "for word in song.split():\n",
    "    word = clean_word(word)\n",
    "    process_word_bigram(word)"
   ]
  },
  {
   "cell_type": "markdown",
   "id": "11a00ed1",
   "metadata": {},
   "source": [
    "Men rezilta yo."
   ]
  },
  {
   "cell_type": "code",
   "execution_count": null,
   "id": "b204562e",
   "metadata": {},
   "outputs": [],
   "source": [
    "successor_map"
   ]
  },
  {
   "cell_type": "markdown",
   "id": "e2e12019",
   "metadata": {},
   "source": [
    "Mo `'half'` ka swiv pa `'a'`, `'not'`, oswa `'the'`.\n",
    "Mo `'a'` ka swiv pa `'bee'` oswa `'vis'`.\n",
    "Pifò lòt mo parèt sèlman yon fwa, kidonk yo swiv pa yon sèl mo.\n",
    "\n",
    "Kounye a ann analize liv la."
   ]
  },
  {
   "cell_type": "code",
   "execution_count": null,
   "id": "96b14a87",
   "metadata": {
    "lines_to_next_cell": 1
   },
   "outputs": [],
   "source": [
    "successor_map = {}\n",
    "window = []\n",
    "\n",
    "for line in open(filename):\n",
    "    for word in split_line(line):\n",
    "        word = clean_word(word)\n",
    "        process_word_bigram(word)"
   ]
  },
  {
   "cell_type": "markdown",
   "id": "2fb41a0e",
   "metadata": {},
   "source": [
    "Nou ka fouye nenpòt mo epi jwenn mo ki ka swiv li."
   ]
  },
  {
   "cell_type": "code",
   "execution_count": null,
   "id": "37fb8d54",
   "metadata": {},
   "outputs": [],
   "source": [
    "# M te itilize selil sa a pou jwenn yon predesesè ki gen bon kantite\n",
    "# siksesè posib ak omwen yon mo ki repete.\n",
    "\n",
    "def has_duplicates(t):\n",
    "    return len(set(t)) < len(t)\n",
    "\n",
    "for key, value in successor_map.items():\n",
    "    if len(value) == 7 and has_duplicates(value):\n",
    "        print(key, value)"
   ]
  },
  {
   "cell_type": "code",
   "execution_count": null,
   "id": "d83979c4",
   "metadata": {},
   "outputs": [],
   "source": [
    "successor_map['going']"
   ]
  },
  {
   "cell_type": "markdown",
   "id": "766885b8",
   "metadata": {},
   "source": [
    "Nan lis siksesè sa a, remake mo `'to'` parèt twa fwa — lòt siksesè yo parèt sèlman yon fwa."
   ]
  },
  {
   "cell_type": "markdown",
   "id": "d2c87133",
   "metadata": {},
   "source": [
    "## Pwodui tèks\n",
    "\n",
    "Nou ka itilize rezilta seksyon anvan an pou pwodui nouvo tèks ak menm relasyon ant mo konsekitif ak nan orijinal la.\n",
    "Men ki jan li mache:\n",
    "\n",
    "* Kòmanse ak nenpòt mo ki parèt nan tèks la, nou fouye lis siksesè posib li yo epi chwazi youn o aza.\n",
    "\n",
    "* Apre sa, ak mo chwazi a, nou fouye lis siksesè posib li yo, epi chwazi youn o aza.\n",
    "\n",
    "Nou ka repete pwosesis sa a pou pwodui konbyen mo nou vle.\n",
    "Men kòm egzanp, ann kòmanse ak mo `'although'`.\n",
    "Men mo ki ka swiv li."
   ]
  },
  {
   "cell_type": "code",
   "execution_count": null,
   "id": "4f39d21c",
   "metadata": {},
   "outputs": [],
   "source": [
    "word = 'although'\n",
    "successors = successor_map[word]\n",
    "successors"
   ]
  },
  {
   "cell_type": "code",
   "execution_count": null,
   "id": "ad304466",
   "metadata": {},
   "outputs": [],
   "source": [
    "random.seed(2)"
   ]
  },
  {
   "cell_type": "markdown",
   "id": "d6633149",
   "metadata": {},
   "source": [
    "Nou ka itilize `choice` pou chwazi nan lis la ak pwobabilite egal."
   ]
  },
  {
   "cell_type": "code",
   "execution_count": null,
   "id": "c363c539",
   "metadata": {},
   "outputs": [],
   "source": [
    "word = random.choice(successors)\n",
    "word"
   ]
  },
  {
   "cell_type": "markdown",
   "id": "79418a58",
   "metadata": {},
   "source": [
    "Si menm mo a parèt plis pase yon fwa nan lis la, li gen plis chans chwazi.\n",
    "\n",
    "Reprann etap sa yo, nou ka itilize bouk sa a pou pwodui yon sekans ki pi long."
   ]
  },
  {
   "cell_type": "code",
   "execution_count": null,
   "id": "fd57b232",
   "metadata": {},
   "outputs": [],
   "source": [
    "for i in range(10):\n",
    "    successors = successor_map[word]\n",
    "    word = random.choice(successors)\n",
    "    print(word, end=' ')"
   ]
  },
  {
   "cell_type": "markdown",
   "id": "833e784c",
   "metadata": {},
   "source": [
    "Rezilta a sanble plis ak yon fraz, men li toujou pa fè anpil sans.\n",
    "\n",
    "Nou ka fè pi byen si nou itilize plis pase yon mo kòm kle nan `successor_map`.\n",
    "Pa egzanp, nou ka fè yon diksyonè ki map soti chak bigram — oswa trigram — jiska lis mo ki vini apre.\n",
    "Kòm egzèsis, ou ap gen chans aplike analiz sa a epi wè ki rezilta li bay."
   ]
  },
  {
   "cell_type": "markdown",
   "id": "ff9fa6f5",
   "metadata": {},
   "source": [
    "## Debògaj\n",
    "\n",
    "Kounye a nou ap ekri pwogram pi gwo, epi ou ka remake ou pase plis tan ap debòge.\n",
    "Si ou bloke sou yon erè difisil, men kèk bagay pou eseye:\n",
    "\n",
    "* Li: Egzamine kòd ou, li l redi ou menm, epi tcheke si li di sa ou te vle di.\n",
    "\n",
    "* Kouri: Eksperimante lè ou fè chanjman ak kouri vèsyon diferan. Souvan si ou montre bagay la kote li nesesè nan pwogram nan, pwoblèm lan vin evidan, men pafwa ou dwe konstwi eskafora.\n",
    "\n",
    "* Reflechi: Pran tan panse! Ki kalite erè li ye: sentaks, execisyon,\n",
    "    oswa semantik? Ki enfòmasyon ou ka jwenn soti nan mesaj erè yo,\n",
    "    oswa soti nan pwodiksyon pwogram lan? Ki kalite erè ki te ka lakòz\n",
    "    pwoblèm ou wè a? Kisa ou te chanje dènye a, anvan\n",
    "    pwoblèm lan parèt?\n",
    "\n",
    "* Rubberducking: Si ou eksplike pwoblèm lan bay yon lòt moun, pafwa ou jwenn\n",
    "    repons lan anvan ou fini poze kesyon an. Souvan ou pa bezwen\n",
    "    lòt moun; ou ka jis pale ak yon kannar kawotchou. Se konsa estrateji\n",
    "    **rubber duck debugging** la rele. M pa envante sa — gade\n",
    "    <https://en.wikipedia.org/wiki/Rubber_duck_debugging>.\n",
    "\n",
    "* Retrete: A yon moman, pi bon bagay la se rekile — defè chanjman\n",
    "    resan yo — jiskaske ou retounen sou yon pwogram k ap mache. Apre sa ou ka rikonstwi.\n",
    "    \n",
    "* Repoze: Si ou bay sèvo ou yon poz, pafwa li ap jwenn pwoblèm lan pou ou.\n",
    "\n",
    "Kòmanse pwogramè pafwa ret blòke sou youn nan aktivite sa yo epi bliye lòt yo. Chak aktivite gen pwòp fason li ka echwe.\n",
    "\n",
    "Pa egzanp, li kòd ou ap mache si pwoblèm lan se yon erè tipografik, men pa si pwoblèm lan se yon enkonpreyansyon konseptyèl.\n",
    "Si ou pa konprann sa pwogram ou fè, ou ka li l 100 fwa epi pa janm wè erè a, paske erè a nan tèt ou.\n",
    "\n",
    "Kouri eksperyans ka mache, espesyalman si ou kouri ti tès senp.\n",
    "Men si ou kouri eksperyans san panse oswa li kòd ou, sa ka pran anpil tan pou w konprann sa k pase.\n",
    "\n",
    "Ou dwe pran tan panse. Debòge sanble ak yon syans eksperimental. Ou ta dwe gen omwen yon ipotèz sou sa pwoblèm lan ye. Si gen de oswa plis posiblite, eseye panse a yon tès ki ta elimine youn.\n",
    "\n",
    "Menm pi bon teknik debògaj yo ap echwe si gen twòp\n",
    "erè, oswa si kòd ou ap eseye ranje a twò gwo ak konplike.\n",
    "Pafwa pi bon opsyon an se retrete, senplifye pwogram lan jiskaske\n",
    "ou retounen sou yon bagay ki mache.\n",
    "\n",
    "Kòmanse pwogramè souvan ezite retrete paske yo pa\n",
    "ka sipòte efase yon liy kòd (menmsi li mal). Si sa fè w\n",
    "santi w miyò, kopye pwogram ou an yon lòt fichye anvan ou kòmanse\n",
    "retire bagay. Apre sa ou ka kopye moso yo tounen youn pa youn.\n",
    "\n",
    "Jwenn yon erè difisil mande li, kouri, reflechi, retrete, epi pafwa repoze.\n",
    "Si ou bloke sou youn nan aktivite sa yo, eseye lòt yo."
   ]
  },
  {
   "cell_type": "markdown",
   "id": "fac8a490",
   "metadata": {},
   "source": [
    "## Glosè\n",
    "\n",
    "**default value (valè defo):**\n",
    "Valè asiyen a yon paramèt si pa gen agiman bay.\n",
    "\n",
    "**override (override):**\n",
    " Ranplase valè defo ak yon agiman.\n",
    "\n",
    "**deterministic (detèministik):**\n",
    " Yon pwogram detèministik fè menm bagay chak fwa li kouri, bay menm antre.\n",
    "\n",
    "**pseudorandom (pseudorandom):**\n",
    " Yon sekans nimewo pseudorandom sanble o aza, men pwodui pa yon pwogram detèministik.\n",
    "\n",
    "**bigram:**\n",
    "Yon sekans de eleman, souvan mo.\n",
    "\n",
    "**trigram:**\n",
    "Yon sekans twa eleman.\n",
    "\n",
    "**n-gram:**\n",
    "Yon sekans ki gen yon kantite eleman pa detèmine.\n",
    "\n",
    "**rubber duck debugging:**\n",
    "Yon fason debòge lè ou eksplike pwoblèm lan fò aloud bay yon objè inanime."
   ]
  },
  {
   "cell_type": "markdown",
   "id": "a2e6833f",
   "metadata": {},
   "source": [
    "## Egzèsis"
   ]
  },
  {
   "cell_type": "code",
   "execution_count": null,
   "id": "ab18b06d",
   "metadata": {
    "lines_to_next_cell": 1
   },
   "outputs": [],
   "source": [
    "# Liy sa a di Jupyter pou bay enfòmasyon detaye sou debògaj\n",
    "# lè gen yon erè execisyon. Kouri li anvan ou travay sou egzèsis yo.\n",
    "\n",
    "%xmode Verbose"
   ]
  },
  {
   "cell_type": "markdown",
   "id": "56da1356",
   "metadata": {},
   "source": [
    "### Mande yon asistan vityèl\n",
    "\n",
    "Nan `add_bigram`, enstriksyon `if` la kreye yon nouvo lis oswa ajoute yon eleman nan yon lis ki egziste deja, selon si kle a deja nan diksyonè a."
   ]
  },
  {
   "cell_type": "code",
   "execution_count": null,
   "id": "6e314b3e",
   "metadata": {
    "lines_to_next_cell": 1
   },
   "outputs": [],
   "source": [
    "def add_bigram(bigram):\n",
    "    first, second = bigram\n",
    "    \n",
    "    if first not in successor_map:\n",
    "        successor_map[first] = [second]\n",
    "    else:\n",
    "        successor_map[first].append(second)"
   ]
  },
  {
   "cell_type": "markdown",
   "id": "34538b72",
   "metadata": {},
   "source": [
    "Diksyonè bay yon metòd `setdefault` nou ka itilize pou fè menm bagay la pi kout.\n",
    "Mande yon asistan vityèl ki jan li mache, oswa kopye `add_word` bay yon asistan vityèl epi mande \"Ou ka reekri sa a itilize `setdefault`?\"\n",
    "\n",
    "Nan chapit sa a nou te aplike analiz tèks Markov ak generasyon.\n",
    "Si ou curye, ou ka mande asistan vityèl plis enfòmasyon sou sijè a.\n",
    "Youn nan bagay ou ka aprann se ke asistan vityèl itilize algoritm ki sanble anpil — men tou diferan sou pwen enpòtan.\n",
    "Mande yon AV, \"Ki diferans ki gen ant modèl langaj gwo tankou GPT ak analiz tèks Markov?\""
   ]
  },
  {
   "cell_type": "markdown",
   "id": "28121e23",
   "metadata": {},
   "source": [
    "### Egzèsis\n",
    "\n",
    "Ekri yon fonksyon ki konte konbyen fwa chak trigram (sekans twa mo) parèt. \n",
    "Si ou teste fonksyon ou ak tèks *Dr. Jekyll and Mr. Hyde*, ou ta dwe jwenn ke trigram ki pi komen se \"said the lawyer\".\n",
    "\n",
    "Sijesyon: Ekri yon fonksyon ki rele `count_trigram` ki sanble ak `count_bigram`. Apre sa ekri yon fonksyon `process_word_trigram` ki sanble ak `process_word_bigram`."
   ]
  },
  {
   "cell_type": "code",
   "execution_count": null,
   "id": "ae4e0f3d",
   "metadata": {},
   "outputs": [],
   "source": [
    "# Solisyon pral mete la"
   ]
  },
  {
   "cell_type": "code",
   "execution_count": null,
   "id": "f46c8fee",
   "metadata": {},
   "outputs": [],
   "source": [
    "# Solisyon pral mete la"
   ]
  },
  {
   "cell_type": "markdown",
   "id": "75a8b413",
   "metadata": {},
   "source": [
    "Ou ka itilize bouk sa a pou li liv la epi trete mo yo."
   ]
  },
  {
   "cell_type": "code",
   "execution_count": null,
   "id": "615daa37",
   "metadata": {},
   "outputs": [],
   "source": [
    "trigram_counter = {}\n",
    "window = []\n",
    "\n",
    "for line in open(filename):\n",
    "    for word in split_line(line):\n",
    "        word = clean_word(word)\n",
    "        process_word_trigram(word)"
   ]
  },
  {
   "cell_type": "markdown",
   "id": "4078e914",
   "metadata": {},
   "source": [
    "Apre sa itilize `print_most_common` pou jwenn trigram ki pi komen yo nan liv la."
   ]
  },
  {
   "cell_type": "code",
   "execution_count": null,
   "id": "0a5fe2be",
   "metadata": {
    "lines_to_next_cell": 1
   },
   "outputs": [],
   "source": [
    "print_most_common(trigram_counter)"
   ]
  },
  {
   "cell_type": "markdown",
   "id": "29ca0683",
   "metadata": {},
   "source": [
    "### Egzèsis\n",
    "\n",
    "Kounye a ann aplike analiz tèks Markov ak yon mapping ki soti nan chak bigram jiska lis siksesè posib.\n",
    "\n",
    "Kòmanse ak `add_bigram`, ekri yon fonksyon ki rele `add_trigram` ki pran yon lis twa mo epi swa ajoute oswa mete ajou yon eleman nan `successor_map`, itilize de premye mo yo kòm kle ak twazyèm mo a kòm siksesè posib."
   ]
  },
  {
   "cell_type": "code",
   "execution_count": null,
   "id": "ae12d1a4",
   "metadata": {},
   "outputs": [],
   "source": [
    "# Solisyon pral mete la"
   ]
  },
  {
   "cell_type": "markdown",
   "id": "bd9699fb",
   "metadata": {},
   "source": [
    "Men yon vèsyon `process_word_trigram` ki rele `add_trigram`."
   ]
  },
  {
   "cell_type": "code",
   "execution_count": null,
   "id": "c9c8ef1f",
   "metadata": {
    "lines_to_next_cell": 1
   },
   "outputs": [],
   "source": [
    "def process_word_trigram(word):\n",
    "    window.append(word)\n",
    "    \n",
    "    if len(window) == 3:\n",
    "        add_trigram(window)\n",
    "        window.pop(0)"
   ]
  },
  {
   "cell_type": "markdown",
   "id": "c4e9c7ef",
   "metadata": {},
   "source": [
    "Ou ka itilize bouk sa a pou teste fonksyon ou ak lirik \"Eric, the Half a Bee\"."
   ]
  },
  {
   "cell_type": "code",
   "execution_count": null,
   "id": "b8656342",
   "metadata": {},
   "outputs": [],
   "source": [
    "successor_map = {}\n",
    "window = []\n",
    "\n",
    "for string in song.split():\n",
    "    word = string.strip(punctuation).lower()\n",
    "    process_word_trigram(word)"
   ]
  },
  {
   "cell_type": "markdown",
   "id": "25473a3b",
   "metadata": {},
   "source": [
    "Si fonksyon ou mache byen, predesesè `('half', 'a')` ta dwe map jiska yon lis ki gen yon sèl eleman `'bee'`.\n",
    "An reyalite, jan sa rive, chak bigram nan chan sa a parèt sèlman yon fwa, kidonk tout valè yo nan `successor_map` gen yon sèl eleman."
   ]
  },
  {
   "cell_type": "code",
   "execution_count": null,
   "id": "e968b378",
   "metadata": {},
   "outputs": [],
   "source": [
    "successor_map"
   ]
  },
  {
   "cell_type": "markdown",
   "id": "79091ea5",
   "metadata": {},
   "source": [
    "Ou ka itilize bouk sa a pou teste fonksyon ou ak mo yo soti nan liv la."
   ]
  },
  {
   "cell_type": "code",
   "execution_count": null,
   "id": "f85404fc",
   "metadata": {},
   "outputs": [],
   "source": [
    "successor_map = {}\n",
    "window = []\n",
    "\n",
    "for line in open(filename):\n",
    "    for word in split_line(line):\n",
    "        word = clean_word(word)\n",
    "        process_word_trigram(word)"
   ]
  },
  {
   "cell_type": "markdown",
   "id": "f4dda6f4",
   "metadata": {},
   "source": [
    "Nan egzèsis kap vini an, ou pral itilize rezilta yo pou pwodui nouvo tèks o aza."
   ]
  },
  {
   "cell_type": "markdown",
   "id": "38acf212",
   "metadata": {},
   "source": [
    "### Egzèsis\n",
    "\n",
    "Pou egzèsis sa a, nou pral sipoze `successor_map` se yon diksyonè ki map soti chak bigram jiska lis mo ki swiv li."
   ]
  },
  {
   "cell_type": "code",
   "execution_count": null,
   "id": "bcad3bb4",
   "metadata": {},
   "outputs": [],
   "source": [
    "# selil sa a inisyalize générateur nimewo o aza a pou li \n",
    "# kòmanse menm kote chak fwa notebook sa a kouri.\n",
    "\n",
    "random.seed(3)"
   ]
  },
  {
   "cell_type": "markdown",
   "id": "8f168284",
   "metadata": {},
   "source": [
    "Pou pwodui tèks o aza, nou pral kòmanse pa chwazi yon kle o aza soti nan `successor_map`."
   ]
  },
  {
   "cell_type": "code",
   "execution_count": null,
   "id": "c1a7f3cb",
   "metadata": {},
   "outputs": [],
   "source": [
    "successors = list(successor_map)\n",
    "bigram = random.choice(successors)\n",
    "bigram"
   ]
  },
  {
   "cell_type": "markdown",
   "id": "935e17fb",
   "metadata": {},
   "source": [
    "Kounye a ekri yon bouk ki pwodui 50 mo an plis, swiv etap sa yo:\n",
    "\n",
    "1. Nan `successor_map`, fouye lis mo ki ka swiv `bigram`.\n",
    "\n",
    "2. Chwazi youn pa aza epi enprime li.\n",
    "\n",
    "3. Pou pwochen iterasyon an, fè yon nouvo bigram ki gen dezyèm mo `bigram` la ak siksesè nou chwazi a.\n",
    "\n",
    "Pa egzanp, si nou kòmanse ak bigram `('doubted', 'if')` epi chwazi `'from'` kòm siksesè li, pwochen bigram la se `('if', 'from')`."
   ]
  },
  {
   "cell_type": "code",
   "execution_count": null,
   "id": "b8911d35",
   "metadata": {},
   "outputs": [],
   "source": [
    "# Solisyon pral mete la"
   ]
  },
  {
   "cell_type": "markdown",
   "id": "4e844894",
   "metadata": {},
   "source": [
    "Si tout bagay mache, ou ta dwe jwenn ke tèks generate a sanble ak style orijinal la, epi kèk fraz fè sans, men tèks la ka pase soti nan yon sijè a yon lòt.\n",
    "\n",
    "Kòm egzèsis an plis, modifye solisyon ou a de dènyè egzèsis yo pou itilize trigram kòm kle nan `successor_map`, epi gade ki efè sa a gen sou rezilta yo."
   ]
  },
  {
   "cell_type": "code",
   "execution_count": null,
   "id": "0c9d0961",
   "metadata": {},
   "outputs": [],
   "source": []
  }
 ],
 "metadata": {
  "jupytext": {
   "cell_metadata_filter": "-all",
   "main_language": "python",
   "notebook_metadata_filter": "-all"
  },
  "language_info": {
   "name": "python"
  }
 },
 "nbformat": 4,
 "nbformat_minor": 5
}
