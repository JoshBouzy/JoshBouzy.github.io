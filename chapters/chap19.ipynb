{
 "cells": [
  {
   "cell_type": "markdown",
   "id": "43959efd",
   "metadata": {},
   "source": [
    "Ou ka kòmande vèsyon enprime ak ebook *Think Python 3e* soti nan\n",
    "[Bookshop.org](https://bookshop.org/a/98697/9781098155438) ak\n",
    "[Amazon](https://www.amazon.com/_/dp/1098155432?smid=ATVPDKIKX0DER&_encoding=UTF8&tag=oreilly20-20&_encoding=UTF8&tag=greenteapre01-20&linkCode=ur2&linkId=e2a529f94920295d27ec8a06e757dc7c&camp=1789&creative=9325)."
   ]
  },
  {
   "cell_type": "markdown",
   "id": "19e5bff3",
   "metadata": {},
   "source": [
    "# Dènye refleksyon"
   ]
  },
  {
   "cell_type": "markdown",
   "id": "60a94790",
   "metadata": {},
   "source": [
    "Aprann pwogramasyon pa fasil, men si ou rive jiska la, ou deja byen demare.\n",
    "Kounye a mwen gen kèk sijesyon sou fason ou ka kontinye aprann epi aplike sa ou te aprann.\n",
    "\n",
    "Liv sa a se pou bay yon introduksyon jeneral sou pwogramasyon, donk nou pa konsantre sou aplikasyon espesifik.\n",
    "Dapre sa ou enterese, gen anpil domèn kote ou ka aplike nouvo konpetans ou.\n",
    "\n",
    "Si ou enterese nan Data Science, gen twa liv mwen ou ka renmen:\n",
    "\n",
    "* *Think Stats: Exploratory Data Analysis*, O'Reilly Media, 2014.\n",
    "\n",
    "* *Think Bayes: Bayesian Statistics in Python*, O'Reilly Media, 2021.\n",
    "\n",
    "* *Think DSP: Digital Signal Processing in Python*, O'Reilly Media, 2016."
   ]
  },
  {
   "cell_type": "markdown",
   "id": "433352ef",
   "metadata": {},
   "source": [
    "Si ou enterese nan modèl fizik ak sistèm konplèks, ou ka renmen:\n",
    "\n",
    "* *Modeling and Simulation in Python: An Introduction for Scientists and Engineers*, No Starch Press, 2023.\n",
    "\n",
    "* *Think Complexity: Complexity Science and Computational Modeling*, O'Reilly Media, 2018.\n",
    "\n",
    "Liv sa yo itilize NumPy, SciPy, pandas, ak lòt bibliyotèk Python pou data science ak konputasyon syantifik."
   ]
  },
  {
   "cell_type": "markdown",
   "id": "fb387d0e",
   "metadata": {},
   "source": [
    "Liv sa a eseye jwenn ekilib ant prensip jeneral pwogramasyon ak detay Python.\n",
    "Kòm rezilta, li pa kouvri tout karakteristik langaj Python.\n",
    "Pou plis sou Python, ak bon konsèy sou fason pou itilize li, mwen rekòmande *Fluent Python: Clear, Concise, and Effective Programming*, dezyèm edisyon pa Luciano Ramalho, O'Reilly Media, 2022.\n",
    "\n",
    "Apre yon introduksyon pwogramasyon, yon pwochen etap komen se aprann sou estrikti done ak algoritm.\n",
    "Mwen gen yon travay an pwogrè sou sijè sa a, ki rele *Data Structures and Information Retrieval in Python*.\n",
    "Ou ka jwenn yon vèsyon elektwonik gratis depi Green Tea Press sou <https://greenteapress.com>."
   ]
  },
  {
   "cell_type": "markdown",
   "id": "b3a00c14",
   "metadata": {},
   "source": [
    "Pandan ou ap travay sou pwogram pi konplike, ou pral rankontre nouvo defi.\n",
    "Ou ta ka jwenn li itil pou repase seksyon nan liv sa a ki sou débogaj.\n",
    "An patikilye, sonje Six R's of debugging soti nan [Chapit 12](section_debugging_12): reading (li), running (kouri), ruminating (reflechi), rubber-ducking (eksplike a yon \"kannak\" imajinè), retreating (fè bak), ak resting (repoze ou).\n",
    "\n",
    "Liv sa a sijere zouti pou ede ak débogaj, ki enkli fonksyon `print` ak `repr`, fonksyon `structshape` nan [Chapit 11](section_debugging_11) -- ak fonksyon bati-an `isinstance`, `hasattr`, ak `vars` nan [Chapit 14](section_debugging_14)."
   ]
  },
  {
   "cell_type": "markdown",
   "id": "7958d76b",
   "metadata": {},
   "source": [
    "Li tou sijere zouti pou teste pwogram, ki enkli enstriksyon `assert`, modil `doctest`, ak modil `unittest`.\n",
    "Mete tès anndan pwogram ou se youn nan pi bon fason pou anpeche ak detekte erè, epi ekonomize tan débogaj.\n",
    "\n",
    "Men pi bon kalite débogaj la se sa ou pa oblije fè.\n",
    "Si ou itilize yon pwosesis devlopman enkrèmantal jan sa dekri nan [Chapit 6](section_incremental) — epi teste pandan ou ap avanse — ou pral fè mwens erè epi jwenn yo pi vit lè ou fè.\n",
    "Epitou, sonje enkapsilasyon ak jeneralizasyon soti nan [Chapit 4](section_encapsulation), ki itil anpil lè ou ap devlope kod anndan notebook Jupyter."
   ]
  },
  {
   "cell_type": "markdown",
   "id": "f077fd87",
   "metadata": {},
   "source": [
    "Pandan liv la, mwen te sijere fason pou itilize asistan vityèl pou ede ou aprann, pwogram, ak débogaj.\n",
    "Mwen espere ou jwenn zouti sa yo itil.\n",
    "\n",
    "Anplis asistan vityèl tankou ChatGPT, ou ta ka vle itilize yon zouti tankou Copilot ki komplet kod ou pandan w ap tape.\n",
    "Mwen pa te rekòmande itilize zouti sa yo anvan paske yo ka twòp pou débutan.\n",
    "Men kounye a ou ka eseye yo.\n",
    "\n",
    "Itilize zouti AI efektivman mande kèk eksperyans ak refleksyon pou jwenn yon \"flow\" ki mache pou ou.\n",
    "Si ou panse se souvan fatigan pou kopye kod soti ChatGPT pou ale Jupyter, ou ka prefere Copilot.\n",
    "Men travay kognitif ou fè pou konpoze prompt la ak entèprete repons lan ka gen menm valè ak kod zouti a pwodui, menm jan ak \"rubber duck debugging\"."
   ]
  },
  {
   "cell_type": "markdown",
   "id": "e52a3859",
   "metadata": {},
   "source": [
    "Pandan ou ap pran eksperyans nan pwogram, ou ka vle eksplore lòt anviwònman devlopman.\n",
    "Mwen panse notebook Jupyter se yon bon kote pou kòmanse, men yo relativman nouvo e pa osi lajman itilize kòm anviwònman devlopman entegre (IDE) konvansyonèl.\n",
    "Pou Python, IDE ki pi popilè gen PyCharm ak Spyder — ak Thonny, ki souvan rekòmande pou débutan.\n",
    "Lòt IDE, tankou Visual Studio Code ak Eclipse, mache tou ak lòt langaj pwogramasyon.\n",
    "Ou ka tou, kòm altènativ ki pi senp, ekri pwogram Python ak nenpòt editè tèks ou vle.\n",
    "\n",
    "Pandan ou ap kontinye vwayaj pwogramasyon ou, ou pa oblije ale pou kont ou!\n",
    "Si ou ap viv andedan oswa toupre yon vil, gen gwo chans gen yon gwoup itilizatè Python ou ka rantre ladan.\n",
    "Gwoup sa yo anjeneral akeyi débutan, donk pa pè.\n",
    "Si pa gen gwoup toupre ou, ou ka rantre nan evènman a distans.\n",
    "Epitou, kenbe je ou sou konferans rejyonal Python."
   ]
  },
  {
   "cell_type": "markdown",
   "id": "be1fa983",
   "metadata": {},
   "source": [
    "Youn nan pi bon fason pou amelyore konpetans pwogramasyon ou se aprann yon lòt langaj.\n",
    "Si ou enterese nan estatistik ak data science, ou ka vle aprann R.\n",
    "Men mwen espesyalman rekòmande aprann yon langaj fonksyonèl tankou Racket oswa Elixir.\n",
    "Pwogramasyon fonksyonèl mande yon lòt fason panse, sa ki chanje fason ou panse sou pwogram.\n",
    "\n",
    "Bòn chans!"
   ]
  }
 ],
 "metadata": {
  "jupytext": {
   "cell_metadata_filter": "-all",
   "main_language": "python",
   "notebook_metadata_filter": "-all"
  },
  "language_info": {
   "name": "python"
  }
 },
 "nbformat": 4,
 "nbformat_minor": 5
}
