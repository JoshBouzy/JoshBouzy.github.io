{
 "cells": [
  {
   "cell_type": "markdown",
   "id": "f9d9b65d",
   "metadata": {},
   "source": [
    "Ou ka kòmande vèsyon enprime ak liv elektwonik *Think Python 3e* soti nan\n",
    "[Bookshop.org](https://bookshop.org/a/98697/9781098155438) ak\n",
    "[Amazon](https://www.amazon.com/_/dp/1098155432?smid=ATVPDKIKX0DER&_encoding=UTF8&tag=oreilly20-20&_encoding=UTF8&tag=greenteapre01-20&linkCode=ur2&linkId=e2a529f94920295d27ec8a06e757dc7c&camp=1789&creative=9325)."
   ]
  },
  {
   "cell_type": "code",
   "execution_count": 1,
   "id": "c8a26688",
   "metadata": {},
   "outputs": [],
   "source": [
    "from os.path import basename, exists\n",
    "\n",
    "def download(url):\n",
    "    filename = basename(url)\n",
    "    if not exists(filename):\n",
    "        from urllib.request import urlretrieve\n",
    "\n",
    "        local, _ = urlretrieve(url, filename)\n",
    "        print(\"Telechaje \" + str(local))\n",
    "    return filename\n",
    "\n",
    "download('https://github.com/AllenDowney/ThinkPython/raw/v3/thinkpython.py');\n",
    "download('https://github.com/AllenDowney/ThinkPython/raw/v3/diagram.py');\n",
    "download('https://github.com/ramalho/jupyturtle/releases/download/2024-03/jupyturtle.py');\n",
    "\n",
    "import thinkpython"
   ]
  },
  {
   "cell_type": "markdown",
   "id": "fae127ab",
   "metadata": {},
   "source": [
    "# Kondisyonèl ak Rekirsyon (recursion)\n",
    "\n",
    "Sijè prensipal chapit sa a se enstriksyon `if`, ki egzekite kòd diferan selon eta pwogram lan.\n",
    "Avèk enstriksyon `if` la, n ap kapab eksplore youn nan pi pwisan lide nan enfòmatik, **rekirsyon** (recursion).\n",
    "\n",
    "Men n ap kòmanse ak twa karakteristik nouvo: operatè modilè, ekspresyon boulèn, ak operatè lojik."
   ]
  },
  {
   "cell_type": "markdown",
   "id": "17e782bb",
   "metadata": {},
   "source": [
    "## Divizyon antye ak modil\n",
    "\n",
    "Sonje ke operatè divizyon antye `//` la divize de nimewo epi l bese rezilta a pou li bay yon antye.\n",
    "Pa egzanp, imajine dire yon fim se 105 minit.\n",
    "Ou ka vle konnen konbyen tan sa fè an èdtan.\n",
    "Divizyon konvansyonèl retounen yon nimewo fòmat floan:"
   ]
  },
  {
   "cell_type": "code",
   "execution_count": 2,
   "id": "2ba1e3a6",
   "metadata": {},
   "outputs": [
    {
     "data": {
      "text/plain": [
       "1.75"
      ]
     },
     "execution_count": 2,
     "metadata": {},
     "output_type": "execute_result"
    }
   ],
   "source": [
    "minutes = 105\n",
    "minutes / 60"
   ]
  },
  {
   "cell_type": "markdown",
   "id": "52d7e4e8",
   "metadata": {},
   "source": [
    "Men nou pa abitye ekri èdtan ak pwen desimal.\n",
    "Divizyon antye retounen kantite èdtan an antye, epitou li bese li desann:"
   ]
  },
  {
   "cell_type": "code",
   "execution_count": 3,
   "id": "7d84c9f4",
   "metadata": {},
   "outputs": [
    {
     "data": {
      "text/plain": [
       "1"
      ]
     },
     "execution_count": 3,
     "metadata": {},
     "output_type": "execute_result"
    }
   ],
   "source": [
    "minutes = 105\n",
    "hours = minutes // 60\n",
    "hours"
   ]
  },
  {
   "cell_type": "markdown",
   "id": "d0794089",
   "metadata": {},
   "source": [
    "Pou jwenn rès la, ou te ka retire yon èdtan an minit:"
   ]
  },
  {
   "cell_type": "code",
   "execution_count": 4,
   "id": "706d64a9",
   "metadata": {},
   "outputs": [
    {
     "data": {
      "text/plain": [
       "45"
      ]
     },
     "execution_count": 4,
     "metadata": {},
     "output_type": "execute_result"
    }
   ],
   "source": [
    "remainder = minutes - hours * 60\n",
    "remainder"
   ]
  },
  {
   "cell_type": "markdown",
   "id": "cedcd3e1",
   "metadata": {},
   "source": [
    "Oubyen ou te ka itilize **operatè modilè** `%`, ki divize de nimewo epi retounen rès la."
   ]
  },
  {
   "cell_type": "code",
   "execution_count": 5,
   "id": "57503305",
   "metadata": {},
   "outputs": [
    {
     "data": {
      "text/plain": [
       "45"
      ]
     },
     "execution_count": 5,
     "metadata": {},
     "output_type": "execute_result"
    }
   ],
   "source": [
    "remainder = minutes % 60\n",
    "remainder"
   ]
  },
  {
   "cell_type": "markdown",
   "id": "aa087f64",
   "metadata": {},
   "source": [
    "Operatè modilè a pi itil pase sa li parèt.\n",
    "Pa egzanp, li ka tcheke si yon nimewo divizib pa yon lòt — si `x % y` egal zewo, sa vle di `x` divizib pa `y`.\n",
    "\n",
    "Epitou, li ka retire dènye chif (oswa dènye chif yo) soti nan yon nimewo.\n",
    "Pa egzanp, `x % 10` bay dènye chif `x` la (an baz 10).\n",
    "Menm jan an, `x % 100` bay dènye de chif yo."
   ]
  },
  {
   "cell_type": "code",
   "execution_count": 6,
   "id": "6cc667ad",
   "metadata": {},
   "outputs": [
    {
     "data": {
      "text/plain": [
       "3"
      ]
     },
     "execution_count": 6,
     "metadata": {},
     "output_type": "execute_result"
    }
   ],
   "source": [
    "x = 123\n",
    "x % 10"
   ]
  },
  {
   "cell_type": "code",
   "execution_count": 7,
   "id": "c69ee8bc",
   "metadata": {},
   "outputs": [
    {
     "data": {
      "text/plain": [
       "23"
      ]
     },
     "execution_count": 7,
     "metadata": {},
     "output_type": "execute_result"
    }
   ],
   "source": [
    "x % 100"
   ]
  },
  {
   "cell_type": "markdown",
   "id": "f8a443f2",
   "metadata": {},
   "source": [
    "Finalman, operatè modilè a ka fè \"aritmetik revèy\".\n",
    "Pa egzanp, si yon evènman kòmanse a 11 AM epi dire twa èdtan, nou ka itilize operatè modilè a pou konnen ki lè l fini."
   ]
  },
  {
   "cell_type": "code",
   "execution_count": 8,
   "id": "6cc4476a",
   "metadata": {},
   "outputs": [
    {
     "data": {
      "text/plain": [
       "2"
      ]
     },
     "execution_count": 8,
     "metadata": {},
     "output_type": "execute_result"
    }
   ],
   "source": [
    "start = 11\n",
    "duration = 3\n",
    "end = (start + duration) % 12\n",
    "end"
   ]
  },
  {
   "cell_type": "markdown",
   "id": "9af6e6dd",
   "metadata": {},
   "source": [
    "Evènman an ta fini a 2 PM."
   ]
  },
  {
   "cell_type": "markdown",
   "id": "f4106d91",
   "metadata": {},
   "source": [
    "## Ekspresyon boulèn\n",
    "\n",
    "Yon **ekspresyon boulèn** se yon ekspresyon ki swa vre (True) oswa fo (False).\n",
    "Pa egzanp, ekspresyon sa yo sèvi ak operatè egal `==`, ki konpare de valè epi bay `True` si yo egal oswa `False` si yo pa egal:"
   ]
  },
  {
   "cell_type": "code",
   "execution_count": 9,
   "id": "d51cc8b7",
   "metadata": {},
   "outputs": [
    {
     "data": {
      "text/plain": [
       "True"
      ]
     },
     "execution_count": 9,
     "metadata": {},
     "output_type": "execute_result"
    }
   ],
   "source": [
    "5 == 5"
   ]
  },
  {
   "cell_type": "code",
   "execution_count": 10,
   "id": "222a0185",
   "metadata": {},
   "outputs": [
    {
     "data": {
      "text/plain": [
       "False"
      ]
     },
     "execution_count": 10,
     "metadata": {},
     "output_type": "execute_result"
    }
   ],
   "source": [
    "5 == 7"
   ]
  },
  {
   "cell_type": "markdown",
   "id": "f9bd19b8",
   "metadata": {},
   "source": [
    "Yon erè komen se itilize yon sèl siyen egal (`=`) olye de de siyen egal (`==`).\n",
    "Sonje ke `=` afekte yon valè a yon varyab epi `==` konpare de valè."
   ]
  },
  {
   "cell_type": "code",
   "execution_count": 11,
   "id": "b481b1c7",
   "metadata": {},
   "outputs": [],
   "source": [
    "x = 5\n",
    "y = 7"
   ]
  },
  {
   "cell_type": "code",
   "execution_count": 12,
   "id": "aebd0ce2",
   "metadata": {},
   "outputs": [
    {
     "data": {
      "text/plain": [
       "False"
      ]
     },
     "execution_count": 12,
     "metadata": {},
     "output_type": "execute_result"
    }
   ],
   "source": [
    "x == y"
   ]
  },
  {
   "cell_type": "markdown",
   "id": "e4504df7",
   "metadata": {},
   "source": [
    "`True` ak `False` se valè espesyal ki fè pati tip `bool`;\n",
    "yo pa kòd string:"
   ]
  },
  {
   "cell_type": "code",
   "execution_count": 13,
   "id": "6a5cbce8",
   "metadata": {},
   "outputs": [
    {
     "data": {
      "text/plain": [
       "bool"
      ]
     },
     "execution_count": 13,
     "metadata": {},
     "output_type": "execute_result"
    }
   ],
   "source": [
    "type(True)"
   ]
  },
  {
   "cell_type": "code",
   "execution_count": 14,
   "id": "90e37401",
   "metadata": {},
   "outputs": [
    {
     "data": {
      "text/plain": [
       "bool"
      ]
     },
     "execution_count": 14,
     "metadata": {},
     "output_type": "execute_result"
    }
   ],
   "source": [
    "type(False)"
   ]
  },
  {
   "cell_type": "markdown",
   "id": "8b41fa96",
   "metadata": {},
   "source": [
    "Operatè `==` la se youn nan **operatè relasyonèl yo**; lòt yo se:"
   ]
  },
  {
   "cell_type": "code",
   "execution_count": 15,
   "id": "b5a37803",
   "metadata": {},
   "outputs": [
    {
     "data": {
      "text/plain": [
       "True"
      ]
     },
     "execution_count": 15,
     "metadata": {},
     "output_type": "execute_result"
    }
   ],
   "source": [
    "x != y               # x pa egal a y"
   ]
  },
  {
   "cell_type": "code",
   "execution_count": 16,
   "id": "9dbe87e3",
   "metadata": {},
   "outputs": [
    {
     "data": {
      "text/plain": [
       "False"
      ]
     },
     "execution_count": 16,
     "metadata": {},
     "output_type": "execute_result"
    }
   ],
   "source": [
    "x > y                # x pi gran pase y"
   ]
  },
  {
   "cell_type": "code",
   "execution_count": 17,
   "id": "f7095b43",
   "metadata": {},
   "outputs": [
    {
     "data": {
      "text/plain": [
       "True"
      ]
     },
     "execution_count": 17,
     "metadata": {},
     "output_type": "execute_result"
    }
   ],
   "source": [
    "x < y               # x pi piti pase y"
   ]
  },
  {
   "cell_type": "code",
   "execution_count": 18,
   "id": "699474dd",
   "metadata": {},
   "outputs": [
    {
     "data": {
      "text/plain": [
       "False"
      ]
     },
     "execution_count": 18,
     "metadata": {},
     "output_type": "execute_result"
    }
   ],
   "source": [
    "x >= y               # x pi gran oswa egal a y"
   ]
  },
  {
   "cell_type": "code",
   "execution_count": 19,
   "id": "04e8dac8",
   "metadata": {},
   "outputs": [
    {
     "data": {
      "text/plain": [
       "True"
      ]
     },
     "execution_count": 19,
     "metadata": {},
     "output_type": "execute_result"
    }
   ],
   "source": [
    "x <= y               # x pi piti oswa egal a y"
   ]
  },
  {
   "cell_type": "markdown",
   "id": "23adfe2a",
   "metadata": {},
   "source": [
    "## Operatè lojik\n",
    "\n",
    "Pou konbine valè boulèn nan ekspresyon, nou ka itilize **operatè lojik**.\n",
    "Sa yo ki pi komen yo se `and`, `or`, ak `not`.\n",
    "Sans operatè sa yo sanble ak sans yo an kreyòl.\n",
    "Pa egzanp, valè ekspresyon sa a `True` sèlman si `x` pi gran pase `0` *epi* pi piti pase `10`:"
   ]
  },
  {
   "cell_type": "code",
   "execution_count": 20,
   "id": "a9d0c8c8",
   "metadata": {},
   "outputs": [
    {
     "data": {
      "text/plain": [
       "True"
      ]
     },
     "execution_count": 20,
     "metadata": {},
     "output_type": "execute_result"
    }
   ],
   "source": [
    "x > 0 and x < 10"
   ]
  },
  {
   "cell_type": "markdown",
   "id": "a958eea1",
   "metadata": {},
   "source": [
    "Ekspresyon sa a `True` si *yonn oswa toude* kondisyon yo vre, sa vle di si nimewo a divizib pa 2 *oswa* 3:"
   ]
  },
  {
   "cell_type": "code",
   "execution_count": 21,
   "id": "39e467ad",
   "metadata": {},
   "outputs": [
    {
     "data": {
      "text/plain": [
       "False"
      ]
     },
     "execution_count": 21,
     "metadata": {},
     "output_type": "execute_result"
    }
   ],
   "source": [
    "x % 2 == 0 or x % 3 == 0"
   ]
  },
  {
   "cell_type": "markdown",
   "id": "5d9f68ea",
   "metadata": {},
   "source": [
    "Finalman, operatè `not` la anile yon ekspresyon boulèn, kidonk ekspresyon sa a `True` si `x > y` se `False`."
   ]
  },
  {
   "cell_type": "code",
   "execution_count": 22,
   "id": "37483764",
   "metadata": {},
   "outputs": [
    {
     "data": {
      "text/plain": [
       "True"
      ]
     },
     "execution_count": 22,
     "metadata": {},
     "output_type": "execute_result"
    }
   ],
   "source": [
    "not x > y"
   ]
  },
  {
   "cell_type": "markdown",
   "id": "2d486702",
   "metadata": {},
   "source": [
    "Strikteman, operatè lojik yo ta dwe gen ekspresyon boulèn kòm operan, men Python pa twò strik.\n",
    "Nenpòt nimewo ki pa zewo entèprete kòm `True`:"
   ]
  },
  {
   "cell_type": "code",
   "execution_count": 23,
   "id": "8683c26d",
   "metadata": {},
   "outputs": [
    {
     "data": {
      "text/plain": [
       "True"
      ]
     },
     "execution_count": 23,
     "metadata": {},
     "output_type": "execute_result"
    }
   ],
   "source": [
    "42 and True"
   ]
  },
  {
   "cell_type": "markdown",
   "id": "d29b3722",
   "metadata": {},
   "source": [
    "Fasilite sa a ka itil, men li gen kèk subtisite ki ka konfize.\n",
    "Ou ka evite l si ou vle."
   ]
  },
  {
   "cell_type": "markdown",
   "id": "fa3eb2ab",
   "metadata": {},
   "source": [
    "## Enstriksyon if\n",
    "\n",
    "Pou nou ekri pwogram itil, nou prèske toujou bezwen kapasite pou\n",
    "tcheke kondisyon epi chanje konpòtman pwogram lan an konsekans.\n",
    "**Enstriksyon kondisyonèl** yo ban nou kapasite sa a. Fòm ki pi senp la se\n",
    "enstriksyon `if` la:"
   ]
  },
  {
   "cell_type": "code",
   "execution_count": 24,
   "id": "9dfda6f6",
   "metadata": {},
   "outputs": [
    {
     "name": "stdout",
     "output_type": "stream",
     "text": [
      "x se pozitif\n"
     ]
    }
   ],
   "source": [
    "if x > 0:\n",
    "    print('x se pozitif')"
   ]
  },
  {
   "cell_type": "markdown",
   "id": "125f3a06",
   "metadata": {},
   "source": [
    "`if` se yon mo kle Python.\n",
    "Enstriksyon `if` yo gen menm estrikti ak definisyon fonksyon: yon\n",
    "tèt (header) ki swiv pa yon enstriksyon andentasyon oswa yon seri enstriksyon andante yo rele **blòk**.\n",
    "\n",
    "Ekspresyon boulèn ki vini apre `if` la rele **kondisyon**.\n",
    "Si li vre, enstriksyon yo andante egzekite. Si se pa sa, yo pa egzekite.\n",
    "\n",
    "Pa gen limit pou kantite enstriksyon ki ka parèt nan blòk la, men dwe gen omwen youn.\n",
    "Gen kèk fwa li itil pou gen yon blòk ki pa fè anyen — anjeneral kòm rezèv pou kòd ou poko ekri.\n",
    "Nan ka sa a, ou ka itilize enstriksyon `pass`, ki pa fè anyen."
   ]
  },
  {
   "cell_type": "code",
   "execution_count": 25,
   "id": "c8aedcf7",
   "metadata": {},
   "outputs": [],
   "source": [
    "if x < 0:\n",
    "    pass          # TODO: bezwen jere valè negatif yo!"
   ]
  },
  {
   "cell_type": "markdown",
   "id": "8ac11f8f",
   "metadata": {},
   "source": [
    "Mo `TODO` nan yon kòmantè se yon rapèl konvansyonèl ke gen yon bagay ou bezwen fè pita."
   ]
  },
  {
   "cell_type": "markdown",
   "id": "8bd594a0",
   "metadata": {},
   "source": [
    "## Klaus `else` la\n",
    "\n",
    "Yon enstriksyon `if` ka gen yon dezyèm pati, rele kla `else`.\n",
    "Sentaks la sanble ak sa a:"
   ]
  },
  {
   "cell_type": "code",
   "execution_count": 26,
   "id": "79ad1e21",
   "metadata": {},
   "outputs": [
    {
     "name": "stdout",
     "output_type": "stream",
     "text": [
      "x se enpè\n"
     ]
    }
   ],
   "source": [
    "if x % 2 == 0:\n",
    "    print('x se kout (en)')\n",
    "else:\n",
    "    print('x se enpè')"
   ]
  },
  {
   "cell_type": "markdown",
   "id": "a9f56f4f",
   "metadata": {},
   "source": [
    "Si kondisyon an vre, premye enstriksyon andante a egzekite; sinon, dezyèm enstriksyon andante a egzekite.\n",
    "\n",
    "Nan egzanp sa a, si `x` se kout, rès la lè `x` divize pa `2` se `0`, kidonk kondisyon an vre epi pwogram lan afiche `x se kout`.\n",
    "Si `x` se enpè, rès la se `1`, kidonk kondisyon an fo, epi pwogram lan afiche `x se enpè`.\n",
    "\n",
    "Paske kondisyon an dwe vre oswa fo, ekzakteman youn nan altènativ yo ap kouri.\n",
    "Altènativ yo rele **branch**."
   ]
  },
  {
   "cell_type": "markdown",
   "id": "a2a611bc",
   "metadata": {},
   "source": [
    "## Kondisyonèl chenn\n",
    "\n",
    "Gen kèk fwa, gen plis pase de posiblite, nou bezwen plis pase de branch.\n",
    "Youn nan fason pou eksprime yon kalkil konsa se itilize yon **kondisyonèl chenn**, ki gen yon kla `elif`."
   ]
  },
  {
   "cell_type": "code",
   "execution_count": 27,
   "id": "2b0a3e8a",
   "metadata": {},
   "outputs": [
    {
     "name": "stdout",
     "output_type": "stream",
     "text": [
      "x pi piti pase y\n"
     ]
    }
   ],
   "source": [
    "if x < y:\n",
    "    print('x pi piti pase y')\n",
    "elif x > y:\n",
    "    print('x pi gran pase y')\n",
    "else:\n",
    "    print('x ak y egal')"
   ]
  },
  {
   "cell_type": "markdown",
   "id": "f29e45e3",
   "metadata": {},
   "source": [
    "`elif` se abrevyasyon pou \"else if\".\n",
    "Pa gen limit sou kantite kla `elif`.\n",
    "Si gen yon kla `else`, li dwe an dènye, men li pa oblije genyen.\n",
    "\n",
    "Chak kondisyon verifye an lòd.\n",
    "Si premye a fo, pwochen an verifye, etsetera.\n",
    "Si youn vre, branch ki koresponn lan egzekite epi enstriksyon `if` la fini.\n",
    "Menmsi plis pase youn ta vre, se sèlman premye ki vre a ki egzekite."
   ]
  },
  {
   "cell_type": "markdown",
   "id": "8af5bddc",
   "metadata": {},
   "source": [
    "## Kondisyonèl anndan\n",
    "\n",
    "Youn kondisyonèl ka tou anndan yon lòt.\n",
    "Nou te ka ekri egzanp yangout anwo a konsa:"
   ]
  },
  {
   "cell_type": "code",
   "execution_count": 28,
   "id": "22f0285d",
   "metadata": {},
   "outputs": [
    {
     "name": "stdout",
     "output_type": "stream",
     "text": [
      "x pi piti pase y\n"
     ]
    }
   ],
   "source": [
    "if x == y:\n",
    "    print('x ak y egal')\n",
    "else:\n",
    "    if x < y:\n",
    "        print('x pi piti pase y')\n",
    "    else:\n",
    "        print('x pi gran pase y')"
   ]
  },
  {
   "cell_type": "markdown",
   "id": "bd6d7378",
   "metadata": {},
   "source": [
    "Enstriksyon `if` ekstèn lan gen de branch.\n",
    "Premye branch la gen yon enstriksyon senp.\n",
    "Dezyèm branch la gen yon lòt enstriksyon `if`, ki gen de branch pou kont li.\n",
    "De branch sa yo se enstriksyon senp, men yo te ka konsa kondisyonèl tou.\n",
    "\n",
    "Menmsi andantasyon an fè estrikti a klè, **kondisyonèl anndan** ka difisil pou li.\n",
    "Mwen sijere ou evite yo kote ou kapab.\n",
    "\n",
    "Operatè lojik yo souvan bay yon fason pou senplifye kondisyonèl anndan yo.\n",
    "Men yon egzanp ak yon kondisyonèl anndan."
   ]
  },
  {
   "cell_type": "code",
   "execution_count": 29,
   "id": "ff54a502",
   "metadata": {},
   "outputs": [
    {
     "name": "stdout",
     "output_type": "stream",
     "text": [
      "x se yon nimewo pozitif ak yon sèl chif.\n"
     ]
    }
   ],
   "source": [
    "if 0 < x:\n",
    "    if x < 10:\n",
    "        print('x se yon nimewo pozitif ak yon sèl chif.')"
   ]
  },
  {
   "cell_type": "markdown",
   "id": "e0aa5acf",
   "metadata": {},
   "source": [
    "Enstriksyon `print` la egzekite sèlman si nou pase de kondisyon yo, kidonk nou jwenn menm rezilta ak operatè `and` lan."
   ]
  },
  {
   "cell_type": "code",
   "execution_count": 30,
   "id": "a909e90d",
   "metadata": {},
   "outputs": [
    {
     "name": "stdout",
     "output_type": "stream",
     "text": [
      "x se yon nimewo pozitif ak yon sèl chif.\n"
     ]
    }
   ],
   "source": [
    "if 0 < x and x < 10:\n",
    "    print('x se yon nimewo pozitif ak yon sèl chif.')"
   ]
  },
  {
   "cell_type": "markdown",
   "id": "63bb9723",
   "metadata": {},
   "source": [
    "Pou kalite kondisyon sa a, Python bay yon opsyon ki pi kout:"
   ]
  },
  {
   "cell_type": "code",
   "execution_count": 31,
   "id": "4526f9e2",
   "metadata": {
    "lines_to_next_cell": 1
   },
   "outputs": [
    {
     "name": "stdout",
     "output_type": "stream",
     "text": [
      "x se yon nimewo pozitif ak yon sèl chif.\n"
     ]
    }
   ],
   "source": [
    "if 0 < x < 10:\n",
    "    print('x se yon nimewo pozitif ak yon sèl chif.')"
   ]
  },
  {
   "cell_type": "markdown",
   "id": "d49c42b4",
   "metadata": {},
   "source": [
    "## Rekirsyon (recursion)\n",
    "\n",
    "Li legal pou yon fonksyon rele li menm.\n",
    "Sa ka pa parèt kòm yon bon bagay sou kote, men li se youn nan bagay ki pi majik yon pwogram ka fè.\n",
    "Men yon egzanp."
   ]
  },
  {
   "cell_type": "code",
   "execution_count": 32,
   "id": "7ccb0f14",
   "metadata": {
    "lines_to_next_cell": 1
   },
   "outputs": [],
   "source": [
    "def countdown(n):\n",
    "    if n <= 0:\n",
    "        print('Blastoff!')\n",
    "    else:\n",
    "        print(n)\n",
    "        countdown(n-1)"
   ]
  },
  {
   "cell_type": "markdown",
   "id": "12cbc756",
   "metadata": {},
   "source": [
    "Si `n` egal 0 oswa negatif, `countdown` montre mo, \"Blastoff!\"\n",
    "Sinon, li montre `n` epi rele li menm ankò, li pase `n-1` kòm agiman.\n",
    "\n",
    "Men sa k pase lè nou rele fonksyon sa a ak agiman `3`."
   ]
  },
  {
   "cell_type": "code",
   "execution_count": 33,
   "id": "7e4ea3b3",
   "metadata": {
    "lines_to_next_cell": 1
   },
   "outputs": [
    {
     "name": "stdout",
     "output_type": "stream",
     "text": [
      "3\n",
      "2\n",
      "1\n",
      "Blastoff!\n"
     ]
    }
   ],
   "source": [
    "countdown(3)"
   ]
  },
  {
   "cell_type": "markdown",
   "id": "05a48220",
   "metadata": {},
   "source": [
    "Ekzekisyon `countdown` kòmanse ak `n=3`, epi paske `n` pi gran pase `0`, li afiche `3`, epi li rele li menm...\n",
    "\n",
    "> Ekzekisyon `countdown` kòmanse ak `n=2`, epi paske `n` pi gran pase `0`, li afiche `2`, epi li rele li menm...\n",
    ">\n",
    "> > Ekzekisyon `countdown` kòmanse ak `n=1`, epi paske `n` pi gran pase `0`, li afiche `1`, epi li rele li menm...\n",
    "> >\n",
    "> > > Ekzekisyon `countdown` kòmanse ak `n=0`, epi paske `n` pa pi gran pase `0`, li afiche \"Blastoff!\" epi li retounen.\n",
    "> >\n",
    "> > `countdown` ki te resevwa `n=1` retounen.\n",
    ">\n",
    "> `countdown` ki te resevwa `n=2` retounen.\n",
    "\n",
    "`countdown` ki te resevwa `n=3` retounen."
   ]
  },
  {
   "cell_type": "markdown",
   "id": "6e22ba09",
   "metadata": {},
   "source": [
    "Yon fonksyon ki rele li menm se **rekirsi** (recursive).\n",
    "Kòm yon lòt egzanp, nou ka ekri yon fonksyon ki enprime yon chèn `n` fwa."
   ]
  },
  {
   "cell_type": "code",
   "execution_count": null,
   "id": "c91c1571",
   "metadata": {
    "lines_to_next_cell": 1
   },
   "outputs": [],
   "source": [
    "def print_n_times(string, n):\n",
    "    if n > 0:\n",
    "        print(string)\n",
    "        print_n_times(string, n-1)"
   ]
  },
  {
   "cell_type": "markdown",
   "id": "06ef2f9d",
   "metadata": {},
   "source": [
    "Si `n` pozitif, `print_n_times` montre valè `string` epi li rele li menm, li pase `string` ak `n-1` kòm agiman.\n",
    "\n",
    "Si `n` se `0` oswa negatif, kondisyon an fo epi `print_n_times` pa fè anyen.\n",
    "\n",
    "Men ki jan li mache."
   ]
  },
  {
   "cell_type": "code",
   "execution_count": null,
   "id": "63b9d8b6",
   "metadata": {},
   "outputs": [],
   "source": [
    "print_n_times('Spam ', 4)"
   ]
  },
  {
   "cell_type": "markdown",
   "id": "e93fcf28",
   "metadata": {},
   "source": [
    "Pou egzanp senp konsa, li pwobableman pi fasil pou itilize yon bouk `for`.\n",
    "Men nou pral wè egzanp pita ki difisil pou ekri ak yon bouk `for` epi fasil pou ekri ak rekirsyon, kidonk li bon pou kòmanse bonè."
   ]
  },
  {
   "cell_type": "markdown",
   "id": "6df03fd8",
   "metadata": {},
   "source": [
    "## Dyagram pil pou fonksyon rekur siv\n",
    "\n",
    "Men yon dyagram pil ki montre fram yo kreye lè nou te rele `countdown` ak `n = 3`."
   ]
  },
  {
   "cell_type": "code",
   "execution_count": null,
   "id": "ce63c930",
   "metadata": {},
   "outputs": [],
   "source": [
    "from diagram import make_frame, Stack\n",
    "\n",
    "frames = []\n",
    "for n in [3,2,1,0]:\n",
    "    d = dict(n=n)\n",
    "    frame = make_frame(d, name='countdown', dy=-0.3, loc='left')\n",
    "    frames.append(frame)\n",
    "\n",
    "stack = Stack(frames, dy=-0.5)"
   ]
  },
  {
   "cell_type": "code",
   "execution_count": null,
   "id": "2a169fc7",
   "metadata": {},
   "outputs": [],
   "source": [
    "from diagram import diagram, adjust\n",
    "\n",
    "\n",
    "width, height, x, y = [1.74, 2.04, 1.05, 1.77]\n",
    "ax = diagram(width, height)\n",
    "bbox = stack.draw(ax, x, y)\n",
    "# adjust(x, y, bbox)"
   ]
  },
  {
   "cell_type": "markdown",
   "id": "34545fd3",
   "metadata": {},
   "source": [
    "Kat fram `countdown` yo gen valè diferan pou paramèt `n`.\n",
    "Dòt pil la, kote `n=0`, rele **ka baz** la.\n",
    "Li pa fè apèl rekur siv, kidonk pa gen plis fram."
   ]
  },
  {
   "cell_type": "code",
   "execution_count": null,
   "id": "78579654",
   "metadata": {},
   "outputs": [],
   "source": [
    "from diagram import make_frame, Stack\n",
    "from diagram import diagram, adjust\n",
    "\n",
    "frames = []\n",
    "for n in [2,1,0]:\n",
    "    d = dict(string='Hello', n=n)\n",
    "    frame = make_frame(d, name='print_n_times', dx=1.3, loc='left')\n",
    "    frames.append(frame)\n",
    "\n",
    "stack = Stack(frames, dy=-0.5)\n",
    "\n",
    "width, height, x, y = [3.53, 1.54, 1.54, 1.27]\n",
    "ax = diagram(width, height)\n",
    "bbox = stack.draw(ax, x, y)\n",
    "# adjust(x, y, bbox)"
   ]
  },
  {
   "cell_type": "markdown",
   "id": "f1580486",
   "metadata": {},
   "source": [
    "## Rekirsyon enfini\n",
    "\n",
    "Si yon rekirsyon pa janm rive ka baz la, li ap kontinye fè apèl rekur siv pou tout tan, epi pwogram lan pap janm fini. Sa rele\n",
    "**rekirsyon enfini**, epi anjeneral se pa yon bon ide.\n",
    "Men yon fonksyon minimal ak rekirsyon enfini."
   ]
  },
  {
   "cell_type": "code",
   "execution_count": null,
   "id": "32e1707b",
   "metadata": {
    "lines_to_next_cell": 1
   },
   "outputs": [],
   "source": [
    "def recurse():\n",
    "    recurse()"
   ]
  },
  {
   "cell_type": "markdown",
   "id": "fd5f2211",
   "metadata": {},
   "source": [
    "Chak fwa `recurse` rele, li rele li menm, ki kreye yon lòt fram.\n",
    "Nan Python, gen yon limit pou kantite fram ki ka sou pil la anmenmtan.\n",
    "Si yon pwogram depase limit sa a, sa lakòz yon erè execisyon (runtime error)."
   ]
  },
  {
   "cell_type": "code",
   "execution_count": null,
   "id": "87b623d4",
   "metadata": {},
   "outputs": [],
   "source": [
    "%xmode Context"
   ]
  },
  {
   "cell_type": "code",
   "execution_count": null,
   "id": "6d8b29be",
   "metadata": {},
   "outputs": [],
   "source": [
    "%%expect RecursionError\n",
    "\n",
    "recurse()"
   ]
  },
  {
   "cell_type": "markdown",
   "id": "fff1f592",
   "metadata": {},
   "source": [
    "Mesaj erè a endike ke te gen prèske 3000 fram sou pil la lè erè a te rive.\n",
    "\n",
    "Si ou rankontre yon rekirsyon enfini pa aksidan, revize fonksyon ou pou asire ke gen yon ka baz ki pa fè apèl rekur siv.\n",
    "Epi si gen yon ka baz, verifye si li garanti ke ou ap rive sou li."
   ]
  },
  {
   "cell_type": "markdown",
   "id": "b15a5a63",
   "metadata": {},
   "source": [
    "## Antre klavye (Keyboard input)\n",
    "\n",
    "Pwogram nou te ekri jiskaprezan pa pran okenn antre itilizatè a. Yo\n",
    "fè menm bagay la chak fwa.\n",
    "\n",
    "Python bay yon fonksyon ki rele `input` ki kanpe\n",
    "pwogram lan epi tann itilizatè a tape yon bagay. Lè itilizatè a peze\n",
    "*Return* oswa *Enter*, pwogram lan rekòmanse epi `input` retounen sa itilizatè a\n",
    "te tape kòm yon chèn."
   ]
  },
  {
   "cell_type": "code",
   "execution_count": null,
   "id": "196c1b09",
   "metadata": {},
   "outputs": [],
   "source": [
    "# Solisyon pral mete la"
   ]
  },
  {
   "cell_type": "code",
   "execution_count": null,
   "id": "33751488",
   "metadata": {},
   "outputs": [],
   "source": [
    "text = input()"
   ]
  },
  {
   "cell_type": "markdown",
   "id": "980e7d1d",
   "metadata": {},
   "source": [
    "Anvan ou pran antre itilizatè a, ou ka vle montre yon mesaj\n",
    "ki di itilizatè a sa pou li tape. `input` ka pran yon mesaj kòm agiman:"
   ]
  },
  {
   "cell_type": "code",
   "execution_count": null,
   "id": "db9f11c8",
   "metadata": {},
   "outputs": [],
   "source": [
    "# Solisyon pral mete la"
   ]
  },
  {
   "cell_type": "code",
   "execution_count": null,
   "id": "df97bbbc",
   "metadata": {},
   "outputs": [],
   "source": [
    "name = input('Ki...non ou?\\n')\n",
    "name"
   ]
  },
  {
   "cell_type": "markdown",
   "id": "5ec5ec62",
   "metadata": {},
   "source": [
    "Sekans `\\n` a nan fen mesaj la reprezante yon **nouvo liy**, ki se yon karaktè espesyal ki fè li pase a liy anba — konsa antre itilizatè a ap parèt anba mesaj la.\n",
    "\n",
    "Si ou atann itilizatè a tape yon antye, ou ka itilize fonksyon `int` la pou konvèti valè retounen an an `int`."
   ]
  },
  {
   "cell_type": "code",
   "execution_count": null,
   "id": "7b5d7413",
   "metadata": {},
   "outputs": [],
   "source": [
    "# Solisyon pral mete la"
   ]
  },
  {
   "cell_type": "code",
   "execution_count": null,
   "id": "e3e34a47",
   "metadata": {},
   "outputs": [],
   "source": [
    "prompt = 'Ki...vitès lè a pou yon zwalo (swallow) ki pa chaje?\\n'\n",
    "speed = input(prompt)\n",
    "speed"
   ]
  },
  {
   "cell_type": "markdown",
   "id": "78ed516e",
   "metadata": {},
   "source": [
    "Men si li tape yon bagay ki pa yon antye, ou pral jwenn yon erè execisyon."
   ]
  },
  {
   "cell_type": "code",
   "execution_count": null,
   "id": "b0cc2797",
   "metadata": {},
   "outputs": [],
   "source": [
    "%xmode Minimal"
   ]
  },
  {
   "cell_type": "code",
   "execution_count": null,
   "id": "0bf0fa14",
   "metadata": {},
   "outputs": [],
   "source": [
    "%%expect ValueError\n",
    "\n",
    "int(speed)"
   ]
  },
  {
   "cell_type": "markdown",
   "id": "81ee42da",
   "metadata": {},
   "source": [
    "Nou pral wè ki jan pou jere kalite erè sa a pita."
   ]
  },
  {
   "cell_type": "markdown",
   "id": "8bc99170",
   "metadata": {},
   "source": [
    "## Debògaj (Debugging)\n",
    "\n",
    "Lè yon erè sentaks oswa execisyon rive, mesaj erè a gen anpil\n",
    "enfòmasyon, men li ka akablant. Pati ki pi itil yo\n",
    "anjeneral:\n",
    "\n",
    "-   Ki kalite erè li te ye, ak\n",
    "\n",
    "-   Kote li te rive.\n",
    "\n",
    "Erè sentaks yo anjeneral fasil pou jwenn, men gen kèk trik.\n",
    "Erè ki gen rapò ak espas ak tab ka difisil paske yo envizib\n",
    "epi nou abitye ignóre yo."
   ]
  },
  {
   "cell_type": "code",
   "execution_count": null,
   "id": "8eb27d7f",
   "metadata": {},
   "outputs": [],
   "source": [
    "%%expect IndentationError\n",
    "x = 5\n",
    " y = 6"
   ]
  },
  {
   "cell_type": "markdown",
   "id": "6cfd6d0a",
   "metadata": {},
   "source": [
    "Nan egzanp sa a, pwoblèm lan se ke dezyèm liy lan gen yon espas andante.\n",
    "Men mesaj erè a pwen sou `y`, ki twonpe.\n",
    "Mesaj erè a montre kote pwoblèm lan te dekouvri, men erè aktyèl la ka pi bonè nan kòd la.\n",
    "\n",
    "Menm bagay la pou erè execisyon.\n",
    "Pa egzanp, si nou ap eseye konvèti yon rapò an desibèl, konsa:"
   ]
  },
  {
   "cell_type": "code",
   "execution_count": null,
   "id": "3a6dede8",
   "metadata": {},
   "outputs": [],
   "source": [
    "%xmode Context"
   ]
  },
  {
   "cell_type": "code",
   "execution_count": null,
   "id": "2c396b20",
   "metadata": {},
   "outputs": [],
   "source": [
    "%%expect ValueError\n",
    "import math\n",
    "numerator = 9\n",
    "denominator = 10\n",
    "ratio = numerator // denominator\n",
    "decibels = 10 * math.log10(ratio)"
   ]
  },
  {
   "cell_type": "markdown",
   "id": "b59c5e9e",
   "metadata": {},
   "source": [
    "Mesaj erè a endike liy 5, men pa gen anyen mal ak liy sa a.\n",
    "Pwoblèm lan se nan liy 4, ki itilize divizyon antye olye divizyon floan — kòm rezilta, valè `ratio` se `0`.\n",
    "Lè nou rele `math.log10`, nou jwenn `ValueError` ak mesaj `math domain error`, paske `0` pa nan \"domèn\" valè valab pou `math.log10`, paske logaritm `0` an pa defini.\n",
    "\n",
    "An jeneral, ou ta dwe pran tan li mesaj erè yo atantivman, men pa sipoze ke tout sa yo di se kòrèk."
   ]
  },
  {
   "cell_type": "markdown",
   "id": "f5000df4",
   "metadata": {},
   "source": [
    "## Glosè\n",
    "\n",
    "**rekirsyon (recursion):**\n",
    "Pwosesis kote yon fonksyon rele li menm pandan li egzekite.\n",
    "\n",
    "**operatè modilè:**\n",
    "Yon operatè, `%`, ki travay sou antye epi retounen rès la lè youn divize pa lòt.\n",
    "\n",
    "**ekspresyon boulèn:**\n",
    "Yon ekspresyon ki valè li se swa `True` oswa `False`.\n",
    "\n",
    "**operatè relasyonèl:**\n",
    "Youn nan operatè ki konpare operan yo: `==`, `!=`, `>`, `<`, `>=`, ak `<=`.\n",
    "\n",
    "**operatè lojik:**\n",
    "Youn nan operatè ki konbine ekspresyon boulèn, ki gen ladan `and`, `or`, ak `not`.\n",
    "\n",
    "**enstriksyon kondisyonèl:**\n",
    "Yon enstriksyon ki kontwole kou ekzekisyon an selon yon kondisyon.\n",
    "\n",
    "**kondisyon:**\n",
    "Ekspresyon boulèn nan yon enstriksyon kondisyonèl ki detèmine ki branch kouri.\n",
    "\n",
    "**blòk:**\n",
    "Youn oswa plizyè enstriksyon andante pou endike yo fè pati yon lòt enstriksyon.\n",
    "\n",
    "**branch:**\n",
    "Youn nan altènativ sekans enstriksyon yo nan yon enstriksyon kondisyonèl.\n",
    "\n",
    "**kondisyonèl chenn:**\n",
    "Yon enstriksyon kondisyonèl ak yon seri branch altènativ.\n",
    "\n",
    "**kondisyonèl anndan:**\n",
    "Yon enstriksyon kondisyonèl ki parèt nan youn nan branch yon lòt enstriksyon kondisyonèl.\n",
    "\n",
    "**rekirsi (recursive):**\n",
    "Yon fonksyon ki rele li menm se rekur siv.\n",
    "\n",
    "**ka baz:**\n",
    "Yon branch kondisyonèl nan yon fonksyon rekur siv ki pa fè apèl rekur siv.\n",
    "\n",
    "**rekirsyon enfini:**\n",
    "Yon rekirsyon ki pa gen ka baz, oswa pa janm rive sou li.\n",
    "Evantyèlman, yon rekirsyon enfini lakòz yon erè execisyon.\n",
    "\n",
    "**nouvo liy (newline):**\n",
    "Yon karaktè ki kreye yon chanjman liy ant de pati yon chèn."
   ]
  },
  {
   "cell_type": "markdown",
   "id": "0f041efe",
   "metadata": {},
   "source": [
    "## Egzèsis"
   ]
  },
  {
   "cell_type": "code",
   "execution_count": null,
   "id": "b8cd7a7e",
   "metadata": {},
   "outputs": [],
   "source": [
    "# Liy sa a di Jupyter pou bay enfòmasyon debògaj detaye\n",
    "# lè yon erè execisyon rive. Kouri li anvan ou travay sou egzèsis yo.\n",
    "\n",
    "%xmode Verbose"
   ]
  },
  {
   "cell_type": "markdown",
   "id": "5d4f70e8",
   "metadata": {},
   "source": [
    "### Mande yon asistan vityèl\n",
    "\n",
    "* Mande yon asistan vityèl, \"Ki kèk itilizasyon pou operatè modilè a?\"\n",
    "\n",
    "* Python bay operatè pou kalkile operasyon lojik `and`, `or`, ak `not`, men li pa gen operatè ki kalkile operasyon eksklizif `or` la, souvan ekri `xor`. Mande yon asistan, \"Ki sa operasyon lojik xor la ye, epi ki jan pou mwen kalkile li nan Python?\"\n",
    "\n",
    "Nan chapit sa a, nou te wè de fason pou ekri yon enstriksyon `if` ak twa branch, utilisant yon kondisyonèl chenn oswa yon kondisyonèl anndan.\n",
    "Ou ka itilize yon asistan vityèl pou konvèti soti nan youn pou ale nan lòt.\n",
    "Pa egzanp, mande yon AV, \"Konvèti deklarasyon sa a an yon kondisyonèl chenn.\""
   ]
  },
  {
   "cell_type": "code",
   "execution_count": null,
   "id": "27fc0bb9",
   "metadata": {},
   "outputs": [],
   "source": [
    "x = 5\n",
    "y = 7"
   ]
  },
  {
   "cell_type": "code",
   "execution_count": null,
   "id": "f4f5b300",
   "metadata": {},
   "outputs": [],
   "source": [
    "if x == y:\n",
    "    print('x ak y egal')\n",
    "else:\n",
    "    if x < y:\n",
    "        print('x pi piti pase y')\n",
    "    else:\n",
    "        print('x pi gran pase y')"
   ]
  },
  {
   "cell_type": "markdown",
   "id": "6436395c",
   "metadata": {},
   "source": [
    "Mande yon AV, \"Reekri deklarasyon sa a ak yon sèl kondisyon.\""
   ]
  },
  {
   "cell_type": "code",
   "execution_count": null,
   "id": "56cac1b6",
   "metadata": {},
   "outputs": [],
   "source": [
    "if 0 < x:\n",
    "    if x < 10:\n",
    "        print('x se yon nimewo pozitif ak yon sèl chif.')"
   ]
  },
  {
   "cell_type": "markdown",
   "id": "ae7bb241",
   "metadata": {},
   "source": [
    "Gade si yon AV ka senplifye konpleksite nesesè sa a."
   ]
  },
  {
   "cell_type": "code",
   "execution_count": null,
   "id": "18c723e3",
   "metadata": {
    "lines_to_next_cell": 1
   },
   "outputs": [],
   "source": [
    "if not x <= 0 and not x >= 10:\n",
    "    print('x se yon nimewo pozitif ak yon sèl chif.')"
   ]
  },
  {
   "cell_type": "markdown",
   "id": "e2d0405f",
   "metadata": {},
   "source": [
    "Men yon tantativ yon fonksyon rekur siv ki konte desann pa de."
   ]
  },
  {
   "cell_type": "code",
   "execution_count": null,
   "id": "c18395eb",
   "metadata": {
    "lines_to_next_cell": 1
   },
   "outputs": [],
   "source": [
    "def countdown_by_two(n):\n",
    "    if n == 0:\n",
    "        print('Blastoff!')\n",
    "    else:\n",
    "        print(n)\n",
    "        countdown_by_two(n-2)"
   ]
  },
  {
   "cell_type": "markdown",
   "id": "a85a7ed0",
   "metadata": {},
   "source": [
    "Li sanble l mache."
   ]
  },
  {
   "cell_type": "code",
   "execution_count": null,
   "id": "bd8ac0dc",
   "metadata": {},
   "outputs": [],
   "source": [
    "countdown_by_two(6)"
   ]
  },
  {
   "cell_type": "markdown",
   "id": "807b3cd4",
   "metadata": {},
   "source": [
    "Men li gen yon erè. Mande yon asistan vityèl ki sa ki mal epi ki jan pou fikse li.\n",
    "Kole solisyon li bay la tounen isit la epi teste li."
   ]
  },
  {
   "cell_type": "markdown",
   "id": "fe7e9519",
   "metadata": {},
   "source": [
    "### Egzèsis\n",
    "\n",
    "Modil `time` lan bay yon fonksyon, ki rele `time` tou, ki retounen\n",
    "kantite segonn depi \"epòk Unix\" la, ki se 1 Janvye 1970, 00:00:00 UTC (Tan Koòdone Inivèsèl)."
   ]
  },
  {
   "cell_type": "code",
   "execution_count": null,
   "id": "4aff57b3",
   "metadata": {},
   "outputs": [],
   "source": [
    "from time import time\n",
    "\n",
    "now = time()\n",
    "now"
   ]
  },
  {
   "cell_type": "markdown",
   "id": "d1930a30",
   "metadata": {},
   "source": [
    "Sèvi ak divizyon antye ak operatè modilè a pou kalkile kantite jou depi 1 Janvye 1970 epi tan kounye a an èdtan, minit, ak segonn."
   ]
  },
  {
   "cell_type": "code",
   "execution_count": null,
   "id": "f50d377d",
   "metadata": {},
   "outputs": [],
   "source": [
    "# Solisyon pral mete la"
   ]
  },
  {
   "cell_type": "code",
   "execution_count": null,
   "id": "a61ffbe3",
   "metadata": {},
   "outputs": [],
   "source": [
    "# Solisyon pral mete la"
   ]
  },
  {
   "cell_type": "code",
   "execution_count": null,
   "id": "5c44d092",
   "metadata": {},
   "outputs": [],
   "source": [
    "# Solisyon pral mete la"
   ]
  },
  {
   "cell_type": "code",
   "execution_count": null,
   "id": "377eae17",
   "metadata": {},
   "outputs": [],
   "source": [
    "# Solisyon pral mete la"
   ]
  },
  {
   "cell_type": "markdown",
   "id": "b218299f",
   "metadata": {},
   "source": [
    "### Egzèsis\n",
    "\n",
    "Si ou bay twa baton, ou ka oswa ou pa ka fè yo fòme yon triang. Pa egzanp, si youn nan baton yo 12 pous\n",
    "ak lòt de yo 1 pous, ou pa p kapab fè de baton kout yo rankontre nan mitan. Pou nenpòt twa longè, gen yon\n",
    "tès pou wè si li posib fòme yon triang:\n",
    "\n",
    "> Si youn nan twa longè yo pi gran pase sòm lòt de yo,\n",
    "> ou pa ka fòme yon triang. Sinon, ou kapab. (Si sòm de longè yo egal\n",
    "> twazyèm lan, sa yo rele yon triang \"dijenere\".)\n",
    "\n",
    "Ekri yon fonksyon ki rele `is_triangle` ki pran twa antye kòm\n",
    "agiman, epi ki enprime \"Yes\" oswa \"No\", selon\n",
    "si ou kapab oswa pa kapab fòme yon triang ak baton ki gen longè sa yo. Hint: itilize yon kondisyonèl chenn.\n",
    "\n"
   ]
  },
  {
   "cell_type": "code",
   "execution_count": null,
   "id": "bb36d5d1",
   "metadata": {},
   "outputs": [],
   "source": [
    "# Solisyon pral mete la"
   ]
  },
  {
   "cell_type": "markdown",
   "id": "804b0c1b",
   "metadata": {},
   "source": [
    "Teste fonksyon ou ak ka sa yo."
   ]
  },
  {
   "cell_type": "code",
   "execution_count": null,
   "id": "c05122f4",
   "metadata": {},
   "outputs": [],
   "source": [
    "is_triangle(4, 5, 6)   # ta dwe Yes"
   ]
  },
  {
   "cell_type": "code",
   "execution_count": null,
   "id": "af79e1b4",
   "metadata": {},
   "outputs": [],
   "source": [
    "is_triangle(1, 2, 3)   # ta dwe Yes"
   ]
  },
  {
   "cell_type": "code",
   "execution_count": null,
   "id": "c9871718",
   "metadata": {},
   "outputs": [],
   "source": [
    "is_triangle(6, 2, 3)   # ta dwe No"
   ]
  },
  {
   "cell_type": "code",
   "execution_count": null,
   "id": "9a409c31",
   "metadata": {
    "lines_to_next_cell": 1
   },
   "outputs": [],
   "source": [
    "is_triangle(1, 1, 12)   # ta dwe No"
   ]
  },
  {
   "cell_type": "markdown",
   "id": "9e15513a",
   "metadata": {},
   "source": [
    "### Egzèsis\n",
    "\n",
    "Ki rezilta pwogram sa a bay? Fè yon dyagram pil ki\n",
    "montre eta pwogram lan lè li enprime rezilta a."
   ]
  },
  {
   "cell_type": "code",
   "execution_count": null,
   "id": "9e727183",
   "metadata": {},
   "outputs": [],
   "source": [
    "def recurse(n, s):\n",
    "    if n == 0:\n",
    "        print(s)\n",
    "    else:\n",
    "        recurse(n-1, n+s)\n",
    "\n",
    "recurse(3, 0)"
   ]
  },
  {
   "cell_type": "code",
   "execution_count": null,
   "id": "c5918be0",
   "metadata": {},
   "outputs": [],
   "source": [
    "# Solisyon pral mete la"
   ]
  },
  {
   "cell_type": "code",
   "execution_count": null,
   "id": "5c85a646",
   "metadata": {},
   "outputs": [],
   "source": [
    "# Solisyon pral mete la"
   ]
  },
  {
   "cell_type": "markdown",
   "id": "dea0181c",
   "metadata": {},
   "source": [
    "### Egzèsis\n",
    "\n",
    "Egzèsis sa yo itilize modil `jupyturtle` lan, dekri nan Chapit 4.\n",
    "\n",
    "Li fonksyon sa a epi wè si ou ka devine sa li fè.\n",
    "Lè sa a kouri li epi wè si ou te jwenn li kòrèk.\n",
    "Ajiste valè `length`, `angle`, ak `factor` epi gade ki efè sa yo gen sou rezilta a.\n",
    "Si ou pa si ou konprann ki jan li mache, eseye mande yon asistan vityèl."
   ]
  },
  {
   "cell_type": "code",
   "execution_count": null,
   "id": "d011d7a6",
   "metadata": {
    "lines_to_next_cell": 1
   },
   "outputs": [],
   "source": [
    "from jupyturtle import forward, left, right, back\n",
    "\n",
    "def draw(length):\n",
    "    angle = 50\n",
    "    factor = 0.6\n",
    "    \n",
    "    if length > 5:\n",
    "        forward(length)\n",
    "        left(angle)\n",
    "        draw(factor * length)\n",
    "        right(2 * angle)\n",
    "        draw(factor * length)\n",
    "        left(angle)\n",
    "        back(length)"
   ]
  },
  {
   "cell_type": "code",
   "execution_count": null,
   "id": "85567cd8",
   "metadata": {},
   "outputs": [],
   "source": [
    "# Solisyon pral mete la"
   ]
  },
  {
   "cell_type": "markdown",
   "id": "38db6e05",
   "metadata": {},
   "source": [
    "### Egzèsis\n",
    "\n",
    "Mande yon asistan vityèl \"Ki sa koub Koch (Koch curve) la ye?\"\n",
    "\n",
    "Pou desine yon koub Koch ak longè `x`, tout sa ou dwe fè se\n",
    "\n",
    "1.  Desine yon koub Koch ak longè `x/3`.\n",
    "\n",
    "2.  Fè yon viro a goch 60 degre.\n",
    "\n",
    "3.  Desine yon koub Koch ak longè `x/3`.\n",
    "\n",
    "4.  Fè yon viro a dwat 120 degre.\n",
    "\n",
    "5.  Desine yon koub Koch ak longè `x/3`.\n",
    "\n",
    "6.  Fè yon viro a goch 60 degre.\n",
    "\n",
    "7.  Desine yon koub Koch ak longè `x/3`.\n",
    "\n",
    "Eksepsyon an se si `x` pi piti pase `5` — nan ka sa a, ou ka jis trase yon liy dwat ak longè `x`.\n",
    "\n",
    "Ekri yon fonksyon ki rele `koch` ki pran `x` kòm agiman epi ki desine yon koub Koch ak longè sa a.\n"
   ]
  },
  {
   "cell_type": "code",
   "execution_count": null,
   "id": "f1be2df8",
   "metadata": {},
   "outputs": [],
   "source": [
    "# Solisyon pral mete la"
   ]
  },
  {
   "cell_type": "markdown",
   "id": "00a6a73c",
   "metadata": {},
   "source": [
    "Rezilta a ta dwe sanble ak sa a:"
   ]
  },
  {
   "cell_type": "code",
   "execution_count": null,
   "id": "00e47e6e",
   "metadata": {},
   "outputs": [],
   "source": [
    "make_turtle(delay=0)\n",
    "koch(120)"
   ]
  },
  {
   "cell_type": "markdown",
   "id": "f3cca482",
   "metadata": {},
   "source": [
    "Lè ou gen `koch` k ap mache, ou ka itilize bouk sa a pou desine twa koub Koch an fòm flokon."
   ]
  },
  {
   "cell_type": "code",
   "execution_count": null,
   "id": "0e86e4c4",
   "metadata": {},
   "outputs": [],
   "source": [
    "make_turtle(delay=0, height=300)\n",
    "for i in range(3):\n",
    "    koch(120)\n",
    "    right(120)"
   ]
  },
  {
   "cell_type": "markdown",
   "id": "3c6c7dd4",
   "metadata": {},
   "source": [
    "### Egzèsis\n",
    "\n",
    "Asistan vityèl yo konnen fonksyon ki nan modil `jupyturtle` lan, men gen anpil vèsyon fonksyon sa yo, ak non diferan, kidonk yon AV ka pa konnen kilès ou ap pale de li.\n",
    "\n",
    "Pou rezoud pwoblèm sa a, ou ka bay plis enfòmasyon anvan ou poze kesyon.\n",
    "Pa egzanp, ou te ka kòmanse yon mesaj ak \"Men yon pwogram ki itilize modil `jupyturtle` lan,\" epi apre sa kole youn nan egzanp nan chapit sa a.\n",
    "Apre sa, AV a ta dwe kapab pwodwi kòd ki itilize modil sa a.\n",
    "\n",
    "Kòm yon egzanp, mande yon AV pou yon pwogram ki desine yon triyang Sierpiński.\n",
    "Kòd ou jwenn la ta dwe bon kòm yon pwen depa, men ou ka bezwen fè kèk debògaj.\n",
    "Si premye tantativ la pa mache, ou ka di AV a sa ki rive ak mande èd — oswa ou ka debòge li pou kont ou."
   ]
  },
  {
   "cell_type": "code",
   "execution_count": null,
   "id": "c7e1e571",
   "metadata": {},
   "outputs": [],
   "source": [
    "# Solisyon pral mete la"
   ]
  },
  {
   "cell_type": "markdown",
   "id": "8f6ecd78",
   "metadata": {},
   "source": [
    "Men sa rezilta a ka sanble, menm si vèsyon ou jwenn la ka diferan."
   ]
  },
  {
   "cell_type": "code",
   "execution_count": null,
   "id": "7d956bab",
   "metadata": {},
   "outputs": [],
   "source": [
    "make_turtle(delay=0, height=200)\n",
    "\n",
    "draw_sierpinski(100, 3)"
   ]
  },
  {
   "cell_type": "code",
   "execution_count": null,
   "id": "6529d5dd",
   "metadata": {
    "lines_to_next_cell": 3
   },
   "outputs": [],
   "source": []
  }
 ],
 "metadata": {
  "jupytext": {
   "cell_metadata_filter": "-all",
   "main_language": "python",
   "notebook_metadata_filter": "-all"
  },
  "kernelspec": {
   "display_name": "Python 3",
   "language": "python",
   "name": "python3"
  },
  "language_info": {
   "codemirror_mode": {
    "name": "ipython",
    "version": 3
   },
   "file_extension": ".py",
   "mimetype": "text/x-python",
   "name": "python",
   "nbconvert_exporter": "python",
   "pygments_lexer": "ipython3",
   "version": "3.10.4"
  }
 },
 "nbformat": 4,
 "nbformat_minor": 5
}
