{
 "cells": [
  {
   "cell_type": "markdown",
   "id": "2ed30025",
   "metadata": {},
   "source": [
    "Ou ka kòmande vèsyon enprime ak ebook pou *Think Python 3e* soti nan\n",
    "[Bookshop.org](https://bookshop.org/a/98697/9781098155438) ak\n",
    "[Amazon](https://www.amazon.com/_/dp/1098155432?smid=ATVPDKIKX0DER&_encoding=UTF8&tag=oreilly20-20&_encoding=UTF8&tag=greenteapre01-20&linkCode=ur2&linkId=e2a529f94920295d27ec8a06e757dc7c&camp=1789&creative=9325)."
   ]
  },
  {
   "cell_type": "code",
   "execution_count": null,
   "id": "722601cb",
   "metadata": {
    "lines_to_next_cell": 1
   },
   "outputs": [],
   "source": [
    "from os.path import basename, exists\n",
    "\n",
    "def download(url):\n",
    "    filename = basename(url)\n",
    "    if not exists(filename):\n",
    "        from urllib.request import urlretrieve\n",
    "\n",
    "        local, _ = urlretrieve(url, filename)\n",
    "        print(\"Telechaje \" + str(local))\n",
    "    return filename\n",
    "\n",
    "download('https://github.com/AllenDowney/ThinkPython/raw/v3/thinkpython.py');\n",
    "download('https://github.com/AllenDowney/ThinkPython/raw/v3/diagram.py');\n",
    "\n",
    "import thinkpython"
   ]
  },
  {
   "cell_type": "markdown",
   "id": "ae5dcbd9",
   "metadata": {},
   "source": [
    "Men vèsyon klas `Card`, `Deck`, ak `Hand` soti nan Chapit 17, ke nou pral itilize an kèk egzanp nan chapit sa a."
   ]
  },
  {
   "cell_type": "code",
   "execution_count": null,
   "id": "4616de46",
   "metadata": {
    "lines_to_next_cell": 1
   },
   "outputs": [],
   "source": [
    "class Card:\n",
    "    suit_names = ['Clubs', 'Diamonds', 'Hearts', 'Spades']\n",
    "    rank_names = [None, 'Ace', '2', '3', '4', '5', '6', '7', \n",
    "                  '8', '9', '10', 'Jack', 'Queen', 'King', 'Ace']\n",
    "    \n",
    "    def __init__(self, suit, rank):\n",
    "        self.suit = suit\n",
    "        self.rank = rank\n",
    "\n",
    "    def __str__(self):\n",
    "        rank_name = Card.rank_names[self.rank]\n",
    "        suit_name = Card.suit_names[self.suit]\n",
    "        return f'{rank_name} of {suit_name}' "
   ]
  },
  {
   "cell_type": "code",
   "execution_count": null,
   "id": "f5c22599",
   "metadata": {
    "lines_to_next_cell": 1
   },
   "outputs": [],
   "source": [
    "import random\n",
    "\n",
    "class Deck:\n",
    "    def __init__(self, cards):\n",
    "        self.cards = cards\n",
    "        \n",
    "    def __str__(self):\n",
    "        res = []\n",
    "        for card in self.cards:\n",
    "            res.append(str(card))\n",
    "        return '\\n'.join(res)\n",
    "    \n",
    "    def make_cards():\n",
    "        cards = []\n",
    "        for suit in range(4):\n",
    "            for rank in range(2, 15):\n",
    "                card = Card(suit, rank)\n",
    "                cards.append(card)\n",
    "        return cards\n",
    "    \n",
    "    def shuffle(self):\n",
    "        random.shuffle(self.cards)\n",
    "        \n",
    "    def pop_card(self):\n",
    "        return self.cards.pop()\n",
    "    \n",
    "    def add_card(self, card):\n",
    "        self.cards.append(card)"
   ]
  },
  {
   "cell_type": "code",
   "execution_count": null,
   "id": "042da88d",
   "metadata": {
    "lines_to_next_cell": 1
   },
   "outputs": [],
   "source": [
    "class Hand(Deck):\n",
    "    def __init__(self, label=''):\n",
    "        self.label = label\n",
    "        self.cards = []"
   ]
  },
  {
   "cell_type": "markdown",
   "id": "ea439329",
   "metadata": {},
   "source": [
    "# Ekstras Python\n",
    "\n",
    "Youn nan objektif mwen pou liv sa a te anseye ou pi piti Piton posib.\n",
    "Lè te gen de fason pou fè yon bagay, mwen te chwazi youn epi evite mansyone lòt la.\n",
    "Oubyen pafwa mwen mete dezyèm lan an egzèsis.\n",
    "\n",
    "Kounye a mwen vle retounen sou kèk bon ti bagay ke nou te kite dèyè.\n",
    "Python bay anpil karakteristik ki pa vrèman nesesè — ou ka ekri bon kod san yo — men avèk yo ou ka ekri kod ki pi kout, pi lizib, oswa pi efikas, epi pafwa tout twa an menm tan."
   ]
  },
  {
   "cell_type": "markdown",
   "id": "235ee7a0",
   "metadata": {},
   "source": [
    "## Sets\n",
    "\n",
    "Python bay yon klas ki rele `set` ki reprezante yon koleksyon eleman inik.\n",
    "Pou kreye yon set vid, nou ka itilize objè klas la tankou yon fonksyon."
   ]
  },
  {
   "cell_type": "code",
   "execution_count": null,
   "id": "3a83427c",
   "metadata": {},
   "outputs": [],
   "source": [
    "s1 = set()\n",
    "s1"
   ]
  },
  {
   "cell_type": "markdown",
   "id": "5dc3419c",
   "metadata": {},
   "source": [
    "Nou ka itilize metòd `add` pou ajoute eleman."
   ]
  },
  {
   "cell_type": "code",
   "execution_count": null,
   "id": "fdc80214",
   "metadata": {},
   "outputs": [],
   "source": [
    "s1.add('a')\n",
    "s1.add('b')\n",
    "s1"
   ]
  },
  {
   "cell_type": "markdown",
   "id": "0a32b476",
   "metadata": {},
   "source": [
    "Oubyen nou ka pase nenpòt kalite sekans bay `set`."
   ]
  },
  {
   "cell_type": "code",
   "execution_count": null,
   "id": "0cc0527b",
   "metadata": {},
   "outputs": [],
   "source": [
    "s2 = set('acd')\n",
    "s2"
   ]
  },
  {
   "cell_type": "markdown",
   "id": "3190014d",
   "metadata": {},
   "source": [
    "Yon eleman ka parèt yon sel fwa nan yon `set`.\n",
    "Si ou ajoute yon eleman ki deja la, sa pa fè anyen."
   ]
  },
  {
   "cell_type": "code",
   "execution_count": null,
   "id": "98cf8c31",
   "metadata": {},
   "outputs": [],
   "source": [
    "s1.add('a')\n",
    "s1"
   ]
  },
  {
   "cell_type": "markdown",
   "id": "9d74f13a",
   "metadata": {},
   "source": [
    "Oubyen si ou kreye yon set ak yon sekans ki gen duplikata, rezilta a gen sèlman eleman inik."
   ]
  },
  {
   "cell_type": "code",
   "execution_count": null,
   "id": "3ec60cea",
   "metadata": {
    "lines_to_next_cell": 1
   },
   "outputs": [],
   "source": [
    "set('banana')"
   ]
  },
  {
   "cell_type": "markdown",
   "id": "bc2a8d4c",
   "metadata": {},
   "source": [
    "Gen kèk egzèsis nan liv la ou ka fè pi kout ak pi efikas ak sets.\n",
    "Pa egzanp, men yon solisyon pou yon egzèsis Chapit 11 ki itilize diksyonè pou tcheke si gen eleman duplike an sekans."
   ]
  },
  {
   "cell_type": "code",
   "execution_count": null,
   "id": "167aca34",
   "metadata": {
    "lines_to_next_cell": 1
   },
   "outputs": [],
   "source": [
    "def has_duplicates(t):\n",
    "    d = {}\n",
    "    for x in t:\n",
    "        d[x] = True\n",
    "    return len(d) < len(t)"
   ]
  },
  {
   "cell_type": "markdown",
   "id": "efdfea1b",
   "metadata": {},
   "source": [
    "Vèsyon sa a ajoute eleman `t` yo kòm kle an diksyonè, epi apre sa tcheke si gen mwens kle pase eleman.\n",
    "Avèk sets, nou ka ekri menm fonksyon an konsa:"
   ]
  },
  {
   "cell_type": "code",
   "execution_count": null,
   "id": "c253f06f",
   "metadata": {
    "lines_to_next_cell": 1
   },
   "outputs": [],
   "source": [
    "def has_duplicates(t):\n",
    "    s = set(t)\n",
    "    return len(s) < len(t)"
   ]
  },
  {
   "cell_type": "code",
   "execution_count": null,
   "id": "f1eca4ef",
   "metadata": {},
   "outputs": [],
   "source": [
    "has_duplicates('abba')"
   ]
  },
  {
   "cell_type": "markdown",
   "id": "b945b9d4",
   "metadata": {},
   "source": [
    "Yon eleman pa ka parèt plis pase yon fwa nan yon set, donk si yon eleman `t` parèt plis pase yon fwa, set la ap pi piti pase `t`.\n",
    "Si pa gen duplikata, set la ap menm gwosè ak `t`.\n",
    "\n",
    "`set` bay metòd ki fè operasyon sou set.\n",
    "Pa egzanp, `union` kalkile union de set yo, ki se yon nouvo set ki gen tout eleman ki parèt nan youn oswa lòt."
   ]
  },
  {
   "cell_type": "code",
   "execution_count": null,
   "id": "db720917",
   "metadata": {},
   "outputs": [],
   "source": [
    "s1.union(s2)"
   ]
  },
  {
   "cell_type": "markdown",
   "id": "87cc247f",
   "metadata": {},
   "source": [
    "Gen operatè aritmetik ki mache ak set.\n",
    "Pa egzanp, operatè `-` fè subtraksyon set — rezilta a se yon nouvo set ki gen tout eleman ki nan premye set la ki **pa** nan dezyèm set la."
   ]
  },
  {
   "cell_type": "code",
   "execution_count": null,
   "id": "5d58051c",
   "metadata": {
    "lines_to_next_cell": 1
   },
   "outputs": [],
   "source": [
    "s1 - s2"
   ]
  },
  {
   "cell_type": "markdown",
   "id": "954594f6",
   "metadata": {},
   "source": [
    "Nan Chapit 12 nou te itilize diksyonè pou jwenn mo ki parèt nan yon dokiman men pa nan yon lis mo.\n",
    "Nou te itilize fonksyon ki pran de diksyonè epi retounen nouvo diksyonè ki gen sèlman kle ki nan premye ki pa nan dezyèm."
   ]
  },
  {
   "cell_type": "code",
   "execution_count": null,
   "id": "e11e8edb",
   "metadata": {
    "lines_to_next_cell": 1
   },
   "outputs": [],
   "source": [
    "def subtract(d1, d2):\n",
    "    res = {}\n",
    "    for key in d1:\n",
    "        if key not in d2:\n",
    "            res[key] = d1[key]\n",
    "    return res"
   ]
  },
  {
   "cell_type": "markdown",
   "id": "05e6d00f",
   "metadata": {},
   "source": [
    "Avèk sets, nou pa bezwen ekri fonksyon sa a.\n",
    "Si `word_counter` se yon diksyonè ki gen mo inik dokiman an, ak `word_list` se lis mo valab yo, nou ka kalkile diferans set la konsa:"
   ]
  },
  {
   "cell_type": "code",
   "execution_count": null,
   "id": "795f4e96",
   "metadata": {},
   "outputs": [],
   "source": [
    "# Selil sa a kreye yon ti egzanp pou nou ka kouri selil kap vini an\n",
    "# san nou pa chaje done aktyèl la\n",
    "\n",
    "word_counter = {'word': 1}\n",
    "word_list = ['word']"
   ]
  },
  {
   "cell_type": "code",
   "execution_count": null,
   "id": "6dffa28c",
   "metadata": {},
   "outputs": [],
   "source": [
    "set(word_counter) - set(word_list)"
   ]
  },
  {
   "cell_type": "markdown",
   "id": "aedf3033",
   "metadata": {},
   "source": [
    "Rezilta a se yon set ki gen mo ki nan dokiman an men pa nan word_list la.\n",
    "\n",
    "Operatè relasyonèl yo mache ak set.\n",
    "Pa egzanp, `<=` tcheke si youn set se subset yon lòt, enkli posiblite ke yo egal."
   ]
  },
  {
   "cell_type": "code",
   "execution_count": null,
   "id": "197a2e6b",
   "metadata": {
    "lines_to_next_cell": 1
   },
   "outputs": [],
   "source": [
    "set('ab') <= set('abc')"
   ]
  },
  {
   "cell_type": "markdown",
   "id": "4811b69d",
   "metadata": {},
   "source": [
    "Avèk operatè sa yo, nou ka itilize sets pou fè egzèsis Chapit 7 yo pi kout.\n",
    "Pa egzanp, men vèsyon `uses_only` ki itilize yon bouk:"
   ]
  },
  {
   "cell_type": "code",
   "execution_count": null,
   "id": "a2b81246",
   "metadata": {
    "lines_to_next_cell": 1
   },
   "outputs": [],
   "source": [
    "def uses_only(word, available):\n",
    "    for letter in word: \n",
    "        if letter not in available:\n",
    "            return False\n",
    "    return True"
   ]
  },
  {
   "cell_type": "markdown",
   "id": "70d1b740",
   "metadata": {},
   "source": [
    "`uses_only` tcheke si tout lèt nan `word` se nan `available`.\n",
    "Avèk sets, nou ka reskri li konsa:"
   ]
  },
  {
   "cell_type": "code",
   "execution_count": null,
   "id": "e324604a",
   "metadata": {
    "lines_to_next_cell": 1
   },
   "outputs": [],
   "source": [
    "def uses_only(word, available):\n",
    "    return set(word) <= set(available)"
   ]
  },
  {
   "cell_type": "markdown",
   "id": "1f846467",
   "metadata": {},
   "source": [
    "Si lèt `word` yo se yon subset lèt `available` yo, sa vle di `word` itilize sèlman lèt nan `available`."
   ]
  },
  {
   "cell_type": "markdown",
   "id": "1caf1309",
   "metadata": {},
   "source": [
    "## Counters\n",
    "\n",
    "Python bay yon klas ki rele `Counter` ki sanble ak yon set, eksepte si yon eleman parèt plis pase yon fwa, `Counter` kenbe konbyen fwa li parèt.\n",
    "Si ou konnen ide matematik \"multiset\", yon `Counter` se yon bon fason pou reprezante multiset.\n",
    "\n",
    "Klas `Counter` la defini nan modil `collections`, donk ou dwe enpòte li.\n",
    "Apre sa ou ka itilize klas objè a kòm fonksyon epi pase yon chèn, lis, oswa sekans."
   ]
  },
  {
   "cell_type": "code",
   "execution_count": null,
   "id": "91680bf2",
   "metadata": {},
   "outputs": [],
   "source": [
    "from collections import Counter\n",
    "\n",
    "counter = Counter('banana')\n",
    "counter"
   ]
  },
  {
   "cell_type": "code",
   "execution_count": null,
   "id": "5073d401",
   "metadata": {},
   "outputs": [],
   "source": [
    "from collections import Counter\n",
    "\n",
    "t = (1, 1, 1, 2, 2, 3)\n",
    "counter = Counter(t)\n",
    "counter"
   ]
  },
  {
   "cell_type": "markdown",
   "id": "3accf7ae",
   "metadata": {},
   "source": [
    "Yon objè `Counter` sanble ak yon diksyonè ki map soti chak kle ak konbyen fwa li parèt.\n",
    "Menm jan an, kle yo dwe hashable.\n",
    "\n",
    "Diferan de diksyonè, `Counter` pa leve erè si ou aksede eleman ki pa la.\n",
    "Li retounen `0` pito."
   ]
  },
  {
   "cell_type": "code",
   "execution_count": null,
   "id": "811ca695",
   "metadata": {
    "lines_to_next_cell": 1
   },
   "outputs": [],
   "source": [
    "counter['d']"
   ]
  },
  {
   "cell_type": "markdown",
   "id": "ab7fcadb",
   "metadata": {},
   "source": [
    "Nou ka itilize `Counter` pou rezoud egzèsis Chapit 10 ki mande yon fonksyon ki pran de mo epi tcheke si yo anagram — sa vle di si lèt ki an youn ka reòganize pou eple lòt la.\n",
    "\n",
    "Men yon solisyon ak `Counter`."
   ]
  },
  {
   "cell_type": "code",
   "execution_count": null,
   "id": "6f1aceb1",
   "metadata": {
    "lines_to_next_cell": 1
   },
   "outputs": [],
   "source": [
    "def is_anagram(word1, word2):\n",
    "    return Counter(word1) == Counter(word2)"
   ]
  },
  {
   "cell_type": "markdown",
   "id": "1543c7f2",
   "metadata": {},
   "source": [
    "Si de mo se anagram, yo gen menm lèt ak menm konte, donk objè `Counter` yo ekivalan.\n",
    "\n",
    "`Counter` bay yon metòd `most_common` ki retounen lis pè valè-frekans triye soti pi komen rive mwens komen."
   ]
  },
  {
   "cell_type": "code",
   "execution_count": null,
   "id": "35c0b621",
   "metadata": {},
   "outputs": [],
   "source": [
    "counter.most_common()"
   ]
  },
  {
   "cell_type": "markdown",
   "id": "ae3b5ca9",
   "metadata": {},
   "source": [
    "Yo bay tou metòd ak operatè pou fè operasyon set, enkli adisyon, soustraksyon, inyon ak entèseksyon.\n",
    "Pa egzanp, operatè `+` konbine de objè `Counter` epi kreye nouvo `Counter` ki gen kle ki soti nan toude, ak sòm konte yo.\n",
    "\n",
    "Nou ka teste l pa fè yon `Counter` ak lèt `bans` epi ajoute lèt `banana`."
   ]
  },
  {
   "cell_type": "code",
   "execution_count": null,
   "id": "eec5303d",
   "metadata": {},
   "outputs": [],
   "source": [
    "counter2 = Counter('bans')\n",
    "counter + counter2"
   ]
  },
  {
   "cell_type": "markdown",
   "id": "6358c0ad",
   "metadata": {},
   "source": [
    "Ou pral gen chans pou eksplore lòt operasyon `Counter` yo an egzèsis fini chapit la."
   ]
  },
  {
   "cell_type": "markdown",
   "id": "4efe2414",
   "metadata": {},
   "source": [
    "## defaultdict\n",
    "\n",
    "Modil `collections` bay `defaultdict` tou, ki sanble ak yon diksyonè eksepte si ou aksede yon kle ki pa la, li kreye otomatikman yon nouvo valè.\n",
    "\n",
    "Lè ou kreye yon `defaultdict`, ou bay yon fonksyon ki itilize pou kreye nouvo valè.\n",
    "Yon fonksyon ki kreye objè rele pafwa yon **factory**.\n",
    "Fonksyon bati-an ki kreye lis, set, ak lòt tip ka itilize kòm factory.\n",
    "\n",
    "Pa egzanp, men yon `defaultdict` ki kreye nouvo `list` lè li bezwen."
   ]
  },
  {
   "cell_type": "code",
   "execution_count": null,
   "id": "5353078a",
   "metadata": {},
   "outputs": [],
   "source": [
    "from collections import defaultdict\n",
    "\n",
    "d = defaultdict(list)\n",
    "d"
   ]
  },
  {
   "cell_type": "markdown",
   "id": "eb41e6d9",
   "metadata": {},
   "source": [
    "Remake ke agiman an se `list`, ki se objè klas, pa `list()` ki se apèl fonksyon pou kreye nouvo lis.\n",
    "Fonksyon factory a pa rele sof si nou aksede yon kle ki pa la."
   ]
  },
  {
   "cell_type": "code",
   "execution_count": null,
   "id": "b97f507b",
   "metadata": {},
   "outputs": [],
   "source": [
    "t = d['new key']\n",
    "t"
   ]
  },
  {
   "cell_type": "markdown",
   "id": "b1a9f059",
   "metadata": {},
   "source": [
    "Nouvo lis `t` sa a ajoute tou an diksyonè a.\n",
    "Donk si nou modifye `t`, chanjman an parèt an `d`:"
   ]
  },
  {
   "cell_type": "code",
   "execution_count": null,
   "id": "7e8bb5bb",
   "metadata": {
    "lines_to_next_cell": 1
   },
   "outputs": [],
   "source": [
    "t.append('new value')\n",
    "d['new key']"
   ]
  },
  {
   "cell_type": "markdown",
   "id": "f9ca54a1",
   "metadata": {},
   "source": [
    "Si ou ap fè yon diksyonè lis, ou ka souvan ekri kod pi senp ak `defaultdict`.\n",
    "\n",
    "Nan egzèsis Chapit 11, nou te fè yon diksyonè ki map soti chèn lèt klase ak lis mo ki ka eple ak lèt sa yo.\n",
    "Pa egzanp, chèn `'opst'` map ak lis `['opts', 'post', 'pots', 'spot', 'stop', 'tops']`.\n",
    "Men kod orijinal la:"
   ]
  },
  {
   "cell_type": "code",
   "execution_count": null,
   "id": "ad7e7563",
   "metadata": {
    "lines_to_next_cell": 1
   },
   "outputs": [],
   "source": [
    "def all_anagrams(filename):\n",
    "    d = {}\n",
    "    for line in open(filename):\n",
    "        word = line.strip().lower()\n",
    "        t = signature(word)\n",
    "        if t not in d:\n",
    "            d[t] = [word]\n",
    "        else:\n",
    "            d[t].append(word)\n",
    "    return d"
   ]
  },
  {
   "cell_type": "markdown",
   "id": "43eb080b",
   "metadata": {},
   "source": [
    "Men vèsyon pi senp ak yon `defaultdict`."
   ]
  },
  {
   "cell_type": "code",
   "execution_count": null,
   "id": "46d32c53",
   "metadata": {
    "lines_to_next_cell": 1
   },
   "outputs": [],
   "source": [
    "def all_anagrams(filename):\n",
    "    d = defaultdict(list)\n",
    "    for line in open(filename):\n",
    "        word = line.strip().lower()\n",
    "        t = signature(word)\n",
    "        d[t].append(word)\n",
    "    return d"
   ]
  },
  {
   "cell_type": "markdown",
   "id": "a31c1fcf",
   "metadata": {},
   "source": [
    "Nan egzèsis fini chapit la, ou pral pratike itilize `defaultdict`."
   ]
  },
  {
   "cell_type": "code",
   "execution_count": null,
   "id": "7ffd602e",
   "metadata": {},
   "outputs": [],
   "source": [
    "from collections import defaultdict\n",
    "\n",
    "d = defaultdict(list)\n",
    "key = ('into', 'the')\n",
    "d[key].append('woods')\n",
    "d[key]"
   ]
  },
  {
   "cell_type": "markdown",
   "id": "65dc6a6a",
   "metadata": {},
   "source": [
    "## Ekspresyon kondisyonèl\n",
    "\n",
    "Deklarasyon kondisyonèl souvan itilize pou chwazi youn nan de valè, tankou sa a:"
   ]
  },
  {
   "cell_type": "code",
   "execution_count": null,
   "id": "5a514334",
   "metadata": {},
   "outputs": [],
   "source": [
    "import math\n",
    "x = 5"
   ]
  },
  {
   "cell_type": "code",
   "execution_count": null,
   "id": "fe8fe716",
   "metadata": {},
   "outputs": [],
   "source": [
    "if x > 0:\n",
    "    y = math.log(x)\n",
    "else:\n",
    "    y = float('nan')"
   ]
  },
  {
   "cell_type": "code",
   "execution_count": null,
   "id": "9b3c2e2a",
   "metadata": {},
   "outputs": [],
   "source": [
    "y"
   ]
  },
  {
   "cell_type": "markdown",
   "id": "e6456526",
   "metadata": {},
   "source": [
    "Deklarasyon sa a tcheke si `x` pozitif.\n",
    "Si se sa, li kalkile logarit li.\n",
    "Sinon, `math.log` ta leve ValueError.\n",
    "Pou evite pwogram lan kanpe, nou gen yon `NaN`, ki se yon valè espesyal sou flotan ki reprezante \"Not a Number\".\n",
    "\n",
    "Nou ka ekri deklarasyon sa a pi kout ak yon **ekspresyon kondisyonèl**:"
   ]
  },
  {
   "cell_type": "code",
   "execution_count": null,
   "id": "adbe1076",
   "metadata": {
    "lines_to_next_cell": 1
   },
   "outputs": [],
   "source": [
    "y = math.log(x) if x > 0 else float('nan')\n",
    "y"
   ]
  },
  {
   "cell_type": "markdown",
   "id": "4b183bd5",
   "metadata": {},
   "source": [
    "Ou ka preske li liy sa a an anglè: \"`y` pran log-`x` si `x` pi gran pase 0; sinon li pran `NaN`\".\n",
    "\n",
    "Fonksyon rekirisiv pafwa ka ekri pi kout ak ekspresyon kondisyonèl.\n",
    "Pa egzanp, men vèsyon `factorial` ak deklarasyon kondisyonèl:"
   ]
  },
  {
   "cell_type": "code",
   "execution_count": null,
   "id": "72d318fc",
   "metadata": {
    "lines_to_next_cell": 1
   },
   "outputs": [],
   "source": [
    "def factorial(n):\n",
    "    if n == 0:\n",
    "        return 1\n",
    "    else:\n",
    "        return n * factorial(n-1)"
   ]
  },
  {
   "cell_type": "markdown",
   "id": "89861a43",
   "metadata": {},
   "source": [
    "Men vèsyon ak ekspresyon kondisyonèl:"
   ]
  },
  {
   "cell_type": "code",
   "execution_count": null,
   "id": "40da57a8",
   "metadata": {
    "lines_to_next_cell": 1
   },
   "outputs": [],
   "source": [
    "def factorial(n):\n",
    "    return 1 if n == 0 else n * factorial(n-1)"
   ]
  },
  {
   "cell_type": "markdown",
   "id": "d339f09d",
   "metadata": {},
   "source": [
    "Yon lòt itilizasyon ekspresyon kondisyonèl se jere agiman opsyonèl.\n",
    "Pa egzanp, men yon definisyon klas ak metòd `__init__` ki itilize deklarasyon kondisyonèl pou tcheke paramèt ak valè pa defo."
   ]
  },
  {
   "cell_type": "code",
   "execution_count": null,
   "id": "e6b88532",
   "metadata": {
    "lines_to_next_cell": 1
   },
   "outputs": [],
   "source": [
    "class Kangaroo:\n",
    "    def __init__(self, name, contents=None):\n",
    "        self.name = name\n",
    "        if contents is None:\n",
    "            contents = []\n",
    "        self.contents = contents"
   ]
  },
  {
   "cell_type": "markdown",
   "id": "c78b1fdb",
   "metadata": {},
   "source": [
    "Men yon vèsyon ki itilize ekspresyon kondisyonèl:"
   ]
  },
  {
   "cell_type": "code",
   "execution_count": null,
   "id": "28fb5276",
   "metadata": {
    "lines_to_next_cell": 1
   },
   "outputs": [],
   "source": [
    "def __init__(self, name, contents=None):\n",
    "    self.name = name\n",
    "    self.contents = [] if contents is None else contents "
   ]
  },
  {
   "cell_type": "markdown",
   "id": "5a620010",
   "metadata": {},
   "source": [
    "An jeneral, ou ka ranplase deklarasyon kondisyonèl pa ekspresyon kondisyonèl si toude branch gen yon sel ekspresyon epi pa gen deklarasyon."
   ]
  },
  {
   "cell_type": "markdown",
   "id": "a2692f73",
   "metadata": {},
   "source": [
    "## List comprehension\n",
    "\n",
    "Nan chapit anvan yo, nou te wè kèk egzanp kote nou kòmanse ak yon lis vid epi ajoute eleman youn pa youn ak metòd `append`.\n",
    "Pa egzanp, sipoze nou gen yon chèn ki gen tit yon fim, epi nou vle kapitalize tout mo yo."
   ]
  },
  {
   "cell_type": "code",
   "execution_count": null,
   "id": "8e1fa34b",
   "metadata": {},
   "outputs": [],
   "source": [
    "title = 'monty python and the holy grail'"
   ]
  },
  {
   "cell_type": "markdown",
   "id": "14c092c1",
   "metadata": {},
   "source": [
    "Nou ka separe li an lis chèn, boukle sou chèn yo, kapitalize yo, epi ajoute yo an yon lis."
   ]
  },
  {
   "cell_type": "code",
   "execution_count": null,
   "id": "81c95aca",
   "metadata": {},
   "outputs": [],
   "source": [
    "t = []\n",
    "for word in title.split():\n",
    "    t.append(word.capitalize())\n",
    "\n",
    "' '.join(t)"
   ]
  },
  {
   "cell_type": "markdown",
   "id": "5f93cb71",
   "metadata": {},
   "source": [
    "Nou ka fè menm bagay la pi kout ak yon **list comprehension**:"
   ]
  },
  {
   "cell_type": "code",
   "execution_count": null,
   "id": "685090b7",
   "metadata": {},
   "outputs": [],
   "source": [
    "t = [word.capitalize() for word in title.split()]\n",
    "' '.join(t)"
   ]
  },
  {
   "cell_type": "markdown",
   "id": "dea27df4",
   "metadata": {},
   "source": [
    "Operatè bracket yo endike nou ap konstwi yon nouvo lis.\n",
    "Ekspresyon anndan bracket yo presize eleman lis la, ak klaoz `for` la endike sekans nou ap boukle sou li.\n",
    "\n",
    "Sentaks list comprehension lan ka sanble etranj, paske varyab bouk la — `word` nan egzanp sa a — parèt an ekspresyon anvan nou rive kote li defini.\n",
    "Men ou abitye ou.\n",
    "\n",
    "Kòm yon lòt egzanp, nan Chapit 9 nou te itilize bouk sa a pou li mo nan yon fichye epi ajoute yo an lis."
   ]
  },
  {
   "cell_type": "code",
   "execution_count": null,
   "id": "fb6dd7a3",
   "metadata": {},
   "outputs": [],
   "source": [
    "download('https://raw.githubusercontent.com/AllenDowney/ThinkPython2/master/code/words.txt');"
   ]
  },
  {
   "cell_type": "code",
   "execution_count": null,
   "id": "d8372716",
   "metadata": {},
   "outputs": [],
   "source": [
    "word_list = []\n",
    "\n",
    "for line in open('words.txt'):\n",
    "    word = line.strip()\n",
    "    word_list.append(word)"
   ]
  },
  {
   "cell_type": "code",
   "execution_count": null,
   "id": "3ea9f10c",
   "metadata": {},
   "outputs": [],
   "source": [
    "len(word_list)"
   ]
  },
  {
   "cell_type": "markdown",
   "id": "408de73f",
   "metadata": {},
   "source": [
    "Men kijan nou ka ekri sa ak list comprehension."
   ]
  },
  {
   "cell_type": "code",
   "execution_count": null,
   "id": "a7695b73",
   "metadata": {
    "lines_to_next_cell": 1
   },
   "outputs": [],
   "source": [
    "word_list = [line.strip() for line in open('words.txt')]\n",
    "len(word_list)"
   ]
  },
  {
   "cell_type": "markdown",
   "id": "b0d7baae",
   "metadata": {},
   "source": [
    "Yon list comprehension ka gen yon klaoz `if` ki detèmine ki eleman ki enkli.\n",
    "Pa egzanp, men bouk nou te itilize nan Chapit 10 pou fè lis mo ki palindrome."
   ]
  },
  {
   "cell_type": "code",
   "execution_count": null,
   "id": "6ed10e9f",
   "metadata": {
    "lines_to_next_cell": 1
   },
   "outputs": [],
   "source": [
    "def is_palindrome(word):\n",
    "    return list(reversed(word)) == list(word)"
   ]
  },
  {
   "cell_type": "code",
   "execution_count": null,
   "id": "66c654b5",
   "metadata": {},
   "outputs": [],
   "source": [
    "palindromes = []\n",
    "\n",
    "for word in word_list:\n",
    "    if is_palindrome(word):\n",
    "        palindromes.append(word)"
   ]
  },
  {
   "cell_type": "code",
   "execution_count": null,
   "id": "0b3f6e89",
   "metadata": {},
   "outputs": [],
   "source": [
    "palindromes[:10]"
   ]
  },
  {
   "cell_type": "markdown",
   "id": "fd122f44",
   "metadata": {},
   "source": [
    "Men kijan nou ka fè menm bagay la ak list comprehension."
   ]
  },
  {
   "cell_type": "code",
   "execution_count": null,
   "id": "2c12a3ab",
   "metadata": {},
   "outputs": [],
   "source": [
    "palindromes = [word for word in word_list if is_palindrome(word)]\n",
    "palindromes[:10]"
   ]
  },
  {
   "cell_type": "markdown",
   "id": "bf26d12c",
   "metadata": {},
   "source": [
    "Lè yon list comprehension itilize kòm agiman pou yon fonksyon, nou ka souvan retire bracket yo.\n",
    "Pa egzanp, sipoze nou vle ajoute $1 / 2^n$ pou valè $n$ soti 0 rive 9.\n",
    "Nou ka itilize list comprehension konsa:"
   ]
  },
  {
   "cell_type": "code",
   "execution_count": null,
   "id": "bb7b82bf",
   "metadata": {},
   "outputs": [],
   "source": [
    "sum([1/2**n for n in range(10)])"
   ]
  },
  {
   "cell_type": "markdown",
   "id": "3d7d036a",
   "metadata": {},
   "source": [
    "Oubyen nou ka retire bracket yo:"
   ]
  },
  {
   "cell_type": "code",
   "execution_count": null,
   "id": "dc64d201",
   "metadata": {},
   "outputs": [],
   "source": [
    "sum(1/2**n for n in range(10))"
   ]
  },
  {
   "cell_type": "markdown",
   "id": "2dbf73b1",
   "metadata": {},
   "source": [
    "Nan egzanp sa a, agiman an se teknikman yon **generator expression**, pa list comprehension, epi li pa janm kreye lis tout bon.\n",
    "Men apa de sa, konpòtman an menm.\n",
    "\n",
    "List comprehension ak generator expression konpak, efikas, epi fasil pou li, omwen pou ekspresyon senp.\n",
    "E anjeneral yo pi rapid pase bouk ekivalan yo, pafwa pi rapid anpil.\n",
    "Donk si ou fache poukisa mwen pat mansyone yo pi bonè, mwen konprann.\n",
    "\n",
    "Men, pou defann mwen, list comprehension pi difisil pou débogaj paske ou pa ka mete print anndan bouk la.\n",
    "Mwen konseye ou itilize yo sèlman si kalkil la senp ase pou ou pwobableman fè li kòrèk dèske premye fwa.\n",
    "Oubyen konsidere ekri ak teste yon bouk `for`, epi apre sa konvèti l an list comprehension."
   ]
  },
  {
   "cell_type": "markdown",
   "id": "f019c863",
   "metadata": {},
   "source": [
    "## `any` ak `all`\n",
    "\n",
    "Python bay yon fonksyon bati-an, `any`, ki pran yon sekans valè boulèn epi retounen `True` si nenpòt valè yo `True`."
   ]
  },
  {
   "cell_type": "code",
   "execution_count": null,
   "id": "fad50fe8",
   "metadata": {},
   "outputs": [],
   "source": [
    "any([False, False, True])"
   ]
  },
  {
   "cell_type": "markdown",
   "id": "f6d0fee3",
   "metadata": {},
   "source": [
    "`any` souvan itilize ak generator expression."
   ]
  },
  {
   "cell_type": "code",
   "execution_count": null,
   "id": "d5bfdaf1",
   "metadata": {
    "lines_to_next_cell": 1
   },
   "outputs": [],
   "source": [
    "any(letter == 't' for letter in 'monty')"
   ]
  },
  {
   "cell_type": "markdown",
   "id": "af257b1f",
   "metadata": {},
   "source": [
    "Egzanp sa a pa twò itil paske li fè menm bagay ak operatè `in`.\n",
    "Men nou te ka itilize `any` pou ekri solisyon egzèsis Chapit 7 pi kout.\n",
    "Pa egzanp, nou ka ekri `uses_none` konsa:"
   ]
  },
  {
   "cell_type": "code",
   "execution_count": null,
   "id": "a37a589c",
   "metadata": {
    "lines_to_next_cell": 1
   },
   "outputs": [],
   "source": [
    "def uses_none(word, forbidden):\n",
    "    \"\"\"Tcheke si yon mo evite lèt entèdi.\"\"\"\n",
    "    return not any(letter in forbidden for letter in word)"
   ]
  },
  {
   "cell_type": "code",
   "execution_count": null,
   "id": "1e73acf1",
   "metadata": {
    "lines_to_next_cell": 1
   },
   "outputs": [],
   "source": [
    "uses_none('banana', 'xyz'), uses_none('apple', 'efg')"
   ]
  },
  {
   "cell_type": "markdown",
   "id": "0dcea81e",
   "metadata": {},
   "source": [
    "Fonksyon sa a boukle sou lèt nan `word` epi tcheke si youn ladan yo nan `forbidden`.\n",
    "Itilize `any` ak generator expression efikas paske li sispann imedyatman si li jwenn `True`, donk li pa oblije boukle sou tout sekans lan.\n",
    "\n",
    "Python bay yon lòt fonksyon bati-an, `all`, ki retounen `True` si chak eleman sekans lan `True`.\n",
    "Nou ka itilize l pou ekri vèsyon kout `uses_all`."
   ]
  },
  {
   "cell_type": "code",
   "execution_count": null,
   "id": "cdadd882",
   "metadata": {
    "lines_to_next_cell": 1
   },
   "outputs": [],
   "source": [
    "def uses_all(word, required):\n",
    "    \"\"\"Tcheke si mo a itilize tout lèt required.\"\"\"\n",
    "    return all(letter in word for letter in required)"
   ]
  },
  {
   "cell_type": "code",
   "execution_count": null,
   "id": "83088d2b",
   "metadata": {
    "lines_to_next_cell": 1
   },
   "outputs": [],
   "source": [
    "uses_all('banana', 'ban'), uses_all('apple', 'api')"
   ]
  },
  {
   "cell_type": "markdown",
   "id": "6d6bd5fb",
   "metadata": {},
   "source": [
    "Ekspresyon ak `any` ak `all` ka konpak, efikas, epi fasil pou li."
   ]
  },
  {
   "cell_type": "markdown",
   "id": "240a676f",
   "metadata": {},
   "source": [
    "## Named tuples\n",
    "\n",
    "Modil `collections` bay yon fonksyon `namedtuple` ki ka itilize pou kreye klas senp.\n",
    "Pa egzanp, objè `Point` la nan Chapit 16 te gen sèlman de atribut, `x` ak `y`.\n",
    "Men kijan nou te defini li:"
   ]
  },
  {
   "cell_type": "code",
   "execution_count": null,
   "id": "8e54eff5",
   "metadata": {
    "lines_to_next_cell": 1
   },
   "outputs": [],
   "source": [
    "class Point:\n",
    "    \"\"\"Reprezante yon pwen nan espas 2-D.\"\"\"\n",
    "    \n",
    "    def __init__(self, x, y):\n",
    "        self.x = x\n",
    "        self.y = y\n",
    "        \n",
    "    def __str__(self):\n",
    "        return f'({self.x}, {self.y})'"
   ]
  },
  {
   "cell_type": "markdown",
   "id": "ee154c0d",
   "metadata": {},
   "source": [
    "Sa se anpil kod pou transmèt ti enfòmasyon.\n",
    "`namedtuple` bay yon fason pi kout pou defini klas konsa:"
   ]
  },
  {
   "cell_type": "code",
   "execution_count": null,
   "id": "67eb250d",
   "metadata": {},
   "outputs": [],
   "source": [
    "from collections import namedtuple\n",
    "\n",
    "Point = namedtuple('Point', ['x', 'y'])"
   ]
  },
  {
   "cell_type": "markdown",
   "id": "13ba0767",
   "metadata": {},
   "source": [
    "Premye agiman an se non klas ou vle kreye.\n",
    "Dezyèm lan se lis atribut objè `Point` yo dwe genyen.\n",
    "Rezilta a se yon objè klas, se pou sa li asiyen a yon non kapitalize.\n",
    "\n",
    "Yon klas kreye ak `namedtuple` bay metòd `__init__` ki asiyen valè a atribut yo ak `__str__` ki montre objè a an fòm lizib.\n",
    "Konsa nou ka kreye epi montre objè `Point` konsa:"
   ]
  },
  {
   "cell_type": "code",
   "execution_count": null,
   "id": "fbf49145",
   "metadata": {},
   "outputs": [],
   "source": [
    "p = Point(1, 2)\n",
    "p"
   ]
  },
  {
   "cell_type": "markdown",
   "id": "6e51df9c",
   "metadata": {},
   "source": [
    "`Point` bay tou metòd `__eq__` ki tcheke si de objè `Point` ekivalan — sa vle di si atribut yo menm."
   ]
  },
  {
   "cell_type": "code",
   "execution_count": null,
   "id": "2a39a710",
   "metadata": {},
   "outputs": [],
   "source": [
    "p == Point(1, 2)"
   ]
  },
  {
   "cell_type": "markdown",
   "id": "55113eab",
   "metadata": {},
   "source": [
    "Ou ka aksede eleman yon namedtuple pa non oswa endèks."
   ]
  },
  {
   "cell_type": "code",
   "execution_count": null,
   "id": "ed57ba16",
   "metadata": {},
   "outputs": [],
   "source": [
    "p.x, p.y"
   ]
  },
  {
   "cell_type": "code",
   "execution_count": null,
   "id": "c910d73c",
   "metadata": {},
   "outputs": [],
   "source": [
    "p[0], p[1]"
   ]
  },
  {
   "cell_type": "markdown",
   "id": "804ee12f",
   "metadata": {},
   "source": [
    "Ou ka tou trete yon namedtuple kòm yon tuple, jan assignman sa a fè."
   ]
  },
  {
   "cell_type": "code",
   "execution_count": null,
   "id": "6919cc7f",
   "metadata": {},
   "outputs": [],
   "source": [
    "x, y = p\n",
    "x, y"
   ]
  },
  {
   "cell_type": "markdown",
   "id": "23a77444",
   "metadata": {},
   "source": [
    "Men objè `namedtuple` yo imutabl.\n",
    "Apre atribut yo inisyalize, ou pa ka chanje yo."
   ]
  },
  {
   "cell_type": "code",
   "execution_count": null,
   "id": "61bf7a42",
   "metadata": {},
   "outputs": [],
   "source": [
    "%%expect TypeError\n",
    "\n",
    "p[0] = 3"
   ]
  },
  {
   "cell_type": "code",
   "execution_count": null,
   "id": "668acc5d",
   "metadata": {
    "lines_to_next_cell": 1
   },
   "outputs": [],
   "source": [
    "%%expect AttributeError\n",
    "\n",
    "p.x = 3"
   ]
  },
  {
   "cell_type": "markdown",
   "id": "639f3874",
   "metadata": {},
   "source": [
    "`namedtuple` bay yon fason rapid pou defini klas senp.\n",
    "Dezavantaj la se ke klas senp pa toujou rete senp.\n",
    "Ou ka deside pita ou vle ajoute metòd an yon namedtuple.\n",
    "Nan ka sa a, ou ka defini yon nouvo klas ki erit de named tuple la."
   ]
  },
  {
   "cell_type": "code",
   "execution_count": null,
   "id": "d0ad600a",
   "metadata": {
    "lines_to_next_cell": 1
   },
   "outputs": [],
   "source": [
    "class Pointier(Point):\n",
    "    \"\"\"Klas sa a erit de Point\"\"\""
   ]
  },
  {
   "cell_type": "markdown",
   "id": "a1f81e25",
   "metadata": {},
   "source": [
    "Oubyen ou te ka pase an yon definisyon klas konvansyonèl."
   ]
  },
  {
   "cell_type": "markdown",
   "id": "ebad40e0",
   "metadata": {},
   "source": [
    "## Ranfò ak déranfò agiman mo kle\n",
    "\n",
    "Nan Chapit 11, nou te ekri yon fonksyon ki \"pack\" agiman li yo an yon tuple."
   ]
  },
  {
   "cell_type": "code",
   "execution_count": null,
   "id": "65e20690",
   "metadata": {
    "lines_to_next_cell": 1
   },
   "outputs": [],
   "source": [
    "def mean(*args):\n",
    "    return sum(args) / len(args)"
   ]
  },
  {
   "cell_type": "code",
   "execution_count": null,
   "id": "10bf293f",
   "metadata": {},
   "outputs": [],
   "source": [
    "mean(1, 2, 3)"
   ]
  },
  {
   "cell_type": "markdown",
   "id": "f1106ace",
   "metadata": {},
   "source": [
    "Ou ka rele fonksyon sa a ak nenpòt kantite agiman.\n",
    "\n",
    "Men operatè `*` pa pack agiman mo kle.\n",
    "Si ou rele fonksyon an ak agiman mo kle, sa lakòz erè."
   ]
  },
  {
   "cell_type": "code",
   "execution_count": null,
   "id": "8e2575f4",
   "metadata": {
    "lines_to_next_cell": 1
   },
   "outputs": [],
   "source": [
    "%%expect TypeError\n",
    "\n",
    "mean(1, 2, start=3)"
   ]
  },
  {
   "cell_type": "markdown",
   "id": "3714b4d5",
   "metadata": {},
   "source": [
    "Pou pack agiman mo kle, nou ka itilize operatè `**`:"
   ]
  },
  {
   "cell_type": "code",
   "execution_count": null,
   "id": "f55428ec",
   "metadata": {
    "lines_to_next_cell": 1
   },
   "outputs": [],
   "source": [
    "def mean(*args, **kwargs):\n",
    "    print(kwargs)\n",
    "    return sum(args) / len(args)"
   ]
  },
  {
   "cell_type": "markdown",
   "id": "ad4485d0",
   "metadata": {},
   "source": [
    "Paramèt packing mo kle a ka gen nenpòt non, men `kwargs` se chwa komen.\n",
    "Rezilta a se yon diksyonè ki map soti mo kle ak valè."
   ]
  },
  {
   "cell_type": "code",
   "execution_count": null,
   "id": "800eda28",
   "metadata": {
    "lines_to_next_cell": 1
   },
   "outputs": [],
   "source": [
    "mean(1, 2, start=3)"
   ]
  },
  {
   "cell_type": "markdown",
   "id": "691d5830",
   "metadata": {},
   "source": [
    "Nan egzanp sa a, valè `kwargs` enprime, men sinon pa gen efè.\n",
    "\n",
    "Men operatè `**` ka tou itilize an lis agiman pou \"unpack\" yon diksyonè.\n",
    "Pa egzanp, men vèsyon `mean` ki pack agiman mo kle li yo epi apre sa unpack yo kòm agiman mo kle pou `sum`."
   ]
  },
  {
   "cell_type": "code",
   "execution_count": null,
   "id": "38730084",
   "metadata": {
    "lines_to_next_cell": 1
   },
   "outputs": [],
   "source": [
    "def mean(*args, **kwargs):\n",
    "    return sum(args, **kwargs) / len(args)"
   ]
  },
  {
   "cell_type": "markdown",
   "id": "733270b5",
   "metadata": {},
   "source": [
    "Kounye a si nou rele `mean` ak `start` kòm mo kle, li pase li bay sum, ki itilize li kòm pwen depa sòm lan.\n",
    "Nan egzanp sa a, `start=3` ajoute `3` sou sòm lan anvan li kalkile mwayèn, donk sòm lan se `6` epi rezilta a se `3`."
   ]
  },
  {
   "cell_type": "code",
   "execution_count": null,
   "id": "979676b1",
   "metadata": {},
   "outputs": [],
   "source": [
    "mean(1, 2, start=3)"
   ]
  },
  {
   "cell_type": "markdown",
   "id": "190e73ef",
   "metadata": {},
   "source": [
    "Pa egzanp, si nou gen yon diksyonè ak kle `x` ak `y`, nou ka itilize `**` pou kreye yon objè `Point`."
   ]
  },
  {
   "cell_type": "code",
   "execution_count": null,
   "id": "0a14c5a6",
   "metadata": {},
   "outputs": [],
   "source": [
    "d = dict(x=1, y=2)\n",
    "Point(**d)"
   ]
  },
  {
   "cell_type": "markdown",
   "id": "c3267ff2",
   "metadata": {},
   "source": [
    "San operatè `**`, `d` ta trete kòm yon sel agiman pozisyonèl, donk li asiyen a `x`, epi nou jwenn `TypeError` paske pa gen dezyèm agiman pou `y`."
   ]
  },
  {
   "cell_type": "code",
   "execution_count": null,
   "id": "fa551a5a",
   "metadata": {
    "lines_to_next_cell": 1
   },
   "outputs": [],
   "source": [
    "%%expect TypeError\n",
    "\n",
    "d = dict(x=1, y=2)\n",
    "Point(d)"
   ]
  },
  {
   "cell_type": "markdown",
   "id": "0d8c6e15",
   "metadata": {},
   "source": [
    "Lè ou ap travay ak fonksyon ki gen anpil agiman mo kle, souvan itil pou kreye ak pase diksyonè ki presize opsyon w itilize souvan.\n",
    "\n",
    "`**` ka fè kod pi fleksib ak lis."
   ]
  },
  {
   "cell_type": "code",
   "execution_count": null,
   "id": "e4dc4ba3",
   "metadata": {
    "lines_to_next_cell": 1
   },
   "outputs": [],
   "source": [
    "def pack_and_print(**kwargs):\n",
    "    print(kwargs)\n",
    "    \n",
    "pack_and_print(a=1, b=2)"
   ]
  },
  {
   "cell_type": "markdown",
   "id": "e3abbe9f",
   "metadata": {},
   "source": [
    "## Débogaj\n",
    "\n",
    "Nan chapit anvan yo, nou te itilize `doctest` pou teste fonksyon.\n",
    "Pa egzanp, men yon fonksyon ki rele `add` ki pran de nimewo epi retounen sòm yo.\n",
    "Li gen yon doctest ki tcheke si `2 + 2` se `4`."
   ]
  },
  {
   "cell_type": "code",
   "execution_count": null,
   "id": "5b116120",
   "metadata": {
    "lines_to_next_cell": 1
   },
   "outputs": [],
   "source": [
    "def add(a, b):\n",
    "    '''Add two numbers.\n",
    "    \n",
    "    >>> add(2, 2)\n",
    "    4\n",
    "    '''\n",
    "    return a + b"
   ]
  },
  {
   "cell_type": "markdown",
   "id": "e4b7a707",
   "metadata": {},
   "source": [
    "Fonksyon sa a pran yon objè fonksyon epi kouri doctest li yo."
   ]
  },
  {
   "cell_type": "code",
   "execution_count": null,
   "id": "2369906b",
   "metadata": {
    "lines_to_next_cell": 1
   },
   "outputs": [],
   "source": [
    "from doctest import run_docstring_examples\n",
    "\n",
    "def run_doctests(func):\n",
    "    run_docstring_examples(func, globals(), name=func.__name__)"
   ]
  },
  {
   "cell_type": "markdown",
   "id": "d50756e7",
   "metadata": {},
   "source": [
    "Konsa nou ka teste `add` konsa:"
   ]
  },
  {
   "cell_type": "code",
   "execution_count": null,
   "id": "0087520c",
   "metadata": {},
   "outputs": [],
   "source": [
    "run_doctests(add)"
   ]
  },
  {
   "cell_type": "markdown",
   "id": "417bbbad",
   "metadata": {},
   "source": [
    "Pa gen soti, sa vle di tout tès pase.\n",
    "\n",
    "Python bay yon lòt zouti pou kouri tès otomatik, ki rele `unittest`.\n",
    "Li piti kras pi konplike pou itilize, men men yon egzanp."
   ]
  },
  {
   "cell_type": "code",
   "execution_count": null,
   "id": "818684ce",
   "metadata": {
    "lines_to_next_cell": 1
   },
   "outputs": [],
   "source": [
    "from unittest import TestCase\n",
    "\n",
    "class TestExample(TestCase):\n",
    "\n",
    "    def test_add(self):\n",
    "        result = add(2, 2)\n",
    "        self.assertEqual(result, 4)"
   ]
  },
  {
   "cell_type": "markdown",
   "id": "4ee804b6",
   "metadata": {},
   "source": [
    "Nou enpòte `TestCase`, ki se yon klas an modil `unittest`.\n",
    "Pou itilize l, nou dwe defini yon nouvo klas ki erit de `TestCase` epi bay omwen yon metòd tès.\n",
    "Non metòd tès la dwe kòmanse ak `test` ak dwe endike ki fonksyon li teste.\n",
    "\n",
    "Nan egzanp sa a, `test_add` teste fonksyon `add` lan pa rele li, sove rezilta, epi envoke `assertEqual`, ki erit de `TestCase`.\n",
    "`assertEqual` pran de agiman epi tcheke si yo egal.\n",
    "\n",
    "Pou kouri metòd tès sa a, nou dwe kouri yon fonksyon an `unittest` ki rele `main` ak plizyè agiman mo kle.\n",
    "Fonksyon ki anba a montre detay — si ou curye, ou ka mande asistan vityèl esplike kijan li mache."
   ]
  },
  {
   "cell_type": "code",
   "execution_count": null,
   "id": "9e76f4e7",
   "metadata": {
    "lines_to_next_cell": 1
   },
   "outputs": [],
   "source": [
    "import unittest\n",
    "\n",
    "def run_unittest():\n",
    "    unittest.main(argv=[''], verbosity=0, exit=False)"
   ]
  },
  {
   "cell_type": "markdown",
   "id": "f347a4b4",
   "metadata": {},
   "source": [
    "`run_unittest` pa pran `TestExample` kòm agiman — li chèche klas ki erit de `TestCase`.\n",
    "Apre sa li chèche metòd ki kòmanse ak `test` epi kouri yo.\n",
    "Pwosesis sa rele **test discovery**.\n",
    "\n",
    "Men sa k rive lè nou rele `run_unittest`:"
   ]
  },
  {
   "cell_type": "code",
   "execution_count": null,
   "id": "042f2dc8",
   "metadata": {},
   "outputs": [],
   "source": [
    "run_unittest()"
   ]
  },
  {
   "cell_type": "markdown",
   "id": "d6decf80",
   "metadata": {},
   "source": [
    "`unittest.main` rapòte konbyen tès li kouri ak rezilta yo.\n",
    "`OK` vle di tès yo pase.\n",
    "\n",
    "Pou wè sa k rive lè tès pa pase, nou pral ajoute yon metòd tès ineksak an `TestExample`."
   ]
  },
  {
   "cell_type": "code",
   "execution_count": null,
   "id": "6bb617ed",
   "metadata": {},
   "outputs": [],
   "source": [
    "%%add_method_to TestExample\n",
    "\n",
    "    def test_add_broken(self):\n",
    "        result = add(2, 2)\n",
    "        self.assertEqual(result, 100)"
   ]
  },
  {
   "cell_type": "markdown",
   "id": "77f0bb90",
   "metadata": {},
   "source": [
    "Men sa k rive lè nou kouri tès yo."
   ]
  },
  {
   "cell_type": "code",
   "execution_count": null,
   "id": "7dd23492",
   "metadata": {},
   "outputs": [],
   "source": [
    "run_unittest()"
   ]
  },
  {
   "cell_type": "markdown",
   "id": "b61ea9b6",
   "metadata": {},
   "source": [
    "Rapò a gen metòd tès ki pa pase a ak mesaj erè.\n",
    "Rezime a endike ke de tès kouri epi youn pa pase.\n",
    "\n",
    "Nan egzèsis ki fini chapit la, m ap sijere kèk prompt pou mande asistan vityèl plis enfòmasyon sou `unittest`."
   ]
  },
  {
   "cell_type": "markdown",
   "id": "6acdecfd",
   "metadata": {},
   "source": [
    "## Glosè\n",
    "\n",
    "**factory:**\n",
    " Yon fonksyon ki itilize pou kreye objè, souvan pase kòm paramèt bay yon fonksyon.\n",
    "\n",
    "**expresyon kondisyonèl (conditional expression):**\n",
    "Yon ekspresyon ki itilize yon kondisyon pou chwazi youn nan de valè.\n",
    "\n",
    "**list comprehension:**\n",
    "Yon fason konpak pou boukle sou yon sekans epi kreye yon lis.\n",
    "\n",
    "**generator expression:**\n",
    "Sanble ak list comprehension men li pa kreye lis.\n",
    "\n",
    "**test discovery:**\n",
    "Yon pwosesis pou jwenn ak kouri tès."
   ]
  },
  {
   "cell_type": "markdown",
   "id": "eb8e344b",
   "metadata": {},
   "source": [
    "## Egzèsis"
   ]
  },
  {
   "cell_type": "code",
   "execution_count": null,
   "id": "0c38d5d4",
   "metadata": {
    "lines_to_next_cell": 1
   },
   "outputs": [],
   "source": [
    "# Liy sa a di Jupyter pou bay enfòmasyon detaye sou erè execisyon\n",
    "# lè erè rive. Kouri li anvan ou travay sou egzèsis yo.\n",
    "\n",
    "%xmode Verbose"
   ]
  },
  {
   "cell_type": "markdown",
   "id": "98eb11bc",
   "metadata": {},
   "source": [
    "### Mande yon asistan vityèl\n",
    "\n",
    "Gen kèk sijè nan chapit sa a ou ta ka vle aprann plis.\n",
    "Men kèk kesyon pou mande yon AI.\n",
    "\n",
    "* \"Ki metòd ak operatè klas set Python la gen?\"\n",
    "\n",
    "* \"Ki metòd ak operatè klas Counter Python la gen?\"\n",
    "\n",
    "* \"Ki diferans ki genyen ant list comprehension ak generator expression an Python?\"\n",
    "\n",
    "* \"Kilè pou m itilize `namedtuple` Python olye mwen defini yon nouvo klas?\"\n",
    "\n",
    "* \"Ki itilizasyon pou pack ak unpack agiman mo kle?\"\n",
    "\n",
    "* \"Kijan `unittest` fè test discovery?\"\n",
    "\n",
    "* \"Anplis `assertEqual`, ki metòd ki pi souvan itilize an `unittest.TestCase`?\"\n",
    "\n",
    "* \"Ki avantaj ak dezavantaj `doctest` ak `unittest`?\"\n",
    "\n",
    "Pou egzèsis ki anba yo, konsidere mande yon AI pou èd, men toujou sonje teste rezilta yo."
   ]
  },
  {
   "cell_type": "markdown",
   "id": "4c681201",
   "metadata": {},
   "source": [
    "### Egzèsis\n",
    "\n",
    "Youn nan egzèsis Chapit 7 te mande yon fonksyon `uses_none` ki pran yon mo ak yon chèn lèt entèdi, epi retounen `True` si mo a pa itilize okenn lèt sa yo.\n",
    "Men yon solisyon:"
   ]
  },
  {
   "cell_type": "code",
   "execution_count": null,
   "id": "bbe77c7a",
   "metadata": {
    "lines_to_next_cell": 1
   },
   "outputs": [],
   "source": [
    "def uses_none(word, forbidden):\n",
    "    for letter in word.lower():\n",
    "        if letter in forbidden.lower():\n",
    "            return False\n",
    "    return True"
   ]
  },
  {
   "cell_type": "markdown",
   "id": "81d9d943",
   "metadata": {},
   "source": [
    "Ekri yon vèsyon fonksyon sa a ki itilize operasyon set olye de bouk.\n",
    "Sijesyon: mande yon AI \"Kijan pou m kalkile entèseksyon set Python?\""
   ]
  },
  {
   "cell_type": "markdown",
   "id": "ab3bfa4e",
   "metadata": {},
   "source": [
    "Ou ka itilize estrikti sa a pou kòmanse."
   ]
  },
  {
   "cell_type": "code",
   "execution_count": null,
   "id": "75543afe",
   "metadata": {
    "lines_to_next_cell": 1
   },
   "outputs": [],
   "source": [
    "def uses_none(word, forbidden):\n",
    "    \"\"\"Tcheke si yon mo evite lèt entèdi.\n",
    "    \n",
    "    >>> uses_none('banana', 'xyz')\n",
    "    True\n",
    "    >>> uses_none('apple', 'efg')\n",
    "    False\n",
    "    >>> uses_none('', 'abc')\n",
    "    True\n",
    "    \"\"\"\n",
    "    return False"
   ]
  },
  {
   "cell_type": "code",
   "execution_count": null,
   "id": "dc8e3bde",
   "metadata": {},
   "outputs": [],
   "source": [
    "# Solisyon an antre la"
   ]
  },
  {
   "cell_type": "code",
   "execution_count": null,
   "id": "c979bc73",
   "metadata": {
    "lines_to_next_cell": 1
   },
   "outputs": [],
   "source": [
    "from doctest import run_docstring_examples\n",
    "\n",
    "def run_doctests(func):\n",
    "    run_docstring_examples(func, globals(), name=func.__name__)"
   ]
  },
  {
   "cell_type": "code",
   "execution_count": null,
   "id": "cd51d465",
   "metadata": {
    "lines_to_next_cell": 1
   },
   "outputs": [],
   "source": [
    "run_doctests(uses_none)"
   ]
  },
  {
   "cell_type": "markdown",
   "id": "e1db740b",
   "metadata": {},
   "source": [
    "### Egzèsis\n",
    "\n",
    "Scrabble se yon jwèt kote objektif la se itilize plak lèt pou eple mo.\n",
    "Pa egzanp, si nou gen plak ak lèt `T`, `A`, `B`, `L`, `E`, nou ka eple `BELT` ak `LATE` ak yon subset plak yo — men nou pa ka eple `BEET` paske nou pa gen de `E`.\n",
    "\n",
    "Ekri yon fonksyon ki pran yon chèn lèt ak yon mo, epi tcheke si lèt yo ka eple mo a, pran an kont konbyen fwa chak lèt parèt."
   ]
  },
  {
   "cell_type": "markdown",
   "id": "bb6199f2",
   "metadata": {},
   "source": [
    "Ou ka itilize estrikti sa a pou kòmanse."
   ]
  },
  {
   "cell_type": "code",
   "execution_count": null,
   "id": "9d369ac9",
   "metadata": {
    "lines_to_next_cell": 1
   },
   "outputs": [],
   "source": [
    "def can_spell(letters, word):\n",
    "    \"\"\"Tcheke si lèt yo ka eple mo a.\n",
    "    \n",
    "    >>> can_spell('table', 'belt')\n",
    "    True\n",
    "    >>> can_spell('table', 'late')\n",
    "    True\n",
    "    >>> can_spell('table', 'beet')\n",
    "    False\n",
    "    \"\"\"\n",
    "    return False"
   ]
  },
  {
   "cell_type": "code",
   "execution_count": null,
   "id": "e3a709b8",
   "metadata": {},
   "outputs": [],
   "source": [
    "# Solisyon an antre la"
   ]
  },
  {
   "cell_type": "code",
   "execution_count": null,
   "id": "2ca9ef4b",
   "metadata": {
    "lines_to_next_cell": 1
   },
   "outputs": [],
   "source": [
    "run_doctests(can_spell)"
   ]
  },
  {
   "cell_type": "markdown",
   "id": "ba26990d",
   "metadata": {},
   "source": [
    "### Egzèsis\n",
    "\n",
    "Nan youn nan egzèsis Chapit 17, solisyon `has_straightflush` mwen itilize metòd sa a, ki divize `PokerHand` an lis kat men, kote chak men gen kat suit la menm."
   ]
  },
  {
   "cell_type": "code",
   "execution_count": null,
   "id": "9fcb64c6",
   "metadata": {
    "lines_to_next_cell": 1
   },
   "outputs": [],
   "source": [
    "    def partition(self):\n",
    "        \"\"\"Fè yon lis kat men, chak gen sèlman youn suit.\"\"\"\n",
    "        hands = []\n",
    "        for i in range(4):\n",
    "            hands.append(PokerHand())\n",
    "            \n",
    "        for card in self.cards:\n",
    "            hands[card.suit].add_card(card)\n",
    "            \n",
    "        return hands"
   ]
  },
  {
   "cell_type": "markdown",
   "id": "b2f07682",
   "metadata": {},
   "source": [
    "Ekri yon vèsyon pi senp fonksyon sa a ak `defaultdict`."
   ]
  },
  {
   "cell_type": "markdown",
   "id": "28fe1dd1",
   "metadata": {},
   "source": [
    "Men estrikti klas `PokerHand` ak fonksyon `partition_suits` pou ou kòmanse."
   ]
  },
  {
   "cell_type": "code",
   "execution_count": null,
   "id": "807d91e3",
   "metadata": {
    "lines_to_next_cell": 1
   },
   "outputs": [],
   "source": [
    "class PokerHand(Hand):\n",
    "    \n",
    "    def partition(self):\n",
    "        return {}"
   ]
  },
  {
   "cell_type": "code",
   "execution_count": null,
   "id": "da48bfce",
   "metadata": {},
   "outputs": [],
   "source": [
    "# Solisyon an antre la"
   ]
  },
  {
   "cell_type": "markdown",
   "id": "c125d4f9",
   "metadata": {},
   "source": [
    "Pou teste kod ou, nou pral fè yon deck epi brase li."
   ]
  },
  {
   "cell_type": "code",
   "execution_count": null,
   "id": "7ff9ee36",
   "metadata": {},
   "outputs": [],
   "source": [
    "cards = Deck.make_cards()\n",
    "deck = Deck(cards)\n",
    "deck.shuffle()"
   ]
  },
  {
   "cell_type": "markdown",
   "id": "02f8eb7f",
   "metadata": {},
   "source": [
    "Lè sa a kreye yon `PokerHand` ak ajoute sèt kat."
   ]
  },
  {
   "cell_type": "code",
   "execution_count": null,
   "id": "8e1e0afc",
   "metadata": {},
   "outputs": [],
   "source": [
    "random_hand = PokerHand('random')\n",
    "\n",
    "for i in range(7):\n",
    "    card = deck.pop_card()\n",
    "    random_hand.add_card(card)\n",
    "    \n",
    "print(random_hand)"
   ]
  },
  {
   "cell_type": "markdown",
   "id": "465bafea",
   "metadata": {},
   "source": [
    "Si ou envoke `partition` epi enprime rezilta yo, chak men ta dwe gen kat ak yon sel suit."
   ]
  },
  {
   "cell_type": "code",
   "execution_count": null,
   "id": "7bfe2734",
   "metadata": {
    "lines_to_next_cell": 1
   },
   "outputs": [],
   "source": [
    "hand_dict = random_hand.partition()\n",
    "\n",
    "for hand in hand_dict.values():\n",
    "    print(hand)\n",
    "    print()"
   ]
  },
  {
   "cell_type": "markdown",
   "id": "7ec2bc51",
   "metadata": {},
   "source": [
    "### Egzèsis\n",
    "\n",
    "Men fonksyon chapit 11 ki kalkile nombre Fibonacci rekirisivman."
   ]
  },
  {
   "cell_type": "code",
   "execution_count": null,
   "id": "9c0374dc",
   "metadata": {
    "lines_to_next_cell": 1
   },
   "outputs": [],
   "source": [
    "def fibonacci(n):\n",
    "    if n == 0:\n",
    "        return 0\n",
    "    \n",
    "    if n == 1:\n",
    "        return 1\n",
    "\n",
    "    return fibonacci(n-1) + fibonacci(n-2)"
   ]
  },
  {
   "cell_type": "markdown",
   "id": "ff53e85b",
   "metadata": {},
   "source": [
    "Ekri yon vèsyon fonksyon sa a ak yon sel return statement ki itilize de ekspresyon kondisyonèl, youn anndan lòt."
   ]
  },
  {
   "cell_type": "code",
   "execution_count": null,
   "id": "11453787",
   "metadata": {},
   "outputs": [],
   "source": [
    "# Solisyon an antre la"
   ]
  },
  {
   "cell_type": "code",
   "execution_count": null,
   "id": "1b559a1f",
   "metadata": {},
   "outputs": [],
   "source": [
    "fibonacci(10)    # ta dwe 55"
   ]
  },
  {
   "cell_type": "code",
   "execution_count": null,
   "id": "535e269a",
   "metadata": {
    "lines_to_next_cell": 1
   },
   "outputs": [],
   "source": [
    "fibonacci(20)    # ta dwe 6765"
   ]
  },
  {
   "cell_type": "markdown",
   "id": "d511b35d",
   "metadata": {},
   "source": [
    "### Egzèsis\n",
    "Fonksyon sa a kalkile koefisyan binomial rekirisivman:"
   ]
  },
  {
   "cell_type": "code",
   "execution_count": null,
   "id": "e65d1bd6",
   "metadata": {
    "lines_to_next_cell": 1
   },
   "outputs": [],
   "source": [
    "def binomial_coeff(n, k):\n",
    "    \"\"\"Kalkile koefisyan binomial \"n choose k\".\n",
    "    \n",
    "    n: nombre esè\n",
    "    k: nombre siksè\n",
    "    \n",
    "    retounen: int\n",
    "    \"\"\"\n",
    "    if k == 0:\n",
    "        return 1\n",
    "    \n",
    "    if n == 0:\n",
    "        return 0\n",
    "\n",
    "    return binomial_coeff(n-1, k) + binomial_coeff(n-1, k-1)"
   ]
  },
  {
   "cell_type": "markdown",
   "id": "4566fdc8",
   "metadata": {},
   "source": [
    "Reskri kò fonksyon an ak ekspresyon kondisyonèl anbraye.\n",
    "\n",
    "Fonksyon sa a pa efikas anpil paske li redondan kalkile menm valè plizyè fwa.\n",
    "Fè li pi efikas pa memoize li, jan nou te eksplike nan Chapit 10."
   ]
  },
  {
   "cell_type": "code",
   "execution_count": null,
   "id": "3bf9b44e",
   "metadata": {},
   "outputs": [],
   "source": [
    "# Solisyon an antre la"
   ]
  },
  {
   "cell_type": "code",
   "execution_count": null,
   "id": "c8e2ba08",
   "metadata": {},
   "outputs": [],
   "source": [
    "binomial_coeff(10, 4)    # ta dwe 210"
   ]
  },
  {
   "cell_type": "markdown",
   "id": "d027cb17",
   "metadata": {},
   "source": [
    "### Egzèsis\n",
    "\n",
    "Men metòd `__str__` soti nan klas `Deck` Chapit 17:"
   ]
  },
  {
   "cell_type": "code",
   "execution_count": null,
   "id": "444bd6fb",
   "metadata": {},
   "outputs": [],
   "source": [
    "%%add_method_to Deck\n",
    "\n",
    "    def __str__(self):\n",
    "        res = []\n",
    "        for card in self.cards:\n",
    "            res.append(str(card))\n",
    "        return '\\n'.join(res)"
   ]
  },
  {
   "cell_type": "markdown",
   "id": "7fae2252",
   "metadata": {},
   "source": [
    "Ekri yon vèsyon metòd sa a pi kout ak list comprehension oswa generator expression."
   ]
  },
  {
   "cell_type": "code",
   "execution_count": null,
   "id": "e5d0d5df",
   "metadata": {},
   "outputs": [],
   "source": [
    "# Solisyon an antre la"
   ]
  },
  {
   "cell_type": "markdown",
   "id": "cb2f5307",
   "metadata": {},
   "source": [
    "Ou ka itilize egzanp sa a pou teste solisyon ou."
   ]
  },
  {
   "cell_type": "code",
   "execution_count": null,
   "id": "af2ae998",
   "metadata": {},
   "outputs": [],
   "source": [
    "cards = Deck.make_cards()\n",
    "deck = Deck(cards)\n",
    "print(deck)"
   ]
  },
  {
   "cell_type": "code",
   "execution_count": null,
   "id": "dff191bc",
   "metadata": {},
   "outputs": [],
   "source": []
  }
 ],
 "metadata": {
  "jupytext": {
   "cell_metadata_filter": "-all",
   "main_language": "python",
   "notebook_metadata_filter": "-all"
  },
  "language_info": {
   "name": "python"
  }
 },
 "nbformat": 4,
 "nbformat_minor": 5
}
